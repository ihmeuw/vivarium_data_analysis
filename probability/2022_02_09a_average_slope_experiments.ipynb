{
 "cells": [
  {
   "cell_type": "code",
   "execution_count": 1,
   "id": "df841d1a",
   "metadata": {},
   "outputs": [
    {
     "name": "stdout",
     "output_type": "stream",
     "text": [
      "Wed Feb  9 23:10:51 PST 2022\n",
      "ndbs\n",
      "/Users/ndbs/notebooks\n"
     ]
    }
   ],
   "source": [
    "import numpy as np, pandas as pd, matplotlib.pyplot as plt\n",
    "import statsmodels.api as sm\n",
    "import statsmodels.formula.api as smf\n",
    "import scipy.stats as stats\n",
    "\n",
    "!date\n",
    "!whoami\n",
    "!pwd"
   ]
  },
  {
   "cell_type": "code",
   "execution_count": 3,
   "id": "9c62abec",
   "metadata": {},
   "outputs": [
    {
     "data": {
      "text/plain": [
       "array([10. ,  9.2,  7.5,  6.1,  4. ,  3. ,  1. ])"
      ]
     },
     "execution_count": 3,
     "metadata": {},
     "output_type": "execute_result"
    }
   ],
   "source": [
    "a = np.array([10, 9.2, 7.5, 6.1, 4, 3, 1])\n",
    "a"
   ]
  },
  {
   "cell_type": "code",
   "execution_count": 9,
   "id": "04a51157",
   "metadata": {},
   "outputs": [
    {
     "data": {
      "text/plain": [
       "array([-0.8, -1.7, -1.4, -2.1, -1. , -2. ])"
      ]
     },
     "execution_count": 9,
     "metadata": {},
     "output_type": "execute_result"
    }
   ],
   "source": [
    "def diffs(x):\n",
    "    return x[1:]-x[:-1]\n",
    "\n",
    "def mean_diff1(x):\n",
    "    # Makes a telescoping sum, simplifying to mean_diffs2 below\n",
    "    return diffs(x).mean()\n",
    "\n",
    "def mean_diff2(x):\n",
    "    return (x[-1]-x[0])/(len(x)-1)\n",
    "\n",
    "diffs(a)"
   ]
  },
  {
   "cell_type": "code",
   "execution_count": 6,
   "id": "1990d9be",
   "metadata": {},
   "outputs": [
    {
     "data": {
      "text/plain": [
       "-1.5"
      ]
     },
     "execution_count": 6,
     "metadata": {},
     "output_type": "execute_result"
    }
   ],
   "source": [
    "# equals (a[-1]-a[0])/(len(a)-1)\n",
    "diffs(a).mean()"
   ]
  },
  {
   "cell_type": "code",
   "execution_count": 12,
   "id": "8419fab6",
   "metadata": {},
   "outputs": [
    {
     "data": {
      "text/plain": [
       "7"
      ]
     },
     "execution_count": 12,
     "metadata": {},
     "output_type": "execute_result"
    }
   ],
   "source": [
    "len(a)"
   ]
  },
  {
   "cell_type": "code",
   "execution_count": 8,
   "id": "3491a059",
   "metadata": {},
   "outputs": [
    {
     "data": {
      "text/plain": [
       "1.5"
      ]
     },
     "execution_count": 8,
     "metadata": {},
     "output_type": "execute_result"
    }
   ],
   "source": [
    "(10-1)/6"
   ]
  },
  {
   "cell_type": "code",
   "execution_count": 13,
   "id": "afba364a",
   "metadata": {},
   "outputs": [
    {
     "data": {
      "text/plain": [
       "True"
      ]
     },
     "execution_count": 13,
     "metadata": {},
     "output_type": "execute_result"
    }
   ],
   "source": [
    "mean_diff1(a) == mean_diff2(a)"
   ]
  },
  {
   "cell_type": "code",
   "execution_count": 28,
   "id": "8ce0a411",
   "metadata": {},
   "outputs": [
    {
     "data": {
      "text/plain": [
       "array([2., 2., 2., 2., 2., 2., 2., 2., 2., 2., 2., 2., 2., 2., 2., 2., 2.,\n",
       "       2., 2., 2., 2.])"
      ]
     },
     "execution_count": 28,
     "metadata": {},
     "output_type": "execute_result"
    }
   ],
   "source": [
    "def get_slopes(x, y):\n",
    "    n = len(x)\n",
    "    if len(y) != n:\n",
    "        raise ValueError(\"arrays must have same length\")\n",
    "    slopes = np.empty(n*(n-1)//2)\n",
    "#     indices = []\n",
    "    for i in range(n):\n",
    "        for j in range(i+1, n):\n",
    "#             index = i+j*(j-1)//2\n",
    "#             indices.append(index)\n",
    "#             print(index)\n",
    "            slopes[i+j*(j-1)//2] = (y[j]-y[i])/(x[j]-x[i])\n",
    "    return slopes#, indices\n",
    "\n",
    "s = get_slopes(a, 2*a)\n",
    "s"
   ]
  },
  {
   "cell_type": "code",
   "execution_count": 26,
   "id": "8ad3d2b5",
   "metadata": {},
   "outputs": [
    {
     "data": {
      "text/plain": [
       "[0, 1, 2, 3, 4, 5, 6, 7, 8, 9, 10, 11, 12, 13, 14, 15, 16, 17, 18, 19, 20]"
      ]
     },
     "execution_count": 26,
     "metadata": {},
     "output_type": "execute_result"
    }
   ],
   "source": [
    "sorted(i)"
   ]
  },
  {
   "cell_type": "code",
   "execution_count": 30,
   "id": "11212f7e",
   "metadata": {},
   "outputs": [
    {
     "data": {
      "text/plain": [
       "array([1.51616709e+04, 8.08736935e+03, 4.75828626e+03, 5.53348924e+03,\n",
       "       3.04879719e+03, 9.72989032e+02, 3.66197794e+03, 1.89279441e+03,\n",
       "       5.00984076e+02, 1.86314105e+02, 3.14376861e+03, 1.59307154e+03,\n",
       "       3.97323751e+02, 1.37345882e+02, 3.45126131e+01, 2.44708306e+03,\n",
       "       1.20663546e+03, 2.77742174e+02, 8.68900957e+01, 1.72932894e+01,\n",
       "       8.68362755e+00])"
      ]
     },
     "execution_count": 30,
     "metadata": {},
     "output_type": "execute_result"
    }
   ],
   "source": [
    "s = get_slopes(a, np.exp(a))\n",
    "s"
   ]
  },
  {
   "cell_type": "code",
   "execution_count": 31,
   "id": "bdca4454",
   "metadata": {},
   "outputs": [
    {
     "data": {
      "text/plain": [
       "2531.191552991779"
      ]
     },
     "execution_count": 31,
     "metadata": {},
     "output_type": "execute_result"
    }
   ],
   "source": [
    "s.mean()"
   ]
  },
  {
   "cell_type": "code",
   "execution_count": 32,
   "id": "39eca464",
   "metadata": {},
   "outputs": [
    {
     "data": {
      "text/plain": [
       "-3670.6245854963763"
      ]
     },
     "execution_count": 32,
     "metadata": {},
     "output_type": "execute_result"
    }
   ],
   "source": [
    "mean_diff2(np.exp(a))"
   ]
  },
  {
   "cell_type": "code",
   "execution_count": 36,
   "id": "3b054a2a",
   "metadata": {},
   "outputs": [
    {
     "data": {
      "text/plain": [
       "array([-0.8       , -1.25      , -1.7       , -1.3       , -1.55      ,\n",
       "       -1.4       , -1.5       , -1.73333333, -1.75      , -2.1       ,\n",
       "       -1.4       , -1.55      , -1.5       , -1.55      , -1.        ,\n",
       "       -1.5       , -1.64      , -1.625     , -1.7       , -1.5       ,\n",
       "       -2.        ])"
      ]
     },
     "execution_count": 36,
     "metadata": {},
     "output_type": "execute_result"
    }
   ],
   "source": [
    "s = get_slopes(np.arange(len(a)), a)\n",
    "s"
   ]
  },
  {
   "cell_type": "code",
   "execution_count": 37,
   "id": "588eeb80",
   "metadata": {},
   "outputs": [
    {
     "data": {
      "text/plain": [
       "-1.526111111111111"
      ]
     },
     "execution_count": 37,
     "metadata": {},
     "output_type": "execute_result"
    }
   ],
   "source": [
    "s.mean()"
   ]
  },
  {
   "cell_type": "code",
   "execution_count": 40,
   "id": "fcbb4861",
   "metadata": {},
   "outputs": [
    {
     "data": {
      "text/plain": [
       "-1.5499999999999998"
      ]
     },
     "execution_count": 40,
     "metadata": {},
     "output_type": "execute_result"
    }
   ],
   "source": [
    "np.median(s)"
   ]
  },
  {
   "cell_type": "code",
   "execution_count": 96,
   "id": "7ab08e8e",
   "metadata": {},
   "outputs": [
    {
     "name": "stdout",
     "output_type": "stream",
     "text": [
      "regression_slope(x, a)=-1.5321428571428573\n",
      "CPU times: user 317 µs, sys: 110 µs, total: 427 µs\n",
      "Wall time: 336 µs\n",
      "regression_slope_sm(x, a)=-1.532142857142858\n",
      "CPU times: user 133 ms, sys: 2.9 ms, total: 136 ms\n",
      "Wall time: 135 ms\n",
      "aarr(x,a)=0.2947465824101001\n",
      "CPU times: user 507 µs, sys: 515 µs, total: 1.02 ms\n",
      "Wall time: 674 µs\n",
      "aarr_sm(x,a)=0.2947465824101003\n",
      "CPU times: user 7.6 ms, sys: 682 µs, total: 8.28 ms\n",
      "Wall time: 7.94 ms\n",
      "aarr_mean_slope(x,a)=0.2985297940213206\n",
      "CPU times: user 107 µs, sys: 19 µs, total: 126 µs\n",
      "Wall time: 118 µs\n",
      "aarr_median_slope(x,a)=0.2499999999999999\n",
      "CPU times: user 295 µs, sys: 78 µs, total: 373 µs\n",
      "Wall time: 356 µs\n"
     ]
    }
   ],
   "source": [
    "def regression_slope(x,y):\n",
    "    xmean, ymean = x.mean(), y.mean()\n",
    "    beta = ((x-xmean)*(y-ymean)).sum()/((x-xmean)**2).sum()\n",
    "    return beta\n",
    "\n",
    "def regression_slope_sm(x,y):\n",
    "    data = pd.DataFrame({'x':x, 'y':y})\n",
    "    regression = smf.ols(\"y~x\", data=data).fit()\n",
    "    return regression.params['x']\n",
    "\n",
    "def aarr(x,y):\n",
    "    return 1-np.exp(regression_slope(x,np.log(y)))\n",
    "\n",
    "def aarr_sm(x,y):\n",
    "    data = pd.DataFrame({'x':x, 'y':y})\n",
    "    regression = smf.ols(\"np.log(y)~x\", data=data).fit()\n",
    "    beta = regression.params['x']\n",
    "    return 1-np.exp(beta)\n",
    "\n",
    "def aarr_mean_slope(x,y):\n",
    "    slopes = get_slopes(x,np.log(y))\n",
    "    return 1-np.exp(slopes.mean())\n",
    "\n",
    "def aarr_median_slope(x,y):\n",
    "    slopes = get_slopes(x,np.log(y))\n",
    "    return 1-np.exp(np.median(slopes))\n",
    "\n",
    "x = np.arange(len(a))\n",
    "%time print(f\"{regression_slope(x, a)=}\")\n",
    "%time print(f\"{regression_slope_sm(x, a)=}\")\n",
    "%time print(f\"{aarr(x,a)=}\")\n",
    "%time print(f\"{aarr_sm(x,a)=}\")\n",
    "%time print(f\"{aarr_mean_slope(x,a)=}\")\n",
    "%time print(f\"{aarr_median_slope(x,a)=}\")"
   ]
  },
  {
   "cell_type": "code",
   "execution_count": 42,
   "id": "c06dde8f",
   "metadata": {},
   "outputs": [
    {
     "data": {
      "text/plain": [
       "[<matplotlib.lines.Line2D at 0x7fcdb4391940>]"
      ]
     },
     "execution_count": 42,
     "metadata": {},
     "output_type": "execute_result"
    },
    {
     "data": {
      "image/png": "[encoded data removed]",
      "text/plain": [
       "<Figure size 432x288 with 1 Axes>"
      ]
     },
     "metadata": {
      "needs_background": "light"
     },
     "output_type": "display_data"
    }
   ],
   "source": [
    "x = np.arange(len(a))\n",
    "plt.plot(x,a)"
   ]
  },
  {
   "cell_type": "code",
   "execution_count": 43,
   "id": "78f563dd",
   "metadata": {},
   "outputs": [
    {
     "data": {
      "text/plain": [
       "[<matplotlib.lines.Line2D at 0x7fcdb3b83a30>]"
      ]
     },
     "execution_count": 43,
     "metadata": {},
     "output_type": "execute_result"
    },
    {
     "data": {
      "image/png": "[encoded data removed]",
      "text/plain": [
       "<Figure size 432x288 with 1 Axes>"
      ]
     },
     "metadata": {
      "needs_background": "light"
     },
     "output_type": "display_data"
    }
   ],
   "source": [
    "plt.plot(x,np.log(a))"
   ]
  },
  {
   "cell_type": "code",
   "execution_count": 88,
   "id": "35f0f42d",
   "metadata": {},
   "outputs": [
    {
     "data": {
      "text/plain": [
       "[<matplotlib.lines.Line2D at 0x7fcdb6cbd8e0>]"
      ]
     },
     "execution_count": 88,
     "metadata": {},
     "output_type": "execute_result"
    },
    {
     "data": {
      "image/png": "[encoded data removed]",
      "text/plain": [
       "<Figure size 432x288 with 1 Axes>"
      ]
     },
     "metadata": {
      "needs_background": "light"
     },
     "output_type": "display_data"
    }
   ],
   "source": [
    "plt.plot(x, np.exp(a))"
   ]
  },
  {
   "cell_type": "code",
   "execution_count": 89,
   "id": "9a2711a4",
   "metadata": {},
   "outputs": [
    {
     "data": {
      "text/plain": [
       "[<matplotlib.lines.Line2D at 0x7fcdb6da5d00>]"
      ]
     },
     "execution_count": 89,
     "metadata": {},
     "output_type": "execute_result"
    },
    {
     "data": {
      "image/png": "[encoded data removed]",
      "text/plain": [
       "<Figure size 432x288 with 1 Axes>"
      ]
     },
     "metadata": {
      "needs_background": "light"
     },
     "output_type": "display_data"
    }
   ],
   "source": [
    "plt.plot(x, np.exp(a/20))"
   ]
  },
  {
   "cell_type": "code",
   "execution_count": 83,
   "id": "18b235c8",
   "metadata": {},
   "outputs": [
    {
     "data": {
      "text/plain": [
       "[<matplotlib.lines.Line2D at 0x7fcdb6bd28e0>]"
      ]
     },
     "execution_count": 83,
     "metadata": {},
     "output_type": "execute_result"
    },
    {
     "data": {
      "image/png": "[encoded data removed]",
      "text/plain": [
       "<Figure size 432x288 with 1 Axes>"
      ]
     },
     "metadata": {
      "needs_background": "light"
     },
     "output_type": "display_data"
    }
   ],
   "source": [
    "y = np.exp(a/12)\n",
    "plt.plot(x, np.log(y))"
   ]
  },
  {
   "cell_type": "code",
   "execution_count": 84,
   "id": "81c0292e",
   "metadata": {},
   "outputs": [
    {
     "name": "stdout",
     "output_type": "stream",
     "text": [
      "beta=-0.07660714285714285, slopes.mean()=-0.07630555555555556, np.median(slopes)=-0.07749999999999999\n"
     ]
    }
   ],
   "source": [
    "slopes = get_slopes(x, np.log(y))\n",
    "beta = regression_slope(x, np.log(y))\n",
    "print(f\"{beta=}, {slopes.mean()=}, {np.median(slopes)=}\")"
   ]
  },
  {
   "cell_type": "code",
   "execution_count": 85,
   "id": "3d0b90b5",
   "metadata": {},
   "outputs": [
    {
     "data": {
      "text/plain": [
       "0.0737463324922506"
      ]
     },
     "execution_count": 85,
     "metadata": {},
     "output_type": "execute_result"
    }
   ],
   "source": [
    "1-np.exp(beta)"
   ]
  },
  {
   "cell_type": "code",
   "execution_count": 86,
   "id": "1a799331",
   "metadata": {},
   "outputs": [
    {
     "data": {
      "text/plain": [
       "0.0734669440201916"
      ]
     },
     "execution_count": 86,
     "metadata": {},
     "output_type": "execute_result"
    }
   ],
   "source": [
    "1-np.exp(slopes.mean())"
   ]
  },
  {
   "cell_type": "code",
   "execution_count": 87,
   "id": "4c4f1c9e",
   "metadata": {},
   "outputs": [
    {
     "data": {
      "text/plain": [
       "0.07457297560336307"
      ]
     },
     "execution_count": 87,
     "metadata": {},
     "output_type": "execute_result"
    }
   ],
   "source": [
    "1-np.exp(np.median(slopes))"
   ]
  },
  {
   "cell_type": "code",
   "execution_count": 98,
   "id": "0447b2b6",
   "metadata": {},
   "outputs": [
    {
     "name": "stderr",
     "output_type": "stream",
     "text": [
      "<ipython-input-98-07200fdca0b0>:1: RuntimeWarning: divide by zero encountered in true_divide\n",
      "  np.array([1,2,3]) /np.array([2,0,4])\n"
     ]
    },
    {
     "data": {
      "text/plain": [
       "array([0.5 ,  inf, 0.75])"
      ]
     },
     "execution_count": 98,
     "metadata": {},
     "output_type": "execute_result"
    }
   ],
   "source": [
    "np.array([1,2,3]) /np.array([2,0,4])"
   ]
  },
  {
   "cell_type": "code",
   "execution_count": null,
   "id": "c6d68891",
   "metadata": {},
   "outputs": [],
   "source": []
  }
 ],
 "metadata": {
  "kernelspec": {
   "display_name": "Python 3",
   "language": "python",
   "name": "python3"
  },
  "language_info": {
   "codemirror_mode": {
    "name": "ipython",
    "version": 3
   },
   "file_extension": ".py",
   "mimetype": "text/x-python",
   "name": "python",
   "nbconvert_exporter": "python",
   "pygments_lexer": "ipython3",
   "version": "3.8.10"
  }
 },
 "nbformat": 4,
 "nbformat_minor": 5
}
