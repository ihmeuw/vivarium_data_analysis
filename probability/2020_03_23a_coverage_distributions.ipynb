{
 "cells": [
  {
   "cell_type": "code",
   "execution_count": 1,
   "metadata": {},
   "outputs": [],
   "source": [
    "import numpy as np, pandas as pd, matplotlib.pyplot as plt\n",
    "import scipy.stats"
   ]
  },
  {
   "cell_type": "code",
   "execution_count": 2,
   "metadata": {},
   "outputs": [
    {
     "name": "stdout",
     "output_type": "stream",
     "text": [
      "ndbs\n",
      "Tue Mar 24 11:14:44 PDT 2020\n"
     ]
    }
   ],
   "source": [
    "!whoami\n",
    "!date"
   ]
  },
  {
   "cell_type": "markdown",
   "metadata": {},
   "source": [
    "# Goal: Determine reasonable distributions to model uncertainty in coverage data (i.e. what % of the population gets fortified food)\n",
    "\n",
    "The idea here is that if the variance of a [Beta distribution](https://en.wikipedia.org/wiki/Beta_distribution) is small enough, then it looks like a very narrow normal distribution centered at its mean. (Hmm, what exactly is the proof of that?)\n",
    "\n",
    "Documentation: [scipy.stats.beta](https://docs.scipy.org/doc/scipy/reference/generated/scipy.stats.beta.html)"
   ]
  },
  {
   "cell_type": "code",
   "execution_count": 3,
   "metadata": {},
   "outputs": [],
   "source": [
    "def beta_a_b_from_mean_var(mean, variance):\n",
    "    if mean <= 0 or mean >= 1:\n",
    "        raise ValueError(\"Mean must be in the interval (0,1)\")\n",
    "    if variance >= mean*(1-mean):\n",
    "        raise ValueError(\"Variance too large\")\n",
    "        \n",
    "    a = mean*(mean*(1-mean)/variance - 1)\n",
    "    b = (1-mean)*(mean*(1-mean)/variance - 1)\n",
    "    return a, b"
   ]
  },
  {
   "cell_type": "code",
   "execution_count": 4,
   "metadata": {},
   "outputs": [],
   "source": [
    "def normal_stdev_from_mean_quantile(mean, quantile, quantile_rank):\n",
    "    # q = mu + q'*sigma, where q' is the std normal quantile\n",
    "    # and q is the transformed quantile, so sigma = (q-mu)/q'\n",
    "    return (quantile - mean) / scipy.stats.norm().ppf(quantile_rank)"
   ]
  },
  {
   "cell_type": "code",
   "execution_count": 5,
   "metadata": {},
   "outputs": [],
   "source": [
    "def beta_from_mean_approx_quantile(mean, approx_quantile, quantile_rank):\n",
    "    \"\"\"\n",
    "    Returns a scipy.stats Beta distribution with the specified mean and a\n",
    "    quantile of rank quantile_rank approximately equal to approx_quantile.\n",
    "    This is achieved by specifying that the variance of the Beta distribution\n",
    "    is equal to the variance of a normal distribution with the same mean and\n",
    "    the specified quantile.\n",
    "    \"\"\"\n",
    "    variance = normal_stdev_from_mean_quantile(mean, approx_quantile, quantile_rank)**2\n",
    "    a,b = beta_a_b_from_mean_var(mean, variance)\n",
    "    return scipy.stats.beta(a,b)"
   ]
  },
  {
   "cell_type": "markdown",
   "metadata": {},
   "source": [
    "## Wheat flour fortification coverage data\n",
    "\n",
    "Data is from Table 4 in:\n",
    "\n",
    "Grant J Aaron, Valerie M Friesen, Svenja Jungjohann, Greg S Garrett, Lynnette M Neufeld, Mark Myatt. _Coverage of Large-Scale Food Fortification of Edible Oil, Wheat Flour, and Maize Flour Varies Greatly by Vehicle and Country but Is Consistently Lower among the Most Vulnerable: Results from Coverage Surveys in 8 Countries_. https://doi.org/10.3945/jn.116.245753\n",
    "\n",
    "India (Rajasthan)\n",
    "\n",
    "6.3 (4.8, 7.9)\n",
    "\n",
    "7.1 (5.6, 9.1)\n",
    "\n",
    "83.2 (79.5, 86.5)\n",
    "\n",
    "Nigeria (Kano)\n",
    "\n",
    "22.7 (20.0, 25.5)\n",
    "\n",
    "83.8 (81.4, 86.2)\n",
    "\n",
    "83.9 (81.5, 86.3)\n",
    "\n",
    "Nigeria (Lagos)\n",
    "\n",
    "5.4 (3.8, 6.9)\n",
    "\n",
    "13.8 (11.5, 16.1)\n",
    "\n",
    "14.2 (11.8, 16.5)\n",
    "\n",
    "### Create a dataframe to store coverage data"
   ]
  },
  {
   "cell_type": "code",
   "execution_count": 6,
   "metadata": {},
   "outputs": [
    {
     "data": {
      "text/html": [
       "<div>\n",
       "<style scoped>\n",
       "    .dataframe tbody tr th:only-of-type {\n",
       "        vertical-align: middle;\n",
       "    }\n",
       "\n",
       "    .dataframe tbody tr th {\n",
       "        vertical-align: top;\n",
       "    }\n",
       "\n",
       "    .dataframe thead tr th {\n",
       "        text-align: left;\n",
       "    }\n",
       "</style>\n",
       "<table border=\"1\" class=\"dataframe\">\n",
       "  <thead>\n",
       "    <tr>\n",
       "      <th></th>\n",
       "      <th colspan=\"3\" halign=\"left\">eats_fortified</th>\n",
       "      <th colspan=\"3\" halign=\"left\">eats_fortifiable</th>\n",
       "      <th colspan=\"3\" halign=\"left\">eats_vehicle</th>\n",
       "    </tr>\n",
       "    <tr>\n",
       "      <th></th>\n",
       "      <th>mean</th>\n",
       "      <th>lower</th>\n",
       "      <th>upper</th>\n",
       "      <th>mean</th>\n",
       "      <th>lower</th>\n",
       "      <th>upper</th>\n",
       "      <th>mean</th>\n",
       "      <th>lower</th>\n",
       "      <th>upper</th>\n",
       "    </tr>\n",
       "  </thead>\n",
       "  <tbody>\n",
       "    <tr>\n",
       "      <th>India (Rajasthan)</th>\n",
       "      <td>6.3</td>\n",
       "      <td>4.8</td>\n",
       "      <td>7.9</td>\n",
       "      <td>7.1</td>\n",
       "      <td>5.6</td>\n",
       "      <td>9.1</td>\n",
       "      <td>83.2</td>\n",
       "      <td>79.5</td>\n",
       "      <td>86.5</td>\n",
       "    </tr>\n",
       "    <tr>\n",
       "      <th>Nigeria (Kano)</th>\n",
       "      <td>22.7</td>\n",
       "      <td>20.0</td>\n",
       "      <td>25.5</td>\n",
       "      <td>83.8</td>\n",
       "      <td>81.4</td>\n",
       "      <td>86.2</td>\n",
       "      <td>83.9</td>\n",
       "      <td>81.5</td>\n",
       "      <td>86.3</td>\n",
       "    </tr>\n",
       "    <tr>\n",
       "      <th>Nigeria (Lagos)</th>\n",
       "      <td>5.4</td>\n",
       "      <td>3.8</td>\n",
       "      <td>6.9</td>\n",
       "      <td>13.8</td>\n",
       "      <td>11.5</td>\n",
       "      <td>16.1</td>\n",
       "      <td>14.2</td>\n",
       "      <td>11.8</td>\n",
       "      <td>16.5</td>\n",
       "    </tr>\n",
       "  </tbody>\n",
       "</table>\n",
       "</div>"
      ],
      "text/plain": [
       "                  eats_fortified             eats_fortifiable              \\\n",
       "                            mean lower upper             mean lower upper   \n",
       "India (Rajasthan)            6.3   4.8   7.9              7.1   5.6   9.1   \n",
       "Nigeria (Kano)              22.7  20.0  25.5             83.8  81.4  86.2   \n",
       "Nigeria (Lagos)              5.4   3.8   6.9             13.8  11.5  16.1   \n",
       "\n",
       "                  eats_vehicle              \n",
       "                          mean lower upper  \n",
       "India (Rajasthan)         83.2  79.5  86.5  \n",
       "Nigeria (Kano)            83.9  81.5  86.3  \n",
       "Nigeria (Lagos)           14.2  11.8  16.5  "
      ]
     },
     "execution_count": 6,
     "metadata": {},
     "output_type": "execute_result"
    }
   ],
   "source": [
    "coverage_levels = ['eats_fortified', 'eats_fortifiable', 'eats_vehicle']\n",
    "coverage_stats = ['mean', 'lower', 'upper']\n",
    "\n",
    "coverage_df = pd.DataFrame(\n",
    "    [\n",
    "        [6.3, 4.8, 7.9, 7.1, 5.6, 9.1, 83.2, 79.5, 86.5],\n",
    "        [22.7, 20.0, 25.5, 83.8, 81.4, 86.2, 83.9, 81.5, 86.3],\n",
    "        [5.4, 3.8, 6.9, 13.8, 11.5, 16.1, 14.2, 11.8, 16.5],\n",
    "    ],\n",
    "    index = ['India (Rajasthan)', 'Nigeria (Kano)', 'Nigeria (Lagos)'],\n",
    "    columns = pd.MultiIndex.from_product([coverage_levels, coverage_stats])\n",
    ")\n",
    "coverage_df"
   ]
  },
  {
   "cell_type": "markdown",
   "metadata": {},
   "source": [
    "## Try drawing a Beta distribution for 'eats_fortified' in India"
   ]
  },
  {
   "cell_type": "code",
   "execution_count": 7,
   "metadata": {},
   "outputs": [
    {
     "data": {
      "image/png": "[encoded data removed]",
      "text/plain": [
       "<Figure size 720x288 with 1 Axes>"
      ]
     },
     "metadata": {
      "needs_background": "light"
     },
     "output_type": "display_data"
    }
   ],
   "source": [
    "# India\n",
    "mean = 6.3/100\n",
    "q_975 = 7.9/100\n",
    "quantile_rank = 0.975\n",
    "\n",
    "variance = normal_stdev_from_mean_quantile(mean, q_975, quantile_rank)**2\n",
    "a,b = beta_a_b_from_mean_var(mean, variance)\n",
    "\n",
    "fig, ax = plt.subplots(1,1, figsize = (10,4))\n",
    "\n",
    "x = np.linspace(0,1, 500)\n",
    "ax.plot(x, scipy.stats.beta.pdf(x, a, b), 'r-', lw=1, alpha=0.9, label='beta pdf')\n",
    "ax.legend()\n",
    "\n",
    "plt.show()"
   ]
  },
  {
   "cell_type": "markdown",
   "metadata": {},
   "source": [
    "### Check some distribution parameters to make sure everything looks good"
   ]
  },
  {
   "cell_type": "code",
   "execution_count": 8,
   "metadata": {},
   "outputs": [
    {
     "name": "stdout",
     "output_type": "stream",
     "text": [
      "55.74248752186281 829.0589017140549\n",
      "0.063 6.664134953651346e-05\n"
     ]
    }
   ],
   "source": [
    "#See what a, b, mean, and variance were\n",
    "print(a,b)\n",
    "print(mean,variance)"
   ]
  },
  {
   "cell_type": "code",
   "execution_count": 9,
   "metadata": {},
   "outputs": [
    {
     "name": "stdout",
     "output_type": "stream",
     "text": [
      "(array(0.063), array(6.66413495e-05), array(0.24145887), array(0.08059681))\n",
      "(0.04795889742135568, 0.07991041987700398)\n"
     ]
    }
   ],
   "source": [
    "# Check 1st-4th moments and 95% uncertainty interval\n",
    "beta = beta_from_mean_approx_quantile(0.063, 0.079, 0.975)\n",
    "print(beta.stats(moments='mvsk'))\n",
    "print(beta.interval(.95))"
   ]
  },
  {
   "cell_type": "code",
   "execution_count": 10,
   "metadata": {},
   "outputs": [
    {
     "data": {
      "text/plain": [
       "0.008163415310794463"
      ]
     },
     "execution_count": 10,
     "metadata": {},
     "output_type": "execute_result"
    }
   ],
   "source": [
    "# Check the standard deviation\n",
    "normal_stdev_from_mean_quantile(mean, q_975, 0.975)"
   ]
  },
  {
   "cell_type": "code",
   "execution_count": 11,
   "metadata": {},
   "outputs": [
    {
     "data": {
      "text/plain": [
       "6.664134953651346e-05"
      ]
     },
     "execution_count": 11,
     "metadata": {},
     "output_type": "execute_result"
    }
   ],
   "source": [
    "# Check that the variance matches second statistic above\n",
    "_**2"
   ]
  },
  {
   "cell_type": "code",
   "execution_count": 12,
   "metadata": {},
   "outputs": [
    {
     "name": "stdout",
     "output_type": "stream",
     "text": [
      "0.0479588974213558 0.07991041987700398\n"
     ]
    }
   ],
   "source": [
    "# Check that the .025 and .975 quantiles match the interval above\n",
    "print(beta.ppf(.025), beta.ppf(.975))"
   ]
  },
  {
   "cell_type": "markdown",
   "metadata": {},
   "source": [
    "## Draw plots of the Beta distributions for the three locations"
   ]
  },
  {
   "cell_type": "code",
   "execution_count": 13,
   "metadata": {},
   "outputs": [
    {
     "data": {
      "image/png": "[encoded data removed]",
      "text/plain": [
       "<Figure size 864x864 with 3 Axes>"
      ]
     },
     "metadata": {
      "needs_background": "light"
     },
     "output_type": "display_data"
    }
   ],
   "source": [
    "fig, axs = plt.subplots(3,1, figsize = (12,12))\n",
    "\n",
    "for i,ax in enumerate(axs.flatten()):\n",
    "    \n",
    "    location = coverage_df.index[i]\n",
    "    x = np.linspace(0,1, 500)\n",
    "    \n",
    "    for c in coverage_levels:\n",
    "        \n",
    "        mean = coverage_df.loc[location, (c,'mean')] / 100\n",
    "        q_975 = coverage_df.loc[location, (c,'upper')] / 100\n",
    "        beta_dist = beta_from_mean_approx_quantile(mean, q_975, 0.975)\n",
    "        \n",
    "        ax.plot(x, beta_dist.pdf(x),lw=1, alpha=0.9, label=c)\n",
    "        ax.set_title(location)\n",
    "        ax.legend()\n",
    "\n",
    "fig.tight_layout()\n",
    "\n",
    "# Need to save figure before calling .show(), or the file won't have the grahps\n",
    "plt.savefig(\"coverage_india_nigeria.svg\")\n",
    "plt.show()"
   ]
  },
  {
   "cell_type": "code",
   "execution_count": null,
   "metadata": {},
   "outputs": [],
   "source": []
  }
 ],
 "metadata": {
  "kernelspec": {
   "display_name": "Python 3",
   "language": "python",
   "name": "python3"
  },
  "language_info": {
   "codemirror_mode": {
    "name": "ipython",
    "version": 3
   },
   "file_extension": ".py",
   "mimetype": "text/x-python",
   "name": "python",
   "nbconvert_exporter": "python",
   "pygments_lexer": "ipython3",
   "version": "3.6.10"
  }
 },
 "nbformat": 4,
 "nbformat_minor": 4
}
