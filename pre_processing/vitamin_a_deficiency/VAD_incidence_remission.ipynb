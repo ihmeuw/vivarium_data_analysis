{
 "cells": [
  {
   "cell_type": "code",
   "execution_count": 1,
   "metadata": {},
   "outputs": [
    {
     "name": "stdout",
     "output_type": "stream",
     "text": [
      "yaqiw\n",
      "Mon Mar  2 11:33:21 PST 2020\n"
     ]
    }
   ],
   "source": [
    "from vivarium_inputs.interface import get_measure\n",
    "import gbd_mapping as gbd\n",
    "import pandas as pd, numpy as np, matplotlib.pyplot as plt\n",
    "from db_queries import get_model_results\n",
    "from get_draws.api import get_draws\n",
    "!whoami\n",
    "!date"
   ]
  },
  {
   "cell_type": "markdown",
   "metadata": {},
   "source": [
    "- measure_id for incidence is 6\n",
    "- measure_id for remission is 7\n",
    "- gbd_round_id is 5\n",
    "- rei_id for Vitamin A deficiency is 96\n",
    "- modelable_entity_id for Vitamin A deficiency is 2510\n",
    "- age_group_id for early neonatal is 2, for late neonatal is 3, for post neonatal is 4, for year 1 to 4 is 5\n",
    "- location_id for Nigeria is 214, for India is 163, for Ethiopia is 179\n",
    "- year_id is 2017"
   ]
  },
  {
   "cell_type": "code",
   "execution_count": 2,
   "metadata": {},
   "outputs": [],
   "source": [
    "def pullData(measure_id):\n",
    "    vitA_def = get_draws(\"rei_id\", 96, location_id=[214, 163, 179], age_group_id=[2,3,4,5],\n",
    "                     year_id=2017, sex_id=[1,2], source=\"exposure\", gbd_round_id=5)\n",
    "    df = vitA_def.query(f'measure_id == {measure_id} and modelable_entity_id == 2510')\n",
    "    df_final = df.melt(id_vars = ['rei_id', 'modelable_entity_id', 'location_id', 'year_id','age_group_id', 'sex_id', 'parameter', 'measure_id', 'metric_id'], \n",
    "                      var_name = 'draw_number', value_name = 'value')\n",
    "    if measure_id == 7:\n",
    "        measure = 'Remission'\n",
    "    elif measure_id == 6:\n",
    "        measure = 'Incidence'\n",
    "    df_final['location_id'].replace({163:'India', 179:'Ethiopia', 214:'Nigeria'}, inplace = True)\n",
    "    print(f'{measure} summary statistics (mean, upper, lower) for each of the under 5 age groups:')\n",
    "    return df_final.groupby(['location_id'])['value'].describe(percentiles=[.025, .975])[['mean','2.5%','97.5%']]"
   ]
  },
  {
   "cell_type": "code",
   "execution_count": 3,
   "metadata": {
    "scrolled": false
   },
   "outputs": [
    {
     "name": "stdout",
     "output_type": "stream",
     "text": [
      "Remission summary statistics (mean, upper, lower) for each of the under 5 age groups:\n"
     ]
    },
    {
     "data": {
      "text/html": [
       "<div>\n",
       "<style scoped>\n",
       "    .dataframe tbody tr th:only-of-type {\n",
       "        vertical-align: middle;\n",
       "    }\n",
       "\n",
       "    .dataframe tbody tr th {\n",
       "        vertical-align: top;\n",
       "    }\n",
       "\n",
       "    .dataframe thead th {\n",
       "        text-align: right;\n",
       "    }\n",
       "</style>\n",
       "<table border=\"1\" class=\"dataframe\">\n",
       "  <thead>\n",
       "    <tr style=\"text-align: right;\">\n",
       "      <th></th>\n",
       "      <th>mean</th>\n",
       "      <th>2.5%</th>\n",
       "      <th>97.5%</th>\n",
       "    </tr>\n",
       "    <tr>\n",
       "      <th>location_id</th>\n",
       "      <th></th>\n",
       "      <th></th>\n",
       "      <th></th>\n",
       "    </tr>\n",
       "  </thead>\n",
       "  <tbody>\n",
       "    <tr>\n",
       "      <th>Ethiopia</th>\n",
       "      <td>1.089201</td>\n",
       "      <td>0.651359</td>\n",
       "      <td>1.543941</td>\n",
       "    </tr>\n",
       "    <tr>\n",
       "      <th>India</th>\n",
       "      <td>1.383856</td>\n",
       "      <td>0.905363</td>\n",
       "      <td>1.786397</td>\n",
       "    </tr>\n",
       "    <tr>\n",
       "      <th>Nigeria</th>\n",
       "      <td>1.249464</td>\n",
       "      <td>0.844696</td>\n",
       "      <td>1.719305</td>\n",
       "    </tr>\n",
       "  </tbody>\n",
       "</table>\n",
       "</div>"
      ],
      "text/plain": [
       "                 mean      2.5%     97.5%\n",
       "location_id                              \n",
       "Ethiopia     1.089201  0.651359  1.543941\n",
       "India        1.383856  0.905363  1.786397\n",
       "Nigeria      1.249464  0.844696  1.719305"
      ]
     },
     "execution_count": 3,
     "metadata": {},
     "output_type": "execute_result"
    }
   ],
   "source": [
    "pullData(7)"
   ]
  },
  {
   "cell_type": "code",
   "execution_count": 4,
   "metadata": {},
   "outputs": [
    {
     "name": "stdout",
     "output_type": "stream",
     "text": [
      "Incidence summary statistics (mean, upper, lower) for each of the under 5 age groups:\n"
     ]
    },
    {
     "data": {
      "text/html": [
       "<div>\n",
       "<style scoped>\n",
       "    .dataframe tbody tr th:only-of-type {\n",
       "        vertical-align: middle;\n",
       "    }\n",
       "\n",
       "    .dataframe tbody tr th {\n",
       "        vertical-align: top;\n",
       "    }\n",
       "\n",
       "    .dataframe thead th {\n",
       "        text-align: right;\n",
       "    }\n",
       "</style>\n",
       "<table border=\"1\" class=\"dataframe\">\n",
       "  <thead>\n",
       "    <tr style=\"text-align: right;\">\n",
       "      <th></th>\n",
       "      <th>mean</th>\n",
       "      <th>2.5%</th>\n",
       "      <th>97.5%</th>\n",
       "    </tr>\n",
       "    <tr>\n",
       "      <th>location_id</th>\n",
       "      <th></th>\n",
       "      <th></th>\n",
       "      <th></th>\n",
       "    </tr>\n",
       "  </thead>\n",
       "  <tbody>\n",
       "    <tr>\n",
       "      <th>Ethiopia</th>\n",
       "      <td>0.325023</td>\n",
       "      <td>0.257798</td>\n",
       "      <td>0.375057</td>\n",
       "    </tr>\n",
       "    <tr>\n",
       "      <th>India</th>\n",
       "      <td>0.320217</td>\n",
       "      <td>0.264371</td>\n",
       "      <td>0.371203</td>\n",
       "    </tr>\n",
       "    <tr>\n",
       "      <th>Nigeria</th>\n",
       "      <td>0.318694</td>\n",
       "      <td>0.228310</td>\n",
       "      <td>0.378860</td>\n",
       "    </tr>\n",
       "  </tbody>\n",
       "</table>\n",
       "</div>"
      ],
      "text/plain": [
       "                 mean      2.5%     97.5%\n",
       "location_id                              \n",
       "Ethiopia     0.325023  0.257798  0.375057\n",
       "India        0.320217  0.264371  0.371203\n",
       "Nigeria      0.318694  0.228310  0.378860"
      ]
     },
     "execution_count": 4,
     "metadata": {},
     "output_type": "execute_result"
    }
   ],
   "source": [
    "pullData(6)"
   ]
  }
 ],
 "metadata": {
  "kernelspec": {
   "display_name": "Python 3",
   "language": "python",
   "name": "python3"
  },
  "language_info": {
   "codemirror_mode": {
    "name": "ipython",
    "version": 3
   },
   "file_extension": ".py",
   "mimetype": "text/x-python",
   "name": "python",
   "nbconvert_exporter": "python",
   "pygments_lexer": "ipython3",
   "version": "3.6.9"
  }
 },
 "nbformat": 4,
 "nbformat_minor": 2
}
