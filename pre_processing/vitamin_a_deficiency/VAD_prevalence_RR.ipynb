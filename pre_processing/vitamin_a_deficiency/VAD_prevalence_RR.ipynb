{
 "cells": [
  {
   "cell_type": "code",
   "execution_count": 1,
   "metadata": {},
   "outputs": [
    {
     "name": "stdout",
     "output_type": "stream",
     "text": [
      "Thu Mar 12 14:23:18 PDT 2020\r\n"
     ]
    }
   ],
   "source": [
    "from vivarium_inputs.interface import get_measure\n",
    "import gbd_mapping as gbd\n",
    "import pandas as pd, numpy as np, matplotlib.pyplot as plt\n",
    "import vivarium_gbd_access\n",
    "from operator import attrgetter\n",
    "%load_ext autoreload\n",
    "%autoreload 2\n",
    "\n",
    "!date"
   ]
  },
  {
   "cell_type": "markdown",
   "metadata": {},
   "source": [
    "### 1. pull prevalence (from the VAD cause)"
   ]
  },
  {
   "cell_type": "code",
   "execution_count": 2,
   "metadata": {},
   "outputs": [
    {
     "name": "stderr",
     "output_type": "stream",
     "text": [
      "/share/code/yaqiw/miniconda/envs/vivarium_conic_lsff/lib/python3.6/site-packages/vivarium_inputs/validation/raw.py:260: UserWarning: Sequela prevalence data for cause vitamin_a_deficiency may not correctly aggregate up to the cause level in all locations. Sequela models may not be consistent with models for this cause.\n",
      "  warnings.warn(f\"{children.capitalize()} {measure} data for cause {entity.name} may not correctly \"\n",
      "/share/code/yaqiw/miniconda/envs/vivarium_conic_lsff/lib/python3.6/site-packages/vivarium_inputs/validation/raw.py:260: UserWarning: Sequela prevalence data for cause vitamin_a_deficiency may not correctly aggregate up to the cause level in all locations. Sequela models may not be consistent with models for this cause.\n",
      "  warnings.warn(f\"{children.capitalize()} {measure} data for cause {entity.name} may not correctly \"\n",
      "/share/code/yaqiw/miniconda/envs/vivarium_conic_lsff/lib/python3.6/site-packages/vivarium_inputs/validation/raw.py:260: UserWarning: Sequela prevalence data for cause vitamin_a_deficiency may not correctly aggregate up to the cause level in all locations. Sequela models may not be consistent with models for this cause.\n",
      "  warnings.warn(f\"{children.capitalize()} {measure} data for cause {entity.name} may not correctly \"\n"
     ]
    }
   ],
   "source": [
    "prev_df = pd.DataFrame()\n",
    "for location in ['India','Nigeria','Ethiopia']:\n",
    "    data = get_measure(gbd.causes.vitamin_a_deficiency, \"prevalence\", location).reset_index()\n",
    "    data['year'] = data['year'].map(attrgetter('left'))\n",
    "    data['age_start'] = data['age'].map(attrgetter('left'))\n",
    "    data['age_end'] = data['age'].map(attrgetter('right'))\n",
    "    #keep under 5 year old and year 2017\n",
    "    data = data[(data['age_end'] <= 5) & (data['year'] == 2017)]\n",
    "    prev_df = prev_df.append(data)"
   ]
  },
  {
   "cell_type": "code",
   "execution_count": 3,
   "metadata": {
    "scrolled": false
   },
   "outputs": [
    {
     "data": {
      "text/html": [
       "<div>\n",
       "<style scoped>\n",
       "    .dataframe tbody tr th:only-of-type {\n",
       "        vertical-align: middle;\n",
       "    }\n",
       "\n",
       "    .dataframe tbody tr th {\n",
       "        vertical-align: top;\n",
       "    }\n",
       "\n",
       "    .dataframe thead th {\n",
       "        text-align: right;\n",
       "    }\n",
       "</style>\n",
       "<table border=\"1\" class=\"dataframe\">\n",
       "  <thead>\n",
       "    <tr style=\"text-align: right;\">\n",
       "      <th></th>\n",
       "      <th>mean</th>\n",
       "      <th>2.5%</th>\n",
       "      <th>97.5%</th>\n",
       "    </tr>\n",
       "    <tr>\n",
       "      <th>location</th>\n",
       "      <th></th>\n",
       "      <th></th>\n",
       "      <th></th>\n",
       "    </tr>\n",
       "  </thead>\n",
       "  <tbody>\n",
       "    <tr>\n",
       "      <th>Ethiopia</th>\n",
       "      <td>0.627735</td>\n",
       "      <td>0.273878</td>\n",
       "      <td>0.949212</td>\n",
       "    </tr>\n",
       "    <tr>\n",
       "      <th>India</th>\n",
       "      <td>0.569007</td>\n",
       "      <td>0.219264</td>\n",
       "      <td>0.902697</td>\n",
       "    </tr>\n",
       "    <tr>\n",
       "      <th>Nigeria</th>\n",
       "      <td>0.226655</td>\n",
       "      <td>0.146157</td>\n",
       "      <td>0.331253</td>\n",
       "    </tr>\n",
       "  </tbody>\n",
       "</table>\n",
       "</div>"
      ],
      "text/plain": [
       "              mean      2.5%     97.5%\n",
       "location                              \n",
       "Ethiopia  0.627735  0.273878  0.949212\n",
       "India     0.569007  0.219264  0.902697\n",
       "Nigeria   0.226655  0.146157  0.331253"
      ]
     },
     "execution_count": 3,
     "metadata": {},
     "output_type": "execute_result"
    }
   ],
   "source": [
    "df_prev = prev_df.melt(id_vars = ['location', 'sex', 'age','year','age_start','age_end'], \n",
    "                      var_name = 'draw_number', value_name = 'value')\n",
    "df_prev.groupby('location')['value'].describe(percentiles=[.025, .975])[['mean','2.5%','97.5%']]"
   ]
  },
  {
   "cell_type": "markdown",
   "metadata": {},
   "source": [
    "### 2. pull relative risks for measles, diarrhea, LRI from the VAD risk"
   ]
  },
  {
   "cell_type": "code",
   "execution_count": 4,
   "metadata": {
    "scrolled": true
   },
   "outputs": [
    {
     "name": "stderr",
     "output_type": "stream",
     "text": [
      "/share/code/yaqiw/miniconda/envs/vivarium_conic_lsff/lib/python3.6/site-packages/vivarium_inputs/validation/raw.py:1384: UserWarning: Relative_risk for risk_factor vitamin_a_deficiency may be outside the normal range.\n",
      "  warnings.warn(f'{measure.capitalize()} for {entity.kind} {entity.name} may be outside the normal range.')\n",
      "/share/code/yaqiw/miniconda/envs/vivarium_conic_lsff/lib/python3.6/site-packages/vivarium_inputs/validation/raw.py:1405: UserWarning: Risk_factor vitamin_a_deficiency relative_risk data may violate the following restrictions:  age restriction.\n",
      "  warnings.warn(f'{entity.kind.capitalize()} {entity.name} {measure} data may violate the '\n",
      "/share/code/yaqiw/miniconda/envs/vivarium_conic_lsff/lib/python3.6/site-packages/vivarium_inputs/validation/raw.py:1856: UserWarning: Data does not contain all age groups in restriction range.\n",
      "  warnings.warn('Data does not contain all age groups in restriction range.')\n",
      "/share/code/yaqiw/miniconda/envs/vivarium_conic_lsff/lib/python3.6/site-packages/vivarium_inputs/validation/raw.py:1954: UserWarning: Data was expected to contain all age groups between ids 2 and 235 but was missing the following: {2, 3, 6, 7, 8, 9, 10, 11, 12, 13, 14, 15, 16, 17, 18, 19, 20, 30, 31, 32, 235}.\n",
      "  warnings.warn(message)\n",
      "/share/code/yaqiw/miniconda/envs/vivarium_conic_lsff/lib/python3.6/site-packages/vivarium_inputs/validation/shared.py:73: UserWarning: Data contains values below the expected boundary value (1).\n",
      "  warnings.warn(msg)\n",
      "/share/code/yaqiw/miniconda/envs/vivarium_conic_lsff/lib/python3.6/site-packages/vivarium_inputs/validation/raw.py:1954: UserWarning: Data was expected to contain all age groups between ids 4 and 15 but was missing the following: {6, 7, 8, 9, 10, 11, 12, 13, 14, 15}.\n",
      "  warnings.warn(message)\n",
      "/share/code/yaqiw/miniconda/envs/vivarium_conic_lsff/lib/python3.6/site-packages/vivarium_inputs/validation/shared.py:73: UserWarning: Data contains values below the expected boundary value (1.0).\n",
      "  warnings.warn(msg)\n",
      "/share/code/yaqiw/miniconda/envs/vivarium_conic_lsff/lib/python3.6/site-packages/vivarium_inputs/validation/raw.py:1384: UserWarning: Relative_risk for risk_factor vitamin_a_deficiency may be outside the normal range.\n",
      "  warnings.warn(f'{measure.capitalize()} for {entity.kind} {entity.name} may be outside the normal range.')\n",
      "/share/code/yaqiw/miniconda/envs/vivarium_conic_lsff/lib/python3.6/site-packages/vivarium_inputs/validation/raw.py:1405: UserWarning: Risk_factor vitamin_a_deficiency relative_risk data may violate the following restrictions:  age restriction.\n",
      "  warnings.warn(f'{entity.kind.capitalize()} {entity.name} {measure} data may violate the '\n",
      "/share/code/yaqiw/miniconda/envs/vivarium_conic_lsff/lib/python3.6/site-packages/vivarium_inputs/validation/raw.py:1856: UserWarning: Data does not contain all age groups in restriction range.\n",
      "  warnings.warn('Data does not contain all age groups in restriction range.')\n",
      "/share/code/yaqiw/miniconda/envs/vivarium_conic_lsff/lib/python3.6/site-packages/vivarium_inputs/validation/raw.py:1954: UserWarning: Data was expected to contain all age groups between ids 2 and 235 but was missing the following: {2, 3, 6, 7, 8, 9, 10, 11, 12, 13, 14, 15, 16, 17, 18, 19, 20, 30, 31, 32, 235}.\n",
      "  warnings.warn(message)\n",
      "/share/code/yaqiw/miniconda/envs/vivarium_conic_lsff/lib/python3.6/site-packages/vivarium_inputs/validation/shared.py:73: UserWarning: Data contains values below the expected boundary value (1).\n",
      "  warnings.warn(msg)\n",
      "/share/code/yaqiw/miniconda/envs/vivarium_conic_lsff/lib/python3.6/site-packages/vivarium_inputs/validation/raw.py:1954: UserWarning: Data was expected to contain all age groups between ids 4 and 15 but was missing the following: {6, 7, 8, 9, 10, 11, 12, 13, 14, 15}.\n",
      "  warnings.warn(message)\n",
      "/share/code/yaqiw/miniconda/envs/vivarium_conic_lsff/lib/python3.6/site-packages/vivarium_inputs/validation/shared.py:73: UserWarning: Data contains values below the expected boundary value (1.0).\n",
      "  warnings.warn(msg)\n",
      "/share/code/yaqiw/miniconda/envs/vivarium_conic_lsff/lib/python3.6/site-packages/vivarium_inputs/validation/raw.py:1384: UserWarning: Relative_risk for risk_factor vitamin_a_deficiency may be outside the normal range.\n",
      "  warnings.warn(f'{measure.capitalize()} for {entity.kind} {entity.name} may be outside the normal range.')\n",
      "/share/code/yaqiw/miniconda/envs/vivarium_conic_lsff/lib/python3.6/site-packages/vivarium_inputs/validation/raw.py:1405: UserWarning: Risk_factor vitamin_a_deficiency relative_risk data may violate the following restrictions:  age restriction.\n",
      "  warnings.warn(f'{entity.kind.capitalize()} {entity.name} {measure} data may violate the '\n",
      "/share/code/yaqiw/miniconda/envs/vivarium_conic_lsff/lib/python3.6/site-packages/vivarium_inputs/validation/raw.py:1856: UserWarning: Data does not contain all age groups in restriction range.\n",
      "  warnings.warn('Data does not contain all age groups in restriction range.')\n",
      "/share/code/yaqiw/miniconda/envs/vivarium_conic_lsff/lib/python3.6/site-packages/vivarium_inputs/validation/raw.py:1954: UserWarning: Data was expected to contain all age groups between ids 2 and 235 but was missing the following: {2, 3, 6, 7, 8, 9, 10, 11, 12, 13, 14, 15, 16, 17, 18, 19, 20, 30, 31, 32, 235}.\n",
      "  warnings.warn(message)\n",
      "/share/code/yaqiw/miniconda/envs/vivarium_conic_lsff/lib/python3.6/site-packages/vivarium_inputs/validation/shared.py:73: UserWarning: Data contains values below the expected boundary value (1).\n",
      "  warnings.warn(msg)\n",
      "/share/code/yaqiw/miniconda/envs/vivarium_conic_lsff/lib/python3.6/site-packages/vivarium_inputs/validation/raw.py:1954: UserWarning: Data was expected to contain all age groups between ids 4 and 15 but was missing the following: {6, 7, 8, 9, 10, 11, 12, 13, 14, 15}.\n",
      "  warnings.warn(message)\n",
      "/share/code/yaqiw/miniconda/envs/vivarium_conic_lsff/lib/python3.6/site-packages/vivarium_inputs/validation/shared.py:73: UserWarning: Data contains values below the expected boundary value (1.0).\n",
      "  warnings.warn(msg)\n"
     ]
    }
   ],
   "source": [
    "rr_df = pd.DataFrame()\n",
    "for location in ['India','Nigeria','Ethiopia']:\n",
    "    data = get_measure(gbd.risk_factors.vitamin_a_deficiency, \"relative_risk\", location).reset_index()\n",
    "    data['year'] = data['year'].map(attrgetter('left'))\n",
    "    data['age_start'] = data['age'].map(attrgetter('left'))\n",
    "    data['age_end'] = data['age'].map(attrgetter('right'))\n",
    "    #keep under 5 year old, year 2017, parameter cat1\n",
    "    data = data[(data['age_end'] <= 5) & (data['year'] == 2017) & (data['parameter'] == 'cat1')]\n",
    "    rr_df = rr_df.append(data)"
   ]
  },
  {
   "cell_type": "code",
   "execution_count": 5,
   "metadata": {
    "scrolled": true
   },
   "outputs": [
    {
     "data": {
      "text/html": [
       "<div>\n",
       "<style scoped>\n",
       "    .dataframe tbody tr th:only-of-type {\n",
       "        vertical-align: middle;\n",
       "    }\n",
       "\n",
       "    .dataframe tbody tr th {\n",
       "        vertical-align: top;\n",
       "    }\n",
       "\n",
       "    .dataframe thead th {\n",
       "        text-align: right;\n",
       "    }\n",
       "</style>\n",
       "<table border=\"1\" class=\"dataframe\">\n",
       "  <thead>\n",
       "    <tr style=\"text-align: right;\">\n",
       "      <th></th>\n",
       "      <th></th>\n",
       "      <th>mean</th>\n",
       "      <th>2.5%</th>\n",
       "      <th>97.5%</th>\n",
       "    </tr>\n",
       "    <tr>\n",
       "      <th>location</th>\n",
       "      <th>affected_entity</th>\n",
       "      <th></th>\n",
       "      <th></th>\n",
       "      <th></th>\n",
       "    </tr>\n",
       "  </thead>\n",
       "  <tbody>\n",
       "    <tr>\n",
       "      <th rowspan=\"3\" valign=\"top\">Ethiopia</th>\n",
       "      <th>diarrheal_diseases</th>\n",
       "      <td>1.721961</td>\n",
       "      <td>1.0</td>\n",
       "      <td>2.593292</td>\n",
       "    </tr>\n",
       "    <tr>\n",
       "      <th>lower_respiratory_infections</th>\n",
       "      <td>1.164763</td>\n",
       "      <td>1.0</td>\n",
       "      <td>1.538674</td>\n",
       "    </tr>\n",
       "    <tr>\n",
       "      <th>measles</th>\n",
       "      <td>2.257330</td>\n",
       "      <td>1.0</td>\n",
       "      <td>4.473485</td>\n",
       "    </tr>\n",
       "    <tr>\n",
       "      <th rowspan=\"3\" valign=\"top\">India</th>\n",
       "      <th>diarrheal_diseases</th>\n",
       "      <td>1.721961</td>\n",
       "      <td>1.0</td>\n",
       "      <td>2.593292</td>\n",
       "    </tr>\n",
       "    <tr>\n",
       "      <th>lower_respiratory_infections</th>\n",
       "      <td>1.164763</td>\n",
       "      <td>1.0</td>\n",
       "      <td>1.538674</td>\n",
       "    </tr>\n",
       "    <tr>\n",
       "      <th>measles</th>\n",
       "      <td>2.257330</td>\n",
       "      <td>1.0</td>\n",
       "      <td>4.473485</td>\n",
       "    </tr>\n",
       "    <tr>\n",
       "      <th rowspan=\"3\" valign=\"top\">Nigeria</th>\n",
       "      <th>diarrheal_diseases</th>\n",
       "      <td>1.721961</td>\n",
       "      <td>1.0</td>\n",
       "      <td>2.593292</td>\n",
       "    </tr>\n",
       "    <tr>\n",
       "      <th>lower_respiratory_infections</th>\n",
       "      <td>1.164763</td>\n",
       "      <td>1.0</td>\n",
       "      <td>1.538674</td>\n",
       "    </tr>\n",
       "    <tr>\n",
       "      <th>measles</th>\n",
       "      <td>2.257330</td>\n",
       "      <td>1.0</td>\n",
       "      <td>4.473485</td>\n",
       "    </tr>\n",
       "  </tbody>\n",
       "</table>\n",
       "</div>"
      ],
      "text/plain": [
       "                                           mean  2.5%     97.5%\n",
       "location affected_entity                                       \n",
       "Ethiopia diarrheal_diseases            1.721961   1.0  2.593292\n",
       "         lower_respiratory_infections  1.164763   1.0  1.538674\n",
       "         measles                       2.257330   1.0  4.473485\n",
       "India    diarrheal_diseases            1.721961   1.0  2.593292\n",
       "         lower_respiratory_infections  1.164763   1.0  1.538674\n",
       "         measles                       2.257330   1.0  4.473485\n",
       "Nigeria  diarrheal_diseases            1.721961   1.0  2.593292\n",
       "         lower_respiratory_infections  1.164763   1.0  1.538674\n",
       "         measles                       2.257330   1.0  4.473485"
      ]
     },
     "execution_count": 5,
     "metadata": {},
     "output_type": "execute_result"
    }
   ],
   "source": [
    "##RR for under 5 year old\n",
    "df_rr = rr_df.melt(id_vars = ['location', 'sex', 'age', 'year', 'affected_entity', 'affected_measure',\n",
    "                                'parameter', 'age_start', 'age_end'], var_name = 'draw_number', value_name = 'value')\n",
    "df_rr.groupby(['location','affected_entity'])['value'].describe(percentiles=[.025, .975])[['mean','2.5%','97.5%']]"
   ]
  },
  {
   "cell_type": "code",
   "execution_count": 6,
   "metadata": {
    "scrolled": true
   },
   "outputs": [
    {
     "name": "stderr",
     "output_type": "stream",
     "text": [
      "/share/code/yaqiw/miniconda/envs/vivarium_conic_lsff/lib/python3.6/site-packages/vivarium_inputs/validation/raw.py:1384: UserWarning: Relative_risk for risk_factor vitamin_a_deficiency may be outside the normal range.\n",
      "  warnings.warn(f'{measure.capitalize()} for {entity.kind} {entity.name} may be outside the normal range.')\n",
      "/share/code/yaqiw/miniconda/envs/vivarium_conic_lsff/lib/python3.6/site-packages/vivarium_inputs/validation/raw.py:1405: UserWarning: Risk_factor vitamin_a_deficiency relative_risk data may violate the following restrictions:  age restriction.\n",
      "  warnings.warn(f'{entity.kind.capitalize()} {entity.name} {measure} data may violate the '\n",
      "/share/code/yaqiw/miniconda/envs/vivarium_conic_lsff/lib/python3.6/site-packages/vivarium_inputs/validation/raw.py:1856: UserWarning: Data does not contain all age groups in restriction range.\n",
      "  warnings.warn('Data does not contain all age groups in restriction range.')\n",
      "/share/code/yaqiw/miniconda/envs/vivarium_conic_lsff/lib/python3.6/site-packages/vivarium_inputs/validation/raw.py:1954: UserWarning: Data was expected to contain all age groups between ids 2 and 235 but was missing the following: {2, 3, 6, 7, 8, 9, 10, 11, 12, 13, 14, 15, 16, 17, 18, 19, 20, 30, 31, 32, 235}.\n",
      "  warnings.warn(message)\n",
      "/share/code/yaqiw/miniconda/envs/vivarium_conic_lsff/lib/python3.6/site-packages/vivarium_inputs/validation/shared.py:73: UserWarning: Data contains values below the expected boundary value (1).\n",
      "  warnings.warn(msg)\n",
      "/share/code/yaqiw/miniconda/envs/vivarium_conic_lsff/lib/python3.6/site-packages/vivarium_inputs/validation/raw.py:1954: UserWarning: Data was expected to contain all age groups between ids 4 and 15 but was missing the following: {6, 7, 8, 9, 10, 11, 12, 13, 14, 15}.\n",
      "  warnings.warn(message)\n",
      "/share/code/yaqiw/miniconda/envs/vivarium_conic_lsff/lib/python3.6/site-packages/vivarium_inputs/validation/shared.py:73: UserWarning: Data contains values below the expected boundary value (1.0).\n",
      "  warnings.warn(msg)\n"
     ]
    },
    {
     "data": {
      "text/html": [
       "<div>\n",
       "<style scoped>\n",
       "    .dataframe tbody tr th:only-of-type {\n",
       "        vertical-align: middle;\n",
       "    }\n",
       "\n",
       "    .dataframe tbody tr th {\n",
       "        vertical-align: top;\n",
       "    }\n",
       "\n",
       "    .dataframe thead th {\n",
       "        text-align: right;\n",
       "    }\n",
       "</style>\n",
       "<table border=\"1\" class=\"dataframe\">\n",
       "  <thead>\n",
       "    <tr style=\"text-align: right;\">\n",
       "      <th></th>\n",
       "      <th>mean</th>\n",
       "      <th>2.5%</th>\n",
       "      <th>97.5%</th>\n",
       "    </tr>\n",
       "    <tr>\n",
       "      <th>affected_entity</th>\n",
       "      <th></th>\n",
       "      <th></th>\n",
       "      <th></th>\n",
       "    </tr>\n",
       "  </thead>\n",
       "  <tbody>\n",
       "    <tr>\n",
       "      <th>diarrheal_diseases</th>\n",
       "      <td>1.125558</td>\n",
       "      <td>1.0</td>\n",
       "      <td>2.496704</td>\n",
       "    </tr>\n",
       "    <tr>\n",
       "      <th>lower_respiratory_infections</th>\n",
       "      <td>1.028654</td>\n",
       "      <td>1.0</td>\n",
       "      <td>1.395570</td>\n",
       "    </tr>\n",
       "    <tr>\n",
       "      <th>measles</th>\n",
       "      <td>1.218666</td>\n",
       "      <td>1.0</td>\n",
       "      <td>3.809008</td>\n",
       "    </tr>\n",
       "  </tbody>\n",
       "</table>\n",
       "</div>"
      ],
      "text/plain": [
       "                                  mean  2.5%     97.5%\n",
       "affected_entity                                       \n",
       "diarrheal_diseases            1.125558   1.0  2.496704\n",
       "lower_respiratory_infections  1.028654   1.0  1.395570\n",
       "measles                       1.218666   1.0  3.809008"
      ]
     },
     "execution_count": 6,
     "metadata": {},
     "output_type": "execute_result"
    }
   ],
   "source": [
    "###Global, all age, all year\n",
    "df = get_measure(gbd.risk_factors.vitamin_a_deficiency, \"relative_risk\", \"Global\").reset_index()\n",
    "df[df['parameter'] == 'cat1'].melt(id_vars = ['location', 'sex', 'age', 'year', 'affected_entity', 'affected_measure',\n",
    "                'parameter'], var_name = 'draw_number', value_name = 'value').groupby('affected_entity')['value'].describe(percentiles=[.025, .975])[['mean','2.5%','97.5%']]"
   ]
  },
  {
   "cell_type": "code",
   "execution_count": null,
   "metadata": {},
   "outputs": [],
   "source": []
  }
 ],
 "metadata": {
  "kernelspec": {
   "display_name": "Python 3",
   "language": "python",
   "name": "python3"
  },
  "language_info": {
   "codemirror_mode": {
    "name": "ipython",
    "version": 3
   },
   "file_extension": ".py",
   "mimetype": "text/x-python",
   "name": "python",
   "nbconvert_exporter": "python",
   "pygments_lexer": "ipython3",
   "version": "3.6.9"
  }
 },
 "nbformat": 4,
 "nbformat_minor": 2
}
