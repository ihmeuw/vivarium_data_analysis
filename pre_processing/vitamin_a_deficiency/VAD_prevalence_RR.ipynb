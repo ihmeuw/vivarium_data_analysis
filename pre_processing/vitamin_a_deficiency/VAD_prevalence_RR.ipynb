{
 "cells": [
  {
   "cell_type": "code",
   "execution_count": 1,
   "metadata": {},
   "outputs": [
    {
     "name": "stdout",
     "output_type": "stream",
     "text": [
      "Mon Mar 23 17:07:30 PDT 2020\r\n"
     ]
    }
   ],
   "source": [
    "from vivarium_inputs.interface import get_measure\n",
    "import gbd_mapping as gbd\n",
    "import pandas as pd, numpy as np, matplotlib.pyplot as plt\n",
    "import vivarium_gbd_access\n",
    "from operator import attrgetter\n",
    "from get_draws.api import get_draws\n",
    "%load_ext autoreload\n",
    "%autoreload 2\n",
    "\n",
    "!date"
   ]
  },
  {
   "cell_type": "markdown",
   "metadata": {},
   "source": [
    "- measure_id for prevalence is 5\n",
    "- gbd_round_id is 5\n",
    "- rei_id for Vitamin A deficiency is 96\n",
    "- modelable_entity_id for Vitamin A deficiency is 2510\n",
    "- age_group_id for early neonatal is 2, for late neonatal is 3, for post neonatal is 4, for year 1 to 4 is 5\n",
    "- location_id for Nigeria is 214, for India is 163, for Ethiopia is 179\n",
    "- year_id is 2017"
   ]
  },
  {
   "cell_type": "markdown",
   "metadata": {},
   "source": [
    "### 1. pull prevalence (from the VAD cause)"
   ]
  },
  {
   "cell_type": "code",
   "execution_count": 2,
   "metadata": {},
   "outputs": [
    {
     "name": "stderr",
     "output_type": "stream",
     "text": [
      "/share/code/yaqiw/miniconda/envs/vivarium_conic_lsff/lib/python3.6/site-packages/vivarium_inputs/validation/raw.py:260: UserWarning: Sequela prevalence data for cause vitamin_a_deficiency may not correctly aggregate up to the cause level in all locations. Sequela models may not be consistent with models for this cause.\n",
      "  warnings.warn(f\"{children.capitalize()} {measure} data for cause {entity.name} may not correctly \"\n",
      "/share/code/yaqiw/miniconda/envs/vivarium_conic_lsff/lib/python3.6/site-packages/vivarium_inputs/validation/raw.py:260: UserWarning: Sequela prevalence data for cause vitamin_a_deficiency may not correctly aggregate up to the cause level in all locations. Sequela models may not be consistent with models for this cause.\n",
      "  warnings.warn(f\"{children.capitalize()} {measure} data for cause {entity.name} may not correctly \"\n",
      "/share/code/yaqiw/miniconda/envs/vivarium_conic_lsff/lib/python3.6/site-packages/vivarium_inputs/validation/raw.py:260: UserWarning: Sequela prevalence data for cause vitamin_a_deficiency may not correctly aggregate up to the cause level in all locations. Sequela models may not be consistent with models for this cause.\n",
      "  warnings.warn(f\"{children.capitalize()} {measure} data for cause {entity.name} may not correctly \"\n"
     ]
    }
   ],
   "source": [
    "prev_df = pd.DataFrame()\n",
    "for location in ['India','Nigeria','Ethiopia']:\n",
    "    data = get_measure(gbd.causes.vitamin_a_deficiency, \"prevalence\", location).reset_index()\n",
    "    data['year'] = data['year'].map(attrgetter('left'))\n",
    "    data['age_start'] = data['age'].map(attrgetter('left'))\n",
    "    data['age_end'] = data['age'].map(attrgetter('right'))\n",
    "    #keep under 5 year old and year 2017\n",
    "    data = data[(data['age_end'] == 5) & (data['year'] == 2017)]\n",
    "    prev_df = prev_df.append(data)"
   ]
  },
  {
   "cell_type": "code",
   "execution_count": 3,
   "metadata": {
    "scrolled": false
   },
   "outputs": [
    {
     "data": {
      "text/html": [
       "<div>\n",
       "<style scoped>\n",
       "    .dataframe tbody tr th:only-of-type {\n",
       "        vertical-align: middle;\n",
       "    }\n",
       "\n",
       "    .dataframe tbody tr th {\n",
       "        vertical-align: top;\n",
       "    }\n",
       "\n",
       "    .dataframe thead th {\n",
       "        text-align: right;\n",
       "    }\n",
       "</style>\n",
       "<table border=\"1\" class=\"dataframe\">\n",
       "  <thead>\n",
       "    <tr style=\"text-align: right;\">\n",
       "      <th></th>\n",
       "      <th>mean</th>\n",
       "      <th>2.5%</th>\n",
       "      <th>97.5%</th>\n",
       "    </tr>\n",
       "    <tr>\n",
       "      <th>location</th>\n",
       "      <th></th>\n",
       "      <th></th>\n",
       "      <th></th>\n",
       "    </tr>\n",
       "  </thead>\n",
       "  <tbody>\n",
       "    <tr>\n",
       "      <th>Ethiopia</th>\n",
       "      <td>0.315128</td>\n",
       "      <td>0.252618</td>\n",
       "      <td>0.379726</td>\n",
       "    </tr>\n",
       "    <tr>\n",
       "      <th>India</th>\n",
       "      <td>0.250471</td>\n",
       "      <td>0.205456</td>\n",
       "      <td>0.303530</td>\n",
       "    </tr>\n",
       "    <tr>\n",
       "      <th>Nigeria</th>\n",
       "      <td>0.232223</td>\n",
       "      <td>0.184475</td>\n",
       "      <td>0.288078</td>\n",
       "    </tr>\n",
       "  </tbody>\n",
       "</table>\n",
       "</div>"
      ],
      "text/plain": [
       "              mean      2.5%     97.5%\n",
       "location                              \n",
       "Ethiopia  0.315128  0.252618  0.379726\n",
       "India     0.250471  0.205456  0.303530\n",
       "Nigeria   0.232223  0.184475  0.288078"
      ]
     },
     "execution_count": 3,
     "metadata": {},
     "output_type": "execute_result"
    }
   ],
   "source": [
    "#data source: como using cause id 389, age 1-5\n",
    "df_prev = prev_df.melt(id_vars = ['location', 'sex', 'age','year','age_start','age_end'], \n",
    "                      var_name = 'draw_number', value_name = 'value')\n",
    "df_prev.groupby('location')['value'].describe(percentiles=[.025, .975])[['mean','2.5%','97.5%']]"
   ]
  },
  {
   "cell_type": "code",
   "execution_count": 4,
   "metadata": {},
   "outputs": [],
   "source": [
    "def pullData(measure, measure_id):\n",
    "    vitA_def = get_draws(\"rei_id\", 96, location_id=[214, 163, 179], age_group_id=[5],\n",
    "                     year_id=2017, sex_id=[1,2], source=\"exposure\", gbd_round_id=5)\n",
    "    df = vitA_def.query(f'measure_id == {measure_id} and modelable_entity_id == 2510')\n",
    "    df_final = df.melt(id_vars = ['rei_id', 'modelable_entity_id', 'location_id', 'year_id','age_group_id', 'sex_id', 'parameter', 'measure_id', 'metric_id'], \n",
    "                      var_name = 'draw_number', value_name = 'value')\n",
    "    df_final['location_id'].replace({163:'India', 179:'Ethiopia', 214:'Nigeria'}, inplace = True)\n",
    "    print(f'{measure} summary statistics (mean, upper, lower) for each of the under 5 age groups:')\n",
    "    print(df_final.groupby(['location_id'])['value'].describe(percentiles=[.025, .975])[['mean','2.5%','97.5%']])\n",
    "    print('\\n')"
   ]
  },
  {
   "cell_type": "code",
   "execution_count": 5,
   "metadata": {},
   "outputs": [
    {
     "name": "stdout",
     "output_type": "stream",
     "text": [
      "Prevalence summary statistics (mean, upper, lower) for each of the under 5 age groups:\n",
      "                 mean      2.5%     97.5%\n",
      "location_id                              \n",
      "Ethiopia     0.314543  0.252409  0.379091\n",
      "India        0.249882  0.205045  0.302771\n",
      "Nigeria      0.231538  0.183927  0.287513\n",
      "\n",
      "\n"
     ]
    }
   ],
   "source": [
    "#exposure source using rei_id 96, age 1-5\n",
    "pullData('Prevalence', 5) "
   ]
  },
  {
   "cell_type": "markdown",
   "metadata": {},
   "source": [
    "### 2. pull relative risks for measles, diarrhea, LRI from the VAD risk\n",
    "(GBD adjusted the relative risk for the background prevalence of\n",
    "Vitamin A deficiency in 1-4 years from the GBD 2017 model )"
   ]
  },
  {
   "cell_type": "code",
   "execution_count": 6,
   "metadata": {
    "scrolled": true
   },
   "outputs": [
    {
     "name": "stderr",
     "output_type": "stream",
     "text": [
      "/share/code/yaqiw/miniconda/envs/vivarium_conic_lsff/lib/python3.6/site-packages/vivarium_inputs/validation/raw.py:1384: UserWarning: Relative_risk for risk_factor vitamin_a_deficiency may be outside the normal range.\n",
      "  warnings.warn(f'{measure.capitalize()} for {entity.kind} {entity.name} may be outside the normal range.')\n",
      "/share/code/yaqiw/miniconda/envs/vivarium_conic_lsff/lib/python3.6/site-packages/vivarium_inputs/validation/raw.py:1405: UserWarning: Risk_factor vitamin_a_deficiency relative_risk data may violate the following restrictions:  age restriction.\n",
      "  warnings.warn(f'{entity.kind.capitalize()} {entity.name} {measure} data may violate the '\n",
      "/share/code/yaqiw/miniconda/envs/vivarium_conic_lsff/lib/python3.6/site-packages/vivarium_inputs/validation/raw.py:1856: UserWarning: Data does not contain all age groups in restriction range.\n",
      "  warnings.warn('Data does not contain all age groups in restriction range.')\n",
      "/share/code/yaqiw/miniconda/envs/vivarium_conic_lsff/lib/python3.6/site-packages/vivarium_inputs/validation/raw.py:1954: UserWarning: Data was expected to contain all age groups between ids 2 and 235 but was missing the following: {2, 3, 6, 7, 8, 9, 10, 11, 12, 13, 14, 15, 16, 17, 18, 19, 20, 30, 31, 32, 235}.\n",
      "  warnings.warn(message)\n",
      "/share/code/yaqiw/miniconda/envs/vivarium_conic_lsff/lib/python3.6/site-packages/vivarium_inputs/validation/shared.py:73: UserWarning: Data contains values below the expected boundary value (1).\n",
      "  warnings.warn(msg)\n",
      "/share/code/yaqiw/miniconda/envs/vivarium_conic_lsff/lib/python3.6/site-packages/vivarium_inputs/validation/raw.py:1954: UserWarning: Data was expected to contain all age groups between ids 4 and 15 but was missing the following: {6, 7, 8, 9, 10, 11, 12, 13, 14, 15}.\n",
      "  warnings.warn(message)\n",
      "/share/code/yaqiw/miniconda/envs/vivarium_conic_lsff/lib/python3.6/site-packages/vivarium_inputs/validation/shared.py:73: UserWarning: Data contains values below the expected boundary value (1.0).\n",
      "  warnings.warn(msg)\n",
      "/share/code/yaqiw/miniconda/envs/vivarium_conic_lsff/lib/python3.6/site-packages/vivarium_inputs/validation/raw.py:1384: UserWarning: Relative_risk for risk_factor vitamin_a_deficiency may be outside the normal range.\n",
      "  warnings.warn(f'{measure.capitalize()} for {entity.kind} {entity.name} may be outside the normal range.')\n",
      "/share/code/yaqiw/miniconda/envs/vivarium_conic_lsff/lib/python3.6/site-packages/vivarium_inputs/validation/raw.py:1405: UserWarning: Risk_factor vitamin_a_deficiency relative_risk data may violate the following restrictions:  age restriction.\n",
      "  warnings.warn(f'{entity.kind.capitalize()} {entity.name} {measure} data may violate the '\n",
      "/share/code/yaqiw/miniconda/envs/vivarium_conic_lsff/lib/python3.6/site-packages/vivarium_inputs/validation/raw.py:1856: UserWarning: Data does not contain all age groups in restriction range.\n",
      "  warnings.warn('Data does not contain all age groups in restriction range.')\n",
      "/share/code/yaqiw/miniconda/envs/vivarium_conic_lsff/lib/python3.6/site-packages/vivarium_inputs/validation/raw.py:1954: UserWarning: Data was expected to contain all age groups between ids 2 and 235 but was missing the following: {2, 3, 6, 7, 8, 9, 10, 11, 12, 13, 14, 15, 16, 17, 18, 19, 20, 30, 31, 32, 235}.\n",
      "  warnings.warn(message)\n",
      "/share/code/yaqiw/miniconda/envs/vivarium_conic_lsff/lib/python3.6/site-packages/vivarium_inputs/validation/shared.py:73: UserWarning: Data contains values below the expected boundary value (1).\n",
      "  warnings.warn(msg)\n",
      "/share/code/yaqiw/miniconda/envs/vivarium_conic_lsff/lib/python3.6/site-packages/vivarium_inputs/validation/raw.py:1954: UserWarning: Data was expected to contain all age groups between ids 4 and 15 but was missing the following: {6, 7, 8, 9, 10, 11, 12, 13, 14, 15}.\n",
      "  warnings.warn(message)\n",
      "/share/code/yaqiw/miniconda/envs/vivarium_conic_lsff/lib/python3.6/site-packages/vivarium_inputs/validation/shared.py:73: UserWarning: Data contains values below the expected boundary value (1.0).\n",
      "  warnings.warn(msg)\n",
      "/share/code/yaqiw/miniconda/envs/vivarium_conic_lsff/lib/python3.6/site-packages/vivarium_inputs/validation/raw.py:1384: UserWarning: Relative_risk for risk_factor vitamin_a_deficiency may be outside the normal range.\n",
      "  warnings.warn(f'{measure.capitalize()} for {entity.kind} {entity.name} may be outside the normal range.')\n",
      "/share/code/yaqiw/miniconda/envs/vivarium_conic_lsff/lib/python3.6/site-packages/vivarium_inputs/validation/raw.py:1405: UserWarning: Risk_factor vitamin_a_deficiency relative_risk data may violate the following restrictions:  age restriction.\n",
      "  warnings.warn(f'{entity.kind.capitalize()} {entity.name} {measure} data may violate the '\n",
      "/share/code/yaqiw/miniconda/envs/vivarium_conic_lsff/lib/python3.6/site-packages/vivarium_inputs/validation/raw.py:1856: UserWarning: Data does not contain all age groups in restriction range.\n",
      "  warnings.warn('Data does not contain all age groups in restriction range.')\n",
      "/share/code/yaqiw/miniconda/envs/vivarium_conic_lsff/lib/python3.6/site-packages/vivarium_inputs/validation/raw.py:1954: UserWarning: Data was expected to contain all age groups between ids 2 and 235 but was missing the following: {2, 3, 6, 7, 8, 9, 10, 11, 12, 13, 14, 15, 16, 17, 18, 19, 20, 30, 31, 32, 235}.\n",
      "  warnings.warn(message)\n",
      "/share/code/yaqiw/miniconda/envs/vivarium_conic_lsff/lib/python3.6/site-packages/vivarium_inputs/validation/shared.py:73: UserWarning: Data contains values below the expected boundary value (1).\n",
      "  warnings.warn(msg)\n",
      "/share/code/yaqiw/miniconda/envs/vivarium_conic_lsff/lib/python3.6/site-packages/vivarium_inputs/validation/raw.py:1954: UserWarning: Data was expected to contain all age groups between ids 4 and 15 but was missing the following: {6, 7, 8, 9, 10, 11, 12, 13, 14, 15}.\n",
      "  warnings.warn(message)\n",
      "/share/code/yaqiw/miniconda/envs/vivarium_conic_lsff/lib/python3.6/site-packages/vivarium_inputs/validation/shared.py:73: UserWarning: Data contains values below the expected boundary value (1.0).\n",
      "  warnings.warn(msg)\n"
     ]
    }
   ],
   "source": [
    "rr_df = pd.DataFrame()\n",
    "for location in ['India','Nigeria','Ethiopia']:\n",
    "    data = get_measure(gbd.risk_factors.vitamin_a_deficiency, \"relative_risk\", location).reset_index()\n",
    "    data['year'] = data['year'].map(attrgetter('left'))\n",
    "    data['age_start'] = data['age'].map(attrgetter('left'))\n",
    "    data['age_end'] = data['age'].map(attrgetter('right'))\n",
    "    #keep under 5 year old, year 2017, parameter cat1\n",
    "    data = data[(data['age_end'] == 5) & (data['year'] == 2017) & (data['parameter'] == 'cat1')]\n",
    "    rr_df = rr_df.append(data)"
   ]
  },
  {
   "cell_type": "code",
   "execution_count": 7,
   "metadata": {
    "scrolled": true
   },
   "outputs": [
    {
     "data": {
      "text/html": [
       "<div>\n",
       "<style scoped>\n",
       "    .dataframe tbody tr th:only-of-type {\n",
       "        vertical-align: middle;\n",
       "    }\n",
       "\n",
       "    .dataframe tbody tr th {\n",
       "        vertical-align: top;\n",
       "    }\n",
       "\n",
       "    .dataframe thead th {\n",
       "        text-align: right;\n",
       "    }\n",
       "</style>\n",
       "<table border=\"1\" class=\"dataframe\">\n",
       "  <thead>\n",
       "    <tr style=\"text-align: right;\">\n",
       "      <th></th>\n",
       "      <th></th>\n",
       "      <th>mean</th>\n",
       "      <th>2.5%</th>\n",
       "      <th>97.5%</th>\n",
       "    </tr>\n",
       "    <tr>\n",
       "      <th>location</th>\n",
       "      <th>affected_entity</th>\n",
       "      <th></th>\n",
       "      <th></th>\n",
       "      <th></th>\n",
       "    </tr>\n",
       "  </thead>\n",
       "  <tbody>\n",
       "    <tr>\n",
       "      <th rowspan=\"3\" valign=\"top\">Ethiopia</th>\n",
       "      <th>diarrheal_diseases</th>\n",
       "      <td>2.443922</td>\n",
       "      <td>2.268101</td>\n",
       "      <td>2.626098</td>\n",
       "    </tr>\n",
       "    <tr>\n",
       "      <th>lower_respiratory_infections</th>\n",
       "      <td>1.329526</td>\n",
       "      <td>1.113526</td>\n",
       "      <td>1.585032</td>\n",
       "    </tr>\n",
       "    <tr>\n",
       "      <th>measles</th>\n",
       "      <td>3.514660</td>\n",
       "      <td>2.526005</td>\n",
       "      <td>4.670518</td>\n",
       "    </tr>\n",
       "    <tr>\n",
       "      <th rowspan=\"3\" valign=\"top\">India</th>\n",
       "      <th>diarrheal_diseases</th>\n",
       "      <td>2.443922</td>\n",
       "      <td>2.268101</td>\n",
       "      <td>2.626098</td>\n",
       "    </tr>\n",
       "    <tr>\n",
       "      <th>lower_respiratory_infections</th>\n",
       "      <td>1.329526</td>\n",
       "      <td>1.113526</td>\n",
       "      <td>1.585032</td>\n",
       "    </tr>\n",
       "    <tr>\n",
       "      <th>measles</th>\n",
       "      <td>3.514660</td>\n",
       "      <td>2.526005</td>\n",
       "      <td>4.670518</td>\n",
       "    </tr>\n",
       "    <tr>\n",
       "      <th rowspan=\"3\" valign=\"top\">Nigeria</th>\n",
       "      <th>diarrheal_diseases</th>\n",
       "      <td>2.443922</td>\n",
       "      <td>2.268101</td>\n",
       "      <td>2.626098</td>\n",
       "    </tr>\n",
       "    <tr>\n",
       "      <th>lower_respiratory_infections</th>\n",
       "      <td>1.329526</td>\n",
       "      <td>1.113526</td>\n",
       "      <td>1.585032</td>\n",
       "    </tr>\n",
       "    <tr>\n",
       "      <th>measles</th>\n",
       "      <td>3.514660</td>\n",
       "      <td>2.526005</td>\n",
       "      <td>4.670518</td>\n",
       "    </tr>\n",
       "  </tbody>\n",
       "</table>\n",
       "</div>"
      ],
      "text/plain": [
       "                                           mean      2.5%     97.5%\n",
       "location affected_entity                                           \n",
       "Ethiopia diarrheal_diseases            2.443922  2.268101  2.626098\n",
       "         lower_respiratory_infections  1.329526  1.113526  1.585032\n",
       "         measles                       3.514660  2.526005  4.670518\n",
       "India    diarrheal_diseases            2.443922  2.268101  2.626098\n",
       "         lower_respiratory_infections  1.329526  1.113526  1.585032\n",
       "         measles                       3.514660  2.526005  4.670518\n",
       "Nigeria  diarrheal_diseases            2.443922  2.268101  2.626098\n",
       "         lower_respiratory_infections  1.329526  1.113526  1.585032\n",
       "         measles                       3.514660  2.526005  4.670518"
      ]
     },
     "execution_count": 7,
     "metadata": {},
     "output_type": "execute_result"
    }
   ],
   "source": [
    "##RR for under 5 year old\n",
    "df_rr = rr_df.melt(id_vars = ['location', 'sex', 'age', 'year', 'affected_entity', 'affected_measure',\n",
    "                                'parameter', 'age_start', 'age_end'], var_name = 'draw_number', value_name = 'value')\n",
    "df_rr.groupby(['location','affected_entity'])['value'].describe(percentiles=[.025, .975])[['mean','2.5%','97.5%']]"
   ]
  },
  {
   "cell_type": "code",
   "execution_count": null,
   "metadata": {},
   "outputs": [],
   "source": []
  }
 ],
 "metadata": {
  "kernelspec": {
   "display_name": "Python 3",
   "language": "python",
   "name": "python3"
  },
  "language_info": {
   "codemirror_mode": {
    "name": "ipython",
    "version": 3
   },
   "file_extension": ".py",
   "mimetype": "text/x-python",
   "name": "python",
   "nbconvert_exporter": "python",
   "pygments_lexer": "ipython3",
   "version": "3.6.9"
  }
 },
 "nbformat": 4,
 "nbformat_minor": 2
}
