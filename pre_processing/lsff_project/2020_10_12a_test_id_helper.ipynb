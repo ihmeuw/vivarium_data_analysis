{
 "cells": [
  {
   "cell_type": "code",
   "execution_count": 1,
   "metadata": {},
   "outputs": [
    {
     "name": "stdout",
     "output_type": "stream",
     "text": [
      "ndbs\n",
      "Mon Oct 12 17:02:52 PDT 2020\n"
     ]
    }
   ],
   "source": [
    "import pandas as pd, numpy as np\n",
    "import db_queries as db\n",
    "# import id_helper as idh\n",
    "\n",
    "!whoami\n",
    "!date"
   ]
  },
  {
   "cell_type": "code",
   "execution_count": 2,
   "metadata": {},
   "outputs": [
    {
     "name": "stdout",
     "output_type": "stream",
     "text": [
      "/ihme/homes/ndbs/vivarium_data_analysis/pre_processing/lsff_project\r\n"
     ]
    }
   ],
   "source": [
    "!pwd"
   ]
  },
  {
   "cell_type": "code",
   "execution_count": 3,
   "metadata": {},
   "outputs": [],
   "source": [
    "import sys, os.path\n",
    "\n",
    "sys.path.append(os.path.abspath(\"../..\")) # Adds the vivarium_data_analysis directory to the python path\n",
    "from pre_processing import id_helper as idh"
   ]
  },
  {
   "cell_type": "code",
   "execution_count": 4,
   "metadata": {},
   "outputs": [],
   "source": [
    "%load_ext autoreload\n",
    "%autoreload 2"
   ]
  },
  {
   "cell_type": "markdown",
   "metadata": {},
   "source": [
    "# Copy valid entities from documentation and transform into a list of strings\n",
    "\n",
    "https://scicomp-docs.ihme.washington.edu/db_queries/current/get_ids.html"
   ]
  },
  {
   "cell_type": "code",
   "execution_count": 5,
   "metadata": {},
   "outputs": [
    {
     "data": {
      "text/plain": [
       "['age_group',\n",
       " 'age_group_set',\n",
       " 'cause',\n",
       " 'cause_set',\n",
       " 'cause_set_version',\n",
       " 'covariate',\n",
       " 'decomp_step',\n",
       " 'gbd_round',\n",
       " 'healthstate',\n",
       " 'indicator_component',\n",
       " 'life_table_parameter',\n",
       " 'location',\n",
       " 'location_set',\n",
       " 'location_set_version',\n",
       " 'measure',\n",
       " 'metric',\n",
       " 'modelable_entity',\n",
       " 'sdg_indicator',\n",
       " 'sequela',\n",
       " 'sequela_set',\n",
       " 'sequela_set_version',\n",
       " 'sex',\n",
       " 'split',\n",
       " 'study_covariate',\n",
       " 'rei',\n",
       " 'rei_set',\n",
       " 'rei_set_version',\n",
       " 'year']"
      ]
     },
     "execution_count": 5,
     "metadata": {},
     "output_type": "execute_result"
    }
   ],
   "source": [
    "entities = \"\"\"\n",
    "“age_group”\n",
    "\n",
    "“age_group_set”\n",
    "\n",
    "“cause”\n",
    "\n",
    "“cause_set”\n",
    "\n",
    "“cause_set_version”\n",
    "\n",
    "“covariate”\n",
    "\n",
    "“decomp_step”\n",
    "\n",
    "“gbd_round”\n",
    "\n",
    "“healthstate”\n",
    "\n",
    "“indicator_component”\n",
    "\n",
    "“life_table_parameter”\n",
    "\n",
    "“location”\n",
    "\n",
    "“location_set”\n",
    "\n",
    "“location_set_version”\n",
    "\n",
    "“measure”\n",
    "\n",
    "“metric”\n",
    "\n",
    "“modelable_entity”\n",
    "\n",
    "“sdg_indicator”\n",
    "\n",
    "“sequela”\n",
    "\n",
    "“sequela_set”\n",
    "\n",
    "“sequela_set_version”\n",
    "\n",
    "“sex”\n",
    "\n",
    "“split”\n",
    "\n",
    "“study_covariate”\n",
    "\n",
    "“rei”\n",
    "\n",
    "“rei_set”\n",
    "\n",
    "“rei_set_version”\n",
    "\n",
    "“year”\n",
    "\"\"\"\n",
    "entities = [entity.strip('“”') for entity in entities.split()]\n",
    "entities"
   ]
  },
  {
   "cell_type": "code",
   "execution_count": 6,
   "metadata": {},
   "outputs": [
    {
     "data": {
      "text/plain": [
       "28"
      ]
     },
     "execution_count": 6,
     "metadata": {},
     "output_type": "execute_result"
    }
   ],
   "source": [
    "len(entities)"
   ]
  },
  {
   "cell_type": "markdown",
   "metadata": {},
   "source": [
    "# Find entities for which there is no \"entity_name\" column\n",
    "\n",
    "For all of these **except** `'life_table_parameter'` and `'year'`, the name column is the name of the entity itself (without `_name` appended).\n",
    "\n",
    "For `'life_table_parameter'`, the name column is `'parameter_name'`, and for `'year'`, there is only one column, the `'year_id'` column.\n",
    "\n",
    "Note that the \"id\" column is always `f'{entity}_id'`."
   ]
  },
  {
   "cell_type": "code",
   "execution_count": 7,
   "metadata": {},
   "outputs": [
    {
     "data": {
      "text/plain": [
       "{'cause_set_version': Index(['cause_set_version_id', 'cause_set_version',\n",
       "        'cause_set_version_description'],\n",
       "       dtype='object'),\n",
       " 'gbd_round': Index(['gbd_round_id', 'gbd_round'], dtype='object'),\n",
       " 'life_table_parameter': Index(['life_table_parameter_id', 'parameter_name', 'parameter_description'], dtype='object'),\n",
       " 'location_set_version': Index(['location_set_version_id', 'location_set_version',\n",
       "        'location_set_version_description'],\n",
       "       dtype='object'),\n",
       " 'sequela_set_version': Index(['sequela_set_version_id', 'sequela_set_version',\n",
       "        'sequela_set_version_description'],\n",
       "       dtype='object'),\n",
       " 'sex': Index(['sex_id', 'sex'], dtype='object'),\n",
       " 'study_covariate': Index(['study_covariate_id', 'study_covariate', 'study_covariate_description'], dtype='object'),\n",
       " 'rei_set_version': Index(['rei_set_version_id', 'rei_set_version', 'rei_set_version_description'], dtype='object'),\n",
       " 'year': Index(['year_id'], dtype='object')}"
      ]
     },
     "execution_count": 7,
     "metadata": {},
     "output_type": "execute_result"
    }
   ],
   "source": [
    "anomalous_entity_names = {\n",
    "    entity: db.get_ids(entity).columns \n",
    "    for entity in entities  \n",
    "    if f'{entity}_name' not in db.get_ids(entity).columns\n",
    "}\n",
    "anomalous_entity_names"
   ]
  },
  {
   "cell_type": "code",
   "execution_count": 8,
   "metadata": {},
   "outputs": [
    {
     "data": {
      "text/plain": [
       "9"
      ]
     },
     "execution_count": 8,
     "metadata": {},
     "output_type": "execute_result"
    }
   ],
   "source": [
    "len(anomalous_entity_names)"
   ]
  },
  {
   "cell_type": "markdown",
   "metadata": {},
   "source": [
    "## See what some of them look like"
   ]
  },
  {
   "cell_type": "code",
   "execution_count": 9,
   "metadata": {},
   "outputs": [
    {
     "data": {
      "text/html": [
       "<div>\n",
       "<style scoped>\n",
       "    .dataframe tbody tr th:only-of-type {\n",
       "        vertical-align: middle;\n",
       "    }\n",
       "\n",
       "    .dataframe tbody tr th {\n",
       "        vertical-align: top;\n",
       "    }\n",
       "\n",
       "    .dataframe thead th {\n",
       "        text-align: right;\n",
       "    }\n",
       "</style>\n",
       "<table border=\"1\" class=\"dataframe\">\n",
       "  <thead>\n",
       "    <tr style=\"text-align: right;\">\n",
       "      <th></th>\n",
       "      <th>cause_set_version_id</th>\n",
       "      <th>cause_set_version</th>\n",
       "      <th>cause_set_version_description</th>\n",
       "    </tr>\n",
       "  </thead>\n",
       "  <tbody>\n",
       "    <tr>\n",
       "      <th>0</th>\n",
       "      <td>2</td>\n",
       "      <td>CodCorrect 2013 INCORRECT</td>\n",
       "      <td>CodCorrect hierarchy used in the 2013 round. T...</td>\n",
       "    </tr>\n",
       "    <tr>\n",
       "      <th>1</th>\n",
       "      <td>3</td>\n",
       "      <td>CodCorrect 2015</td>\n",
       "      <td>CodCorrect hierarchy for the 2015 round, initi...</td>\n",
       "    </tr>\n",
       "    <tr>\n",
       "      <th>2</th>\n",
       "      <td>4</td>\n",
       "      <td>GBD computation 2010</td>\n",
       "      <td>Computation or analytical causes (as they were...</td>\n",
       "    </tr>\n",
       "    <tr>\n",
       "      <th>3</th>\n",
       "      <td>5</td>\n",
       "      <td>GBD computation 2013_v1, mort/cod paper INCORRECT</td>\n",
       "      <td>Causes used in computation to generate results...</td>\n",
       "    </tr>\n",
       "    <tr>\n",
       "      <th>4</th>\n",
       "      <td>6</td>\n",
       "      <td>GBD computation 2015</td>\n",
       "      <td>Causes for GBD computation in 2015 round, init...</td>\n",
       "    </tr>\n",
       "  </tbody>\n",
       "</table>\n",
       "</div>"
      ],
      "text/plain": [
       "   cause_set_version_id                                  cause_set_version  \\\n",
       "0                     2                          CodCorrect 2013 INCORRECT   \n",
       "1                     3                                    CodCorrect 2015   \n",
       "2                     4                               GBD computation 2010   \n",
       "3                     5  GBD computation 2013_v1, mort/cod paper INCORRECT   \n",
       "4                     6                               GBD computation 2015   \n",
       "\n",
       "                       cause_set_version_description  \n",
       "0  CodCorrect hierarchy used in the 2013 round. T...  \n",
       "1  CodCorrect hierarchy for the 2015 round, initi...  \n",
       "2  Computation or analytical causes (as they were...  \n",
       "3  Causes used in computation to generate results...  \n",
       "4  Causes for GBD computation in 2015 round, init...  "
      ]
     },
     "execution_count": 9,
     "metadata": {},
     "output_type": "execute_result"
    }
   ],
   "source": [
    "db.get_ids('cause_set_version').head()"
   ]
  },
  {
   "cell_type": "code",
   "execution_count": 10,
   "metadata": {},
   "outputs": [
    {
     "data": {
      "text/html": [
       "<div>\n",
       "<style scoped>\n",
       "    .dataframe tbody tr th:only-of-type {\n",
       "        vertical-align: middle;\n",
       "    }\n",
       "\n",
       "    .dataframe tbody tr th {\n",
       "        vertical-align: top;\n",
       "    }\n",
       "\n",
       "    .dataframe thead th {\n",
       "        text-align: right;\n",
       "    }\n",
       "</style>\n",
       "<table border=\"1\" class=\"dataframe\">\n",
       "  <thead>\n",
       "    <tr style=\"text-align: right;\">\n",
       "      <th></th>\n",
       "      <th>gbd_round_id</th>\n",
       "      <th>gbd_round</th>\n",
       "    </tr>\n",
       "  </thead>\n",
       "  <tbody>\n",
       "    <tr>\n",
       "      <th>0</th>\n",
       "      <td>1</td>\n",
       "      <td>2010</td>\n",
       "    </tr>\n",
       "    <tr>\n",
       "      <th>1</th>\n",
       "      <td>2</td>\n",
       "      <td>2013</td>\n",
       "    </tr>\n",
       "    <tr>\n",
       "      <th>2</th>\n",
       "      <td>3</td>\n",
       "      <td>2015</td>\n",
       "    </tr>\n",
       "    <tr>\n",
       "      <th>3</th>\n",
       "      <td>4</td>\n",
       "      <td>2016</td>\n",
       "    </tr>\n",
       "    <tr>\n",
       "      <th>4</th>\n",
       "      <td>5</td>\n",
       "      <td>2017</td>\n",
       "    </tr>\n",
       "    <tr>\n",
       "      <th>5</th>\n",
       "      <td>6</td>\n",
       "      <td>2019</td>\n",
       "    </tr>\n",
       "    <tr>\n",
       "      <th>6</th>\n",
       "      <td>7</td>\n",
       "      <td>2020</td>\n",
       "    </tr>\n",
       "  </tbody>\n",
       "</table>\n",
       "</div>"
      ],
      "text/plain": [
       "   gbd_round_id gbd_round\n",
       "0             1      2010\n",
       "1             2      2013\n",
       "2             3      2015\n",
       "3             4      2016\n",
       "4             5      2017\n",
       "5             6      2019\n",
       "6             7      2020"
      ]
     },
     "execution_count": 10,
     "metadata": {},
     "output_type": "execute_result"
    }
   ],
   "source": [
    "db.get_ids('gbd_round')"
   ]
  },
  {
   "cell_type": "code",
   "execution_count": 11,
   "metadata": {},
   "outputs": [
    {
     "data": {
      "text/html": [
       "<div>\n",
       "<style scoped>\n",
       "    .dataframe tbody tr th:only-of-type {\n",
       "        vertical-align: middle;\n",
       "    }\n",
       "\n",
       "    .dataframe tbody tr th {\n",
       "        vertical-align: top;\n",
       "    }\n",
       "\n",
       "    .dataframe thead th {\n",
       "        text-align: right;\n",
       "    }\n",
       "</style>\n",
       "<table border=\"1\" class=\"dataframe\">\n",
       "  <thead>\n",
       "    <tr style=\"text-align: right;\">\n",
       "      <th></th>\n",
       "      <th>life_table_parameter_id</th>\n",
       "      <th>parameter_name</th>\n",
       "      <th>parameter_description</th>\n",
       "    </tr>\n",
       "  </thead>\n",
       "  <tbody>\n",
       "    <tr>\n",
       "      <th>0</th>\n",
       "      <td>1</td>\n",
       "      <td>mx</td>\n",
       "      <td>mortality rate</td>\n",
       "    </tr>\n",
       "    <tr>\n",
       "      <th>1</th>\n",
       "      <td>2</td>\n",
       "      <td>ax</td>\n",
       "      <td>mean years lived in age interval among those w...</td>\n",
       "    </tr>\n",
       "    <tr>\n",
       "      <th>2</th>\n",
       "      <td>3</td>\n",
       "      <td>qx</td>\n",
       "      <td>probability of death</td>\n",
       "    </tr>\n",
       "    <tr>\n",
       "      <th>3</th>\n",
       "      <td>4</td>\n",
       "      <td>lx</td>\n",
       "      <td>survivorship curve</td>\n",
       "    </tr>\n",
       "    <tr>\n",
       "      <th>4</th>\n",
       "      <td>5</td>\n",
       "      <td>ex</td>\n",
       "      <td>life expectancy</td>\n",
       "    </tr>\n",
       "    <tr>\n",
       "      <th>5</th>\n",
       "      <td>6</td>\n",
       "      <td>pred_ex</td>\n",
       "      <td>interpolated life expectancy from the theoreti...</td>\n",
       "    </tr>\n",
       "    <tr>\n",
       "      <th>6</th>\n",
       "      <td>7</td>\n",
       "      <td>nLx</td>\n",
       "      <td>person years lived between age x and x+n</td>\n",
       "    </tr>\n",
       "    <tr>\n",
       "      <th>7</th>\n",
       "      <td>8</td>\n",
       "      <td>Tx</td>\n",
       "      <td>person-years lived in and above age interval</td>\n",
       "    </tr>\n",
       "  </tbody>\n",
       "</table>\n",
       "</div>"
      ],
      "text/plain": [
       "   life_table_parameter_id parameter_name  \\\n",
       "0                        1             mx   \n",
       "1                        2             ax   \n",
       "2                        3             qx   \n",
       "3                        4             lx   \n",
       "4                        5             ex   \n",
       "5                        6        pred_ex   \n",
       "6                        7            nLx   \n",
       "7                        8             Tx   \n",
       "\n",
       "                               parameter_description  \n",
       "0                                     mortality rate  \n",
       "1  mean years lived in age interval among those w...  \n",
       "2                               probability of death  \n",
       "3                                 survivorship curve  \n",
       "4                                    life expectancy  \n",
       "5  interpolated life expectancy from the theoreti...  \n",
       "6           person years lived between age x and x+n  \n",
       "7       person-years lived in and above age interval  "
      ]
     },
     "execution_count": 11,
     "metadata": {},
     "output_type": "execute_result"
    }
   ],
   "source": [
    "db.get_ids('life_table_parameter')"
   ]
  },
  {
   "cell_type": "code",
   "execution_count": 12,
   "metadata": {},
   "outputs": [
    {
     "data": {
      "text/html": [
       "<div>\n",
       "<style scoped>\n",
       "    .dataframe tbody tr th:only-of-type {\n",
       "        vertical-align: middle;\n",
       "    }\n",
       "\n",
       "    .dataframe tbody tr th {\n",
       "        vertical-align: top;\n",
       "    }\n",
       "\n",
       "    .dataframe thead th {\n",
       "        text-align: right;\n",
       "    }\n",
       "</style>\n",
       "<table border=\"1\" class=\"dataframe\">\n",
       "  <thead>\n",
       "    <tr style=\"text-align: right;\">\n",
       "      <th></th>\n",
       "      <th>sex_id</th>\n",
       "      <th>sex</th>\n",
       "    </tr>\n",
       "  </thead>\n",
       "  <tbody>\n",
       "    <tr>\n",
       "      <th>0</th>\n",
       "      <td>1</td>\n",
       "      <td>Male</td>\n",
       "    </tr>\n",
       "    <tr>\n",
       "      <th>1</th>\n",
       "      <td>2</td>\n",
       "      <td>Female</td>\n",
       "    </tr>\n",
       "    <tr>\n",
       "      <th>2</th>\n",
       "      <td>3</td>\n",
       "      <td>Both</td>\n",
       "    </tr>\n",
       "    <tr>\n",
       "      <th>3</th>\n",
       "      <td>4</td>\n",
       "      <td>Unknown</td>\n",
       "    </tr>\n",
       "  </tbody>\n",
       "</table>\n",
       "</div>"
      ],
      "text/plain": [
       "   sex_id      sex\n",
       "0       1     Male\n",
       "1       2   Female\n",
       "2       3     Both\n",
       "3       4  Unknown"
      ]
     },
     "execution_count": 12,
     "metadata": {},
     "output_type": "execute_result"
    }
   ],
   "source": [
    "db.get_ids('sex')"
   ]
  },
  {
   "cell_type": "code",
   "execution_count": 13,
   "metadata": {},
   "outputs": [
    {
     "data": {
      "text/html": [
       "<div>\n",
       "<style scoped>\n",
       "    .dataframe tbody tr th:only-of-type {\n",
       "        vertical-align: middle;\n",
       "    }\n",
       "\n",
       "    .dataframe tbody tr th {\n",
       "        vertical-align: top;\n",
       "    }\n",
       "\n",
       "    .dataframe thead th {\n",
       "        text-align: right;\n",
       "    }\n",
       "</style>\n",
       "<table border=\"1\" class=\"dataframe\">\n",
       "  <thead>\n",
       "    <tr style=\"text-align: right;\">\n",
       "      <th></th>\n",
       "      <th>study_covariate_id</th>\n",
       "      <th>study_covariate</th>\n",
       "      <th>study_covariate_description</th>\n",
       "    </tr>\n",
       "  </thead>\n",
       "  <tbody>\n",
       "    <tr>\n",
       "      <th>0</th>\n",
       "      <td>0</td>\n",
       "      <td>sex</td>\n",
       "      <td>special sex covariate used to in epi tool only</td>\n",
       "    </tr>\n",
       "    <tr>\n",
       "      <th>1</th>\n",
       "      <td>1</td>\n",
       "      <td>abuse_dependence</td>\n",
       "      <td>identifies results of abuse and dependence com...</td>\n",
       "    </tr>\n",
       "    <tr>\n",
       "      <th>2</th>\n",
       "      <td>2</td>\n",
       "      <td>acne_low</td>\n",
       "      <td>data includes cases of low grade acne</td>\n",
       "    </tr>\n",
       "    <tr>\n",
       "      <th>3</th>\n",
       "      <td>3</td>\n",
       "      <td>asian_datapoints</td>\n",
       "      <td>Identifies  countries from Asia</td>\n",
       "    </tr>\n",
       "    <tr>\n",
       "      <th>4</th>\n",
       "      <td>4</td>\n",
       "      <td>adult_less_5</td>\n",
       "      <td>identifies data of adults with 4 or fewer spec...</td>\n",
       "    </tr>\n",
       "  </tbody>\n",
       "</table>\n",
       "</div>"
      ],
      "text/plain": [
       "   study_covariate_id   study_covariate  \\\n",
       "0                   0               sex   \n",
       "1                   1  abuse_dependence   \n",
       "2                   2          acne_low   \n",
       "3                   3  asian_datapoints   \n",
       "4                   4      adult_less_5   \n",
       "\n",
       "                         study_covariate_description  \n",
       "0     special sex covariate used to in epi tool only  \n",
       "1  identifies results of abuse and dependence com...  \n",
       "2              data includes cases of low grade acne  \n",
       "3                    Identifies  countries from Asia  \n",
       "4  identifies data of adults with 4 or fewer spec...  "
      ]
     },
     "execution_count": 13,
     "metadata": {},
     "output_type": "execute_result"
    }
   ],
   "source": [
    "db.get_ids('study_covariate').head()"
   ]
  },
  {
   "cell_type": "code",
   "execution_count": 14,
   "metadata": {},
   "outputs": [
    {
     "data": {
      "text/html": [
       "<div>\n",
       "<style scoped>\n",
       "    .dataframe tbody tr th:only-of-type {\n",
       "        vertical-align: middle;\n",
       "    }\n",
       "\n",
       "    .dataframe tbody tr th {\n",
       "        vertical-align: top;\n",
       "    }\n",
       "\n",
       "    .dataframe thead th {\n",
       "        text-align: right;\n",
       "    }\n",
       "</style>\n",
       "<table border=\"1\" class=\"dataframe\">\n",
       "  <thead>\n",
       "    <tr style=\"text-align: right;\">\n",
       "      <th></th>\n",
       "      <th>year_id</th>\n",
       "    </tr>\n",
       "  </thead>\n",
       "  <tbody>\n",
       "    <tr>\n",
       "      <th>0</th>\n",
       "      <td>0</td>\n",
       "    </tr>\n",
       "    <tr>\n",
       "      <th>1</th>\n",
       "      <td>1950</td>\n",
       "    </tr>\n",
       "    <tr>\n",
       "      <th>2</th>\n",
       "      <td>1951</td>\n",
       "    </tr>\n",
       "    <tr>\n",
       "      <th>3</th>\n",
       "      <td>1952</td>\n",
       "    </tr>\n",
       "    <tr>\n",
       "      <th>4</th>\n",
       "      <td>1953</td>\n",
       "    </tr>\n",
       "  </tbody>\n",
       "</table>\n",
       "</div>"
      ],
      "text/plain": [
       "   year_id\n",
       "0        0\n",
       "1     1950\n",
       "2     1951\n",
       "3     1952\n",
       "4     1953"
      ]
     },
     "execution_count": 14,
     "metadata": {},
     "output_type": "execute_result"
    }
   ],
   "source": [
    "db.get_ids('year').head()"
   ]
  },
  {
   "cell_type": "code",
   "execution_count": 15,
   "metadata": {},
   "outputs": [
    {
     "data": {
      "text/plain": [
       "0       0\n",
       "1    1950\n",
       "2    1951\n",
       "3    1952\n",
       "4    1953\n",
       "Name: year_id, dtype: object"
      ]
     },
     "execution_count": 15,
     "metadata": {},
     "output_type": "execute_result"
    }
   ],
   "source": [
    "db.get_ids('year')['year_id'].astype(str).head()"
   ]
  },
  {
   "cell_type": "code",
   "execution_count": 16,
   "metadata": {},
   "outputs": [
    {
     "data": {
      "text/html": [
       "<div>\n",
       "<style scoped>\n",
       "    .dataframe tbody tr th:only-of-type {\n",
       "        vertical-align: middle;\n",
       "    }\n",
       "\n",
       "    .dataframe tbody tr th {\n",
       "        vertical-align: top;\n",
       "    }\n",
       "\n",
       "    .dataframe thead th {\n",
       "        text-align: right;\n",
       "    }\n",
       "</style>\n",
       "<table border=\"1\" class=\"dataframe\">\n",
       "  <thead>\n",
       "    <tr style=\"text-align: right;\">\n",
       "      <th></th>\n",
       "    </tr>\n",
       "    <tr>\n",
       "      <th>year_id</th>\n",
       "    </tr>\n",
       "  </thead>\n",
       "  <tbody>\n",
       "    <tr>\n",
       "      <th>0</th>\n",
       "    </tr>\n",
       "    <tr>\n",
       "      <th>1950</th>\n",
       "    </tr>\n",
       "    <tr>\n",
       "      <th>1951</th>\n",
       "    </tr>\n",
       "    <tr>\n",
       "      <th>1952</th>\n",
       "    </tr>\n",
       "    <tr>\n",
       "      <th>1953</th>\n",
       "    </tr>\n",
       "  </tbody>\n",
       "</table>\n",
       "</div>"
      ],
      "text/plain": [
       "Empty DataFrame\n",
       "Columns: []\n",
       "Index: [0, 1950, 1951, 1952, 1953]"
      ]
     },
     "execution_count": 16,
     "metadata": {},
     "output_type": "execute_result"
    }
   ],
   "source": [
    "db.get_ids('year').set_index('year_id').head()"
   ]
  },
  {
   "cell_type": "markdown",
   "metadata": {},
   "source": [
    "### List the anomolous keys so we can copy them to my module"
   ]
  },
  {
   "cell_type": "code",
   "execution_count": 17,
   "metadata": {},
   "outputs": [
    {
     "data": {
      "text/plain": [
       "dict_keys(['cause_set_version', 'gbd_round', 'life_table_parameter', 'location_set_version', 'sequela_set_version', 'sex', 'study_covariate', 'rei_set_version', 'year'])"
      ]
     },
     "execution_count": 17,
     "metadata": {},
     "output_type": "execute_result"
    }
   ],
   "source": [
    "anomalous_entity_names.keys()"
   ]
  },
  {
   "cell_type": "markdown",
   "metadata": {},
   "source": [
    "# Test my `names_to_ids` function and my `ids_to_names` function, with no name or id parameters passed"
   ]
  },
  {
   "cell_type": "code",
   "execution_count": 18,
   "metadata": {},
   "outputs": [
    {
     "data": {
      "text/plain": [
       "age_group_name\n",
       "Under 5           1\n",
       "Early Neonatal    2\n",
       "Late Neonatal     3\n",
       "Post Neonatal     4\n",
       "1 to 4            5\n",
       "Name: age_group_id, dtype: int64"
      ]
     },
     "execution_count": 18,
     "metadata": {},
     "output_type": "execute_result"
    }
   ],
   "source": [
    "names_to_ids_dict = {entity: idh.names_to_ids(entity) for entity in entities}\n",
    "names_to_ids_dict['age_group'].head()"
   ]
  },
  {
   "cell_type": "code",
   "execution_count": 19,
   "metadata": {},
   "outputs": [
    {
     "data": {
      "text/plain": [
       "life_table_parameter_id\n",
       "1         mx\n",
       "2         ax\n",
       "3         qx\n",
       "4         lx\n",
       "5         ex\n",
       "6    pred_ex\n",
       "7        nLx\n",
       "8         Tx\n",
       "Name: parameter_name, dtype: object"
      ]
     },
     "execution_count": 19,
     "metadata": {},
     "output_type": "execute_result"
    }
   ],
   "source": [
    "ids_to_names_dict = {entity: idh.ids_to_names(entity) for entity in entities}\n",
    "ids_to_names_dict['life_table_parameter']"
   ]
  },
  {
   "cell_type": "markdown",
   "metadata": {},
   "source": [
    "## Check that `names_to_ids` and `ids_to_names` are inverses"
   ]
  },
  {
   "cell_type": "code",
   "execution_count": 20,
   "metadata": {},
   "outputs": [
    {
     "data": {
      "text/plain": [
       "parameter_name\n",
       "mx         1\n",
       "ax         2\n",
       "qx         3\n",
       "lx         4\n",
       "ex         5\n",
       "pred_ex    6\n",
       "nLx        7\n",
       "Tx         8\n",
       "Name: life_table_parameter_id, dtype: int64"
      ]
     },
     "execution_count": 20,
     "metadata": {},
     "output_type": "execute_result"
    }
   ],
   "source": [
    "names_to_ids_dict['life_table_parameter']"
   ]
  },
  {
   "cell_type": "code",
   "execution_count": 21,
   "metadata": {},
   "outputs": [
    {
     "data": {
      "text/plain": [
       "True"
      ]
     },
     "execution_count": 21,
     "metadata": {},
     "output_type": "execute_result"
    }
   ],
   "source": [
    "# Check whether the functions are \"aligned\", i.e. entries appear in the same order\n",
    "# This isn't exactly what I was trying to do, but it's thee first thing I did, accidentally\n",
    "names_to_ids_dict['life_table_parameter'][ids_to_names_dict['life_table_parameter']].equals(\n",
    "    names_to_ids_dict['life_table_parameter'])"
   ]
  },
  {
   "cell_type": "code",
   "execution_count": 22,
   "metadata": {},
   "outputs": [
    {
     "data": {
      "text/plain": [
       "{'age_group': True,\n",
       " 'age_group_set': True,\n",
       " 'cause': True,\n",
       " 'cause_set': True,\n",
       " 'cause_set_version': True,\n",
       " 'covariate': True,\n",
       " 'decomp_step': True,\n",
       " 'gbd_round': True,\n",
       " 'healthstate': True,\n",
       " 'indicator_component': True,\n",
       " 'life_table_parameter': True,\n",
       " 'location': True,\n",
       " 'location_set': True,\n",
       " 'location_set_version': True,\n",
       " 'measure': True,\n",
       " 'metric': True,\n",
       " 'modelable_entity': True,\n",
       " 'sdg_indicator': True,\n",
       " 'sequela': True,\n",
       " 'sequela_set': True,\n",
       " 'sequela_set_version': True,\n",
       " 'sex': True,\n",
       " 'split': True,\n",
       " 'study_covariate': True,\n",
       " 'rei': True,\n",
       " 'rei_set': True,\n",
       " 'rei_set_version': True,\n",
       " 'year': True}"
      ]
     },
     "execution_count": 22,
     "metadata": {},
     "output_type": "execute_result"
    }
   ],
   "source": [
    "# Check whether the functions are \"aligned\", i.e. entries appear in the same order\n",
    "ids_names_aligned = {\n",
    "    entity: ids_to_names_dict[entity][names_to_ids_dict[entity]].equals(ids_to_names_dict[entity])\n",
    "    for entity in entities\n",
    "}\n",
    "ids_names_aligned"
   ]
  },
  {
   "cell_type": "code",
   "execution_count": 23,
   "metadata": {},
   "outputs": [
    {
     "data": {
      "text/html": [
       "<div>\n",
       "<style scoped>\n",
       "    .dataframe tbody tr th:only-of-type {\n",
       "        vertical-align: middle;\n",
       "    }\n",
       "\n",
       "    .dataframe tbody tr th {\n",
       "        vertical-align: top;\n",
       "    }\n",
       "\n",
       "    .dataframe thead th {\n",
       "        text-align: right;\n",
       "    }\n",
       "</style>\n",
       "<table border=\"1\" class=\"dataframe\">\n",
       "  <thead>\n",
       "    <tr style=\"text-align: right;\">\n",
       "      <th></th>\n",
       "      <th>parameter_name_x</th>\n",
       "      <th>life_table_parameter_id</th>\n",
       "      <th>parameter_name_y</th>\n",
       "    </tr>\n",
       "  </thead>\n",
       "  <tbody>\n",
       "    <tr>\n",
       "      <th>0</th>\n",
       "      <td>mx</td>\n",
       "      <td>1</td>\n",
       "      <td>mx</td>\n",
       "    </tr>\n",
       "    <tr>\n",
       "      <th>1</th>\n",
       "      <td>ax</td>\n",
       "      <td>2</td>\n",
       "      <td>ax</td>\n",
       "    </tr>\n",
       "    <tr>\n",
       "      <th>2</th>\n",
       "      <td>qx</td>\n",
       "      <td>3</td>\n",
       "      <td>qx</td>\n",
       "    </tr>\n",
       "    <tr>\n",
       "      <th>3</th>\n",
       "      <td>lx</td>\n",
       "      <td>4</td>\n",
       "      <td>lx</td>\n",
       "    </tr>\n",
       "    <tr>\n",
       "      <th>4</th>\n",
       "      <td>ex</td>\n",
       "      <td>5</td>\n",
       "      <td>ex</td>\n",
       "    </tr>\n",
       "    <tr>\n",
       "      <th>5</th>\n",
       "      <td>pred_ex</td>\n",
       "      <td>6</td>\n",
       "      <td>pred_ex</td>\n",
       "    </tr>\n",
       "    <tr>\n",
       "      <th>6</th>\n",
       "      <td>nLx</td>\n",
       "      <td>7</td>\n",
       "      <td>nLx</td>\n",
       "    </tr>\n",
       "    <tr>\n",
       "      <th>7</th>\n",
       "      <td>Tx</td>\n",
       "      <td>8</td>\n",
       "      <td>Tx</td>\n",
       "    </tr>\n",
       "  </tbody>\n",
       "</table>\n",
       "</div>"
      ],
      "text/plain": [
       "  parameter_name_x  life_table_parameter_id parameter_name_y\n",
       "0               mx                        1               mx\n",
       "1               ax                        2               ax\n",
       "2               qx                        3               qx\n",
       "3               lx                        4               lx\n",
       "4               ex                        5               ex\n",
       "5          pred_ex                        6          pred_ex\n",
       "6              nLx                        7              nLx\n",
       "7               Tx                        8               Tx"
      ]
     },
     "execution_count": 23,
     "metadata": {},
     "output_type": "execute_result"
    }
   ],
   "source": [
    "# The functions are inverses is the 'x' column is identical the 'y' column\n",
    "names_to_ids_dict['life_table_parameter'].reset_index().merge(\n",
    "    ids_to_names_dict['life_table_parameter'].reset_index(), on='life_table_parameter_id')"
   ]
  },
  {
   "cell_type": "markdown",
   "metadata": {},
   "source": [
    "# Test some other functions in `id_helper`"
   ]
  },
  {
   "cell_type": "code",
   "execution_count": 24,
   "metadata": {},
   "outputs": [
    {
     "data": {
      "text/html": [
       "<div>\n",
       "<style scoped>\n",
       "    .dataframe tbody tr th:only-of-type {\n",
       "        vertical-align: middle;\n",
       "    }\n",
       "\n",
       "    .dataframe tbody tr th {\n",
       "        vertical-align: top;\n",
       "    }\n",
       "\n",
       "    .dataframe thead th {\n",
       "        text-align: right;\n",
       "    }\n",
       "</style>\n",
       "<table border=\"1\" class=\"dataframe\">\n",
       "  <thead>\n",
       "    <tr style=\"text-align: right;\">\n",
       "      <th></th>\n",
       "      <th>rei_id</th>\n",
       "      <th>rei_name</th>\n",
       "      <th>rei</th>\n",
       "    </tr>\n",
       "  </thead>\n",
       "  <tbody>\n",
       "    <tr>\n",
       "      <th>157</th>\n",
       "      <td>241</td>\n",
       "      <td>Child stunting</td>\n",
       "      <td>nutrition_stunting</td>\n",
       "    </tr>\n",
       "  </tbody>\n",
       "</table>\n",
       "</div>"
      ],
      "text/plain": [
       "     rei_id        rei_name                 rei\n",
       "157     241  Child stunting  nutrition_stunting"
      ]
     },
     "execution_count": 24,
     "metadata": {},
     "output_type": "execute_result"
    }
   ],
   "source": [
    "idh.search_id_table('rei', 'stunting', case=False)"
   ]
  },
  {
   "cell_type": "code",
   "execution_count": 25,
   "metadata": {},
   "outputs": [
    {
     "data": {
      "text/plain": [
       "241"
      ]
     },
     "execution_count": 25,
     "metadata": {},
     "output_type": "execute_result"
    }
   ],
   "source": [
    "idh.find_ids('rei', 'stunting', case=False)"
   ]
  },
  {
   "cell_type": "code",
   "execution_count": 26,
   "metadata": {},
   "outputs": [
    {
     "data": {
      "text/plain": [
       "rei_name\n",
       "Child stunting    241\n",
       "Name: rei_id, dtype: int64"
      ]
     },
     "execution_count": 26,
     "metadata": {},
     "output_type": "execute_result"
    }
   ],
   "source": [
    "idh.names_to_ids('rei', 'Child stunting')"
   ]
  },
  {
   "cell_type": "code",
   "execution_count": 27,
   "metadata": {},
   "outputs": [
    {
     "data": {
      "text/plain": [
       "241"
      ]
     },
     "execution_count": 27,
     "metadata": {},
     "output_type": "execute_result"
    }
   ],
   "source": [
    "idh.list_ids('rei', 'Child stunting')"
   ]
  },
  {
   "cell_type": "code",
   "execution_count": 28,
   "metadata": {},
   "outputs": [
    {
     "data": {
      "text/plain": [
       "[240, 241]"
      ]
     },
     "execution_count": 28,
     "metadata": {},
     "output_type": "execute_result"
    }
   ],
   "source": [
    "# Why are these in opposite order?\n",
    "idh.list_ids('rei', 'Child stunting', 'Child wasting')"
   ]
  },
  {
   "cell_type": "code",
   "execution_count": 29,
   "metadata": {},
   "outputs": [
    {
     "data": {
      "text/plain": [
       "rei_name\n",
       "Child wasting     240\n",
       "Child stunting    241\n",
       "Name: rei_id, dtype: int64"
      ]
     },
     "execution_count": 29,
     "metadata": {},
     "output_type": "execute_result"
    }
   ],
   "source": [
    "# Oh, because they must be in the opposite order in the rei id table\n",
    "idh.names_to_ids('rei', 'Child stunting', 'Child wasting')"
   ]
  },
  {
   "cell_type": "code",
   "execution_count": 30,
   "metadata": {},
   "outputs": [
    {
     "data": {
      "text/plain": [
       "\"\\nModule to facilitate using GBD id's in the shared functions.\\n\""
      ]
     },
     "execution_count": 30,
     "metadata": {},
     "output_type": "execute_result"
    }
   ],
   "source": [
    "idh.__doc__"
   ]
  },
  {
   "cell_type": "code",
   "execution_count": 31,
   "metadata": {},
   "outputs": [
    {
     "data": {
      "text/plain": [
       "22"
      ]
     },
     "execution_count": 31,
     "metadata": {},
     "output_type": "execute_result"
    }
   ],
   "source": [
    "len(idh.get_entities_from_docstring())"
   ]
  },
  {
   "cell_type": "code",
   "execution_count": 32,
   "metadata": {},
   "outputs": [
    {
     "data": {
      "text/plain": [
       "28"
      ]
     },
     "execution_count": 32,
     "metadata": {},
     "output_type": "execute_result"
    }
   ],
   "source": [
    "len(idh.entities)"
   ]
  },
  {
   "cell_type": "code",
   "execution_count": 33,
   "metadata": {},
   "outputs": [
    {
     "data": {
      "text/plain": [
       "{'cause_set_version': Index(['cause_set_version_id', 'cause_set_version',\n",
       "        'cause_set_version_description'],\n",
       "       dtype='object'),\n",
       " 'gbd_round': Index(['gbd_round_id', 'gbd_round'], dtype='object'),\n",
       " 'life_table_parameter': Index(['life_table_parameter_id', 'parameter_name', 'parameter_description'], dtype='object'),\n",
       " 'location_set_version': Index(['location_set_version_id', 'location_set_version',\n",
       "        'location_set_version_description'],\n",
       "       dtype='object'),\n",
       " 'sequela_set_version': Index(['sequela_set_version_id', 'sequela_set_version',\n",
       "        'sequela_set_version_description'],\n",
       "       dtype='object'),\n",
       " 'sex': Index(['sex_id', 'sex'], dtype='object'),\n",
       " 'study_covariate': Index(['study_covariate_id', 'study_covariate', 'study_covariate_description'], dtype='object'),\n",
       " 'rei_set_version': Index(['rei_set_version_id', 'rei_set_version', 'rei_set_version_description'], dtype='object'),\n",
       " 'year': Index(['year_id'], dtype='object')}"
      ]
     },
     "execution_count": 33,
     "metadata": {},
     "output_type": "execute_result"
    }
   ],
   "source": [
    "idh.find_anomalous_name_columns(idh.entities)"
   ]
  },
  {
   "cell_type": "code",
   "execution_count": null,
   "metadata": {},
   "outputs": [],
   "source": []
  }
 ],
 "metadata": {
  "kernelspec": {
   "display_name": "Python 3",
   "language": "python",
   "name": "python3"
  },
  "language_info": {
   "codemirror_mode": {
    "name": "ipython",
    "version": 3
   },
   "file_extension": ".py",
   "mimetype": "text/x-python",
   "name": "python",
   "nbconvert_exporter": "python",
   "pygments_lexer": "ipython3",
   "version": "3.7.0"
  }
 },
 "nbformat": 4,
 "nbformat_minor": 4
}
