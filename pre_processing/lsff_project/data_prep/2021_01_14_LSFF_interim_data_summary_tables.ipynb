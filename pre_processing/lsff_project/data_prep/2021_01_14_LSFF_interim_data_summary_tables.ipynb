{
 "cells": [
  {
   "cell_type": "code",
   "execution_count": 1,
   "metadata": {},
   "outputs": [],
   "source": [
    "import pandas as pd, numpy as np"
   ]
  },
  {
   "cell_type": "markdown",
   "metadata": {},
   "source": [
    "# LSFF: Generate data summary tables"
   ]
  },
  {
   "cell_type": "code",
   "execution_count": 2,
   "metadata": {},
   "outputs": [],
   "source": [
    "## read in data\n",
    "path = '/ihme/homes/beatrixh/repos/scratch/stage0_data_lsff_2021_01_13.csv'\n",
    "df = pd.read_csv(path)"
   ]
  },
  {
   "cell_type": "code",
   "execution_count": 3,
   "metadata": {},
   "outputs": [],
   "source": [
    "## load targets\n",
    "import pickle\n",
    "data_prep_dir = '/ihme/scratch/users/beatrixh/vivarium_data_analysis/pre_processing/lsff_project/data_prep/'\n",
    "\n",
    "with open(data_prep_dir + 'lsff_vehicle_nutrient_pairs.pickle', 'rb') as handle:\n",
    "    vehicle_nutrient_map = pickle.load(handle)\n",
    "    \n",
    "with open(data_prep_dir + 'lsff_country_vehicle_pairs.pickle', 'rb') as handle:\n",
    "    country_vehicle_map = pickle.load(handle)\n",
    "\n",
    "countries = [i for i in country_vehicle_map.keys() if type(i)==str]"
   ]
  },
  {
   "cell_type": "code",
   "execution_count": 4,
   "metadata": {},
   "outputs": [],
   "source": [
    "## for convenience\n",
    "check_cols = ['location_id','location_name','vehicle','value_description','nutrient','value_mean','value_025_percentile',\n",
    "       'value_975_percentile','notes']"
   ]
  },
  {
   "cell_type": "code",
   "execution_count": null,
   "metadata": {},
   "outputs": [],
   "source": [
    "## check that we have nutrients iff expected"
   ]
  },
  {
   "cell_type": "code",
   "execution_count": 6,
   "metadata": {},
   "outputs": [
    {
     "data": {
      "text/plain": [
       "array(['percent of vehicle that is industrially produced',\n",
       "       'percent of population eating industrially produced vehicle',\n",
       "       'percent of population eating vehicle'], dtype=object)"
      ]
     },
     "execution_count": 6,
     "metadata": {},
     "output_type": "execute_result"
    }
   ],
   "source": [
    "df[df.nutrient=='na'].value_description.unique()"
   ]
  },
  {
   "cell_type": "code",
   "execution_count": 7,
   "metadata": {},
   "outputs": [
    {
     "data": {
      "text/plain": [
       "array(['percent of population eating fortified vehicle',\n",
       "       'percent of vehicle that is fortified'], dtype=object)"
      ]
     },
     "execution_count": 7,
     "metadata": {},
     "output_type": "execute_result"
    }
   ],
   "source": [
    "df[df.nutrient!='na'].value_description.unique()"
   ]
  },
  {
   "cell_type": "code",
   "execution_count": 8,
   "metadata": {},
   "outputs": [],
   "source": [
    "# df.loc[(df.value_description.isin(['percent of vehicle that is industrially produced','percent of population eating vehicle',\n",
    "#                                   'percent of population eating industrially produced vehicle'])),'nutrient'] = 'na'"
   ]
  },
  {
   "cell_type": "code",
   "execution_count": null,
   "metadata": {},
   "outputs": [],
   "source": [
    "## relabel vals"
   ]
  },
  {
   "cell_type": "code",
   "execution_count": 9,
   "metadata": {},
   "outputs": [],
   "source": [
    "#https://journals.sagepub.com/doi/pdf/10.1177/15648265120334S307\n",
    "# cote divoire,\n",
    "# \"During the last year of the project, 206,410 MT of\n",
    "# vegetable oil was marketed in Côte d’Ivoire. The fortified\n",
    "# vegetable oil was covering 89% of the market.\"\n",
    "\n",
    "val_descrip_map = {'percent of population eating fortified vehicle': 'percent of population eating fortified vehicle',\n",
    " 'percent of vehicle that is industrially produced': 'percent of vehicle that is industrially produced',\n",
    " 'percent of vehicle that is fortified': 'percent of vehicle that is fortified',\n",
    " 'percent of population eating industrially produced vehicle': 'percent of population eating industrially produced vehicle',\n",
    " 'percent of marketshare of fortified products': 'percent of market covered by fortified product',\n",
    " 'percent of population eating vehicle': 'percent of population eating vehicle'}\n",
    "\n",
    "df.value_description = df.value_description.map(val_descrip_map)"
   ]
  },
  {
   "cell_type": "code",
   "execution_count": 10,
   "metadata": {},
   "outputs": [],
   "source": [
    "## build frame containing all the county - vehicle - val_des - nutrient combinations we need"
   ]
  },
  {
   "cell_type": "code",
   "execution_count": 11,
   "metadata": {},
   "outputs": [],
   "source": [
    "nutrient_relevant_vds = ['percent of population eating fortified vehicle',\n",
    "       'percent of vehicle that is fortified',\n",
    "       'percent of market covered by fortified product']\n",
    "data_counts_a = pd.DataFrame([(i,j,k,l) for i in countries for j in country_vehicle_map[i] for k in vehicle_nutrient_map[j]\n",
    "                             for l in nutrient_relevant_vds],\n",
    "                            columns = ['location_name','vehicle','nutrient','value_description'])"
   ]
  },
  {
   "cell_type": "code",
   "execution_count": 12,
   "metadata": {},
   "outputs": [],
   "source": [
    "nutrient_irrelevant_vds = ['percent of vehicle that is industrially produced',\n",
    "       'percent of population eating industrially produced vehicle',\n",
    "       'percent of population eating vehicle']\n",
    "\n",
    "data_counts_b = pd.DataFrame([(i,j,'na',k) for i in countries for j in country_vehicle_map[i] for k in nutrient_irrelevant_vds],\n",
    "                          columns = ['location_name','vehicle','nutrient','value_description'])"
   ]
  },
  {
   "cell_type": "code",
   "execution_count": 13,
   "metadata": {},
   "outputs": [],
   "source": [
    "# for each country - vehicle - value_desciption - nutrient, count how many datapoints we have\n",
    "data_counts = data_counts_a.append(data_counts_b).sort_values(by=['location_name','vehicle','value_description','nutrient'])"
   ]
  },
  {
   "cell_type": "code",
   "execution_count": 14,
   "metadata": {},
   "outputs": [
    {
     "data": {
      "text/html": [
       "<div>\n",
       "<style scoped>\n",
       "    .dataframe tbody tr th:only-of-type {\n",
       "        vertical-align: middle;\n",
       "    }\n",
       "\n",
       "    .dataframe tbody tr th {\n",
       "        vertical-align: top;\n",
       "    }\n",
       "\n",
       "    .dataframe thead th {\n",
       "        text-align: right;\n",
       "    }\n",
       "</style>\n",
       "<table border=\"1\" class=\"dataframe\">\n",
       "  <thead>\n",
       "    <tr style=\"text-align: right;\">\n",
       "      <th></th>\n",
       "      <th>location_name</th>\n",
       "      <th>vehicle</th>\n",
       "      <th>nutrient</th>\n",
       "      <th>value_description</th>\n",
       "    </tr>\n",
       "  </thead>\n",
       "  <tbody>\n",
       "    <tr>\n",
       "      <th>809</th>\n",
       "      <td>Angola</td>\n",
       "      <td>maize flour</td>\n",
       "      <td>folic acid</td>\n",
       "      <td>percent of market covered by fortified product</td>\n",
       "    </tr>\n",
       "    <tr>\n",
       "      <th>812</th>\n",
       "      <td>Angola</td>\n",
       "      <td>maize flour</td>\n",
       "      <td>iron</td>\n",
       "      <td>percent of market covered by fortified product</td>\n",
       "    </tr>\n",
       "    <tr>\n",
       "      <th>824</th>\n",
       "      <td>Angola</td>\n",
       "      <td>maize flour</td>\n",
       "      <td>vitamin a</td>\n",
       "      <td>percent of market covered by fortified product</td>\n",
       "    </tr>\n",
       "    <tr>\n",
       "      <th>818</th>\n",
       "      <td>Angola</td>\n",
       "      <td>maize flour</td>\n",
       "      <td>vitamin b1</td>\n",
       "      <td>percent of market covered by fortified product</td>\n",
       "    </tr>\n",
       "    <tr>\n",
       "      <th>821</th>\n",
       "      <td>Angola</td>\n",
       "      <td>maize flour</td>\n",
       "      <td>vitamin b12</td>\n",
       "      <td>percent of market covered by fortified product</td>\n",
       "    </tr>\n",
       "  </tbody>\n",
       "</table>\n",
       "</div>"
      ],
      "text/plain": [
       "    location_name      vehicle     nutrient  \\\n",
       "809        Angola  maize flour   folic acid   \n",
       "812        Angola  maize flour         iron   \n",
       "824        Angola  maize flour    vitamin a   \n",
       "818        Angola  maize flour   vitamin b1   \n",
       "821        Angola  maize flour  vitamin b12   \n",
       "\n",
       "                                  value_description  \n",
       "809  percent of market covered by fortified product  \n",
       "812  percent of market covered by fortified product  \n",
       "824  percent of market covered by fortified product  \n",
       "818  percent of market covered by fortified product  \n",
       "821  percent of market covered by fortified product  "
      ]
     },
     "execution_count": 14,
     "metadata": {},
     "output_type": "execute_result"
    }
   ],
   "source": [
    "data_counts.head()"
   ]
  },
  {
   "cell_type": "code",
   "execution_count": 16,
   "metadata": {},
   "outputs": [],
   "source": [
    "## merge the data we have onto the frame"
   ]
  },
  {
   "cell_type": "code",
   "execution_count": 17,
   "metadata": {},
   "outputs": [],
   "source": [
    "merge_cols = ['location_name','vehicle','value_description','nutrient']\n",
    "data_counts = data_counts.merge(df[merge_cols + ['value_mean']], on = merge_cols, how = 'left')"
   ]
  },
  {
   "cell_type": "code",
   "execution_count": 18,
   "metadata": {},
   "outputs": [
    {
     "data": {
      "text/html": [
       "<div>\n",
       "<style scoped>\n",
       "    .dataframe tbody tr th:only-of-type {\n",
       "        vertical-align: middle;\n",
       "    }\n",
       "\n",
       "    .dataframe tbody tr th {\n",
       "        vertical-align: top;\n",
       "    }\n",
       "\n",
       "    .dataframe thead th {\n",
       "        text-align: right;\n",
       "    }\n",
       "</style>\n",
       "<table border=\"1\" class=\"dataframe\">\n",
       "  <thead>\n",
       "    <tr style=\"text-align: right;\">\n",
       "      <th></th>\n",
       "      <th>location_name</th>\n",
       "      <th>vehicle</th>\n",
       "      <th>nutrient</th>\n",
       "      <th>value_description</th>\n",
       "      <th>value_mean</th>\n",
       "    </tr>\n",
       "  </thead>\n",
       "  <tbody>\n",
       "    <tr>\n",
       "      <th>0</th>\n",
       "      <td>Angola</td>\n",
       "      <td>maize flour</td>\n",
       "      <td>folic acid</td>\n",
       "      <td>percent of market covered by fortified product</td>\n",
       "      <td>NaN</td>\n",
       "    </tr>\n",
       "    <tr>\n",
       "      <th>1</th>\n",
       "      <td>Angola</td>\n",
       "      <td>maize flour</td>\n",
       "      <td>iron</td>\n",
       "      <td>percent of market covered by fortified product</td>\n",
       "      <td>NaN</td>\n",
       "    </tr>\n",
       "    <tr>\n",
       "      <th>2</th>\n",
       "      <td>Angola</td>\n",
       "      <td>maize flour</td>\n",
       "      <td>vitamin a</td>\n",
       "      <td>percent of market covered by fortified product</td>\n",
       "      <td>NaN</td>\n",
       "    </tr>\n",
       "    <tr>\n",
       "      <th>3</th>\n",
       "      <td>Angola</td>\n",
       "      <td>maize flour</td>\n",
       "      <td>vitamin b1</td>\n",
       "      <td>percent of market covered by fortified product</td>\n",
       "      <td>NaN</td>\n",
       "    </tr>\n",
       "    <tr>\n",
       "      <th>4</th>\n",
       "      <td>Angola</td>\n",
       "      <td>maize flour</td>\n",
       "      <td>vitamin b12</td>\n",
       "      <td>percent of market covered by fortified product</td>\n",
       "      <td>NaN</td>\n",
       "    </tr>\n",
       "    <tr>\n",
       "      <th>...</th>\n",
       "      <td>...</td>\n",
       "      <td>...</td>\n",
       "      <td>...</td>\n",
       "      <td>...</td>\n",
       "      <td>...</td>\n",
       "    </tr>\n",
       "    <tr>\n",
       "      <th>1604</th>\n",
       "      <td>Vietnam</td>\n",
       "      <td>wheat flour</td>\n",
       "      <td>vitamin b1</td>\n",
       "      <td>percent of vehicle that is fortified</td>\n",
       "      <td>0.0</td>\n",
       "    </tr>\n",
       "    <tr>\n",
       "      <th>1605</th>\n",
       "      <td>Vietnam</td>\n",
       "      <td>wheat flour</td>\n",
       "      <td>vitamin b12</td>\n",
       "      <td>percent of vehicle that is fortified</td>\n",
       "      <td>0.0</td>\n",
       "    </tr>\n",
       "    <tr>\n",
       "      <th>1606</th>\n",
       "      <td>Vietnam</td>\n",
       "      <td>wheat flour</td>\n",
       "      <td>zinc</td>\n",
       "      <td>percent of vehicle that is fortified</td>\n",
       "      <td>0.0</td>\n",
       "    </tr>\n",
       "    <tr>\n",
       "      <th>1607</th>\n",
       "      <td>Vietnam</td>\n",
       "      <td>wheat flour</td>\n",
       "      <td>na</td>\n",
       "      <td>percent of vehicle that is industrially produced</td>\n",
       "      <td>100.0</td>\n",
       "    </tr>\n",
       "    <tr>\n",
       "      <th>1608</th>\n",
       "      <td>Vietnam</td>\n",
       "      <td>wheat flour</td>\n",
       "      <td>na</td>\n",
       "      <td>percent of vehicle that is industrially produced</td>\n",
       "      <td>100.0</td>\n",
       "    </tr>\n",
       "  </tbody>\n",
       "</table>\n",
       "<p>1609 rows × 5 columns</p>\n",
       "</div>"
      ],
      "text/plain": [
       "     location_name      vehicle     nutrient  \\\n",
       "0           Angola  maize flour   folic acid   \n",
       "1           Angola  maize flour         iron   \n",
       "2           Angola  maize flour    vitamin a   \n",
       "3           Angola  maize flour   vitamin b1   \n",
       "4           Angola  maize flour  vitamin b12   \n",
       "...            ...          ...          ...   \n",
       "1604       Vietnam  wheat flour   vitamin b1   \n",
       "1605       Vietnam  wheat flour  vitamin b12   \n",
       "1606       Vietnam  wheat flour         zinc   \n",
       "1607       Vietnam  wheat flour           na   \n",
       "1608       Vietnam  wheat flour           na   \n",
       "\n",
       "                                     value_description  value_mean  \n",
       "0       percent of market covered by fortified product         NaN  \n",
       "1       percent of market covered by fortified product         NaN  \n",
       "2       percent of market covered by fortified product         NaN  \n",
       "3       percent of market covered by fortified product         NaN  \n",
       "4       percent of market covered by fortified product         NaN  \n",
       "...                                                ...         ...  \n",
       "1604              percent of vehicle that is fortified         0.0  \n",
       "1605              percent of vehicle that is fortified         0.0  \n",
       "1606              percent of vehicle that is fortified         0.0  \n",
       "1607  percent of vehicle that is industrially produced       100.0  \n",
       "1608  percent of vehicle that is industrially produced       100.0  \n",
       "\n",
       "[1609 rows x 5 columns]"
      ]
     },
     "execution_count": 18,
     "metadata": {},
     "output_type": "execute_result"
    }
   ],
   "source": [
    "data_counts"
   ]
  },
  {
   "cell_type": "code",
   "execution_count": null,
   "metadata": {},
   "outputs": [],
   "source": [
    "# group and add columns for:\n",
    "    # number of datapoints we have per desired val\n",
    "    # a list of mean_values for all such data points"
   ]
  },
  {
   "cell_type": "code",
   "execution_count": 25,
   "metadata": {},
   "outputs": [],
   "source": [
    "data_counts_detail = data_counts.groupby(merge_cols).aggregate(lambda x : x.tolist())\n",
    "data_counts_n = data_counts.groupby(merge_cols).count()\n",
    "\n",
    "data_counts_all = data_counts_n.merge(data_counts_detail, on = merge_cols, how = 'left')\n",
    "data_counts_all = data_counts_all.rename(columns={'value_mean_x':'n_data_points','value_mean_y':'value_means'})\n",
    "data_counts_all = data_counts_all.reset_index()"
   ]
  },
  {
   "cell_type": "code",
   "execution_count": 29,
   "metadata": {},
   "outputs": [
    {
     "data": {
      "text/plain": [
       "array(['percent of market covered by fortified product',\n",
       "       'percent of population eating fortified vehicle',\n",
       "       'percent of population eating industrially produced vehicle',\n",
       "       'percent of population eating vehicle',\n",
       "       'percent of vehicle that is fortified',\n",
       "       'percent of vehicle that is industrially produced'], dtype=object)"
      ]
     },
     "execution_count": 29,
     "metadata": {},
     "output_type": "execute_result"
    }
   ],
   "source": [
    "data_counts_all.value_description.unique()"
   ]
  },
  {
   "cell_type": "markdown",
   "metadata": {},
   "source": [
    "## save data summaries"
   ]
  },
  {
   "cell_type": "code",
   "execution_count": null,
   "metadata": {},
   "outputs": [],
   "source": [
    "save_dir = '/ihme/scratch/users/beatrixh/vivarium_data_analysis/pre_processing/lsff_project/data_prep/'"
   ]
  },
  {
   "cell_type": "markdown",
   "metadata": {},
   "source": [
    "## eating fortified vehicle"
   ]
  },
  {
   "cell_type": "code",
   "execution_count": 30,
   "metadata": {},
   "outputs": [],
   "source": [
    "eating_fortified = data_counts_all[data_counts_all.value_description==\"percent of population eating fortified vehicle\"]\n",
    "eating_fortified.to_csv(save_dir + '/data_summary_percent_of_population_eating_fortified_vehicle.csv')"
   ]
  },
  {
   "cell_type": "markdown",
   "metadata": {},
   "source": [
    "## eating industrially produced vehicle"
   ]
  },
  {
   "cell_type": "code",
   "execution_count": 35,
   "metadata": {},
   "outputs": [],
   "source": [
    "eating_ind_prod = data_counts_all[data_counts_all.value_description==\"percent of population eating industrially produced vehicle\"]\n",
    "eating_ind_prod.to_csv(save_dir + '/data_summary_percent_of_population_eating_industrially_prod_vehicle.csv')"
   ]
  },
  {
   "cell_type": "markdown",
   "metadata": {},
   "source": [
    "## eating vehicle"
   ]
  },
  {
   "cell_type": "code",
   "execution_count": 37,
   "metadata": {},
   "outputs": [],
   "source": [
    "eating_vehicle = data_counts_all[data_counts_all.value_description==\"percent of population eating vehicle\"]\n",
    "\n",
    "#subset NAs to only those countries-vehicles where we don't have\n",
    "#(% of population eating fortified) & (% eating industrially produced)\n"
   ]
  },
  {
   "cell_type": "code",
   "execution_count": 69,
   "metadata": {
    "collapsed": true
   },
   "outputs": [
    {
     "data": {
      "text/html": [
       "<div>\n",
       "<style scoped>\n",
       "    .dataframe tbody tr th:only-of-type {\n",
       "        vertical-align: middle;\n",
       "    }\n",
       "\n",
       "    .dataframe tbody tr th {\n",
       "        vertical-align: top;\n",
       "    }\n",
       "\n",
       "    .dataframe thead th {\n",
       "        text-align: right;\n",
       "    }\n",
       "</style>\n",
       "<table border=\"1\" class=\"dataframe\">\n",
       "  <thead>\n",
       "    <tr style=\"text-align: right;\">\n",
       "      <th>value_description</th>\n",
       "      <th>location_name</th>\n",
       "      <th>vehicle</th>\n",
       "      <th>nutrient</th>\n",
       "      <th>percent of market covered by fortified product</th>\n",
       "      <th>percent of population eating fortified vehicle</th>\n",
       "      <th>percent of population eating industrially produced vehicle</th>\n",
       "      <th>percent of population eating vehicle</th>\n",
       "      <th>percent of vehicle that is fortified</th>\n",
       "      <th>percent of vehicle that is industrially produced</th>\n",
       "    </tr>\n",
       "  </thead>\n",
       "  <tbody>\n",
       "    <tr>\n",
       "      <th>0</th>\n",
       "      <td>Angola</td>\n",
       "      <td>maize flour</td>\n",
       "      <td>folic acid</td>\n",
       "      <td>0.0</td>\n",
       "      <td>0.0</td>\n",
       "      <td>NaN</td>\n",
       "      <td>NaN</td>\n",
       "      <td>0.0</td>\n",
       "      <td>NaN</td>\n",
       "    </tr>\n",
       "    <tr>\n",
       "      <th>1</th>\n",
       "      <td>Angola</td>\n",
       "      <td>maize flour</td>\n",
       "      <td>iron</td>\n",
       "      <td>0.0</td>\n",
       "      <td>0.0</td>\n",
       "      <td>NaN</td>\n",
       "      <td>NaN</td>\n",
       "      <td>0.0</td>\n",
       "      <td>NaN</td>\n",
       "    </tr>\n",
       "    <tr>\n",
       "      <th>2</th>\n",
       "      <td>Angola</td>\n",
       "      <td>maize flour</td>\n",
       "      <td>na</td>\n",
       "      <td>NaN</td>\n",
       "      <td>NaN</td>\n",
       "      <td>0.0</td>\n",
       "      <td>0.0</td>\n",
       "      <td>NaN</td>\n",
       "      <td>1.0</td>\n",
       "    </tr>\n",
       "    <tr>\n",
       "      <th>3</th>\n",
       "      <td>Angola</td>\n",
       "      <td>maize flour</td>\n",
       "      <td>vitamin a</td>\n",
       "      <td>0.0</td>\n",
       "      <td>0.0</td>\n",
       "      <td>NaN</td>\n",
       "      <td>NaN</td>\n",
       "      <td>0.0</td>\n",
       "      <td>NaN</td>\n",
       "    </tr>\n",
       "    <tr>\n",
       "      <th>4</th>\n",
       "      <td>Angola</td>\n",
       "      <td>maize flour</td>\n",
       "      <td>vitamin b1</td>\n",
       "      <td>0.0</td>\n",
       "      <td>0.0</td>\n",
       "      <td>NaN</td>\n",
       "      <td>NaN</td>\n",
       "      <td>0.0</td>\n",
       "      <td>NaN</td>\n",
       "    </tr>\n",
       "    <tr>\n",
       "      <th>...</th>\n",
       "      <td>...</td>\n",
       "      <td>...</td>\n",
       "      <td>...</td>\n",
       "      <td>...</td>\n",
       "      <td>...</td>\n",
       "      <td>...</td>\n",
       "      <td>...</td>\n",
       "      <td>...</td>\n",
       "      <td>...</td>\n",
       "    </tr>\n",
       "    <tr>\n",
       "      <th>426</th>\n",
       "      <td>Vietnam</td>\n",
       "      <td>wheat flour</td>\n",
       "      <td>na</td>\n",
       "      <td>NaN</td>\n",
       "      <td>NaN</td>\n",
       "      <td>0.0</td>\n",
       "      <td>10.0</td>\n",
       "      <td>NaN</td>\n",
       "      <td>2.0</td>\n",
       "    </tr>\n",
       "    <tr>\n",
       "      <th>427</th>\n",
       "      <td>Vietnam</td>\n",
       "      <td>wheat flour</td>\n",
       "      <td>vitamin a</td>\n",
       "      <td>0.0</td>\n",
       "      <td>0.0</td>\n",
       "      <td>NaN</td>\n",
       "      <td>NaN</td>\n",
       "      <td>1.0</td>\n",
       "      <td>NaN</td>\n",
       "    </tr>\n",
       "    <tr>\n",
       "      <th>428</th>\n",
       "      <td>Vietnam</td>\n",
       "      <td>wheat flour</td>\n",
       "      <td>vitamin b1</td>\n",
       "      <td>0.0</td>\n",
       "      <td>0.0</td>\n",
       "      <td>NaN</td>\n",
       "      <td>NaN</td>\n",
       "      <td>1.0</td>\n",
       "      <td>NaN</td>\n",
       "    </tr>\n",
       "    <tr>\n",
       "      <th>429</th>\n",
       "      <td>Vietnam</td>\n",
       "      <td>wheat flour</td>\n",
       "      <td>vitamin b12</td>\n",
       "      <td>0.0</td>\n",
       "      <td>0.0</td>\n",
       "      <td>NaN</td>\n",
       "      <td>NaN</td>\n",
       "      <td>1.0</td>\n",
       "      <td>NaN</td>\n",
       "    </tr>\n",
       "    <tr>\n",
       "      <th>430</th>\n",
       "      <td>Vietnam</td>\n",
       "      <td>wheat flour</td>\n",
       "      <td>zinc</td>\n",
       "      <td>0.0</td>\n",
       "      <td>0.0</td>\n",
       "      <td>NaN</td>\n",
       "      <td>NaN</td>\n",
       "      <td>1.0</td>\n",
       "      <td>NaN</td>\n",
       "    </tr>\n",
       "  </tbody>\n",
       "</table>\n",
       "<p>431 rows × 9 columns</p>\n",
       "</div>"
      ],
      "text/plain": [
       "value_description location_name      vehicle     nutrient  \\\n",
       "0                        Angola  maize flour   folic acid   \n",
       "1                        Angola  maize flour         iron   \n",
       "2                        Angola  maize flour           na   \n",
       "3                        Angola  maize flour    vitamin a   \n",
       "4                        Angola  maize flour   vitamin b1   \n",
       "..                          ...          ...          ...   \n",
       "426                     Vietnam  wheat flour           na   \n",
       "427                     Vietnam  wheat flour    vitamin a   \n",
       "428                     Vietnam  wheat flour   vitamin b1   \n",
       "429                     Vietnam  wheat flour  vitamin b12   \n",
       "430                     Vietnam  wheat flour         zinc   \n",
       "\n",
       "value_description  percent of market covered by fortified product  \\\n",
       "0                                                             0.0   \n",
       "1                                                             0.0   \n",
       "2                                                             NaN   \n",
       "3                                                             0.0   \n",
       "4                                                             0.0   \n",
       "..                                                            ...   \n",
       "426                                                           NaN   \n",
       "427                                                           0.0   \n",
       "428                                                           0.0   \n",
       "429                                                           0.0   \n",
       "430                                                           0.0   \n",
       "\n",
       "value_description  percent of population eating fortified vehicle  \\\n",
       "0                                                             0.0   \n",
       "1                                                             0.0   \n",
       "2                                                             NaN   \n",
       "3                                                             0.0   \n",
       "4                                                             0.0   \n",
       "..                                                            ...   \n",
       "426                                                           NaN   \n",
       "427                                                           0.0   \n",
       "428                                                           0.0   \n",
       "429                                                           0.0   \n",
       "430                                                           0.0   \n",
       "\n",
       "value_description  percent of population eating industrially produced vehicle  \\\n",
       "0                                                                NaN            \n",
       "1                                                                NaN            \n",
       "2                                                                0.0            \n",
       "3                                                                NaN            \n",
       "4                                                                NaN            \n",
       "..                                                               ...            \n",
       "426                                                              0.0            \n",
       "427                                                              NaN            \n",
       "428                                                              NaN            \n",
       "429                                                              NaN            \n",
       "430                                                              NaN            \n",
       "\n",
       "value_description  percent of population eating vehicle  \\\n",
       "0                                                   NaN   \n",
       "1                                                   NaN   \n",
       "2                                                   0.0   \n",
       "3                                                   NaN   \n",
       "4                                                   NaN   \n",
       "..                                                  ...   \n",
       "426                                                10.0   \n",
       "427                                                 NaN   \n",
       "428                                                 NaN   \n",
       "429                                                 NaN   \n",
       "430                                                 NaN   \n",
       "\n",
       "value_description  percent of vehicle that is fortified  \\\n",
       "0                                                   0.0   \n",
       "1                                                   0.0   \n",
       "2                                                   NaN   \n",
       "3                                                   0.0   \n",
       "4                                                   0.0   \n",
       "..                                                  ...   \n",
       "426                                                 NaN   \n",
       "427                                                 1.0   \n",
       "428                                                 1.0   \n",
       "429                                                 1.0   \n",
       "430                                                 1.0   \n",
       "\n",
       "value_description  percent of vehicle that is industrially produced  \n",
       "0                                                               NaN  \n",
       "1                                                               NaN  \n",
       "2                                                               1.0  \n",
       "3                                                               NaN  \n",
       "4                                                               NaN  \n",
       "..                                                              ...  \n",
       "426                                                             2.0  \n",
       "427                                                             NaN  \n",
       "428                                                             NaN  \n",
       "429                                                             NaN  \n",
       "430                                                             NaN  \n",
       "\n",
       "[431 rows x 9 columns]"
      ]
     },
     "execution_count": 69,
     "metadata": {},
     "output_type": "execute_result"
    }
   ],
   "source": [
    "data_counts_wide = pd.pivot_table(data_counts_all, index = ['location_name','vehicle','nutrient'], columns = 'value_description', values = 'n_data_points')\n",
    "data_counts_wide = data_counts_wide.reset_index()"
   ]
  },
  {
   "cell_type": "code",
   "execution_count": 70,
   "metadata": {},
   "outputs": [],
   "source": [
    "data_counts_wide['needs_pct_pop_eating_vehicle'] = data_counts_wide[['percent of population eating industrially produced vehicle','percent of population eating fortified vehicle']].sum(axis=1)"
   ]
  },
  {
   "cell_type": "code",
   "execution_count": 78,
   "metadata": {},
   "outputs": [],
   "source": [
    "needs_pct_pop_eating_vehicle = data_counts_wide.groupby(['location_name','vehicle']).needs_pct_pop_eating_vehicle.min().reset_index() # find vehicle-country pairs for which any datapoint is missing (min count of datapoints == 0)"
   ]
  },
  {
   "cell_type": "code",
   "execution_count": 82,
   "metadata": {},
   "outputs": [],
   "source": [
    "needs_pct_pop_eating_vehicle = needs_pct_pop_eating_vehicle.loc[needs_pct_pop_eating_vehicle.needs_pct_pop_eating_vehicle==0,['location_name','vehicle']]"
   ]
  },
  {
   "cell_type": "code",
   "execution_count": 91,
   "metadata": {},
   "outputs": [],
   "source": [
    "# eating_vehicle = eating_vehicle.merge(needs_pct_pop_eating_vehicle, on = ['location_name','vehicle'], how = 'right')\n",
    "eating_vehicle.to_csv(save_dir + '/data_summary_percent_of_population_eating_vehicle.csv')"
   ]
  },
  {
   "cell_type": "markdown",
   "metadata": {},
   "source": [
    "## pct vehicle that is industrially produced"
   ]
  },
  {
   "cell_type": "code",
   "execution_count": 92,
   "metadata": {},
   "outputs": [],
   "source": [
    "vehicle_ind_prod = data_counts_all[data_counts_all.value_description==\"percent of vehicle that is industrially produced\"]"
   ]
  },
  {
   "cell_type": "code",
   "execution_count": 98,
   "metadata": {},
   "outputs": [],
   "source": [
    "vehicle_ind_prod = vehicle_ind_prod.merge(eating_ind_prod.loc[eating_ind_prod.n_data_points==0,['location_name','vehicle']], \n",
    "                       on = ['location_name','vehicle'], \n",
    "                       how = 'right')"
   ]
  },
  {
   "cell_type": "code",
   "execution_count": 99,
   "metadata": {},
   "outputs": [],
   "source": [
    "vehicle_ind_prod.to_csv(save_dir + '/data_summary_percent_of_vehicle_industrially_produced.csv')"
   ]
  },
  {
   "cell_type": "markdown",
   "metadata": {},
   "source": [
    "## pct vehicle fortified"
   ]
  },
  {
   "cell_type": "code",
   "execution_count": 100,
   "metadata": {},
   "outputs": [],
   "source": [
    "vehicle_fortified = data_counts_all[data_counts_all.value_description==\"percent of vehicle that is fortified\"]\n",
    "# eating_fortified.to_csv(save_dir + '/data_summary_percent_of_population_eating_fortified_vehicle.csv')"
   ]
  },
  {
   "cell_type": "code",
   "execution_count": 106,
   "metadata": {},
   "outputs": [],
   "source": [
    "vehicle_fortified = vehicle_fortified.merge(eating_fortified.loc[eating_fortified.n_data_points==0,['location_name','vehicle','nutrient']],\n",
    "                                           on = ['location_name','vehicle','nutrient'],\n",
    "                                           how = 'right')"
   ]
  },
  {
   "cell_type": "code",
   "execution_count": 108,
   "metadata": {},
   "outputs": [],
   "source": [
    "vehicle_fortified.to_csv(save_dir + '/data_summary_percent_of_vehicle_fortified.csv')"
   ]
  },
  {
   "cell_type": "code",
   "execution_count": 109,
   "metadata": {},
   "outputs": [
    {
     "data": {
      "text/html": [
       "<div>\n",
       "<style scoped>\n",
       "    .dataframe tbody tr th:only-of-type {\n",
       "        vertical-align: middle;\n",
       "    }\n",
       "\n",
       "    .dataframe tbody tr th {\n",
       "        vertical-align: top;\n",
       "    }\n",
       "\n",
       "    .dataframe thead th {\n",
       "        text-align: right;\n",
       "    }\n",
       "</style>\n",
       "<table border=\"1\" class=\"dataframe\">\n",
       "  <thead>\n",
       "    <tr style=\"text-align: right;\">\n",
       "      <th></th>\n",
       "      <th>location_name</th>\n",
       "      <th>vehicle</th>\n",
       "      <th>value_description</th>\n",
       "      <th>nutrient</th>\n",
       "      <th>n_data_points</th>\n",
       "      <th>value_means</th>\n",
       "    </tr>\n",
       "  </thead>\n",
       "  <tbody>\n",
       "    <tr>\n",
       "      <th>0</th>\n",
       "      <td>Angola</td>\n",
       "      <td>maize flour</td>\n",
       "      <td>percent of vehicle that is fortified</td>\n",
       "      <td>folic acid</td>\n",
       "      <td>0</td>\n",
       "      <td>[nan]</td>\n",
       "    </tr>\n",
       "    <tr>\n",
       "      <th>1</th>\n",
       "      <td>Angola</td>\n",
       "      <td>maize flour</td>\n",
       "      <td>percent of vehicle that is fortified</td>\n",
       "      <td>iron</td>\n",
       "      <td>0</td>\n",
       "      <td>[nan]</td>\n",
       "    </tr>\n",
       "    <tr>\n",
       "      <th>2</th>\n",
       "      <td>Angola</td>\n",
       "      <td>maize flour</td>\n",
       "      <td>percent of vehicle that is fortified</td>\n",
       "      <td>vitamin a</td>\n",
       "      <td>0</td>\n",
       "      <td>[nan]</td>\n",
       "    </tr>\n",
       "    <tr>\n",
       "      <th>3</th>\n",
       "      <td>Angola</td>\n",
       "      <td>maize flour</td>\n",
       "      <td>percent of vehicle that is fortified</td>\n",
       "      <td>vitamin b1</td>\n",
       "      <td>0</td>\n",
       "      <td>[nan]</td>\n",
       "    </tr>\n",
       "    <tr>\n",
       "      <th>4</th>\n",
       "      <td>Angola</td>\n",
       "      <td>maize flour</td>\n",
       "      <td>percent of vehicle that is fortified</td>\n",
       "      <td>vitamin b12</td>\n",
       "      <td>0</td>\n",
       "      <td>[nan]</td>\n",
       "    </tr>\n",
       "  </tbody>\n",
       "</table>\n",
       "</div>"
      ],
      "text/plain": [
       "  location_name      vehicle                     value_description  \\\n",
       "0        Angola  maize flour  percent of vehicle that is fortified   \n",
       "1        Angola  maize flour  percent of vehicle that is fortified   \n",
       "2        Angola  maize flour  percent of vehicle that is fortified   \n",
       "3        Angola  maize flour  percent of vehicle that is fortified   \n",
       "4        Angola  maize flour  percent of vehicle that is fortified   \n",
       "\n",
       "      nutrient  n_data_points value_means  \n",
       "0   folic acid              0       [nan]  \n",
       "1         iron              0       [nan]  \n",
       "2    vitamin a              0       [nan]  \n",
       "3   vitamin b1              0       [nan]  \n",
       "4  vitamin b12              0       [nan]  "
      ]
     },
     "execution_count": 109,
     "metadata": {},
     "output_type": "execute_result"
    }
   ],
   "source": [
    "vehicle_fortified.head()"
   ]
  },
  {
   "cell_type": "code",
   "execution_count": null,
   "metadata": {},
   "outputs": [],
   "source": []
  }
 ],
 "metadata": {
  "kernelspec": {
   "display_name": "Python 3",
   "language": "python",
   "name": "python3"
  },
  "language_info": {
   "codemirror_mode": {
    "name": "ipython",
    "version": 3
   },
   "file_extension": ".py",
   "mimetype": "text/x-python",
   "name": "python",
   "nbconvert_exporter": "python",
   "pygments_lexer": "ipython3",
   "version": "3.6.10"
  }
 },
 "nbformat": 4,
 "nbformat_minor": 4
}
