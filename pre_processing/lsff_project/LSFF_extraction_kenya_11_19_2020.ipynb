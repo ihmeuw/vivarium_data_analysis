{
 "cells": [
  {
   "cell_type": "code",
   "execution_count": 1,
   "metadata": {},
   "outputs": [],
   "source": [
    "import numpy as np, pandas as pd"
   ]
  },
  {
   "cell_type": "code",
   "execution_count": 2,
   "metadata": {},
   "outputs": [],
   "source": [
    "data_dir = '/home/j/DATA/KEN/KIHBS/2005_2006/'\n",
    "\n",
    "weekly_expend = 'KEN_KIHBS_2005_2006_SECTION_I_WEEKLY_EXPEND_Y2017M03D03.DTA'\n",
    "ident_file = 'KEN_KIHBS_2005_2006_SECTION_A_IDENTIFICATION_Y2017M03D03.DTA'\n",
    "housing_file = 'KEN_KIHBS_2005_2006_SECTION_G_HOUSING_Y2017M03D03.DTA'"
   ]
  },
  {
   "cell_type": "code",
   "execution_count": 3,
   "metadata": {},
   "outputs": [
    {
     "name": "stdout",
     "output_type": "stream",
     "text": [
      ". . . CPU times: user 527 ms, sys: 170 ms, total: 698 ms\n",
      "Wall time: 696 ms\n"
     ]
    },
    {
     "data": {
      "text/plain": [
       "(276115, 25)"
      ]
     },
     "execution_count": 3,
     "metadata": {},
     "output_type": "execute_result"
    }
   ],
   "source": [
    "%%time\n",
    "\n",
    "r = pd.read_stata(data_dir + weekly_expend,\n",
    "                  chunksize=100_000, preserve_dtypes=False)\n",
    "\n",
    "df = pd.DataFrame()\n",
    "for t in r:\n",
    "    print('.', flush=True, end=' ')\n",
    "    df = df.append(t)\n",
    "df.shape"
   ]
  },
  {
   "cell_type": "code",
   "execution_count": 4,
   "metadata": {},
   "outputs": [
    {
     "name": "stdout",
     "output_type": "stream",
     "text": [
      ". . CPU times: user 176 ms, sys: 3.22 ms, total: 179 ms\n",
      "Wall time: 176 ms\n"
     ]
    },
    {
     "data": {
      "text/plain": [
       "(13074, 24)"
      ]
     },
     "execution_count": 4,
     "metadata": {},
     "output_type": "execute_result"
    }
   ],
   "source": [
    "%%time\n",
    "\n",
    "r = pd.read_stata(data_dir + ident_file,\n",
    "                  chunksize=100_000, preserve_dtypes=False)\n",
    "\n",
    "ident = pd.DataFrame()\n",
    "for t in r:\n",
    "    print('.', flush=True, end=' ')\n",
    "    ident = ident.append(t)\n",
    "ident.shape\n",
    "\n",
    "r = pd.read_stata(data_dir + housing_file,\n",
    "                  chunksize=100_000, preserve_dtypes=False)\n",
    "\n",
    "hh = pd.DataFrame()\n",
    "for t in r:\n",
    "    print('.', flush=True, end=' ')\n",
    "    hh = hh.append(t)\n",
    "hh.shape"
   ]
  },
  {
   "cell_type": "code",
   "execution_count": 82,
   "metadata": {},
   "outputs": [],
   "source": [
    "var_map = {\n",
    "    'cooking_oil':905,\n",
    "    'maize_grain':103,\n",
    "    'green_maize':104,\n",
    "    'maize_flour_loose':105,\n",
    "    'maize_flour_sifted':106,\n",
    "    'wheat_grain':107,\n",
    "    'wheat_flour':108\n",
    "}"
   ]
  },
  {
   "cell_type": "code",
   "execution_count": 6,
   "metadata": {},
   "outputs": [
    {
     "data": {
      "text/plain": [
       "((13158, 2), (13212, 4), (13074, 3))"
      ]
     },
     "execution_count": 6,
     "metadata": {},
     "output_type": "execute_result"
    }
   ],
   "source": [
    "# how many unique elements when i try to key?\n",
    "df[['id_clust','id_hh']].drop_duplicates().shape, ident[['id_clust','id_hh','hhsize','weight']].drop_duplicates().shape, hh[['id_clust','id_hh','weights']].drop_duplicates().shape"
   ]
  },
  {
   "cell_type": "code",
   "execution_count": 7,
   "metadata": {},
   "outputs": [
    {
     "data": {
      "text/plain": [
       "((13212, 16), (13212, 15))"
      ]
     },
     "execution_count": 7,
     "metadata": {},
     "output_type": "execute_result"
    }
   ],
   "source": [
    "compare_w = ident.merge(hh[['id_clust','id_hh','weights']], on = ['id_clust','id_hh'], how = 'left')\n",
    "compare_w.shape, ident.shape"
   ]
  },
  {
   "cell_type": "code",
   "execution_count": 8,
   "metadata": {},
   "outputs": [],
   "source": [
    "compare_w =compare_w.rename(columns = {'weight':'ident_weight','weights':'hh_weight'})"
   ]
  },
  {
   "cell_type": "code",
   "execution_count": 9,
   "metadata": {},
   "outputs": [],
   "source": [
    "df = df.merge(compare_w, on = ['id_clust','id_hh'], how = 'left')"
   ]
  },
  {
   "cell_type": "code",
   "execution_count": 16,
   "metadata": {},
   "outputs": [],
   "source": [
    "df = df.rename(columns = {'i02':'var_name'})"
   ]
  },
  {
   "cell_type": "code",
   "execution_count": 18,
   "metadata": {},
   "outputs": [],
   "source": [
    "df['var_name'] = ['item_{}'.format(i) for i in df.var_name]"
   ]
  },
  {
   "cell_type": "code",
   "execution_count": 20,
   "metadata": {},
   "outputs": [
    {
     "data": {
      "text/html": [
       "<div>\n",
       "<style scoped>\n",
       "    .dataframe tbody tr th:only-of-type {\n",
       "        vertical-align: middle;\n",
       "    }\n",
       "\n",
       "    .dataframe tbody tr th {\n",
       "        vertical-align: top;\n",
       "    }\n",
       "\n",
       "    .dataframe thead th {\n",
       "        text-align: right;\n",
       "    }\n",
       "</style>\n",
       "<table border=\"1\" class=\"dataframe\">\n",
       "  <thead>\n",
       "    <tr style=\"text-align: right;\">\n",
       "      <th></th>\n",
       "      <th>id_clust</th>\n",
       "      <th>id_hh</th>\n",
       "      <th>i01</th>\n",
       "      <th>var_name</th>\n",
       "      <th>i03q</th>\n",
       "      <th>i03u</th>\n",
       "      <th>i03k</th>\n",
       "      <th>i04</th>\n",
       "      <th>i04k</th>\n",
       "      <th>i05q</th>\n",
       "      <th>...</th>\n",
       "      <th>dmonth</th>\n",
       "      <th>dyear</th>\n",
       "      <th>hhsize</th>\n",
       "      <th>a09</th>\n",
       "      <th>a11</th>\n",
       "      <th>a12</th>\n",
       "      <th>a13</th>\n",
       "      <th>filter</th>\n",
       "      <th>ident_weight</th>\n",
       "      <th>hh_weight</th>\n",
       "    </tr>\n",
       "  </thead>\n",
       "  <tbody>\n",
       "    <tr>\n",
       "      <th>0</th>\n",
       "      <td>1</td>\n",
       "      <td>1</td>\n",
       "      <td>yes</td>\n",
       "      <td>item_101</td>\n",
       "      <td>7.0</td>\n",
       "      <td>kilogramme</td>\n",
       "      <td>280.0</td>\n",
       "      <td>7.000</td>\n",
       "      <td>280.00</td>\n",
       "      <td>0.0</td>\n",
       "      <td>...</td>\n",
       "      <td>12.0</td>\n",
       "      <td>2005.0</td>\n",
       "      <td>2</td>\n",
       "      <td>embu</td>\n",
       "      <td>no</td>\n",
       "      <td>NaN</td>\n",
       "      <td>NaN</td>\n",
       "      <td>Households used for poverty estimation</td>\n",
       "      <td>863.6</td>\n",
       "      <td>863.6</td>\n",
       "    </tr>\n",
       "    <tr>\n",
       "      <th>1</th>\n",
       "      <td>1</td>\n",
       "      <td>1</td>\n",
       "      <td>yes</td>\n",
       "      <td>item_103</td>\n",
       "      <td>1.0</td>\n",
       "      <td>debe</td>\n",
       "      <td>300.0</td>\n",
       "      <td>1.000</td>\n",
       "      <td>300.00</td>\n",
       "      <td>0.0</td>\n",
       "      <td>...</td>\n",
       "      <td>12.0</td>\n",
       "      <td>2005.0</td>\n",
       "      <td>2</td>\n",
       "      <td>embu</td>\n",
       "      <td>no</td>\n",
       "      <td>NaN</td>\n",
       "      <td>NaN</td>\n",
       "      <td>Households used for poverty estimation</td>\n",
       "      <td>863.6</td>\n",
       "      <td>863.6</td>\n",
       "    </tr>\n",
       "    <tr>\n",
       "      <th>2</th>\n",
       "      <td>1</td>\n",
       "      <td>1</td>\n",
       "      <td>yes</td>\n",
       "      <td>item_105</td>\n",
       "      <td>0.0</td>\n",
       "      <td>0</td>\n",
       "      <td>0.0</td>\n",
       "      <td>0.000</td>\n",
       "      <td>0.00</td>\n",
       "      <td>0.0</td>\n",
       "      <td>...</td>\n",
       "      <td>12.0</td>\n",
       "      <td>2005.0</td>\n",
       "      <td>2</td>\n",
       "      <td>embu</td>\n",
       "      <td>no</td>\n",
       "      <td>NaN</td>\n",
       "      <td>NaN</td>\n",
       "      <td>Households used for poverty estimation</td>\n",
       "      <td>863.6</td>\n",
       "      <td>863.6</td>\n",
       "    </tr>\n",
       "    <tr>\n",
       "      <th>3</th>\n",
       "      <td>1</td>\n",
       "      <td>1</td>\n",
       "      <td>yes</td>\n",
       "      <td>item_106</td>\n",
       "      <td>10.0</td>\n",
       "      <td>kilogramme</td>\n",
       "      <td>300.0</td>\n",
       "      <td>10.000</td>\n",
       "      <td>300.00</td>\n",
       "      <td>0.0</td>\n",
       "      <td>...</td>\n",
       "      <td>12.0</td>\n",
       "      <td>2005.0</td>\n",
       "      <td>2</td>\n",
       "      <td>embu</td>\n",
       "      <td>no</td>\n",
       "      <td>NaN</td>\n",
       "      <td>NaN</td>\n",
       "      <td>Households used for poverty estimation</td>\n",
       "      <td>863.6</td>\n",
       "      <td>863.6</td>\n",
       "    </tr>\n",
       "    <tr>\n",
       "      <th>4</th>\n",
       "      <td>1</td>\n",
       "      <td>1</td>\n",
       "      <td>yes</td>\n",
       "      <td>item_108</td>\n",
       "      <td>6.0</td>\n",
       "      <td>kilogramme</td>\n",
       "      <td>210.0</td>\n",
       "      <td>0.006</td>\n",
       "      <td>0.21</td>\n",
       "      <td>0.0</td>\n",
       "      <td>...</td>\n",
       "      <td>12.0</td>\n",
       "      <td>2005.0</td>\n",
       "      <td>2</td>\n",
       "      <td>embu</td>\n",
       "      <td>no</td>\n",
       "      <td>NaN</td>\n",
       "      <td>NaN</td>\n",
       "      <td>Households used for poverty estimation</td>\n",
       "      <td>863.6</td>\n",
       "      <td>863.6</td>\n",
       "    </tr>\n",
       "  </tbody>\n",
       "</table>\n",
       "<p>5 rows × 39 columns</p>\n",
       "</div>"
      ],
      "text/plain": [
       "   id_clust  id_hh  i01  var_name  i03q        i03u   i03k     i04    i04k  \\\n",
       "0         1      1  yes  item_101   7.0  kilogramme  280.0   7.000  280.00   \n",
       "1         1      1  yes  item_103   1.0        debe  300.0   1.000  300.00   \n",
       "2         1      1  yes  item_105   0.0           0    0.0   0.000    0.00   \n",
       "3         1      1  yes  item_106  10.0  kilogramme  300.0  10.000  300.00   \n",
       "4         1      1  yes  item_108   6.0  kilogramme  210.0   0.006    0.21   \n",
       "\n",
       "   i05q  ... dmonth   dyear  hhsize   a09 a11  a12  a13  \\\n",
       "0   0.0  ...   12.0  2005.0       2  embu  no  NaN  NaN   \n",
       "1   0.0  ...   12.0  2005.0       2  embu  no  NaN  NaN   \n",
       "2   0.0  ...   12.0  2005.0       2  embu  no  NaN  NaN   \n",
       "3   0.0  ...   12.0  2005.0       2  embu  no  NaN  NaN   \n",
       "4   0.0  ...   12.0  2005.0       2  embu  no  NaN  NaN   \n",
       "\n",
       "                                   filter ident_weight  hh_weight  \n",
       "0  Households used for poverty estimation        863.6      863.6  \n",
       "1  Households used for poverty estimation        863.6      863.6  \n",
       "2  Households used for poverty estimation        863.6      863.6  \n",
       "3  Households used for poverty estimation        863.6      863.6  \n",
       "4  Households used for poverty estimation        863.6      863.6  \n",
       "\n",
       "[5 rows x 39 columns]"
      ]
     },
     "execution_count": 20,
     "metadata": {},
     "output_type": "execute_result"
    }
   ],
   "source": [
    "df.head()"
   ]
  },
  {
   "cell_type": "code",
   "execution_count": 56,
   "metadata": {},
   "outputs": [],
   "source": [
    "keep_cols = ['id_clust','id_hh','weights','ident_weight','hh_weight','hhsize','var_name'] + [i for i in df.columns if i.startswith('i0')]\n",
    "consum = df[keep_cols].pivot_table(index = ['id_clust','id_hh','weights','ident_weight','hh_weight','hhsize'], columns = 'var_name', values = 'i07q', fill_value = 0)\n",
    "purch = df[keep_cols].pivot_table(index = ['id_clust','id_hh','weights','ident_weight','hh_weight','hhsize'], columns = 'var_name', values = 'i03q', fill_value = 0)"
   ]
  },
  {
   "cell_type": "code",
   "execution_count": 90,
   "metadata": {},
   "outputs": [
    {
     "data": {
      "text/html": [
       "<div>\n",
       "<style scoped>\n",
       "    .dataframe tbody tr th:only-of-type {\n",
       "        vertical-align: middle;\n",
       "    }\n",
       "\n",
       "    .dataframe tbody tr th {\n",
       "        vertical-align: top;\n",
       "    }\n",
       "\n",
       "    .dataframe thead th {\n",
       "        text-align: right;\n",
       "    }\n",
       "</style>\n",
       "<table border=\"1\" class=\"dataframe\">\n",
       "  <thead>\n",
       "    <tr style=\"text-align: right;\">\n",
       "      <th></th>\n",
       "      <th>id_clust</th>\n",
       "      <th>id_hh</th>\n",
       "      <th>weights</th>\n",
       "      <th>ident_weight</th>\n",
       "      <th>hh_weight</th>\n",
       "      <th>hhsize</th>\n",
       "      <th>var_name</th>\n",
       "      <th>i01</th>\n",
       "      <th>i03q</th>\n",
       "      <th>i03u</th>\n",
       "      <th>...</th>\n",
       "      <th>i05au</th>\n",
       "      <th>i05ap</th>\n",
       "      <th>i05ak</th>\n",
       "      <th>i06q</th>\n",
       "      <th>i06u</th>\n",
       "      <th>i06p</th>\n",
       "      <th>i06k</th>\n",
       "      <th>i07q</th>\n",
       "      <th>i07u</th>\n",
       "      <th>i07k</th>\n",
       "    </tr>\n",
       "  </thead>\n",
       "  <tbody>\n",
       "    <tr>\n",
       "      <th>0</th>\n",
       "      <td>1</td>\n",
       "      <td>1</td>\n",
       "      <td>863.6</td>\n",
       "      <td>863.6</td>\n",
       "      <td>863.6</td>\n",
       "      <td>2</td>\n",
       "      <td>item_101</td>\n",
       "      <td>yes</td>\n",
       "      <td>7.0</td>\n",
       "      <td>kilogramme</td>\n",
       "      <td>...</td>\n",
       "      <td>0</td>\n",
       "      <td>0.0</td>\n",
       "      <td>0.0</td>\n",
       "      <td>0.0</td>\n",
       "      <td>0</td>\n",
       "      <td>0.0</td>\n",
       "      <td>0.0</td>\n",
       "      <td>7.0</td>\n",
       "      <td>kilogramme</td>\n",
       "      <td>0.0</td>\n",
       "    </tr>\n",
       "    <tr>\n",
       "      <th>1</th>\n",
       "      <td>1</td>\n",
       "      <td>1</td>\n",
       "      <td>863.6</td>\n",
       "      <td>863.6</td>\n",
       "      <td>863.6</td>\n",
       "      <td>2</td>\n",
       "      <td>item_103</td>\n",
       "      <td>yes</td>\n",
       "      <td>1.0</td>\n",
       "      <td>debe</td>\n",
       "      <td>...</td>\n",
       "      <td>0</td>\n",
       "      <td>0.0</td>\n",
       "      <td>0.0</td>\n",
       "      <td>0.0</td>\n",
       "      <td>0</td>\n",
       "      <td>0.0</td>\n",
       "      <td>0.0</td>\n",
       "      <td>1.0</td>\n",
       "      <td>debe</td>\n",
       "      <td>0.0</td>\n",
       "    </tr>\n",
       "    <tr>\n",
       "      <th>2</th>\n",
       "      <td>1</td>\n",
       "      <td>1</td>\n",
       "      <td>863.6</td>\n",
       "      <td>863.6</td>\n",
       "      <td>863.6</td>\n",
       "      <td>2</td>\n",
       "      <td>item_105</td>\n",
       "      <td>yes</td>\n",
       "      <td>0.0</td>\n",
       "      <td>0</td>\n",
       "      <td>...</td>\n",
       "      <td>0</td>\n",
       "      <td>0.0</td>\n",
       "      <td>0.0</td>\n",
       "      <td>10.0</td>\n",
       "      <td>kilogramme</td>\n",
       "      <td>30.0</td>\n",
       "      <td>300.0</td>\n",
       "      <td>10.0</td>\n",
       "      <td>kilogramme</td>\n",
       "      <td>0.0</td>\n",
       "    </tr>\n",
       "    <tr>\n",
       "      <th>3</th>\n",
       "      <td>1</td>\n",
       "      <td>1</td>\n",
       "      <td>863.6</td>\n",
       "      <td>863.6</td>\n",
       "      <td>863.6</td>\n",
       "      <td>2</td>\n",
       "      <td>item_106</td>\n",
       "      <td>yes</td>\n",
       "      <td>10.0</td>\n",
       "      <td>kilogramme</td>\n",
       "      <td>...</td>\n",
       "      <td>0</td>\n",
       "      <td>0.0</td>\n",
       "      <td>0.0</td>\n",
       "      <td>0.0</td>\n",
       "      <td>0</td>\n",
       "      <td>0.0</td>\n",
       "      <td>0.0</td>\n",
       "      <td>10.0</td>\n",
       "      <td>kilogramme</td>\n",
       "      <td>0.0</td>\n",
       "    </tr>\n",
       "    <tr>\n",
       "      <th>4</th>\n",
       "      <td>1</td>\n",
       "      <td>1</td>\n",
       "      <td>863.6</td>\n",
       "      <td>863.6</td>\n",
       "      <td>863.6</td>\n",
       "      <td>2</td>\n",
       "      <td>item_108</td>\n",
       "      <td>yes</td>\n",
       "      <td>6.0</td>\n",
       "      <td>kilogramme</td>\n",
       "      <td>...</td>\n",
       "      <td>0</td>\n",
       "      <td>0.0</td>\n",
       "      <td>0.0</td>\n",
       "      <td>0.0</td>\n",
       "      <td>0</td>\n",
       "      <td>0.0</td>\n",
       "      <td>0.0</td>\n",
       "      <td>6.0</td>\n",
       "      <td>kilogramme</td>\n",
       "      <td>0.0</td>\n",
       "    </tr>\n",
       "  </tbody>\n",
       "</table>\n",
       "<p>5 rows × 28 columns</p>\n",
       "</div>"
      ],
      "text/plain": [
       "   id_clust  id_hh  weights  ident_weight  hh_weight  hhsize  var_name  i01  \\\n",
       "0         1      1    863.6         863.6      863.6       2  item_101  yes   \n",
       "1         1      1    863.6         863.6      863.6       2  item_103  yes   \n",
       "2         1      1    863.6         863.6      863.6       2  item_105  yes   \n",
       "3         1      1    863.6         863.6      863.6       2  item_106  yes   \n",
       "4         1      1    863.6         863.6      863.6       2  item_108  yes   \n",
       "\n",
       "   i03q        i03u  ...  i05au  i05ap  i05ak  i06q        i06u  i06p   i06k  \\\n",
       "0   7.0  kilogramme  ...      0    0.0    0.0   0.0           0   0.0    0.0   \n",
       "1   1.0        debe  ...      0    0.0    0.0   0.0           0   0.0    0.0   \n",
       "2   0.0           0  ...      0    0.0    0.0  10.0  kilogramme  30.0  300.0   \n",
       "3  10.0  kilogramme  ...      0    0.0    0.0   0.0           0   0.0    0.0   \n",
       "4   6.0  kilogramme  ...      0    0.0    0.0   0.0           0   0.0    0.0   \n",
       "\n",
       "   i07q        i07u  i07k  \n",
       "0   7.0  kilogramme   0.0  \n",
       "1   1.0        debe   0.0  \n",
       "2  10.0  kilogramme   0.0  \n",
       "3  10.0  kilogramme   0.0  \n",
       "4   6.0  kilogramme   0.0  \n",
       "\n",
       "[5 rows x 28 columns]"
      ]
     },
     "execution_count": 90,
     "metadata": {},
     "output_type": "execute_result"
    }
   ],
   "source": [
    "df[keep_cols].head()"
   ]
  },
  {
   "cell_type": "code",
   "execution_count": 57,
   "metadata": {},
   "outputs": [],
   "source": [
    "consum = consum.reset_index()\n",
    "purch = purch.reset_index()"
   ]
  },
  {
   "cell_type": "code",
   "execution_count": 112,
   "metadata": {},
   "outputs": [
    {
     "data": {
      "text/plain": [
       "['i04', 'i04k']"
      ]
     },
     "execution_count": 112,
     "metadata": {},
     "output_type": "execute_result"
    }
   ],
   "source": [
    "[i for i in df.columns if i.startswith('i04')]"
   ]
  },
  {
   "cell_type": "code",
   "execution_count": 119,
   "metadata": {},
   "outputs": [],
   "source": [
    "consum_purch = df[keep_cols].pivot_table(index = ['id_clust','id_hh','weights','ident_weight','hh_weight','hhsize'], columns = 'var_name', values = 'i04', fill_value = 0)\n",
    "consum_purch = consum_purch.reset_index()"
   ]
  },
  {
   "cell_type": "code",
   "execution_count": 40,
   "metadata": {},
   "outputs": [
    {
     "data": {
      "text/plain": [
       "{'cooking_oil': 905,\n",
       " 'maize_grain': 103,\n",
       " 'green_maize': 104,\n",
       " 'maize_flour_loose': 105,\n",
       " 'maize_flour_sifted': 106}"
      ]
     },
     "execution_count": 40,
     "metadata": {},
     "output_type": "execute_result"
    }
   ],
   "source": [
    "var_map"
   ]
  },
  {
   "cell_type": "code",
   "execution_count": 42,
   "metadata": {},
   "outputs": [
    {
     "data": {
      "text/plain": [
       "array([103, 104, 105, 106])"
      ]
     },
     "execution_count": 42,
     "metadata": {},
     "output_type": "execute_result"
    }
   ],
   "source": [
    "np.arange(103,107)"
   ]
  },
  {
   "cell_type": "code",
   "execution_count": 58,
   "metadata": {},
   "outputs": [
    {
     "data": {
      "text/plain": [
       "['item_103', 'item_104', 'item_105', 'item_106']"
      ]
     },
     "execution_count": 58,
     "metadata": {},
     "output_type": "execute_result"
    }
   ],
   "source": [
    "maize_cols = ['item_{}'.format(i) for i in range(103,107)]\n",
    "maize_cols"
   ]
  },
  {
   "cell_type": "code",
   "execution_count": 59,
   "metadata": {},
   "outputs": [],
   "source": [
    "consum['maize_any'] = consum[maize_cols].sum(axis=1)\n",
    "purch['maize_any'] = purch[maize_cols].sum(axis=1)"
   ]
  },
  {
   "cell_type": "code",
   "execution_count": 120,
   "metadata": {},
   "outputs": [],
   "source": [
    "consum_purch['maize_any'] = consum_purch[maize_cols].sum(axis=1)"
   ]
  },
  {
   "cell_type": "code",
   "execution_count": 122,
   "metadata": {},
   "outputs": [
    {
     "name": "stdout",
     "output_type": "stream",
     "text": [
      "prop that consumed any maize: 0.9666808082878499\n",
      "prop that purchased any maize: 0.6303421150083685\n",
      "prop that consumed any purchased maize: 0.6299038313935422\n"
     ]
    }
   ],
   "source": [
    "num = (consum[consum.maize_any > 0].weights * consum[consum.maize_any > 0].hhsize).sum()\n",
    "denom = (consum.weights * consum.hhsize).sum()\n",
    "\n",
    "print(f'prop that consumed any maize: {num / denom}')\n",
    "\n",
    "num = (purch[purch.maize_any > 0].weights * purch[purch.maize_any > 0].hhsize).sum()\n",
    "denom = (purch.weights * purch.hhsize).sum()\n",
    "\n",
    "print(f'prop that purchased any maize: {num / denom}')\n",
    "\n",
    "num = (consum_purch[consum_purch.maize_any > 0].weights * consum_purch[consum_purch.maize_any > 0].hhsize).sum()\n",
    "denom = (consum_purch.weights * consum_purch.hhsize).sum()\n",
    "\n",
    "print(f'prop that consumed any purchased maize: {num / denom}')"
   ]
  },
  {
   "cell_type": "code",
   "execution_count": 125,
   "metadata": {},
   "outputs": [
    {
     "name": "stdout",
     "output_type": "stream",
     "text": [
      "prop that consumed any maize_grain: 0.5767273292716147\n",
      "prop that purchased any maize_grain: 0.3666360575275327\n",
      "prop that consumed any purchased maize_grain: 0.36630923067298854\n"
     ]
    }
   ],
   "source": [
    "label = 'maize_grain'\n",
    "var = 'item_{}'.format(var_map[label])\n",
    "\n",
    "num = (consum[consum[var] > 0].weights * consum[consum[var] > 0].hhsize).sum()\n",
    "denom = (consum.weights * consum.hhsize).sum()\n",
    "\n",
    "print(f'prop that consumed any {label}: {num / denom}')\n",
    "\n",
    "num = (purch[purch[var] > 0].weights * purch[purch[var] > 0].hhsize).sum()\n",
    "denom = (purch.weights * purch.hhsize).sum()\n",
    "\n",
    "print(f'prop that purchased any {label}: {num / denom}')\n",
    "\n",
    "num = (consum_purch[consum_purch[var] > 0].weights * consum_purch[consum_purch[var] > 0].hhsize).sum()\n",
    "denom = (consum_purch.weights * consum_purch.hhsize).sum()\n",
    "\n",
    "print(f'prop that consumed any purchased {label}: {num / denom}')"
   ]
  },
  {
   "cell_type": "code",
   "execution_count": 126,
   "metadata": {},
   "outputs": [
    {
     "name": "stdout",
     "output_type": "stream",
     "text": [
      "prop that consumed any green_maize: 0.1764635429890018\n",
      "prop that purchased any green_maize: 0.07973369888140701\n",
      "prop that consumed any purchased green_maize: 0.07938033720597068\n"
     ]
    }
   ],
   "source": [
    "label = 'green_maize'\n",
    "var = 'item_{}'.format(var_map[label])\n",
    "\n",
    "num = (consum[consum[var] > 0].weights * consum[consum[var] > 0].hhsize).sum()\n",
    "denom = (consum.weights * consum.hhsize).sum()\n",
    "\n",
    "print(f'prop that consumed any {label}: {num / denom}')\n",
    "\n",
    "label = 'green_maize'\n",
    "var = 'item_{}'.format(var_map[label])\n",
    "\n",
    "num = (purch[purch[var] > 0].weights * purch[purch[var] > 0].hhsize).sum()\n",
    "denom = (purch.weights * purch.hhsize).sum()\n",
    "\n",
    "print(f'prop that purchased any {label}: {num / denom}')\n",
    "\n",
    "num = (consum_purch[consum_purch[var] > 0].weights * consum_purch[consum_purch[var] > 0].hhsize).sum()\n",
    "denom = (consum_purch.weights * consum_purch.hhsize).sum()\n",
    "\n",
    "print(f'prop that consumed any purchased {label}: {num / denom}')"
   ]
  },
  {
   "cell_type": "code",
   "execution_count": 129,
   "metadata": {},
   "outputs": [
    {
     "name": "stdout",
     "output_type": "stream",
     "text": [
      "prop that consumed any maize_flour_loose or maize_flour_sifted: 0.8527429066632093\n",
      "prop that purchased any maize_flour_loose or maize_flour_sifted: 0.3668524364177676\n",
      "prop that consumed any purchased maize_flour_loose or maize_flour_sifted: 0.366618773375352\n"
     ]
    }
   ],
   "source": [
    "label1 = 'maize_flour_loose'\n",
    "label2 = 'maize_flour_sifted'\n",
    "var1 = 'item_{}'.format(var_map[label1])\n",
    "var2 = 'item_{}'.format(var_map[label2])\n",
    "\n",
    "num = (consum[(consum[var1] > 0) | (consum[var2] > 0)].weights * consum[(consum[var1] > 0) | (consum[var2] > 0)].hhsize).sum()\n",
    "denom = (consum.weights * consum.hhsize).sum()\n",
    "\n",
    "print(f'prop that consumed any {label1} or {label2}: {num / denom}')\n",
    "\n",
    "num = (purch[(purch[var1] > 0) | (purch[var2] > 0)].weights * purch[(purch[var1] > 0) | (purch[var2] > 0)].hhsize).sum()\n",
    "denom = (purch.weights * purch.hhsize).sum()\n",
    "\n",
    "print(f'prop that purchased any {label1} or {label2}: {num / denom}')\n",
    "\n",
    "num = (consum_purch[(consum_purch[var1] > 0) | (consum_purch[var2] > 0)].weights * consum_purch[(consum_purch[var1] > 0) | (consum_purch[var2] > 0)].hhsize).sum()\n",
    "denom = (consum_purch.weights * consum_purch.hhsize).sum()\n",
    "\n",
    "print(f'prop that consumed any purchased {label1} or {label2}: {num / denom}')"
   ]
  },
  {
   "cell_type": "code",
   "execution_count": 130,
   "metadata": {},
   "outputs": [
    {
     "name": "stdout",
     "output_type": "stream",
     "text": [
      "prop that consumed any green_maize or maize_grain: 0.6790428353370863\n",
      "prop that purchased any green_maize or maize_grain: 0.42032512946082307\n",
      "prop that consumed any purchased green_maize or maize_grain: 0.4200016787909995\n"
     ]
    }
   ],
   "source": [
    "label1 = 'green_maize'\n",
    "label2 = 'maize_grain'\n",
    "var1 = 'item_{}'.format(var_map[label1])\n",
    "var2 = 'item_{}'.format(var_map[label2])\n",
    "\n",
    "num = (consum[(consum[var1] > 0) | (consum[var2] > 0)].weights * consum[(consum[var1] > 0) | (consum[var2] > 0)].hhsize).sum()\n",
    "denom = (consum.weights * consum.hhsize).sum()\n",
    "\n",
    "print(f'prop that consumed any {label1} or {label2}: {num / denom}')\n",
    "\n",
    "num = (purch[(purch[var1] > 0) | (purch[var2] > 0)].weights * purch[(purch[var1] > 0) | (purch[var2] > 0)].hhsize).sum()\n",
    "denom = (purch.weights * purch.hhsize).sum()\n",
    "\n",
    "print(f'prop that purchased any {label1} or {label2}: {num / denom}')\n",
    "\n",
    "num = (consum_purch[(consum_purch[var1] > 0) | (consum_purch[var2] > 0)].weights * consum_purch[(consum_purch[var1] > 0) | (consum_purch[var2] > 0)].hhsize).sum()\n",
    "denom = (consum_purch.weights * consum_purch.hhsize).sum()\n",
    "\n",
    "print(f'prop that consumed any purchased {label1} or {label2}: {num / denom}')"
   ]
  },
  {
   "cell_type": "code",
   "execution_count": 131,
   "metadata": {},
   "outputs": [
    {
     "name": "stdout",
     "output_type": "stream",
     "text": [
      "prop that consumed any maize_flour_loose: 0.5803442066114469\n",
      "prop that purchased any maize_flour_loose: 0.09623597297553474\n",
      "prop that consumed any purchased maize_flour_loose: 0.0961859828010402\n"
     ]
    }
   ],
   "source": [
    "label = 'maize_flour_loose'\n",
    "var = 'item_{}'.format(var_map[label])\n",
    "\n",
    "num = (consum[consum[var] > 0].weights * consum[consum[var] > 0].hhsize).sum()\n",
    "denom = (consum.weights * consum.hhsize).sum()\n",
    "\n",
    "print(f'prop that consumed any {label}: {num / denom}')\n",
    "\n",
    "var = 'item_{}'.format(var_map[label])\n",
    "\n",
    "num = (purch[purch[var] > 0].weights * purch[purch[var] > 0].hhsize).sum()\n",
    "denom = (purch.weights * purch.hhsize).sum()\n",
    "\n",
    "print(f'prop that purchased any {label}: {num / denom}')\n",
    "\n",
    "num = (consum_purch[consum_purch[var] > 0].weights * consum_purch[consum_purch[var] > 0].hhsize).sum()\n",
    "denom = (consum_purch.weights * consum_purch.hhsize).sum()\n",
    "\n",
    "print(f'prop that consumed any purchased {label}: {num / denom}')"
   ]
  },
  {
   "cell_type": "code",
   "execution_count": 132,
   "metadata": {},
   "outputs": [
    {
     "name": "stdout",
     "output_type": "stream",
     "text": [
      "prop that consumed any maize_flour_sifted: 0.32923164927773646\n",
      "prop that purchased any maize_flour_sifted: 0.28107918474448035\n",
      "prop that consumed any purchased maize_flour_sifted: 0.2808617256821425\n"
     ]
    }
   ],
   "source": [
    "label = 'maize_flour_sifted'\n",
    "var = 'item_{}'.format(var_map[label])\n",
    "\n",
    "num = (consum[consum[var] > 0].weights * consum[consum[var] > 0].hhsize).sum()\n",
    "denom = (consum.weights * consum.hhsize).sum()\n",
    "\n",
    "print(f'prop that consumed any {label}: {num / denom}')\n",
    "\n",
    "var = 'item_{}'.format(var_map[label])\n",
    "\n",
    "num = (purch[purch[var] > 0].weights * purch[purch[var] > 0].hhsize).sum()\n",
    "denom = (purch.weights * purch.hhsize).sum()\n",
    "\n",
    "print(f'prop that purchased any {label}: {num / denom}')\n",
    "\n",
    "num = (consum_purch[consum_purch[var] > 0].weights * consum_purch[consum_purch[var] > 0].hhsize).sum()\n",
    "denom = (consum_purch.weights * consum_purch.hhsize).sum()\n",
    "\n",
    "print(f'prop that consumed any purchased {label}: {num / denom}')"
   ]
  },
  {
   "cell_type": "code",
   "execution_count": 133,
   "metadata": {},
   "outputs": [
    {
     "name": "stdout",
     "output_type": "stream",
     "text": [
      "prop that consumed any cooking_oil: 0.16173560365456752\n",
      "prop that purchased any cooking_oil: 0.09404242231779887\n",
      "prop that consumed any purchased cooking_oil: 0.09394942994385358\n"
     ]
    }
   ],
   "source": [
    "label = 'cooking_oil'\n",
    "var = 'item_{}'.format(var_map[label])\n",
    "\n",
    "num = (consum[consum[var] > 0].weights * consum[consum[var] > 0].hhsize).sum()\n",
    "denom = (consum.weights * consum.hhsize).sum()\n",
    "\n",
    "print(f'prop that consumed any {label}: {num / denom}')\n",
    "\n",
    "var = 'item_{}'.format(var_map[label])\n",
    "\n",
    "num = (purch[purch[var] > 0].weights * purch[purch[var] > 0].hhsize).sum()\n",
    "denom = (purch.weights * purch.hhsize).sum()\n",
    "\n",
    "print(f'prop that purchased any {label}: {num / denom}')\n",
    "\n",
    "num = (consum_purch[consum_purch[var] > 0].weights * consum_purch[consum_purch[var] > 0].hhsize).sum()\n",
    "denom = (consum_purch.weights * consum_purch.hhsize).sum()\n",
    "\n",
    "print(f'prop that consumed any purchased {label}: {num / denom}')"
   ]
  },
  {
   "cell_type": "code",
   "execution_count": 134,
   "metadata": {},
   "outputs": [
    {
     "name": "stdout",
     "output_type": "stream",
     "text": [
      "prop that consumed any wheat_flour: 0.3657739686584146\n",
      "prop that purchased any wheat_flour: 0.309480451939186\n",
      "prop that consumed any purchased wheat_flour: 0.3093679447218349\n"
     ]
    }
   ],
   "source": [
    "label = 'wheat_flour'\n",
    "var = 'item_{}'.format(var_map[label])\n",
    "\n",
    "num = (consum[consum[var] > 0].weights * consum[consum[var] > 0].hhsize).sum()\n",
    "denom = (consum.weights * consum.hhsize).sum()\n",
    "\n",
    "print(f'prop that consumed any {label}: {num / denom}')\n",
    "\n",
    "var = 'item_{}'.format(var_map[label])\n",
    "\n",
    "num = (purch[purch[var] > 0].weights * purch[purch[var] > 0].hhsize).sum()\n",
    "denom = (purch.weights * purch.hhsize).sum()\n",
    "\n",
    "print(f'prop that purchased any {label}: {num / denom}')\n",
    "\n",
    "num = (consum_purch[consum_purch[var] > 0].weights * consum_purch[consum_purch[var] > 0].hhsize).sum()\n",
    "denom = (consum_purch.weights * consum_purch.hhsize).sum()\n",
    "\n",
    "print(f'prop that consumed any purchased {label}: {num / denom}')"
   ]
  },
  {
   "cell_type": "code",
   "execution_count": 135,
   "metadata": {},
   "outputs": [
    {
     "name": "stdout",
     "output_type": "stream",
     "text": [
      "prop that consumed any wheat_grain: 0.008047758111279679\n",
      "prop that purchased any wheat_grain: 0.006733555281750999\n",
      "prop that consumed any purchased wheat_grain: 0.006733555281750999\n"
     ]
    }
   ],
   "source": [
    "label = 'wheat_grain'\n",
    "var = 'item_{}'.format(var_map[label])\n",
    "\n",
    "num = (consum[consum[var] > 0].weights * consum[consum[var] > 0].hhsize).sum()\n",
    "denom = (consum.weights * consum.hhsize).sum()\n",
    "\n",
    "print(f'prop that consumed any {label}: {num / denom}')\n",
    "\n",
    "var = 'item_{}'.format(var_map[label])\n",
    "\n",
    "num = (purch[purch[var] > 0].weights * purch[purch[var] > 0].hhsize).sum()\n",
    "denom = (purch.weights * purch.hhsize).sum()\n",
    "\n",
    "print(f'prop that purchased any {label}: {num / denom}')\n",
    "\n",
    "num = (consum_purch[consum_purch[var] > 0].weights * consum_purch[consum_purch[var] > 0].hhsize).sum()\n",
    "denom = (consum_purch.weights * consum_purch.hhsize).sum()\n",
    "\n",
    "print(f'prop that consumed any purchased {label}: {num / denom}')"
   ]
  },
  {
   "cell_type": "code",
   "execution_count": 136,
   "metadata": {},
   "outputs": [
    {
     "name": "stdout",
     "output_type": "stream",
     "text": [
      "prop that consumed any wheat_grain or wheat_flour: 0.3701767510119157\n",
      "prop that purchased any wheat_grain or wheat_flour: 0.3141792620013736\n",
      "prop that consumed any purchased wheat_grain or wheat_flour: 0.3140667547840225\n"
     ]
    }
   ],
   "source": [
    "label1 = 'wheat_grain'\n",
    "label2 = 'wheat_flour'\n",
    "var1 = 'item_{}'.format(var_map[label1])\n",
    "var2 = 'item_{}'.format(var_map[label2])\n",
    "\n",
    "num = (consum[(consum[var1] > 0) | (consum[var2] > 0)].weights * consum[(consum[var1] > 0) | (consum[var2] > 0)].hhsize).sum()\n",
    "denom = (consum.weights * consum.hhsize).sum()\n",
    "\n",
    "print(f'prop that consumed any {label1} or {label2}: {num / denom}')\n",
    "\n",
    "\n",
    "num = (purch[(purch[var1] > 0) | (purch[var2] > 0)].weights * purch[(purch[var1] > 0) | (purch[var2] > 0)].hhsize).sum()\n",
    "denom = (purch.weights * purch.hhsize).sum()\n",
    "\n",
    "print(f'prop that purchased any {label1} or {label2}: {num / denom}')\n",
    "\n",
    "num = (consum_purch[(consum_purch[var1] > 0) | (consum_purch[var2] > 0)].weights * consum_purch[(consum_purch[var1] > 0) | (consum_purch[var2] > 0)].hhsize).sum()\n",
    "denom = (consum_purch.weights * consum_purch.hhsize).sum()\n",
    "\n",
    "print(f'prop that consumed any purchased {label1} or {label2}: {num / denom}')"
   ]
  },
  {
   "cell_type": "code",
   "execution_count": null,
   "metadata": {},
   "outputs": [],
   "source": []
  }
 ],
 "metadata": {
  "kernelspec": {
   "display_name": "Python 3",
   "language": "python",
   "name": "python3"
  },
  "language_info": {
   "codemirror_mode": {
    "name": "ipython",
    "version": 3
   },
   "file_extension": ".py",
   "mimetype": "text/x-python",
   "name": "python",
   "nbconvert_exporter": "python",
   "pygments_lexer": "ipython3",
   "version": "3.6.10"
  }
 },
 "nbformat": 4,
 "nbformat_minor": 2
}
