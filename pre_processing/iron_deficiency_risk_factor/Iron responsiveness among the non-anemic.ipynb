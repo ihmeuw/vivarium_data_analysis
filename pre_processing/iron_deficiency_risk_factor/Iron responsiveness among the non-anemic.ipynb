{
 "cells": [
  {
   "cell_type": "code",
   "execution_count": 1,
   "metadata": {},
   "outputs": [],
   "source": [
    "# import relevant packages\n",
    "from db_queries import get_outputs, get_ids\n",
    "import pandas as pd\n",
    "import numpy as np\n",
    "from gbd_mapping import causes, risk_factors\n",
    "from vivarium_inputs import get_measure\n",
    "import gbd_mapping, vivarium_inputs, scipy.stats\n",
    "from operator import attrgetter\n",
    "from get_draws.api import get_draws\n",
    "from math import sqrt, pi\n",
    "import seaborn as sns\n",
    "import matplotlib.pyplot as plt"
   ]
  },
  {
   "cell_type": "markdown",
   "metadata": {},
   "source": [
    "# This notebook aims to investigate the probability that an individual *without anemia* will respond to iron supplementation."
   ]
  },
  {
   "cell_type": "code",
   "execution_count": 8,
   "metadata": {},
   "outputs": [],
   "source": [
    "# define sequelae IDs for all anemia and for iron-responsive anemias\n",
    "\n",
    "mild_anemia = [144, 172, 177, 182, 206, 240, 525, 531, 537, 645, 648, 651, 654, 1016, 1024, 1032, 1057, 1061, 1065, 1069, 1079, 1089, 1099, 1106, 1120, 1373, 1385, 1397, 1421, 1433, 1445, 4952, 4955, 4976, 4985, 4988, 5009, 5018, 5027, 5036, 5051, 5063, 5075, 5087, 5099, 5111, 5123, 5225, 5228, 5249, 5252, 5273, 5276, 5393, 5567, 5579, 5606, 5627, 5678, 7202, 7214]\n",
    "moderate_anemia = [145, 173, 178, 183, 207, 241, 526, 532, 538, 646, 649, 652, 655, 1017, 1025, 1033, 1058, 1062, 1066, 1070, 1080, 1090, 1100, 1107, 1121, 1376, 1388, 1400, 1424, 1436, 1448, 4958, 4961, 4979, 4991, 4994, 5012, 5021, 5030, 5039, 5054, 5066, 5078, 5090, 5102, 5114, 5126, 5219, 5222, 5243, 5246, 5267, 5270, 5396, 5570, 5582, 5609, 5630, 5681, 7205, 7217]\n",
    "severe_anemia = [146, 174, 179, 184, 208, 242, 527, 533, 539, 647, 650, 653, 656, 1018, 1026, 1034, 1059, 1060, 1063, 1064, 1067, 1068, 1071, 1074, 1075, 1077, 1081, 1083, 1085, 1087, 1091, 1093, 1095, 1097, 1101, 1108, 1122, 1379, 1391, 1403, 1427, 1439, 1451, 4964, 4967, 4982, 4997, 5000, 5015, 5024, 5033, 5042, 5057, 5069, 5081, 5093, 5105, 5117, 5129, 5213, 5216, 5237, 5240, 5261, 5264, 5399, 5573, 5585, 5612, 5633, 5684, 7208, 7220]\n",
    "mild_ira = [144, 172, 177, 182, 206, 240, 525, 537, 1016, 1024, 1032, 1106, 1373, 1385, 1397, 1421, 1433, 1445, 4952, 4955, 4976, 4985, 4988, 5009, 5225, 5228, 5249, 5252, 5273, 5276, 5393, 5567, 5579, 5627, 5678, 7202, 7214 ]\n",
    "moderate_ira = [145, 173, 178, 183, 207, 241, 526, 538, 1017, 1025, 1033, 1107, 1376, 1388, 1400, 1424, 1436, 1448, 4958, 4961, 4979, 4991, 4994, 5012, 5219, 5222, 5243, 5246, 5267, 5270, 5396, 5570, 5582, 5630, 5681, 7205, 7217]\n",
    "severe_ira = [146, 174, 179, 184, 208, 242, 527, 539, 1018, 1026, 1034, 1108, 1379, 1391, 1403, 1427, 1439, 1451, 4964, 4967, 4982, 4997, 5000, 5015, 5213, 5216, 5237, 5240, 5261, 5264, 5399, 5573, 5585, 5633, 5684, 7208, 7220]\n",
    "total_anemia = mild_anemia + moderate_anemia + severe_anemia\n",
    "total_ira = mild_ira + moderate_ira + severe_ira"
   ]
  },
  {
   "cell_type": "code",
   "execution_count": 9,
   "metadata": {},
   "outputs": [],
   "source": [
    "# define sequelae IDs for non iron responsive anemias\n",
    "mild_nira = []\n",
    "moderate_nira = []\n",
    "severe_nira = []\n",
    "\n",
    "for i in mild_anemia:\n",
    "    if i not in mild_ira:\n",
    "        mild_nira.append(i)\n",
    "for i in moderate_anemia:\n",
    "    if i not in moderate_ira:\n",
    "        moderate_nira.append(i)\n",
    "for i in severe_anemia:\n",
    "    if i not in severe_ira:\n",
    "        severe_nira.append(i)\n",
    "total_nira = mild_nira + moderate_nira + severe_nira"
   ]
  },
  {
   "cell_type": "code",
   "execution_count": 125,
   "metadata": {},
   "outputs": [],
   "source": [
    "# call sequela IDs and names\n",
    "s = get_ids('sequela')"
   ]
  },
  {
   "cell_type": "code",
   "execution_count": 171,
   "metadata": {},
   "outputs": [
    {
     "data": {
      "text/plain": [
       "0.6736174893247817"
      ]
     },
     "execution_count": 171,
     "metadata": {},
     "output_type": "execute_result"
    }
   ],
   "source": [
    "# prevalence of all anemia (India, post-natal, 2017)\n",
    "all_prevalence = get_outputs(gbd_round_id=5, year_id=2017, sex_id=3,\n",
    "                             location_id=163, age_group_id=4, topic='sequela',\n",
    "                             sequela_id=total_anemia, measure_id=5, metric_id=3)\n",
    "all_prevalence = all_prevalence['val'].sum()\n",
    "all_prevalence"
   ]
  },
  {
   "cell_type": "code",
   "execution_count": 127,
   "metadata": {},
   "outputs": [
    {
     "data": {
      "text/plain": [
       "0.6352051114906149"
      ]
     },
     "execution_count": 127,
     "metadata": {},
     "output_type": "execute_result"
    }
   ],
   "source": [
    "# prevalence of iron responsive anemia (India, post-natal, 2017)\n",
    "ira_prevalence = get_outputs(gbd_round_id=5, year_id=2017, sex_id=3,\n",
    "                             location_id=163, age_group_id=4, topic='sequela',\n",
    "                             sequela_id=total_ira, measure_id=5, metric_id=3)\n",
    "ira_prevalence = ira_prevalence['val'].sum()\n",
    "ira_prevalence"
   ]
  },
  {
   "cell_type": "code",
   "execution_count": 128,
   "metadata": {},
   "outputs": [
    {
     "data": {
      "text/plain": [
       "0.038412377834166934"
      ]
     },
     "execution_count": 128,
     "metadata": {},
     "output_type": "execute_result"
    }
   ],
   "source": [
    "# prevalence of non iron responsive anemia (India, post-natal, 2017)\n",
    "nira_prevalence = get_outputs(gbd_round_id=5, year_id=2017, sex_id=3,\n",
    "                             location_id=163, age_group_id=4, topic='sequela',\n",
    "                             sequela_id=total_nira, measure_id=5, metric_id=3)\n",
    "nira_prevalence = nira_prevalence['val'].sum()\n",
    "nira_prevalence"
   ]
  },
  {
   "cell_type": "code",
   "execution_count": 129,
   "metadata": {},
   "outputs": [
    {
     "data": {
      "text/plain": [
       "0.9429759790342283"
      ]
     },
     "execution_count": 129,
     "metadata": {},
     "output_type": "execute_result"
    }
   ],
   "source": [
    "# probability of iron-responsiveness AMONG ANEMIC INDIVIDUALS\n",
    "ira_prevalence/all_prevalence"
   ]
  },
  {
   "cell_type": "markdown",
   "metadata": {},
   "source": [
    "## Notably, there are three GBD causes that cause anemia and do not respond to iron supplementation, including"
   ]
  },
  {
   "cell_type": "markdown",
   "metadata": {},
   "source": [
    "- HIV/AIDs\n",
    "\n",
    "- Malaria\n",
    "\n",
    "- Hemoblonopathies/hemolytic anemias\n",
    "\n",
    "These causes will be referred to as \"non-responsive causes\""
   ]
  },
  {
   "cell_type": "code",
   "execution_count": 172,
   "metadata": {},
   "outputs": [
    {
     "data": {
      "text/plain": [
       "0.368214619696644"
      ]
     },
     "execution_count": 172,
     "metadata": {},
     "output_type": "execute_result"
    }
   ],
   "source": [
    "# prevalence of non-responsive causes (India, post-natal, 2017)\n",
    "nr_prevalence = get_outputs(gbd_round_id=5, year_id=2017, sex_id=3,\n",
    "                             location_id=163, age_group_id=4, topic='cause',\n",
    "                             cause_id=[613,298,345], measure_id=5, metric_id=3)\n",
    "nr_prevalence = nr_prevalence['val'].sum()\n",
    "nr_prevalence"
   ]
  },
  {
   "cell_type": "code",
   "execution_count": 181,
   "metadata": {},
   "outputs": [
    {
     "data": {
      "text/plain": [
       "0.3263825106752183"
      ]
     },
     "execution_count": 181,
     "metadata": {},
     "output_type": "execute_result"
    }
   ],
   "source": [
    "no_anemia_prevalence = (1 - all_prevalence)\n",
    "no_anemia_prevalence"
   ]
  },
  {
   "cell_type": "code",
   "execution_count": 182,
   "metadata": {},
   "outputs": [
    {
     "data": {
      "text/plain": [
       "0.32980224186247703"
      ]
     },
     "execution_count": 182,
     "metadata": {},
     "output_type": "execute_result"
    }
   ],
   "source": [
    "non_responsive_causes_without_anemia_prevalence = (nr_prevalence - nira_prevalence)\n",
    "non_responsive_causes_without_anemia_prevalence"
   ]
  },
  {
   "cell_type": "code",
   "execution_count": 183,
   "metadata": {},
   "outputs": [
    {
     "data": {
      "text/plain": [
       "-0.0034197311872587455"
      ]
     },
     "execution_count": 183,
     "metadata": {},
     "output_type": "execute_result"
    }
   ],
   "source": [
    "no_anemia_prevalence - non_responsive_causes_without_anemia_prevalence\n",
    "\n",
    "# Notably, the prevalence of those with non responsive causes and no anemia \n",
    "# is reportedly larger than the prevalence of those without anemia in general\n",
    "\n",
    "# Why is this??"
   ]
  },
  {
   "cell_type": "code",
   "execution_count": 198,
   "metadata": {},
   "outputs": [
    {
     "data": {
      "text/plain": [
       "[1126, 1051, 1052, 1053, 1087, 1050, 1056, 5615]"
      ]
     },
     "execution_count": 198,
     "metadata": {},
     "output_type": "execute_result"
    }
   ],
   "source": [
    "# there are severeal sequela among the non-responsive causes that are \"asymptomatic\" or \"without anemia\"\n",
    "without_anemia = [5060,5072,5096,1113,1114,1115,1072,1073,1076,1082,1084,1086,1088,1092,1094,1096,1098,5084,5108,5120,5132]\n",
    "asymptomatic_or_without_anemia = [1126,1051,1052,1053,5060,5072,5096,1113,1114,1115,1072,1073,1076,1082,1084,1086,1087,1088,\n",
    " 1092,1094,1096,1098,1050,1056,5615,5084,5108,5120,5132]\n",
    "asymptomatic = []\n",
    "for i in asymptomatic_or_without_anemia:\n",
    "    if i not in without_anemia:\n",
    "        asymptomatic.append(i)\n",
    "asymptomatic"
   ]
  },
  {
   "cell_type": "code",
   "execution_count": 186,
   "metadata": {},
   "outputs": [
    {
     "data": {
      "text/plain": [
       "0.385952868092631"
      ]
     },
     "execution_count": 186,
     "metadata": {},
     "output_type": "execute_result"
    }
   ],
   "source": [
    "nr_asymp_or_without_prev = get_outputs(gbd_round_id=5, year_id=2017, sex_id=3,\n",
    "                             location_id=163, age_group_id=4, topic='sequela',\n",
    "                             sequela_id=asymptomatic_or_without_anemia, measure_id=5, metric_id=3)\n",
    "nr_asymp_or_without_prev = nr_asymp_or_without_prev['val'].sum()\n",
    "nr_asymp_or_without_prev\n",
    "\n",
    "# NOTE: this is slightly higher than the prevalence of the parent causes of nr_prevalence defined above\n",
    "# this is likely due to como adjustments"
   ]
  },
  {
   "cell_type": "code",
   "execution_count": 194,
   "metadata": {},
   "outputs": [
    {
     "data": {
      "text/plain": [
       "0.38580994836841004"
      ]
     },
     "execution_count": 194,
     "metadata": {},
     "output_type": "execute_result"
    }
   ],
   "source": [
    "nr_asymptomatic_prev = get_outputs(gbd_round_id=5, year_id=2017, sex_id=3,\n",
    "                             location_id=163, age_group_id=4, topic='sequela',\n",
    "                             sequela_id=asymptomatic, measure_id=5, metric_id=3)\n",
    "nr_asymptomatic_prev = nr_asymptomatic_prev['val'].sum()\n",
    "nr_asymptomatic_prev"
   ]
  },
  {
   "cell_type": "code",
   "execution_count": 187,
   "metadata": {},
   "outputs": [
    {
     "data": {
      "text/plain": [
       "0.00014291972422100872"
      ]
     },
     "execution_count": 187,
     "metadata": {},
     "output_type": "execute_result"
    }
   ],
   "source": [
    "nr_without_anemia_prev = get_outputs(gbd_round_id=5, year_id=2017, sex_id=3,\n",
    "                             location_id=163, age_group_id=4, topic='sequela',\n",
    "                             sequela_id=without_anemia, measure_id=5, metric_id=3)\n",
    "nr_without_anemia_prev = nr_without_anemia_prev['val'].sum()\n",
    "nr_without_anemia_prev"
   ]
  },
  {
   "cell_type": "markdown",
   "metadata": {},
   "source": [
    "Notably, the prevalence of asymptomatic non-responsive causes is much higher than the prevalence of non-responsive causes without anemia"
   ]
  },
  {
   "cell_type": "code",
   "execution_count": 195,
   "metadata": {},
   "outputs": [
    {
     "data": {
      "text/html": [
       "<div>\n",
       "<style scoped>\n",
       "    .dataframe tbody tr th:only-of-type {\n",
       "        vertical-align: middle;\n",
       "    }\n",
       "\n",
       "    .dataframe tbody tr th {\n",
       "        vertical-align: top;\n",
       "    }\n",
       "\n",
       "    .dataframe thead th {\n",
       "        text-align: right;\n",
       "    }\n",
       "</style>\n",
       "<table border=\"1\" class=\"dataframe\">\n",
       "  <thead>\n",
       "    <tr style=\"text-align: right;\">\n",
       "      <th></th>\n",
       "      <th>age_group_id</th>\n",
       "      <th>location_id</th>\n",
       "      <th>measure_id</th>\n",
       "      <th>metric_id</th>\n",
       "      <th>sequela_id</th>\n",
       "      <th>sex_id</th>\n",
       "      <th>year_id</th>\n",
       "      <th>age_group_name</th>\n",
       "      <th>expected</th>\n",
       "      <th>location_name</th>\n",
       "      <th>measure_name</th>\n",
       "      <th>metric_name</th>\n",
       "      <th>sequela_name</th>\n",
       "      <th>sex</th>\n",
       "      <th>val</th>\n",
       "      <th>upper</th>\n",
       "      <th>lower</th>\n",
       "    </tr>\n",
       "  </thead>\n",
       "  <tbody>\n",
       "    <tr>\n",
       "      <th>0</th>\n",
       "      <td>4</td>\n",
       "      <td>163</td>\n",
       "      <td>5</td>\n",
       "      <td>3</td>\n",
       "      <td>1050</td>\n",
       "      <td>3</td>\n",
       "      <td>2017</td>\n",
       "      <td>Post Neonatal</td>\n",
       "      <td>False</td>\n",
       "      <td>India</td>\n",
       "      <td>Prevalence</td>\n",
       "      <td>Rate</td>\n",
       "      <td>Asymptomatic B-thalassemia trait</td>\n",
       "      <td>Both</td>\n",
       "      <td>0.010717</td>\n",
       "      <td>0.011344</td>\n",
       "      <td>0.010093</td>\n",
       "    </tr>\n",
       "    <tr>\n",
       "      <th>1</th>\n",
       "      <td>4</td>\n",
       "      <td>163</td>\n",
       "      <td>5</td>\n",
       "      <td>3</td>\n",
       "      <td>1051</td>\n",
       "      <td>3</td>\n",
       "      <td>2017</td>\n",
       "      <td>Post Neonatal</td>\n",
       "      <td>False</td>\n",
       "      <td>India</td>\n",
       "      <td>Prevalence</td>\n",
       "      <td>Rate</td>\n",
       "      <td>Asymptomatic hemoglobin E trait</td>\n",
       "      <td>Both</td>\n",
       "      <td>0.010462</td>\n",
       "      <td>0.012138</td>\n",
       "      <td>0.008917</td>\n",
       "    </tr>\n",
       "    <tr>\n",
       "      <th>2</th>\n",
       "      <td>4</td>\n",
       "      <td>163</td>\n",
       "      <td>5</td>\n",
       "      <td>3</td>\n",
       "      <td>1052</td>\n",
       "      <td>3</td>\n",
       "      <td>2017</td>\n",
       "      <td>Post Neonatal</td>\n",
       "      <td>False</td>\n",
       "      <td>India</td>\n",
       "      <td>Prevalence</td>\n",
       "      <td>Rate</td>\n",
       "      <td>Asymptomatic sickle cell trait</td>\n",
       "      <td>Both</td>\n",
       "      <td>0.132145</td>\n",
       "      <td>0.155107</td>\n",
       "      <td>0.112623</td>\n",
       "    </tr>\n",
       "    <tr>\n",
       "      <th>3</th>\n",
       "      <td>4</td>\n",
       "      <td>163</td>\n",
       "      <td>5</td>\n",
       "      <td>3</td>\n",
       "      <td>1053</td>\n",
       "      <td>3</td>\n",
       "      <td>2017</td>\n",
       "      <td>Post Neonatal</td>\n",
       "      <td>False</td>\n",
       "      <td>India</td>\n",
       "      <td>Prevalence</td>\n",
       "      <td>Rate</td>\n",
       "      <td>Asymptomatic hemizygous G6PD trait</td>\n",
       "      <td>Both</td>\n",
       "      <td>0.156794</td>\n",
       "      <td>0.158876</td>\n",
       "      <td>0.154579</td>\n",
       "    </tr>\n",
       "    <tr>\n",
       "      <th>4</th>\n",
       "      <td>4</td>\n",
       "      <td>163</td>\n",
       "      <td>5</td>\n",
       "      <td>3</td>\n",
       "      <td>1056</td>\n",
       "      <td>3</td>\n",
       "      <td>2017</td>\n",
       "      <td>Post Neonatal</td>\n",
       "      <td>False</td>\n",
       "      <td>India</td>\n",
       "      <td>Prevalence</td>\n",
       "      <td>Rate</td>\n",
       "      <td>Asymptomatic malaria parasitemia (PfPR)</td>\n",
       "      <td>Both</td>\n",
       "      <td>0.001014</td>\n",
       "      <td>0.001112</td>\n",
       "      <td>0.000924</td>\n",
       "    </tr>\n",
       "    <tr>\n",
       "      <th>5</th>\n",
       "      <td>4</td>\n",
       "      <td>163</td>\n",
       "      <td>5</td>\n",
       "      <td>3</td>\n",
       "      <td>1087</td>\n",
       "      <td>3</td>\n",
       "      <td>2017</td>\n",
       "      <td>Post Neonatal</td>\n",
       "      <td>False</td>\n",
       "      <td>India</td>\n",
       "      <td>Prevalence</td>\n",
       "      <td>Rate</td>\n",
       "      <td>Hemoglobin SC disease, with vaso-occlusive cri...</td>\n",
       "      <td>Both</td>\n",
       "      <td>0.000000</td>\n",
       "      <td>0.000000</td>\n",
       "      <td>0.000000</td>\n",
       "    </tr>\n",
       "    <tr>\n",
       "      <th>6</th>\n",
       "      <td>4</td>\n",
       "      <td>163</td>\n",
       "      <td>5</td>\n",
       "      <td>3</td>\n",
       "      <td>1126</td>\n",
       "      <td>3</td>\n",
       "      <td>2017</td>\n",
       "      <td>Post Neonatal</td>\n",
       "      <td>False</td>\n",
       "      <td>India</td>\n",
       "      <td>Prevalence</td>\n",
       "      <td>Rate</td>\n",
       "      <td>Asymptomatic G6PD deficiency</td>\n",
       "      <td>Both</td>\n",
       "      <td>0.071588</td>\n",
       "      <td>0.074107</td>\n",
       "      <td>0.068912</td>\n",
       "    </tr>\n",
       "    <tr>\n",
       "      <th>7</th>\n",
       "      <td>4</td>\n",
       "      <td>163</td>\n",
       "      <td>5</td>\n",
       "      <td>3</td>\n",
       "      <td>5615</td>\n",
       "      <td>3</td>\n",
       "      <td>2017</td>\n",
       "      <td>Post Neonatal</td>\n",
       "      <td>False</td>\n",
       "      <td>India</td>\n",
       "      <td>Prevalence</td>\n",
       "      <td>Rate</td>\n",
       "      <td>Asymptomatic malaria vivax (PvPR)</td>\n",
       "      <td>Both</td>\n",
       "      <td>0.003090</td>\n",
       "      <td>0.003201</td>\n",
       "      <td>0.002986</td>\n",
       "    </tr>\n",
       "  </tbody>\n",
       "</table>\n",
       "</div>"
      ],
      "text/plain": [
       "   age_group_id  location_id  measure_id  metric_id  sequela_id  sex_id  \\\n",
       "0             4          163           5          3        1050       3   \n",
       "1             4          163           5          3        1051       3   \n",
       "2             4          163           5          3        1052       3   \n",
       "3             4          163           5          3        1053       3   \n",
       "4             4          163           5          3        1056       3   \n",
       "5             4          163           5          3        1087       3   \n",
       "6             4          163           5          3        1126       3   \n",
       "7             4          163           5          3        5615       3   \n",
       "\n",
       "   year_id age_group_name  expected location_name measure_name metric_name  \\\n",
       "0     2017  Post Neonatal     False         India   Prevalence        Rate   \n",
       "1     2017  Post Neonatal     False         India   Prevalence        Rate   \n",
       "2     2017  Post Neonatal     False         India   Prevalence        Rate   \n",
       "3     2017  Post Neonatal     False         India   Prevalence        Rate   \n",
       "4     2017  Post Neonatal     False         India   Prevalence        Rate   \n",
       "5     2017  Post Neonatal     False         India   Prevalence        Rate   \n",
       "6     2017  Post Neonatal     False         India   Prevalence        Rate   \n",
       "7     2017  Post Neonatal     False         India   Prevalence        Rate   \n",
       "\n",
       "                                        sequela_name   sex       val  \\\n",
       "0                   Asymptomatic B-thalassemia trait  Both  0.010717   \n",
       "1                    Asymptomatic hemoglobin E trait  Both  0.010462   \n",
       "2                     Asymptomatic sickle cell trait  Both  0.132145   \n",
       "3                 Asymptomatic hemizygous G6PD trait  Both  0.156794   \n",
       "4            Asymptomatic malaria parasitemia (PfPR)  Both  0.001014   \n",
       "5  Hemoglobin SC disease, with vaso-occlusive cri...  Both  0.000000   \n",
       "6                       Asymptomatic G6PD deficiency  Both  0.071588   \n",
       "7                  Asymptomatic malaria vivax (PvPR)  Both  0.003090   \n",
       "\n",
       "      upper     lower  \n",
       "0  0.011344  0.010093  \n",
       "1  0.012138  0.008917  \n",
       "2  0.155107  0.112623  \n",
       "3  0.158876  0.154579  \n",
       "4  0.001112  0.000924  \n",
       "5  0.000000  0.000000  \n",
       "6  0.074107  0.068912  \n",
       "7  0.003201  0.002986  "
      ]
     },
     "execution_count": 195,
     "metadata": {},
     "output_type": "execute_result"
    }
   ],
   "source": [
    "nr_asymptomatic = get_outputs(gbd_round_id=5, year_id=2017, sex_id=3,\n",
    "                             location_id=163, age_group_id=4, topic='sequela',\n",
    "                             sequela_id=asymptomatic, measure_id=5, metric_id=3)\n",
    "nr_asymptomatic"
   ]
  },
  {
   "cell_type": "markdown",
   "metadata": {},
   "source": [
    "This is primarily driven by asymptomatic sickle cell trait and asymptomatic hemozygous G6PD trait/deficiency. Notably, asymptomatic individuals with these conditions generally remain asymptomatic. We will make the same assumption about other asymptomatic genetic disorders and malaria."
   ]
  },
  {
   "cell_type": "markdown",
   "metadata": {},
   "source": [
    "Therefore, if we assume that asymptomatic individuals will remain asymptomatic and exclude them from our analysis and evaluate the prevalence of individuals afflicated with non iron responsive causes *without anemia*..."
   ]
  },
  {
   "cell_type": "code",
   "execution_count": 202,
   "metadata": {},
   "outputs": [
    {
     "data": {
      "text/plain": [
       "0.00014291972422100872"
      ]
     },
     "execution_count": 202,
     "metadata": {},
     "output_type": "execute_result"
    }
   ],
   "source": [
    "nr_without_anemia_prev"
   ]
  },
  {
   "cell_type": "code",
   "execution_count": 203,
   "metadata": {},
   "outputs": [
    {
     "data": {
      "text/plain": [
       "0.0004378902653985264"
      ]
     },
     "execution_count": 203,
     "metadata": {},
     "output_type": "execute_result"
    }
   ],
   "source": [
    "# probability of non-iron responsiveness without anemia given no anemia\n",
    "nr_without_anemia_prev / no_anemia_prevalence"
   ]
  },
  {
   "cell_type": "markdown",
   "metadata": {},
   "source": [
    "We see that the prevalence is very small for this location and age group. Therefore, we can assume that individuals who are border-line anemic and *at risk* of becoming anemic due to a non iron responsive cause (non-asymptomatic individuals) represent a neglible proportion of individuals without anemia and can be ignored. **Therefore, we assume that all individuals without anemia are iron responsive.**"
   ]
  }
 ],
 "metadata": {
  "kernelspec": {
   "display_name": "Python 3",
   "language": "python",
   "name": "python3"
  },
  "language_info": {
   "codemirror_mode": {
    "name": "ipython",
    "version": 3
   },
   "file_extension": ".py",
   "mimetype": "text/x-python",
   "name": "python",
   "nbconvert_exporter": "python",
   "pygments_lexer": "ipython3",
   "version": "3.6.9"
  }
 },
 "nbformat": 4,
 "nbformat_minor": 2
}
