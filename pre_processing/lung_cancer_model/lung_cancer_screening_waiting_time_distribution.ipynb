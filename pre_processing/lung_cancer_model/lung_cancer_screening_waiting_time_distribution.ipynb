{
 "cells": [
  {
   "cell_type": "code",
   "execution_count": 1,
   "metadata": {},
   "outputs": [
    {
     "name": "stdout",
     "output_type": "stream",
     "text": [
      "alibow\n",
      "Tue Jan  5 08:34:39 PST 2021\n"
     ]
    }
   ],
   "source": [
    "import pandas as pd, numpy as np, matplotlib.pyplot as plt\n",
    "pd.set_option('display.max_rows', 8)\n",
    "!whoami\n",
    "!date\n",
    "\n",
    "%load_ext autoreload\n",
    "%autoreload 2"
   ]
  },
  {
   "cell_type": "markdown",
   "metadata": {},
   "source": [
    "# Lung cancer screening gaps (days)"
   ]
  },
  {
   "cell_type": "code",
   "execution_count": 2,
   "metadata": {},
   "outputs": [
    {
     "name": "stdout",
     "output_type": "stream",
     "text": [
      "/snfs1/Project/simulation_science/cancer/market_scan_data/lung_cancer\n",
      "2016_outpatient_mdcr.csv     2017_outpatient_mdcr.csv\r\n",
      "2016_outpatient_nonmdcr.csv  2017_outpatient_nonmdcr.csv\r\n"
     ]
    }
   ],
   "source": [
    "%cd /home/j/Project/simulation_science/cancer/market_scan_data/lung_cancer/\n",
    "!ls *outpatient*"
   ]
  },
  {
   "cell_type": "code",
   "execution_count": 3,
   "metadata": {},
   "outputs": [],
   "source": [
    "def merge_data(year: int):\n",
    "    \"\"\"merge medicare and nonmedicare outpatient screening records\"\"\"\n",
    "    df_mdcr = pd.read_csv(f'{year}_outpatient_mdcr.csv').query('age > 65')\n",
    "    df_non_mdcr = pd.read_csv(f'{year}_outpatient_nonmdcr.csv')\n",
    "    \n",
    "    return pd.concat([df_mdcr, df_non_mdcr], ignore_index=True)"
   ]
  },
  {
   "cell_type": "code",
   "execution_count": 4,
   "metadata": {},
   "outputs": [],
   "source": [
    "df_2016 = merge_data(2016)\n",
    "df_2017 = merge_data(2017)"
   ]
  },
  {
   "cell_type": "code",
   "execution_count": 5,
   "metadata": {},
   "outputs": [
    {
     "data": {
      "text/plain": [
       "1475"
      ]
     },
     "execution_count": 5,
     "metadata": {},
     "output_type": "execute_result"
    }
   ],
   "source": [
    "patient_ids = set(df_2016.enrolid) & set(df_2017.enrolid)\n",
    "len(patient_ids)"
   ]
  },
  {
   "cell_type": "code",
   "execution_count": 6,
   "metadata": {},
   "outputs": [
    {
     "data": {
      "text/plain": [
       "enrolid\n",
       "2.704370e+07    2016-02-18\n",
       "3.259210e+07    2016-12-02\n",
       "3.318330e+07    2016-02-15\n",
       "9.778970e+07    2016-06-15\n",
       "                   ...    \n",
       "3.294218e+10    2016-11-08\n",
       "3.296201e+10    2016-11-01\n",
       "3.298375e+10    2016-01-28\n",
       "3.299572e+10    2016-12-16\n",
       "Name: svcdate, Length: 1475, dtype: object"
      ]
     },
     "execution_count": 6,
     "metadata": {},
     "output_type": "execute_result"
    }
   ],
   "source": [
    "t1 = df_2016[df_2016.enrolid.isin(patient_ids)].groupby('enrolid').svcdate.last()\n",
    "t1"
   ]
  },
  {
   "cell_type": "code",
   "execution_count": 7,
   "metadata": {},
   "outputs": [
    {
     "data": {
      "text/plain": [
       "enrolid\n",
       "27043701       2017-07-06\n",
       "32592101       2017-12-20\n",
       "33183302       2017-03-30\n",
       "97789701       2017-08-02\n",
       "                  ...    \n",
       "32942175102    2017-03-08\n",
       "32962007301    2017-11-08\n",
       "32983748901    2017-05-05\n",
       "32995720601    2017-02-24\n",
       "Name: svcdate, Length: 1475, dtype: object"
      ]
     },
     "execution_count": 7,
     "metadata": {},
     "output_type": "execute_result"
    }
   ],
   "source": [
    "t2 = df_2017[df_2017.enrolid.isin(patient_ids)].groupby('enrolid').svcdate.first()\n",
    "t2"
   ]
  },
  {
   "cell_type": "code",
   "execution_count": 65,
   "metadata": {},
   "outputs": [
    {
     "data": {
      "text/plain": [
       "<AxesSubplot:>"
      ]
     },
     "execution_count": 65,
     "metadata": {},
     "output_type": "execute_result"
    },
    {
     "data": {
      "image/png": "[encoded data removed]",
      "text/plain": [
       "<Figure size 432x288 with 1 Axes>"
      ]
     },
     "metadata": {
      "needs_background": "light"
     },
     "output_type": "display_data"
    }
   ],
   "source": [
    "# Empirical distribution\n",
    "delta = (pd.to_datetime(t2) - pd.to_datetime(t1)) / pd.Timedelta(days=1)\n",
    "delta.hist(bins=100)"
   ]
  },
  {
   "cell_type": "code",
   "execution_count": 9,
   "metadata": {},
   "outputs": [
    {
     "data": {
      "text/plain": [
       "367.3437288135593"
      ]
     },
     "execution_count": 9,
     "metadata": {},
     "output_type": "execute_result"
    }
   ],
   "source": [
    "delta.mean()"
   ]
  },
  {
   "cell_type": "code",
   "execution_count": 10,
   "metadata": {},
   "outputs": [
    {
     "data": {
      "text/plain": [
       "109.07222760225942"
      ]
     },
     "execution_count": 10,
     "metadata": {},
     "output_type": "execute_result"
    }
   ],
   "source": [
    "delta.std()"
   ]
  },
  {
   "cell_type": "code",
   "execution_count": 67,
   "metadata": {},
   "outputs": [
    {
     "data": {
      "text/plain": [
       "<AxesSubplot:>"
      ]
     },
     "execution_count": 67,
     "metadata": {},
     "output_type": "execute_result"
    },
    {
     "data": {
      "image/png": "[encoded data removed]",
      "text/plain": [
       "<Figure size 432x288 with 1 Axes>"
      ]
     },
     "metadata": {
      "needs_background": "light"
     },
     "output_type": "display_data"
    }
   ],
   "source": [
    "#truncated_delta = delta.loc[delta < (delta.mean() + delta.std())].loc[delta > (delta.mean() - delta.std())]\n",
    "truncated_delta = delta.loc[delta < 550].loc[delta > 300]\n",
    "\n",
    "truncated_delta.hist(bins=50)"
   ]
  },
  {
   "cell_type": "code",
   "execution_count": 68,
   "metadata": {},
   "outputs": [
    {
     "data": {
      "text/plain": [
       "count    1201.000000\n",
       "mean      393.353872\n",
       "std        43.345632\n",
       "min       302.000000\n",
       "2.5%      333.000000\n",
       "50%       378.000000\n",
       "97.5%     513.000000\n",
       "max       549.000000\n",
       "Name: svcdate, dtype: float64"
      ]
     },
     "execution_count": 68,
     "metadata": {},
     "output_type": "execute_result"
    }
   ],
   "source": [
    "truncated_delta.describe(percentiles=[0.025,0.975])"
   ]
  },
  {
   "cell_type": "code",
   "execution_count": 271,
   "metadata": {},
   "outputs": [
    {
     "data": {
      "image/png": "[encoded data removed]",
      "text/plain": [
       "<Figure size 432x288 with 1 Axes>"
      ]
     },
     "metadata": {
      "needs_background": "light"
     },
     "output_type": "display_data"
    },
    {
     "name": "stdout",
     "output_type": "stream",
     "text": [
      "median: 377.0 2.5%: 339.5190714447906 97.5%: 476.86449569317386\n"
     ]
    }
   ],
   "source": [
    "# distribution for the cost of BEP\n",
    "import scipy.stats\n",
    "s = 0.5\n",
    "loc = 317\n",
    "scale = 60\n",
    "\n",
    "fig, ax = plt.subplots(1,1)\n",
    "x = np.linspace(300, 500, 200)\n",
    "\n",
    "ax.plot(x, scipy.stats.lognorm.pdf(x, s, loc, scale), 'r-', lw=1, alpha=0.9, label='beta pdf')\n",
    "ax.hist(truncated_delta, density=True, bins=15)\n",
    "plt.show()\n",
    "\n",
    "print('median:', scipy.stats.lognorm.ppf(0.5, s, loc, scale),\n",
    "      '2.5%:', scipy.stats.lognorm.ppf(0.025, s, loc, scale),\n",
    "      '97.5%:', scipy.stats.lognorm.ppf(0.975, s, loc, scale))"
   ]
  },
  {
   "cell_type": "code",
   "execution_count": 266,
   "metadata": {},
   "outputs": [
    {
     "data": {
      "image/png": "[encoded data removed]",
      "text/plain": [
       "<Figure size 432x288 with 1 Axes>"
      ]
     },
     "metadata": {
      "needs_background": "light"
     },
     "output_type": "display_data"
    },
    {
     "name": "stdout",
     "output_type": "stream",
     "text": [
      "LOGNORMAL DIST \n",
      " median: 377.0 2.5%: 339.5190714447906 97.5%: 476.86449569317386 EMPIRICAL DIST mean and median: 367.3437288135593 and 374.0\n"
     ]
    }
   ],
   "source": [
    "# distribution for the cost of BEP\n",
    "import scipy.stats\n",
    "s = 0.5\n",
    "loc = 317\n",
    "scale = 60\n",
    "\n",
    "fig, ax = plt.subplots(1,1)\n",
    "x = np.linspace(0, 700, 200)\n",
    "\n",
    "ax.plot(x, scipy.stats.lognorm.pdf(x, s, loc, scale), 'r-', lw=1, alpha=0.9, label='beta pdf')\n",
    "ax.hist(delta, density=True, bins=25)\n",
    "plt.show()\n",
    "\n",
    "print('LOGNORMAL DIST \\n median:', scipy.stats.lognorm.ppf(0.5, s, loc, scale),\n",
    "      '2.5%:', scipy.stats.lognorm.ppf(0.025, s, loc, scale),\n",
    "      '97.5%:', scipy.stats.lognorm.ppf(0.975, s, loc, scale),\n",
    "     \n",
    "     'EMPIRICAL DIST mean and median:', delta.mean(), 'and', delta.median())"
   ]
  },
  {
   "cell_type": "code",
   "execution_count": 264,
   "metadata": {},
   "outputs": [
    {
     "data": {
      "text/plain": [
       "368.13676418666967"
      ]
     },
     "execution_count": 264,
     "metadata": {},
     "output_type": "execute_result"
    }
   ],
   "source": [
    "# sample value from lognorm dist\n",
    "scipy.stats.lognorm.rvs(s, loc, scale)"
   ]
  },
  {
   "cell_type": "code",
   "execution_count": null,
   "metadata": {},
   "outputs": [],
   "source": []
  }
 ],
 "metadata": {
  "kernelspec": {
   "display_name": "Python 3",
   "language": "python",
   "name": "python3"
  },
  "language_info": {
   "codemirror_mode": {
    "name": "ipython",
    "version": 3
   },
   "file_extension": ".py",
   "mimetype": "text/x-python",
   "name": "python",
   "nbconvert_exporter": "python",
   "pygments_lexer": "ipython3",
   "version": "3.7.0"
  }
 },
 "nbformat": 4,
 "nbformat_minor": 4
}
