{
 "cells": [
  {
   "cell_type": "code",
   "execution_count": 1,
   "metadata": {},
   "outputs": [],
   "source": [
    "import pandas as pd, numpy as np\n",
    "from db_queries import get_ids, get_outputs, get_location_metadata, get_population, get_covariate_estimates\n",
    "from get_draws.api import get_draws\n",
    "import matplotlib.pyplot as plt\n",
    "import os\n",
    "import scipy.stats, random\n",
    "from scipy.interpolate import interp1d"
   ]
  },
  {
   "cell_type": "markdown",
   "metadata": {},
   "source": [
    "The purpose of this notebook is to run a nano-simulation to test how well the method of using YSQ forecast data for initialization only will replicate the forecast estimates of YSQ into the future"
   ]
  },
  {
   "cell_type": "code",
   "execution_count": 20,
   "metadata": {},
   "outputs": [],
   "source": [
    "filepath = '/ihme/csu/swiss_re/forecast/'\n",
    "\n",
    "# just look at single demographic group for now\n",
    "location = 'Zhejiang'\n",
    "age_group = ['50 to 54','55 to 59','60 to 64']\n",
    "sex = 'Male'\n",
    "year = list(range(2020,2031))"
   ]
  },
  {
   "cell_type": "code",
   "execution_count": 21,
   "metadata": {},
   "outputs": [],
   "source": [
    "# import exposure forecst data\n",
    "prevalence = pd.read_csv(filepath + 'prev_forecast_bounds.csv')\n",
    "ysq = pd.read_csv(filepath + 'ysq_forecast_bounds.csv')"
   ]
  },
  {
   "cell_type": "code",
   "execution_count": 22,
   "metadata": {},
   "outputs": [],
   "source": [
    "prev_data = (prevalence.loc[prevalence.sex_id == sex].loc[prevalence.year_id.isin(year)]\n",
    "             .loc[prevalence.location_id == location].loc[prevalence.age_group_id.isin(age_group)])\n",
    "current_prev = prev_data.loc[prev_data.measure == 'current']\n",
    "former_prev = prev_data.loc[prev_data.measure == 'former']"
   ]
  },
  {
   "cell_type": "code",
   "execution_count": 23,
   "metadata": {},
   "outputs": [],
   "source": [
    "ysq_data = (ysq.loc[ysq.sex_id == sex].loc[ysq.year_id == 2020]\n",
    "             .loc[ysq.location_id == location].loc[ysq.age_group_id.isin(age_group)])"
   ]
  },
  {
   "cell_type": "code",
   "execution_count": 24,
   "metadata": {},
   "outputs": [
    {
     "data": {
      "text/html": [
       "<div>\n",
       "<style scoped>\n",
       "    .dataframe tbody tr th:only-of-type {\n",
       "        vertical-align: middle;\n",
       "    }\n",
       "\n",
       "    .dataframe tbody tr th {\n",
       "        vertical-align: top;\n",
       "    }\n",
       "\n",
       "    .dataframe thead th {\n",
       "        text-align: right;\n",
       "    }\n",
       "</style>\n",
       "<table border=\"1\" class=\"dataframe\">\n",
       "  <thead>\n",
       "    <tr style=\"text-align: right;\">\n",
       "      <th></th>\n",
       "      <th>age</th>\n",
       "      <th>age_group</th>\n",
       "      <th>propensity</th>\n",
       "      <th>smok_2020</th>\n",
       "      <th>ysq_bin_2020</th>\n",
       "      <th>ysq_2020_min</th>\n",
       "      <th>ysq_2020_max</th>\n",
       "      <th>ysq_2020</th>\n",
       "    </tr>\n",
       "  </thead>\n",
       "  <tbody>\n",
       "    <tr>\n",
       "      <th>0</th>\n",
       "      <td>55</td>\n",
       "      <td>55 to 59</td>\n",
       "      <td>0.687335</td>\n",
       "      <td>current</td>\n",
       "      <td>20 to 29</td>\n",
       "      <td>20</td>\n",
       "      <td>29</td>\n",
       "      <td>22.025667</td>\n",
       "    </tr>\n",
       "    <tr>\n",
       "      <th>1</th>\n",
       "      <td>54</td>\n",
       "      <td>50 to 54</td>\n",
       "      <td>0.691642</td>\n",
       "      <td>current</td>\n",
       "      <td>10 to 19</td>\n",
       "      <td>10</td>\n",
       "      <td>19</td>\n",
       "      <td>16.820231</td>\n",
       "    </tr>\n",
       "    <tr>\n",
       "      <th>2</th>\n",
       "      <td>52</td>\n",
       "      <td>50 to 54</td>\n",
       "      <td>0.938769</td>\n",
       "      <td>former</td>\n",
       "      <td>20 to 29</td>\n",
       "      <td>20</td>\n",
       "      <td>29</td>\n",
       "      <td>26.469108</td>\n",
       "    </tr>\n",
       "    <tr>\n",
       "      <th>3</th>\n",
       "      <td>55</td>\n",
       "      <td>55 to 59</td>\n",
       "      <td>0.859026</td>\n",
       "      <td>former</td>\n",
       "      <td>10 to 19</td>\n",
       "      <td>10</td>\n",
       "      <td>19</td>\n",
       "      <td>17.768548</td>\n",
       "    </tr>\n",
       "    <tr>\n",
       "      <th>4</th>\n",
       "      <td>58</td>\n",
       "      <td>55 to 59</td>\n",
       "      <td>0.688666</td>\n",
       "      <td>current</td>\n",
       "      <td>10 to 19</td>\n",
       "      <td>10</td>\n",
       "      <td>19</td>\n",
       "      <td>17.731860</td>\n",
       "    </tr>\n",
       "  </tbody>\n",
       "</table>\n",
       "</div>"
      ],
      "text/plain": [
       "   age age_group  propensity smok_2020 ysq_bin_2020  ysq_2020_min  \\\n",
       "0   55  55 to 59    0.687335   current     20 to 29            20   \n",
       "1   54  50 to 54    0.691642   current     10 to 19            10   \n",
       "2   52  50 to 54    0.938769    former     20 to 29            20   \n",
       "3   55  55 to 59    0.859026    former     10 to 19            10   \n",
       "4   58  55 to 59    0.688666   current     10 to 19            10   \n",
       "\n",
       "   ysq_2020_max   ysq_2020  \n",
       "0            29  22.025667  \n",
       "1            19  16.820231  \n",
       "2            29  26.469108  \n",
       "3            19  17.768548  \n",
       "4            19  17.731860  "
      ]
     },
     "execution_count": 24,
     "metadata": {},
     "output_type": "execute_result"
    }
   ],
   "source": [
    "n_simulants = 100_000\n",
    "sims = pd.DataFrame()\n",
    "sims['age'] = np.random.choice(list(range(50,60)),n_simulants,p=[1/len(list(range(50,60)))]*len(list(range(50,60))))\n",
    "sims['age_group'] = np.where(sims.age<55,'50 to 54',np.where(sims.age<60,'55 to 59','60 to 64'))\n",
    "sims['propensity'] = np.random.uniform(0,1,n_simulants)\n",
    "sims['smok_2020'] = np.where(sims.age_group == '50 to 54', \n",
    "                             np.where(sims.propensity < 1 - current_prev.loc[current_prev.age_group_id=='50 to 54'].loc[current_prev.year_id == 2020]['median'].values[0] - former_prev.loc[former_prev.age_group_id=='50 to 54'].loc[former_prev.year_id == 2020]['median'].values[0],\n",
    "                             'never',\n",
    "                             np.where(sims.propensity < 1 - former_prev.loc[former_prev.age_group_id=='50 to 54'].loc[former_prev.year_id == 2020]['median'].values[0], \n",
    "                                     'current','former')),\n",
    "                             np.where(sims.propensity < 1 - current_prev.loc[current_prev.age_group_id=='55 to 59'].loc[current_prev.year_id == 2020]['median'].values[0] - former_prev.loc[former_prev.age_group_id=='55 to 59'].loc[former_prev.year_id == 2020]['median'].values[0],\n",
    "                             'never',\n",
    "                             np.where(sims.propensity < 1 - former_prev.loc[former_prev.age_group_id=='55 to 59'].loc[former_prev.year_id == 2020]['median'].values[0], \n",
    "                                     'current','former')))\n",
    "sims['ysq_bin_2020'] = np.where(sims.age_group=='50 to 54', np.random.choice(ysq_data.loc[ysq_data.age_group_id=='50 to 54']['bin'].values,\n",
    "                                        n_simulants, p=ysq_data.loc[ysq_data.age_group_id=='50 to 54']['median'].values/ysq_data.loc[ysq_data.age_group_id=='50 to 54']['median'].sum()),\n",
    "                                np.random.choice(ysq_data.loc[ysq_data.age_group_id=='55 to 59']['bin'].values,\n",
    "                                        n_simulants, p=ysq_data.loc[ysq_data.age_group_id=='55 to 59']['median'].values/ysq_data.loc[ysq_data.age_group_id=='55 to 59']['median'].sum()))\n",
    "sims['ysq_2020_min'] = sims['ysq_bin_2020'].str.split(' ', n=2, expand=True)[0].astype(int)\n",
    "sims['ysq_2020_max'] = sims['ysq_bin_2020'].str.split(' ', n=2, expand=True)[2].astype(int)\n",
    "sims['ysq_2020'] = np.random.uniform(sims.ysq_2020_min,sims.ysq_2020_max)\n",
    "sims.head()"
   ]
  },
  {
   "cell_type": "code",
   "execution_count": 25,
   "metadata": {},
   "outputs": [
    {
     "data": {
      "text/html": [
       "<div>\n",
       "<style scoped>\n",
       "    .dataframe tbody tr th:only-of-type {\n",
       "        vertical-align: middle;\n",
       "    }\n",
       "\n",
       "    .dataframe tbody tr th {\n",
       "        vertical-align: top;\n",
       "    }\n",
       "\n",
       "    .dataframe thead th {\n",
       "        text-align: right;\n",
       "    }\n",
       "</style>\n",
       "<table border=\"1\" class=\"dataframe\">\n",
       "  <thead>\n",
       "    <tr style=\"text-align: right;\">\n",
       "      <th></th>\n",
       "      <th>age</th>\n",
       "      <th>age_group</th>\n",
       "      <th>propensity</th>\n",
       "      <th>smok_2020</th>\n",
       "      <th>ysq_bin_2020</th>\n",
       "      <th>ysq_2020_min</th>\n",
       "      <th>ysq_2020_max</th>\n",
       "      <th>ysq_2020</th>\n",
       "      <th>age_group_2021</th>\n",
       "      <th>smok_2021</th>\n",
       "      <th>...</th>\n",
       "      <th>ysq_2027</th>\n",
       "      <th>age_group_2028</th>\n",
       "      <th>smok_2028</th>\n",
       "      <th>ysq_2028</th>\n",
       "      <th>age_group_2029</th>\n",
       "      <th>smok_2029</th>\n",
       "      <th>ysq_2029</th>\n",
       "      <th>age_group_2030</th>\n",
       "      <th>smok_2030</th>\n",
       "      <th>ysq_2030</th>\n",
       "    </tr>\n",
       "  </thead>\n",
       "  <tbody>\n",
       "    <tr>\n",
       "      <th>0</th>\n",
       "      <td>65</td>\n",
       "      <td>55 to 59</td>\n",
       "      <td>0.687335</td>\n",
       "      <td>current</td>\n",
       "      <td>20 to 29</td>\n",
       "      <td>20</td>\n",
       "      <td>29</td>\n",
       "      <td>22.025667</td>\n",
       "      <td>55 to 59</td>\n",
       "      <td>current</td>\n",
       "      <td>...</td>\n",
       "      <td>NaN</td>\n",
       "      <td>60 to 64</td>\n",
       "      <td>current</td>\n",
       "      <td>NaN</td>\n",
       "      <td>60 to 64</td>\n",
       "      <td>current</td>\n",
       "      <td>NaN</td>\n",
       "      <td>60 to 64</td>\n",
       "      <td>current</td>\n",
       "      <td>NaN</td>\n",
       "    </tr>\n",
       "    <tr>\n",
       "      <th>1</th>\n",
       "      <td>64</td>\n",
       "      <td>50 to 54</td>\n",
       "      <td>0.691642</td>\n",
       "      <td>current</td>\n",
       "      <td>10 to 19</td>\n",
       "      <td>10</td>\n",
       "      <td>19</td>\n",
       "      <td>16.820231</td>\n",
       "      <td>55 to 59</td>\n",
       "      <td>current</td>\n",
       "      <td>...</td>\n",
       "      <td>NaN</td>\n",
       "      <td>60 to 64</td>\n",
       "      <td>current</td>\n",
       "      <td>NaN</td>\n",
       "      <td>60 to 64</td>\n",
       "      <td>current</td>\n",
       "      <td>NaN</td>\n",
       "      <td>60 to 64</td>\n",
       "      <td>current</td>\n",
       "      <td>NaN</td>\n",
       "    </tr>\n",
       "    <tr>\n",
       "      <th>2</th>\n",
       "      <td>62</td>\n",
       "      <td>50 to 54</td>\n",
       "      <td>0.938769</td>\n",
       "      <td>former</td>\n",
       "      <td>20 to 29</td>\n",
       "      <td>20</td>\n",
       "      <td>29</td>\n",
       "      <td>26.469108</td>\n",
       "      <td>50 to 54</td>\n",
       "      <td>former</td>\n",
       "      <td>...</td>\n",
       "      <td>33.469108</td>\n",
       "      <td>60 to 64</td>\n",
       "      <td>former</td>\n",
       "      <td>34.469108</td>\n",
       "      <td>60 to 64</td>\n",
       "      <td>former</td>\n",
       "      <td>35.469108</td>\n",
       "      <td>60 to 64</td>\n",
       "      <td>former</td>\n",
       "      <td>36.469108</td>\n",
       "    </tr>\n",
       "    <tr>\n",
       "      <th>3</th>\n",
       "      <td>65</td>\n",
       "      <td>55 to 59</td>\n",
       "      <td>0.859026</td>\n",
       "      <td>former</td>\n",
       "      <td>10 to 19</td>\n",
       "      <td>10</td>\n",
       "      <td>19</td>\n",
       "      <td>17.768548</td>\n",
       "      <td>55 to 59</td>\n",
       "      <td>former</td>\n",
       "      <td>...</td>\n",
       "      <td>24.768548</td>\n",
       "      <td>60 to 64</td>\n",
       "      <td>former</td>\n",
       "      <td>25.768548</td>\n",
       "      <td>60 to 64</td>\n",
       "      <td>former</td>\n",
       "      <td>26.768548</td>\n",
       "      <td>60 to 64</td>\n",
       "      <td>former</td>\n",
       "      <td>27.768548</td>\n",
       "    </tr>\n",
       "    <tr>\n",
       "      <th>4</th>\n",
       "      <td>68</td>\n",
       "      <td>55 to 59</td>\n",
       "      <td>0.688666</td>\n",
       "      <td>current</td>\n",
       "      <td>10 to 19</td>\n",
       "      <td>10</td>\n",
       "      <td>19</td>\n",
       "      <td>17.731860</td>\n",
       "      <td>55 to 59</td>\n",
       "      <td>current</td>\n",
       "      <td>...</td>\n",
       "      <td>NaN</td>\n",
       "      <td>60 to 64</td>\n",
       "      <td>current</td>\n",
       "      <td>NaN</td>\n",
       "      <td>60 to 64</td>\n",
       "      <td>current</td>\n",
       "      <td>NaN</td>\n",
       "      <td>60 to 64</td>\n",
       "      <td>current</td>\n",
       "      <td>NaN</td>\n",
       "    </tr>\n",
       "  </tbody>\n",
       "</table>\n",
       "<p>5 rows × 38 columns</p>\n",
       "</div>"
      ],
      "text/plain": [
       "   age age_group  propensity smok_2020 ysq_bin_2020  ysq_2020_min  \\\n",
       "0   65  55 to 59    0.687335   current     20 to 29            20   \n",
       "1   64  50 to 54    0.691642   current     10 to 19            10   \n",
       "2   62  50 to 54    0.938769    former     20 to 29            20   \n",
       "3   65  55 to 59    0.859026    former     10 to 19            10   \n",
       "4   68  55 to 59    0.688666   current     10 to 19            10   \n",
       "\n",
       "   ysq_2020_max   ysq_2020 age_group_2021 smok_2021  ...   ysq_2027  \\\n",
       "0            29  22.025667       55 to 59   current  ...        NaN   \n",
       "1            19  16.820231       55 to 59   current  ...        NaN   \n",
       "2            29  26.469108       50 to 54    former  ...  33.469108   \n",
       "3            19  17.768548       55 to 59    former  ...  24.768548   \n",
       "4            19  17.731860       55 to 59   current  ...        NaN   \n",
       "\n",
       "  age_group_2028 smok_2028   ysq_2028 age_group_2029 smok_2029   ysq_2029  \\\n",
       "0       60 to 64   current        NaN       60 to 64   current        NaN   \n",
       "1       60 to 64   current        NaN       60 to 64   current        NaN   \n",
       "2       60 to 64    former  34.469108       60 to 64    former  35.469108   \n",
       "3       60 to 64    former  25.768548       60 to 64    former  26.768548   \n",
       "4       60 to 64   current        NaN       60 to 64   current        NaN   \n",
       "\n",
       "  age_group_2030 smok_2030   ysq_2030  \n",
       "0       60 to 64   current        NaN  \n",
       "1       60 to 64   current        NaN  \n",
       "2       60 to 64    former  36.469108  \n",
       "3       60 to 64    former  27.768548  \n",
       "4       60 to 64   current        NaN  \n",
       "\n",
       "[5 rows x 38 columns]"
      ]
     },
     "execution_count": 25,
     "metadata": {},
     "output_type": "execute_result"
    }
   ],
   "source": [
    "# step ahead\n",
    "for i in list(range(2021,2031)):\n",
    "    sims['age'] = sims['age'] + 1\n",
    "    sims[f'age_group_{i}'] = np.where(sims.age<55,'50 to 54',np.where(sims.age<60,'55 to 59','60 to 64'))\n",
    "    sims[f'smok_{i}'] = np.where(sims.age_group == '50 to 54', \n",
    "                             np.where(sims.propensity < 1 - current_prev.loc[current_prev.age_group_id=='50 to 54'].loc[current_prev.year_id == i]['median'].values[0] - former_prev.loc[former_prev.age_group_id=='50 to 54'].loc[former_prev.year_id == i]['median'].values[0],\n",
    "                             'never',\n",
    "                             np.where(sims.propensity < 1 - former_prev.loc[former_prev.age_group_id=='50 to 54'].loc[former_prev.year_id == i]['median'].values[0], \n",
    "                                     'current','former')),\n",
    "                             np.where(sims.age_group == '55 to 54',\n",
    "                                      np.where(sims.propensity < 1 - current_prev.loc[current_prev.age_group_id=='55 to 59'].loc[current_prev.year_id == i]['median'].values[0] - former_prev.loc[former_prev.age_group_id=='55 to 59'].loc[former_prev.year_id == i]['median'].values[0],\n",
    "                                     'never',\n",
    "                                     np.where(sims.propensity < 1 - former_prev.loc[former_prev.age_group_id=='55 to 59'].loc[former_prev.year_id == i]['median'].values[0], \n",
    "                                             'current','former')),\n",
    "                                      np.where(sims.propensity < 1 - current_prev.loc[current_prev.age_group_id=='60 to 64'].loc[current_prev.year_id == i]['median'].values[0] - former_prev.loc[former_prev.age_group_id=='60 to 64'].loc[former_prev.year_id == i]['median'].values[0],\n",
    "                                     'never',\n",
    "                                     np.where(sims.propensity < 1 - former_prev.loc[former_prev.age_group_id=='60 to 64'].loc[former_prev.year_id == i]['median'].values[0], \n",
    "                                             'current','former'))))\n",
    "    sims.loc[(sims[f'smok_{i-1}'] == 'former') & (sims[f'smok_{i}'] == 'former'), f'ysq_{i}'] = sims[f'ysq_{i-1}'] + 1\n",
    "    sims.loc[(sims[f'smok_{i-1}'] != 'former') & (sims[f'smok_{i}'] == 'former'), f'ysq_{i}'] = 0\n",
    "    sims.loc[(sims[f'smok_{i}'] != 'former'), f'ysq_{i}'] = np.nan\n",
    "sims.head()"
   ]
  },
  {
   "cell_type": "code",
   "execution_count": 27,
   "metadata": {},
   "outputs": [
    {
     "data": {
      "text/plain": [
       "[1508, 0, 0, 0, 0, 0, 0, 0, 0, 0]"
      ]
     },
     "execution_count": 27,
     "metadata": {},
     "output_type": "execute_result"
    }
   ],
   "source": [
    "counts = []\n",
    "for i in list(range(2021,2031)):\n",
    "    counts.append(len(sims.loc[(sims[f'smok_{i-1}'] != 'former') & (sims[f'smok_{i}'] == 'former')]))\n",
    "counts"
   ]
  },
  {
   "cell_type": "code",
   "execution_count": 8,
   "metadata": {},
   "outputs": [
    {
     "data": {
      "text/plain": [
       "Text(0, 0.5, 'Density')"
      ]
     },
     "execution_count": 8,
     "metadata": {},
     "output_type": "execute_result"
    },
    {
     "data": {
      "image/png": "[encoded data removed]",
      "text/plain": [
       "<Figure size 432x288 with 1 Axes>"
      ]
     },
     "metadata": {
      "needs_background": "light"
     },
     "output_type": "display_data"
    }
   ],
   "source": [
    "former_smokers = sims.loc[sims.smok_2024 == 'former'].loc[sims.age_group_2024=='55 to 59']\n",
    "\n",
    "ysq_2024 = (ysq.loc[ysq.sex_id == sex].loc[ysq.year_id == 2024]\n",
    "             .loc[ysq.location_id == location].loc[ysq.age_group_id=='55 to 59'])\n",
    "sims_val = pd.DataFrame()\n",
    "sims_val['2024_ysq'] = np.random.choice(ysq_2024.bin.values,\n",
    "                                        n_simulants, p=ysq_2024['median'].values / (ysq_2024['median'].sum()))\n",
    "sims_val['val_2024'] = sims_val['2024_ysq'].str.split(' ', n=2, expand=True)[0].astype(int)\n",
    "sims_val['val_2024_max'] = sims_val['2024_ysq'].str.split(' ', n=2, expand=True)[2].astype(int)\n",
    "sims_val['val_2024_uniform'] = np.random.uniform(sims_val.val_2024, sims_val.val_2024_max)\n",
    "\n",
    "plt.hist(sims_val['val_2024_uniform'], density=True, alpha=0.5)\n",
    "plt.hist(former_smokers.ysq_2024, density=True, alpha=0.5)\n",
    "plt.title('Years Since Quitting Distribution After Four Years')\n",
    "plt.legend(['Forecast distribution','Simulation distribution after four years'])\n",
    "plt.xlabel('Years Since Quitting')\n",
    "plt.ylabel('Density')"
   ]
  },
  {
   "cell_type": "code",
   "execution_count": 12,
   "metadata": {},
   "outputs": [
    {
     "data": {
      "text/plain": [
       "Text(0, 0.5, 'Density')"
      ]
     },
     "execution_count": 12,
     "metadata": {},
     "output_type": "execute_result"
    },
    {
     "data": {
      "image/png": "[encoded data removed]",
      "text/plain": [
       "<Figure size 432x288 with 1 Axes>"
      ]
     },
     "metadata": {
      "needs_background": "light"
     },
     "output_type": "display_data"
    }
   ],
   "source": [
    "former_smokers = sims.loc[sims.smok_2025 == 'former'].loc[sims.age_group_2025=='60 to 64']\n",
    "\n",
    "ysq_2025 = (ysq.loc[ysq.sex_id == sex].loc[ysq.year_id == 2025]\n",
    "             .loc[ysq.location_id == location].loc[ysq.age_group_id=='60 to 64'])\n",
    "sims_val = pd.DataFrame()\n",
    "sims_val['2025_ysq'] = np.random.choice(ysq_2025.bin.values,\n",
    "                                        n_simulants, p=ysq_2025['median'].values / (ysq_2025['median'].sum()))\n",
    "sims_val['val_2025'] = sims_val['2025_ysq'].str.split(' ', n=2, expand=True)[0].astype(int)\n",
    "sims_val['val_2025_max'] = sims_val['2025_ysq'].str.split(' ', n=2, expand=True)[2].astype(int)\n",
    "sims_val['val_2025_uniform'] = np.random.uniform(sims_val.val_2025, sims_val.val_2025_max)\n",
    "\n",
    "plt.hist(sims_val['val_2025_uniform'], density=True, alpha=0.5)\n",
    "plt.hist(former_smokers.ysq_2025, density=True, alpha=0.5)\n",
    "plt.title('Years Since Quitting Distribution After Four Years')\n",
    "plt.legend(['Forecast distribution','Simulation distribution after four years'])\n",
    "plt.xlabel('Years Since Quitting')\n",
    "plt.ylabel('Density')"
   ]
  },
  {
   "cell_type": "code",
   "execution_count": 9,
   "metadata": {},
   "outputs": [
    {
     "data": {
      "text/plain": [
       "Text(0, 0.5, 'Density')"
      ]
     },
     "execution_count": 9,
     "metadata": {},
     "output_type": "execute_result"
    },
    {
     "data": {
      "image/png": "[encoded data removed]",
      "text/plain": [
       "<Figure size 432x288 with 1 Axes>"
      ]
     },
     "metadata": {
      "needs_background": "light"
     },
     "output_type": "display_data"
    }
   ],
   "source": [
    "former_smokers = sims.loc[sims.smok_2028 == 'former'].loc[sims.age_group_2028=='55 to 59']\n",
    "\n",
    "ysq_2028 = (ysq.loc[ysq.sex_id == sex].loc[ysq.year_id == 2028]\n",
    "             .loc[ysq.location_id == location].loc[ysq.age_group_id=='55 to 59'])\n",
    "sims_val = pd.DataFrame()\n",
    "sims_val['2028_ysq'] = np.random.choice(ysq_2028.bin.values,\n",
    "                                        n_simulants, p=ysq_2028['median'].values / (ysq_2028['median'].sum()))\n",
    "sims_val['val_2028'] = sims_val['2028_ysq'].str.split(' ', n=2, expand=True)[0].astype(int)\n",
    "sims_val['val_2028_max'] = sims_val['2028_ysq'].str.split(' ', n=2, expand=True)[2].astype(int)\n",
    "sims_val['val_2028_uniform'] = np.random.uniform(sims_val.val_2028, sims_val.val_2028_max)\n",
    "\n",
    "plt.hist(sims_val['val_2028_uniform'], density=True, alpha=0.5)\n",
    "plt.hist(former_smokers.ysq_2028, density=True, alpha=0.5)\n",
    "plt.title('Years Since Quitting Distribution After eight Years')\n",
    "plt.legend(['Forecast distribution','Simulation distribution after eight years'])\n",
    "plt.xlabel('Years Since Quitting')\n",
    "plt.ylabel('Density')"
   ]
  },
  {
   "cell_type": "code",
   "execution_count": 10,
   "metadata": {},
   "outputs": [
    {
     "data": {
      "text/plain": [
       "Text(0, 0.5, 'Density')"
      ]
     },
     "execution_count": 10,
     "metadata": {},
     "output_type": "execute_result"
    },
    {
     "data": {
      "image/png": "[encoded data removed]",
      "text/plain": [
       "<Figure size 432x288 with 1 Axes>"
      ]
     },
     "metadata": {
      "needs_background": "light"
     },
     "output_type": "display_data"
    }
   ],
   "source": [
    "former_smokers = sims.loc[sims.smok_2028 == 'former'].loc[sims.age_group_2028=='60 to 64']\n",
    "\n",
    "ysq_2028 = (ysq.loc[ysq.sex_id == sex].loc[ysq.year_id == 2028]\n",
    "             .loc[ysq.location_id == location].loc[ysq.age_group_id=='60 to 64'])\n",
    "sims_val = pd.DataFrame()\n",
    "sims_val['2028_ysq'] = np.random.choice(ysq_2028.bin.values,\n",
    "                                        n_simulants, p=ysq_2028['median'].values / (ysq_2028['median'].sum()))\n",
    "sims_val['val_2028'] = sims_val['2028_ysq'].str.split(' ', n=2, expand=True)[0].astype(int)\n",
    "sims_val['val_2028_max'] = sims_val['2028_ysq'].str.split(' ', n=2, expand=True)[2].astype(int)\n",
    "sims_val['val_2028_uniform'] = np.random.uniform(sims_val.val_2028, sims_val.val_2028_max)\n",
    "\n",
    "plt.hist(sims_val['val_2028_uniform'], density=True, alpha=0.5)\n",
    "plt.hist(former_smokers.ysq_2028, density=True, alpha=0.5)\n",
    "plt.title('Years Since Quitting Distribution After eight Years')\n",
    "plt.legend(['Forecast distribution','Simulation distribution after eight years'])\n",
    "plt.xlabel('Years Since Quitting')\n",
    "plt.ylabel('Density')"
   ]
  },
  {
   "cell_type": "code",
   "execution_count": null,
   "metadata": {},
   "outputs": [],
   "source": []
  }
 ],
 "metadata": {
  "kernelspec": {
   "display_name": "Python 3",
   "language": "python",
   "name": "python3"
  },
  "language_info": {
   "codemirror_mode": {
    "name": "ipython",
    "version": 3
   },
   "file_extension": ".py",
   "mimetype": "text/x-python",
   "name": "python",
   "nbconvert_exporter": "python",
   "pygments_lexer": "ipython3",
   "version": "3.7.0"
  }
 },
 "nbformat": 4,
 "nbformat_minor": 4
}
