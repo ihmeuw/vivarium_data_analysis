{
 "cells": [
  {
   "cell_type": "code",
   "execution_count": 1,
   "metadata": {},
   "outputs": [],
   "source": [
    "import pandas as pd, numpy as np\n",
    "from db_queries import get_ids, get_outputs, get_location_metadata, get_population, get_covariate_estimates\n",
    "from get_draws.api import get_draws\n",
    "import matplotlib.pyplot as plt\n",
    "import os\n",
    "import scipy.stats\n",
    "from scipy.interpolate import interp1d"
   ]
  },
  {
   "cell_type": "code",
   "execution_count": 2,
   "metadata": {},
   "outputs": [],
   "source": [
    "filepath = '/ihme/csu/swiss_re/forecast/'\n",
    "\n",
    "# just look at single demographic group for now\n",
    "location = 'Zhejiang'\n",
    "age_group = ['60 to 64']\n",
    "age_group_id = [17]\n",
    "sex = 'Female'\n",
    "year = 2019"
   ]
  },
  {
   "cell_type": "code",
   "execution_count": 3,
   "metadata": {},
   "outputs": [],
   "source": [
    "# import exposure forecst data\n",
    "prevalence = pd.read_csv(filepath + 'prev_forecast_bounds.csv')\n",
    "packyears = pd.read_csv(filepath + 'py_forecast_bounds.csv')\n",
    "ysq = pd.read_csv(filepath + 'ysq_forecast_bounds.csv')"
   ]
  },
  {
   "cell_type": "code",
   "execution_count": 4,
   "metadata": {},
   "outputs": [],
   "source": [
    "prev_data = (prevalence.loc[prevalence.sex_id == sex].loc[prevalence.year_id == year]\n",
    "             .loc[prevalence.location_id == location].loc[prevalence.age_group_id.isin(age_group)])\n",
    "current_prev = prev_data.lower.values[0]\n",
    "former_prev = prev_data.lower.values[1]"
   ]
  },
  {
   "cell_type": "code",
   "execution_count": 5,
   "metadata": {},
   "outputs": [],
   "source": [
    "py_data = (packyears.loc[packyears.sex_id == sex].loc[packyears.year_id == year]\n",
    "             .loc[packyears.location_id == location].loc[packyears.age_group_id.isin(age_group)])\n",
    "ysq_data = (packyears.loc[packyears.sex_id == sex].loc[packyears.year_id == year]\n",
    "             .loc[packyears.location_id == location].loc[packyears.age_group_id.isin(age_group)])"
   ]
  },
  {
   "cell_type": "code",
   "execution_count": 6,
   "metadata": {},
   "outputs": [],
   "source": [
    "# load relative risk data\n",
    "rr_current = pd.read_csv('/home/j/WORK/05_risk/risks/TEAM/sub_risks/tobacco/raw_data/metadata/rr/systematic_review_extraction_sheets/draws_for_PAF/426_lung_cancer/draws_pack.csv')\n",
    "rr_current_data = rr_current.loc[rr_current.sex_id==1].loc[rr_current.age_group_id.isin(age_group_id)]\n",
    "rr_current_data = rr_current_data.groupby(['exposure','sex_id','age_group_id'], as_index=False).mean().drop(columns='draw')\n",
    "x = rr_current_data.exposure.values\n",
    "y = rr_current_data.rr.values\n",
    "current_rr_function = interp1d(x, y)\n",
    "max_py = x.max()\n",
    "\n",
    "rr_former = pd.read_csv('/home/j/WORK/05_risk/risks/TEAM/sub_risks/tobacco/raw_data/metadata/rr/systematic_review_extraction_sheets/draws_for_PAF/426_lung_cancer/draws_quit.csv')\n",
    "rr_former_data = rr_former.loc[rr_former.sex_id==1].loc[rr_former.age_group_id.isin(age_group_id)] \n",
    "rr_former_data = rr_former_data.groupby(['exposure','sex_id','age_group_id'], as_index=False).mean().drop(columns='draw')\n",
    "x = rr_former_data.exposure.values\n",
    "y = rr_former_data.rr.values\n",
    "former_rr_function = interp1d(x, y)\n",
    "max_ysq = x.max()"
   ]
  },
  {
   "cell_type": "code",
   "execution_count": 7,
   "metadata": {},
   "outputs": [
    {
     "data": {
      "text/html": [
       "<div>\n",
       "<style scoped>\n",
       "    .dataframe tbody tr th:only-of-type {\n",
       "        vertical-align: middle;\n",
       "    }\n",
       "\n",
       "    .dataframe tbody tr th {\n",
       "        vertical-align: top;\n",
       "    }\n",
       "\n",
       "    .dataframe thead th {\n",
       "        text-align: right;\n",
       "    }\n",
       "</style>\n",
       "<table border=\"1\" class=\"dataframe\">\n",
       "  <thead>\n",
       "    <tr style=\"text-align: right;\">\n",
       "      <th></th>\n",
       "      <th>smoking_status</th>\n",
       "      <th>py_cat</th>\n",
       "      <th>ysq_cat</th>\n",
       "      <th>py_min</th>\n",
       "      <th>py_max</th>\n",
       "      <th>ysq_min</th>\n",
       "      <th>ysq_max</th>\n",
       "      <th>py_val_uniform</th>\n",
       "      <th>ysq_val_uniform</th>\n",
       "      <th>py_val_trap</th>\n",
       "      <th>ysq_val_trap</th>\n",
       "    </tr>\n",
       "  </thead>\n",
       "  <tbody>\n",
       "    <tr>\n",
       "      <th>0</th>\n",
       "      <td>never</td>\n",
       "      <td>0 to 0</td>\n",
       "      <td>0 to 0</td>\n",
       "      <td>0</td>\n",
       "      <td>0</td>\n",
       "      <td>0</td>\n",
       "      <td>0.0</td>\n",
       "      <td>0.0</td>\n",
       "      <td>0.0</td>\n",
       "      <td>0.0</td>\n",
       "      <td>0.0</td>\n",
       "    </tr>\n",
       "    <tr>\n",
       "      <th>1</th>\n",
       "      <td>never</td>\n",
       "      <td>0 to 0</td>\n",
       "      <td>0 to 0</td>\n",
       "      <td>0</td>\n",
       "      <td>0</td>\n",
       "      <td>0</td>\n",
       "      <td>0.0</td>\n",
       "      <td>0.0</td>\n",
       "      <td>0.0</td>\n",
       "      <td>0.0</td>\n",
       "      <td>0.0</td>\n",
       "    </tr>\n",
       "    <tr>\n",
       "      <th>2</th>\n",
       "      <td>never</td>\n",
       "      <td>0 to 0</td>\n",
       "      <td>0 to 0</td>\n",
       "      <td>0</td>\n",
       "      <td>0</td>\n",
       "      <td>0</td>\n",
       "      <td>0.0</td>\n",
       "      <td>0.0</td>\n",
       "      <td>0.0</td>\n",
       "      <td>0.0</td>\n",
       "      <td>0.0</td>\n",
       "    </tr>\n",
       "    <tr>\n",
       "      <th>3</th>\n",
       "      <td>never</td>\n",
       "      <td>0 to 0</td>\n",
       "      <td>0 to 0</td>\n",
       "      <td>0</td>\n",
       "      <td>0</td>\n",
       "      <td>0</td>\n",
       "      <td>0.0</td>\n",
       "      <td>0.0</td>\n",
       "      <td>0.0</td>\n",
       "      <td>0.0</td>\n",
       "      <td>0.0</td>\n",
       "    </tr>\n",
       "    <tr>\n",
       "      <th>4</th>\n",
       "      <td>never</td>\n",
       "      <td>0 to 0</td>\n",
       "      <td>0 to 0</td>\n",
       "      <td>0</td>\n",
       "      <td>0</td>\n",
       "      <td>0</td>\n",
       "      <td>0.0</td>\n",
       "      <td>0.0</td>\n",
       "      <td>0.0</td>\n",
       "      <td>0.0</td>\n",
       "      <td>0.0</td>\n",
       "    </tr>\n",
       "  </tbody>\n",
       "</table>\n",
       "</div>"
      ],
      "text/plain": [
       "  smoking_status  py_cat ysq_cat  py_min  py_max  ysq_min  ysq_max  \\\n",
       "0          never  0 to 0  0 to 0       0       0        0      0.0   \n",
       "1          never  0 to 0  0 to 0       0       0        0      0.0   \n",
       "2          never  0 to 0  0 to 0       0       0        0      0.0   \n",
       "3          never  0 to 0  0 to 0       0       0        0      0.0   \n",
       "4          never  0 to 0  0 to 0       0       0        0      0.0   \n",
       "\n",
       "   py_val_uniform  ysq_val_uniform  py_val_trap  ysq_val_trap  \n",
       "0             0.0              0.0          0.0           0.0  \n",
       "1             0.0              0.0          0.0           0.0  \n",
       "2             0.0              0.0          0.0           0.0  \n",
       "3             0.0              0.0          0.0           0.0  \n",
       "4             0.0              0.0          0.0           0.0  "
      ]
     },
     "execution_count": 7,
     "metadata": {},
     "output_type": "execute_result"
    }
   ],
   "source": [
    "# assign exposures to simulants\n",
    "n_simulants = 100_000\n",
    "sims = pd.DataFrame()\n",
    "sims['smoking_status'] = np.random.choice(['current','former','never'],\n",
    "                                          n_simulants, p=[current_prev,former_prev,1 - current_prev - former_prev])\n",
    "sims['py_cat'] = np.where(sims.smoking_status == 'current',\n",
    "                             np.random.choice(py_data.bin.values, \n",
    "                                              n_simulants, p=(py_data['median'].values / py_data['median'].sum())), '0 to 0')\n",
    "sims['ysq_cat'] = np.where(sims.smoking_status == 'former',\n",
    "                             np.random.choice(ysq_data.bin.values, \n",
    "                                              n_simulants, p=(ysq_data['median'].values / ysq_data['median'].sum())), '0 to 0')\n",
    "\n",
    "sims['py_min'] = sims['py_cat'].str.split(' ', n=2, expand=True)[0].astype(int)\n",
    "sims['py_max'] = sims['py_cat'].str.split(' ', n=2, expand=True)[2].astype(int) + 1\n",
    "sims['ysq_min'] = sims['ysq_cat'].str.split(' ', n=2, expand=True)[0].astype(int)\n",
    "sims['ysq_max'] = sims['ysq_cat'].str.split(' ', n=2, expand=True)[2].astype(int) + 1\n",
    "\n",
    "sims['py_max'] = sims.py_max.replace(100, max_py).replace(1, 0)\n",
    "sims['ysq_max'] = sims.ysq_max.replace(100, max_ysq).replace(1, 0)\n",
    "\n",
    "sims['py_val_uniform'] = np.random.uniform(sims.py_min, sims.py_max)\n",
    "sims['ysq_val_uniform'] = np.random.uniform(sims.ysq_min, sims.ysq_max)\n",
    "\n",
    "sims['py_val_trap'] = scipy.stats.trapz.rvs(0,1,loc=sims.py_min,scale=sims.py_max - sims.py_min)\n",
    "sims['ysq_val_trap'] = scipy.stats.trapz.rvs(0,1,loc=sims.ysq_min,scale=sims.ysq_max - sims.ysq_min)\n",
    "\n",
    "sims.head()"
   ]
  },
  {
   "cell_type": "code",
   "execution_count": 8,
   "metadata": {},
   "outputs": [
    {
     "data": {
      "text/html": [
       "<div>\n",
       "<style scoped>\n",
       "    .dataframe tbody tr th:only-of-type {\n",
       "        vertical-align: middle;\n",
       "    }\n",
       "\n",
       "    .dataframe tbody tr th {\n",
       "        vertical-align: top;\n",
       "    }\n",
       "\n",
       "    .dataframe thead th {\n",
       "        text-align: right;\n",
       "    }\n",
       "</style>\n",
       "<table border=\"1\" class=\"dataframe\">\n",
       "  <thead>\n",
       "    <tr style=\"text-align: right;\">\n",
       "      <th></th>\n",
       "      <th>smoking_status</th>\n",
       "      <th>py_cat</th>\n",
       "      <th>ysq_cat</th>\n",
       "      <th>py_min</th>\n",
       "      <th>py_max</th>\n",
       "      <th>ysq_min</th>\n",
       "      <th>ysq_max</th>\n",
       "      <th>py_val_uniform</th>\n",
       "      <th>ysq_val_uniform</th>\n",
       "      <th>py_val_trap</th>\n",
       "      <th>ysq_val_trap</th>\n",
       "      <th>rr_uniform</th>\n",
       "      <th>rr_trap</th>\n",
       "      <th>rr_min</th>\n",
       "    </tr>\n",
       "  </thead>\n",
       "  <tbody>\n",
       "    <tr>\n",
       "      <th>0</th>\n",
       "      <td>never</td>\n",
       "      <td>0 to 0</td>\n",
       "      <td>0 to 0</td>\n",
       "      <td>0</td>\n",
       "      <td>0</td>\n",
       "      <td>0</td>\n",
       "      <td>0.0</td>\n",
       "      <td>0.0</td>\n",
       "      <td>0.0</td>\n",
       "      <td>0.0</td>\n",
       "      <td>0.0</td>\n",
       "      <td>1.0</td>\n",
       "      <td>1.0</td>\n",
       "      <td>1.0</td>\n",
       "    </tr>\n",
       "    <tr>\n",
       "      <th>1</th>\n",
       "      <td>never</td>\n",
       "      <td>0 to 0</td>\n",
       "      <td>0 to 0</td>\n",
       "      <td>0</td>\n",
       "      <td>0</td>\n",
       "      <td>0</td>\n",
       "      <td>0.0</td>\n",
       "      <td>0.0</td>\n",
       "      <td>0.0</td>\n",
       "      <td>0.0</td>\n",
       "      <td>0.0</td>\n",
       "      <td>1.0</td>\n",
       "      <td>1.0</td>\n",
       "      <td>1.0</td>\n",
       "    </tr>\n",
       "    <tr>\n",
       "      <th>2</th>\n",
       "      <td>never</td>\n",
       "      <td>0 to 0</td>\n",
       "      <td>0 to 0</td>\n",
       "      <td>0</td>\n",
       "      <td>0</td>\n",
       "      <td>0</td>\n",
       "      <td>0.0</td>\n",
       "      <td>0.0</td>\n",
       "      <td>0.0</td>\n",
       "      <td>0.0</td>\n",
       "      <td>0.0</td>\n",
       "      <td>1.0</td>\n",
       "      <td>1.0</td>\n",
       "      <td>1.0</td>\n",
       "    </tr>\n",
       "    <tr>\n",
       "      <th>3</th>\n",
       "      <td>never</td>\n",
       "      <td>0 to 0</td>\n",
       "      <td>0 to 0</td>\n",
       "      <td>0</td>\n",
       "      <td>0</td>\n",
       "      <td>0</td>\n",
       "      <td>0.0</td>\n",
       "      <td>0.0</td>\n",
       "      <td>0.0</td>\n",
       "      <td>0.0</td>\n",
       "      <td>0.0</td>\n",
       "      <td>1.0</td>\n",
       "      <td>1.0</td>\n",
       "      <td>1.0</td>\n",
       "    </tr>\n",
       "    <tr>\n",
       "      <th>4</th>\n",
       "      <td>never</td>\n",
       "      <td>0 to 0</td>\n",
       "      <td>0 to 0</td>\n",
       "      <td>0</td>\n",
       "      <td>0</td>\n",
       "      <td>0</td>\n",
       "      <td>0.0</td>\n",
       "      <td>0.0</td>\n",
       "      <td>0.0</td>\n",
       "      <td>0.0</td>\n",
       "      <td>0.0</td>\n",
       "      <td>1.0</td>\n",
       "      <td>1.0</td>\n",
       "      <td>1.0</td>\n",
       "    </tr>\n",
       "  </tbody>\n",
       "</table>\n",
       "</div>"
      ],
      "text/plain": [
       "  smoking_status  py_cat ysq_cat  py_min  py_max  ysq_min  ysq_max  \\\n",
       "0          never  0 to 0  0 to 0       0       0        0      0.0   \n",
       "1          never  0 to 0  0 to 0       0       0        0      0.0   \n",
       "2          never  0 to 0  0 to 0       0       0        0      0.0   \n",
       "3          never  0 to 0  0 to 0       0       0        0      0.0   \n",
       "4          never  0 to 0  0 to 0       0       0        0      0.0   \n",
       "\n",
       "   py_val_uniform  ysq_val_uniform  py_val_trap  ysq_val_trap  rr_uniform  \\\n",
       "0             0.0              0.0          0.0           0.0         1.0   \n",
       "1             0.0              0.0          0.0           0.0         1.0   \n",
       "2             0.0              0.0          0.0           0.0         1.0   \n",
       "3             0.0              0.0          0.0           0.0         1.0   \n",
       "4             0.0              0.0          0.0           0.0         1.0   \n",
       "\n",
       "   rr_trap  rr_min  \n",
       "0      1.0     1.0  \n",
       "1      1.0     1.0  \n",
       "2      1.0     1.0  \n",
       "3      1.0     1.0  \n",
       "4      1.0     1.0  "
      ]
     },
     "execution_count": 8,
     "metadata": {},
     "output_type": "execute_result"
    }
   ],
   "source": [
    "# assign relative risks based on risk curve function\n",
    "sims['rr_uniform'] = np.where(sims.smoking_status == 'former', former_rr_function(sims.ysq_val_uniform),\n",
    "                              current_rr_function(sims.py_val_uniform))\n",
    "sims['rr_trap'] = np.where(sims.smoking_status == 'former', former_rr_function(sims.ysq_val_trap),\n",
    "                              current_rr_function(sims.py_val_trap))\n",
    "sims['rr_min'] = np.where(sims.smoking_status == 'former', former_rr_function(sims.ysq_min),\n",
    "                              current_rr_function(sims.py_min))\n",
    "sims.head()"
   ]
  },
  {
   "cell_type": "code",
   "execution_count": 9,
   "metadata": {},
   "outputs": [
    {
     "data": {
      "text/plain": [
       "1.2158178058672047"
      ]
     },
     "execution_count": 9,
     "metadata": {},
     "output_type": "execute_result"
    }
   ],
   "source": [
    "sims.rr_uniform.mean()"
   ]
  },
  {
   "cell_type": "code",
   "execution_count": 10,
   "metadata": {},
   "outputs": [
    {
     "data": {
      "text/plain": [
       "1.2167116180846915"
      ]
     },
     "execution_count": 10,
     "metadata": {},
     "output_type": "execute_result"
    }
   ],
   "source": [
    "sims.rr_trap.mean()"
   ]
  },
  {
   "cell_type": "code",
   "execution_count": 11,
   "metadata": {},
   "outputs": [
    {
     "data": {
      "text/plain": [
       "1.1808175927623437"
      ]
     },
     "execution_count": 11,
     "metadata": {},
     "output_type": "execute_result"
    }
   ],
   "source": [
    "sims.rr_min.mean()"
   ]
  },
  {
   "cell_type": "code",
   "execution_count": 12,
   "metadata": {},
   "outputs": [
    {
     "data": {
      "text/plain": [
       "0.1775083444457935"
      ]
     },
     "execution_count": 12,
     "metadata": {},
     "output_type": "execute_result"
    }
   ],
   "source": [
    "(sims.rr_uniform.mean() - 1)/sims.rr_uniform.mean()"
   ]
  },
  {
   "cell_type": "code",
   "execution_count": 13,
   "metadata": {},
   "outputs": [
    {
     "data": {
      "text/plain": [
       "0.17811255753917432"
      ]
     },
     "execution_count": 13,
     "metadata": {},
     "output_type": "execute_result"
    }
   ],
   "source": [
    "(sims.rr_trap.mean() - 1)/sims.rr_trap.mean()"
   ]
  },
  {
   "cell_type": "code",
   "execution_count": 14,
   "metadata": {},
   "outputs": [
    {
     "data": {
      "text/plain": [
       "0.15312914871072367"
      ]
     },
     "execution_count": 14,
     "metadata": {},
     "output_type": "execute_result"
    }
   ],
   "source": [
    "(sims.rr_min.mean() - 1)/sims.rr_min.mean()"
   ]
  },
  {
   "cell_type": "code",
   "execution_count": 15,
   "metadata": {},
   "outputs": [
    {
     "data": {
      "text/html": [
       "<div>\n",
       "<style scoped>\n",
       "    .dataframe tbody tr th:only-of-type {\n",
       "        vertical-align: middle;\n",
       "    }\n",
       "\n",
       "    .dataframe tbody tr th {\n",
       "        vertical-align: top;\n",
       "    }\n",
       "\n",
       "    .dataframe thead th {\n",
       "        text-align: right;\n",
       "    }\n",
       "</style>\n",
       "<table border=\"1\" class=\"dataframe\">\n",
       "  <thead>\n",
       "    <tr style=\"text-align: right;\">\n",
       "      <th></th>\n",
       "      <th></th>\n",
       "      <th></th>\n",
       "      <th></th>\n",
       "      <th></th>\n",
       "      <th></th>\n",
       "      <th></th>\n",
       "      <th>0</th>\n",
       "    </tr>\n",
       "    <tr>\n",
       "      <th>rei_id</th>\n",
       "      <th>location_id</th>\n",
       "      <th>year_id</th>\n",
       "      <th>age_group_id</th>\n",
       "      <th>sex_id</th>\n",
       "      <th>cause_id</th>\n",
       "      <th>measure_id</th>\n",
       "      <th></th>\n",
       "    </tr>\n",
       "  </thead>\n",
       "  <tbody>\n",
       "    <tr>\n",
       "      <th rowspan=\"2\" valign=\"top\">99</th>\n",
       "      <th rowspan=\"2\" valign=\"top\">491</th>\n",
       "      <th rowspan=\"2\" valign=\"top\">2019</th>\n",
       "      <th rowspan=\"2\" valign=\"top\">17</th>\n",
       "      <th rowspan=\"2\" valign=\"top\">2</th>\n",
       "      <th rowspan=\"2\" valign=\"top\">426</th>\n",
       "      <th>3</th>\n",
       "      <td>0.158002</td>\n",
       "    </tr>\n",
       "    <tr>\n",
       "      <th>4</th>\n",
       "      <td>0.158002</td>\n",
       "    </tr>\n",
       "  </tbody>\n",
       "</table>\n",
       "</div>"
      ],
      "text/plain": [
       "                                                                           0\n",
       "rei_id location_id year_id age_group_id sex_id cause_id measure_id          \n",
       "99     491         2019    17           2      426      3           0.158002\n",
       "                                                        4           0.158002"
      ]
     },
     "execution_count": 15,
     "metadata": {},
     "output_type": "execute_result"
    }
   ],
   "source": [
    "# now pull paf for comparison\n",
    "paf = pd.read_csv('/ihme/gbd/WORK/05_risk/TEAM/sub_risks/tobacco/smoking_direct_prev/exposure/modeling/GBD2019/outputs/paf/final/pafs_ss_annual/491_2.csv')\n",
    "paf = paf.loc[paf.year_id==2019].loc[paf.cause_id==426].loc[paf.age_group_id.isin(age_group_id)]\n",
    "paf = paf.set_index([c for c in paf.columns if 'draw' not in c])\n",
    "paf = pd.DataFrame(paf.mean(axis=1))\n",
    "paf.head()"
   ]
  },
  {
   "cell_type": "code",
   "execution_count": 16,
   "metadata": {},
   "outputs": [
    {
     "data": {
      "text/plain": [
       "<matplotlib.legend.Legend at 0x2b896ee6fd68>"
      ]
     },
     "execution_count": 16,
     "metadata": {},
     "output_type": "execute_result"
    },
    {
     "data": {
      "image/png": "[encoded data removed]",
      "text/plain": [
       "<Figure size 432x288 with 1 Axes>"
      ]
     },
     "metadata": {
      "needs_background": "light"
     },
     "output_type": "display_data"
    }
   ],
   "source": [
    "from scipy.interpolate import interp1d\n",
    "x = rr_current_data.exposure.values\n",
    "y = rr_current_data.rr.values\n",
    "f = interp1d(x, y)\n",
    "\n",
    "x_new = np.linspace(x.min(), x.max(), num=100, endpoint=True)\n",
    "f(x_new)\n",
    "\n",
    "plt.scatter(x, y)\n",
    "plt.plot(x, y, f(x_new))\n",
    "plt.title('Smoking Risk Curve Interpolation')\n",
    "plt.xlabel('Pack year values')\n",
    "plt.ylabel('Relative Risk')\n",
    "plt.legend(['Risk curve \"mesh points\" from GBD',\n",
    "           'Interpolated risk curve'])"
   ]
  },
  {
   "cell_type": "code",
   "execution_count": null,
   "metadata": {},
   "outputs": [],
   "source": []
  }
 ],
 "metadata": {
  "kernelspec": {
   "display_name": "Python 3",
   "language": "python",
   "name": "python3"
  },
  "language_info": {
   "codemirror_mode": {
    "name": "ipython",
    "version": 3
   },
   "file_extension": ".py",
   "mimetype": "text/x-python",
   "name": "python",
   "nbconvert_exporter": "python",
   "pygments_lexer": "ipython3",
   "version": "3.7.0"
  }
 },
 "nbformat": 4,
 "nbformat_minor": 4
}
