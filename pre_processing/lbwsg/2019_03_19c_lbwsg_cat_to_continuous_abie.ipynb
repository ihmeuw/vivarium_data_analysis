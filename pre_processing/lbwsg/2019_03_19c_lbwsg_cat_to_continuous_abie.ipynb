{
 "cells": [
  {
   "cell_type": "code",
   "execution_count": 1,
   "metadata": {},
   "outputs": [
    {
     "name": "stdout",
     "output_type": "stream",
     "text": [
      "Tue Jan 21 14:35:06 PST 2020\r\n"
     ]
    }
   ],
   "source": [
    "import numpy as np, matplotlib.pyplot as plt, pandas as pd\n",
    "pd.set_option('display.max_rows', 8)\n",
    "!date\n",
    "\n",
    "%load_ext autoreload\n",
    "%autoreload 2"
   ]
  },
  {
   "cell_type": "markdown",
   "metadata": {},
   "source": [
    "# From `lbwsg` categorical risk to a bivariate, continuous risk"
   ]
  },
  {
   "cell_type": "code",
   "execution_count": 2,
   "metadata": {},
   "outputs": [],
   "source": [
    "import gbd_mapping as gbd"
   ]
  },
  {
   "cell_type": "code",
   "execution_count": 3,
   "metadata": {},
   "outputs": [
    {
     "data": {
      "text/plain": [
       "RiskFactor(\n",
       "name='low_birth_weight_and_short_gestation',\n",
       "kind='risk_factor',\n",
       "gbd_id=reiid(339),\n",
       "level=3,\n",
       "most_detailed=False,\n",
       "distribution='ordered_polytomous',\n",
       "population_attributable_fraction_calculation_type='categorical',\n",
       "restrictions=Restrictions(\n",
       "male_only=False,\n",
       "female_only=False,\n",
       "yll_only=False,\n",
       "yld_only=False,\n",
       "yll_age_group_id_start=2,\n",
       "yll_age_group_id_end=5,\n",
       "yld_age_group_id_start=2,\n",
       "yld_age_group_id_end=235,\n",
       "violated=[exposure_age_restriction_violated, relative_risk_age_restriction_violated, population_attributable_fraction_yll_age_restriction_violated]),\n",
       "exposure_exists=True,\n",
       "exposure_year_type='binned',\n",
       "relative_risk_exists=True,\n",
       "relative_risk_in_range=True,\n",
       "population_attributable_fraction_yll_exists=True,\n",
       "population_attributable_fraction_yll_in_range=True,\n",
       "population_attributable_fraction_yld_exists=True,\n",
       "population_attributable_fraction_yld_in_range=True,\n",
       "affected_causes=[all_causes, communicable_maternal_neonatal_and_nutritional_diseases, diarrheal_diseases, lower_respiratory_infections, upper_respiratory_infections, otitis_media, meningitis, pneumococcal_meningitis, h_influenzae_type_b_meningitis, meningococcal_meningitis, other_meningitis, encephalitis, neonatal_disorders, neonatal_preterm_birth, neonatal_encephalopathy_due_to_birth_asphyxia_and_trauma, neonatal_sepsis_and_other_neonatal_infections, hemolytic_disease_and_other_neonatal_jaundice, other_neonatal_disorders, non_communicable_diseases, other_non_communicable_diseases, sudden_infant_death_syndrome, respiratory_infections_and_tuberculosis, enteric_infections, other_infectious_diseases, maternal_and_neonatal_disorders],\n",
       "population_attributable_fraction_of_one_causes=[neonatal_preterm_birth],\n",
       "parent=child_and_maternal_malnutrition,\n",
       "sub_risk_factors=[short_gestation_for_birth_weight, low_birth_weight_for_gestation],\n",
       "categories=Categories(,\n",
       "cat2='Birth prevalence - [0, 24) wks, [0, 500) g',\n",
       "cat8='Birth prevalence - [0, 24) wks, [500, 1000) g',\n",
       "cat10='Birth prevalence - [24, 26) wks, [500, 1000) g',\n",
       "cat11='Birth prevalence - [26, 28) wks, [500, 1000) g',\n",
       "cat14='Birth prevalence - [30, 32) wks, [500, 1000) g',\n",
       "cat15='Birth prevalence - [28, 30) wks, [500, 1000) g',\n",
       "cat17='Birth prevalence - [26, 28) wks, [1000, 1500) g',\n",
       "cat19='Birth prevalence - [34, 36) wks, [1000, 1500) g',\n",
       "cat20='Birth prevalence - [28, 30) wks, [1500, 2000) g',\n",
       "cat21='Birth prevalence - [28, 30) wks, [1000, 1500) g',\n",
       "cat22='Birth prevalence - [32, 34) wks, [1000, 1500) g',\n",
       "cat23='Birth prevalence - [30, 32) wks, [1000, 1500) g',\n",
       "cat24='Birth prevalence - [37, 38) wks, [1500, 2000) g',\n",
       "cat25='Birth prevalence - [36, 37) wks, [1500, 2000) g',\n",
       "cat26='Birth prevalence - [30, 32) wks, [2000, 2500) g',\n",
       "cat27='Birth prevalence - [30, 32) wks, [1500, 2000) g',\n",
       "cat28='Birth prevalence - [34, 36) wks, [1500, 2000) g',\n",
       "cat29='Birth prevalence - [32, 34) wks, [1500, 2000) g',\n",
       "cat30='Birth prevalence - [32, 34) wks, [2000, 2500) g',\n",
       "cat31='Birth prevalence - [40, 42) wks, [2000, 2500) g',\n",
       "cat32='Birth prevalence - [38, 40) wks, [2000, 2500) g',\n",
       "cat33='Birth prevalence - [32, 34) wks, [2500, 3000) g',\n",
       "cat34='Birth prevalence - [34, 36) wks, [2000, 2500) g',\n",
       "cat35='Birth prevalence - [37, 38) wks, [2000, 2500) g',\n",
       "cat36='Birth prevalence - [36, 37) wks, [2000, 2500) g',\n",
       "cat37='Birth prevalence - [34, 36) wks, [2500, 3000) g',\n",
       "cat38='Birth prevalence - [34, 36) wks, [4000, 4500) g',\n",
       "cat39='Birth prevalence - [34, 36) wks, [3000, 3500) g',\n",
       "cat40='Birth prevalence - [36, 37) wks, [2500, 3000) g',\n",
       "cat41='Birth prevalence - [34, 36) wks, [3500, 4000) g',\n",
       "cat42='Birth prevalence - [37, 38) wks, [2500, 3000) g',\n",
       "cat43='Birth prevalence - [40, 42) wks, [2500, 3000) g',\n",
       "cat44='Birth prevalence - [38, 40) wks, [2500, 3000) g',\n",
       "cat45='Birth prevalence - [36, 37) wks, [3000, 3500) g',\n",
       "cat46='Birth prevalence - [36, 37) wks, [4000, 4500) g',\n",
       "cat47='Birth prevalence - [36, 37) wks, [3500, 4000) g',\n",
       "cat48='Birth prevalence - [37, 38) wks, [3000, 3500) g',\n",
       "cat49='Birth prevalence - [37, 38) wks, [4000, 4500) g',\n",
       "cat50='Birth prevalence - [37, 38) wks, [3500, 4000) g',\n",
       "cat51='Birth prevalence - [40, 42) wks, [3000, 3500) g',\n",
       "cat52='Birth prevalence - [38, 40) wks, [3000, 3500) g',\n",
       "cat53='Birth prevalence - [38, 40) wks, [4000, 4500) g',\n",
       "cat54='Birth prevalence - [38, 40) wks, [3500, 4000) g',\n",
       "cat55='Birth prevalence - [40, 42) wks, [3500, 4000) g',\n",
       "cat56='Birth prevalence - [40, 42) wks, [4000, 4500) g',\n",
       "cat80='Birth prevalence - [28, 30) wks, [2000, 2500) g',\n",
       "cat81='Birth prevalence - [28, 30) wks, [2500, 3000) g',\n",
       "cat82='Birth prevalence - [28, 30) wks, [3000, 3500) g',\n",
       "cat88='Birth prevalence - [30, 32) wks, [2500, 3000) g',\n",
       "cat89='Birth prevalence - [30, 32) wks, [3000, 3500) g',\n",
       "cat90='Birth prevalence - [30, 32) wks, [3500, 4000) g',\n",
       "cat95='Birth prevalence - [32, 34) wks, [3000, 3500) g',\n",
       "cat96='Birth prevalence - [32, 34) wks, [3500, 4000) g',\n",
       "cat106='Birth prevalence - [36, 37) wks, [1000, 1500) g',\n",
       "cat116='Birth prevalence - [38, 40) wks, [1000, 1500) g',\n",
       "cat117='Birth prevalence - [38, 40) wks, [1500, 2000) g',\n",
       "cat123='Birth prevalence - [40, 42) wks, [1500, 2000) g'))"
      ]
     },
     "execution_count": 3,
     "metadata": {},
     "output_type": "execute_result"
    }
   ],
   "source": [
    "gbd.risk_factors.low_birth_weight_and_short_gestation"
   ]
  },
  {
   "cell_type": "code",
   "execution_count": 4,
   "metadata": {},
   "outputs": [],
   "source": [
    "categories = gbd.risk_factors.low_birth_weight_and_short_gestation.categories"
   ]
  },
  {
   "cell_type": "code",
   "execution_count": 5,
   "metadata": {},
   "outputs": [],
   "source": [
    "# make dataframe that maps from each category to gestatation_age_start,\n",
    "# gestatation_age_end, birth_weight_start, and birth weight end\n",
    "\n",
    "s = pd.Series(categories.to_dict())"
   ]
  },
  {
   "cell_type": "code",
   "execution_count": 6,
   "metadata": {},
   "outputs": [],
   "source": [
    "# set random seed for reproducibility\n",
    "np.random.seed(12345)"
   ]
  },
  {
   "cell_type": "code",
   "execution_count": 7,
   "metadata": {},
   "outputs": [
    {
     "data": {
      "text/plain": [
       "('Birth prevalence - [36, 37) wks, [4000, 4500) g', [36, 37, 4000, 4500])"
      ]
     },
     "execution_count": 7,
     "metadata": {},
     "output_type": "execute_result"
    }
   ],
   "source": [
    "def ga_bw_list(cat):\n",
    "    numbers_only = cat.replace('Birth prevalence - [', '') \\\n",
    "                    .replace(',', '')\\\n",
    "                    .replace(') wks [', ' ')\\\n",
    "                    .replace(') g', '')\n",
    "    numbers_only = numbers_only.split()\n",
    "    numbers_only = [int(numbers_only[i]) for i in range(4)]\n",
    "    \n",
    "    return numbers_only\n",
    "\n",
    "\n",
    "i = np.random.randint(len(s))\n",
    "s.iloc[i], ga_bw_list(s.iloc[i])"
   ]
  },
  {
   "cell_type": "code",
   "execution_count": 8,
   "metadata": {},
   "outputs": [
    {
     "data": {
      "text/html": [
       "<div>\n",
       "<style scoped>\n",
       "    .dataframe tbody tr th:only-of-type {\n",
       "        vertical-align: middle;\n",
       "    }\n",
       "\n",
       "    .dataframe tbody tr th {\n",
       "        vertical-align: top;\n",
       "    }\n",
       "\n",
       "    .dataframe thead th {\n",
       "        text-align: right;\n",
       "    }\n",
       "</style>\n",
       "<table border=\"1\" class=\"dataframe\">\n",
       "  <thead>\n",
       "    <tr style=\"text-align: right;\">\n",
       "      <th></th>\n",
       "      <th>ga_start</th>\n",
       "      <th>ga_end</th>\n",
       "      <th>bw_start</th>\n",
       "      <th>bw_end</th>\n",
       "    </tr>\n",
       "  </thead>\n",
       "  <tbody>\n",
       "    <tr>\n",
       "      <th>cat2</th>\n",
       "      <td>0</td>\n",
       "      <td>24</td>\n",
       "      <td>0</td>\n",
       "      <td>500</td>\n",
       "    </tr>\n",
       "    <tr>\n",
       "      <th>cat8</th>\n",
       "      <td>0</td>\n",
       "      <td>24</td>\n",
       "      <td>500</td>\n",
       "      <td>1000</td>\n",
       "    </tr>\n",
       "    <tr>\n",
       "      <th>cat10</th>\n",
       "      <td>24</td>\n",
       "      <td>26</td>\n",
       "      <td>500</td>\n",
       "      <td>1000</td>\n",
       "    </tr>\n",
       "    <tr>\n",
       "      <th>cat11</th>\n",
       "      <td>26</td>\n",
       "      <td>28</td>\n",
       "      <td>500</td>\n",
       "      <td>1000</td>\n",
       "    </tr>\n",
       "    <tr>\n",
       "      <th>...</th>\n",
       "      <td>...</td>\n",
       "      <td>...</td>\n",
       "      <td>...</td>\n",
       "      <td>...</td>\n",
       "    </tr>\n",
       "    <tr>\n",
       "      <th>cat106</th>\n",
       "      <td>36</td>\n",
       "      <td>37</td>\n",
       "      <td>1000</td>\n",
       "      <td>1500</td>\n",
       "    </tr>\n",
       "    <tr>\n",
       "      <th>cat116</th>\n",
       "      <td>38</td>\n",
       "      <td>40</td>\n",
       "      <td>1000</td>\n",
       "      <td>1500</td>\n",
       "    </tr>\n",
       "    <tr>\n",
       "      <th>cat117</th>\n",
       "      <td>38</td>\n",
       "      <td>40</td>\n",
       "      <td>1500</td>\n",
       "      <td>2000</td>\n",
       "    </tr>\n",
       "    <tr>\n",
       "      <th>cat123</th>\n",
       "      <td>40</td>\n",
       "      <td>42</td>\n",
       "      <td>1500</td>\n",
       "      <td>2000</td>\n",
       "    </tr>\n",
       "  </tbody>\n",
       "</table>\n",
       "<p>57 rows × 4 columns</p>\n",
       "</div>"
      ],
      "text/plain": [
       "        ga_start  ga_end  bw_start  bw_end\n",
       "cat2           0      24         0     500\n",
       "cat8           0      24       500    1000\n",
       "cat10         24      26       500    1000\n",
       "cat11         26      28       500    1000\n",
       "...          ...     ...       ...     ...\n",
       "cat106        36      37      1000    1500\n",
       "cat116        38      40      1000    1500\n",
       "cat117        38      40      1500    2000\n",
       "cat123        40      42      1500    2000\n",
       "\n",
       "[57 rows x 4 columns]"
      ]
     },
     "execution_count": 8,
     "metadata": {},
     "output_type": "execute_result"
    }
   ],
   "source": [
    "cat_df = pd.DataFrame(s.map(ga_bw_list).to_dict(), index=['ga_start', 'ga_end', 'bw_start', 'bw_end']).T\n",
    "cat_df"
   ]
  },
  {
   "cell_type": "code",
   "execution_count": 9,
   "metadata": {},
   "outputs": [],
   "source": [
    "cat_df['ga_width'] = cat_df['ga_end'] - cat_df['ga_start']\n",
    "cat_df['bw_width'] = cat_df['bw_end'] - cat_df['bw_start']"
   ]
  },
  {
   "cell_type": "code",
   "execution_count": 10,
   "metadata": {},
   "outputs": [
    {
     "data": {
      "text/plain": [
       "('cat49', (37.31637555458179, 4091.9594058385474))"
      ]
     },
     "execution_count": 10,
     "metadata": {},
     "output_type": "execute_result"
    }
   ],
   "source": [
    "def cat_to_ga_bw(cat, p1, p2):\n",
    "    \"\"\"Map from category `cat` to bivariate continuous values of birth weight and gestational age\n",
    "    Parameters\n",
    "    ----------\n",
    "    cat : str or list-like of strings, one of the 68 values in index of cat_df\n",
    "    p1 : float or list-like of floats, propensity between 0 and 1\n",
    "    p2 : float or list-like of floats, propensity between 0 and 1\n",
    "    \n",
    "    Results\n",
    "    -------\n",
    "    Returns tuple of (gestational age, birth weight)\n",
    "    \"\"\"\n",
    "    \n",
    "    ga = cat_df.loc[cat, 'ga_start'] + p1 * cat_df.loc[cat, 'ga_width']\n",
    "    bw = cat_df.loc[cat, 'bw_start'] + p2 * cat_df.loc[cat, 'bw_width']\n",
    "    \n",
    "    return ga, bw\n",
    "\n",
    "cat = np.random.choice(cat_df.index, size=None)\n",
    "cat, cat_to_ga_bw(cat, np.random.rand(), np.random.rand())"
   ]
  },
  {
   "cell_type": "code",
   "execution_count": 11,
   "metadata": {},
   "outputs": [
    {
     "data": {
      "text/plain": [
       "'cat89'"
      ]
     },
     "execution_count": 11,
     "metadata": {},
     "output_type": "execute_result"
    }
   ],
   "source": [
    "def ga_bw_to_cat(ga, bw):\n",
    "    \"\"\"Map from (birth weight, gestational age) to category name\n",
    "    Parameters\n",
    "    ----------\n",
    "    ga : float\n",
    "    bw : float\n",
    "    \n",
    "    Results\n",
    "    -------\n",
    "    Returns cat for (bw,ga) pair\n",
    "    \"\"\"\n",
    "    \n",
    "    t = cat_df.query('@bw >= bw_start and @bw < bw_end and @ga >= ga_start and @ga < ga_end')\n",
    "    assert len(t) >= 1\n",
    "    return t.index[0]\n",
    "\n",
    "ga_bw_to_cat(31., 3298.)"
   ]
  },
  {
   "cell_type": "code",
   "execution_count": 12,
   "metadata": {},
   "outputs": [
    {
     "data": {
      "image/png": "[encoded data removed]",
      "text/plain": [
       "<Figure size 432x288 with 1 Axes>"
      ]
     },
     "metadata": {
      "needs_background": "light"
     },
     "output_type": "display_data"
    }
   ],
   "source": [
    "# verification that this works\n",
    "\n",
    "N = 1_000\n",
    "cat = np.random.choice(cat_df.index, size=N)\n",
    "p1 = np.random.rand(N)\n",
    "p2 = np.random.rand(N)\n",
    "\n",
    "# from cat to ga and bw\n",
    "ga, bw = cat_to_ga_bw(cat, p1, p2)\n",
    "plt.plot(ga, bw, '.')\n",
    "plt.xlabel('Gestational Age (weeks)')\n",
    "plt.ylabel('Birth Weight (grams)');"
   ]
  },
  {
   "cell_type": "code",
   "execution_count": 13,
   "metadata": {},
   "outputs": [
    {
     "data": {
      "text/plain": [
       "1.0"
      ]
     },
     "execution_count": 13,
     "metadata": {},
     "output_type": "execute_result"
    }
   ],
   "source": [
    "# from ga/bw back to cat\n",
    "cat2 = list(map(ga_bw_to_cat, ga, bw))\n",
    "\n",
    "np.mean(cat == cat2)"
   ]
  },
  {
   "cell_type": "code",
   "execution_count": 14,
   "metadata": {},
   "outputs": [
    {
     "data": {
      "text/html": [
       "<div>\n",
       "<style scoped>\n",
       "    .dataframe tbody tr th:only-of-type {\n",
       "        vertical-align: middle;\n",
       "    }\n",
       "\n",
       "    .dataframe tbody tr th {\n",
       "        vertical-align: top;\n",
       "    }\n",
       "\n",
       "    .dataframe thead th {\n",
       "        text-align: right;\n",
       "    }\n",
       "</style>\n",
       "<table border=\"1\" class=\"dataframe\">\n",
       "  <thead>\n",
       "    <tr style=\"text-align: right;\">\n",
       "      <th></th>\n",
       "      <th>ga_start</th>\n",
       "      <th>ga_end</th>\n",
       "      <th>bw_start</th>\n",
       "      <th>bw_end</th>\n",
       "      <th>ga_width</th>\n",
       "      <th>bw_width</th>\n",
       "    </tr>\n",
       "  </thead>\n",
       "  <tbody>\n",
       "    <tr>\n",
       "      <th>cat8</th>\n",
       "      <td>0</td>\n",
       "      <td>24</td>\n",
       "      <td>500</td>\n",
       "      <td>1000</td>\n",
       "      <td>24</td>\n",
       "      <td>500</td>\n",
       "    </tr>\n",
       "  </tbody>\n",
       "</table>\n",
       "</div>"
      ],
      "text/plain": [
       "      ga_start  ga_end  bw_start  bw_end  ga_width  bw_width\n",
       "cat8         0      24       500    1000        24       500"
      ]
     },
     "execution_count": 14,
     "metadata": {},
     "output_type": "execute_result"
    }
   ],
   "source": [
    "# note that there are some categories which overlap\n",
    "# this is why cat2 is not identical to cat\n",
    "\n",
    "ga = 5\n",
    "bw = 666\n",
    "cat_df.query('@bw >= bw_start and @bw < bw_end and @ga >= ga_start and @ga < ga_end')"
   ]
  },
  {
   "cell_type": "code",
   "execution_count": 15,
   "metadata": {},
   "outputs": [],
   "source": [
    "# now to fit to appropriate distribution"
   ]
  },
  {
   "cell_type": "code",
   "execution_count": 24,
   "metadata": {},
   "outputs": [],
   "source": [
    "from db_queries import get_outputs, get_ids, get_covariate_estimates\n",
    "import pandas as pd\n",
    "import numpy as np\n",
    "from gbd_mapping import causes, risk_factors\n",
    "from vivarium_inputs import get_measure\n",
    "import gbd_mapping, vivarium_inputs\n",
    "from get_draws.api import get_draws"
   ]
  },
  {
   "cell_type": "code",
   "execution_count": 19,
   "metadata": {},
   "outputs": [
    {
     "data": {
      "text/html": [
       "<div>\n",
       "<style scoped>\n",
       "    .dataframe tbody tr th:only-of-type {\n",
       "        vertical-align: middle;\n",
       "    }\n",
       "\n",
       "    .dataframe tbody tr th {\n",
       "        vertical-align: top;\n",
       "    }\n",
       "\n",
       "    .dataframe thead th {\n",
       "        text-align: right;\n",
       "    }\n",
       "</style>\n",
       "<table border=\"1\" class=\"dataframe\">\n",
       "  <thead>\n",
       "    <tr style=\"text-align: right;\">\n",
       "      <th></th>\n",
       "      <th>location_set_id</th>\n",
       "      <th>location_set_name</th>\n",
       "      <th>location_set_description</th>\n",
       "    </tr>\n",
       "  </thead>\n",
       "  <tbody>\n",
       "    <tr>\n",
       "      <th>22</th>\n",
       "      <td>26</td>\n",
       "      <td>World Bank Income Levels</td>\n",
       "      <td>The hierarchy used for the World Bank income l...</td>\n",
       "    </tr>\n",
       "    <tr>\n",
       "      <th>62</th>\n",
       "      <td>68</td>\n",
       "      <td>Commonwealth High Income</td>\n",
       "      <td>The set of locations used for the Commonwealth...</td>\n",
       "    </tr>\n",
       "    <tr>\n",
       "      <th>63</th>\n",
       "      <td>69</td>\n",
       "      <td>Commonwealth Middle Income</td>\n",
       "      <td>The set of locations used for the Commonwealth...</td>\n",
       "    </tr>\n",
       "    <tr>\n",
       "      <th>64</th>\n",
       "      <td>70</td>\n",
       "      <td>Commonwealth Low Income</td>\n",
       "      <td>The set of locations used for the Commonwealth...</td>\n",
       "    </tr>\n",
       "    <tr>\n",
       "      <th>69</th>\n",
       "      <td>75</td>\n",
       "      <td>World Bank High Income</td>\n",
       "      <td>The set of locations used for the World Bank H...</td>\n",
       "    </tr>\n",
       "    <tr>\n",
       "      <th>70</th>\n",
       "      <td>76</td>\n",
       "      <td>World Bank Low Income</td>\n",
       "      <td>The set of locations used for the World Bank L...</td>\n",
       "    </tr>\n",
       "    <tr>\n",
       "      <th>71</th>\n",
       "      <td>77</td>\n",
       "      <td>World Bank Lower Middle Income</td>\n",
       "      <td>The set of locations used for the World Bank L...</td>\n",
       "    </tr>\n",
       "    <tr>\n",
       "      <th>72</th>\n",
       "      <td>78</td>\n",
       "      <td>World Bank Upper Middle Income</td>\n",
       "      <td>The set of locations used for the World Bank U...</td>\n",
       "    </tr>\n",
       "  </tbody>\n",
       "</table>\n",
       "</div>"
      ],
      "text/plain": [
       "    location_set_id               location_set_name  \\\n",
       "22               26        World Bank Income Levels   \n",
       "62               68        Commonwealth High Income   \n",
       "63               69      Commonwealth Middle Income   \n",
       "64               70         Commonwealth Low Income   \n",
       "69               75          World Bank High Income   \n",
       "70               76           World Bank Low Income   \n",
       "71               77  World Bank Lower Middle Income   \n",
       "72               78  World Bank Upper Middle Income   \n",
       "\n",
       "                             location_set_description  \n",
       "22  The hierarchy used for the World Bank income l...  \n",
       "62  The set of locations used for the Commonwealth...  \n",
       "63  The set of locations used for the Commonwealth...  \n",
       "64  The set of locations used for the Commonwealth...  \n",
       "69  The set of locations used for the World Bank H...  \n",
       "70  The set of locations used for the World Bank L...  \n",
       "71  The set of locations used for the World Bank L...  \n",
       "72  The set of locations used for the World Bank U...  "
      ]
     },
     "execution_count": 19,
     "metadata": {},
     "output_type": "execute_result"
    }
   ],
   "source": [
    "locs = get_ids('location_set')\n",
    "locs[locs['location_set_name'].str.contains('ncome')]"
   ]
  },
  {
   "cell_type": "code",
   "execution_count": 26,
   "metadata": {},
   "outputs": [
    {
     "data": {
      "text/html": [
       "<div>\n",
       "<style scoped>\n",
       "    .dataframe tbody tr th:only-of-type {\n",
       "        vertical-align: middle;\n",
       "    }\n",
       "\n",
       "    .dataframe tbody tr th {\n",
       "        vertical-align: top;\n",
       "    }\n",
       "\n",
       "    .dataframe thead th {\n",
       "        text-align: right;\n",
       "    }\n",
       "</style>\n",
       "<table border=\"1\" class=\"dataframe\">\n",
       "  <thead>\n",
       "    <tr style=\"text-align: right;\">\n",
       "      <th></th>\n",
       "      <th>covariate_id</th>\n",
       "      <th>covariate_name</th>\n",
       "      <th>covariate_name_short</th>\n",
       "      <th>covariate_description</th>\n",
       "    </tr>\n",
       "  </thead>\n",
       "  <tbody>\n",
       "    <tr>\n",
       "      <th>391</th>\n",
       "      <td>1136</td>\n",
       "      <td>Mean birth weight</td>\n",
       "      <td>mean_birthweight</td>\n",
       "      <td>Mean birth weight (in grams)</td>\n",
       "    </tr>\n",
       "  </tbody>\n",
       "</table>\n",
       "</div>"
      ],
      "text/plain": [
       "     covariate_id     covariate_name covariate_name_short  \\\n",
       "391          1136  Mean birth weight     mean_birthweight   \n",
       "\n",
       "            covariate_description  \n",
       "391  Mean birth weight (in grams)  "
      ]
     },
     "execution_count": 26,
     "metadata": {},
     "output_type": "execute_result"
    }
   ],
   "source": [
    "covars = get_ids('covariate')\n",
    "covars[covars['covariate_name'].str.contains('ean b')]"
   ]
  },
  {
   "cell_type": "code",
   "execution_count": null,
   "metadata": {},
   "outputs": [],
   "source": []
  }
 ],
 "metadata": {
  "kernelspec": {
   "display_name": "Python 3",
   "language": "python",
   "name": "python3"
  },
  "language_info": {
   "codemirror_mode": {
    "name": "ipython",
    "version": 3
   },
   "file_extension": ".py",
   "mimetype": "text/x-python",
   "name": "python",
   "nbconvert_exporter": "python",
   "pygments_lexer": "ipython3",
   "version": "3.6.9"
  }
 },
 "nbformat": 4,
 "nbformat_minor": 2
}
