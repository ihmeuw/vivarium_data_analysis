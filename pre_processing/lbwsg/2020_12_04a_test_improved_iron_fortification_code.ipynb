{
 "cells": [
  {
   "cell_type": "code",
   "execution_count": 2,
   "metadata": {},
   "outputs": [
    {
     "name": "stdout",
     "output_type": "stream",
     "text": [
      "ndbs\n",
      "Fri Dec  4 00:37:41 PST 2020\n"
     ]
    }
   ],
   "source": [
    "import pandas as pd, numpy as np\n",
    "import lbwsg\n",
    "import lbwsg_boe\n",
    "import lsff_interventions\n",
    "\n",
    "!whoami\n",
    "!date"
   ]
  },
  {
   "cell_type": "code",
   "execution_count": 3,
   "metadata": {},
   "outputs": [],
   "source": [
    "%load_ext autoreload\n",
    "%autoreload 2"
   ]
  },
  {
   "cell_type": "markdown",
   "metadata": {},
   "source": [
    "# Define artifact directory"
   ]
  },
  {
   "cell_type": "code",
   "execution_count": 4,
   "metadata": {},
   "outputs": [],
   "source": [
    "artifact_dir = '/share/costeffectiveness/artifacts/vivarium_conic_lsff/'\n",
    "artifact_path = f'{artifact_dir}/nigeria.hdf'"
   ]
  },
  {
   "cell_type": "markdown",
   "metadata": {},
   "source": [
    "# Load fortification data and create an IronFortification object"
   ]
  },
  {
   "cell_type": "code",
   "execution_count": 5,
   "metadata": {},
   "outputs": [],
   "source": [
    "# Use 3 draws for testing\n",
    "draws = [0,50,100]"
   ]
  },
  {
   "cell_type": "code",
   "execution_count": 52,
   "metadata": {},
   "outputs": [],
   "source": [
    "global_data = lsff_interventions.get_global_data(draws)\n",
    "local_data = lsff_interventions.get_local_data('Nigeria', global_data)"
   ]
  },
  {
   "cell_type": "code",
   "execution_count": 53,
   "metadata": {},
   "outputs": [
    {
     "data": {
      "text/plain": [
       "GlobalIronFortificationData(draws=Int64Index([0, 50, 100], dtype='int64', name='draw'), birthweight_dose_response=draw\n",
       "0      13.641788\n",
       "50     16.869422\n",
       "100     8.154433\n",
       "Name: birthweight_dose_response, dtype: float64)"
      ]
     },
     "execution_count": 53,
     "metadata": {},
     "output_type": "execute_result"
    }
   ],
   "source": [
    "global_data"
   ]
  },
  {
   "cell_type": "code",
   "execution_count": 54,
   "metadata": {},
   "outputs": [
    {
     "data": {
      "text/plain": [
       "LocalIronFortificationData(location='Nigeria', iron_concentration=40, mean_daily_flour=138.91079478195985, mean_birthweight_shift=draw\n",
       "0      7.579966\n",
       "50     9.373379\n",
       "100    4.530955\n",
       "Name: mean_birthweight_shift, dtype: float64, eats_fortified=0.08168000000000002, eats_fortifiable=0.25)"
      ]
     },
     "execution_count": 54,
     "metadata": {},
     "output_type": "execute_result"
    }
   ],
   "source": [
    "local_data"
   ]
  },
  {
   "cell_type": "code",
   "execution_count": 14,
   "metadata": {},
   "outputs": [],
   "source": [
    "iron_intervention = lsff_interventions.IronFortificationIntervention(global_data, local_data)"
   ]
  },
  {
   "cell_type": "markdown",
   "metadata": {},
   "source": [
    "# Load LBWSG data and create a Distribution object"
   ]
  },
  {
   "cell_type": "code",
   "execution_count": 17,
   "metadata": {},
   "outputs": [
    {
     "name": "stdout",
     "output_type": "stream",
     "text": [
      "(228, 3)\n"
     ]
    },
    {
     "data": {
      "text/html": [
       "<div>\n",
       "<style scoped>\n",
       "    .dataframe tbody tr th:only-of-type {\n",
       "        vertical-align: middle;\n",
       "    }\n",
       "\n",
       "    .dataframe tbody tr th {\n",
       "        vertical-align: top;\n",
       "    }\n",
       "\n",
       "    .dataframe thead th {\n",
       "        text-align: right;\n",
       "    }\n",
       "</style>\n",
       "<table border=\"1\" class=\"dataframe\">\n",
       "  <thead>\n",
       "    <tr style=\"text-align: right;\">\n",
       "      <th></th>\n",
       "      <th></th>\n",
       "      <th></th>\n",
       "      <th></th>\n",
       "      <th></th>\n",
       "      <th></th>\n",
       "      <th></th>\n",
       "      <th>draw_0</th>\n",
       "      <th>draw_50</th>\n",
       "      <th>draw_100</th>\n",
       "    </tr>\n",
       "    <tr>\n",
       "      <th>location</th>\n",
       "      <th>sex</th>\n",
       "      <th>age_start</th>\n",
       "      <th>age_end</th>\n",
       "      <th>year_start</th>\n",
       "      <th>year_end</th>\n",
       "      <th>parameter</th>\n",
       "      <th></th>\n",
       "      <th></th>\n",
       "      <th></th>\n",
       "    </tr>\n",
       "  </thead>\n",
       "  <tbody>\n",
       "    <tr>\n",
       "      <th rowspan=\"5\" valign=\"top\">Nigeria</th>\n",
       "      <th rowspan=\"5\" valign=\"top\">Female</th>\n",
       "      <th rowspan=\"5\" valign=\"top\">0.0</th>\n",
       "      <th rowspan=\"5\" valign=\"top\">0.019178</th>\n",
       "      <th rowspan=\"5\" valign=\"top\">2017</th>\n",
       "      <th rowspan=\"5\" valign=\"top\">2018</th>\n",
       "      <th>cat10</th>\n",
       "      <td>0.002040</td>\n",
       "      <td>0.003515</td>\n",
       "      <td>0.002040</td>\n",
       "    </tr>\n",
       "    <tr>\n",
       "      <th>cat106</th>\n",
       "      <td>0.000314</td>\n",
       "      <td>0.000496</td>\n",
       "      <td>0.000314</td>\n",
       "    </tr>\n",
       "    <tr>\n",
       "      <th>cat11</th>\n",
       "      <td>0.000544</td>\n",
       "      <td>0.000630</td>\n",
       "      <td>0.000544</td>\n",
       "    </tr>\n",
       "    <tr>\n",
       "      <th>cat116</th>\n",
       "      <td>0.000842</td>\n",
       "      <td>0.001198</td>\n",
       "      <td>0.000842</td>\n",
       "    </tr>\n",
       "    <tr>\n",
       "      <th>cat117</th>\n",
       "      <td>0.003087</td>\n",
       "      <td>0.004765</td>\n",
       "      <td>0.003087</td>\n",
       "    </tr>\n",
       "  </tbody>\n",
       "</table>\n",
       "</div>"
      ],
      "text/plain": [
       "                                                                    draw_0  \\\n",
       "location sex    age_start age_end  year_start year_end parameter             \n",
       "Nigeria  Female 0.0       0.019178 2017       2018     cat10      0.002040   \n",
       "                                                       cat106     0.000314   \n",
       "                                                       cat11      0.000544   \n",
       "                                                       cat116     0.000842   \n",
       "                                                       cat117     0.003087   \n",
       "\n",
       "                                                                   draw_50  \\\n",
       "location sex    age_start age_end  year_start year_end parameter             \n",
       "Nigeria  Female 0.0       0.019178 2017       2018     cat10      0.003515   \n",
       "                                                       cat106     0.000496   \n",
       "                                                       cat11      0.000630   \n",
       "                                                       cat116     0.001198   \n",
       "                                                       cat117     0.004765   \n",
       "\n",
       "                                                                  draw_100  \n",
       "location sex    age_start age_end  year_start year_end parameter            \n",
       "Nigeria  Female 0.0       0.019178 2017       2018     cat10      0.002040  \n",
       "                                                       cat106     0.000314  \n",
       "                                                       cat11      0.000544  \n",
       "                                                       cat116     0.000842  \n",
       "                                                       cat117     0.003087  "
      ]
     },
     "execution_count": 17,
     "metadata": {},
     "output_type": "execute_result"
    }
   ],
   "source": [
    "exposure = lbwsg.read_lbwsg_data(artifact_path, 'exposure',\n",
    "                                 \"age_end < 1\", f\"year_start == 2017\",\n",
    "                                 draws=global_data.draws) # Check whether passing an Index object works\n",
    "print(exposure.shape)\n",
    "exposure.head()"
   ]
  },
  {
   "cell_type": "code",
   "execution_count": 18,
   "metadata": {},
   "outputs": [],
   "source": [
    "lbwsg_dist = lbwsg.LBWSGDistribution(exposure)"
   ]
  },
  {
   "cell_type": "markdown",
   "metadata": {},
   "source": [
    "# Create a population table and assign birthweights"
   ]
  },
  {
   "cell_type": "code",
   "execution_count": 19,
   "metadata": {},
   "outputs": [
    {
     "data": {
      "text/html": [
       "<div>\n",
       "<style scoped>\n",
       "    .dataframe tbody tr th:only-of-type {\n",
       "        vertical-align: middle;\n",
       "    }\n",
       "\n",
       "    .dataframe tbody tr th {\n",
       "        vertical-align: top;\n",
       "    }\n",
       "\n",
       "    .dataframe thead th {\n",
       "        text-align: right;\n",
       "    }\n",
       "</style>\n",
       "<table border=\"1\" class=\"dataframe\">\n",
       "  <thead>\n",
       "    <tr style=\"text-align: right;\">\n",
       "      <th></th>\n",
       "      <th></th>\n",
       "      <th>sex</th>\n",
       "      <th>age</th>\n",
       "      <th>age_start</th>\n",
       "      <th>age_end</th>\n",
       "    </tr>\n",
       "    <tr>\n",
       "      <th>draw</th>\n",
       "      <th>simulant_id</th>\n",
       "      <th></th>\n",
       "      <th></th>\n",
       "      <th></th>\n",
       "      <th></th>\n",
       "    </tr>\n",
       "  </thead>\n",
       "  <tbody>\n",
       "    <tr>\n",
       "      <th rowspan=\"5\" valign=\"top\">0</th>\n",
       "      <th>0</th>\n",
       "      <td>Female</td>\n",
       "      <td>0.0</td>\n",
       "      <td>0.0</td>\n",
       "      <td>0.019178</td>\n",
       "    </tr>\n",
       "    <tr>\n",
       "      <th>1</th>\n",
       "      <td>Male</td>\n",
       "      <td>0.0</td>\n",
       "      <td>0.0</td>\n",
       "      <td>0.019178</td>\n",
       "    </tr>\n",
       "    <tr>\n",
       "      <th>2</th>\n",
       "      <td>Female</td>\n",
       "      <td>0.0</td>\n",
       "      <td>0.0</td>\n",
       "      <td>0.019178</td>\n",
       "    </tr>\n",
       "    <tr>\n",
       "      <th>3</th>\n",
       "      <td>Female</td>\n",
       "      <td>0.0</td>\n",
       "      <td>0.0</td>\n",
       "      <td>0.019178</td>\n",
       "    </tr>\n",
       "    <tr>\n",
       "      <th>4</th>\n",
       "      <td>Female</td>\n",
       "      <td>0.0</td>\n",
       "      <td>0.0</td>\n",
       "      <td>0.019178</td>\n",
       "    </tr>\n",
       "  </tbody>\n",
       "</table>\n",
       "</div>"
      ],
      "text/plain": [
       "                     sex  age  age_start   age_end\n",
       "draw simulant_id                                  \n",
       "0    0            Female  0.0        0.0  0.019178\n",
       "     1              Male  0.0        0.0  0.019178\n",
       "     2            Female  0.0        0.0  0.019178\n",
       "     3            Female  0.0        0.0  0.019178\n",
       "     4            Female  0.0        0.0  0.019178"
      ]
     },
     "execution_count": 19,
     "metadata": {},
     "output_type": "execute_result"
    }
   ],
   "source": [
    "pop = lbwsg_boe.initialize_population_table(global_data.draws, 1000) # again, make sure it works to pass an Index\n",
    "pop.head()"
   ]
  },
  {
   "cell_type": "code",
   "execution_count": 33,
   "metadata": {},
   "outputs": [
    {
     "data": {
      "text/html": [
       "<div>\n",
       "<style scoped>\n",
       "    .dataframe tbody tr th:only-of-type {\n",
       "        vertical-align: middle;\n",
       "    }\n",
       "\n",
       "    .dataframe tbody tr th {\n",
       "        vertical-align: top;\n",
       "    }\n",
       "\n",
       "    .dataframe thead th {\n",
       "        text-align: right;\n",
       "    }\n",
       "</style>\n",
       "<table border=\"1\" class=\"dataframe\">\n",
       "  <thead>\n",
       "    <tr style=\"text-align: right;\">\n",
       "      <th></th>\n",
       "      <th></th>\n",
       "      <th>sex</th>\n",
       "      <th>age</th>\n",
       "      <th>age_start</th>\n",
       "      <th>age_end</th>\n",
       "      <th>lbwsg_cat</th>\n",
       "      <th>ga_propensity</th>\n",
       "      <th>bw_propensity</th>\n",
       "      <th>gestational_age</th>\n",
       "      <th>birthweight</th>\n",
       "    </tr>\n",
       "    <tr>\n",
       "      <th>draw</th>\n",
       "      <th>simulant_id</th>\n",
       "      <th></th>\n",
       "      <th></th>\n",
       "      <th></th>\n",
       "      <th></th>\n",
       "      <th></th>\n",
       "      <th></th>\n",
       "      <th></th>\n",
       "      <th></th>\n",
       "      <th></th>\n",
       "    </tr>\n",
       "  </thead>\n",
       "  <tbody>\n",
       "    <tr>\n",
       "      <th rowspan=\"5\" valign=\"top\">0</th>\n",
       "      <th>0</th>\n",
       "      <td>Female</td>\n",
       "      <td>0.0</td>\n",
       "      <td>0.0</td>\n",
       "      <td>0.019178</td>\n",
       "      <td>cat55</td>\n",
       "      <td>0.215386</td>\n",
       "      <td>0.686523</td>\n",
       "      <td>40.430773</td>\n",
       "      <td>3843.261422</td>\n",
       "    </tr>\n",
       "    <tr>\n",
       "      <th>1</th>\n",
       "      <td>Male</td>\n",
       "      <td>0.0</td>\n",
       "      <td>0.0</td>\n",
       "      <td>0.019178</td>\n",
       "      <td>cat10</td>\n",
       "      <td>0.596179</td>\n",
       "      <td>0.124716</td>\n",
       "      <td>25.192357</td>\n",
       "      <td>562.357915</td>\n",
       "    </tr>\n",
       "    <tr>\n",
       "      <th>2</th>\n",
       "      <td>Female</td>\n",
       "      <td>0.0</td>\n",
       "      <td>0.0</td>\n",
       "      <td>0.019178</td>\n",
       "      <td>cat48</td>\n",
       "      <td>0.910477</td>\n",
       "      <td>0.563321</td>\n",
       "      <td>37.910477</td>\n",
       "      <td>3281.660311</td>\n",
       "    </tr>\n",
       "    <tr>\n",
       "      <th>3</th>\n",
       "      <td>Female</td>\n",
       "      <td>0.0</td>\n",
       "      <td>0.0</td>\n",
       "      <td>0.019178</td>\n",
       "      <td>cat37</td>\n",
       "      <td>0.039248</td>\n",
       "      <td>0.831040</td>\n",
       "      <td>34.078496</td>\n",
       "      <td>2915.520112</td>\n",
       "    </tr>\n",
       "    <tr>\n",
       "      <th>4</th>\n",
       "      <td>Female</td>\n",
       "      <td>0.0</td>\n",
       "      <td>0.0</td>\n",
       "      <td>0.019178</td>\n",
       "      <td>cat56</td>\n",
       "      <td>0.379006</td>\n",
       "      <td>0.265926</td>\n",
       "      <td>40.758013</td>\n",
       "      <td>4132.963136</td>\n",
       "    </tr>\n",
       "  </tbody>\n",
       "</table>\n",
       "</div>"
      ],
      "text/plain": [
       "                     sex  age  age_start   age_end lbwsg_cat  ga_propensity  \\\n",
       "draw simulant_id                                                              \n",
       "0    0            Female  0.0        0.0  0.019178     cat55       0.215386   \n",
       "     1              Male  0.0        0.0  0.019178     cat10       0.596179   \n",
       "     2            Female  0.0        0.0  0.019178     cat48       0.910477   \n",
       "     3            Female  0.0        0.0  0.019178     cat37       0.039248   \n",
       "     4            Female  0.0        0.0  0.019178     cat56       0.379006   \n",
       "\n",
       "                  bw_propensity  gestational_age  birthweight  \n",
       "draw simulant_id                                               \n",
       "0    0                 0.686523        40.430773  3843.261422  \n",
       "     1                 0.124716        25.192357   562.357915  \n",
       "     2                 0.563321        37.910477  3281.660311  \n",
       "     3                 0.831040        34.078496  2915.520112  \n",
       "     4                 0.265926        40.758013  4132.963136  "
      ]
     },
     "execution_count": 33,
     "metadata": {},
     "output_type": "execute_result"
    }
   ],
   "source": [
    "lbwsg_dist.assign_exposure(pop)\n",
    "pop.head()"
   ]
  },
  {
   "cell_type": "markdown",
   "metadata": {},
   "source": [
    "# Time the above two steps for various population sizes\n",
    "\n",
    "### Table initialization:"
   ]
  },
  {
   "cell_type": "code",
   "execution_count": 22,
   "metadata": {},
   "outputs": [
    {
     "name": "stdout",
     "output_type": "stream",
     "text": [
      "5.4 ms ± 468 µs per loop (mean ± std. dev. of 7 runs, 100 loops each)\n"
     ]
    }
   ],
   "source": [
    "%timeit lbwsg_boe.initialize_population_table(global_data.draws, 1000)"
   ]
  },
  {
   "cell_type": "code",
   "execution_count": 23,
   "metadata": {},
   "outputs": [
    {
     "name": "stdout",
     "output_type": "stream",
     "text": [
      "96 ms ± 11.3 ms per loop (mean ± std. dev. of 7 runs, 10 loops each)\n"
     ]
    }
   ],
   "source": [
    "%timeit lbwsg_boe.initialize_population_table(global_data.draws, 100_000)"
   ]
  },
  {
   "cell_type": "markdown",
   "metadata": {},
   "source": [
    "### Assigning birthweights:"
   ]
  },
  {
   "cell_type": "code",
   "execution_count": 26,
   "metadata": {},
   "outputs": [
    {
     "name": "stdout",
     "output_type": "stream",
     "text": [
      "257 ms ± 43 ms per loop (mean ± std. dev. of 7 runs, 1 loop each)\n"
     ]
    }
   ],
   "source": [
    "test_pop = lbwsg_boe.initialize_population_table(global_data.draws, 1000)\n",
    "%timeit lbwsg_dist.assign_exposure(test_pop)"
   ]
  },
  {
   "cell_type": "code",
   "execution_count": 27,
   "metadata": {},
   "outputs": [
    {
     "name": "stdout",
     "output_type": "stream",
     "text": [
      "1.83 s ± 177 ms per loop (mean ± std. dev. of 7 runs, 1 loop each)\n"
     ]
    }
   ],
   "source": [
    "test_pop = lbwsg_boe.initialize_population_table(global_data.draws, 10_000)\n",
    "%timeit lbwsg_dist.assign_exposure(test_pop)"
   ]
  },
  {
   "cell_type": "code",
   "execution_count": 28,
   "metadata": {},
   "outputs": [
    {
     "name": "stdout",
     "output_type": "stream",
     "text": [
      "13.4 s ± 124 ms per loop (mean ± std. dev. of 7 runs, 1 loop each)\n"
     ]
    }
   ],
   "source": [
    "test_pop = lbwsg_boe.initialize_population_table(global_data.draws, 100_000)\n",
    "%timeit lbwsg_dist.assign_exposure(test_pop)"
   ]
  },
  {
   "cell_type": "markdown",
   "metadata": {},
   "source": [
    "# Aha! I've found the culprit -- my code for assigning LBWSG exposure is slow!\n",
    "\n",
    "Or at least, this is more than 50% of the runtime of the entire BOE calculation. There may be other places that are somewhat slow as well.\n",
    "\n",
    "I think the problem might be that the function groups by `age_start`, which is a `float`, so it might be getting a unique value for every row in the table rather than finding only one or two unique values. If that's the case, the for loop would be iterating over all rows in the table, which is slow. I will need to test whether this is the case; if so (or in any case), I'll need to add an `age_group` column to the LBWSG data so I can group by that instead.\n",
    "\n",
    "## Also, see how long it takes to copy a large dataframe:\n",
    "\n",
    "Not very long."
   ]
  },
  {
   "cell_type": "code",
   "execution_count": 30,
   "metadata": {},
   "outputs": [
    {
     "data": {
      "text/plain": [
       "(300000, 9)"
      ]
     },
     "execution_count": 30,
     "metadata": {},
     "output_type": "execute_result"
    }
   ],
   "source": [
    "test_pop.shape"
   ]
  },
  {
   "cell_type": "code",
   "execution_count": 31,
   "metadata": {},
   "outputs": [
    {
     "name": "stdout",
     "output_type": "stream",
     "text": [
      "5.85 ms ± 174 µs per loop (mean ± std. dev. of 7 runs, 100 loops each)\n"
     ]
    }
   ],
   "source": [
    "%timeit test_pop.copy()"
   ]
  },
  {
   "cell_type": "markdown",
   "metadata": {},
   "source": [
    "# Apply the iron intervention to the baseline population (i.e. do baseline coverage calibration)"
   ]
  },
  {
   "cell_type": "code",
   "execution_count": 34,
   "metadata": {},
   "outputs": [
    {
     "data": {
      "text/html": [
       "<div>\n",
       "<style scoped>\n",
       "    .dataframe tbody tr th:only-of-type {\n",
       "        vertical-align: middle;\n",
       "    }\n",
       "\n",
       "    .dataframe tbody tr th {\n",
       "        vertical-align: top;\n",
       "    }\n",
       "\n",
       "    .dataframe thead th {\n",
       "        text-align: right;\n",
       "    }\n",
       "</style>\n",
       "<table border=\"1\" class=\"dataframe\">\n",
       "  <thead>\n",
       "    <tr style=\"text-align: right;\">\n",
       "      <th></th>\n",
       "      <th></th>\n",
       "      <th>sex</th>\n",
       "      <th>age</th>\n",
       "      <th>age_start</th>\n",
       "      <th>age_end</th>\n",
       "      <th>lbwsg_cat</th>\n",
       "      <th>ga_propensity</th>\n",
       "      <th>bw_propensity</th>\n",
       "      <th>gestational_age</th>\n",
       "      <th>birthweight</th>\n",
       "      <th>iron_fortification_propensity</th>\n",
       "      <th>mother_flour_consumption_propensity</th>\n",
       "    </tr>\n",
       "    <tr>\n",
       "      <th>draw</th>\n",
       "      <th>simulant_id</th>\n",
       "      <th></th>\n",
       "      <th></th>\n",
       "      <th></th>\n",
       "      <th></th>\n",
       "      <th></th>\n",
       "      <th></th>\n",
       "      <th></th>\n",
       "      <th></th>\n",
       "      <th></th>\n",
       "      <th></th>\n",
       "      <th></th>\n",
       "    </tr>\n",
       "  </thead>\n",
       "  <tbody>\n",
       "    <tr>\n",
       "      <th rowspan=\"5\" valign=\"top\">0</th>\n",
       "      <th>0</th>\n",
       "      <td>Female</td>\n",
       "      <td>0.0</td>\n",
       "      <td>0.0</td>\n",
       "      <td>0.019178</td>\n",
       "      <td>cat55</td>\n",
       "      <td>0.215386</td>\n",
       "      <td>0.686523</td>\n",
       "      <td>40.430773</td>\n",
       "      <td>3843.261422</td>\n",
       "      <td>0.949549</td>\n",
       "      <td>0.254121</td>\n",
       "    </tr>\n",
       "    <tr>\n",
       "      <th>1</th>\n",
       "      <td>Male</td>\n",
       "      <td>0.0</td>\n",
       "      <td>0.0</td>\n",
       "      <td>0.019178</td>\n",
       "      <td>cat10</td>\n",
       "      <td>0.596179</td>\n",
       "      <td>0.124716</td>\n",
       "      <td>25.192357</td>\n",
       "      <td>562.357915</td>\n",
       "      <td>0.235305</td>\n",
       "      <td>0.812284</td>\n",
       "    </tr>\n",
       "    <tr>\n",
       "      <th>2</th>\n",
       "      <td>Female</td>\n",
       "      <td>0.0</td>\n",
       "      <td>0.0</td>\n",
       "      <td>0.019178</td>\n",
       "      <td>cat48</td>\n",
       "      <td>0.910477</td>\n",
       "      <td>0.563321</td>\n",
       "      <td>37.910477</td>\n",
       "      <td>3281.660311</td>\n",
       "      <td>0.662100</td>\n",
       "      <td>0.099459</td>\n",
       "    </tr>\n",
       "    <tr>\n",
       "      <th>3</th>\n",
       "      <td>Female</td>\n",
       "      <td>0.0</td>\n",
       "      <td>0.0</td>\n",
       "      <td>0.019178</td>\n",
       "      <td>cat37</td>\n",
       "      <td>0.039248</td>\n",
       "      <td>0.831040</td>\n",
       "      <td>34.078496</td>\n",
       "      <td>2915.520112</td>\n",
       "      <td>0.788246</td>\n",
       "      <td>0.721583</td>\n",
       "    </tr>\n",
       "    <tr>\n",
       "      <th>4</th>\n",
       "      <td>Female</td>\n",
       "      <td>0.0</td>\n",
       "      <td>0.0</td>\n",
       "      <td>0.019178</td>\n",
       "      <td>cat56</td>\n",
       "      <td>0.379006</td>\n",
       "      <td>0.265926</td>\n",
       "      <td>40.758013</td>\n",
       "      <td>4132.963136</td>\n",
       "      <td>0.216607</td>\n",
       "      <td>0.853824</td>\n",
       "    </tr>\n",
       "  </tbody>\n",
       "</table>\n",
       "</div>"
      ],
      "text/plain": [
       "                     sex  age  age_start   age_end lbwsg_cat  ga_propensity  \\\n",
       "draw simulant_id                                                              \n",
       "0    0            Female  0.0        0.0  0.019178     cat55       0.215386   \n",
       "     1              Male  0.0        0.0  0.019178     cat10       0.596179   \n",
       "     2            Female  0.0        0.0  0.019178     cat48       0.910477   \n",
       "     3            Female  0.0        0.0  0.019178     cat37       0.039248   \n",
       "     4            Female  0.0        0.0  0.019178     cat56       0.379006   \n",
       "\n",
       "                  bw_propensity  gestational_age  birthweight  \\\n",
       "draw simulant_id                                                \n",
       "0    0                 0.686523        40.430773  3843.261422   \n",
       "     1                 0.124716        25.192357   562.357915   \n",
       "     2                 0.563321        37.910477  3281.660311   \n",
       "     3                 0.831040        34.078496  2915.520112   \n",
       "     4                 0.265926        40.758013  4132.963136   \n",
       "\n",
       "                  iron_fortification_propensity  \\\n",
       "draw simulant_id                                  \n",
       "0    0                                 0.949549   \n",
       "     1                                 0.235305   \n",
       "     2                                 0.662100   \n",
       "     3                                 0.788246   \n",
       "     4                                 0.216607   \n",
       "\n",
       "                  mother_flour_consumption_propensity  \n",
       "draw simulant_id                                       \n",
       "0    0                                       0.254121  \n",
       "     1                                       0.812284  \n",
       "     2                                       0.099459  \n",
       "     3                                       0.721583  \n",
       "     4                                       0.853824  "
      ]
     },
     "execution_count": 34,
     "metadata": {},
     "output_type": "execute_result"
    }
   ],
   "source": [
    "iron_intervention.assign_propensities(pop)\n",
    "pop.head()"
   ]
  },
  {
   "cell_type": "markdown",
   "metadata": {},
   "source": [
    "### Make an intervention population"
   ]
  },
  {
   "cell_type": "code",
   "execution_count": 35,
   "metadata": {},
   "outputs": [],
   "source": [
    "ipop = pop.copy() # intervention population"
   ]
  },
  {
   "cell_type": "markdown",
   "metadata": {},
   "source": [
    "### Do baseline calibration in baseline population"
   ]
  },
  {
   "cell_type": "code",
   "execution_count": 37,
   "metadata": {},
   "outputs": [
    {
     "data": {
      "text/html": [
       "<div>\n",
       "<style scoped>\n",
       "    .dataframe tbody tr th:only-of-type {\n",
       "        vertical-align: middle;\n",
       "    }\n",
       "\n",
       "    .dataframe tbody tr th {\n",
       "        vertical-align: top;\n",
       "    }\n",
       "\n",
       "    .dataframe thead th {\n",
       "        text-align: right;\n",
       "    }\n",
       "</style>\n",
       "<table border=\"1\" class=\"dataframe\">\n",
       "  <thead>\n",
       "    <tr style=\"text-align: right;\">\n",
       "      <th></th>\n",
       "      <th></th>\n",
       "      <th>sex</th>\n",
       "      <th>age</th>\n",
       "      <th>age_start</th>\n",
       "      <th>age_end</th>\n",
       "      <th>lbwsg_cat</th>\n",
       "      <th>ga_propensity</th>\n",
       "      <th>bw_propensity</th>\n",
       "      <th>gestational_age</th>\n",
       "      <th>birthweight</th>\n",
       "      <th>iron_fortification_propensity</th>\n",
       "      <th>mother_flour_consumption_propensity</th>\n",
       "      <th>treatment_deleted_birthweight</th>\n",
       "    </tr>\n",
       "    <tr>\n",
       "      <th>draw</th>\n",
       "      <th>simulant_id</th>\n",
       "      <th></th>\n",
       "      <th></th>\n",
       "      <th></th>\n",
       "      <th></th>\n",
       "      <th></th>\n",
       "      <th></th>\n",
       "      <th></th>\n",
       "      <th></th>\n",
       "      <th></th>\n",
       "      <th></th>\n",
       "      <th></th>\n",
       "      <th></th>\n",
       "    </tr>\n",
       "  </thead>\n",
       "  <tbody>\n",
       "    <tr>\n",
       "      <th rowspan=\"5\" valign=\"top\">0</th>\n",
       "      <th>0</th>\n",
       "      <td>Female</td>\n",
       "      <td>0.0</td>\n",
       "      <td>0.0</td>\n",
       "      <td>0.019178</td>\n",
       "      <td>cat55</td>\n",
       "      <td>0.215386</td>\n",
       "      <td>0.686523</td>\n",
       "      <td>40.430773</td>\n",
       "      <td>3843.261422</td>\n",
       "      <td>0.949549</td>\n",
       "      <td>0.254121</td>\n",
       "      <td>3842.241092</td>\n",
       "    </tr>\n",
       "    <tr>\n",
       "      <th>1</th>\n",
       "      <td>Male</td>\n",
       "      <td>0.0</td>\n",
       "      <td>0.0</td>\n",
       "      <td>0.019178</td>\n",
       "      <td>cat10</td>\n",
       "      <td>0.596179</td>\n",
       "      <td>0.124716</td>\n",
       "      <td>25.192357</td>\n",
       "      <td>562.357915</td>\n",
       "      <td>0.235305</td>\n",
       "      <td>0.812284</td>\n",
       "      <td>561.337585</td>\n",
       "    </tr>\n",
       "    <tr>\n",
       "      <th>2</th>\n",
       "      <td>Female</td>\n",
       "      <td>0.0</td>\n",
       "      <td>0.0</td>\n",
       "      <td>0.019178</td>\n",
       "      <td>cat48</td>\n",
       "      <td>0.910477</td>\n",
       "      <td>0.563321</td>\n",
       "      <td>37.910477</td>\n",
       "      <td>3281.660311</td>\n",
       "      <td>0.662100</td>\n",
       "      <td>0.099459</td>\n",
       "      <td>3280.639980</td>\n",
       "    </tr>\n",
       "    <tr>\n",
       "      <th>3</th>\n",
       "      <td>Female</td>\n",
       "      <td>0.0</td>\n",
       "      <td>0.0</td>\n",
       "      <td>0.019178</td>\n",
       "      <td>cat37</td>\n",
       "      <td>0.039248</td>\n",
       "      <td>0.831040</td>\n",
       "      <td>34.078496</td>\n",
       "      <td>2915.520112</td>\n",
       "      <td>0.788246</td>\n",
       "      <td>0.721583</td>\n",
       "      <td>2914.499782</td>\n",
       "    </tr>\n",
       "    <tr>\n",
       "      <th>4</th>\n",
       "      <td>Female</td>\n",
       "      <td>0.0</td>\n",
       "      <td>0.0</td>\n",
       "      <td>0.019178</td>\n",
       "      <td>cat56</td>\n",
       "      <td>0.379006</td>\n",
       "      <td>0.265926</td>\n",
       "      <td>40.758013</td>\n",
       "      <td>4132.963136</td>\n",
       "      <td>0.216607</td>\n",
       "      <td>0.853824</td>\n",
       "      <td>4131.942805</td>\n",
       "    </tr>\n",
       "  </tbody>\n",
       "</table>\n",
       "</div>"
      ],
      "text/plain": [
       "                     sex  age  age_start   age_end lbwsg_cat  ga_propensity  \\\n",
       "draw simulant_id                                                              \n",
       "0    0            Female  0.0        0.0  0.019178     cat55       0.215386   \n",
       "     1              Male  0.0        0.0  0.019178     cat10       0.596179   \n",
       "     2            Female  0.0        0.0  0.019178     cat48       0.910477   \n",
       "     3            Female  0.0        0.0  0.019178     cat37       0.039248   \n",
       "     4            Female  0.0        0.0  0.019178     cat56       0.379006   \n",
       "\n",
       "                  bw_propensity  gestational_age  birthweight  \\\n",
       "draw simulant_id                                                \n",
       "0    0                 0.686523        40.430773  3843.261422   \n",
       "     1                 0.124716        25.192357   562.357915   \n",
       "     2                 0.563321        37.910477  3281.660311   \n",
       "     3                 0.831040        34.078496  2915.520112   \n",
       "     4                 0.265926        40.758013  4132.963136   \n",
       "\n",
       "                  iron_fortification_propensity  \\\n",
       "draw simulant_id                                  \n",
       "0    0                                 0.949549   \n",
       "     1                                 0.235305   \n",
       "     2                                 0.662100   \n",
       "     3                                 0.788246   \n",
       "     4                                 0.216607   \n",
       "\n",
       "                  mother_flour_consumption_propensity  \\\n",
       "draw simulant_id                                        \n",
       "0    0                                       0.254121   \n",
       "     1                                       0.812284   \n",
       "     2                                       0.099459   \n",
       "     3                                       0.721583   \n",
       "     4                                       0.853824   \n",
       "\n",
       "                  treatment_deleted_birthweight  \n",
       "draw simulant_id                                 \n",
       "0    0                              3842.241092  \n",
       "     1                               561.337585  \n",
       "     2                              3280.639980  \n",
       "     3                              2914.499782  \n",
       "     4                              4131.942805  "
      ]
     },
     "execution_count": 37,
     "metadata": {},
     "output_type": "execute_result"
    }
   ],
   "source": [
    "iron_intervention.assign_treatment_deleted_birthweight(pop, lbwsg_dist, local_data.eats_fortified)\n",
    "pop.head()"
   ]
  },
  {
   "cell_type": "code",
   "execution_count": 63,
   "metadata": {},
   "outputs": [
    {
     "data": {
      "text/html": [
       "<div>\n",
       "<style scoped>\n",
       "    .dataframe tbody tr th:only-of-type {\n",
       "        vertical-align: middle;\n",
       "    }\n",
       "\n",
       "    .dataframe tbody tr th {\n",
       "        vertical-align: top;\n",
       "    }\n",
       "\n",
       "    .dataframe thead th {\n",
       "        text-align: right;\n",
       "    }\n",
       "</style>\n",
       "<table border=\"1\" class=\"dataframe\">\n",
       "  <thead>\n",
       "    <tr style=\"text-align: right;\">\n",
       "      <th></th>\n",
       "      <th></th>\n",
       "      <th>sex</th>\n",
       "      <th>age</th>\n",
       "      <th>age_start</th>\n",
       "      <th>age_end</th>\n",
       "      <th>lbwsg_cat</th>\n",
       "      <th>ga_propensity</th>\n",
       "      <th>bw_propensity</th>\n",
       "      <th>gestational_age</th>\n",
       "      <th>birthweight</th>\n",
       "      <th>iron_fortification_propensity</th>\n",
       "      <th>mother_flour_consumption_propensity</th>\n",
       "      <th>treatment_deleted_birthweight</th>\n",
       "      <th>mother_is_iron_fortified</th>\n",
       "      <th>mother_daily_flour</th>\n",
       "      <th>birthweight_shift</th>\n",
       "      <th>treated_birthweight</th>\n",
       "      <th>treated_lbwsg_cat</th>\n",
       "    </tr>\n",
       "    <tr>\n",
       "      <th>draw</th>\n",
       "      <th>simulant_id</th>\n",
       "      <th></th>\n",
       "      <th></th>\n",
       "      <th></th>\n",
       "      <th></th>\n",
       "      <th></th>\n",
       "      <th></th>\n",
       "      <th></th>\n",
       "      <th></th>\n",
       "      <th></th>\n",
       "      <th></th>\n",
       "      <th></th>\n",
       "      <th></th>\n",
       "      <th></th>\n",
       "      <th></th>\n",
       "      <th></th>\n",
       "      <th></th>\n",
       "      <th></th>\n",
       "    </tr>\n",
       "  </thead>\n",
       "  <tbody>\n",
       "    <tr>\n",
       "      <th rowspan=\"5\" valign=\"top\">0</th>\n",
       "      <th>0</th>\n",
       "      <td>Female</td>\n",
       "      <td>0.0</td>\n",
       "      <td>0.0</td>\n",
       "      <td>0.019178</td>\n",
       "      <td>cat55</td>\n",
       "      <td>0.215386</td>\n",
       "      <td>0.686523</td>\n",
       "      <td>40.430773</td>\n",
       "      <td>3843.261422</td>\n",
       "      <td>0.949549</td>\n",
       "      <td>0.254121</td>\n",
       "      <td>3842.241092</td>\n",
       "      <td>False</td>\n",
       "      <td>0.0</td>\n",
       "      <td>0.0</td>\n",
       "      <td>3842.241092</td>\n",
       "      <td>cat55</td>\n",
       "    </tr>\n",
       "    <tr>\n",
       "      <th>1</th>\n",
       "      <td>Male</td>\n",
       "      <td>0.0</td>\n",
       "      <td>0.0</td>\n",
       "      <td>0.019178</td>\n",
       "      <td>cat10</td>\n",
       "      <td>0.596179</td>\n",
       "      <td>0.124716</td>\n",
       "      <td>25.192357</td>\n",
       "      <td>562.357915</td>\n",
       "      <td>0.235305</td>\n",
       "      <td>0.812284</td>\n",
       "      <td>561.337585</td>\n",
       "      <td>False</td>\n",
       "      <td>0.0</td>\n",
       "      <td>0.0</td>\n",
       "      <td>561.337585</td>\n",
       "      <td>cat10</td>\n",
       "    </tr>\n",
       "    <tr>\n",
       "      <th>2</th>\n",
       "      <td>Female</td>\n",
       "      <td>0.0</td>\n",
       "      <td>0.0</td>\n",
       "      <td>0.019178</td>\n",
       "      <td>cat48</td>\n",
       "      <td>0.910477</td>\n",
       "      <td>0.563321</td>\n",
       "      <td>37.910477</td>\n",
       "      <td>3281.660311</td>\n",
       "      <td>0.662100</td>\n",
       "      <td>0.099459</td>\n",
       "      <td>3280.639980</td>\n",
       "      <td>False</td>\n",
       "      <td>0.0</td>\n",
       "      <td>0.0</td>\n",
       "      <td>3280.639980</td>\n",
       "      <td>cat48</td>\n",
       "    </tr>\n",
       "    <tr>\n",
       "      <th>3</th>\n",
       "      <td>Female</td>\n",
       "      <td>0.0</td>\n",
       "      <td>0.0</td>\n",
       "      <td>0.019178</td>\n",
       "      <td>cat37</td>\n",
       "      <td>0.039248</td>\n",
       "      <td>0.831040</td>\n",
       "      <td>34.078496</td>\n",
       "      <td>2915.520112</td>\n",
       "      <td>0.788246</td>\n",
       "      <td>0.721583</td>\n",
       "      <td>2914.499782</td>\n",
       "      <td>False</td>\n",
       "      <td>0.0</td>\n",
       "      <td>0.0</td>\n",
       "      <td>2914.499782</td>\n",
       "      <td>cat37</td>\n",
       "    </tr>\n",
       "    <tr>\n",
       "      <th>4</th>\n",
       "      <td>Female</td>\n",
       "      <td>0.0</td>\n",
       "      <td>0.0</td>\n",
       "      <td>0.019178</td>\n",
       "      <td>cat56</td>\n",
       "      <td>0.379006</td>\n",
       "      <td>0.265926</td>\n",
       "      <td>40.758013</td>\n",
       "      <td>4132.963136</td>\n",
       "      <td>0.216607</td>\n",
       "      <td>0.853824</td>\n",
       "      <td>4131.942805</td>\n",
       "      <td>False</td>\n",
       "      <td>0.0</td>\n",
       "      <td>0.0</td>\n",
       "      <td>4131.942805</td>\n",
       "      <td>cat56</td>\n",
       "    </tr>\n",
       "  </tbody>\n",
       "</table>\n",
       "</div>"
      ],
      "text/plain": [
       "                     sex  age  age_start   age_end lbwsg_cat  ga_propensity  \\\n",
       "draw simulant_id                                                              \n",
       "0    0            Female  0.0        0.0  0.019178     cat55       0.215386   \n",
       "     1              Male  0.0        0.0  0.019178     cat10       0.596179   \n",
       "     2            Female  0.0        0.0  0.019178     cat48       0.910477   \n",
       "     3            Female  0.0        0.0  0.019178     cat37       0.039248   \n",
       "     4            Female  0.0        0.0  0.019178     cat56       0.379006   \n",
       "\n",
       "                  bw_propensity  gestational_age  birthweight  \\\n",
       "draw simulant_id                                                \n",
       "0    0                 0.686523        40.430773  3843.261422   \n",
       "     1                 0.124716        25.192357   562.357915   \n",
       "     2                 0.563321        37.910477  3281.660311   \n",
       "     3                 0.831040        34.078496  2915.520112   \n",
       "     4                 0.265926        40.758013  4132.963136   \n",
       "\n",
       "                  iron_fortification_propensity  \\\n",
       "draw simulant_id                                  \n",
       "0    0                                 0.949549   \n",
       "     1                                 0.235305   \n",
       "     2                                 0.662100   \n",
       "     3                                 0.788246   \n",
       "     4                                 0.216607   \n",
       "\n",
       "                  mother_flour_consumption_propensity  \\\n",
       "draw simulant_id                                        \n",
       "0    0                                       0.254121   \n",
       "     1                                       0.812284   \n",
       "     2                                       0.099459   \n",
       "     3                                       0.721583   \n",
       "     4                                       0.853824   \n",
       "\n",
       "                  treatment_deleted_birthweight  mother_is_iron_fortified  \\\n",
       "draw simulant_id                                                            \n",
       "0    0                              3842.241092                     False   \n",
       "     1                               561.337585                     False   \n",
       "     2                              3280.639980                     False   \n",
       "     3                              2914.499782                     False   \n",
       "     4                              4131.942805                     False   \n",
       "\n",
       "                  mother_daily_flour  birthweight_shift  treated_birthweight  \\\n",
       "draw simulant_id                                                               \n",
       "0    0                           0.0                0.0          3842.241092   \n",
       "     1                           0.0                0.0           561.337585   \n",
       "     2                           0.0                0.0          3280.639980   \n",
       "     3                           0.0                0.0          2914.499782   \n",
       "     4                           0.0                0.0          4131.942805   \n",
       "\n",
       "                 treated_lbwsg_cat  \n",
       "draw simulant_id                    \n",
       "0    0                       cat55  \n",
       "     1                       cat10  \n",
       "     2                       cat48  \n",
       "     3                       cat37  \n",
       "     4                       cat56  "
      ]
     },
     "execution_count": 63,
     "metadata": {},
     "output_type": "execute_result"
    }
   ],
   "source": [
    "iron_intervention.assign_treated_birthweight(pop, lbwsg_dist, local_data.eats_fortified)\n",
    "pop.head()"
   ]
  },
  {
   "cell_type": "markdown",
   "metadata": {},
   "source": [
    "# Check means of original birthweight and treated birthweight\n",
    "\n",
    "Woo hoo, they match!"
   ]
  },
  {
   "cell_type": "code",
   "execution_count": 39,
   "metadata": {},
   "outputs": [
    {
     "data": {
      "text/html": [
       "<div>\n",
       "<style scoped>\n",
       "    .dataframe tbody tr th:only-of-type {\n",
       "        vertical-align: middle;\n",
       "    }\n",
       "\n",
       "    .dataframe tbody tr th {\n",
       "        vertical-align: top;\n",
       "    }\n",
       "\n",
       "    .dataframe thead th {\n",
       "        text-align: right;\n",
       "    }\n",
       "</style>\n",
       "<table border=\"1\" class=\"dataframe\">\n",
       "  <thead>\n",
       "    <tr style=\"text-align: right;\">\n",
       "      <th></th>\n",
       "      <th>birthweight</th>\n",
       "      <th>treated_birthweight</th>\n",
       "    </tr>\n",
       "    <tr>\n",
       "      <th>draw</th>\n",
       "      <th></th>\n",
       "      <th></th>\n",
       "    </tr>\n",
       "  </thead>\n",
       "  <tbody>\n",
       "    <tr>\n",
       "      <th>0</th>\n",
       "      <td>3168.091876</td>\n",
       "      <td>3167.887755</td>\n",
       "    </tr>\n",
       "    <tr>\n",
       "      <th>50</th>\n",
       "      <td>3114.587786</td>\n",
       "      <td>3114.546541</td>\n",
       "    </tr>\n",
       "    <tr>\n",
       "      <th>100</th>\n",
       "      <td>3140.939505</td>\n",
       "      <td>3140.846141</td>\n",
       "    </tr>\n",
       "  </tbody>\n",
       "</table>\n",
       "</div>"
      ],
      "text/plain": [
       "      birthweight  treated_birthweight\n",
       "draw                                  \n",
       "0     3168.091876          3167.887755\n",
       "50    3114.587786          3114.546541\n",
       "100   3140.939505          3140.846141"
      ]
     },
     "execution_count": 39,
     "metadata": {},
     "output_type": "execute_result"
    }
   ],
   "source": [
    "pop.groupby('draw')[['birthweight', 'treated_birthweight']].mean()"
   ]
  },
  {
   "cell_type": "markdown",
   "metadata": {},
   "source": [
    "### What about the variance?\n",
    "\n",
    "Hmm, in draw 0, the variance of 'treated_birthweight' is slightly **smaller** than the original. The baseline calibration should cause the variance to **increase**..."
   ]
  },
  {
   "cell_type": "code",
   "execution_count": 60,
   "metadata": {},
   "outputs": [
    {
     "data": {
      "text/html": [
       "<div>\n",
       "<style scoped>\n",
       "    .dataframe tbody tr th:only-of-type {\n",
       "        vertical-align: middle;\n",
       "    }\n",
       "\n",
       "    .dataframe tbody tr th {\n",
       "        vertical-align: top;\n",
       "    }\n",
       "\n",
       "    .dataframe thead th {\n",
       "        text-align: right;\n",
       "    }\n",
       "</style>\n",
       "<table border=\"1\" class=\"dataframe\">\n",
       "  <thead>\n",
       "    <tr style=\"text-align: right;\">\n",
       "      <th></th>\n",
       "      <th>birthweight</th>\n",
       "      <th>treated_birthweight</th>\n",
       "    </tr>\n",
       "    <tr>\n",
       "      <th>draw</th>\n",
       "      <th></th>\n",
       "      <th></th>\n",
       "    </tr>\n",
       "  </thead>\n",
       "  <tbody>\n",
       "    <tr>\n",
       "      <th>0</th>\n",
       "      <td>427459.046168</td>\n",
       "      <td>427348.783980</td>\n",
       "    </tr>\n",
       "    <tr>\n",
       "      <th>50</th>\n",
       "      <td>434225.778092</td>\n",
       "      <td>434229.351428</td>\n",
       "    </tr>\n",
       "    <tr>\n",
       "      <th>100</th>\n",
       "      <td>422132.079709</td>\n",
       "      <td>422222.807704</td>\n",
       "    </tr>\n",
       "  </tbody>\n",
       "</table>\n",
       "</div>"
      ],
      "text/plain": [
       "        birthweight  treated_birthweight\n",
       "draw                                    \n",
       "0     427459.046168        427348.783980\n",
       "50    434225.778092        434229.351428\n",
       "100   422132.079709        422222.807704"
      ]
     },
     "execution_count": 60,
     "metadata": {},
     "output_type": "execute_result"
    }
   ],
   "source": [
    "pop.groupby('draw')[['birthweight', 'treated_birthweight']].var()"
   ]
  },
  {
   "cell_type": "markdown",
   "metadata": {},
   "source": [
    "### Even better, look at the distributions of original (GBD) and treated (baesline-calibrated) birthweight\n",
    "\n",
    "If we had a perfect method of baseline calibration, these two distributions would be identical.\n",
    "\n",
    "With the approximation we're using, the baseline-calibrated distribution will be slightly more spread out."
   ]
  },
  {
   "cell_type": "code",
   "execution_count": 56,
   "metadata": {},
   "outputs": [
    {
     "data": {
      "text/plain": [
       "<matplotlib.axes._subplots.AxesSubplot at 0x2ba22227b710>"
      ]
     },
     "execution_count": 56,
     "metadata": {},
     "output_type": "execute_result"
    },
    {
     "data": {
      "image/png": "[encoded data removed]",
      "text/plain": [
       "<Figure size 432x288 with 1 Axes>"
      ]
     },
     "metadata": {
      "needs_background": "light"
     },
     "output_type": "display_data"
    }
   ],
   "source": [
    "idx=pd.IndexSlice\n",
    "pop.loc[idx[0,:],'birthweight'].hist(bins=50) # Original GBD birthweight distribution"
   ]
  },
  {
   "cell_type": "code",
   "execution_count": 57,
   "metadata": {},
   "outputs": [
    {
     "data": {
      "text/plain": [
       "<matplotlib.axes._subplots.AxesSubplot at 0x2ba31d529cf8>"
      ]
     },
     "execution_count": 57,
     "metadata": {},
     "output_type": "execute_result"
    },
    {
     "data": {
      "image/png": "[encoded data removed]",
      "text/plain": [
       "<Figure size 432x288 with 1 Axes>"
      ]
     },
     "metadata": {
      "needs_background": "light"
     },
     "output_type": "display_data"
    }
   ],
   "source": [
    "pop.loc[idx[0,:], 'treated_birthweight'].hist(bins=50) # Baseline-calibrated birthweight distribution"
   ]
  },
  {
   "cell_type": "markdown",
   "metadata": {},
   "source": [
    "# Time the above steps"
   ]
  },
  {
   "cell_type": "code",
   "execution_count": 45,
   "metadata": {},
   "outputs": [
    {
     "name": "stdout",
     "output_type": "stream",
     "text": [
      "27.1 ms ± 733 µs per loop (mean ± std. dev. of 7 runs, 10 loops each)\n"
     ]
    }
   ],
   "source": [
    "test_pop = lbwsg_boe.initialize_population_table(global_data.draws, 1000)\n",
    "lbwsg_dist.assign_exposure(test_pop)\n",
    "iron_intervention.assign_propensities(test_pop)\n",
    "%timeit iron_intervention.assign_treatment_deleted_birthweight(test_pop, lbwsg_dist, local_data.eats_fortified)"
   ]
  },
  {
   "cell_type": "code",
   "execution_count": 46,
   "metadata": {},
   "outputs": [
    {
     "name": "stdout",
     "output_type": "stream",
     "text": [
      "45.8 ms ± 7.02 ms per loop (mean ± std. dev. of 7 runs, 10 loops each)\n"
     ]
    }
   ],
   "source": [
    "%timeit iron_intervention.assign_treated_birthweight(test_pop, lbwsg_dist, local_data.eats_fortified)"
   ]
  },
  {
   "cell_type": "code",
   "execution_count": 47,
   "metadata": {},
   "outputs": [
    {
     "name": "stdout",
     "output_type": "stream",
     "text": [
      "96.7 ms ± 1.69 ms per loop (mean ± std. dev. of 7 runs, 10 loops each)\n"
     ]
    }
   ],
   "source": [
    "test_pop = lbwsg_boe.initialize_population_table(global_data.draws, 10_000)\n",
    "lbwsg_dist.assign_exposure(test_pop)\n",
    "iron_intervention.assign_propensities(test_pop)\n",
    "%timeit iron_intervention.assign_treatment_deleted_birthweight(test_pop, lbwsg_dist, local_data.eats_fortified)"
   ]
  },
  {
   "cell_type": "code",
   "execution_count": 48,
   "metadata": {},
   "outputs": [
    {
     "name": "stdout",
     "output_type": "stream",
     "text": [
      "113 ms ± 995 µs per loop (mean ± std. dev. of 7 runs, 10 loops each)\n"
     ]
    }
   ],
   "source": [
    "%timeit iron_intervention.assign_treated_birthweight(test_pop, lbwsg_dist, local_data.eats_fortified)"
   ]
  },
  {
   "cell_type": "code",
   "execution_count": 49,
   "metadata": {},
   "outputs": [
    {
     "name": "stdout",
     "output_type": "stream",
     "text": [
      "1 s ± 30.8 ms per loop (mean ± std. dev. of 7 runs, 1 loop each)\n"
     ]
    }
   ],
   "source": [
    "test_pop = lbwsg_boe.initialize_population_table(global_data.draws, 100_000)\n",
    "lbwsg_dist.assign_exposure(test_pop)\n",
    "iron_intervention.assign_propensities(test_pop)\n",
    "%timeit iron_intervention.assign_treatment_deleted_birthweight(test_pop, lbwsg_dist, local_data.eats_fortified)"
   ]
  },
  {
   "cell_type": "code",
   "execution_count": 51,
   "metadata": {},
   "outputs": [
    {
     "name": "stdout",
     "output_type": "stream",
     "text": [
      "1.05 s ± 30.5 ms per loop (mean ± std. dev. of 7 runs, 1 loop each)\n"
     ]
    }
   ],
   "source": [
    "%timeit iron_intervention.assign_treated_birthweight(test_pop, lbwsg_dist, local_data.eats_fortified)"
   ]
  },
  {
   "cell_type": "markdown",
   "metadata": {},
   "source": [
    "# Apply the iron intervention to the intervention population"
   ]
  },
  {
   "cell_type": "code",
   "execution_count": 62,
   "metadata": {},
   "outputs": [
    {
     "data": {
      "text/html": [
       "<div>\n",
       "<style scoped>\n",
       "    .dataframe tbody tr th:only-of-type {\n",
       "        vertical-align: middle;\n",
       "    }\n",
       "\n",
       "    .dataframe tbody tr th {\n",
       "        vertical-align: top;\n",
       "    }\n",
       "\n",
       "    .dataframe thead th {\n",
       "        text-align: right;\n",
       "    }\n",
       "</style>\n",
       "<table border=\"1\" class=\"dataframe\">\n",
       "  <thead>\n",
       "    <tr style=\"text-align: right;\">\n",
       "      <th></th>\n",
       "      <th></th>\n",
       "      <th>sex</th>\n",
       "      <th>age</th>\n",
       "      <th>age_start</th>\n",
       "      <th>age_end</th>\n",
       "      <th>lbwsg_cat</th>\n",
       "      <th>ga_propensity</th>\n",
       "      <th>bw_propensity</th>\n",
       "      <th>gestational_age</th>\n",
       "      <th>birthweight</th>\n",
       "      <th>iron_fortification_propensity</th>\n",
       "      <th>mother_flour_consumption_propensity</th>\n",
       "      <th>treatment_deleted_birthweight</th>\n",
       "      <th>mother_is_iron_fortified</th>\n",
       "      <th>mother_daily_flour</th>\n",
       "      <th>birthweight_shift</th>\n",
       "      <th>treated_birthweight</th>\n",
       "      <th>treated_lbwsg_cat</th>\n",
       "    </tr>\n",
       "    <tr>\n",
       "      <th>draw</th>\n",
       "      <th>simulant_id</th>\n",
       "      <th></th>\n",
       "      <th></th>\n",
       "      <th></th>\n",
       "      <th></th>\n",
       "      <th></th>\n",
       "      <th></th>\n",
       "      <th></th>\n",
       "      <th></th>\n",
       "      <th></th>\n",
       "      <th></th>\n",
       "      <th></th>\n",
       "      <th></th>\n",
       "      <th></th>\n",
       "      <th></th>\n",
       "      <th></th>\n",
       "      <th></th>\n",
       "      <th></th>\n",
       "    </tr>\n",
       "  </thead>\n",
       "  <tbody>\n",
       "    <tr>\n",
       "      <th rowspan=\"5\" valign=\"top\">0</th>\n",
       "      <th>0</th>\n",
       "      <td>Female</td>\n",
       "      <td>0.0</td>\n",
       "      <td>0.0</td>\n",
       "      <td>0.019178</td>\n",
       "      <td>cat55</td>\n",
       "      <td>0.215386</td>\n",
       "      <td>0.686523</td>\n",
       "      <td>40.430773</td>\n",
       "      <td>3843.261422</td>\n",
       "      <td>0.949549</td>\n",
       "      <td>0.254121</td>\n",
       "      <td>3842.241092</td>\n",
       "      <td>False</td>\n",
       "      <td>0.000000</td>\n",
       "      <td>0.000000</td>\n",
       "      <td>3842.241092</td>\n",
       "      <td>cat55</td>\n",
       "    </tr>\n",
       "    <tr>\n",
       "      <th>1</th>\n",
       "      <td>Male</td>\n",
       "      <td>0.0</td>\n",
       "      <td>0.0</td>\n",
       "      <td>0.019178</td>\n",
       "      <td>cat10</td>\n",
       "      <td>0.596179</td>\n",
       "      <td>0.124716</td>\n",
       "      <td>25.192357</td>\n",
       "      <td>562.357915</td>\n",
       "      <td>0.235305</td>\n",
       "      <td>0.812284</td>\n",
       "      <td>561.337585</td>\n",
       "      <td>True</td>\n",
       "      <td>237.495249</td>\n",
       "      <td>21.473695</td>\n",
       "      <td>582.811280</td>\n",
       "      <td>cat10</td>\n",
       "    </tr>\n",
       "    <tr>\n",
       "      <th>2</th>\n",
       "      <td>Female</td>\n",
       "      <td>0.0</td>\n",
       "      <td>0.0</td>\n",
       "      <td>0.019178</td>\n",
       "      <td>cat48</td>\n",
       "      <td>0.910477</td>\n",
       "      <td>0.563321</td>\n",
       "      <td>37.910477</td>\n",
       "      <td>3281.660311</td>\n",
       "      <td>0.662100</td>\n",
       "      <td>0.099459</td>\n",
       "      <td>3280.639980</td>\n",
       "      <td>False</td>\n",
       "      <td>0.000000</td>\n",
       "      <td>0.000000</td>\n",
       "      <td>3280.639980</td>\n",
       "      <td>cat48</td>\n",
       "    </tr>\n",
       "    <tr>\n",
       "      <th>3</th>\n",
       "      <td>Female</td>\n",
       "      <td>0.0</td>\n",
       "      <td>0.0</td>\n",
       "      <td>0.019178</td>\n",
       "      <td>cat37</td>\n",
       "      <td>0.039248</td>\n",
       "      <td>0.831040</td>\n",
       "      <td>34.078496</td>\n",
       "      <td>2915.520112</td>\n",
       "      <td>0.788246</td>\n",
       "      <td>0.721583</td>\n",
       "      <td>2914.499782</td>\n",
       "      <td>False</td>\n",
       "      <td>0.000000</td>\n",
       "      <td>0.000000</td>\n",
       "      <td>2914.499782</td>\n",
       "      <td>cat37</td>\n",
       "    </tr>\n",
       "    <tr>\n",
       "      <th>4</th>\n",
       "      <td>Female</td>\n",
       "      <td>0.0</td>\n",
       "      <td>0.0</td>\n",
       "      <td>0.019178</td>\n",
       "      <td>cat56</td>\n",
       "      <td>0.379006</td>\n",
       "      <td>0.265926</td>\n",
       "      <td>40.758013</td>\n",
       "      <td>4132.963136</td>\n",
       "      <td>0.216607</td>\n",
       "      <td>0.853824</td>\n",
       "      <td>4131.942805</td>\n",
       "      <td>True</td>\n",
       "      <td>262.502059</td>\n",
       "      <td>23.734745</td>\n",
       "      <td>4155.677550</td>\n",
       "      <td>cat56</td>\n",
       "    </tr>\n",
       "  </tbody>\n",
       "</table>\n",
       "</div>"
      ],
      "text/plain": [
       "                     sex  age  age_start   age_end lbwsg_cat  ga_propensity  \\\n",
       "draw simulant_id                                                              \n",
       "0    0            Female  0.0        0.0  0.019178     cat55       0.215386   \n",
       "     1              Male  0.0        0.0  0.019178     cat10       0.596179   \n",
       "     2            Female  0.0        0.0  0.019178     cat48       0.910477   \n",
       "     3            Female  0.0        0.0  0.019178     cat37       0.039248   \n",
       "     4            Female  0.0        0.0  0.019178     cat56       0.379006   \n",
       "\n",
       "                  bw_propensity  gestational_age  birthweight  \\\n",
       "draw simulant_id                                                \n",
       "0    0                 0.686523        40.430773  3843.261422   \n",
       "     1                 0.124716        25.192357   562.357915   \n",
       "     2                 0.563321        37.910477  3281.660311   \n",
       "     3                 0.831040        34.078496  2915.520112   \n",
       "     4                 0.265926        40.758013  4132.963136   \n",
       "\n",
       "                  iron_fortification_propensity  \\\n",
       "draw simulant_id                                  \n",
       "0    0                                 0.949549   \n",
       "     1                                 0.235305   \n",
       "     2                                 0.662100   \n",
       "     3                                 0.788246   \n",
       "     4                                 0.216607   \n",
       "\n",
       "                  mother_flour_consumption_propensity  \\\n",
       "draw simulant_id                                        \n",
       "0    0                                       0.254121   \n",
       "     1                                       0.812284   \n",
       "     2                                       0.099459   \n",
       "     3                                       0.721583   \n",
       "     4                                       0.853824   \n",
       "\n",
       "                  treatment_deleted_birthweight  mother_is_iron_fortified  \\\n",
       "draw simulant_id                                                            \n",
       "0    0                              3842.241092                     False   \n",
       "     1                               561.337585                      True   \n",
       "     2                              3280.639980                     False   \n",
       "     3                              2914.499782                     False   \n",
       "     4                              4131.942805                      True   \n",
       "\n",
       "                  mother_daily_flour  birthweight_shift  treated_birthweight  \\\n",
       "draw simulant_id                                                               \n",
       "0    0                      0.000000           0.000000          3842.241092   \n",
       "     1                    237.495249          21.473695           582.811280   \n",
       "     2                      0.000000           0.000000          3280.639980   \n",
       "     3                      0.000000           0.000000          2914.499782   \n",
       "     4                    262.502059          23.734745          4155.677550   \n",
       "\n",
       "                 treated_lbwsg_cat  \n",
       "draw simulant_id                    \n",
       "0    0                       cat55  \n",
       "     1                       cat10  \n",
       "     2                       cat48  \n",
       "     3                       cat37  \n",
       "     4                       cat56  "
      ]
     },
     "execution_count": 62,
     "metadata": {},
     "output_type": "execute_result"
    }
   ],
   "source": [
    "iron_intervention.assign_treatment_deleted_birthweight(ipop, lbwsg_dist, local_data.eats_fortified)\n",
    "iron_intervention.assign_treated_birthweight(ipop, lbwsg_dist, local_data.eats_fortifiable)\n",
    "ipop.head()"
   ]
  },
  {
   "cell_type": "code",
   "execution_count": 64,
   "metadata": {},
   "outputs": [
    {
     "data": {
      "text/html": [
       "<div>\n",
       "<style scoped>\n",
       "    .dataframe tbody tr th:only-of-type {\n",
       "        vertical-align: middle;\n",
       "    }\n",
       "\n",
       "    .dataframe tbody tr th {\n",
       "        vertical-align: top;\n",
       "    }\n",
       "\n",
       "    .dataframe thead th {\n",
       "        text-align: right;\n",
       "    }\n",
       "</style>\n",
       "<table border=\"1\" class=\"dataframe\">\n",
       "  <thead>\n",
       "    <tr style=\"text-align: right;\">\n",
       "      <th></th>\n",
       "      <th>birthweight</th>\n",
       "      <th>treated_birthweight</th>\n",
       "    </tr>\n",
       "    <tr>\n",
       "      <th>draw</th>\n",
       "      <th></th>\n",
       "      <th></th>\n",
       "    </tr>\n",
       "  </thead>\n",
       "  <tbody>\n",
       "    <tr>\n",
       "      <th>0</th>\n",
       "      <td>3168.091876</td>\n",
       "      <td>3170.117262</td>\n",
       "    </tr>\n",
       "    <tr>\n",
       "      <th>50</th>\n",
       "      <td>3114.587786</td>\n",
       "      <td>3115.447606</td>\n",
       "    </tr>\n",
       "    <tr>\n",
       "      <th>100</th>\n",
       "      <td>3140.939505</td>\n",
       "      <td>3141.777541</td>\n",
       "    </tr>\n",
       "  </tbody>\n",
       "</table>\n",
       "</div>"
      ],
      "text/plain": [
       "      birthweight  treated_birthweight\n",
       "draw                                  \n",
       "0     3168.091876          3170.117262\n",
       "50    3114.587786          3115.447606\n",
       "100   3140.939505          3141.777541"
      ]
     },
     "execution_count": 64,
     "metadata": {},
     "output_type": "execute_result"
    }
   ],
   "source": [
    "ipop.groupby('draw')[['birthweight', 'treated_birthweight']].mean()"
   ]
  },
  {
   "cell_type": "code",
   "execution_count": 65,
   "metadata": {},
   "outputs": [
    {
     "data": {
      "text/html": [
       "<div>\n",
       "<style scoped>\n",
       "    .dataframe tbody tr th:only-of-type {\n",
       "        vertical-align: middle;\n",
       "    }\n",
       "\n",
       "    .dataframe tbody tr th {\n",
       "        vertical-align: top;\n",
       "    }\n",
       "\n",
       "    .dataframe thead th {\n",
       "        text-align: right;\n",
       "    }\n",
       "</style>\n",
       "<table border=\"1\" class=\"dataframe\">\n",
       "  <thead>\n",
       "    <tr style=\"text-align: right;\">\n",
       "      <th></th>\n",
       "      <th>birthweight</th>\n",
       "      <th>treated_birthweight</th>\n",
       "    </tr>\n",
       "    <tr>\n",
       "      <th>draw</th>\n",
       "      <th></th>\n",
       "      <th></th>\n",
       "    </tr>\n",
       "  </thead>\n",
       "  <tbody>\n",
       "    <tr>\n",
       "      <th>0</th>\n",
       "      <td>427459.046168</td>\n",
       "      <td>427686.550863</td>\n",
       "    </tr>\n",
       "    <tr>\n",
       "      <th>50</th>\n",
       "      <td>434225.778092</td>\n",
       "      <td>433999.752598</td>\n",
       "    </tr>\n",
       "    <tr>\n",
       "      <th>100</th>\n",
       "      <td>422132.079709</td>\n",
       "      <td>422169.439216</td>\n",
       "    </tr>\n",
       "  </tbody>\n",
       "</table>\n",
       "</div>"
      ],
      "text/plain": [
       "        birthweight  treated_birthweight\n",
       "draw                                    \n",
       "0     427459.046168        427686.550863\n",
       "50    434225.778092        433999.752598\n",
       "100   422132.079709        422169.439216"
      ]
     },
     "execution_count": 65,
     "metadata": {},
     "output_type": "execute_result"
    }
   ],
   "source": [
    "ipop.groupby('draw')[['birthweight', 'treated_birthweight']].var()"
   ]
  },
  {
   "cell_type": "code",
   "execution_count": 66,
   "metadata": {},
   "outputs": [
    {
     "data": {
      "text/plain": [
       "<matplotlib.axes._subplots.AxesSubplot at 0x2ba2222787f0>"
      ]
     },
     "execution_count": 66,
     "metadata": {},
     "output_type": "execute_result"
    },
    {
     "data": {
      "image/png": "[encoded data removed]",
      "text/plain": [
       "<Figure size 432x288 with 1 Axes>"
      ]
     },
     "metadata": {
      "needs_background": "light"
     },
     "output_type": "display_data"
    }
   ],
   "source": [
    "ipop.loc[idx[0,:],'birthweight'].hist(bins=50) # Original GBD birthweight distribution"
   ]
  },
  {
   "cell_type": "code",
   "execution_count": 67,
   "metadata": {},
   "outputs": [
    {
     "data": {
      "text/plain": [
       "<matplotlib.axes._subplots.AxesSubplot at 0x2ba21bcadcf8>"
      ]
     },
     "execution_count": 67,
     "metadata": {},
     "output_type": "execute_result"
    },
    {
     "data": {
      "image/png": "[encoded data removed]",
      "text/plain": [
       "<Figure size 432x288 with 1 Axes>"
      ]
     },
     "metadata": {
      "needs_background": "light"
     },
     "output_type": "display_data"
    }
   ],
   "source": [
    "ipop.loc[idx[0,:],'treated_birthweight'].hist(bins=50) # Birthweight distribution after iron fortification"
   ]
  },
  {
   "cell_type": "markdown",
   "metadata": {},
   "source": [
    "# Load RR data and create a RiskEffect object"
   ]
  },
  {
   "cell_type": "code",
   "execution_count": 68,
   "metadata": {},
   "outputs": [
    {
     "data": {
      "text/html": [
       "<div>\n",
       "<style scoped>\n",
       "    .dataframe tbody tr th:only-of-type {\n",
       "        vertical-align: middle;\n",
       "    }\n",
       "\n",
       "    .dataframe tbody tr th {\n",
       "        vertical-align: top;\n",
       "    }\n",
       "\n",
       "    .dataframe thead th {\n",
       "        text-align: right;\n",
       "    }\n",
       "</style>\n",
       "<table border=\"1\" class=\"dataframe\">\n",
       "  <thead>\n",
       "    <tr style=\"text-align: right;\">\n",
       "      <th></th>\n",
       "      <th></th>\n",
       "      <th></th>\n",
       "      <th></th>\n",
       "      <th></th>\n",
       "      <th></th>\n",
       "      <th></th>\n",
       "      <th></th>\n",
       "      <th></th>\n",
       "      <th>draw_0</th>\n",
       "      <th>draw_50</th>\n",
       "      <th>draw_100</th>\n",
       "    </tr>\n",
       "    <tr>\n",
       "      <th>location</th>\n",
       "      <th>sex</th>\n",
       "      <th>age_start</th>\n",
       "      <th>age_end</th>\n",
       "      <th>year_start</th>\n",
       "      <th>year_end</th>\n",
       "      <th>affected_entity</th>\n",
       "      <th>affected_measure</th>\n",
       "      <th>parameter</th>\n",
       "      <th></th>\n",
       "      <th></th>\n",
       "      <th></th>\n",
       "    </tr>\n",
       "  </thead>\n",
       "  <tbody>\n",
       "    <tr>\n",
       "      <th rowspan=\"5\" valign=\"top\">Nigeria</th>\n",
       "      <th rowspan=\"5\" valign=\"top\">Female</th>\n",
       "      <th rowspan=\"5\" valign=\"top\">0.0</th>\n",
       "      <th rowspan=\"5\" valign=\"top\">0.019178</th>\n",
       "      <th rowspan=\"5\" valign=\"top\">2017</th>\n",
       "      <th rowspan=\"5\" valign=\"top\">2018</th>\n",
       "      <th rowspan=\"5\" valign=\"top\">all</th>\n",
       "      <th rowspan=\"5\" valign=\"top\">excess_mortality_rate</th>\n",
       "      <th>cat10</th>\n",
       "      <td>968.702386</td>\n",
       "      <td>962.766077</td>\n",
       "      <td>986.670297</td>\n",
       "    </tr>\n",
       "    <tr>\n",
       "      <th>cat106</th>\n",
       "      <td>171.751901</td>\n",
       "      <td>188.269856</td>\n",
       "      <td>149.651946</td>\n",
       "    </tr>\n",
       "    <tr>\n",
       "      <th>cat11</th>\n",
       "      <td>513.870580</td>\n",
       "      <td>543.354131</td>\n",
       "      <td>370.660273</td>\n",
       "    </tr>\n",
       "    <tr>\n",
       "      <th>cat116</th>\n",
       "      <td>182.396469</td>\n",
       "      <td>160.502278</td>\n",
       "      <td>157.668181</td>\n",
       "    </tr>\n",
       "    <tr>\n",
       "      <th>cat117</th>\n",
       "      <td>61.431240</td>\n",
       "      <td>68.416636</td>\n",
       "      <td>53.245802</td>\n",
       "    </tr>\n",
       "  </tbody>\n",
       "</table>\n",
       "</div>"
      ],
      "text/plain": [
       "                                                                                                            draw_0  \\\n",
       "location sex    age_start age_end  year_start year_end affected_entity affected_measure      parameter               \n",
       "Nigeria  Female 0.0       0.019178 2017       2018     all             excess_mortality_rate cat10      968.702386   \n",
       "                                                                                             cat106     171.751901   \n",
       "                                                                                             cat11      513.870580   \n",
       "                                                                                             cat116     182.396469   \n",
       "                                                                                             cat117      61.431240   \n",
       "\n",
       "                                                                                                           draw_50  \\\n",
       "location sex    age_start age_end  year_start year_end affected_entity affected_measure      parameter               \n",
       "Nigeria  Female 0.0       0.019178 2017       2018     all             excess_mortality_rate cat10      962.766077   \n",
       "                                                                                             cat106     188.269856   \n",
       "                                                                                             cat11      543.354131   \n",
       "                                                                                             cat116     160.502278   \n",
       "                                                                                             cat117      68.416636   \n",
       "\n",
       "                                                                                                          draw_100  \n",
       "location sex    age_start age_end  year_start year_end affected_entity affected_measure      parameter              \n",
       "Nigeria  Female 0.0       0.019178 2017       2018     all             excess_mortality_rate cat10      986.670297  \n",
       "                                                                                             cat106     149.651946  \n",
       "                                                                                             cat11      370.660273  \n",
       "                                                                                             cat116     157.668181  \n",
       "                                                                                             cat117      53.245802  "
      ]
     },
     "execution_count": 68,
     "metadata": {},
     "output_type": "execute_result"
    }
   ],
   "source": [
    "rr = lbwsg.read_lbwsg_data(\n",
    "    artifact_path, 'relative_risk', \"age_end < 1\", \"year_start == 2017\", draws=global_data.draws)\n",
    "rr.head()"
   ]
  },
  {
   "cell_type": "code",
   "execution_count": 70,
   "metadata": {},
   "outputs": [],
   "source": [
    "lbwsg_effect = lbwsg.LBWSGRiskEffect(rr, paf_data=None)"
   ]
  },
  {
   "cell_type": "markdown",
   "metadata": {},
   "source": [
    "# Assign relative risks to baseline and intervention populations"
   ]
  },
  {
   "cell_type": "code",
   "execution_count": 71,
   "metadata": {},
   "outputs": [],
   "source": [
    "lbwsg_effect.assign_relative_risk(pop, cat_colname='treated_lbwsg_cat')\n",
    "lbwsg_effect.assign_relative_risk(ipop, cat_colname='treated_lbwsg_cat')"
   ]
  },
  {
   "cell_type": "code",
   "execution_count": 72,
   "metadata": {},
   "outputs": [
    {
     "data": {
      "text/html": [
       "<div>\n",
       "<style scoped>\n",
       "    .dataframe tbody tr th:only-of-type {\n",
       "        vertical-align: middle;\n",
       "    }\n",
       "\n",
       "    .dataframe tbody tr th {\n",
       "        vertical-align: top;\n",
       "    }\n",
       "\n",
       "    .dataframe thead th {\n",
       "        text-align: right;\n",
       "    }\n",
       "</style>\n",
       "<table border=\"1\" class=\"dataframe\">\n",
       "  <thead>\n",
       "    <tr style=\"text-align: right;\">\n",
       "      <th></th>\n",
       "      <th></th>\n",
       "      <th>sex</th>\n",
       "      <th>age</th>\n",
       "      <th>age_start</th>\n",
       "      <th>age_end</th>\n",
       "      <th>lbwsg_cat</th>\n",
       "      <th>ga_propensity</th>\n",
       "      <th>bw_propensity</th>\n",
       "      <th>gestational_age</th>\n",
       "      <th>birthweight</th>\n",
       "      <th>iron_fortification_propensity</th>\n",
       "      <th>mother_flour_consumption_propensity</th>\n",
       "      <th>treatment_deleted_birthweight</th>\n",
       "      <th>mother_is_iron_fortified</th>\n",
       "      <th>mother_daily_flour</th>\n",
       "      <th>birthweight_shift</th>\n",
       "      <th>treated_birthweight</th>\n",
       "      <th>treated_lbwsg_cat</th>\n",
       "      <th>lbwsg_relative_risk</th>\n",
       "    </tr>\n",
       "    <tr>\n",
       "      <th>draw</th>\n",
       "      <th>simulant_id</th>\n",
       "      <th></th>\n",
       "      <th></th>\n",
       "      <th></th>\n",
       "      <th></th>\n",
       "      <th></th>\n",
       "      <th></th>\n",
       "      <th></th>\n",
       "      <th></th>\n",
       "      <th></th>\n",
       "      <th></th>\n",
       "      <th></th>\n",
       "      <th></th>\n",
       "      <th></th>\n",
       "      <th></th>\n",
       "      <th></th>\n",
       "      <th></th>\n",
       "      <th></th>\n",
       "      <th></th>\n",
       "    </tr>\n",
       "  </thead>\n",
       "  <tbody>\n",
       "    <tr>\n",
       "      <th rowspan=\"5\" valign=\"top\">0</th>\n",
       "      <th>0</th>\n",
       "      <td>Female</td>\n",
       "      <td>0.0</td>\n",
       "      <td>0.0</td>\n",
       "      <td>0.019178</td>\n",
       "      <td>cat55</td>\n",
       "      <td>0.215386</td>\n",
       "      <td>0.686523</td>\n",
       "      <td>40.430773</td>\n",
       "      <td>3843.261422</td>\n",
       "      <td>0.949549</td>\n",
       "      <td>0.254121</td>\n",
       "      <td>3842.241092</td>\n",
       "      <td>False</td>\n",
       "      <td>0.0</td>\n",
       "      <td>0.0</td>\n",
       "      <td>3842.241092</td>\n",
       "      <td>cat55</td>\n",
       "      <td>1.000000</td>\n",
       "    </tr>\n",
       "    <tr>\n",
       "      <th>1</th>\n",
       "      <td>Male</td>\n",
       "      <td>0.0</td>\n",
       "      <td>0.0</td>\n",
       "      <td>0.019178</td>\n",
       "      <td>cat10</td>\n",
       "      <td>0.596179</td>\n",
       "      <td>0.124716</td>\n",
       "      <td>25.192357</td>\n",
       "      <td>562.357915</td>\n",
       "      <td>0.235305</td>\n",
       "      <td>0.812284</td>\n",
       "      <td>561.337585</td>\n",
       "      <td>False</td>\n",
       "      <td>0.0</td>\n",
       "      <td>0.0</td>\n",
       "      <td>561.337585</td>\n",
       "      <td>cat10</td>\n",
       "      <td>911.386377</td>\n",
       "    </tr>\n",
       "    <tr>\n",
       "      <th>2</th>\n",
       "      <td>Female</td>\n",
       "      <td>0.0</td>\n",
       "      <td>0.0</td>\n",
       "      <td>0.019178</td>\n",
       "      <td>cat48</td>\n",
       "      <td>0.910477</td>\n",
       "      <td>0.563321</td>\n",
       "      <td>37.910477</td>\n",
       "      <td>3281.660311</td>\n",
       "      <td>0.662100</td>\n",
       "      <td>0.099459</td>\n",
       "      <td>3280.639980</td>\n",
       "      <td>False</td>\n",
       "      <td>0.0</td>\n",
       "      <td>0.0</td>\n",
       "      <td>3280.639980</td>\n",
       "      <td>cat48</td>\n",
       "      <td>1.939473</td>\n",
       "    </tr>\n",
       "    <tr>\n",
       "      <th>3</th>\n",
       "      <td>Female</td>\n",
       "      <td>0.0</td>\n",
       "      <td>0.0</td>\n",
       "      <td>0.019178</td>\n",
       "      <td>cat37</td>\n",
       "      <td>0.039248</td>\n",
       "      <td>0.831040</td>\n",
       "      <td>34.078496</td>\n",
       "      <td>2915.520112</td>\n",
       "      <td>0.788246</td>\n",
       "      <td>0.721583</td>\n",
       "      <td>2914.499782</td>\n",
       "      <td>False</td>\n",
       "      <td>0.0</td>\n",
       "      <td>0.0</td>\n",
       "      <td>2914.499782</td>\n",
       "      <td>cat37</td>\n",
       "      <td>14.255692</td>\n",
       "    </tr>\n",
       "    <tr>\n",
       "      <th>4</th>\n",
       "      <td>Female</td>\n",
       "      <td>0.0</td>\n",
       "      <td>0.0</td>\n",
       "      <td>0.019178</td>\n",
       "      <td>cat56</td>\n",
       "      <td>0.379006</td>\n",
       "      <td>0.265926</td>\n",
       "      <td>40.758013</td>\n",
       "      <td>4132.963136</td>\n",
       "      <td>0.216607</td>\n",
       "      <td>0.853824</td>\n",
       "      <td>4131.942805</td>\n",
       "      <td>False</td>\n",
       "      <td>0.0</td>\n",
       "      <td>0.0</td>\n",
       "      <td>4131.942805</td>\n",
       "      <td>cat56</td>\n",
       "      <td>1.000000</td>\n",
       "    </tr>\n",
       "  </tbody>\n",
       "</table>\n",
       "</div>"
      ],
      "text/plain": [
       "                     sex  age  age_start   age_end lbwsg_cat  ga_propensity  \\\n",
       "draw simulant_id                                                              \n",
       "0    0            Female  0.0        0.0  0.019178     cat55       0.215386   \n",
       "     1              Male  0.0        0.0  0.019178     cat10       0.596179   \n",
       "     2            Female  0.0        0.0  0.019178     cat48       0.910477   \n",
       "     3            Female  0.0        0.0  0.019178     cat37       0.039248   \n",
       "     4            Female  0.0        0.0  0.019178     cat56       0.379006   \n",
       "\n",
       "                  bw_propensity  gestational_age  birthweight  \\\n",
       "draw simulant_id                                                \n",
       "0    0                 0.686523        40.430773  3843.261422   \n",
       "     1                 0.124716        25.192357   562.357915   \n",
       "     2                 0.563321        37.910477  3281.660311   \n",
       "     3                 0.831040        34.078496  2915.520112   \n",
       "     4                 0.265926        40.758013  4132.963136   \n",
       "\n",
       "                  iron_fortification_propensity  \\\n",
       "draw simulant_id                                  \n",
       "0    0                                 0.949549   \n",
       "     1                                 0.235305   \n",
       "     2                                 0.662100   \n",
       "     3                                 0.788246   \n",
       "     4                                 0.216607   \n",
       "\n",
       "                  mother_flour_consumption_propensity  \\\n",
       "draw simulant_id                                        \n",
       "0    0                                       0.254121   \n",
       "     1                                       0.812284   \n",
       "     2                                       0.099459   \n",
       "     3                                       0.721583   \n",
       "     4                                       0.853824   \n",
       "\n",
       "                  treatment_deleted_birthweight  mother_is_iron_fortified  \\\n",
       "draw simulant_id                                                            \n",
       "0    0                              3842.241092                     False   \n",
       "     1                               561.337585                     False   \n",
       "     2                              3280.639980                     False   \n",
       "     3                              2914.499782                     False   \n",
       "     4                              4131.942805                     False   \n",
       "\n",
       "                  mother_daily_flour  birthweight_shift  treated_birthweight  \\\n",
       "draw simulant_id                                                               \n",
       "0    0                           0.0                0.0          3842.241092   \n",
       "     1                           0.0                0.0           561.337585   \n",
       "     2                           0.0                0.0          3280.639980   \n",
       "     3                           0.0                0.0          2914.499782   \n",
       "     4                           0.0                0.0          4131.942805   \n",
       "\n",
       "                 treated_lbwsg_cat  lbwsg_relative_risk  \n",
       "draw simulant_id                                         \n",
       "0    0                       cat55             1.000000  \n",
       "     1                       cat10           911.386377  \n",
       "     2                       cat48             1.939473  \n",
       "     3                       cat37            14.255692  \n",
       "     4                       cat56             1.000000  "
      ]
     },
     "execution_count": 72,
     "metadata": {},
     "output_type": "execute_result"
    }
   ],
   "source": [
    "pop.head()"
   ]
  },
  {
   "cell_type": "code",
   "execution_count": 73,
   "metadata": {},
   "outputs": [
    {
     "data": {
      "text/html": [
       "<div>\n",
       "<style scoped>\n",
       "    .dataframe tbody tr th:only-of-type {\n",
       "        vertical-align: middle;\n",
       "    }\n",
       "\n",
       "    .dataframe tbody tr th {\n",
       "        vertical-align: top;\n",
       "    }\n",
       "\n",
       "    .dataframe thead th {\n",
       "        text-align: right;\n",
       "    }\n",
       "</style>\n",
       "<table border=\"1\" class=\"dataframe\">\n",
       "  <thead>\n",
       "    <tr style=\"text-align: right;\">\n",
       "      <th></th>\n",
       "      <th></th>\n",
       "      <th>sex</th>\n",
       "      <th>age</th>\n",
       "      <th>age_start</th>\n",
       "      <th>age_end</th>\n",
       "      <th>lbwsg_cat</th>\n",
       "      <th>ga_propensity</th>\n",
       "      <th>bw_propensity</th>\n",
       "      <th>gestational_age</th>\n",
       "      <th>birthweight</th>\n",
       "      <th>iron_fortification_propensity</th>\n",
       "      <th>mother_flour_consumption_propensity</th>\n",
       "      <th>treatment_deleted_birthweight</th>\n",
       "      <th>mother_is_iron_fortified</th>\n",
       "      <th>mother_daily_flour</th>\n",
       "      <th>birthweight_shift</th>\n",
       "      <th>treated_birthweight</th>\n",
       "      <th>treated_lbwsg_cat</th>\n",
       "      <th>lbwsg_relative_risk</th>\n",
       "    </tr>\n",
       "    <tr>\n",
       "      <th>draw</th>\n",
       "      <th>simulant_id</th>\n",
       "      <th></th>\n",
       "      <th></th>\n",
       "      <th></th>\n",
       "      <th></th>\n",
       "      <th></th>\n",
       "      <th></th>\n",
       "      <th></th>\n",
       "      <th></th>\n",
       "      <th></th>\n",
       "      <th></th>\n",
       "      <th></th>\n",
       "      <th></th>\n",
       "      <th></th>\n",
       "      <th></th>\n",
       "      <th></th>\n",
       "      <th></th>\n",
       "      <th></th>\n",
       "      <th></th>\n",
       "    </tr>\n",
       "  </thead>\n",
       "  <tbody>\n",
       "    <tr>\n",
       "      <th rowspan=\"5\" valign=\"top\">0</th>\n",
       "      <th>0</th>\n",
       "      <td>Female</td>\n",
       "      <td>0.0</td>\n",
       "      <td>0.0</td>\n",
       "      <td>0.019178</td>\n",
       "      <td>cat55</td>\n",
       "      <td>0.215386</td>\n",
       "      <td>0.686523</td>\n",
       "      <td>40.430773</td>\n",
       "      <td>3843.261422</td>\n",
       "      <td>0.949549</td>\n",
       "      <td>0.254121</td>\n",
       "      <td>3842.241092</td>\n",
       "      <td>False</td>\n",
       "      <td>0.000000</td>\n",
       "      <td>0.000000</td>\n",
       "      <td>3842.241092</td>\n",
       "      <td>cat55</td>\n",
       "      <td>1.000000</td>\n",
       "    </tr>\n",
       "    <tr>\n",
       "      <th>1</th>\n",
       "      <td>Male</td>\n",
       "      <td>0.0</td>\n",
       "      <td>0.0</td>\n",
       "      <td>0.019178</td>\n",
       "      <td>cat10</td>\n",
       "      <td>0.596179</td>\n",
       "      <td>0.124716</td>\n",
       "      <td>25.192357</td>\n",
       "      <td>562.357915</td>\n",
       "      <td>0.235305</td>\n",
       "      <td>0.812284</td>\n",
       "      <td>561.337585</td>\n",
       "      <td>True</td>\n",
       "      <td>237.495249</td>\n",
       "      <td>21.473695</td>\n",
       "      <td>582.811280</td>\n",
       "      <td>cat10</td>\n",
       "      <td>911.386377</td>\n",
       "    </tr>\n",
       "    <tr>\n",
       "      <th>2</th>\n",
       "      <td>Female</td>\n",
       "      <td>0.0</td>\n",
       "      <td>0.0</td>\n",
       "      <td>0.019178</td>\n",
       "      <td>cat48</td>\n",
       "      <td>0.910477</td>\n",
       "      <td>0.563321</td>\n",
       "      <td>37.910477</td>\n",
       "      <td>3281.660311</td>\n",
       "      <td>0.662100</td>\n",
       "      <td>0.099459</td>\n",
       "      <td>3280.639980</td>\n",
       "      <td>False</td>\n",
       "      <td>0.000000</td>\n",
       "      <td>0.000000</td>\n",
       "      <td>3280.639980</td>\n",
       "      <td>cat48</td>\n",
       "      <td>1.939473</td>\n",
       "    </tr>\n",
       "    <tr>\n",
       "      <th>3</th>\n",
       "      <td>Female</td>\n",
       "      <td>0.0</td>\n",
       "      <td>0.0</td>\n",
       "      <td>0.019178</td>\n",
       "      <td>cat37</td>\n",
       "      <td>0.039248</td>\n",
       "      <td>0.831040</td>\n",
       "      <td>34.078496</td>\n",
       "      <td>2915.520112</td>\n",
       "      <td>0.788246</td>\n",
       "      <td>0.721583</td>\n",
       "      <td>2914.499782</td>\n",
       "      <td>False</td>\n",
       "      <td>0.000000</td>\n",
       "      <td>0.000000</td>\n",
       "      <td>2914.499782</td>\n",
       "      <td>cat37</td>\n",
       "      <td>14.255692</td>\n",
       "    </tr>\n",
       "    <tr>\n",
       "      <th>4</th>\n",
       "      <td>Female</td>\n",
       "      <td>0.0</td>\n",
       "      <td>0.0</td>\n",
       "      <td>0.019178</td>\n",
       "      <td>cat56</td>\n",
       "      <td>0.379006</td>\n",
       "      <td>0.265926</td>\n",
       "      <td>40.758013</td>\n",
       "      <td>4132.963136</td>\n",
       "      <td>0.216607</td>\n",
       "      <td>0.853824</td>\n",
       "      <td>4131.942805</td>\n",
       "      <td>True</td>\n",
       "      <td>262.502059</td>\n",
       "      <td>23.734745</td>\n",
       "      <td>4155.677550</td>\n",
       "      <td>cat56</td>\n",
       "      <td>1.000000</td>\n",
       "    </tr>\n",
       "  </tbody>\n",
       "</table>\n",
       "</div>"
      ],
      "text/plain": [
       "                     sex  age  age_start   age_end lbwsg_cat  ga_propensity  \\\n",
       "draw simulant_id                                                              \n",
       "0    0            Female  0.0        0.0  0.019178     cat55       0.215386   \n",
       "     1              Male  0.0        0.0  0.019178     cat10       0.596179   \n",
       "     2            Female  0.0        0.0  0.019178     cat48       0.910477   \n",
       "     3            Female  0.0        0.0  0.019178     cat37       0.039248   \n",
       "     4            Female  0.0        0.0  0.019178     cat56       0.379006   \n",
       "\n",
       "                  bw_propensity  gestational_age  birthweight  \\\n",
       "draw simulant_id                                                \n",
       "0    0                 0.686523        40.430773  3843.261422   \n",
       "     1                 0.124716        25.192357   562.357915   \n",
       "     2                 0.563321        37.910477  3281.660311   \n",
       "     3                 0.831040        34.078496  2915.520112   \n",
       "     4                 0.265926        40.758013  4132.963136   \n",
       "\n",
       "                  iron_fortification_propensity  \\\n",
       "draw simulant_id                                  \n",
       "0    0                                 0.949549   \n",
       "     1                                 0.235305   \n",
       "     2                                 0.662100   \n",
       "     3                                 0.788246   \n",
       "     4                                 0.216607   \n",
       "\n",
       "                  mother_flour_consumption_propensity  \\\n",
       "draw simulant_id                                        \n",
       "0    0                                       0.254121   \n",
       "     1                                       0.812284   \n",
       "     2                                       0.099459   \n",
       "     3                                       0.721583   \n",
       "     4                                       0.853824   \n",
       "\n",
       "                  treatment_deleted_birthweight  mother_is_iron_fortified  \\\n",
       "draw simulant_id                                                            \n",
       "0    0                              3842.241092                     False   \n",
       "     1                               561.337585                      True   \n",
       "     2                              3280.639980                     False   \n",
       "     3                              2914.499782                     False   \n",
       "     4                              4131.942805                      True   \n",
       "\n",
       "                  mother_daily_flour  birthweight_shift  treated_birthweight  \\\n",
       "draw simulant_id                                                               \n",
       "0    0                      0.000000           0.000000          3842.241092   \n",
       "     1                    237.495249          21.473695           582.811280   \n",
       "     2                      0.000000           0.000000          3280.639980   \n",
       "     3                      0.000000           0.000000          2914.499782   \n",
       "     4                    262.502059          23.734745          4155.677550   \n",
       "\n",
       "                 treated_lbwsg_cat  lbwsg_relative_risk  \n",
       "draw simulant_id                                         \n",
       "0    0                       cat55             1.000000  \n",
       "     1                       cat10           911.386377  \n",
       "     2                       cat48             1.939473  \n",
       "     3                       cat37            14.255692  \n",
       "     4                       cat56             1.000000  "
      ]
     },
     "execution_count": 73,
     "metadata": {},
     "output_type": "execute_result"
    }
   ],
   "source": [
    "ipop.head()"
   ]
  },
  {
   "cell_type": "markdown",
   "metadata": {},
   "source": [
    "# Time the code for assigning relative risks"
   ]
  },
  {
   "cell_type": "code",
   "execution_count": 74,
   "metadata": {},
   "outputs": [
    {
     "data": {
      "text/plain": [
       "(300000, 17)"
      ]
     },
     "execution_count": 74,
     "metadata": {},
     "output_type": "execute_result"
    }
   ],
   "source": [
    "test_pop.shape"
   ]
  },
  {
   "cell_type": "code",
   "execution_count": 75,
   "metadata": {},
   "outputs": [
    {
     "name": "stdout",
     "output_type": "stream",
     "text": [
      "935 ms ± 124 ms per loop (mean ± std. dev. of 7 runs, 1 loop each)\n"
     ]
    }
   ],
   "source": [
    "%timeit lbwsg_effect.assign_relative_risk(test_pop, cat_colname='treated_lbwsg_cat')"
   ]
  },
  {
   "cell_type": "markdown",
   "metadata": {},
   "source": [
    "# Compute the PIF"
   ]
  },
  {
   "cell_type": "code",
   "execution_count": 76,
   "metadata": {},
   "outputs": [
    {
     "data": {
      "text/plain": [
       "(3000, 18)"
      ]
     },
     "execution_count": 76,
     "metadata": {},
     "output_type": "execute_result"
    }
   ],
   "source": [
    "pop.shape"
   ]
  },
  {
   "cell_type": "code",
   "execution_count": 77,
   "metadata": {},
   "outputs": [
    {
     "data": {
      "text/plain": [
       "draw\n",
       "0     -0.000370\n",
       "50     0.000043\n",
       "100    0.000000\n",
       "Name: lbwsg_relative_risk, dtype: float64"
      ]
     },
     "execution_count": 77,
     "metadata": {},
     "output_type": "execute_result"
    }
   ],
   "source": [
    "pif = lbwsg_boe.population_impact_fraction(pop, ipop, 'lbwsg_relative_risk')\n",
    "pif"
   ]
  },
  {
   "cell_type": "code",
   "execution_count": null,
   "metadata": {},
   "outputs": [],
   "source": []
  }
 ],
 "metadata": {
  "kernelspec": {
   "display_name": "Python 3",
   "language": "python",
   "name": "python3"
  },
  "language_info": {
   "codemirror_mode": {
    "name": "ipython",
    "version": 3
   },
   "file_extension": ".py",
   "mimetype": "text/x-python",
   "name": "python",
   "nbconvert_exporter": "python",
   "pygments_lexer": "ipython3",
   "version": "3.6.10"
  }
 },
 "nbformat": 4,
 "nbformat_minor": 4
}
