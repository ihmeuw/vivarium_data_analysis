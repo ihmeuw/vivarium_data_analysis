{
 "cells": [
  {
   "cell_type": "code",
   "execution_count": 1,
   "metadata": {},
   "outputs": [
    {
     "name": "stdout",
     "output_type": "stream",
     "text": [
      "ndbs\n",
      "Wed Dec  2 15:03:04 PST 2020\n"
     ]
    }
   ],
   "source": [
    "import pandas as pd, numpy as np\n",
    "import lbwsg\n",
    "import lbwsg_boe\n",
    "import lsff_interventions\n",
    "\n",
    "!whoami\n",
    "!date"
   ]
  },
  {
   "cell_type": "code",
   "execution_count": 2,
   "metadata": {},
   "outputs": [],
   "source": [
    "%load_ext autoreload\n",
    "%autoreload 2"
   ]
  },
  {
   "cell_type": "markdown",
   "metadata": {},
   "source": [
    "# Define artifact path"
   ]
  },
  {
   "cell_type": "code",
   "execution_count": 3,
   "metadata": {},
   "outputs": [],
   "source": [
    "artifact_dir = '/share/costeffectiveness/artifacts/vivarium_conic_lsff/'\n",
    "artifact_path = artifact_dir+'nigeria.hdf'"
   ]
  },
  {
   "cell_type": "markdown",
   "metadata": {},
   "source": [
    "# Create a Calculator object, initialize baseline and intervention populations of 100 simulants, and compute the PIF\n",
    "\n",
    "Ths PIF is very small, and only shows up in one of three draws with a population of 100."
   ]
  },
  {
   "cell_type": "code",
   "execution_count": 68,
   "metadata": {},
   "outputs": [],
   "source": [
    "# Use 3 draws for testing\n",
    "draws = [0,50,100]"
   ]
  },
  {
   "cell_type": "code",
   "execution_count": 27,
   "metadata": {},
   "outputs": [],
   "source": [
    "calc = lbwsg_boe.IronBirthweightCalculator('Nigeria', artifact_path, 2017, draws)"
   ]
  },
  {
   "cell_type": "code",
   "execution_count": 28,
   "metadata": {},
   "outputs": [],
   "source": [
    "bp, ip = calc.initialize_population_tables(100)"
   ]
  },
  {
   "cell_type": "code",
   "execution_count": 29,
   "metadata": {},
   "outputs": [
    {
     "data": {
      "text/html": [
       "<div>\n",
       "<style scoped>\n",
       "    .dataframe tbody tr th:only-of-type {\n",
       "        vertical-align: middle;\n",
       "    }\n",
       "\n",
       "    .dataframe tbody tr th {\n",
       "        vertical-align: top;\n",
       "    }\n",
       "\n",
       "    .dataframe thead th {\n",
       "        text-align: right;\n",
       "    }\n",
       "</style>\n",
       "<table border=\"1\" class=\"dataframe\">\n",
       "  <thead>\n",
       "    <tr style=\"text-align: right;\">\n",
       "      <th></th>\n",
       "      <th></th>\n",
       "      <th>sex</th>\n",
       "      <th>age</th>\n",
       "      <th>age_start</th>\n",
       "      <th>age_end</th>\n",
       "      <th>iron_fortification_propensity</th>\n",
       "      <th>lbwsg_cat</th>\n",
       "      <th>ga_propensity</th>\n",
       "      <th>bw_propensity</th>\n",
       "      <th>gestational_age</th>\n",
       "      <th>birthweight</th>\n",
       "      <th>treatment_deleted_birthweight</th>\n",
       "      <th>mother_is_iron_fortified</th>\n",
       "      <th>mother_daily_flour</th>\n",
       "      <th>birthweight_shift</th>\n",
       "      <th>treated_birthweight</th>\n",
       "      <th>treated_lbwsg_cat</th>\n",
       "      <th>lbwsg_relative_risk</th>\n",
       "    </tr>\n",
       "    <tr>\n",
       "      <th>draw</th>\n",
       "      <th>simulant_id</th>\n",
       "      <th></th>\n",
       "      <th></th>\n",
       "      <th></th>\n",
       "      <th></th>\n",
       "      <th></th>\n",
       "      <th></th>\n",
       "      <th></th>\n",
       "      <th></th>\n",
       "      <th></th>\n",
       "      <th></th>\n",
       "      <th></th>\n",
       "      <th></th>\n",
       "      <th></th>\n",
       "      <th></th>\n",
       "      <th></th>\n",
       "      <th></th>\n",
       "      <th></th>\n",
       "    </tr>\n",
       "  </thead>\n",
       "  <tbody>\n",
       "    <tr>\n",
       "      <th rowspan=\"5\" valign=\"top\">0</th>\n",
       "      <th>0</th>\n",
       "      <td>Male</td>\n",
       "      <td>0.0</td>\n",
       "      <td>0.0</td>\n",
       "      <td>0.019178</td>\n",
       "      <td>0.720809</td>\n",
       "      <td>cat44</td>\n",
       "      <td>0.242089</td>\n",
       "      <td>0.498989</td>\n",
       "      <td>38.484178</td>\n",
       "      <td>2749.494647</td>\n",
       "      <td>2749.072562</td>\n",
       "      <td>False</td>\n",
       "      <td>0.0</td>\n",
       "      <td>0.0</td>\n",
       "      <td>2749.072562</td>\n",
       "      <td>cat44</td>\n",
       "      <td>2.880156</td>\n",
       "    </tr>\n",
       "    <tr>\n",
       "      <th>1</th>\n",
       "      <td>Male</td>\n",
       "      <td>0.0</td>\n",
       "      <td>0.0</td>\n",
       "      <td>0.019178</td>\n",
       "      <td>0.945052</td>\n",
       "      <td>cat44</td>\n",
       "      <td>0.614174</td>\n",
       "      <td>0.078850</td>\n",
       "      <td>39.228348</td>\n",
       "      <td>2539.424849</td>\n",
       "      <td>2539.002764</td>\n",
       "      <td>False</td>\n",
       "      <td>0.0</td>\n",
       "      <td>0.0</td>\n",
       "      <td>2539.002764</td>\n",
       "      <td>cat44</td>\n",
       "      <td>2.880156</td>\n",
       "    </tr>\n",
       "    <tr>\n",
       "      <th>2</th>\n",
       "      <td>Male</td>\n",
       "      <td>0.0</td>\n",
       "      <td>0.0</td>\n",
       "      <td>0.019178</td>\n",
       "      <td>0.430046</td>\n",
       "      <td>cat55</td>\n",
       "      <td>0.909457</td>\n",
       "      <td>0.173870</td>\n",
       "      <td>41.818914</td>\n",
       "      <td>3586.935053</td>\n",
       "      <td>3586.512968</td>\n",
       "      <td>False</td>\n",
       "      <td>0.0</td>\n",
       "      <td>0.0</td>\n",
       "      <td>3586.512968</td>\n",
       "      <td>cat55</td>\n",
       "      <td>1.000000</td>\n",
       "    </tr>\n",
       "    <tr>\n",
       "      <th>3</th>\n",
       "      <td>Female</td>\n",
       "      <td>0.0</td>\n",
       "      <td>0.0</td>\n",
       "      <td>0.019178</td>\n",
       "      <td>0.801278</td>\n",
       "      <td>cat56</td>\n",
       "      <td>0.452752</td>\n",
       "      <td>0.886064</td>\n",
       "      <td>40.905504</td>\n",
       "      <td>4443.031969</td>\n",
       "      <td>4442.609885</td>\n",
       "      <td>False</td>\n",
       "      <td>0.0</td>\n",
       "      <td>0.0</td>\n",
       "      <td>4442.609885</td>\n",
       "      <td>cat56</td>\n",
       "      <td>1.000000</td>\n",
       "    </tr>\n",
       "    <tr>\n",
       "      <th>4</th>\n",
       "      <td>Female</td>\n",
       "      <td>0.0</td>\n",
       "      <td>0.0</td>\n",
       "      <td>0.019178</td>\n",
       "      <td>0.909069</td>\n",
       "      <td>cat55</td>\n",
       "      <td>0.044344</td>\n",
       "      <td>0.481049</td>\n",
       "      <td>40.088688</td>\n",
       "      <td>3740.524390</td>\n",
       "      <td>3740.102305</td>\n",
       "      <td>False</td>\n",
       "      <td>0.0</td>\n",
       "      <td>0.0</td>\n",
       "      <td>3740.102305</td>\n",
       "      <td>cat55</td>\n",
       "      <td>1.000000</td>\n",
       "    </tr>\n",
       "  </tbody>\n",
       "</table>\n",
       "</div>"
      ],
      "text/plain": [
       "                     sex  age  age_start   age_end  \\\n",
       "draw simulant_id                                     \n",
       "0    0              Male  0.0        0.0  0.019178   \n",
       "     1              Male  0.0        0.0  0.019178   \n",
       "     2              Male  0.0        0.0  0.019178   \n",
       "     3            Female  0.0        0.0  0.019178   \n",
       "     4            Female  0.0        0.0  0.019178   \n",
       "\n",
       "                  iron_fortification_propensity lbwsg_cat  ga_propensity  \\\n",
       "draw simulant_id                                                           \n",
       "0    0                                 0.720809     cat44       0.242089   \n",
       "     1                                 0.945052     cat44       0.614174   \n",
       "     2                                 0.430046     cat55       0.909457   \n",
       "     3                                 0.801278     cat56       0.452752   \n",
       "     4                                 0.909069     cat55       0.044344   \n",
       "\n",
       "                  bw_propensity  gestational_age  birthweight  \\\n",
       "draw simulant_id                                                \n",
       "0    0                 0.498989        38.484178  2749.494647   \n",
       "     1                 0.078850        39.228348  2539.424849   \n",
       "     2                 0.173870        41.818914  3586.935053   \n",
       "     3                 0.886064        40.905504  4443.031969   \n",
       "     4                 0.481049        40.088688  3740.524390   \n",
       "\n",
       "                  treatment_deleted_birthweight  mother_is_iron_fortified  \\\n",
       "draw simulant_id                                                            \n",
       "0    0                              2749.072562                     False   \n",
       "     1                              2539.002764                     False   \n",
       "     2                              3586.512968                     False   \n",
       "     3                              4442.609885                     False   \n",
       "     4                              3740.102305                     False   \n",
       "\n",
       "                  mother_daily_flour  birthweight_shift  treated_birthweight  \\\n",
       "draw simulant_id                                                               \n",
       "0    0                           0.0                0.0          2749.072562   \n",
       "     1                           0.0                0.0          2539.002764   \n",
       "     2                           0.0                0.0          3586.512968   \n",
       "     3                           0.0                0.0          4442.609885   \n",
       "     4                           0.0                0.0          3740.102305   \n",
       "\n",
       "                 treated_lbwsg_cat  lbwsg_relative_risk  \n",
       "draw simulant_id                                         \n",
       "0    0                       cat44             2.880156  \n",
       "     1                       cat44             2.880156  \n",
       "     2                       cat55             1.000000  \n",
       "     3                       cat56             1.000000  \n",
       "     4                       cat55             1.000000  "
      ]
     },
     "execution_count": 29,
     "metadata": {},
     "output_type": "execute_result"
    }
   ],
   "source": [
    "bp.head()"
   ]
  },
  {
   "cell_type": "code",
   "execution_count": 30,
   "metadata": {},
   "outputs": [
    {
     "data": {
      "text/plain": [
       "draw\n",
       "0      0.000021\n",
       "50     0.000000\n",
       "100    0.000000\n",
       "Name: lbwsg_relative_risk, dtype: float64"
      ]
     },
     "execution_count": 30,
     "metadata": {},
     "output_type": "execute_result"
    }
   ],
   "source": [
    "pif = lbwsg_boe.population_impact_fraction(bp, ip, 'lbwsg_relative_risk')\n",
    "pif"
   ]
  },
  {
   "cell_type": "markdown",
   "metadata": {},
   "source": [
    "## Hmm, sometimes the birthweight is larger in baseline than intervention\n",
    "\n",
    "This must be because we're not using common random numbers."
   ]
  },
  {
   "cell_type": "code",
   "execution_count": 31,
   "metadata": {},
   "outputs": [
    {
     "data": {
      "text/plain": [
       "(77, 17)"
      ]
     },
     "execution_count": 31,
     "metadata": {},
     "output_type": "execute_result"
    }
   ],
   "source": [
    "ip.loc[ip.treated_birthweight>bp.treated_birthweight].shape"
   ]
  },
  {
   "cell_type": "code",
   "execution_count": 32,
   "metadata": {},
   "outputs": [
    {
     "data": {
      "text/plain": [
       "(223, 17)"
      ]
     },
     "execution_count": 32,
     "metadata": {},
     "output_type": "execute_result"
    }
   ],
   "source": [
    "ip.loc[ip.treated_birthweight<bp.treated_birthweight].shape"
   ]
  },
  {
   "cell_type": "code",
   "execution_count": 33,
   "metadata": {},
   "outputs": [
    {
     "data": {
      "text/plain": [
       "3208.273029199195"
      ]
     },
     "execution_count": 33,
     "metadata": {},
     "output_type": "execute_result"
    }
   ],
   "source": [
    "ip.treated_birthweight.mean()"
   ]
  },
  {
   "cell_type": "code",
   "execution_count": 34,
   "metadata": {},
   "outputs": [
    {
     "data": {
      "text/plain": [
       "3205.881646408204"
      ]
     },
     "execution_count": 34,
     "metadata": {},
     "output_type": "execute_result"
    }
   ],
   "source": [
    "bp.treated_birthweight.mean()"
   ]
  },
  {
   "cell_type": "code",
   "execution_count": 35,
   "metadata": {},
   "outputs": [
    {
     "data": {
      "text/plain": [
       "35"
      ]
     },
     "execution_count": 35,
     "metadata": {},
     "output_type": "execute_result"
    }
   ],
   "source": [
    "bp.mother_is_iron_fortified.sum()"
   ]
  },
  {
   "cell_type": "code",
   "execution_count": 36,
   "metadata": {},
   "outputs": [
    {
     "data": {
      "text/plain": [
       "87"
      ]
     },
     "execution_count": 36,
     "metadata": {},
     "output_type": "execute_result"
    }
   ],
   "source": [
    "ip.mother_is_iron_fortified.sum()"
   ]
  },
  {
   "cell_type": "markdown",
   "metadata": {},
   "source": [
    "# Check the runtime for some larger populations\n",
    "\n",
    "The code is surprisingly slow for large populations...\n",
    "\n",
    "I'm guessing the slowest piece will be the `apply_birthweight_shift` function in the `LBWSGDistribution` class, but I haven't tested this."
   ]
  },
  {
   "cell_type": "code",
   "execution_count": 42,
   "metadata": {},
   "outputs": [
    {
     "name": "stdout",
     "output_type": "stream",
     "text": [
      "221 ms ± 10.1 ms per loop (mean ± std. dev. of 7 runs, 1 loop each)\n"
     ]
    }
   ],
   "source": [
    "%timeit calc.initialize_population_tables(100)"
   ]
  },
  {
   "cell_type": "code",
   "execution_count": 44,
   "metadata": {},
   "outputs": [
    {
     "name": "stdout",
     "output_type": "stream",
     "text": [
      "391 ms ± 15.6 ms per loop (mean ± std. dev. of 7 runs, 1 loop each)\n"
     ]
    }
   ],
   "source": [
    "%timeit calc.initialize_population_tables(1000)"
   ]
  },
  {
   "cell_type": "code",
   "execution_count": 41,
   "metadata": {},
   "outputs": [
    {
     "name": "stdout",
     "output_type": "stream",
     "text": [
      "2.03 s ± 17.2 ms per loop (mean ± std. dev. of 7 runs, 1 loop each)\n"
     ]
    }
   ],
   "source": [
    "%timeit calc.initialize_population_tables(10_000)"
   ]
  },
  {
   "cell_type": "code",
   "execution_count": 48,
   "metadata": {},
   "outputs": [
    {
     "name": "stdout",
     "output_type": "stream",
     "text": [
      "21.5 s ± 340 ms per loop (mean ± std. dev. of 7 runs, 1 loop each)\n"
     ]
    }
   ],
   "source": [
    "%timeit calc.initialize_population_tables(100_000)"
   ]
  },
  {
   "cell_type": "markdown",
   "metadata": {},
   "source": [
    "## Estimate runtime per draw per 100,000 simulants\n",
    "\n",
    "Based on the largest population, it looks like it's about 7 seconds per draw per 100,000 simulants"
   ]
  },
  {
   "cell_type": "code",
   "execution_count": 61,
   "metadata": {},
   "outputs": [
    {
     "data": {
      "text/plain": [
       "7.166666666666667"
      ]
     },
     "execution_count": 61,
     "metadata": {},
     "output_type": "execute_result"
    }
   ],
   "source": [
    "21.5/3"
   ]
  },
  {
   "cell_type": "code",
   "execution_count": 62,
   "metadata": {},
   "outputs": [
    {
     "data": {
      "text/plain": [
       "6.766666666666667"
      ]
     },
     "execution_count": 62,
     "metadata": {},
     "output_type": "execute_result"
    }
   ],
   "source": [
    "2.03/3*10"
   ]
  },
  {
   "cell_type": "code",
   "execution_count": 64,
   "metadata": {},
   "outputs": [
    {
     "data": {
      "text/plain": [
       "13.033333333333333"
      ]
     },
     "execution_count": 64,
     "metadata": {},
     "output_type": "execute_result"
    }
   ],
   "source": [
    "391/1000/3*100"
   ]
  },
  {
   "cell_type": "code",
   "execution_count": 65,
   "metadata": {},
   "outputs": [
    {
     "data": {
      "text/plain": [
       "116.66666666666667"
      ]
     },
     "execution_count": 65,
     "metadata": {},
     "output_type": "execute_result"
    }
   ],
   "source": [
    "# How many minutes would 1000 draws take with 100,000 simulants?\n",
    "7000/60"
   ]
  },
  {
   "cell_type": "markdown",
   "metadata": {},
   "source": [
    "# See if the PIF is more detectable with a larger population of 10,000\n",
    "\n",
    "Hmm, now it's **negative** in one of the draws."
   ]
  },
  {
   "cell_type": "code",
   "execution_count": 40,
   "metadata": {},
   "outputs": [],
   "source": [
    "bp1, ip1 = calc.initialize_population_tables(10_000)"
   ]
  },
  {
   "cell_type": "code",
   "execution_count": 46,
   "metadata": {},
   "outputs": [
    {
     "data": {
      "text/plain": [
       "draw\n",
       "0     -0.000096\n",
       "50     0.000908\n",
       "100    0.000594\n",
       "Name: lbwsg_relative_risk, dtype: float64"
      ]
     },
     "execution_count": 46,
     "metadata": {},
     "output_type": "execute_result"
    }
   ],
   "source": [
    "pif = lbwsg_boe.population_impact_fraction(bp1,ip1,'lbwsg_relative_risk')\n",
    "pif"
   ]
  },
  {
   "cell_type": "code",
   "execution_count": 47,
   "metadata": {},
   "outputs": [
    {
     "data": {
      "text/plain": [
       "0.0004689621877009763"
      ]
     },
     "execution_count": 47,
     "metadata": {},
     "output_type": "execute_result"
    }
   ],
   "source": [
    "pif.mean()"
   ]
  },
  {
   "cell_type": "code",
   "execution_count": 49,
   "metadata": {},
   "outputs": [],
   "source": [
    "idx = pd.IndexSlice"
   ]
  },
  {
   "cell_type": "markdown",
   "metadata": {},
   "source": [
    "## Check the mean birthweights in draw 0\n",
    "\n",
    "It's larger in the intervention scenario as expected. By about 3g, which is a bit smaller than expected for Nigeria, but within a reasonable range."
   ]
  },
  {
   "cell_type": "code",
   "execution_count": 50,
   "metadata": {},
   "outputs": [
    {
     "data": {
      "text/plain": [
       "3174.695806041431"
      ]
     },
     "execution_count": 50,
     "metadata": {},
     "output_type": "execute_result"
    }
   ],
   "source": [
    "bp1.loc[idx[0,:],'treated_birthweight'].mean()"
   ]
  },
  {
   "cell_type": "code",
   "execution_count": 51,
   "metadata": {},
   "outputs": [
    {
     "data": {
      "text/plain": [
       "3177.036278353212"
      ]
     },
     "execution_count": 51,
     "metadata": {},
     "output_type": "execute_result"
    }
   ],
   "source": [
    "ip1.loc[idx[0,:],'treated_birthweight'].mean()"
   ]
  },
  {
   "cell_type": "code",
   "execution_count": 55,
   "metadata": {},
   "outputs": [
    {
     "data": {
      "text/html": [
       "<div>\n",
       "<style scoped>\n",
       "    .dataframe tbody tr th:only-of-type {\n",
       "        vertical-align: middle;\n",
       "    }\n",
       "\n",
       "    .dataframe tbody tr th {\n",
       "        vertical-align: top;\n",
       "    }\n",
       "\n",
       "    .dataframe thead th {\n",
       "        text-align: right;\n",
       "    }\n",
       "</style>\n",
       "<table border=\"1\" class=\"dataframe\">\n",
       "  <thead>\n",
       "    <tr style=\"text-align: right;\">\n",
       "      <th></th>\n",
       "      <th></th>\n",
       "      <th>sex</th>\n",
       "      <th>age</th>\n",
       "      <th>age_start</th>\n",
       "      <th>age_end</th>\n",
       "      <th>iron_fortification_propensity</th>\n",
       "      <th>lbwsg_cat</th>\n",
       "      <th>ga_propensity</th>\n",
       "      <th>bw_propensity</th>\n",
       "      <th>gestational_age</th>\n",
       "      <th>birthweight</th>\n",
       "      <th>treatment_deleted_birthweight</th>\n",
       "      <th>mother_is_iron_fortified</th>\n",
       "      <th>mother_daily_flour</th>\n",
       "      <th>birthweight_shift</th>\n",
       "      <th>treated_birthweight</th>\n",
       "      <th>treated_lbwsg_cat</th>\n",
       "      <th>lbwsg_relative_risk</th>\n",
       "    </tr>\n",
       "    <tr>\n",
       "      <th>draw</th>\n",
       "      <th>simulant_id</th>\n",
       "      <th></th>\n",
       "      <th></th>\n",
       "      <th></th>\n",
       "      <th></th>\n",
       "      <th></th>\n",
       "      <th></th>\n",
       "      <th></th>\n",
       "      <th></th>\n",
       "      <th></th>\n",
       "      <th></th>\n",
       "      <th></th>\n",
       "      <th></th>\n",
       "      <th></th>\n",
       "      <th></th>\n",
       "      <th></th>\n",
       "      <th></th>\n",
       "      <th></th>\n",
       "    </tr>\n",
       "  </thead>\n",
       "  <tbody>\n",
       "    <tr>\n",
       "      <th rowspan=\"5\" valign=\"top\">0</th>\n",
       "      <th>0</th>\n",
       "      <td>Male</td>\n",
       "      <td>0.0</td>\n",
       "      <td>0.0</td>\n",
       "      <td>0.019178</td>\n",
       "      <td>0.063869</td>\n",
       "      <td>cat56</td>\n",
       "      <td>0.970781</td>\n",
       "      <td>0.489573</td>\n",
       "      <td>41.941562</td>\n",
       "      <td>4244.786639</td>\n",
       "      <td>4244.364142</td>\n",
       "      <td>True</td>\n",
       "      <td>75.991462</td>\n",
       "      <td>2.86891</td>\n",
       "      <td>4247.233053</td>\n",
       "      <td>cat56</td>\n",
       "      <td>1.000000</td>\n",
       "    </tr>\n",
       "    <tr>\n",
       "      <th>1</th>\n",
       "      <td>Male</td>\n",
       "      <td>0.0</td>\n",
       "      <td>0.0</td>\n",
       "      <td>0.019178</td>\n",
       "      <td>0.916032</td>\n",
       "      <td>cat52</td>\n",
       "      <td>0.811783</td>\n",
       "      <td>0.703595</td>\n",
       "      <td>39.623565</td>\n",
       "      <td>3351.797556</td>\n",
       "      <td>3351.375059</td>\n",
       "      <td>False</td>\n",
       "      <td>0.000000</td>\n",
       "      <td>0.00000</td>\n",
       "      <td>3351.375059</td>\n",
       "      <td>cat52</td>\n",
       "      <td>1.461914</td>\n",
       "    </tr>\n",
       "    <tr>\n",
       "      <th>2</th>\n",
       "      <td>Male</td>\n",
       "      <td>0.0</td>\n",
       "      <td>0.0</td>\n",
       "      <td>0.019178</td>\n",
       "      <td>0.263193</td>\n",
       "      <td>cat55</td>\n",
       "      <td>0.575768</td>\n",
       "      <td>0.880639</td>\n",
       "      <td>41.151535</td>\n",
       "      <td>3940.319261</td>\n",
       "      <td>3939.896764</td>\n",
       "      <td>False</td>\n",
       "      <td>0.000000</td>\n",
       "      <td>0.00000</td>\n",
       "      <td>3939.896764</td>\n",
       "      <td>cat55</td>\n",
       "      <td>1.000000</td>\n",
       "    </tr>\n",
       "    <tr>\n",
       "      <th>3</th>\n",
       "      <td>Female</td>\n",
       "      <td>0.0</td>\n",
       "      <td>0.0</td>\n",
       "      <td>0.019178</td>\n",
       "      <td>0.400943</td>\n",
       "      <td>cat50</td>\n",
       "      <td>0.227377</td>\n",
       "      <td>0.649608</td>\n",
       "      <td>37.227377</td>\n",
       "      <td>3824.803964</td>\n",
       "      <td>3824.381467</td>\n",
       "      <td>False</td>\n",
       "      <td>0.000000</td>\n",
       "      <td>0.00000</td>\n",
       "      <td>3824.381467</td>\n",
       "      <td>cat50</td>\n",
       "      <td>2.060782</td>\n",
       "    </tr>\n",
       "    <tr>\n",
       "      <th>4</th>\n",
       "      <td>Male</td>\n",
       "      <td>0.0</td>\n",
       "      <td>0.0</td>\n",
       "      <td>0.019178</td>\n",
       "      <td>0.674938</td>\n",
       "      <td>cat52</td>\n",
       "      <td>0.337057</td>\n",
       "      <td>0.568341</td>\n",
       "      <td>38.674115</td>\n",
       "      <td>3284.170562</td>\n",
       "      <td>3283.748064</td>\n",
       "      <td>False</td>\n",
       "      <td>0.000000</td>\n",
       "      <td>0.00000</td>\n",
       "      <td>3283.748064</td>\n",
       "      <td>cat52</td>\n",
       "      <td>1.461914</td>\n",
       "    </tr>\n",
       "  </tbody>\n",
       "</table>\n",
       "</div>"
      ],
      "text/plain": [
       "                     sex  age  age_start   age_end  \\\n",
       "draw simulant_id                                     \n",
       "0    0              Male  0.0        0.0  0.019178   \n",
       "     1              Male  0.0        0.0  0.019178   \n",
       "     2              Male  0.0        0.0  0.019178   \n",
       "     3            Female  0.0        0.0  0.019178   \n",
       "     4              Male  0.0        0.0  0.019178   \n",
       "\n",
       "                  iron_fortification_propensity lbwsg_cat  ga_propensity  \\\n",
       "draw simulant_id                                                           \n",
       "0    0                                 0.063869     cat56       0.970781   \n",
       "     1                                 0.916032     cat52       0.811783   \n",
       "     2                                 0.263193     cat55       0.575768   \n",
       "     3                                 0.400943     cat50       0.227377   \n",
       "     4                                 0.674938     cat52       0.337057   \n",
       "\n",
       "                  bw_propensity  gestational_age  birthweight  \\\n",
       "draw simulant_id                                                \n",
       "0    0                 0.489573        41.941562  4244.786639   \n",
       "     1                 0.703595        39.623565  3351.797556   \n",
       "     2                 0.880639        41.151535  3940.319261   \n",
       "     3                 0.649608        37.227377  3824.803964   \n",
       "     4                 0.568341        38.674115  3284.170562   \n",
       "\n",
       "                  treatment_deleted_birthweight  mother_is_iron_fortified  \\\n",
       "draw simulant_id                                                            \n",
       "0    0                              4244.364142                      True   \n",
       "     1                              3351.375059                     False   \n",
       "     2                              3939.896764                     False   \n",
       "     3                              3824.381467                     False   \n",
       "     4                              3283.748064                     False   \n",
       "\n",
       "                  mother_daily_flour  birthweight_shift  treated_birthweight  \\\n",
       "draw simulant_id                                                               \n",
       "0    0                     75.991462            2.86891          4247.233053   \n",
       "     1                      0.000000            0.00000          3351.375059   \n",
       "     2                      0.000000            0.00000          3939.896764   \n",
       "     3                      0.000000            0.00000          3824.381467   \n",
       "     4                      0.000000            0.00000          3283.748064   \n",
       "\n",
       "                 treated_lbwsg_cat  lbwsg_relative_risk  \n",
       "draw simulant_id                                         \n",
       "0    0                       cat56             1.000000  \n",
       "     1                       cat52             1.461914  \n",
       "     2                       cat55             1.000000  \n",
       "     3                       cat50             2.060782  \n",
       "     4                       cat52             1.461914  "
      ]
     },
     "execution_count": 55,
     "metadata": {},
     "output_type": "execute_result"
    }
   ],
   "source": [
    "bp1.loc[idx[0,:],:].head()"
   ]
  },
  {
   "cell_type": "code",
   "execution_count": 52,
   "metadata": {},
   "outputs": [
    {
     "data": {
      "text/html": [
       "<div>\n",
       "<style scoped>\n",
       "    .dataframe tbody tr th:only-of-type {\n",
       "        vertical-align: middle;\n",
       "    }\n",
       "\n",
       "    .dataframe tbody tr th {\n",
       "        vertical-align: top;\n",
       "    }\n",
       "\n",
       "    .dataframe thead th {\n",
       "        text-align: right;\n",
       "    }\n",
       "</style>\n",
       "<table border=\"1\" class=\"dataframe\">\n",
       "  <thead>\n",
       "    <tr style=\"text-align: right;\">\n",
       "      <th></th>\n",
       "      <th></th>\n",
       "      <th>sex</th>\n",
       "      <th>age</th>\n",
       "      <th>age_start</th>\n",
       "      <th>age_end</th>\n",
       "      <th>iron_fortification_propensity</th>\n",
       "      <th>lbwsg_cat</th>\n",
       "      <th>ga_propensity</th>\n",
       "      <th>bw_propensity</th>\n",
       "      <th>gestational_age</th>\n",
       "      <th>birthweight</th>\n",
       "      <th>treatment_deleted_birthweight</th>\n",
       "      <th>mother_is_iron_fortified</th>\n",
       "      <th>mother_daily_flour</th>\n",
       "      <th>birthweight_shift</th>\n",
       "      <th>treated_birthweight</th>\n",
       "      <th>treated_lbwsg_cat</th>\n",
       "      <th>lbwsg_relative_risk</th>\n",
       "    </tr>\n",
       "    <tr>\n",
       "      <th>draw</th>\n",
       "      <th>simulant_id</th>\n",
       "      <th></th>\n",
       "      <th></th>\n",
       "      <th></th>\n",
       "      <th></th>\n",
       "      <th></th>\n",
       "      <th></th>\n",
       "      <th></th>\n",
       "      <th></th>\n",
       "      <th></th>\n",
       "      <th></th>\n",
       "      <th></th>\n",
       "      <th></th>\n",
       "      <th></th>\n",
       "      <th></th>\n",
       "      <th></th>\n",
       "      <th></th>\n",
       "      <th></th>\n",
       "    </tr>\n",
       "  </thead>\n",
       "  <tbody>\n",
       "    <tr>\n",
       "      <th rowspan=\"5\" valign=\"top\">0</th>\n",
       "      <th>0</th>\n",
       "      <td>Male</td>\n",
       "      <td>0.0</td>\n",
       "      <td>0.0</td>\n",
       "      <td>0.019178</td>\n",
       "      <td>0.063869</td>\n",
       "      <td>cat56</td>\n",
       "      <td>0.970781</td>\n",
       "      <td>0.489573</td>\n",
       "      <td>41.941562</td>\n",
       "      <td>4244.786639</td>\n",
       "      <td>4243.681346</td>\n",
       "      <td>True</td>\n",
       "      <td>217.358697</td>\n",
       "      <td>21.274192</td>\n",
       "      <td>4264.955539</td>\n",
       "      <td>cat56</td>\n",
       "      <td>1.000000</td>\n",
       "    </tr>\n",
       "    <tr>\n",
       "      <th>1</th>\n",
       "      <td>Male</td>\n",
       "      <td>0.0</td>\n",
       "      <td>0.0</td>\n",
       "      <td>0.019178</td>\n",
       "      <td>0.916032</td>\n",
       "      <td>cat52</td>\n",
       "      <td>0.811783</td>\n",
       "      <td>0.703595</td>\n",
       "      <td>39.623565</td>\n",
       "      <td>3351.797556</td>\n",
       "      <td>3350.692263</td>\n",
       "      <td>False</td>\n",
       "      <td>0.000000</td>\n",
       "      <td>0.000000</td>\n",
       "      <td>3350.692263</td>\n",
       "      <td>cat52</td>\n",
       "      <td>1.461914</td>\n",
       "    </tr>\n",
       "    <tr>\n",
       "      <th>2</th>\n",
       "      <td>Male</td>\n",
       "      <td>0.0</td>\n",
       "      <td>0.0</td>\n",
       "      <td>0.019178</td>\n",
       "      <td>0.263193</td>\n",
       "      <td>cat55</td>\n",
       "      <td>0.575768</td>\n",
       "      <td>0.880639</td>\n",
       "      <td>41.151535</td>\n",
       "      <td>3940.319261</td>\n",
       "      <td>3939.213968</td>\n",
       "      <td>False</td>\n",
       "      <td>0.000000</td>\n",
       "      <td>0.000000</td>\n",
       "      <td>3939.213968</td>\n",
       "      <td>cat55</td>\n",
       "      <td>1.000000</td>\n",
       "    </tr>\n",
       "    <tr>\n",
       "      <th>3</th>\n",
       "      <td>Female</td>\n",
       "      <td>0.0</td>\n",
       "      <td>0.0</td>\n",
       "      <td>0.019178</td>\n",
       "      <td>0.400943</td>\n",
       "      <td>cat50</td>\n",
       "      <td>0.227377</td>\n",
       "      <td>0.649608</td>\n",
       "      <td>37.227377</td>\n",
       "      <td>3824.803964</td>\n",
       "      <td>3823.698671</td>\n",
       "      <td>False</td>\n",
       "      <td>0.000000</td>\n",
       "      <td>0.000000</td>\n",
       "      <td>3823.698671</td>\n",
       "      <td>cat50</td>\n",
       "      <td>2.060782</td>\n",
       "    </tr>\n",
       "    <tr>\n",
       "      <th>4</th>\n",
       "      <td>Male</td>\n",
       "      <td>0.0</td>\n",
       "      <td>0.0</td>\n",
       "      <td>0.019178</td>\n",
       "      <td>0.674938</td>\n",
       "      <td>cat52</td>\n",
       "      <td>0.337057</td>\n",
       "      <td>0.568341</td>\n",
       "      <td>38.674115</td>\n",
       "      <td>3284.170562</td>\n",
       "      <td>3283.065268</td>\n",
       "      <td>False</td>\n",
       "      <td>0.000000</td>\n",
       "      <td>0.000000</td>\n",
       "      <td>3283.065268</td>\n",
       "      <td>cat52</td>\n",
       "      <td>1.461914</td>\n",
       "    </tr>\n",
       "  </tbody>\n",
       "</table>\n",
       "</div>"
      ],
      "text/plain": [
       "                     sex  age  age_start   age_end  \\\n",
       "draw simulant_id                                     \n",
       "0    0              Male  0.0        0.0  0.019178   \n",
       "     1              Male  0.0        0.0  0.019178   \n",
       "     2              Male  0.0        0.0  0.019178   \n",
       "     3            Female  0.0        0.0  0.019178   \n",
       "     4              Male  0.0        0.0  0.019178   \n",
       "\n",
       "                  iron_fortification_propensity lbwsg_cat  ga_propensity  \\\n",
       "draw simulant_id                                                           \n",
       "0    0                                 0.063869     cat56       0.970781   \n",
       "     1                                 0.916032     cat52       0.811783   \n",
       "     2                                 0.263193     cat55       0.575768   \n",
       "     3                                 0.400943     cat50       0.227377   \n",
       "     4                                 0.674938     cat52       0.337057   \n",
       "\n",
       "                  bw_propensity  gestational_age  birthweight  \\\n",
       "draw simulant_id                                                \n",
       "0    0                 0.489573        41.941562  4244.786639   \n",
       "     1                 0.703595        39.623565  3351.797556   \n",
       "     2                 0.880639        41.151535  3940.319261   \n",
       "     3                 0.649608        37.227377  3824.803964   \n",
       "     4                 0.568341        38.674115  3284.170562   \n",
       "\n",
       "                  treatment_deleted_birthweight  mother_is_iron_fortified  \\\n",
       "draw simulant_id                                                            \n",
       "0    0                              4243.681346                      True   \n",
       "     1                              3350.692263                     False   \n",
       "     2                              3939.213968                     False   \n",
       "     3                              3823.698671                     False   \n",
       "     4                              3283.065268                     False   \n",
       "\n",
       "                  mother_daily_flour  birthweight_shift  treated_birthweight  \\\n",
       "draw simulant_id                                                               \n",
       "0    0                    217.358697          21.274192          4264.955539   \n",
       "     1                      0.000000           0.000000          3350.692263   \n",
       "     2                      0.000000           0.000000          3939.213968   \n",
       "     3                      0.000000           0.000000          3823.698671   \n",
       "     4                      0.000000           0.000000          3283.065268   \n",
       "\n",
       "                 treated_lbwsg_cat  lbwsg_relative_risk  \n",
       "draw simulant_id                                         \n",
       "0    0                       cat56             1.000000  \n",
       "     1                       cat52             1.461914  \n",
       "     2                       cat55             1.000000  \n",
       "     3                       cat50             2.060782  \n",
       "     4                       cat52             1.461914  "
      ]
     },
     "execution_count": 52,
     "metadata": {},
     "output_type": "execute_result"
    }
   ],
   "source": [
    "ip1.loc[idx[0,:],:].head()"
   ]
  },
  {
   "cell_type": "markdown",
   "metadata": {},
   "source": [
    "## As indicated by PIF, mean RR in baseline is slightly lower - rounding error or real difference?\n",
    "\n",
    "It looks like it's a real difference, based on the category counts below. Why would RR's in baseline be lower than in intervention?\n",
    "\n",
    "The only explanation is that it is random variability in the mother flour consumption value, dose-response value, and iron concentration value, between baseline scenario and intervention scenario.\n",
    "\n",
    "I think the only way to get rid of this variability is to use common random numbers to re-use values that should be the same between baseline and intervention."
   ]
  },
  {
   "cell_type": "code",
   "execution_count": 53,
   "metadata": {},
   "outputs": [
    {
     "data": {
      "text/plain": [
       "11.598937025989354"
      ]
     },
     "execution_count": 53,
     "metadata": {},
     "output_type": "execute_result"
    }
   ],
   "source": [
    "bp1.loc[idx[0,:],'lbwsg_relative_risk'].mean()"
   ]
  },
  {
   "cell_type": "code",
   "execution_count": 54,
   "metadata": {},
   "outputs": [
    {
     "data": {
      "text/plain": [
       "11.60004986805275"
      ]
     },
     "execution_count": 54,
     "metadata": {},
     "output_type": "execute_result"
    }
   ],
   "source": [
    "ip1.loc[idx[0,:],'lbwsg_relative_risk'].mean()"
   ]
  },
  {
   "cell_type": "code",
   "execution_count": 74,
   "metadata": {},
   "outputs": [],
   "source": [
    "bp1_counts = bp1.loc[idx[0,:], 'treated_lbwsg_cat'].value_counts()\n",
    "ip1_counts = ip1.loc[idx[0,:], 'treated_lbwsg_cat'].value_counts()"
   ]
  },
  {
   "cell_type": "code",
   "execution_count": 75,
   "metadata": {},
   "outputs": [
    {
     "data": {
      "text/plain": [
       "cat52     1809\n",
       "cat44     1373\n",
       "cat54     1112\n",
       "cat51      932\n",
       "cat55      747\n",
       "cat42      556\n",
       "cat43      455\n",
       "cat53      437\n",
       "cat48      417\n",
       "cat56      338\n",
       "cat50      162\n",
       "cat37      146\n",
       "cat32      140\n",
       "cat40      110\n",
       "cat35      103\n",
       "cat49       87\n",
       "cat33       68\n",
       "cat45       67\n",
       "cat34       66\n",
       "cat39       59\n",
       "cat117      57\n",
       "cat28       54\n",
       "cat24       49\n",
       "cat36       41\n",
       "cat27       37\n",
       "cat17       37\n",
       "cat30       36\n",
       "cat29       35\n",
       "cat31       34\n",
       "cat41       31\n",
       "cat88       29\n",
       "cat95       29\n",
       "cat21       27\n",
       "cat10       24\n",
       "cat47       24\n",
       "cat26       22\n",
       "cat81       22\n",
       "cat25       21\n",
       "cat23       20\n",
       "cat116      19\n",
       "cat22       19\n",
       "cat123      17\n",
       "cat20       14\n",
       "cat38       13\n",
       "cat96       12\n",
       "cat89       12\n",
       "cat19       10\n",
       "cat82       10\n",
       "cat46       10\n",
       "cat90        9\n",
       "cat106       9\n",
       "cat15        9\n",
       "cat80        8\n",
       "cat14        8\n",
       "cat11        8\n",
       "Name: treated_lbwsg_cat, dtype: int64"
      ]
     },
     "execution_count": 75,
     "metadata": {},
     "output_type": "execute_result"
    }
   ],
   "source": [
    "bp1_counts"
   ]
  },
  {
   "cell_type": "code",
   "execution_count": 76,
   "metadata": {},
   "outputs": [
    {
     "data": {
      "text/plain": [
       "cat52     1818\n",
       "cat44     1363\n",
       "cat54     1107\n",
       "cat51      928\n",
       "cat55      749\n",
       "cat42      556\n",
       "cat43      453\n",
       "cat53      443\n",
       "cat48      417\n",
       "cat56      343\n",
       "cat50      162\n",
       "cat37      147\n",
       "cat32      141\n",
       "cat40      109\n",
       "cat35      103\n",
       "cat49       87\n",
       "cat45       68\n",
       "cat33       66\n",
       "cat34       64\n",
       "cat39       59\n",
       "cat117      56\n",
       "cat28       55\n",
       "cat24       49\n",
       "cat36       41\n",
       "cat27       37\n",
       "cat17       37\n",
       "cat29       36\n",
       "cat30       35\n",
       "cat31       32\n",
       "cat95       31\n",
       "cat41       31\n",
       "cat21       28\n",
       "cat88       28\n",
       "cat10       24\n",
       "cat47       23\n",
       "cat81       22\n",
       "cat26       22\n",
       "cat25       20\n",
       "cat23       20\n",
       "cat116      19\n",
       "cat22       19\n",
       "cat123      18\n",
       "cat20       14\n",
       "cat38       13\n",
       "cat89       13\n",
       "cat96       12\n",
       "cat46       11\n",
       "cat19       10\n",
       "cat82       10\n",
       "cat106      10\n",
       "cat90        9\n",
       "cat80        8\n",
       "cat14        8\n",
       "cat11        8\n",
       "cat15        8\n",
       "Name: treated_lbwsg_cat, dtype: int64"
      ]
     },
     "execution_count": 76,
     "metadata": {},
     "output_type": "execute_result"
    }
   ],
   "source": [
    "ip1_counts"
   ]
  },
  {
   "cell_type": "markdown",
   "metadata": {},
   "source": [
    "# Try calculating PIF with an even larger population (100,000)\n",
    "\n",
    "Well, this time at least it's positive in all draws. Woo hoo!"
   ]
  },
  {
   "cell_type": "code",
   "execution_count": 66,
   "metadata": {},
   "outputs": [],
   "source": [
    "bp2, ip2 = calc.initialize_population_tables(100_000)"
   ]
  },
  {
   "cell_type": "code",
   "execution_count": 67,
   "metadata": {},
   "outputs": [
    {
     "data": {
      "text/plain": [
       "draw\n",
       "0      0.000260\n",
       "50     0.000285\n",
       "100    0.000607\n",
       "Name: lbwsg_relative_risk, dtype: float64"
      ]
     },
     "execution_count": 67,
     "metadata": {},
     "output_type": "execute_result"
    }
   ],
   "source": [
    "pif = lbwsg_boe.population_impact_fraction(bp2,ip2,'lbwsg_relative_risk')\n",
    "pif"
   ]
  },
  {
   "cell_type": "code",
   "execution_count": null,
   "metadata": {},
   "outputs": [],
   "source": []
  }
 ],
 "metadata": {
  "kernelspec": {
   "display_name": "Python 3",
   "language": "python",
   "name": "python3"
  },
  "language_info": {
   "codemirror_mode": {
    "name": "ipython",
    "version": 3
   },
   "file_extension": ".py",
   "mimetype": "text/x-python",
   "name": "python",
   "nbconvert_exporter": "python",
   "pygments_lexer": "ipython3",
   "version": "3.6.10"
  }
 },
 "nbformat": 4,
 "nbformat_minor": 4
}
