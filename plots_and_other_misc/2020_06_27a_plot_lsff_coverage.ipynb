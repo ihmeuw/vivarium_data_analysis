{
 "cells": [
  {
   "cell_type": "code",
   "execution_count": 2,
   "metadata": {},
   "outputs": [
    {
     "name": "stdout",
     "output_type": "stream",
     "text": [
      "ndbs\n",
      "Sat Jun 27 00:14:41 PDT 2020\n"
     ]
    }
   ],
   "source": [
    "import numpy as np, pandas as pd, matplotlib.pyplot as plt\n",
    "import scipy.stats as scs\n",
    "\n",
    "!whoami\n",
    "!date"
   ]
  },
  {
   "cell_type": "markdown",
   "metadata": {},
   "source": [
    "## Create a dataframe with flour fortification coverage data"
   ]
  },
  {
   "cell_type": "code",
   "execution_count": 6,
   "metadata": {},
   "outputs": [
    {
     "data": {
      "text/html": [
       "<div>\n",
       "<style scoped>\n",
       "    .dataframe tbody tr th:only-of-type {\n",
       "        vertical-align: middle;\n",
       "    }\n",
       "\n",
       "    .dataframe tbody tr th {\n",
       "        vertical-align: top;\n",
       "    }\n",
       "\n",
       "    .dataframe thead tr th {\n",
       "        text-align: left;\n",
       "    }\n",
       "</style>\n",
       "<table border=\"1\" class=\"dataframe\">\n",
       "  <thead>\n",
       "    <tr>\n",
       "      <th></th>\n",
       "      <th colspan=\"3\" halign=\"left\">eats_fortified</th>\n",
       "      <th colspan=\"3\" halign=\"left\">eats_fortifiable</th>\n",
       "      <th colspan=\"3\" halign=\"left\">eats_vehicle</th>\n",
       "    </tr>\n",
       "    <tr>\n",
       "      <th></th>\n",
       "      <th>mean</th>\n",
       "      <th>lower</th>\n",
       "      <th>upper</th>\n",
       "      <th>mean</th>\n",
       "      <th>lower</th>\n",
       "      <th>upper</th>\n",
       "      <th>mean</th>\n",
       "      <th>lower</th>\n",
       "      <th>upper</th>\n",
       "    </tr>\n",
       "  </thead>\n",
       "  <tbody>\n",
       "    <tr>\n",
       "      <th>Ethiopia</th>\n",
       "      <td>1.0</td>\n",
       "      <td>0.0</td>\n",
       "      <td>10.0</td>\n",
       "      <td>15.0</td>\n",
       "      <td>10.0</td>\n",
       "      <td>20.0</td>\n",
       "      <td>28.0</td>\n",
       "      <td>23.0</td>\n",
       "      <td>33.0</td>\n",
       "    </tr>\n",
       "    <tr>\n",
       "      <th>India (Rajasthan)</th>\n",
       "      <td>6.3</td>\n",
       "      <td>4.8</td>\n",
       "      <td>7.9</td>\n",
       "      <td>7.1</td>\n",
       "      <td>5.6</td>\n",
       "      <td>9.1</td>\n",
       "      <td>83.2</td>\n",
       "      <td>79.5</td>\n",
       "      <td>86.5</td>\n",
       "    </tr>\n",
       "    <tr>\n",
       "      <th>Nigeria (Kano)</th>\n",
       "      <td>22.7</td>\n",
       "      <td>20.0</td>\n",
       "      <td>25.5</td>\n",
       "      <td>83.8</td>\n",
       "      <td>81.4</td>\n",
       "      <td>86.2</td>\n",
       "      <td>83.9</td>\n",
       "      <td>81.5</td>\n",
       "      <td>86.3</td>\n",
       "    </tr>\n",
       "    <tr>\n",
       "      <th>Nigeria (Lagos)</th>\n",
       "      <td>5.4</td>\n",
       "      <td>3.8</td>\n",
       "      <td>6.9</td>\n",
       "      <td>13.8</td>\n",
       "      <td>11.5</td>\n",
       "      <td>16.1</td>\n",
       "      <td>14.2</td>\n",
       "      <td>11.8</td>\n",
       "      <td>16.5</td>\n",
       "    </tr>\n",
       "  </tbody>\n",
       "</table>\n",
       "</div>"
      ],
      "text/plain": [
       "                  eats_fortified             eats_fortifiable              \\\n",
       "                            mean lower upper             mean lower upper   \n",
       "Ethiopia                     1.0   0.0  10.0             15.0  10.0  20.0   \n",
       "India (Rajasthan)            6.3   4.8   7.9              7.1   5.6   9.1   \n",
       "Nigeria (Kano)              22.7  20.0  25.5             83.8  81.4  86.2   \n",
       "Nigeria (Lagos)              5.4   3.8   6.9             13.8  11.5  16.1   \n",
       "\n",
       "                  eats_vehicle              \n",
       "                          mean lower upper  \n",
       "Ethiopia                  28.0  23.0  33.0  \n",
       "India (Rajasthan)         83.2  79.5  86.5  \n",
       "Nigeria (Kano)            83.9  81.5  86.3  \n",
       "Nigeria (Lagos)           14.2  11.8  16.5  "
      ]
     },
     "execution_count": 6,
     "metadata": {},
     "output_type": "execute_result"
    }
   ],
   "source": [
    "coverage_levels = ['eats_fortified', 'eats_fortifiable', 'eats_vehicle']\n",
    "coverage_stats = ['mean', 'lower', 'upper']\n",
    "\n",
    "flour_df = pd.DataFrame(\n",
    "    {\n",
    "        'Ethiopia': [1.0, 0.0, 10.0, 15.0, 10.0, 20.0, 28.0, 23.0, 33.0],\n",
    "        'India (Rajasthan)': [6.3, 4.8, 7.9, 7.1, 5.6, 9.1, 83.2, 79.5, 86.5],\n",
    "        'Nigeria (Kano)': [22.7, 20.0, 25.5, 83.8, 81.4, 86.2, 83.9, 81.5, 86.3],\n",
    "        'Nigeria (Lagos)': [5.4, 3.8, 6.9, 13.8, 11.5, 16.1, 14.2, 11.8, 16.5],\n",
    "    },\n",
    "    index = pd.MultiIndex.from_product([coverage_levels, coverage_stats])\n",
    ")\n",
    "# It's easiest to create the dataframe with countries as columns,\n",
    "# but the transposed version looks nicer when viewing\n",
    "flour_df.T"
   ]
  },
  {
   "cell_type": "markdown",
   "metadata": {},
   "source": [
    "### Create columns for India and Nigeria based on subnational estimates\n",
    "\n",
    "This is easier to do with countries as columns, but then we transpose the dataframe to view it."
   ]
  },
  {
   "cell_type": "code",
   "execution_count": 7,
   "metadata": {},
   "outputs": [
    {
     "data": {
      "text/html": [
       "<div>\n",
       "<style scoped>\n",
       "    .dataframe tbody tr th:only-of-type {\n",
       "        vertical-align: middle;\n",
       "    }\n",
       "\n",
       "    .dataframe tbody tr th {\n",
       "        vertical-align: top;\n",
       "    }\n",
       "\n",
       "    .dataframe thead tr th {\n",
       "        text-align: left;\n",
       "    }\n",
       "</style>\n",
       "<table border=\"1\" class=\"dataframe\">\n",
       "  <thead>\n",
       "    <tr>\n",
       "      <th></th>\n",
       "      <th colspan=\"3\" halign=\"left\">eats_fortified</th>\n",
       "      <th colspan=\"3\" halign=\"left\">eats_fortifiable</th>\n",
       "      <th colspan=\"3\" halign=\"left\">eats_vehicle</th>\n",
       "    </tr>\n",
       "    <tr>\n",
       "      <th></th>\n",
       "      <th>mean</th>\n",
       "      <th>lower</th>\n",
       "      <th>upper</th>\n",
       "      <th>mean</th>\n",
       "      <th>lower</th>\n",
       "      <th>upper</th>\n",
       "      <th>mean</th>\n",
       "      <th>lower</th>\n",
       "      <th>upper</th>\n",
       "    </tr>\n",
       "  </thead>\n",
       "  <tbody>\n",
       "    <tr>\n",
       "      <th>Ethiopia</th>\n",
       "      <td>1.000</td>\n",
       "      <td>0.000</td>\n",
       "      <td>10.000</td>\n",
       "      <td>15.0</td>\n",
       "      <td>10.000</td>\n",
       "      <td>20.000</td>\n",
       "      <td>28.000</td>\n",
       "      <td>23.000</td>\n",
       "      <td>33.000</td>\n",
       "    </tr>\n",
       "    <tr>\n",
       "      <th>India (Rajasthan)</th>\n",
       "      <td>6.300</td>\n",
       "      <td>4.800</td>\n",
       "      <td>7.900</td>\n",
       "      <td>7.1</td>\n",
       "      <td>5.600</td>\n",
       "      <td>9.100</td>\n",
       "      <td>83.200</td>\n",
       "      <td>79.500</td>\n",
       "      <td>86.500</td>\n",
       "    </tr>\n",
       "    <tr>\n",
       "      <th>Nigeria (Kano)</th>\n",
       "      <td>22.700</td>\n",
       "      <td>20.000</td>\n",
       "      <td>25.500</td>\n",
       "      <td>83.8</td>\n",
       "      <td>81.400</td>\n",
       "      <td>86.200</td>\n",
       "      <td>83.900</td>\n",
       "      <td>81.500</td>\n",
       "      <td>86.300</td>\n",
       "    </tr>\n",
       "    <tr>\n",
       "      <th>Nigeria (Lagos)</th>\n",
       "      <td>5.400</td>\n",
       "      <td>3.800</td>\n",
       "      <td>6.900</td>\n",
       "      <td>13.8</td>\n",
       "      <td>11.500</td>\n",
       "      <td>16.100</td>\n",
       "      <td>14.200</td>\n",
       "      <td>11.800</td>\n",
       "      <td>16.500</td>\n",
       "    </tr>\n",
       "    <tr>\n",
       "      <th>India</th>\n",
       "      <td>6.300</td>\n",
       "      <td>4.800</td>\n",
       "      <td>7.900</td>\n",
       "      <td>7.1</td>\n",
       "      <td>5.600</td>\n",
       "      <td>9.100</td>\n",
       "      <td>83.200</td>\n",
       "      <td>79.500</td>\n",
       "      <td>86.500</td>\n",
       "    </tr>\n",
       "    <tr>\n",
       "      <th>Nigeria</th>\n",
       "      <td>8.168</td>\n",
       "      <td>6.392</td>\n",
       "      <td>9.876</td>\n",
       "      <td>25.0</td>\n",
       "      <td>22.684</td>\n",
       "      <td>27.316</td>\n",
       "      <td>25.352</td>\n",
       "      <td>22.952</td>\n",
       "      <td>27.668</td>\n",
       "    </tr>\n",
       "  </tbody>\n",
       "</table>\n",
       "</div>"
      ],
      "text/plain": [
       "                  eats_fortified                 eats_fortifiable          \\\n",
       "                            mean   lower   upper             mean   lower   \n",
       "Ethiopia                   1.000   0.000  10.000             15.0  10.000   \n",
       "India (Rajasthan)          6.300   4.800   7.900              7.1   5.600   \n",
       "Nigeria (Kano)            22.700  20.000  25.500             83.8  81.400   \n",
       "Nigeria (Lagos)            5.400   3.800   6.900             13.8  11.500   \n",
       "India                      6.300   4.800   7.900              7.1   5.600   \n",
       "Nigeria                    8.168   6.392   9.876             25.0  22.684   \n",
       "\n",
       "                          eats_vehicle                  \n",
       "                    upper         mean   lower   upper  \n",
       "Ethiopia           20.000       28.000  23.000  33.000  \n",
       "India (Rajasthan)   9.100       83.200  79.500  86.500  \n",
       "Nigeria (Kano)     86.200       83.900  81.500  86.300  \n",
       "Nigeria (Lagos)    16.100       14.200  11.800  16.500  \n",
       "India               9.100       83.200  79.500  86.500  \n",
       "Nigeria            27.316       25.352  22.952  27.668  "
      ]
     },
     "execution_count": 7,
     "metadata": {},
     "output_type": "execute_result"
    }
   ],
   "source": [
    "rajastan_weight = 1\n",
    "kano_weight = 4/25\n",
    "lagos_weight = 21/25\n",
    "\n",
    "flour_df['India'] = rajastan_weight*flour_df['India (Rajasthan)']\n",
    "flour_df['Nigeria'] = kano_weight*flour_df['Nigeria (Kano)'] + lagos_weight*flour_df['Nigeria (Lagos)']\n",
    "flour_df.T"
   ]
  },
  {
   "cell_type": "code",
   "execution_count": 36,
   "metadata": {},
   "outputs": [
    {
     "data": {
      "text/html": [
       "<div>\n",
       "<style scoped>\n",
       "    .dataframe tbody tr th:only-of-type {\n",
       "        vertical-align: middle;\n",
       "    }\n",
       "\n",
       "    .dataframe tbody tr th {\n",
       "        vertical-align: top;\n",
       "    }\n",
       "\n",
       "    .dataframe thead th {\n",
       "        text-align: right;\n",
       "    }\n",
       "</style>\n",
       "<table border=\"1\" class=\"dataframe\">\n",
       "  <thead>\n",
       "    <tr style=\"text-align: right;\">\n",
       "      <th></th>\n",
       "      <th></th>\n",
       "      <th>Ethiopia</th>\n",
       "      <th>India (Rajasthan)</th>\n",
       "      <th>Nigeria (Kano)</th>\n",
       "      <th>Nigeria (Lagos)</th>\n",
       "      <th>India</th>\n",
       "      <th>Nigeria</th>\n",
       "    </tr>\n",
       "  </thead>\n",
       "  <tbody>\n",
       "    <tr>\n",
       "      <th rowspan=\"3\" valign=\"top\">eats_fortified</th>\n",
       "      <th>mean</th>\n",
       "      <td>1.0</td>\n",
       "      <td>6.3</td>\n",
       "      <td>22.7</td>\n",
       "      <td>5.4</td>\n",
       "      <td>6.3</td>\n",
       "      <td>8.168</td>\n",
       "    </tr>\n",
       "    <tr>\n",
       "      <th>lower</th>\n",
       "      <td>0.0</td>\n",
       "      <td>4.8</td>\n",
       "      <td>20.0</td>\n",
       "      <td>3.8</td>\n",
       "      <td>4.8</td>\n",
       "      <td>6.392</td>\n",
       "    </tr>\n",
       "    <tr>\n",
       "      <th>upper</th>\n",
       "      <td>10.0</td>\n",
       "      <td>7.9</td>\n",
       "      <td>25.5</td>\n",
       "      <td>6.9</td>\n",
       "      <td>7.9</td>\n",
       "      <td>9.876</td>\n",
       "    </tr>\n",
       "    <tr>\n",
       "      <th rowspan=\"3\" valign=\"top\">eats_fortifiable</th>\n",
       "      <th>mean</th>\n",
       "      <td>15.0</td>\n",
       "      <td>7.1</td>\n",
       "      <td>83.8</td>\n",
       "      <td>13.8</td>\n",
       "      <td>7.1</td>\n",
       "      <td>25.000</td>\n",
       "    </tr>\n",
       "    <tr>\n",
       "      <th>lower</th>\n",
       "      <td>10.0</td>\n",
       "      <td>5.6</td>\n",
       "      <td>81.4</td>\n",
       "      <td>11.5</td>\n",
       "      <td>5.6</td>\n",
       "      <td>22.684</td>\n",
       "    </tr>\n",
       "    <tr>\n",
       "      <th>upper</th>\n",
       "      <td>20.0</td>\n",
       "      <td>9.1</td>\n",
       "      <td>86.2</td>\n",
       "      <td>16.1</td>\n",
       "      <td>9.1</td>\n",
       "      <td>27.316</td>\n",
       "    </tr>\n",
       "    <tr>\n",
       "      <th rowspan=\"3\" valign=\"top\">eats_vehicle</th>\n",
       "      <th>mean</th>\n",
       "      <td>28.0</td>\n",
       "      <td>83.2</td>\n",
       "      <td>83.9</td>\n",
       "      <td>14.2</td>\n",
       "      <td>83.2</td>\n",
       "      <td>25.352</td>\n",
       "    </tr>\n",
       "    <tr>\n",
       "      <th>lower</th>\n",
       "      <td>23.0</td>\n",
       "      <td>79.5</td>\n",
       "      <td>81.5</td>\n",
       "      <td>11.8</td>\n",
       "      <td>79.5</td>\n",
       "      <td>22.952</td>\n",
       "    </tr>\n",
       "    <tr>\n",
       "      <th>upper</th>\n",
       "      <td>33.0</td>\n",
       "      <td>86.5</td>\n",
       "      <td>86.3</td>\n",
       "      <td>16.5</td>\n",
       "      <td>86.5</td>\n",
       "      <td>27.668</td>\n",
       "    </tr>\n",
       "  </tbody>\n",
       "</table>\n",
       "</div>"
      ],
      "text/plain": [
       "                        Ethiopia  India (Rajasthan)  Nigeria (Kano)  \\\n",
       "eats_fortified   mean        1.0                6.3            22.7   \n",
       "                 lower       0.0                4.8            20.0   \n",
       "                 upper      10.0                7.9            25.5   \n",
       "eats_fortifiable mean       15.0                7.1            83.8   \n",
       "                 lower      10.0                5.6            81.4   \n",
       "                 upper      20.0                9.1            86.2   \n",
       "eats_vehicle     mean       28.0               83.2            83.9   \n",
       "                 lower      23.0               79.5            81.5   \n",
       "                 upper      33.0               86.5            86.3   \n",
       "\n",
       "                        Nigeria (Lagos)  India  Nigeria  \n",
       "eats_fortified   mean               5.4    6.3    8.168  \n",
       "                 lower              3.8    4.8    6.392  \n",
       "                 upper              6.9    7.9    9.876  \n",
       "eats_fortifiable mean              13.8    7.1   25.000  \n",
       "                 lower             11.5    5.6   22.684  \n",
       "                 upper             16.1    9.1   27.316  \n",
       "eats_vehicle     mean              14.2   83.2   25.352  \n",
       "                 lower             11.8   79.5   22.952  \n",
       "                 upper             16.5   86.5   27.668  "
      ]
     },
     "execution_count": 36,
     "metadata": {},
     "output_type": "execute_result"
    }
   ],
   "source": [
    "flour_df"
   ]
  },
  {
   "cell_type": "markdown",
   "metadata": {},
   "source": [
    "## Define and test the coverage function"
   ]
  },
  {
   "cell_type": "code",
   "execution_count": 23,
   "metadata": {},
   "outputs": [],
   "source": [
    "t_start = 1 # coverage starts one year after start of sim\n",
    "r = 0.1 # unfortified food decreases by 10%/year after initial jump\n",
    "\n",
    "def coverage(t, a, b, c, t_start=t_start, r=r):\n",
    "    # return a if t < t_start else b + (c-b)*(1-(1-r)**(t-t_start)) # non-vectorized version (works for scalars)\n",
    "    return np.where(t < t_start, a, b + (c-b)*(1-(1-r)**(t-t_start))) # vectorized version (t can be an array)"
   ]
  },
  {
   "cell_type": "code",
   "execution_count": 25,
   "metadata": {},
   "outputs": [
    {
     "data": {
      "text/plain": [
       "array([4.0907594 , 6.04900731, 3.14331687, 2.07916684, 5.36444357,\n",
       "       3.65382522, 3.89639433, 6.93108424, 2.87927119, 3.78635889])"
      ]
     },
     "execution_count": 25,
     "metadata": {},
     "output_type": "execute_result"
    }
   ],
   "source": [
    "# Check that we can exponentiate an array... yep!\n",
    "t = np.random.normal(2, size=10)\n",
    "2**t"
   ]
  },
  {
   "cell_type": "code",
   "execution_count": 16,
   "metadata": {},
   "outputs": [
    {
     "data": {
      "text/plain": [
       "eats_fortified    mean     6.3\n",
       "eats_fortifiable  mean     7.1\n",
       "eats_vehicle      mean    83.2\n",
       "Name: India, dtype: float64"
      ]
     },
     "execution_count": 16,
     "metadata": {},
     "output_type": "execute_result"
    }
   ],
   "source": [
    "# Use an index slice to easily access just the means - these are a,b,c\n",
    "idx = pd.IndexSlice\n",
    "flour_df.loc[idx[:,'mean'], 'India']"
   ]
  },
  {
   "cell_type": "code",
   "execution_count": 20,
   "metadata": {},
   "outputs": [
    {
     "data": {
      "text/plain": [
       "14.709999999999999"
      ]
     },
     "execution_count": 20,
     "metadata": {},
     "output_type": "execute_result"
    }
   ],
   "source": [
    "# Use argument unpacking to assign a, b, and c in the function call\n",
    "coverage(2, *flour_df.loc[idx[:,'mean'], 'India'])"
   ]
  },
  {
   "cell_type": "code",
   "execution_count": 26,
   "metadata": {},
   "outputs": [
    {
     "data": {
      "text/plain": [
       "array([14.94317919, 18.88330128, 12.15433106,  7.54772647, 17.69836523,\n",
       "       13.76111387, 14.43624901, 20.20040356, 11.20045106, 14.13617163])"
      ]
     },
     "execution_count": 26,
     "metadata": {},
     "output_type": "execute_result"
    }
   ],
   "source": [
    "# Apply the coverage function to an array of times\n",
    "coverage(t, *flour_df.loc[idx[:,'mean'], 'India'])"
   ]
  },
  {
   "cell_type": "code",
   "execution_count": 28,
   "metadata": {},
   "outputs": [
    {
     "data": {
      "text/plain": [
       "array([ 6.3   ,  7.1   , 14.71  , 21.559 , 27.7231])"
      ]
     },
     "execution_count": 28,
     "metadata": {},
     "output_type": "execute_result"
    }
   ],
   "source": [
    "# Compute the coverage at t = [0,1,2,3,4] to see if the values look right\n",
    "# Should have coverage(0) = 6.3, coverage(1) = 7.1 - yes, looks good\n",
    "coverage(np.arange(5), *flour_df.loc[idx[:,'mean'], 'India'])"
   ]
  },
  {
   "cell_type": "code",
   "execution_count": 35,
   "metadata": {},
   "outputs": [
    {
     "data": {
      "text/plain": [
       "array([ 4.8   ,  5.6   , 12.99  , 19.641 , 25.6269])"
      ]
     },
     "execution_count": 35,
     "metadata": {},
     "output_type": "execute_result"
    }
   ],
   "source": [
    "# See what we get if we plug in the 'lower' values instead\n",
    "coverage(np.arange(5), *flour_df.loc[idx[:,'lower'], 'India'])"
   ]
  },
  {
   "cell_type": "markdown",
   "metadata": {},
   "source": [
    "## Write a function to plot the coverage function"
   ]
  },
  {
   "cell_type": "code",
   "execution_count": null,
   "metadata": {},
   "outputs": [],
   "source": []
  }
 ],
 "metadata": {
  "kernelspec": {
   "display_name": "Python 3",
   "language": "python",
   "name": "python3"
  },
  "language_info": {
   "codemirror_mode": {
    "name": "ipython",
    "version": 3
   },
   "file_extension": ".py",
   "mimetype": "text/x-python",
   "name": "python",
   "nbconvert_exporter": "python",
   "pygments_lexer": "ipython3",
   "version": "3.6.10"
  }
 },
 "nbformat": 4,
 "nbformat_minor": 4
}
