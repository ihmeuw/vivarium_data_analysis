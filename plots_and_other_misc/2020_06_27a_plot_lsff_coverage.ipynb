{
 "cells": [
  {
   "cell_type": "code",
   "execution_count": 1,
   "metadata": {},
   "outputs": [
    {
     "name": "stdout",
     "output_type": "stream",
     "text": [
      "ndbs\n",
      "Sat Jun 27 21:45:49 PDT 2020\n"
     ]
    }
   ],
   "source": [
    "import numpy as np, pandas as pd, matplotlib.pyplot as plt\n",
    "import scipy.stats as scs\n",
    "\n",
    "!whoami\n",
    "!date"
   ]
  },
  {
   "cell_type": "markdown",
   "metadata": {},
   "source": [
    "## Create a dataframe with flour fortification coverage data"
   ]
  },
  {
   "cell_type": "code",
   "execution_count": 2,
   "metadata": {},
   "outputs": [
    {
     "data": {
      "text/html": [
       "<div>\n",
       "<style scoped>\n",
       "    .dataframe tbody tr th:only-of-type {\n",
       "        vertical-align: middle;\n",
       "    }\n",
       "\n",
       "    .dataframe tbody tr th {\n",
       "        vertical-align: top;\n",
       "    }\n",
       "\n",
       "    .dataframe thead tr th {\n",
       "        text-align: left;\n",
       "    }\n",
       "</style>\n",
       "<table border=\"1\" class=\"dataframe\">\n",
       "  <thead>\n",
       "    <tr>\n",
       "      <th></th>\n",
       "      <th colspan=\"3\" halign=\"left\">eats_fortified</th>\n",
       "      <th colspan=\"3\" halign=\"left\">eats_fortifiable</th>\n",
       "      <th colspan=\"3\" halign=\"left\">eats_vehicle</th>\n",
       "    </tr>\n",
       "    <tr>\n",
       "      <th></th>\n",
       "      <th>mean</th>\n",
       "      <th>lower</th>\n",
       "      <th>upper</th>\n",
       "      <th>mean</th>\n",
       "      <th>lower</th>\n",
       "      <th>upper</th>\n",
       "      <th>mean</th>\n",
       "      <th>lower</th>\n",
       "      <th>upper</th>\n",
       "    </tr>\n",
       "  </thead>\n",
       "  <tbody>\n",
       "    <tr>\n",
       "      <th>Ethiopia</th>\n",
       "      <td>1.0</td>\n",
       "      <td>0.0</td>\n",
       "      <td>10.0</td>\n",
       "      <td>15.0</td>\n",
       "      <td>10.0</td>\n",
       "      <td>20.0</td>\n",
       "      <td>28.0</td>\n",
       "      <td>23.0</td>\n",
       "      <td>33.0</td>\n",
       "    </tr>\n",
       "    <tr>\n",
       "      <th>India (Rajasthan)</th>\n",
       "      <td>6.3</td>\n",
       "      <td>4.8</td>\n",
       "      <td>7.9</td>\n",
       "      <td>7.1</td>\n",
       "      <td>5.6</td>\n",
       "      <td>9.1</td>\n",
       "      <td>83.2</td>\n",
       "      <td>79.5</td>\n",
       "      <td>86.5</td>\n",
       "    </tr>\n",
       "    <tr>\n",
       "      <th>Nigeria (Kano)</th>\n",
       "      <td>22.7</td>\n",
       "      <td>20.0</td>\n",
       "      <td>25.5</td>\n",
       "      <td>83.8</td>\n",
       "      <td>81.4</td>\n",
       "      <td>86.2</td>\n",
       "      <td>83.9</td>\n",
       "      <td>81.5</td>\n",
       "      <td>86.3</td>\n",
       "    </tr>\n",
       "    <tr>\n",
       "      <th>Nigeria (Lagos)</th>\n",
       "      <td>5.4</td>\n",
       "      <td>3.8</td>\n",
       "      <td>6.9</td>\n",
       "      <td>13.8</td>\n",
       "      <td>11.5</td>\n",
       "      <td>16.1</td>\n",
       "      <td>14.2</td>\n",
       "      <td>11.8</td>\n",
       "      <td>16.5</td>\n",
       "    </tr>\n",
       "  </tbody>\n",
       "</table>\n",
       "</div>"
      ],
      "text/plain": [
       "                  eats_fortified             eats_fortifiable              \\\n",
       "                            mean lower upper             mean lower upper   \n",
       "Ethiopia                     1.0   0.0  10.0             15.0  10.0  20.0   \n",
       "India (Rajasthan)            6.3   4.8   7.9              7.1   5.6   9.1   \n",
       "Nigeria (Kano)              22.7  20.0  25.5             83.8  81.4  86.2   \n",
       "Nigeria (Lagos)              5.4   3.8   6.9             13.8  11.5  16.1   \n",
       "\n",
       "                  eats_vehicle              \n",
       "                          mean lower upper  \n",
       "Ethiopia                  28.0  23.0  33.0  \n",
       "India (Rajasthan)         83.2  79.5  86.5  \n",
       "Nigeria (Kano)            83.9  81.5  86.3  \n",
       "Nigeria (Lagos)           14.2  11.8  16.5  "
      ]
     },
     "execution_count": 2,
     "metadata": {},
     "output_type": "execute_result"
    }
   ],
   "source": [
    "coverage_levels = ['eats_fortified', 'eats_fortifiable', 'eats_vehicle']\n",
    "coverage_stats = ['mean', 'lower', 'upper']\n",
    "\n",
    "flour_df = pd.DataFrame(\n",
    "    {\n",
    "        'Ethiopia': [1.0, 0.0, 10.0, 15.0, 10.0, 20.0, 28.0, 23.0, 33.0],\n",
    "        'India (Rajasthan)': [6.3, 4.8, 7.9, 7.1, 5.6, 9.1, 83.2, 79.5, 86.5],\n",
    "        'Nigeria (Kano)': [22.7, 20.0, 25.5, 83.8, 81.4, 86.2, 83.9, 81.5, 86.3],\n",
    "        'Nigeria (Lagos)': [5.4, 3.8, 6.9, 13.8, 11.5, 16.1, 14.2, 11.8, 16.5],\n",
    "    },\n",
    "    index = pd.MultiIndex.from_product([coverage_levels, coverage_stats])\n",
    ")\n",
    "# It's easiest to create the dataframe with countries as columns,\n",
    "# but the transposed version looks nicer when viewing\n",
    "flour_df.T"
   ]
  },
  {
   "cell_type": "markdown",
   "metadata": {},
   "source": [
    "### Create columns for India and Nigeria based on subnational estimates\n",
    "\n",
    "This is easier to do with countries as columns, but then we transpose the dataframe to view it."
   ]
  },
  {
   "cell_type": "code",
   "execution_count": 3,
   "metadata": {},
   "outputs": [
    {
     "data": {
      "text/html": [
       "<div>\n",
       "<style scoped>\n",
       "    .dataframe tbody tr th:only-of-type {\n",
       "        vertical-align: middle;\n",
       "    }\n",
       "\n",
       "    .dataframe tbody tr th {\n",
       "        vertical-align: top;\n",
       "    }\n",
       "\n",
       "    .dataframe thead tr th {\n",
       "        text-align: left;\n",
       "    }\n",
       "</style>\n",
       "<table border=\"1\" class=\"dataframe\">\n",
       "  <thead>\n",
       "    <tr>\n",
       "      <th></th>\n",
       "      <th colspan=\"3\" halign=\"left\">eats_fortified</th>\n",
       "      <th colspan=\"3\" halign=\"left\">eats_fortifiable</th>\n",
       "      <th colspan=\"3\" halign=\"left\">eats_vehicle</th>\n",
       "    </tr>\n",
       "    <tr>\n",
       "      <th></th>\n",
       "      <th>mean</th>\n",
       "      <th>lower</th>\n",
       "      <th>upper</th>\n",
       "      <th>mean</th>\n",
       "      <th>lower</th>\n",
       "      <th>upper</th>\n",
       "      <th>mean</th>\n",
       "      <th>lower</th>\n",
       "      <th>upper</th>\n",
       "    </tr>\n",
       "  </thead>\n",
       "  <tbody>\n",
       "    <tr>\n",
       "      <th>Ethiopia</th>\n",
       "      <td>1.000</td>\n",
       "      <td>0.000</td>\n",
       "      <td>10.000</td>\n",
       "      <td>15.0</td>\n",
       "      <td>10.000</td>\n",
       "      <td>20.000</td>\n",
       "      <td>28.000</td>\n",
       "      <td>23.000</td>\n",
       "      <td>33.000</td>\n",
       "    </tr>\n",
       "    <tr>\n",
       "      <th>India (Rajasthan)</th>\n",
       "      <td>6.300</td>\n",
       "      <td>4.800</td>\n",
       "      <td>7.900</td>\n",
       "      <td>7.1</td>\n",
       "      <td>5.600</td>\n",
       "      <td>9.100</td>\n",
       "      <td>83.200</td>\n",
       "      <td>79.500</td>\n",
       "      <td>86.500</td>\n",
       "    </tr>\n",
       "    <tr>\n",
       "      <th>Nigeria (Kano)</th>\n",
       "      <td>22.700</td>\n",
       "      <td>20.000</td>\n",
       "      <td>25.500</td>\n",
       "      <td>83.8</td>\n",
       "      <td>81.400</td>\n",
       "      <td>86.200</td>\n",
       "      <td>83.900</td>\n",
       "      <td>81.500</td>\n",
       "      <td>86.300</td>\n",
       "    </tr>\n",
       "    <tr>\n",
       "      <th>Nigeria (Lagos)</th>\n",
       "      <td>5.400</td>\n",
       "      <td>3.800</td>\n",
       "      <td>6.900</td>\n",
       "      <td>13.8</td>\n",
       "      <td>11.500</td>\n",
       "      <td>16.100</td>\n",
       "      <td>14.200</td>\n",
       "      <td>11.800</td>\n",
       "      <td>16.500</td>\n",
       "    </tr>\n",
       "    <tr>\n",
       "      <th>India</th>\n",
       "      <td>6.300</td>\n",
       "      <td>4.800</td>\n",
       "      <td>7.900</td>\n",
       "      <td>7.1</td>\n",
       "      <td>5.600</td>\n",
       "      <td>9.100</td>\n",
       "      <td>83.200</td>\n",
       "      <td>79.500</td>\n",
       "      <td>86.500</td>\n",
       "    </tr>\n",
       "    <tr>\n",
       "      <th>Nigeria</th>\n",
       "      <td>8.168</td>\n",
       "      <td>6.392</td>\n",
       "      <td>9.876</td>\n",
       "      <td>25.0</td>\n",
       "      <td>22.684</td>\n",
       "      <td>27.316</td>\n",
       "      <td>25.352</td>\n",
       "      <td>22.952</td>\n",
       "      <td>27.668</td>\n",
       "    </tr>\n",
       "  </tbody>\n",
       "</table>\n",
       "</div>"
      ],
      "text/plain": [
       "                  eats_fortified                 eats_fortifiable          \\\n",
       "                            mean   lower   upper             mean   lower   \n",
       "Ethiopia                   1.000   0.000  10.000             15.0  10.000   \n",
       "India (Rajasthan)          6.300   4.800   7.900              7.1   5.600   \n",
       "Nigeria (Kano)            22.700  20.000  25.500             83.8  81.400   \n",
       "Nigeria (Lagos)            5.400   3.800   6.900             13.8  11.500   \n",
       "India                      6.300   4.800   7.900              7.1   5.600   \n",
       "Nigeria                    8.168   6.392   9.876             25.0  22.684   \n",
       "\n",
       "                          eats_vehicle                  \n",
       "                    upper         mean   lower   upper  \n",
       "Ethiopia           20.000       28.000  23.000  33.000  \n",
       "India (Rajasthan)   9.100       83.200  79.500  86.500  \n",
       "Nigeria (Kano)     86.200       83.900  81.500  86.300  \n",
       "Nigeria (Lagos)    16.100       14.200  11.800  16.500  \n",
       "India               9.100       83.200  79.500  86.500  \n",
       "Nigeria            27.316       25.352  22.952  27.668  "
      ]
     },
     "execution_count": 3,
     "metadata": {},
     "output_type": "execute_result"
    }
   ],
   "source": [
    "rajastan_weight = 1\n",
    "kano_weight = 4/25\n",
    "lagos_weight = 21/25\n",
    "\n",
    "flour_df['India'] = rajastan_weight*flour_df['India (Rajasthan)']\n",
    "flour_df['Nigeria'] = kano_weight*flour_df['Nigeria (Kano)'] + lagos_weight*flour_df['Nigeria (Lagos)']\n",
    "flour_df.T"
   ]
  },
  {
   "cell_type": "code",
   "execution_count": 4,
   "metadata": {},
   "outputs": [
    {
     "data": {
      "text/html": [
       "<div>\n",
       "<style scoped>\n",
       "    .dataframe tbody tr th:only-of-type {\n",
       "        vertical-align: middle;\n",
       "    }\n",
       "\n",
       "    .dataframe tbody tr th {\n",
       "        vertical-align: top;\n",
       "    }\n",
       "\n",
       "    .dataframe thead th {\n",
       "        text-align: right;\n",
       "    }\n",
       "</style>\n",
       "<table border=\"1\" class=\"dataframe\">\n",
       "  <thead>\n",
       "    <tr style=\"text-align: right;\">\n",
       "      <th></th>\n",
       "      <th></th>\n",
       "      <th>Ethiopia</th>\n",
       "      <th>India (Rajasthan)</th>\n",
       "      <th>Nigeria (Kano)</th>\n",
       "      <th>Nigeria (Lagos)</th>\n",
       "      <th>India</th>\n",
       "      <th>Nigeria</th>\n",
       "    </tr>\n",
       "  </thead>\n",
       "  <tbody>\n",
       "    <tr>\n",
       "      <th rowspan=\"3\" valign=\"top\">eats_fortified</th>\n",
       "      <th>mean</th>\n",
       "      <td>1.0</td>\n",
       "      <td>6.3</td>\n",
       "      <td>22.7</td>\n",
       "      <td>5.4</td>\n",
       "      <td>6.3</td>\n",
       "      <td>8.168</td>\n",
       "    </tr>\n",
       "    <tr>\n",
       "      <th>lower</th>\n",
       "      <td>0.0</td>\n",
       "      <td>4.8</td>\n",
       "      <td>20.0</td>\n",
       "      <td>3.8</td>\n",
       "      <td>4.8</td>\n",
       "      <td>6.392</td>\n",
       "    </tr>\n",
       "    <tr>\n",
       "      <th>upper</th>\n",
       "      <td>10.0</td>\n",
       "      <td>7.9</td>\n",
       "      <td>25.5</td>\n",
       "      <td>6.9</td>\n",
       "      <td>7.9</td>\n",
       "      <td>9.876</td>\n",
       "    </tr>\n",
       "    <tr>\n",
       "      <th rowspan=\"3\" valign=\"top\">eats_fortifiable</th>\n",
       "      <th>mean</th>\n",
       "      <td>15.0</td>\n",
       "      <td>7.1</td>\n",
       "      <td>83.8</td>\n",
       "      <td>13.8</td>\n",
       "      <td>7.1</td>\n",
       "      <td>25.000</td>\n",
       "    </tr>\n",
       "    <tr>\n",
       "      <th>lower</th>\n",
       "      <td>10.0</td>\n",
       "      <td>5.6</td>\n",
       "      <td>81.4</td>\n",
       "      <td>11.5</td>\n",
       "      <td>5.6</td>\n",
       "      <td>22.684</td>\n",
       "    </tr>\n",
       "    <tr>\n",
       "      <th>upper</th>\n",
       "      <td>20.0</td>\n",
       "      <td>9.1</td>\n",
       "      <td>86.2</td>\n",
       "      <td>16.1</td>\n",
       "      <td>9.1</td>\n",
       "      <td>27.316</td>\n",
       "    </tr>\n",
       "    <tr>\n",
       "      <th rowspan=\"3\" valign=\"top\">eats_vehicle</th>\n",
       "      <th>mean</th>\n",
       "      <td>28.0</td>\n",
       "      <td>83.2</td>\n",
       "      <td>83.9</td>\n",
       "      <td>14.2</td>\n",
       "      <td>83.2</td>\n",
       "      <td>25.352</td>\n",
       "    </tr>\n",
       "    <tr>\n",
       "      <th>lower</th>\n",
       "      <td>23.0</td>\n",
       "      <td>79.5</td>\n",
       "      <td>81.5</td>\n",
       "      <td>11.8</td>\n",
       "      <td>79.5</td>\n",
       "      <td>22.952</td>\n",
       "    </tr>\n",
       "    <tr>\n",
       "      <th>upper</th>\n",
       "      <td>33.0</td>\n",
       "      <td>86.5</td>\n",
       "      <td>86.3</td>\n",
       "      <td>16.5</td>\n",
       "      <td>86.5</td>\n",
       "      <td>27.668</td>\n",
       "    </tr>\n",
       "  </tbody>\n",
       "</table>\n",
       "</div>"
      ],
      "text/plain": [
       "                        Ethiopia  India (Rajasthan)  Nigeria (Kano)  \\\n",
       "eats_fortified   mean        1.0                6.3            22.7   \n",
       "                 lower       0.0                4.8            20.0   \n",
       "                 upper      10.0                7.9            25.5   \n",
       "eats_fortifiable mean       15.0                7.1            83.8   \n",
       "                 lower      10.0                5.6            81.4   \n",
       "                 upper      20.0                9.1            86.2   \n",
       "eats_vehicle     mean       28.0               83.2            83.9   \n",
       "                 lower      23.0               79.5            81.5   \n",
       "                 upper      33.0               86.5            86.3   \n",
       "\n",
       "                        Nigeria (Lagos)  India  Nigeria  \n",
       "eats_fortified   mean               5.4    6.3    8.168  \n",
       "                 lower              3.8    4.8    6.392  \n",
       "                 upper              6.9    7.9    9.876  \n",
       "eats_fortifiable mean              13.8    7.1   25.000  \n",
       "                 lower             11.5    5.6   22.684  \n",
       "                 upper             16.1    9.1   27.316  \n",
       "eats_vehicle     mean              14.2   83.2   25.352  \n",
       "                 lower             11.8   79.5   22.952  \n",
       "                 upper             16.5   86.5   27.668  "
      ]
     },
     "execution_count": 4,
     "metadata": {},
     "output_type": "execute_result"
    }
   ],
   "source": [
    "flour_df"
   ]
  },
  {
   "cell_type": "markdown",
   "metadata": {},
   "source": [
    "## Define and test the coverage function"
   ]
  },
  {
   "cell_type": "code",
   "execution_count": 5,
   "metadata": {},
   "outputs": [],
   "source": [
    "t_start = 1 # coverage starts one year after start of sim\n",
    "r = 0.1 # unfortified food decreases by 10%/year after initial jump\n",
    "\n",
    "def coverage(t, a, b, c, t_start=t_start, r=r):\n",
    "    # return a if t < t_start else b + (c-b)*(1-(1-r)**(t-t_start)) # non-vectorized version (works for scalars)\n",
    "    return np.where(t < t_start, a, b + (c-b)*(1-(1-r)**(t-t_start))) # vectorized version (t can be an array)"
   ]
  },
  {
   "cell_type": "code",
   "execution_count": 6,
   "metadata": {},
   "outputs": [
    {
     "data": {
      "text/plain": [
       "array([ 2.10580261, 10.45170197,  0.87639334,  2.16645779,  4.38402217,\n",
       "        2.52683186,  6.26936794,  3.40898417, 11.77044396,  3.34195601])"
      ]
     },
     "execution_count": 6,
     "metadata": {},
     "output_type": "execute_result"
    }
   ],
   "source": [
    "# Check that we can exponentiate an array... yep!\n",
    "t = np.random.normal(2, size=10)\n",
    "2**t"
   ]
  },
  {
   "cell_type": "code",
   "execution_count": 7,
   "metadata": {},
   "outputs": [
    {
     "data": {
      "text/plain": [
       "eats_fortified    mean     6.3\n",
       "eats_fortifiable  mean     7.1\n",
       "eats_vehicle      mean    83.2\n",
       "Name: India, dtype: float64"
      ]
     },
     "execution_count": 7,
     "metadata": {},
     "output_type": "execute_result"
    }
   ],
   "source": [
    "# Use an index slice to easily access just the means - these are a,b,c\n",
    "idx = pd.IndexSlice\n",
    "flour_df.loc[idx[:,'mean'], 'India']"
   ]
  },
  {
   "cell_type": "code",
   "execution_count": 8,
   "metadata": {},
   "outputs": [
    {
     "data": {
      "text/plain": [
       "array(14.71)"
      ]
     },
     "execution_count": 8,
     "metadata": {},
     "output_type": "execute_result"
    }
   ],
   "source": [
    "# Use argument unpacking to assign a, b, and c in the function call\n",
    "coverage(2, *flour_df.loc[idx[:,'mean'], 'India'])"
   ]
  },
  {
   "cell_type": "code",
   "execution_count": 9,
   "metadata": {},
   "outputs": [
    {
     "data": {
      "text/plain": [
       "array([ 7.69396545, 24.01351237,  6.3       ,  8.01917738, 15.65775295,\n",
       "        9.75718789, 19.23216241, 13.02514854, 25.07294466, 12.81300645])"
      ]
     },
     "execution_count": 9,
     "metadata": {},
     "output_type": "execute_result"
    }
   ],
   "source": [
    "# Apply the coverage function to an array of times\n",
    "coverage(t, *flour_df.loc[idx[:,'mean'], 'India'])"
   ]
  },
  {
   "cell_type": "code",
   "execution_count": 10,
   "metadata": {},
   "outputs": [
    {
     "data": {
      "text/plain": [
       "array([ 6.3   ,  7.1   , 14.71  , 21.559 , 27.7231])"
      ]
     },
     "execution_count": 10,
     "metadata": {},
     "output_type": "execute_result"
    }
   ],
   "source": [
    "# Compute the coverage at t = [0,1,2,3,4] to see if the values look right\n",
    "# Should have coverage(0) = 6.3, coverage(1) = 7.1 - yes, looks good\n",
    "coverage(np.arange(5), *flour_df.loc[idx[:,'mean'], 'India'])"
   ]
  },
  {
   "cell_type": "code",
   "execution_count": 11,
   "metadata": {},
   "outputs": [
    {
     "data": {
      "text/plain": [
       "array([ 4.8   ,  5.6   , 12.99  , 19.641 , 25.6269])"
      ]
     },
     "execution_count": 11,
     "metadata": {},
     "output_type": "execute_result"
    }
   ],
   "source": [
    "# See what we get if we plug in the 'lower' values instead\n",
    "coverage(np.arange(5), *flour_df.loc[idx[:,'lower'], 'India'])"
   ]
  },
  {
   "cell_type": "code",
   "execution_count": 12,
   "metadata": {},
   "outputs": [
    {
     "name": "stdout",
     "output_type": "stream",
     "text": [
      "4.8 5.6 79.5\n"
     ]
    }
   ],
   "source": [
    "# We can also use argument unpacking to assign individual variables a,b,c\n",
    "a,b,c = flour_df.loc[idx[:,'lower'], 'India']\n",
    "print(a,b,c)"
   ]
  },
  {
   "cell_type": "markdown",
   "metadata": {},
   "source": [
    "## Write code to plot the coverage function\n",
    "\n",
    "Try writing some plotting functions based on this post: https://towardsdatascience.com/creating-custom-plotting-functions-with-matplotlib-1f4b8eba6aa1\n",
    "\n",
    "### First plot a single country to prototype the code:"
   ]
  },
  {
   "cell_type": "code",
   "execution_count": 13,
   "metadata": {},
   "outputs": [
    {
     "data": {
      "image/png": "[encoded data removed]",
      "text/plain": [
       "<Figure size 432x288 with 1 Axes>"
      ]
     },
     "metadata": {
      "needs_background": "light"
     },
     "output_type": "display_data"
    }
   ],
   "source": [
    "# Create figure with single axes object\n",
    "fig, ax = plt.subplots()\n",
    "\n",
    "# Define the time range, coverage start time, and mean coverage parameters\n",
    "t = np.linspace(2020, 2025)\n",
    "t_start = 2021\n",
    "a,b,c = flour_df.loc[idx[:,'mean'], 'India']\n",
    "\n",
    "# Specify options for the plot\n",
    "plt_params = {'label':f'India (a={a}, b={b}, c={c})'}\n",
    "fill_params = {'alpha':0.1}\n",
    "\n",
    "# Plot the mean\n",
    "ax.plot(t, coverage(t,a,b,c,t_start), **plt_params)\n",
    "\n",
    "# Plot the lower and upper bounds\n",
    "lower = coverage(t, *flour_df.loc[idx[:,'lower'], 'India'], t_start)\n",
    "upper = coverage(t, *flour_df.loc[idx[:,'upper'], 'India'], t_start)\n",
    "ax.fill_between(t, lower, upper, **fill_params)\n",
    "\n",
    "# Add title, axis labels, legend\n",
    "title_fontsize = 16\n",
    "axis_fontsize = 14\n",
    "legend_fontsize = 12\n",
    "\n",
    "ax.set_title('Population coverage of fortified flour', fontsize=title_fontsize)\n",
    "ax.set_xlabel('Year', fontsize=axis_fontsize)\n",
    "ax.set_ylabel('Percent of population', fontsize=axis_fontsize)\n",
    "ax.set_ylim(0,50)\n",
    "ax.legend(fontsize=legend_fontsize)\n",
    "\n",
    "fig.tight_layout()\n",
    "plt.show()"
   ]
  },
  {
   "cell_type": "markdown",
   "metadata": {},
   "source": [
    "### Now write some actual functions to do the plotting"
   ]
  },
  {
   "cell_type": "code",
   "execution_count": 20,
   "metadata": {},
   "outputs": [],
   "source": [
    "def plot_mean_lower_upper_ribbon(x, mean, lower, upper, ax=None, plt_kwargs={}, fill_kwargs={}):\n",
    "    # If no axes is passed, use plt.gca() (get current axes)\n",
    "    if ax is None:\n",
    "        ax = plt.gca()\n",
    "    \n",
    "    # Plot a line for the mean and a ribbon between lower and upper\n",
    "    ax.plot(x, mean, **plt_kwargs)\n",
    "    ax.fill_between(x, lower, upper, **fill_kwargs)\n",
    "    return ax\n",
    "\n",
    "def plot_coverage(start_year, end_year, t_start, locations, coverage_df, vehicle):\n",
    "    # Create figure with single axes object\n",
    "    fig, ax = plt.subplots(figsize=(7,5))\n",
    "    \n",
    "    # Get a pandas IndexSlice for easier multi-indexing of coverage_df\n",
    "    idx = pd.IndexSlice\n",
    "    \n",
    "    # Define the time range and coverage start time\n",
    "    t = np.linspace(start_year, end_year, num=100)\n",
    "    \n",
    "    for location in locations:\n",
    "        # Get the mean values of a,b,c to include in the plot legend\n",
    "        a,b,c = coverage_df.loc[idx[:,'mean'], location]\n",
    "    \n",
    "        # Specify options for the plot\n",
    "        plt_params = {'label':f'{location} (a={a:.1f}, b={b:.1f}, c={c:.1f})'}\n",
    "        fill_params = {'alpha':0.1}\n",
    "        \n",
    "        # Compute 3 versions of the coverage function for the location,\n",
    "        # based on mean, upper, and lower parameters\n",
    "        mean, lower, upper = [coverage(t, *coverage_df.loc[idx[:,val], location], t_start)\n",
    "                              for val in ['mean', 'lower', 'upper']]\n",
    "        \n",
    "        # Plot a line for the mean and a ribbon between lower and upper\n",
    "        plot_mean_lower_upper_ribbon(t, mean, lower, upper,\n",
    "                                     ax=ax, plt_kwargs=plt_params, fill_kwargs=fill_params)\n",
    "        \n",
    "    # Add title, axis labels, legend\n",
    "    title_fontsize = 16\n",
    "    axis_fontsize = 14\n",
    "    legend_fontsize = 12\n",
    "\n",
    "    ax.set_title(f'Population coverage of fortified {vehicle}', fontsize=title_fontsize)\n",
    "    ax.set_xlabel('Year', fontsize=axis_fontsize)\n",
    "    ax.set_ylabel('Percent of population', fontsize=axis_fontsize)\n",
    "#     ax.set_ylim(0,50)\n",
    "    ax.legend(fontsize=legend_fontsize)\n",
    "\n",
    "    fig.tight_layout()\n",
    "    return fig, ax"
   ]
  },
  {
   "cell_type": "code",
   "execution_count": 23,
   "metadata": {},
   "outputs": [
    {
     "data": {
      "image/png": "[encoded data removed]",
      "text/plain": [
       "<Figure size 504x360 with 1 Axes>"
      ]
     },
     "metadata": {
      "needs_background": "light"
     },
     "output_type": "display_data"
    }
   ],
   "source": [
    "locations = ['Ethiopia', 'India', 'Nigeria']\n",
    "plot_coverage(2020, 2025, 2021, locations, flour_df, 'flour')\n",
    "plt.show()"
   ]
  },
  {
   "cell_type": "markdown",
   "metadata": {},
   "source": [
    "## Draw graph of oil coverage, using newly created module with the above functions"
   ]
  },
  {
   "cell_type": "code",
   "execution_count": 16,
   "metadata": {},
   "outputs": [],
   "source": [
    "import lsff_plots\n",
    "%load_ext autoreload\n",
    "%autoreload 2"
   ]
  },
  {
   "cell_type": "code",
   "execution_count": 18,
   "metadata": {},
   "outputs": [
    {
     "data": {
      "text/html": [
       "<div>\n",
       "<style scoped>\n",
       "    .dataframe tbody tr th:only-of-type {\n",
       "        vertical-align: middle;\n",
       "    }\n",
       "\n",
       "    .dataframe tbody tr th {\n",
       "        vertical-align: top;\n",
       "    }\n",
       "\n",
       "    .dataframe thead tr th {\n",
       "        text-align: left;\n",
       "    }\n",
       "</style>\n",
       "<table border=\"1\" class=\"dataframe\">\n",
       "  <thead>\n",
       "    <tr>\n",
       "      <th></th>\n",
       "      <th colspan=\"3\" halign=\"left\">eats_fortified</th>\n",
       "      <th colspan=\"3\" halign=\"left\">eats_fortifiable</th>\n",
       "      <th colspan=\"3\" halign=\"left\">eats_vehicle</th>\n",
       "    </tr>\n",
       "    <tr>\n",
       "      <th></th>\n",
       "      <th>mean</th>\n",
       "      <th>lower</th>\n",
       "      <th>upper</th>\n",
       "      <th>mean</th>\n",
       "      <th>lower</th>\n",
       "      <th>upper</th>\n",
       "      <th>mean</th>\n",
       "      <th>lower</th>\n",
       "      <th>upper</th>\n",
       "    </tr>\n",
       "  </thead>\n",
       "  <tbody>\n",
       "    <tr>\n",
       "      <th>Ethiopia</th>\n",
       "      <td>1.000</td>\n",
       "      <td>0.000</td>\n",
       "      <td>10.00</td>\n",
       "      <td>44.000</td>\n",
       "      <td>34.000</td>\n",
       "      <td>54.000</td>\n",
       "      <td>55.000</td>\n",
       "      <td>45.000</td>\n",
       "      <td>65.0</td>\n",
       "    </tr>\n",
       "    <tr>\n",
       "      <th>India (Rajasthan)</th>\n",
       "      <td>24.300</td>\n",
       "      <td>21.100</td>\n",
       "      <td>27.90</td>\n",
       "      <td>89.400</td>\n",
       "      <td>87.000</td>\n",
       "      <td>91.800</td>\n",
       "      <td>100.000</td>\n",
       "      <td>100.000</td>\n",
       "      <td>100.0</td>\n",
       "    </tr>\n",
       "    <tr>\n",
       "      <th>Nigeria (Kano)</th>\n",
       "      <td>7.600</td>\n",
       "      <td>5.900</td>\n",
       "      <td>9.40</td>\n",
       "      <td>35.900</td>\n",
       "      <td>32.700</td>\n",
       "      <td>39.100</td>\n",
       "      <td>98.400</td>\n",
       "      <td>97.600</td>\n",
       "      <td>99.3</td>\n",
       "    </tr>\n",
       "    <tr>\n",
       "      <th>Nigeria (Lagos)</th>\n",
       "      <td>7.200</td>\n",
       "      <td>5.500</td>\n",
       "      <td>8.90</td>\n",
       "      <td>22.700</td>\n",
       "      <td>19.900</td>\n",
       "      <td>25.500</td>\n",
       "      <td>98.600</td>\n",
       "      <td>97.800</td>\n",
       "      <td>99.3</td>\n",
       "    </tr>\n",
       "    <tr>\n",
       "      <th>India</th>\n",
       "      <td>24.300</td>\n",
       "      <td>21.100</td>\n",
       "      <td>27.90</td>\n",
       "      <td>89.400</td>\n",
       "      <td>87.000</td>\n",
       "      <td>91.800</td>\n",
       "      <td>100.000</td>\n",
       "      <td>100.000</td>\n",
       "      <td>100.0</td>\n",
       "    </tr>\n",
       "    <tr>\n",
       "      <th>Nigeria</th>\n",
       "      <td>7.264</td>\n",
       "      <td>5.564</td>\n",
       "      <td>8.98</td>\n",
       "      <td>24.812</td>\n",
       "      <td>21.948</td>\n",
       "      <td>27.676</td>\n",
       "      <td>98.568</td>\n",
       "      <td>97.768</td>\n",
       "      <td>99.3</td>\n",
       "    </tr>\n",
       "  </tbody>\n",
       "</table>\n",
       "</div>"
      ],
      "text/plain": [
       "                  eats_fortified                eats_fortifiable          \\\n",
       "                            mean   lower  upper             mean   lower   \n",
       "Ethiopia                   1.000   0.000  10.00           44.000  34.000   \n",
       "India (Rajasthan)         24.300  21.100  27.90           89.400  87.000   \n",
       "Nigeria (Kano)             7.600   5.900   9.40           35.900  32.700   \n",
       "Nigeria (Lagos)            7.200   5.500   8.90           22.700  19.900   \n",
       "India                     24.300  21.100  27.90           89.400  87.000   \n",
       "Nigeria                    7.264   5.564   8.98           24.812  21.948   \n",
       "\n",
       "                          eats_vehicle                  \n",
       "                    upper         mean    lower  upper  \n",
       "Ethiopia           54.000       55.000   45.000   65.0  \n",
       "India (Rajasthan)  91.800      100.000  100.000  100.0  \n",
       "Nigeria (Kano)     39.100       98.400   97.600   99.3  \n",
       "Nigeria (Lagos)    25.500       98.600   97.800   99.3  \n",
       "India              91.800      100.000  100.000  100.0  \n",
       "Nigeria            27.676       98.568   97.768   99.3  "
      ]
     },
     "execution_count": 18,
     "metadata": {},
     "output_type": "execute_result"
    }
   ],
   "source": [
    "oil_df = lsff_plots.get_raw_oil_coverage_df()\n",
    "lsff_plots.add_national_estimates(oil_df)\n",
    "oil_df.T"
   ]
  },
  {
   "cell_type": "code",
   "execution_count": 24,
   "metadata": {},
   "outputs": [
    {
     "data": {
      "image/png": "[encoded data removed]",
      "text/plain": [
       "<Figure size 504x360 with 1 Axes>"
      ]
     },
     "metadata": {
      "needs_background": "light"
     },
     "output_type": "display_data"
    }
   ],
   "source": [
    "fig, ax = plt.subplots(figsize=(7,5))\n",
    "lsff_plots.plot_coverage(ax, 2020, 2025, 2021, locations, oil_df, 'oil')\n",
    "plt.show()"
   ]
  },
  {
   "cell_type": "code",
   "execution_count": 25,
   "metadata": {},
   "outputs": [
    {
     "data": {
      "image/png": "[encoded data removed]",
      "text/plain": [
       "<Figure size 1008x360 with 2 Axes>"
      ]
     },
     "metadata": {
      "needs_background": "light"
     },
     "output_type": "display_data"
    }
   ],
   "source": [
    "lsff_plots.make_coverage_plots()\n",
    "plt.show()"
   ]
  },
  {
   "cell_type": "markdown",
   "metadata": {},
   "source": [
    "## Save the figures"
   ]
  },
  {
   "cell_type": "code",
   "execution_count": 33,
   "metadata": {},
   "outputs": [],
   "source": [
    "# directory = '/ihme/homes/ndbs/images/lsff'\n",
    "\n",
    "# fig, ax = plt.subplots(figsize=(7,5))\n",
    "# lsff_plots.plot_coverage(ax, 2020, 2025, 2021, locations, flour_df, 'flour')\n",
    "# plt.savefig(f'{directory}/flour_coverage.svg')\n",
    "\n",
    "# fig, ax = plt.subplots(figsize=(7,5))\n",
    "# lsff_plots.plot_coverage(ax, 2020, 2025, 2021, locations, oil_df, 'oil')\n",
    "# plt.savefig(f'{directory}/oil_coverage.svg')\n",
    "\n",
    "# lsff_plots.make_coverage_plots()\n",
    "# plt.savefig(f'{directory}/coverage_plots.svg')"
   ]
  },
  {
   "cell_type": "code",
   "execution_count": null,
   "metadata": {},
   "outputs": [],
   "source": []
  }
 ],
 "metadata": {
  "kernelspec": {
   "display_name": "Python 3",
   "language": "python",
   "name": "python3"
  },
  "language_info": {
   "codemirror_mode": {
    "name": "ipython",
    "version": 3
   },
   "file_extension": ".py",
   "mimetype": "text/x-python",
   "name": "python",
   "nbconvert_exporter": "python",
   "pygments_lexer": "ipython3",
   "version": "3.6.10"
  }
 },
 "nbformat": 4,
 "nbformat_minor": 4
}
