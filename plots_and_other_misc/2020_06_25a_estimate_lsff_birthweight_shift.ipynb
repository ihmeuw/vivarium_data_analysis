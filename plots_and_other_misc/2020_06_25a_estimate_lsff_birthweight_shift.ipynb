{
 "cells": [
  {
   "cell_type": "code",
   "execution_count": 1,
   "metadata": {},
   "outputs": [],
   "source": [
    "import numpy as np, pandas as pd, matplotlib.pyplot as plt\n",
    "import scipy.stats as scs"
   ]
  },
  {
   "cell_type": "code",
   "execution_count": 71,
   "metadata": {},
   "outputs": [],
   "source": [
    "class Mixture():\n",
    "    def __init__(self, components, weights=None):\n",
    "        n = len(components)\n",
    "        if weights is None:\n",
    "            weights = np.ones(n) / n\n",
    "        if len(weights) != n:\n",
    "            raise ValueError(\"must have same number of weights as components\")\n",
    "        self.components = components\n",
    "        self.weights = np.array(weights)\n",
    "        \n",
    "    def pdf(self, x):\n",
    "        return sum(w*c.pdf(x) for w,c in zip(self.weights, self.components))\n",
    "    \n",
    "    def cdf(self, x):\n",
    "        return sum(w*c.cdf(x) for w,c in zip(self.weights, self.components))\n",
    "    \n",
    "    def mean(self):\n",
    "        return sum(w*c.mean() for w,c in zip(self.weights, self.components))\n",
    "    \n",
    "    def component_means(self):\n",
    "        return np.array([c.mean() for c in self.components])\n",
    "    \n",
    "    def component_vars(self):\n",
    "        return np.array([c.var() for c in self.components])\n",
    "    \n",
    "    def var(self):\n",
    "        mean_of_vars = self.weights.dot(self.component_vars())\n",
    "        var_of_means = self.weights.dot((self.component_means() - self.mean())**2)\n",
    "        return mean_of_vars + var_of_means\n",
    "    \n",
    "    def rvs(self, size=1):\n",
    "        rvs = [c.rvs() for c in np.random.choice(self.components, p=self.weights, size=size).flatten()]\n",
    "        return rvs[0] if size == 1 else np.array(rvs).reshape(size)"
   ]
  },
  {
   "cell_type": "markdown",
   "metadata": {},
   "source": [
    "## Define function to sample flour consumption in the population"
   ]
  },
  {
   "cell_type": "code",
   "execution_count": 4,
   "metadata": {},
   "outputs": [],
   "source": [
    "def sample_flour_consumption(n):\n",
    "    \"\"\"Distribution for daily flour consumption (from Ethiopia)\"\"\"\n",
    "    # Define quantiles in g of flour per day\n",
    "    q0 = 0\n",
    "    q1 = 77.5\n",
    "    q2 = 100\n",
    "    q3 = 200\n",
    "    q4 = 350.5\n",
    "\n",
    "    daily_flour_consumption = np.empty(n) # to store the returned sample\n",
    "    u = np.random.uniform(0,1,size=n) # n random numbers, one for each returned value\n",
    "\n",
    "    # Define the distribution to be uniform between each quantile\n",
    "    for i in range(n):\n",
    "        if u[i] <= 0.25:\n",
    "            daily_flour_consumption[i] = np.random.uniform(q0,q1)\n",
    "        elif u[i] <= 0.5:\n",
    "            daily_flour_consumption[i] = np.random.uniform(q1,q2)\n",
    "        elif u[i] <= 0.75:\n",
    "            daily_flour_consumption[i] = np.random.uniform(q2,q3)\n",
    "        else:\n",
    "            daily_flour_consumption[i] = np.random.uniform(q3,q4)\n",
    "        \n",
    "    return daily_flour_consumption"
   ]
  },
  {
   "cell_type": "code",
   "execution_count": 15,
   "metadata": {},
   "outputs": [
    {
     "data": {
      "image/png": "[encoded data removed]",
      "text/plain": [
       "<Figure size 432x288 with 1 Axes>"
      ]
     },
     "metadata": {
      "needs_background": "light"
     },
     "output_type": "display_data"
    }
   ],
   "source": [
    "flour_consumption = sample_flour_consumption(5000)\n",
    "plt.hist(flour_consumption, bins=100)\n",
    "plt.show()"
   ]
  },
  {
   "cell_type": "code",
   "execution_count": 16,
   "metadata": {},
   "outputs": [
    {
     "data": {
      "text/plain": [
       "139.67352686269342"
      ]
     },
     "execution_count": 16,
     "metadata": {},
     "output_type": "execute_result"
    }
   ],
   "source": [
    "flour_consumption.mean()"
   ]
  },
  {
   "cell_type": "code",
   "execution_count": 17,
   "metadata": {},
   "outputs": [
    {
     "data": {
      "text/plain": [
       "93.15095398257353"
      ]
     },
     "execution_count": 17,
     "metadata": {},
     "output_type": "execute_result"
    }
   ],
   "source": [
    "flour_consumption.std()"
   ]
  },
  {
   "cell_type": "markdown",
   "metadata": {},
   "source": [
    "## Define other input data for birthweight shift - dose response and iron consumption\n",
    "\n",
    "### Dose response for iron on birthweight\n",
    "\n",
    "15.1 grams (95% CI: 6.0, 24.2) per 10 mg of daily iron consumptionn (use normal distribution)"
   ]
  },
  {
   "cell_type": "code",
   "execution_count": 19,
   "metadata": {},
   "outputs": [],
   "source": [
    "# Define normal distribution for dose-response on birthweight\n",
    "\n",
    "# mean and 0.975-quantile of normal distribution for mean difference (MD)\n",
    "mean = 15.1 # g per 10 mg daily iron\n",
    "q_975 = 24.2 # 97.5th percentile\n",
    "\n",
    "# 0.975-quantile of standard normal distribution (=1.96, approximately)\n",
    "q_975_stdnorm = scs.norm().ppf(0.975)\n",
    "\n",
    "std = (q_975 - mean) / q_975_stdnorm # std dev of normal distribution\n",
    "\n",
    "# Frozen normal distribution for MD, representing uncertainty in our effect size\n",
    "dose_response_distribution = scs.norm(mean, std)\n",
    "\n",
    "# # random sample from effect size distribution\n",
    "# bw_md_per_10_mg_iron = dose_response_distribution.rvs()"
   ]
  },
  {
   "cell_type": "code",
   "execution_count": 21,
   "metadata": {},
   "outputs": [
    {
     "data": {
      "text/plain": [
       "11.439474543479001"
      ]
     },
     "execution_count": 21,
     "metadata": {},
     "output_type": "execute_result"
    }
   ],
   "source": [
    "dose_response = dose_response_distribution.rvs()\n",
    "dose_response"
   ]
  },
  {
   "cell_type": "markdown",
   "metadata": {},
   "source": [
    "### Iron concentration in flour for each country\n",
    "\n",
    "Ethiopia: 30 mg iron as NaFeEDTA / kg flour;\n",
    "    use point value\n",
    "\n",
    "India: 14 to 21.25 mg iron as NaFeEDTA / kg flour;\n",
    "    sample from uniform distribution with range: 14 - 21.25 (mean 17.625)\n",
    "\n",
    "Nigeria: 40 mg iron as NaFeEDTA / kg flour;\n",
    "    use point value\n",
    "  "
   ]
  },
  {
   "cell_type": "code",
   "execution_count": 23,
   "metadata": {},
   "outputs": [
    {
     "data": {
      "text/plain": [
       "17.625"
      ]
     },
     "execution_count": 23,
     "metadata": {},
     "output_type": "execute_result"
    }
   ],
   "source": [
    "# Define India's flour distribution\n",
    "india_min = 14 # mg iron as NaFeEDTA per kg Flour\n",
    "india_max = 21.25\n",
    "scale = india_max-india_min\n",
    "india_iron_conc_distribution = scs.uniform(loc=india_min, scale=scale)\n",
    "india_iron_conc_distribution.mean()"
   ]
  },
  {
   "cell_type": "code",
   "execution_count": 25,
   "metadata": {},
   "outputs": [
    {
     "data": {
      "text/plain": [
       "15.60528620463802"
      ]
     },
     "execution_count": 25,
     "metadata": {},
     "output_type": "execute_result"
    }
   ],
   "source": [
    "india_iron_concentration = india_iron_conc_distribution.rvs()\n",
    "india_iron_concentration"
   ]
  },
  {
   "cell_type": "code",
   "execution_count": 35,
   "metadata": {},
   "outputs": [],
   "source": [
    "# Define degenerate distributions to sample iron concentration in Ethiopia and Nigreia\n",
    "# (We define distributions for consistency with India in the \"multiple draws\" function below)\n",
    "ethiopia_iron_conc_distribution = scs.bernoulli(p=0,loc=30) # 30 mg iron as NaFeEDTA per kg flour\n",
    "nigeria_iron_conc_distribution = scs.bernoulli(p=0,loc=40) # 40 mg iron as NaFeEDTA per kg flour"
   ]
  },
  {
   "cell_type": "code",
   "execution_count": 36,
   "metadata": {},
   "outputs": [
    {
     "name": "stdout",
     "output_type": "stream",
     "text": [
      "[30 30 30 30 30]\n",
      "[40 40 40 40 40]\n"
     ]
    }
   ],
   "source": [
    "print(ethiopia_iron_conc_distribution.rvs(5))\n",
    "print(nigeria_iron_conc_distribution.rvs(5))"
   ]
  },
  {
   "cell_type": "markdown",
   "metadata": {},
   "source": [
    "## Define function to compute birthweight shift, and plot the distribution of shifts"
   ]
  },
  {
   "cell_type": "code",
   "execution_count": 18,
   "metadata": {},
   "outputs": [],
   "source": [
    "def birthweight_shift(dose_response, iron_concentration, daily_flour):\n",
    "    \"\"\"\n",
    "    Computes the increase in birthweight (in grams) given the following:\n",
    "    \n",
    "    dose_response: g of birthweight increase per 10 mg daily iron\n",
    "    iron_concentration: mg iron as NaFeEDTA per kg flour\n",
    "    daily flour: g of iron eaten per day by pregnant mother\n",
    "    \"\"\"\n",
    "    return (dose_response/10)*(iron_concentration)*(daily_flour/1_000)"
   ]
  },
  {
   "cell_type": "code",
   "execution_count": 27,
   "metadata": {},
   "outputs": [
    {
     "data": {
      "image/png": "[encoded data removed]",
      "text/plain": [
       "<Figure size 432x288 with 1 Axes>"
      ]
     },
     "metadata": {
      "needs_background": "light"
     },
     "output_type": "display_data"
    }
   ],
   "source": [
    "bw_shifts = birthweight_shift(dose_response, india_iron_concentration, flour_consumption)\n",
    "plt.hist(bw_shifts, bins=100)\n",
    "plt.show()"
   ]
  },
  {
   "cell_type": "code",
   "execution_count": 28,
   "metadata": {},
   "outputs": [
    {
     "name": "stdout",
     "output_type": "stream",
     "text": [
      "2.493399763130747 1.6628961250751446\n"
     ]
    }
   ],
   "source": [
    "print(bw_shifts.mean(), bw_shifts.std())"
   ]
  },
  {
   "cell_type": "markdown",
   "metadata": {},
   "source": [
    "## Get an idea of the range of possible mean birthweight shifts in India"
   ]
  },
  {
   "cell_type": "code",
   "execution_count": 29,
   "metadata": {},
   "outputs": [
    {
     "name": "stdout",
     "output_type": "stream",
     "text": [
      "4.732073748339573 3.155910743250946\n",
      "2.767686254879969 1.8458230471975479\n",
      "4.918623304678858 3.2803242203668574\n",
      "4.4507670752688595 2.968301927559188\n",
      "5.9569988543598695 3.972836790340492\n",
      "4.366062958578201 2.911811127525602\n",
      "5.233196665640815 3.4901192282635\n",
      "2.2243205924380125 1.4834420652409697\n",
      "6.011699033402339 4.00931738888536\n",
      "3.4183702800430997 2.279776703603398\n",
      "4.923892205978295 3.283838151700209\n",
      "3.188792589343235 2.1266669384090844\n",
      "3.5044342124253336 2.3371743908027613\n",
      "2.9116231432699045 1.9418173187532906\n",
      "4.707735440243864 3.139679058776724\n",
      "6.090091495489179 4.061598825407044\n",
      "2.692815444455322 1.7958902677141426\n",
      "5.380999030174214 3.588691459998587\n",
      "4.486060029318343 2.991839475528492\n",
      "5.032314329000138 3.356146945063959\n"
     ]
    }
   ],
   "source": [
    "for i in range(20):\n",
    "    dose_response = dose_response_distribution.rvs()\n",
    "    india_iron_concentration = india_iron_conc_distribution.rvs()\n",
    "    bw_shifts = birthweight_shift(dose_response, india_iron_concentration, flour_consumption)\n",
    "    print(bw_shifts.mean(), bw_shifts.std())"
   ]
  },
  {
   "cell_type": "code",
   "execution_count": 37,
   "metadata": {},
   "outputs": [
    {
     "data": {
      "image/png": "[encoded data removed]",
      "text/plain": [
       "<Figure size 432x288 with 1 Axes>"
      ]
     },
     "metadata": {
      "needs_background": "light"
     },
     "output_type": "display_data"
    }
   ],
   "source": [
    "# Plot the final distribution of birthweight shifts (one draw) for India\n",
    "plt.hist(bw_shifts, bins=100)\n",
    "plt.show()"
   ]
  },
  {
   "cell_type": "markdown",
   "metadata": {},
   "source": [
    "## Plot the overall distribution including parameter uncertainty (multiple draws)"
   ]
  },
  {
   "cell_type": "code",
   "execution_count": 38,
   "metadata": {},
   "outputs": [],
   "source": [
    "def birthweight_shift_over_draws(dose_response_distribution,\n",
    "                                 iron_conc_distribution,\n",
    "                                 population_size,\n",
    "                                 num_draws,\n",
    "                                 ):\n",
    "    bw_shifts = np.empty((num_draws,population_size))\n",
    "    dose_response = dose_response_distribution.rvs(num_draws)\n",
    "    iron_concentration = iron_conc_distribution.rvs(num_draws)\n",
    "    for i in range(num_draws):\n",
    "        daily_flour = sample_flour_consumption(population_size)\n",
    "        bw_shifts[i] = birthweight_shift(dose_response[i], iron_concentration[i], daily_flour)\n",
    "    \n",
    "    return bw_shifts"
   ]
  },
  {
   "cell_type": "code",
   "execution_count": 53,
   "metadata": {},
   "outputs": [
    {
     "data": {
      "text/plain": [
       "25000"
      ]
     },
     "execution_count": 53,
     "metadata": {},
     "output_type": "execute_result"
    }
   ],
   "source": [
    "1_000*25"
   ]
  },
  {
   "cell_type": "code",
   "execution_count": 51,
   "metadata": {},
   "outputs": [
    {
     "data": {
      "text/plain": [
       "3.6021941408854397"
      ]
     },
     "execution_count": 51,
     "metadata": {},
     "output_type": "execute_result"
    }
   ],
   "source": [
    "bw_shifts = birthweight_shift_over_draws(\n",
    "    dose_response_distribution,\n",
    "    india_iron_conc_distribution,\n",
    "    population_size=1_000,\n",
    "    num_draws=25,\n",
    ")\n",
    "bw_shifts.flatten().mean()"
   ]
  },
  {
   "cell_type": "code",
   "execution_count": 52,
   "metadata": {},
   "outputs": [
    {
     "data": {
      "image/png": "[encoded data removed]",
      "text/plain": [
       "<Figure size 432x288 with 1 Axes>"
      ]
     },
     "metadata": {
      "needs_background": "light"
     },
     "output_type": "display_data"
    }
   ],
   "source": [
    "plt.hist(bw_shifts.flatten(),bins=100)\n",
    "plt.show()"
   ]
  },
  {
   "cell_type": "code",
   "execution_count": 54,
   "metadata": {},
   "outputs": [
    {
     "data": {
      "text/plain": [
       "6.647039654325064"
      ]
     },
     "execution_count": 54,
     "metadata": {},
     "output_type": "execute_result"
    }
   ],
   "source": [
    "bw_shifts = birthweight_shift_over_draws(\n",
    "    dose_response_distribution,\n",
    "    ethiopia_iron_conc_distribution,\n",
    "    population_size=1_000,\n",
    "    num_draws=25,\n",
    ")\n",
    "bw_shifts.flatten().mean()"
   ]
  },
  {
   "cell_type": "code",
   "execution_count": 55,
   "metadata": {},
   "outputs": [
    {
     "data": {
      "image/png": "[encoded data removed]",
      "text/plain": [
       "<Figure size 432x288 with 1 Axes>"
      ]
     },
     "metadata": {
      "needs_background": "light"
     },
     "output_type": "display_data"
    }
   ],
   "source": [
    "plt.hist(bw_shifts.flatten(),bins=100)\n",
    "plt.show()"
   ]
  },
  {
   "cell_type": "code",
   "execution_count": 56,
   "metadata": {},
   "outputs": [
    {
     "data": {
      "text/plain": [
       "9.217432419589075"
      ]
     },
     "execution_count": 56,
     "metadata": {},
     "output_type": "execute_result"
    }
   ],
   "source": [
    "bw_shifts = birthweight_shift_over_draws(\n",
    "    dose_response_distribution,\n",
    "    nigeria_iron_conc_distribution,\n",
    "    population_size=1_000,\n",
    "    num_draws=25,\n",
    ")\n",
    "bw_shifts.flatten().mean()"
   ]
  },
  {
   "cell_type": "code",
   "execution_count": 57,
   "metadata": {},
   "outputs": [
    {
     "data": {
      "image/png": "[encoded data removed]",
      "text/plain": [
       "<Figure size 432x288 with 1 Axes>"
      ]
     },
     "metadata": {
      "needs_background": "light"
     },
     "output_type": "display_data"
    }
   ],
   "source": [
    "plt.hist(bw_shifts.flatten(),bins=100)\n",
    "plt.show()"
   ]
  },
  {
   "cell_type": "code",
   "execution_count": 70,
   "metadata": {},
   "outputs": [
    {
     "name": "stdout",
     "output_type": "stream",
     "text": [
      "8.39664689657603\n",
      "1.6385604561977125\n",
      "-2.991074477679872\n"
     ]
    }
   ],
   "source": [
    "# How likely are we to get a negative dose response sometimes?\n",
    "# Not very likely with only 25 draws...\n",
    "print(dose_response_distribution.rvs(25).min())\n",
    "print(dose_response_distribution.rvs(1000).min())\n",
    "print(dose_response_distribution.rvs(5000).min())"
   ]
  },
  {
   "cell_type": "code",
   "execution_count": null,
   "metadata": {},
   "outputs": [],
   "source": []
  }
 ],
 "metadata": {
  "kernelspec": {
   "display_name": "Python 3",
   "language": "python",
   "name": "python3"
  },
  "language_info": {
   "codemirror_mode": {
    "name": "ipython",
    "version": 3
   },
   "file_extension": ".py",
   "mimetype": "text/x-python",
   "name": "python",
   "nbconvert_exporter": "python",
   "pygments_lexer": "ipython3",
   "version": "3.6.10"
  }
 },
 "nbformat": 4,
 "nbformat_minor": 4
}
