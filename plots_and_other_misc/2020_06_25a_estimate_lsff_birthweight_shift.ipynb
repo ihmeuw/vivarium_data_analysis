{
 "cells": [
  {
   "cell_type": "code",
   "execution_count": 1,
   "metadata": {},
   "outputs": [
    {
     "name": "stdout",
     "output_type": "stream",
     "text": [
      "ndbs\n",
      "Fri Jun 26 23:29:21 PDT 2020\n"
     ]
    }
   ],
   "source": [
    "import numpy as np, pandas as pd, matplotlib.pyplot as plt\n",
    "import scipy.stats as scs\n",
    "\n",
    "!whoami\n",
    "!date"
   ]
  },
  {
   "cell_type": "markdown",
   "metadata": {},
   "source": [
    "# Goal: Get an idea what birthweight shifts to expect in each country\n",
    "\n",
    "## 1. Define function to sample flour consumption in the population"
   ]
  },
  {
   "cell_type": "code",
   "execution_count": 2,
   "metadata": {},
   "outputs": [],
   "source": [
    "def sample_flour_consumption(sample_size):\n",
    "    \"\"\"Distribution for daily flour consumption (from Ethiopia)\"\"\"\n",
    "    # Define quantiles in g of flour per day\n",
    "    q0 = 0\n",
    "    q1 = 77.5\n",
    "    q2 = 100\n",
    "    q3 = 200\n",
    "    q4 = 350.5\n",
    "\n",
    "    daily_flour_consumption = np.empty(sample_size) # to store the returned sample\n",
    "    u = np.random.uniform(0,1,size=sample_size) # one random number for each returned value\n",
    "\n",
    "    # Define the distribution to be uniform between each quantile\n",
    "    for i in range(sample_size):\n",
    "        if u[i] <= 0.25:\n",
    "            daily_flour_consumption[i] = np.random.uniform(q0,q1)\n",
    "        elif u[i] <= 0.5:\n",
    "            daily_flour_consumption[i] = np.random.uniform(q1,q2)\n",
    "        elif u[i] <= 0.75:\n",
    "            daily_flour_consumption[i] = np.random.uniform(q2,q3)\n",
    "        else:\n",
    "            daily_flour_consumption[i] = np.random.uniform(q3,q4)\n",
    "        \n",
    "    return daily_flour_consumption"
   ]
  },
  {
   "cell_type": "code",
   "execution_count": 3,
   "metadata": {},
   "outputs": [
    {
     "data": {
      "image/png": "[encoded data removed]",
      "text/plain": [
       "<Figure size 432x288 with 1 Axes>"
      ]
     },
     "metadata": {
      "needs_background": "light"
     },
     "output_type": "display_data"
    }
   ],
   "source": [
    "flour_consumption = sample_flour_consumption(5000)\n",
    "plt.hist(flour_consumption, bins=100)\n",
    "plt.show()"
   ]
  },
  {
   "cell_type": "code",
   "execution_count": 4,
   "metadata": {},
   "outputs": [
    {
     "data": {
      "text/plain": [
       "139.79055258052588"
      ]
     },
     "execution_count": 4,
     "metadata": {},
     "output_type": "execute_result"
    }
   ],
   "source": [
    "flour_consumption.mean()"
   ]
  },
  {
   "cell_type": "code",
   "execution_count": 5,
   "metadata": {},
   "outputs": [
    {
     "data": {
      "text/plain": [
       "93.48125035699711"
      ]
     },
     "execution_count": 5,
     "metadata": {},
     "output_type": "execute_result"
    }
   ],
   "source": [
    "flour_consumption.std()"
   ]
  },
  {
   "cell_type": "markdown",
   "metadata": {},
   "source": [
    "## 2. Define other input data for birthweight shift - dose response and iron consumption\n",
    "\n",
    "### Dose response for iron on birthweight\n",
    "\n",
    "15.1 grams (95% CI: 6.0, 24.2) per 10 mg of daily iron consumptionn (use normal distribution)"
   ]
  },
  {
   "cell_type": "code",
   "execution_count": 6,
   "metadata": {},
   "outputs": [],
   "source": [
    "# Define normal distribution for dose-response on birthweight\n",
    "\n",
    "# mean and 0.975-quantile of normal distribution for mean difference (MD)\n",
    "mean = 15.1 # g per 10 mg daily iron\n",
    "q_975 = 24.2 # 97.5th percentile\n",
    "\n",
    "# 0.975-quantile of standard normal distribution (=1.96, approximately)\n",
    "q_975_stdnorm = scs.norm().ppf(0.975)\n",
    "\n",
    "std = (q_975 - mean) / q_975_stdnorm # std dev of normal distribution\n",
    "\n",
    "# Frozen normal distribution for MD, representing uncertainty in our effect size\n",
    "dose_response_distribution = scs.norm(mean, std)\n",
    "\n",
    "# # random sample from effect size distribution\n",
    "# bw_md_per_10_mg_iron = dose_response_distribution.rvs()"
   ]
  },
  {
   "cell_type": "code",
   "execution_count": 7,
   "metadata": {},
   "outputs": [
    {
     "data": {
      "text/plain": [
       "17.44382989410483"
      ]
     },
     "execution_count": 7,
     "metadata": {},
     "output_type": "execute_result"
    }
   ],
   "source": [
    "dose_response = dose_response_distribution.rvs()\n",
    "dose_response"
   ]
  },
  {
   "cell_type": "markdown",
   "metadata": {},
   "source": [
    "### Iron concentration in flour for each country\n",
    "\n",
    "Ethiopia: 30 mg iron as NaFeEDTA / kg flour;\n",
    "    use point value\n",
    "\n",
    "India: 14 to 21.25 mg iron as NaFeEDTA / kg flour;\n",
    "    sample from uniform distribution with range: 14 - 21.25 (mean 17.625)\n",
    "\n",
    "Nigeria: 40 mg iron as NaFeEDTA / kg flour;\n",
    "    use point value\n",
    "  "
   ]
  },
  {
   "cell_type": "code",
   "execution_count": 8,
   "metadata": {},
   "outputs": [
    {
     "data": {
      "text/plain": [
       "17.625"
      ]
     },
     "execution_count": 8,
     "metadata": {},
     "output_type": "execute_result"
    }
   ],
   "source": [
    "# Define India's flour distribution\n",
    "india_min = 14 # mg iron as NaFeEDTA per kg Flour\n",
    "india_max = 21.25\n",
    "scale = india_max-india_min\n",
    "india_iron_conc_distribution = scs.uniform(loc=india_min, scale=scale)\n",
    "india_iron_conc_distribution.mean()"
   ]
  },
  {
   "cell_type": "code",
   "execution_count": 9,
   "metadata": {},
   "outputs": [
    {
     "data": {
      "text/plain": [
       "20.924293414921955"
      ]
     },
     "execution_count": 9,
     "metadata": {},
     "output_type": "execute_result"
    }
   ],
   "source": [
    "india_iron_concentration = india_iron_conc_distribution.rvs()\n",
    "india_iron_concentration"
   ]
  },
  {
   "cell_type": "code",
   "execution_count": 10,
   "metadata": {},
   "outputs": [],
   "source": [
    "# Define degenerate distributions to sample iron concentration in Ethiopia and Nigreia\n",
    "# (We define distributions for consistency with India in the \"multiple draws\" function below)\n",
    "ethiopia_iron_conc_distribution = scs.bernoulli(p=0,loc=30) # 30 mg iron as NaFeEDTA per kg flour\n",
    "nigeria_iron_conc_distribution = scs.bernoulli(p=0,loc=40) # 40 mg iron as NaFeEDTA per kg flour"
   ]
  },
  {
   "cell_type": "code",
   "execution_count": 11,
   "metadata": {},
   "outputs": [
    {
     "name": "stdout",
     "output_type": "stream",
     "text": [
      "[30 30 30 30 30]\n",
      "[40 40 40 40 40]\n"
     ]
    }
   ],
   "source": [
    "print(ethiopia_iron_conc_distribution.rvs(5))\n",
    "print(nigeria_iron_conc_distribution.rvs(5))"
   ]
  },
  {
   "cell_type": "markdown",
   "metadata": {},
   "source": [
    "## 3. Define function to compute birthweight shift, and plot the distribution of shifts\n",
    "\n",
    "The following plot is for India, for a single draw of India's iron_concentration distribution and a single draw of dose_response."
   ]
  },
  {
   "cell_type": "code",
   "execution_count": 12,
   "metadata": {},
   "outputs": [],
   "source": [
    "def birthweight_shift(dose_response, iron_concentration, daily_flour):\n",
    "    \"\"\"\n",
    "    Computes the increase in birthweight (in grams) given the following:\n",
    "    \n",
    "    dose_response: g of birthweight increase per 10 mg daily iron\n",
    "    iron_concentration: mg iron as NaFeEDTA per kg flour\n",
    "    daily flour: g of iron eaten per day by pregnant mother\n",
    "    \"\"\"\n",
    "    return (dose_response/10)*(iron_concentration)*(daily_flour/1_000)"
   ]
  },
  {
   "cell_type": "code",
   "execution_count": 13,
   "metadata": {},
   "outputs": [
    {
     "data": {
      "image/png": "[encoded data removed]",
      "text/plain": [
       "<Figure size 432x288 with 1 Axes>"
      ]
     },
     "metadata": {
      "needs_background": "light"
     },
     "output_type": "display_data"
    }
   ],
   "source": [
    "bw_shifts = birthweight_shift(dose_response, india_iron_concentration, flour_consumption)\n",
    "plt.hist(bw_shifts, bins=100)\n",
    "plt.show()"
   ]
  },
  {
   "cell_type": "code",
   "execution_count": 14,
   "metadata": {},
   "outputs": [
    {
     "name": "stdout",
     "output_type": "stream",
     "text": [
      "5.102352582843612 3.412063908479903\n"
     ]
    }
   ],
   "source": [
    "print(bw_shifts.mean(), bw_shifts.std())"
   ]
  },
  {
   "cell_type": "markdown",
   "metadata": {},
   "source": [
    "## 4. Get an idea of the range of possible mean birthweight shifts in India (one draw at a time)\n",
    "\n",
    "Print the mean and standard deviation of the birthweight shift for several draws of the dose response and of India's iron_concentration distribution. Plot the birthweight shift distribution for the final draw."
   ]
  },
  {
   "cell_type": "code",
   "execution_count": 15,
   "metadata": {},
   "outputs": [
    {
     "name": "stdout",
     "output_type": "stream",
     "text": [
      "4.197147943054626 2.8067321461085886\n",
      "4.181861824491562 2.7965099569119523\n",
      "3.5734423881483455 2.389645482876053\n",
      "2.4066537430092105 1.6093863062974227\n",
      "2.25646935844803 1.5089544545470128\n",
      "3.9781049909486743 2.6602529408493005\n",
      "3.1478980767241707 2.105073932224776\n",
      "2.8583742609534433 1.911462505652971\n",
      "3.2878794233373383 2.1986827710661356\n",
      "1.8569166112162303 1.241764077906316\n",
      "3.3162579996652974 2.217660196575352\n",
      "4.731875526324881 3.164317134233476\n",
      "6.017345890433405 4.023941584637641\n",
      "3.749530008114534 2.507399441086819\n",
      "3.1584508986782485 2.1121308539755765\n",
      "4.63682312777737 3.1007533461117105\n",
      "3.3105514037439963 2.213844060848311\n",
      "4.224921469292494 2.8253049603053357\n",
      "3.1820137314926478 2.1278878778429373\n",
      "2.532355933234121 1.6934463353760596\n"
     ]
    }
   ],
   "source": [
    "for i in range(20):\n",
    "    dose_response = dose_response_distribution.rvs()\n",
    "    india_iron_concentration = india_iron_conc_distribution.rvs()\n",
    "    bw_shifts = birthweight_shift(dose_response, india_iron_concentration, flour_consumption)\n",
    "    print(bw_shifts.mean(), bw_shifts.std())"
   ]
  },
  {
   "cell_type": "code",
   "execution_count": 16,
   "metadata": {},
   "outputs": [
    {
     "data": {
      "image/png": "[encoded data removed]",
      "text/plain": [
       "<Figure size 432x288 with 1 Axes>"
      ]
     },
     "metadata": {
      "needs_background": "light"
     },
     "output_type": "display_data"
    }
   ],
   "source": [
    "# Plot the final distribution of birthweight shifts (one draw) for India\n",
    "plt.hist(bw_shifts, bins=100)\n",
    "plt.show()"
   ]
  },
  {
   "cell_type": "markdown",
   "metadata": {},
   "source": [
    "## 5. Plot the overall distribution including parameter uncertainty (multiple draws together)\n",
    "\n",
    "### Define a function to sample the birthweight shifts for multiple draws\n",
    "\n",
    "Essentially this puts the above for loop into a function."
   ]
  },
  {
   "cell_type": "code",
   "execution_count": 17,
   "metadata": {},
   "outputs": [],
   "source": [
    "def birthweight_shift_across_draws(dose_response_distribution,\n",
    "                                   iron_conc_distribution,\n",
    "                                   population_size,\n",
    "                                   num_draws,\n",
    "                                   ):\n",
    "    \"\"\"\n",
    "    Sample the distribution of birthweight shifts for a given population size and number of draws.\n",
    "    \n",
    "    Each \"draw\" corresponds to one draw from `dose_response_distribution` and `iron_conc_distribution`,\n",
    "    so these will both be sampled `num_draws` times.\n",
    "    \n",
    "    The `population_size` is the sample size passed to `sample_flour_consumption()`; each draw will yield\n",
    "    `population_size` birthweight samples.\n",
    "    \n",
    "    The returned sample will have shape (num_draws, population_size), so each row corresponds to a\n",
    "    draw and contains the sampled birthweight shifts for the population based on that draw.\n",
    "    \"\"\"\n",
    "    bw_shifts = np.empty((num_draws, population_size))\n",
    "    dose_response = dose_response_distribution.rvs(num_draws)\n",
    "    iron_concentration = iron_conc_distribution.rvs(num_draws)\n",
    "    for i in range(num_draws):\n",
    "        daily_flour = sample_flour_consumption(population_size)\n",
    "        bw_shifts[i] = birthweight_shift(dose_response[i], iron_concentration[i], daily_flour)\n",
    "    \n",
    "    return bw_shifts"
   ]
  },
  {
   "cell_type": "markdown",
   "metadata": {},
   "source": [
    "### For each country, plot the distribution of birthweight shifts for all draws together\n",
    "\n",
    "Each row of the `bw_shifts` array returned by the above function has a distribution with the same shape as the flour consumption distribution, but scaled by a slightly different factor according to the draws of the dose response and iron concentration distributions.\n",
    "\n",
    "Calling `.flatten()` on `bw_shifts` combines all rows into a single sample. This gives an idea of the mean and spread of birthweight shifts across draws. This combined sample represents the mixture distribution whose components are the rows of `bw_shifts` -- the mixing distribution is the joint distribution of dose response and iron concentration.\n",
    "\n",
    "It would be better to write a function to draw the three graphs below and add labels, rather than copying the same code three times..."
   ]
  },
  {
   "cell_type": "code",
   "execution_count": 18,
   "metadata": {},
   "outputs": [
    {
     "data": {
      "text/plain": [
       "25000"
      ]
     },
     "execution_count": 18,
     "metadata": {},
     "output_type": "execute_result"
    }
   ],
   "source": [
    "# sample size = population_size x num_draws\n",
    "1_000*25"
   ]
  },
  {
   "cell_type": "markdown",
   "metadata": {},
   "source": [
    "### Plot order: India, Ethiopia, Nigeria"
   ]
  },
  {
   "cell_type": "code",
   "execution_count": 19,
   "metadata": {},
   "outputs": [
    {
     "data": {
      "text/plain": [
       "3.6298677457511728"
      ]
     },
     "execution_count": 19,
     "metadata": {},
     "output_type": "execute_result"
    }
   ],
   "source": [
    "# India\n",
    "bw_shifts = birthweight_shift_across_draws(\n",
    "    dose_response_distribution,\n",
    "    india_iron_conc_distribution,\n",
    "    population_size=1_000,\n",
    "    num_draws=25,\n",
    ")\n",
    "bw_shifts.flatten().mean()"
   ]
  },
  {
   "cell_type": "code",
   "execution_count": 20,
   "metadata": {},
   "outputs": [
    {
     "data": {
      "image/png": "[encoded data removed]",
      "text/plain": [
       "<Figure size 432x288 with 1 Axes>"
      ]
     },
     "metadata": {
      "needs_background": "light"
     },
     "output_type": "display_data"
    }
   ],
   "source": [
    "# India\n",
    "plt.hist(bw_shifts.flatten(),bins=100)\n",
    "plt.show()"
   ]
  },
  {
   "cell_type": "code",
   "execution_count": 21,
   "metadata": {},
   "outputs": [
    {
     "data": {
      "text/plain": [
       "6.273848988107496"
      ]
     },
     "execution_count": 21,
     "metadata": {},
     "output_type": "execute_result"
    }
   ],
   "source": [
    "# Ethiopia\n",
    "bw_shifts = birthweight_shift_across_draws(\n",
    "    dose_response_distribution,\n",
    "    ethiopia_iron_conc_distribution,\n",
    "    population_size=1_000,\n",
    "    num_draws=25,\n",
    ")\n",
    "bw_shifts.flatten().mean()"
   ]
  },
  {
   "cell_type": "code",
   "execution_count": 22,
   "metadata": {},
   "outputs": [
    {
     "data": {
      "image/png": "[encoded data removed]",
      "text/plain": [
       "<Figure size 432x288 with 1 Axes>"
      ]
     },
     "metadata": {
      "needs_background": "light"
     },
     "output_type": "display_data"
    }
   ],
   "source": [
    "# Ethiopia\n",
    "plt.hist(bw_shifts.flatten(),bins=100)\n",
    "plt.show()"
   ]
  },
  {
   "cell_type": "code",
   "execution_count": 23,
   "metadata": {},
   "outputs": [
    {
     "data": {
      "text/plain": [
       "8.15267846139869"
      ]
     },
     "execution_count": 23,
     "metadata": {},
     "output_type": "execute_result"
    }
   ],
   "source": [
    "# Nigeria\n",
    "bw_shifts = birthweight_shift_across_draws(\n",
    "    dose_response_distribution,\n",
    "    nigeria_iron_conc_distribution,\n",
    "    population_size=1_000,\n",
    "    num_draws=25,\n",
    ")\n",
    "bw_shifts.flatten().mean()"
   ]
  },
  {
   "cell_type": "code",
   "execution_count": 24,
   "metadata": {},
   "outputs": [
    {
     "data": {
      "image/png": "[encoded data removed]",
      "text/plain": [
       "<Figure size 432x288 with 1 Axes>"
      ]
     },
     "metadata": {
      "needs_background": "light"
     },
     "output_type": "display_data"
    }
   ],
   "source": [
    "# Nigeria\n",
    "plt.hist(bw_shifts.flatten(),bins=100)\n",
    "plt.show()"
   ]
  },
  {
   "cell_type": "markdown",
   "metadata": {},
   "source": [
    "## 6. Just for kicks, try to get a better idea what the actual mixture distribution looks like\n",
    "\n",
    "1 million sample points!"
   ]
  },
  {
   "cell_type": "code",
   "execution_count": 25,
   "metadata": {},
   "outputs": [
    {
     "name": "stdout",
     "output_type": "stream",
     "text": [
      "8.780700270689247\n",
      "0.39478240459821556\n",
      "-1.8676796914967309\n"
     ]
    }
   ],
   "source": [
    "# Note that the above 3 graphs have a sharp cutoff at 0...\n",
    "# How likely are we to get a negative dose response sometimes?\n",
    "# Not very likely with only 25 draws...\n",
    "# But in theory the underlying distribution is unbounded below and above.\n",
    "print(dose_response_distribution.rvs(25).min())\n",
    "print(dose_response_distribution.rvs(1000).min())\n",
    "print(dose_response_distribution.rvs(5000).min())"
   ]
  },
  {
   "cell_type": "code",
   "execution_count": 26,
   "metadata": {},
   "outputs": [
    {
     "name": "stdout",
     "output_type": "stream",
     "text": [
      "mean = 8.376978642492784\n"
     ]
    },
    {
     "data": {
      "image/png": "[encoded data removed]",
      "text/plain": [
       "<Figure size 432x288 with 1 Axes>"
      ]
     },
     "metadata": {
      "needs_background": "light"
     },
     "output_type": "display_data"
    }
   ],
   "source": [
    "# Nigeria\n",
    "bw_shifts = birthweight_shift_across_draws(\n",
    "    dose_response_distribution,\n",
    "    nigeria_iron_conc_distribution,\n",
    "    population_size=100,\n",
    "    num_draws=10_000,\n",
    ")\n",
    "print(\"mean =\",bw_shifts.flatten().mean())\n",
    "plt.hist(bw_shifts.flatten(),bins=100)\n",
    "plt.show()"
   ]
  },
  {
   "cell_type": "code",
   "execution_count": 27,
   "metadata": {},
   "outputs": [
    {
     "name": "stdout",
     "output_type": "stream",
     "text": [
      "mean = 3.6609467232648742\n"
     ]
    },
    {
     "data": {
      "image/png": "[encoded data removed]",
      "text/plain": [
       "<Figure size 432x288 with 1 Axes>"
      ]
     },
     "metadata": {
      "needs_background": "light"
     },
     "output_type": "display_data"
    }
   ],
   "source": [
    "# India\n",
    "bw_shifts = birthweight_shift_across_draws(\n",
    "    dose_response_distribution,\n",
    "    india_iron_conc_distribution,\n",
    "    population_size=100,\n",
    "    num_draws=10_000,\n",
    ")\n",
    "print(\"mean =\",bw_shifts.flatten().mean())\n",
    "plt.hist(bw_shifts.flatten(),bins=100)\n",
    "plt.show()"
   ]
  },
  {
   "cell_type": "code",
   "execution_count": 28,
   "metadata": {},
   "outputs": [
    {
     "data": {
      "text/plain": [
       "-1.0036780397185034"
      ]
     },
     "execution_count": 28,
     "metadata": {},
     "output_type": "execute_result"
    }
   ],
   "source": [
    "bw_shifts.flatten().min()"
   ]
  },
  {
   "cell_type": "code",
   "execution_count": null,
   "metadata": {},
   "outputs": [],
   "source": []
  }
 ],
 "metadata": {
  "kernelspec": {
   "display_name": "Python 3",
   "language": "python",
   "name": "python3"
  },
  "language_info": {
   "codemirror_mode": {
    "name": "ipython",
    "version": 3
   },
   "file_extension": ".py",
   "mimetype": "text/x-python",
   "name": "python",
   "nbconvert_exporter": "python",
   "pygments_lexer": "ipython3",
   "version": "3.6.10"
  }
 },
 "nbformat": 4,
 "nbformat_minor": 4
}
