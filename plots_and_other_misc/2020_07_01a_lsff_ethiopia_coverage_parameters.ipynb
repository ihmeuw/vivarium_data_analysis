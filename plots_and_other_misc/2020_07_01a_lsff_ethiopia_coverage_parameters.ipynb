{
 "cells": [
  {
   "cell_type": "markdown",
   "metadata": {},
   "source": [
    "# Goal: Determine whether Ethiopia's beta distributions are causing us to get negative averted results\n",
    "\n",
    "First, I need to take care of an annoying Python issue so that I don't have to keep copying code...\n",
    "\n",
    "\n",
    "## 1. Add the `vivarium_data_analysis` directory to the Python path `sys.path` so that I can import modules from other folders in the vivarium data analysis repo\n",
    "\n",
    "See these posts:\n",
    "\n",
    "1. https://stackoverflow.com/questions/32152978/importing-modules-from-multiple-parallel-subdirectories-python/32153241\n",
    "2. https://stackoverflow.com/questions/9153527/import-module-in-another-directory-from-a-parallel-sub-directory\n",
    "3. https://gist.github.com/JungeAlexander/6ce0a5213f3af56d7369\n",
    "3. http://python-notes.curiousefficiency.org/en/latest/python_concepts/import_traps.html\n",
    "4. https://docs.python.org/3/tutorial/modules.html\n",
    "\n",
    "Note that the solution below makes any modules in the current dirctory accessible in two different ways -- e.g. `import lsff_plots` and `import plots_and_other_misc.lsff_plots` should both work. According to the \"import traps\" link above, this should be avoided (perhaps one workaround would be to remove `''` from `sys.path`, forcing all local imports to specify the subfolder of `vivarium_data_analysis`?).\n",
    "\n",
    "A better solution would be to make `vivarium_data_analysis` into an actual package that can be `pip install`ed, but I don't know how to do that - we should get help from the SWE's."
   ]
  },
  {
   "cell_type": "code",
   "execution_count": 1,
   "metadata": {},
   "outputs": [
    {
     "name": "stdout",
     "output_type": "stream",
     "text": [
      "ndbs\n",
      "Wed Sep 16 10:34:19 PDT 2020\n"
     ]
    }
   ],
   "source": [
    "import sys\n",
    "import os.path\n",
    "!whoami\n",
    "!date"
   ]
  },
  {
   "cell_type": "code",
   "execution_count": 2,
   "metadata": {},
   "outputs": [
    {
     "data": {
      "text/plain": [
       "['/ihme/homes/ndbs/miniconda3/envs/lsff/lib/python36.zip',\n",
       " '/ihme/homes/ndbs/miniconda3/envs/lsff/lib/python3.6',\n",
       " '/ihme/homes/ndbs/miniconda3/envs/lsff/lib/python3.6/lib-dynload',\n",
       " '',\n",
       " '/ihme/homes/ndbs/miniconda3/envs/lsff/lib/python3.6/site-packages',\n",
       " '/ihme/homes/ndbs/vivarium_conic_lsff/src',\n",
       " '/ihme/homes/ndbs/miniconda3/envs/lsff/lib/python3.6/site-packages/IPython/extensions',\n",
       " '/ihme/homes/ndbs/.ipython']"
      ]
     },
     "execution_count": 2,
     "metadata": {},
     "output_type": "execute_result"
    }
   ],
   "source": [
    "sys.path"
   ]
  },
  {
   "cell_type": "code",
   "execution_count": 3,
   "metadata": {},
   "outputs": [
    {
     "name": "stdout",
     "output_type": "stream",
     "text": [
      "/ihme/homes/ndbs/vivarium_data_analysis/plots_and_other_misc\r\n"
     ]
    }
   ],
   "source": [
    "# current directory\n",
    "!pwd"
   ]
  },
  {
   "cell_type": "code",
   "execution_count": 4,
   "metadata": {},
   "outputs": [
    {
     "name": "stdout",
     "output_type": "stream",
     "text": [
      "2020_03_23a_coverage_distributions.ipynb  prob_utils.py\r\n",
      "coverage_india_nigeria.svg\t\t  __pycache__\r\n"
     ]
    }
   ],
   "source": [
    "# I want to import the prob_utils module from the probability directory\n",
    "!ls ../probability/"
   ]
  },
  {
   "cell_type": "code",
   "execution_count": 5,
   "metadata": {},
   "outputs": [],
   "source": [
    "# # But the following import fails with:\n",
    "# # ModuleNotFoundError: No module named 'probability'\n",
    "\n",
    "# from probability import prob_utils\n",
    "\n",
    "# # The solution is to add the `vivarium_data_analysis` directory to `sys.path`"
   ]
  },
  {
   "cell_type": "code",
   "execution_count": 6,
   "metadata": {},
   "outputs": [
    {
     "data": {
      "text/plain": [
       "'/ihme/homes/ndbs/vivarium_data_analysis'"
      ]
     },
     "execution_count": 6,
     "metadata": {},
     "output_type": "execute_result"
    }
   ],
   "source": [
    "# Get the absolute path of the current parent directory\n",
    "os.path.abspath(\"..\")"
   ]
  },
  {
   "cell_type": "code",
   "execution_count": 7,
   "metadata": {},
   "outputs": [
    {
     "data": {
      "text/plain": [
       "['/ihme/homes/ndbs/miniconda3/envs/lsff/lib/python36.zip',\n",
       " '/ihme/homes/ndbs/miniconda3/envs/lsff/lib/python3.6',\n",
       " '/ihme/homes/ndbs/miniconda3/envs/lsff/lib/python3.6/lib-dynload',\n",
       " '',\n",
       " '/ihme/homes/ndbs/miniconda3/envs/lsff/lib/python3.6/site-packages',\n",
       " '/ihme/homes/ndbs/vivarium_conic_lsff/src',\n",
       " '/ihme/homes/ndbs/miniconda3/envs/lsff/lib/python3.6/site-packages/IPython/extensions',\n",
       " '/ihme/homes/ndbs/.ipython',\n",
       " '/ihme/homes/ndbs/vivarium_data_analysis']"
      ]
     },
     "execution_count": 7,
     "metadata": {},
     "output_type": "execute_result"
    }
   ],
   "source": [
    "# Add the parent directory to sys.path so we can access subfolders\n",
    "sys.path.append(os.path.abspath(\"..\"))\n",
    "sys.path"
   ]
  },
  {
   "cell_type": "code",
   "execution_count": 8,
   "metadata": {},
   "outputs": [],
   "source": [
    "# Now we can import the prob_utils module from the file\n",
    "# /ihme/homes/ndbs/vivarium_data_analysis/probability/prob_utils.py'\n",
    "# using the import statement that previously failed:\n",
    "from probability import prob_utils"
   ]
  },
  {
   "cell_type": "markdown",
   "metadata": {},
   "source": [
    "### Summary of above steps to get this to work\n",
    "\n",
    "Note: If the directory structure changes, \"..\" would have to be replaced with the appropriate directory"
   ]
  },
  {
   "cell_type": "code",
   "execution_count": 9,
   "metadata": {},
   "outputs": [],
   "source": [
    "# import sys\n",
    "# import os.path\n",
    "\n",
    "# sys.path.append(os.path.abspath(\"..\"))\n",
    "# from probability import prob_utils"
   ]
  },
  {
   "cell_type": "markdown",
   "metadata": {},
   "source": [
    "## 2. Do other imports and set up auto-reloading of modules so I can edit the `.py` files as I work"
   ]
  },
  {
   "cell_type": "code",
   "execution_count": 10,
   "metadata": {},
   "outputs": [],
   "source": [
    "import numpy as np, pandas as pd, matplotlib.pyplot as plt\n",
    "from scipy import stats\n",
    "from plots_and_other_misc import lsff_plots"
   ]
  },
  {
   "cell_type": "code",
   "execution_count": 11,
   "metadata": {},
   "outputs": [],
   "source": [
    "%load_ext autoreload\n",
    "%autoreload 2"
   ]
  },
  {
   "cell_type": "markdown",
   "metadata": {},
   "source": [
    "## 3. Import the coverage data"
   ]
  },
  {
   "cell_type": "code",
   "execution_count": 12,
   "metadata": {},
   "outputs": [
    {
     "data": {
      "text/html": [
       "<div>\n",
       "<style scoped>\n",
       "    .dataframe tbody tr th:only-of-type {\n",
       "        vertical-align: middle;\n",
       "    }\n",
       "\n",
       "    .dataframe tbody tr th {\n",
       "        vertical-align: top;\n",
       "    }\n",
       "\n",
       "    .dataframe thead tr th {\n",
       "        text-align: left;\n",
       "    }\n",
       "</style>\n",
       "<table border=\"1\" class=\"dataframe\">\n",
       "  <thead>\n",
       "    <tr>\n",
       "      <th></th>\n",
       "      <th colspan=\"3\" halign=\"left\">eats_fortified</th>\n",
       "      <th colspan=\"3\" halign=\"left\">eats_fortifiable</th>\n",
       "      <th colspan=\"3\" halign=\"left\">eats_vehicle</th>\n",
       "    </tr>\n",
       "    <tr>\n",
       "      <th></th>\n",
       "      <th>mean</th>\n",
       "      <th>lower</th>\n",
       "      <th>upper</th>\n",
       "      <th>mean</th>\n",
       "      <th>lower</th>\n",
       "      <th>upper</th>\n",
       "      <th>mean</th>\n",
       "      <th>lower</th>\n",
       "      <th>upper</th>\n",
       "    </tr>\n",
       "  </thead>\n",
       "  <tbody>\n",
       "    <tr>\n",
       "      <th>Ethiopia</th>\n",
       "      <td>1.000</td>\n",
       "      <td>0.000</td>\n",
       "      <td>10.000</td>\n",
       "      <td>15.0</td>\n",
       "      <td>10.000</td>\n",
       "      <td>20.000</td>\n",
       "      <td>28.000</td>\n",
       "      <td>23.000</td>\n",
       "      <td>33.000</td>\n",
       "    </tr>\n",
       "    <tr>\n",
       "      <th>India (Rajasthan)</th>\n",
       "      <td>6.300</td>\n",
       "      <td>4.800</td>\n",
       "      <td>7.900</td>\n",
       "      <td>7.1</td>\n",
       "      <td>5.600</td>\n",
       "      <td>9.100</td>\n",
       "      <td>83.200</td>\n",
       "      <td>79.500</td>\n",
       "      <td>86.500</td>\n",
       "    </tr>\n",
       "    <tr>\n",
       "      <th>Nigeria (Kano)</th>\n",
       "      <td>22.700</td>\n",
       "      <td>20.000</td>\n",
       "      <td>25.500</td>\n",
       "      <td>83.8</td>\n",
       "      <td>81.400</td>\n",
       "      <td>86.200</td>\n",
       "      <td>83.900</td>\n",
       "      <td>81.500</td>\n",
       "      <td>86.300</td>\n",
       "    </tr>\n",
       "    <tr>\n",
       "      <th>Nigeria (Lagos)</th>\n",
       "      <td>5.400</td>\n",
       "      <td>3.800</td>\n",
       "      <td>6.900</td>\n",
       "      <td>13.8</td>\n",
       "      <td>11.500</td>\n",
       "      <td>16.100</td>\n",
       "      <td>14.200</td>\n",
       "      <td>11.800</td>\n",
       "      <td>16.500</td>\n",
       "    </tr>\n",
       "    <tr>\n",
       "      <th>India</th>\n",
       "      <td>6.300</td>\n",
       "      <td>4.800</td>\n",
       "      <td>7.900</td>\n",
       "      <td>7.1</td>\n",
       "      <td>5.600</td>\n",
       "      <td>9.100</td>\n",
       "      <td>83.200</td>\n",
       "      <td>79.500</td>\n",
       "      <td>86.500</td>\n",
       "    </tr>\n",
       "    <tr>\n",
       "      <th>Nigeria</th>\n",
       "      <td>8.168</td>\n",
       "      <td>6.392</td>\n",
       "      <td>9.876</td>\n",
       "      <td>25.0</td>\n",
       "      <td>22.684</td>\n",
       "      <td>27.316</td>\n",
       "      <td>25.352</td>\n",
       "      <td>22.952</td>\n",
       "      <td>27.668</td>\n",
       "    </tr>\n",
       "  </tbody>\n",
       "</table>\n",
       "</div>"
      ],
      "text/plain": [
       "                  eats_fortified                 eats_fortifiable          \\\n",
       "                            mean   lower   upper             mean   lower   \n",
       "Ethiopia                   1.000   0.000  10.000             15.0  10.000   \n",
       "India (Rajasthan)          6.300   4.800   7.900              7.1   5.600   \n",
       "Nigeria (Kano)            22.700  20.000  25.500             83.8  81.400   \n",
       "Nigeria (Lagos)            5.400   3.800   6.900             13.8  11.500   \n",
       "India                      6.300   4.800   7.900              7.1   5.600   \n",
       "Nigeria                    8.168   6.392   9.876             25.0  22.684   \n",
       "\n",
       "                          eats_vehicle                  \n",
       "                    upper         mean   lower   upper  \n",
       "Ethiopia           20.000       28.000  23.000  33.000  \n",
       "India (Rajasthan)   9.100       83.200  79.500  86.500  \n",
       "Nigeria (Kano)     86.200       83.900  81.500  86.300  \n",
       "Nigeria (Lagos)    16.100       14.200  11.800  16.500  \n",
       "India               9.100       83.200  79.500  86.500  \n",
       "Nigeria            27.316       25.352  22.952  27.668  "
      ]
     },
     "execution_count": 12,
     "metadata": {},
     "output_type": "execute_result"
    }
   ],
   "source": [
    "flour_df, oil_df = lsff_plots.get_coverage_dfs()\n",
    "flour_df.T"
   ]
  },
  {
   "cell_type": "code",
   "execution_count": 13,
   "metadata": {},
   "outputs": [
    {
     "data": {
      "text/html": [
       "<div>\n",
       "<style scoped>\n",
       "    .dataframe tbody tr th:only-of-type {\n",
       "        vertical-align: middle;\n",
       "    }\n",
       "\n",
       "    .dataframe tbody tr th {\n",
       "        vertical-align: top;\n",
       "    }\n",
       "\n",
       "    .dataframe thead tr th {\n",
       "        text-align: left;\n",
       "    }\n",
       "</style>\n",
       "<table border=\"1\" class=\"dataframe\">\n",
       "  <thead>\n",
       "    <tr>\n",
       "      <th></th>\n",
       "      <th colspan=\"3\" halign=\"left\">eats_fortified</th>\n",
       "      <th colspan=\"3\" halign=\"left\">eats_fortifiable</th>\n",
       "      <th colspan=\"3\" halign=\"left\">eats_vehicle</th>\n",
       "    </tr>\n",
       "    <tr>\n",
       "      <th></th>\n",
       "      <th>mean</th>\n",
       "      <th>lower</th>\n",
       "      <th>upper</th>\n",
       "      <th>mean</th>\n",
       "      <th>lower</th>\n",
       "      <th>upper</th>\n",
       "      <th>mean</th>\n",
       "      <th>lower</th>\n",
       "      <th>upper</th>\n",
       "    </tr>\n",
       "  </thead>\n",
       "  <tbody>\n",
       "    <tr>\n",
       "      <th>Ethiopia</th>\n",
       "      <td>1.000</td>\n",
       "      <td>0.000</td>\n",
       "      <td>10.00</td>\n",
       "      <td>44.000</td>\n",
       "      <td>34.000</td>\n",
       "      <td>54.000</td>\n",
       "      <td>55.000</td>\n",
       "      <td>45.000</td>\n",
       "      <td>65.0</td>\n",
       "    </tr>\n",
       "    <tr>\n",
       "      <th>India (Rajasthan)</th>\n",
       "      <td>24.300</td>\n",
       "      <td>21.100</td>\n",
       "      <td>27.90</td>\n",
       "      <td>89.400</td>\n",
       "      <td>87.000</td>\n",
       "      <td>91.800</td>\n",
       "      <td>100.000</td>\n",
       "      <td>100.000</td>\n",
       "      <td>100.0</td>\n",
       "    </tr>\n",
       "    <tr>\n",
       "      <th>Nigeria (Kano)</th>\n",
       "      <td>7.600</td>\n",
       "      <td>5.900</td>\n",
       "      <td>9.40</td>\n",
       "      <td>35.900</td>\n",
       "      <td>32.700</td>\n",
       "      <td>39.100</td>\n",
       "      <td>98.400</td>\n",
       "      <td>97.600</td>\n",
       "      <td>99.3</td>\n",
       "    </tr>\n",
       "    <tr>\n",
       "      <th>Nigeria (Lagos)</th>\n",
       "      <td>7.200</td>\n",
       "      <td>5.500</td>\n",
       "      <td>8.90</td>\n",
       "      <td>22.700</td>\n",
       "      <td>19.900</td>\n",
       "      <td>25.500</td>\n",
       "      <td>98.600</td>\n",
       "      <td>97.800</td>\n",
       "      <td>99.3</td>\n",
       "    </tr>\n",
       "    <tr>\n",
       "      <th>India</th>\n",
       "      <td>24.300</td>\n",
       "      <td>21.100</td>\n",
       "      <td>27.90</td>\n",
       "      <td>89.400</td>\n",
       "      <td>87.000</td>\n",
       "      <td>91.800</td>\n",
       "      <td>100.000</td>\n",
       "      <td>100.000</td>\n",
       "      <td>100.0</td>\n",
       "    </tr>\n",
       "    <tr>\n",
       "      <th>Nigeria</th>\n",
       "      <td>7.264</td>\n",
       "      <td>5.564</td>\n",
       "      <td>8.98</td>\n",
       "      <td>24.812</td>\n",
       "      <td>21.948</td>\n",
       "      <td>27.676</td>\n",
       "      <td>98.568</td>\n",
       "      <td>97.768</td>\n",
       "      <td>99.3</td>\n",
       "    </tr>\n",
       "  </tbody>\n",
       "</table>\n",
       "</div>"
      ],
      "text/plain": [
       "                  eats_fortified                eats_fortifiable          \\\n",
       "                            mean   lower  upper             mean   lower   \n",
       "Ethiopia                   1.000   0.000  10.00           44.000  34.000   \n",
       "India (Rajasthan)         24.300  21.100  27.90           89.400  87.000   \n",
       "Nigeria (Kano)             7.600   5.900   9.40           35.900  32.700   \n",
       "Nigeria (Lagos)            7.200   5.500   8.90           22.700  19.900   \n",
       "India                     24.300  21.100  27.90           89.400  87.000   \n",
       "Nigeria                    7.264   5.564   8.98           24.812  21.948   \n",
       "\n",
       "                          eats_vehicle                  \n",
       "                    upper         mean    lower  upper  \n",
       "Ethiopia           54.000       55.000   45.000   65.0  \n",
       "India (Rajasthan)  91.800      100.000  100.000  100.0  \n",
       "Nigeria (Kano)     39.100       98.400   97.600   99.3  \n",
       "Nigeria (Lagos)    25.500       98.600   97.800   99.3  \n",
       "India              91.800      100.000  100.000  100.0  \n",
       "Nigeria            27.676       98.568   97.768   99.3  "
      ]
     },
     "execution_count": 13,
     "metadata": {},
     "output_type": "execute_result"
    }
   ],
   "source": [
    "oil_df.T"
   ]
  },
  {
   "cell_type": "markdown",
   "metadata": {},
   "source": [
    "## 4. Plot the density and distribution of Ethiopia's oil coverage parameter $a$\n",
    "\n",
    "The distribution for the "
   ]
  },
  {
   "cell_type": "code",
   "execution_count": 14,
   "metadata": {},
   "outputs": [],
   "source": [
    "ethiopia_a_dist = stats.beta(0.1,9.9)"
   ]
  },
  {
   "cell_type": "code",
   "execution_count": 15,
   "metadata": {},
   "outputs": [
    {
     "data": {
      "image/png": "[encoded data removed]",
      "text/plain": [
       "<Figure size 720x288 with 1 Axes>"
      ]
     },
     "metadata": {
      "needs_background": "light"
     },
     "output_type": "display_data"
    }
   ],
   "source": [
    "fig, ax = plt.subplots(figsize = (10,4))\n",
    "\n",
    "x = np.linspace(0,1, 500)\n",
    "ax.plot(x, ethiopia_a_dist.pdf(x), 'r-', lw=1, alpha=0.9, label=r'Ethiopia $a$ pdf')\n",
    "ax.plot(x, ethiopia_a_dist.cdf(x), lw=1, alpha=0.9, label=r'Ethiopia $a$ cdf')\n",
    "\n",
    "ax.set_ylim(0,5)\n",
    "ax.legend()\n",
    "ax.set_xlabel(r'Value of $a$ (proportion of population)')\n",
    "ax.set_ylabel('Probability density')\n",
    "\n",
    "plt.show()"
   ]
  },
  {
   "cell_type": "code",
   "execution_count": 16,
   "metadata": {},
   "outputs": [
    {
     "data": {
      "text/plain": [
       "(6.125969082943768e-18, 0.09822655608111423)"
      ]
     },
     "execution_count": 16,
     "metadata": {},
     "output_type": "execute_result"
    }
   ],
   "source": [
    "# Show the 95% confidence interval for a:\n",
    "ethiopia_a_dist.interval(0.95)"
   ]
  },
  {
   "cell_type": "code",
   "execution_count": 17,
   "metadata": {},
   "outputs": [
    {
     "data": {
      "text/plain": [
       "8.154535365834104e-05"
      ]
     },
     "execution_count": 17,
     "metadata": {},
     "output_type": "execute_result"
    }
   ],
   "source": [
    "# See how likely it is that a>.44 (the lower endpoint for b for oil)\n",
    "ethiopia_a_dist.sf(0.44)"
   ]
  },
  {
   "cell_type": "code",
   "execution_count": 18,
   "metadata": {},
   "outputs": [
    {
     "data": {
      "text/plain": [
       "array([0.02426191, 0.0107513 , 0.00488836])"
      ]
     },
     "execution_count": 18,
     "metadata": {},
     "output_type": "execute_result"
    }
   ],
   "source": [
    "# See how likely it is that a>b_lower, a>b_mean, and a>b_upper for flour\n",
    "ethiopia_a_dist.sf([0.10, 0.15, 0.20])"
   ]
  },
  {
   "cell_type": "markdown",
   "metadata": {},
   "source": [
    "## 5. Plot densities and distribution functions for all 3 Ethiopia parameters"
   ]
  },
  {
   "cell_type": "code",
   "execution_count": 19,
   "metadata": {},
   "outputs": [
    {
     "data": {
      "text/html": [
       "<div>\n",
       "<style scoped>\n",
       "    .dataframe tbody tr th:only-of-type {\n",
       "        vertical-align: middle;\n",
       "    }\n",
       "\n",
       "    .dataframe tbody tr th {\n",
       "        vertical-align: top;\n",
       "    }\n",
       "\n",
       "    .dataframe thead th {\n",
       "        text-align: right;\n",
       "    }\n",
       "</style>\n",
       "<table border=\"1\" class=\"dataframe\">\n",
       "  <thead>\n",
       "    <tr style=\"text-align: right;\">\n",
       "      <th></th>\n",
       "      <th></th>\n",
       "      <th>Ethiopia</th>\n",
       "      <th>India (Rajasthan)</th>\n",
       "      <th>Nigeria (Kano)</th>\n",
       "      <th>Nigeria (Lagos)</th>\n",
       "      <th>India</th>\n",
       "      <th>Nigeria</th>\n",
       "    </tr>\n",
       "  </thead>\n",
       "  <tbody>\n",
       "    <tr>\n",
       "      <th rowspan=\"3\" valign=\"top\">eats_fortified</th>\n",
       "      <th>mean</th>\n",
       "      <td>1</td>\n",
       "      <td>24.3</td>\n",
       "      <td>7.6</td>\n",
       "      <td>7.2</td>\n",
       "      <td>24.3</td>\n",
       "      <td>7.264</td>\n",
       "    </tr>\n",
       "    <tr>\n",
       "      <th>lower</th>\n",
       "      <td>0</td>\n",
       "      <td>21.1</td>\n",
       "      <td>5.9</td>\n",
       "      <td>5.5</td>\n",
       "      <td>21.1</td>\n",
       "      <td>5.564</td>\n",
       "    </tr>\n",
       "    <tr>\n",
       "      <th>upper</th>\n",
       "      <td>10</td>\n",
       "      <td>27.9</td>\n",
       "      <td>9.4</td>\n",
       "      <td>8.9</td>\n",
       "      <td>27.9</td>\n",
       "      <td>8.980</td>\n",
       "    </tr>\n",
       "    <tr>\n",
       "      <th rowspan=\"3\" valign=\"top\">eats_fortifiable</th>\n",
       "      <th>mean</th>\n",
       "      <td>44</td>\n",
       "      <td>89.4</td>\n",
       "      <td>35.9</td>\n",
       "      <td>22.7</td>\n",
       "      <td>89.4</td>\n",
       "      <td>24.812</td>\n",
       "    </tr>\n",
       "    <tr>\n",
       "      <th>lower</th>\n",
       "      <td>34</td>\n",
       "      <td>87.0</td>\n",
       "      <td>32.7</td>\n",
       "      <td>19.9</td>\n",
       "      <td>87.0</td>\n",
       "      <td>21.948</td>\n",
       "    </tr>\n",
       "    <tr>\n",
       "      <th>upper</th>\n",
       "      <td>54</td>\n",
       "      <td>91.8</td>\n",
       "      <td>39.1</td>\n",
       "      <td>25.5</td>\n",
       "      <td>91.8</td>\n",
       "      <td>27.676</td>\n",
       "    </tr>\n",
       "    <tr>\n",
       "      <th rowspan=\"3\" valign=\"top\">eats_vehicle</th>\n",
       "      <th>mean</th>\n",
       "      <td>55</td>\n",
       "      <td>100.0</td>\n",
       "      <td>98.4</td>\n",
       "      <td>98.6</td>\n",
       "      <td>100.0</td>\n",
       "      <td>98.568</td>\n",
       "    </tr>\n",
       "    <tr>\n",
       "      <th>lower</th>\n",
       "      <td>45</td>\n",
       "      <td>100.0</td>\n",
       "      <td>97.6</td>\n",
       "      <td>97.8</td>\n",
       "      <td>100.0</td>\n",
       "      <td>97.768</td>\n",
       "    </tr>\n",
       "    <tr>\n",
       "      <th>upper</th>\n",
       "      <td>65</td>\n",
       "      <td>100.0</td>\n",
       "      <td>99.3</td>\n",
       "      <td>99.3</td>\n",
       "      <td>100.0</td>\n",
       "      <td>99.300</td>\n",
       "    </tr>\n",
       "  </tbody>\n",
       "</table>\n",
       "</div>"
      ],
      "text/plain": [
       "                        Ethiopia  India (Rajasthan)  Nigeria (Kano)  \\\n",
       "eats_fortified   mean          1               24.3             7.6   \n",
       "                 lower         0               21.1             5.9   \n",
       "                 upper        10               27.9             9.4   \n",
       "eats_fortifiable mean         44               89.4            35.9   \n",
       "                 lower        34               87.0            32.7   \n",
       "                 upper        54               91.8            39.1   \n",
       "eats_vehicle     mean         55              100.0            98.4   \n",
       "                 lower        45              100.0            97.6   \n",
       "                 upper        65              100.0            99.3   \n",
       "\n",
       "                        Nigeria (Lagos)  India  Nigeria  \n",
       "eats_fortified   mean               7.2   24.3    7.264  \n",
       "                 lower              5.5   21.1    5.564  \n",
       "                 upper              8.9   27.9    8.980  \n",
       "eats_fortifiable mean              22.7   89.4   24.812  \n",
       "                 lower             19.9   87.0   21.948  \n",
       "                 upper             25.5   91.8   27.676  \n",
       "eats_vehicle     mean              98.6  100.0   98.568  \n",
       "                 lower             97.8  100.0   97.768  \n",
       "                 upper             99.3  100.0   99.300  "
      ]
     },
     "execution_count": 19,
     "metadata": {},
     "output_type": "execute_result"
    }
   ],
   "source": [
    "oil_df"
   ]
  },
  {
   "cell_type": "code",
   "execution_count": 20,
   "metadata": {},
   "outputs": [
    {
     "data": {
      "text/plain": [
       "eats_fortifiable  mean     44\n",
       "                  lower    34\n",
       "                  upper    54\n",
       "Name: Ethiopia, dtype: int64"
      ]
     },
     "execution_count": 20,
     "metadata": {},
     "output_type": "execute_result"
    }
   ],
   "source": [
    "idx = pd.IndexSlice\n",
    "oil_df.loc[idx['eats_fortifiable', :], 'Ethiopia']"
   ]
  },
  {
   "cell_type": "code",
   "execution_count": 21,
   "metadata": {},
   "outputs": [
    {
     "name": "stdout",
     "output_type": "stream",
     "text": [
      "0.44 0.54\n"
     ]
    }
   ],
   "source": [
    "mean = oil_df.loc[('eats_fortifiable', 'mean'), 'Ethiopia'] / 100\n",
    "upper = oil_df.loc[('eats_fortifiable', 'upper'), 'Ethiopia'] / 100\n",
    "print(mean, upper)"
   ]
  },
  {
   "cell_type": "code",
   "execution_count": 22,
   "metadata": {},
   "outputs": [],
   "source": [
    "ethiopia_b_dist = prob_utils.beta_from_mean_approx_quantile(mean, upper, 0.975)"
   ]
  },
  {
   "cell_type": "code",
   "execution_count": 23,
   "metadata": {},
   "outputs": [],
   "source": [
    "fortified_alpha = 0.1\n",
    "fortified_beta = 9.9\n",
    "coverage_df = flour_df"
   ]
  },
  {
   "cell_type": "code",
   "execution_count": 51,
   "metadata": {},
   "outputs": [
    {
     "name": "stdout",
     "output_type": "stream",
     "text": [
      "eats_fortified (0.1, 9.9)\n",
      "eats_fortifiable (29.237159978310032, 165.6772398770902)\n",
      "eats_vehicle (86.45706700421684, 222.31817229655755)\n"
     ]
    },
    {
     "data": {
      "image/png": "[encoded data removed]",
      "text/plain": [
       "<Figure size 720x1152 with 6 Axes>"
      ]
     },
     "metadata": {
      "needs_background": "light"
     },
     "output_type": "display_data"
    }
   ],
   "source": [
    "coverage_levels = ['eats_fortified', 'eats_fortifiable', 'eats_vehicle']\n",
    "distributions = [stats.beta(fortified_alpha,fortified_beta)]\n",
    "# dist_params = [(fortified_alpha,fortified_beta)]\n",
    "\n",
    "for coverage_level in coverage_levels[1:]:\n",
    "    mean = coverage_df.loc[(coverage_level, 'mean'), 'Ethiopia'] / 100\n",
    "    upper = coverage_df.loc[(coverage_level, 'upper'), 'Ethiopia'] / 100\n",
    "#     var = prob_utils.normal_stdev_from_mean_quantile(mean, upper, 0.975)**2\n",
    "#     a,b = prob_utils.beta_a_b_from_mean_var(mean, var)\n",
    "#     dist_params.append((a,b))\n",
    "    distributions.append(prob_utils.beta_from_mean_approx_quantile(mean, upper, 0.975))\n",
    "\n",
    "fig, axs = plt.subplots(6, 1, figsize = (10,16))\n",
    "\n",
    "x = np.linspace(0,1, 500)\n",
    "\n",
    "for c, dist in zip(coverage_levels, distributions):\n",
    "    print(c, dist.args) # Get alpha,beta for the distribution\n",
    "#     pdf_kwargs = dict(lw=1, alpha=0.9, label=f'Ethiopia {c} pdf')\n",
    "#     cdf_kwargs = dict(lw=1, alpha=0.9, label=f'Ethiopia {c} cdf')\n",
    "    axs[0].plot(x, dist.pdf(x))\n",
    "    axs[1].plot(x, dist.cdf(x))\n",
    "    axs[2].plot(x, dist.cdf(x))\n",
    "\n",
    "axs[2].set_yscale('logit')\n",
    "axs[2].set_ylim(1e-4,1-1e-11)\n",
    "axs[2].plot(x, (1-3e-3)*np.ones_like(x))\n",
    "axs[2].plot(x, (1-3e-4)*np.ones_like(x))\n",
    "\n",
    "axs[3].plot(x, distributions[0].cdf(x) - distributions[1].cdf(x))\n",
    "axs[3].plot(x, distributions[0].cdf(x) - distributions[2].cdf(x))\n",
    "axs[3].plot(x, distributions[1].cdf(x) - distributions[2].cdf(x))\n",
    "\n",
    "axs[4].plot(x, distributions[0].cdf(x) - distributions[1].cdf(x))\n",
    "axs[4].plot(x, distributions[0].cdf(x) - distributions[2].cdf(x))\n",
    "axs[4].plot(x, distributions[1].cdf(x) - distributions[2].cdf(x))\n",
    "axs[4].plot(x, np.zeros_like(x))\n",
    "axs[4].set_ylim(-2e-3,2e-3)\n",
    "\n",
    "axs[5].plot(x, np.abs(distributions[0].cdf(x) - distributions[1].cdf(x)))\n",
    "axs[5].plot(x, np.abs(distributions[0].cdf(x) - distributions[2].cdf(x)))\n",
    "axs[5].plot(x, np.abs(distributions[1].cdf(x) - distributions[2].cdf(x)))\n",
    "axs[5].set_ylim(1e-16,1-1e-4)\n",
    "axs[5].set_yscale('logit')\n",
    "# axs[5].plot(x, 1/(distributions[0].cdf(x) - distributions[1].cdf(x)))\n",
    "# axs[5].set_yscale('symlog')\n",
    "\n",
    "# ax.set_ylim(0,5)\n",
    "# ax.legend()\n",
    "# ax.set_xlabel(r'Value of $a$ (proportion of population)')\n",
    "# ax.set_ylabel('Probability density')\n",
    "\n",
    "plt.show()"
   ]
  },
  {
   "cell_type": "code",
   "execution_count": 55,
   "metadata": {},
   "outputs": [
    {
     "data": {
      "text/plain": [
       "{'args': (41.2075599504374, 52.44598539146579),\n",
       " 'kwds': {},\n",
       " 'dist': <scipy.stats._continuous_distns.beta_gen at 0x2b25f31c7748>,\n",
       " 'a': 0.0,\n",
       " 'b': 1.0}"
      ]
     },
     "execution_count": 55,
     "metadata": {},
     "output_type": "execute_result"
    }
   ],
   "source": [
    "# List distribution object's attributes to see if we can recover alpha and beta\n",
    "# Yes, they're stored in 'args'\n",
    "ethiopia_b_dist.__dict__"
   ]
  },
  {
   "cell_type": "code",
   "execution_count": 56,
   "metadata": {},
   "outputs": [
    {
     "data": {
      "text/plain": [
       "(41.2075599504374, 52.44598539146579)"
      ]
     },
     "execution_count": 56,
     "metadata": {},
     "output_type": "execute_result"
    }
   ],
   "source": [
    "ethiopia_b_dist.args"
   ]
  },
  {
   "cell_type": "code",
   "execution_count": 58,
   "metadata": {},
   "outputs": [
    {
     "data": {
      "text/plain": [
       "(41.2075599504374, 52.44598539146579)"
      ]
     },
     "execution_count": 58,
     "metadata": {},
     "output_type": "execute_result"
    }
   ],
   "source": [
    "distributions[1].args"
   ]
  },
  {
   "cell_type": "code",
   "execution_count": 54,
   "metadata": {},
   "outputs": [
    {
     "name": "stdout",
     "output_type": "stream",
     "text": [
      "[0.  0.1 0.2 0.3 0.4 0.5 0.6 0.7 0.8 0.9 1. ]\n",
      "[ 0.00000000e+00  9.75738093e-01  9.95111550e-01  9.96763004e-01\n",
      "  7.80896730e-01  1.21396185e-01  9.03249432e-04 -2.36759105e-08\n",
      " -1.91552796e-09 -1.82309723e-12  0.00000000e+00]\n",
      "[0.00000000e+00 1.16538139e-17 8.53863881e-08 2.25274012e-03\n",
      " 2.17241728e-01 7.13816818e-01 1.64008097e-01 1.15679999e-03\n",
      " 2.57879931e-08 0.00000000e+00 0.00000000e+00]\n"
     ]
    }
   ],
   "source": [
    "x=np.linspace(0,1,11)\n",
    "print(x)\n",
    "print(distributions[0].cdf(x) - distributions[1].cdf(x))\n",
    "print(distributions[1].cdf(x) - distributions[2].cdf(x))"
   ]
  },
  {
   "cell_type": "code",
   "execution_count": null,
   "metadata": {},
   "outputs": [],
   "source": []
  }
 ],
 "metadata": {
  "kernelspec": {
   "display_name": "Python 3",
   "language": "python",
   "name": "python3"
  },
  "language_info": {
   "codemirror_mode": {
    "name": "ipython",
    "version": 3
   },
   "file_extension": ".py",
   "mimetype": "text/x-python",
   "name": "python",
   "nbconvert_exporter": "python",
   "pygments_lexer": "ipython3",
   "version": "3.6.10"
  }
 },
 "nbformat": 4,
 "nbformat_minor": 4
}
