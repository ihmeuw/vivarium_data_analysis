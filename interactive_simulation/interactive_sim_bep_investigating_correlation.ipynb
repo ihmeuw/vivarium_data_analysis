{
 "cells": [
  {
   "cell_type": "markdown",
   "metadata": {},
   "source": [
    "Interactive sim\n",
    "install environment in a terminal:\n",
    "\n",
    "1) conda activate gates_bep\n",
    "\n",
    "2) then type in this command: ipython kernel install --name gates_bep --user"
   ]
  },
  {
   "cell_type": "code",
   "execution_count": 1,
   "metadata": {},
   "outputs": [
    {
     "data": {
      "text/html": [
       "<style>.container { width:100% !important; }</style>"
      ],
      "text/plain": [
       "<IPython.core.display.HTML object>"
      ]
     },
     "metadata": {},
     "output_type": "display_data"
    }
   ],
   "source": [
    "from IPython.core.display import display, HTML\n",
    "display(HTML(\"<style>.container { width:100% !important; }</style>\")) #makes the display bars longer and spread out 100% across the screen width"
   ]
  },
  {
   "cell_type": "code",
   "execution_count": 102,
   "metadata": {},
   "outputs": [],
   "source": [
    "import pandas as pd\n",
    "from numpy.random import randn\n",
    "from numpy.random import seed\n",
    "from numpy import mean\n",
    "from numpy import std\n",
    "from numpy import cov\n",
    "from matplotlib import pyplot\n",
    "from scipy.stats import pearsonr\n",
    "from scipy.stats import spearmanr\n",
    "from scipy.stats import stats"
   ]
  },
  {
   "cell_type": "code",
   "execution_count": 3,
   "metadata": {},
   "outputs": [],
   "source": [
    "from vivarium import InteractiveContext"
   ]
  },
  {
   "cell_type": "code",
   "execution_count": 4,
   "metadata": {
    "scrolled": true
   },
   "outputs": [
    {
     "name": "stdout",
     "output_type": "stream",
     "text": [
      "branches  india.yaml  mali.yaml  model_spec.in\tpakistan.yaml  tanzania.yaml\r\n"
     ]
    }
   ],
   "source": [
    "!make_specs #uses the model_spec.in to create the yaml files \n",
    "!ls vivarium_gates_bep/src/vivarium_gates_bep/model_specifications"
   ]
  },
  {
   "cell_type": "code",
   "execution_count": 5,
   "metadata": {
    "scrolled": false
   },
   "outputs": [
    {
     "name": "stdout",
     "output_type": "stream",
     "text": [
      "/ihme/homes/nicoly/vivarium_gates_bep/src/vivarium_gates_bep/model_specifications\n"
     ]
    }
   ],
   "source": [
    "%cd vivarium_gates_bep/src/vivarium_gates_bep/model_specifications\n",
    "# ! changes locally\n",
    "# % changes in python (the running interpreter)"
   ]
  },
  {
   "cell_type": "code",
   "execution_count": 6,
   "metadata": {},
   "outputs": [
    {
     "name": "stderr",
     "output_type": "stream",
     "text": [
      "2020-07-16 12:32:31.546 | DEBUG    | vivarium.framework.values:register_value_modifier:373 - Registering metrics.1.population_manager.metrics as modifier to metrics\n",
      "2020-07-16 12:32:31.571 | DEBUG    | vivarium.framework.artifact.manager:_load_artifact:66 - Running simulation from artifact located at /share/costeffectiveness/artifacts/vivarium_gates_bep/india.hdf.\n",
      "2020-07-16 12:32:31.573 | DEBUG    | vivarium.framework.artifact.manager:_load_artifact:67 - Artifact base filter terms are ['draw == 0', \"location == 'India' | location == 'Global'\"].\n",
      "2020-07-16 12:32:31.574 | DEBUG    | vivarium.framework.artifact.manager:_load_artifact:68 - Artifact additional filter terms are None.\n",
      "2020-07-16 12:32:32.279 | DEBUG    | vivarium.framework.values:_register_value_producer:323 - Registering value pipeline protein_energy_malnutrition.disability_weight\n",
      "2020-07-16 12:32:32.280 | DEBUG    | vivarium.framework.values:register_value_modifier:373 - Registering disability_weight.1.protein_energy_malnutrition.disability_weight as modifier to disability_weight\n",
      "2020-07-16 12:32:32.890 | DEBUG    | vivarium.framework.values:register_value_modifier:373 - Registering cause_specific_mortality_rate.1.risk_attributable_disease.cause.protein_energy_malnutrition.risk_factor.child_wasting.adjust_cause_specific_mortality_rate as modifier to cause_specific_mortality_rate\n",
      "2020-07-16 12:32:33.504 | DEBUG    | vivarium.framework.values:_register_value_producer:323 - Registering value pipeline protein_energy_malnutrition.excess_mortality_rate\n",
      "2020-07-16 12:32:33.507 | DEBUG    | vivarium.framework.values:_register_value_producer:323 - Registering value pipeline protein_energy_malnutrition.excess_mortality_rate.population_attributable_fraction\n",
      "2020-07-16 12:32:33.508 | DEBUG    | vivarium.framework.values:register_value_modifier:373 - Registering mortality_rate.1.risk_attributable_disease.cause.protein_energy_malnutrition.risk_factor.child_wasting.adjust_mortality_rate as modifier to mortality_rate\n",
      "2020-07-16 12:32:33.513 | DEBUG    | vivarium.framework.values:_register_value_producer:323 - Registering value pipeline child_wasting.propensity\n",
      "2020-07-16 12:32:33.514 | DEBUG    | vivarium.framework.values:_register_value_producer:323 - Registering value pipeline child_wasting.exposure\n",
      "2020-07-16 12:32:47.075 | DEBUG    | vivarium.framework.values:register_value_modifier:373 - Registering diarrheal_diseases.incidence_rate.1.risk_effect.risk_factor.child_wasting.cause.diarrheal_diseases.incidence_rate.adjust_target as modifier to diarrheal_diseases.incidence_rate\n",
      "2020-07-16 12:32:47.078 | DEBUG    | vivarium.framework.values:register_value_modifier:373 - Registering diarrheal_diseases.incidence_rate.paf.1.lookup_table_18 as modifier to diarrheal_diseases.incidence_rate.paf\n",
      "2020-07-16 12:32:47.801 | DEBUG    | vivarium.framework.values:register_value_modifier:373 - Registering measles.incidence_rate.1.risk_effect.risk_factor.child_wasting.cause.measles.incidence_rate.adjust_target as modifier to measles.incidence_rate\n",
      "2020-07-16 12:32:47.803 | DEBUG    | vivarium.framework.values:register_value_modifier:373 - Registering measles.incidence_rate.paf.1.lookup_table_20 as modifier to measles.incidence_rate.paf\n",
      "2020-07-16 12:32:48.518 | DEBUG    | vivarium.framework.values:register_value_modifier:373 - Registering lower_respiratory_infections.incidence_rate.1.risk_effect.risk_factor.child_wasting.cause.lower_respiratory_infections.incidence_rate.adjust_target as modifier to lower_respiratory_infections.incidence_rate\n",
      "2020-07-16 12:32:48.519 | DEBUG    | vivarium.framework.values:register_value_modifier:373 - Registering lower_respiratory_infections.incidence_rate.paf.1.lookup_table_22 as modifier to lower_respiratory_infections.incidence_rate.paf\n",
      "2020-07-16 12:32:48.520 | DEBUG    | vivarium.framework.values:_register_value_producer:323 - Registering value pipeline child_stunting.propensity\n",
      "2020-07-16 12:32:48.521 | DEBUG    | vivarium.framework.values:_register_value_producer:323 - Registering value pipeline child_stunting.exposure\n",
      "2020-07-16 12:32:59.219 | DEBUG    | vivarium.framework.values:register_value_modifier:373 - Registering diarrheal_diseases.incidence_rate.2.risk_effect.risk_factor.child_stunting.cause.diarrheal_diseases.incidence_rate.adjust_target as modifier to diarrheal_diseases.incidence_rate\n",
      "2020-07-16 12:32:59.221 | DEBUG    | vivarium.framework.values:register_value_modifier:373 - Registering diarrheal_diseases.incidence_rate.paf.2.lookup_table_37 as modifier to diarrheal_diseases.incidence_rate.paf\n",
      "2020-07-16 12:32:59.950 | DEBUG    | vivarium.framework.values:register_value_modifier:373 - Registering measles.incidence_rate.2.risk_effect.risk_factor.child_stunting.cause.measles.incidence_rate.adjust_target as modifier to measles.incidence_rate\n",
      "2020-07-16 12:32:59.953 | DEBUG    | vivarium.framework.values:register_value_modifier:373 - Registering measles.incidence_rate.paf.2.lookup_table_39 as modifier to measles.incidence_rate.paf\n",
      "2020-07-16 12:33:00.804 | DEBUG    | vivarium.framework.values:register_value_modifier:373 - Registering lower_respiratory_infections.incidence_rate.2.risk_effect.risk_factor.child_stunting.cause.lower_respiratory_infections.incidence_rate.adjust_target as modifier to lower_respiratory_infections.incidence_rate\n",
      "2020-07-16 12:33:00.806 | DEBUG    | vivarium.framework.values:register_value_modifier:373 - Registering lower_respiratory_infections.incidence_rate.paf.2.lookup_table_41 as modifier to lower_respiratory_infections.incidence_rate.paf\n",
      "2020-07-16 12:33:01.515 | DEBUG    | vivarium.framework.values:_register_value_producer:323 - Registering value pipeline cause_specific_mortality_rate\n",
      "2020-07-16 12:33:04.997 | DEBUG    | vivarium.framework.values:_register_value_producer:323 - Registering value pipeline affected_unmodeled.csmr\n",
      "2020-07-16 12:33:04.999 | DEBUG    | vivarium.framework.values:_register_value_producer:323 - Registering value pipeline affected_unmodeled.csmr.population_attributable_fraction\n",
      "2020-07-16 12:33:05.000 | DEBUG    | vivarium.framework.values:_register_value_producer:323 - Registering value pipeline mortality_rate\n",
      "2020-07-16 12:33:05.001 | DEBUG    | vivarium.framework.values:_register_value_producer:323 - Registering value pipeline all_causes.mortality_hazard\n",
      "2020-07-16 12:33:05.002 | DEBUG    | vivarium.framework.values:_register_value_producer:323 - Registering value pipeline all_causes.mortality_hazard.population_attributable_fraction\n",
      "2020-07-16 12:33:06.124 | DEBUG    | vivarium.framework.values:register_value_modifier:373 - Registering cause_specific_mortality_rate.2.disease_model.diarrheal_diseases.adjust_cause_specific_mortality_rate as modifier to cause_specific_mortality_rate\n",
      "2020-07-16 12:33:06.126 | DEBUG    | vivarium.framework.values:register_value_modifier:373 - Registering metrics.2.disease_model.diarrheal_diseases.metrics as modifier to metrics\n",
      "2020-07-16 12:33:06.127 | DEBUG    | vivarium.framework.values:register_value_modifier:373 - Registering metrics.3.state.susceptible_to_diarrheal_diseases.metrics as modifier to metrics\n",
      "2020-07-16 12:33:06.720 | DEBUG    | vivarium.framework.values:_register_value_producer:323 - Registering value pipeline diarrheal_diseases.incidence_rate\n",
      "2020-07-16 12:33:06.723 | DEBUG    | vivarium.framework.values:_register_value_producer:323 - Registering value pipeline diarrheal_diseases.incidence_rate.paf\n",
      "2020-07-16 12:33:06.724 | DEBUG    | vivarium.framework.values:register_value_modifier:373 - Registering metrics.4.state.diarrheal_diseases.metrics as modifier to metrics\n",
      "2020-07-16 12:33:07.316 | DEBUG    | vivarium.framework.values:_register_value_producer:323 - Registering value pipeline diarrheal_diseases.dwell_time\n",
      "2020-07-16 12:33:07.918 | DEBUG    | vivarium.framework.values:_register_value_producer:323 - Registering value pipeline diarrheal_diseases.disability_weight\n",
      "2020-07-16 12:33:07.921 | DEBUG    | vivarium.framework.values:register_value_modifier:373 - Registering disability_weight.2.diarrheal_diseases.disability_weight as modifier to disability_weight\n",
      "2020-07-16 12:33:08.529 | DEBUG    | vivarium.framework.values:_register_value_producer:323 - Registering value pipeline diarrheal_diseases.excess_mortality_rate\n"
     ]
    },
    {
     "name": "stderr",
     "output_type": "stream",
     "text": [
      "2020-07-16 12:33:08.531 | DEBUG    | vivarium.framework.values:_register_value_producer:323 - Registering value pipeline diarrheal_diseases.excess_mortality_rate.population_attributable_fraction\n",
      "2020-07-16 12:33:08.532 | DEBUG    | vivarium.framework.values:register_value_modifier:373 - Registering mortality_rate.2.state.diarrheal_diseases.adjust_mortality_rate as modifier to mortality_rate\n",
      "2020-07-16 12:33:09.157 | DEBUG    | vivarium.framework.values:_register_value_producer:323 - Registering value pipeline diarrheal_diseases.remission_rate\n",
      "2020-07-16 12:33:09.160 | DEBUG    | vivarium.framework.values:_register_value_producer:323 - Registering value pipeline diarrheal_diseases.remission_rate.paf\n",
      "2020-07-16 12:33:09.750 | DEBUG    | vivarium.framework.values:register_value_modifier:373 - Registering cause_specific_mortality_rate.3.disease_model.measles.adjust_cause_specific_mortality_rate as modifier to cause_specific_mortality_rate\n",
      "2020-07-16 12:33:09.751 | DEBUG    | vivarium.framework.values:register_value_modifier:373 - Registering metrics.5.disease_model.measles.metrics as modifier to metrics\n",
      "2020-07-16 12:33:09.752 | DEBUG    | vivarium.framework.values:register_value_modifier:373 - Registering metrics.6.state.susceptible_to_measles.metrics as modifier to metrics\n",
      "2020-07-16 12:33:10.329 | DEBUG    | vivarium.framework.values:_register_value_producer:323 - Registering value pipeline measles.incidence_rate\n",
      "2020-07-16 12:33:10.332 | DEBUG    | vivarium.framework.values:_register_value_producer:323 - Registering value pipeline measles.incidence_rate.paf\n",
      "2020-07-16 12:33:10.333 | DEBUG    | vivarium.framework.values:register_value_modifier:373 - Registering metrics.7.state.measles.metrics as modifier to metrics\n",
      "2020-07-16 12:33:10.974 | DEBUG    | vivarium.framework.values:_register_value_producer:323 - Registering value pipeline measles.dwell_time\n",
      "2020-07-16 12:33:11.626 | DEBUG    | vivarium.framework.values:_register_value_producer:323 - Registering value pipeline measles.disability_weight\n",
      "2020-07-16 12:33:11.629 | DEBUG    | vivarium.framework.values:register_value_modifier:373 - Registering disability_weight.3.measles.disability_weight as modifier to disability_weight\n",
      "2020-07-16 12:33:12.200 | DEBUG    | vivarium.framework.values:_register_value_producer:323 - Registering value pipeline measles.excess_mortality_rate\n",
      "2020-07-16 12:33:12.201 | DEBUG    | vivarium.framework.values:_register_value_producer:323 - Registering value pipeline measles.excess_mortality_rate.population_attributable_fraction\n",
      "2020-07-16 12:33:12.202 | DEBUG    | vivarium.framework.values:register_value_modifier:373 - Registering mortality_rate.3.state.measles.adjust_mortality_rate as modifier to mortality_rate\n",
      "2020-07-16 12:33:12.203 | DEBUG    | vivarium.framework.values:register_value_modifier:373 - Registering metrics.8.state.recovered_from_measles.metrics as modifier to metrics\n",
      "2020-07-16 12:33:12.854 | DEBUG    | vivarium.framework.values:register_value_modifier:373 - Registering cause_specific_mortality_rate.4.disease_model.lower_respiratory_infections.adjust_cause_specific_mortality_rate as modifier to cause_specific_mortality_rate\n",
      "2020-07-16 12:33:12.858 | DEBUG    | vivarium.framework.values:register_value_modifier:373 - Registering metrics.9.disease_model.lower_respiratory_infections.metrics as modifier to metrics\n",
      "2020-07-16 12:33:12.859 | DEBUG    | vivarium.framework.values:register_value_modifier:373 - Registering metrics.10.state.susceptible_to_lower_respiratory_infections.metrics as modifier to metrics\n",
      "2020-07-16 12:33:13.480 | DEBUG    | vivarium.framework.values:_register_value_producer:323 - Registering value pipeline lower_respiratory_infections.incidence_rate\n",
      "2020-07-16 12:33:13.483 | DEBUG    | vivarium.framework.values:_register_value_producer:323 - Registering value pipeline lower_respiratory_infections.incidence_rate.paf\n",
      "2020-07-16 12:33:13.485 | DEBUG    | vivarium.framework.values:register_value_modifier:373 - Registering metrics.11.state.lower_respiratory_infections.metrics as modifier to metrics\n",
      "2020-07-16 12:33:14.242 | DEBUG    | vivarium.framework.values:_register_value_producer:323 - Registering value pipeline lower_respiratory_infections.dwell_time\n",
      "2020-07-16 12:33:14.828 | DEBUG    | vivarium.framework.values:_register_value_producer:323 - Registering value pipeline lower_respiratory_infections.disability_weight\n",
      "2020-07-16 12:33:14.830 | DEBUG    | vivarium.framework.values:register_value_modifier:373 - Registering disability_weight.4.lower_respiratory_infections.disability_weight as modifier to disability_weight\n",
      "2020-07-16 12:33:15.431 | DEBUG    | vivarium.framework.values:_register_value_producer:323 - Registering value pipeline lower_respiratory_infections.excess_mortality_rate\n",
      "2020-07-16 12:33:15.432 | DEBUG    | vivarium.framework.values:_register_value_producer:323 - Registering value pipeline lower_respiratory_infections.excess_mortality_rate.population_attributable_fraction\n",
      "2020-07-16 12:33:15.433 | DEBUG    | vivarium.framework.values:register_value_modifier:373 - Registering mortality_rate.4.state.lower_respiratory_infections.adjust_mortality_rate as modifier to mortality_rate\n",
      "2020-07-16 12:33:16.095 | DEBUG    | vivarium.framework.values:_register_value_producer:323 - Registering value pipeline lower_respiratory_infections.remission_rate\n",
      "2020-07-16 12:33:16.097 | DEBUG    | vivarium.framework.values:_register_value_producer:323 - Registering value pipeline lower_respiratory_infections.remission_rate.paf\n",
      "2020-07-16 12:33:16.727 | DEBUG    | vivarium.framework.values:_register_value_producer:323 - Registering value pipeline low_birth_weight_and_short_gestation.raw_exposure\n",
      "2020-07-16 12:33:16.729 | DEBUG    | vivarium.framework.values:_register_value_producer:323 - Registering value pipeline low_birth_weight_and_short_gestation.exposure\n",
      "2020-07-16 12:33:18.031 | DEBUG    | vivarium.framework.values:register_value_modifier:373 - Registering affected_unmodeled.csmr.1.risk_effect.risk_factor.low_birth_weight_and_short_gestation.cause.affected_unmodeled.csmr.adjust_target as modifier to affected_unmodeled.csmr\n",
      "2020-07-16 12:33:18.032 | DEBUG    | vivarium.framework.values:register_value_modifier:373 - Registering affected_unmodeled.csmr.population_attributable_fraction.1.lookup_table_80 as modifier to affected_unmodeled.csmr.population_attributable_fraction\n",
      "2020-07-16 12:33:19.156 | DEBUG    | vivarium.framework.values:register_value_modifier:373 - Registering lower_respiratory_infections.excess_mortality_rate.1.risk_effect.risk_factor.low_birth_weight_and_short_gestation.cause.lower_respiratory_infections.excess_mortality_rate.adjust_target as modifier to lower_respiratory_infections.excess_mortality_rate\n",
      "2020-07-16 12:33:19.160 | DEBUG    | vivarium.framework.values:register_value_modifier:373 - Registering lower_respiratory_infections.excess_mortality_rate.population_attributable_fraction.1.lookup_table_82 as modifier to lower_respiratory_infections.excess_mortality_rate.population_attributable_fraction\n",
      "2020-07-16 12:33:20.208 | DEBUG    | vivarium.framework.values:register_value_modifier:373 - Registering diarrheal_diseases.excess_mortality_rate.1.risk_effect.risk_factor.low_birth_weight_and_short_gestation.cause.diarrheal_diseases.excess_mortality_rate.adjust_target as modifier to diarrheal_diseases.excess_mortality_rate\n",
      "2020-07-16 12:33:20.212 | DEBUG    | vivarium.framework.values:register_value_modifier:373 - Registering diarrheal_diseases.excess_mortality_rate.population_attributable_fraction.1.lookup_table_84 as modifier to diarrheal_diseases.excess_mortality_rate.population_attributable_fraction\n",
      "2020-07-16 12:33:20.870 | DEBUG    | vivarium.framework.values:register_value_modifier:373 - Registering metrics.12.mortality_observer.metrics as modifier to metrics\n",
      "2020-07-16 12:33:20.967 | DEBUG    | vivarium.framework.values:_register_value_producer:323 - Registering value pipeline disability_weight\n",
      "2020-07-16 12:33:20.969 | DEBUG    | vivarium.framework.values:register_value_modifier:373 - Registering metrics.13.disability_observer.metrics as modifier to metrics\n",
      "2020-07-16 12:33:20.972 | DEBUG    | vivarium.framework.values:register_value_modifier:373 - Registering metrics.14.disease_observer.diarrheal_diseases.metrics as modifier to metrics\n"
     ]
    },
    {
     "name": "stderr",
     "output_type": "stream",
     "text": [
      "2020-07-16 12:33:20.973 | DEBUG    | vivarium.framework.values:register_value_modifier:373 - Registering metrics.15.disease_observer.measles.metrics as modifier to metrics\n",
      "2020-07-16 12:33:20.975 | DEBUG    | vivarium.framework.values:register_value_modifier:373 - Registering metrics.16.disease_observer.lower_respiratory_infections.metrics as modifier to metrics\n",
      "2020-07-16 12:33:20.976 | DEBUG    | vivarium.framework.values:register_value_modifier:373 - Registering metrics.17.disease_observer.protein_energy_malnutrition.metrics as modifier to metrics\n",
      "2020-07-16 12:33:20.977 | DEBUG    | vivarium.framework.values:register_value_modifier:373 - Registering metrics.18.risk_observer.child_growth_failure.metrics as modifier to metrics\n",
      "2020-07-16 12:33:20.977 | DEBUG    | vivarium.framework.values:register_value_modifier:373 - Registering metrics.19.risk_observer.low_birth_weight_and_short_gestation.metrics as modifier to metrics\n",
      "2020-07-16 12:33:20.979 | DEBUG    | vivarium.framework.values:register_value_modifier:373 - Registering metrics.20.risk.maternal_malnutrition.metrics as modifier to metrics\n",
      "2020-07-16 12:33:45.590 | DEBUG    | vivarium.framework.values:register_value_modifier:373 - Registering low_birth_weight_and_short_gestation.exposure.1.risk_effect.maternal_malnutrition.adjust_birth_weight as modifier to low_birth_weight_and_short_gestation.exposure\n",
      "2020-07-16 12:33:45.594 | DEBUG    | vivarium.framework.values:register_value_modifier:373 - Registering child_wasting.exposure.1.risk_effect.maternal_malnutrition.adjust_wasting as modifier to child_wasting.exposure\n",
      "2020-07-16 12:33:45.595 | DEBUG    | vivarium.framework.values:register_value_modifier:373 - Registering child_stunting.exposure.1.risk_effect.maternal_malnutrition.adjust_stunting as modifier to child_stunting.exposure\n",
      "2020-07-16 12:33:45.694 | DEBUG    | vivarium.framework.values:register_value_modifier:373 - Registering low_birth_weight_and_short_gestation.exposure.2.treatment_effect.maternal_supplementation.adjust_lbwsg as modifier to low_birth_weight_and_short_gestation.exposure\n",
      "2020-07-16 12:33:45.695 | DEBUG    | vivarium.framework.values:register_value_modifier:373 - Registering child_stunting.exposure.2.treatment_effect.maternal_supplementation.adjust_cgf as modifier to child_stunting.exposure\n",
      "2020-07-16 12:33:45.696 | DEBUG    | vivarium.framework.values:register_value_modifier:373 - Registering child_wasting.exposure.2.treatment_effect.maternal_supplementation.adjust_cgf as modifier to child_wasting.exposure\n",
      "2020-07-16 12:33:45.698 | DEBUG    | vivarium.framework.values:_register_value_producer:323 - Registering value pipeline metrics\n"
     ]
    }
   ],
   "source": [
    "sim = InteractiveContext('/ihme/homes/nicoly/vivarium_gates_bep/src/vivarium_gates_bep/model_specifications/india.yaml') #gives before time-steps"
   ]
  },
  {
   "cell_type": "code",
   "execution_count": 50,
   "metadata": {
    "scrolled": false
   },
   "outputs": [
    {
     "name": "stderr",
     "output_type": "stream",
     "text": [
      "2020-07-16 13:07:15.302 | DEBUG    | vivarium.framework.engine:step:140 - 2020-07-12 00:00:00\n",
      "2020-07-16 13:07:28.535 | DEBUG    | vivarium.framework.engine:step:140 - 2020-07-13 00:00:00\n",
      "2020-07-16 13:07:41.421 | DEBUG    | vivarium.framework.engine:step:140 - 2020-07-14 00:00:00\n",
      "2020-07-16 13:07:54.853 | DEBUG    | vivarium.framework.engine:step:140 - 2020-07-15 00:00:00\n",
      "2020-07-16 13:08:08.318 | DEBUG    | vivarium.framework.engine:step:140 - 2020-07-16 00:00:00\n",
      "2020-07-16 13:08:22.068 | DEBUG    | vivarium.framework.engine:step:140 - 2020-07-17 00:00:00\n",
      "2020-07-16 13:08:35.663 | DEBUG    | vivarium.framework.engine:step:140 - 2020-07-18 00:00:00\n",
      "2020-07-16 13:08:49.182 | DEBUG    | vivarium.framework.engine:step:140 - 2020-07-19 00:00:00\n",
      "2020-07-16 13:09:02.774 | DEBUG    | vivarium.framework.engine:step:140 - 2020-07-20 00:00:00\n",
      "2020-07-16 13:09:15.899 | DEBUG    | vivarium.framework.engine:step:140 - 2020-07-21 00:00:00\n",
      "2020-07-16 13:09:29.041 | DEBUG    | vivarium.framework.engine:step:140 - 2020-07-22 00:00:00\n",
      "2020-07-16 13:09:43.102 | DEBUG    | vivarium.framework.engine:step:140 - 2020-07-23 00:00:00\n",
      "2020-07-16 13:09:57.603 | DEBUG    | vivarium.framework.engine:step:140 - 2020-07-24 00:00:00\n",
      "2020-07-16 13:10:12.433 | DEBUG    | vivarium.framework.engine:step:140 - 2020-07-25 00:00:00\n",
      "2020-07-16 13:10:27.499 | DEBUG    | vivarium.framework.engine:step:140 - 2020-07-26 00:00:00\n",
      "2020-07-16 13:10:41.826 | DEBUG    | vivarium.framework.engine:step:140 - 2020-07-27 00:00:00\n",
      "2020-07-16 13:10:56.982 | DEBUG    | vivarium.framework.engine:step:140 - 2020-07-28 00:00:00\n",
      "2020-07-16 13:11:11.749 | DEBUG    | vivarium.framework.engine:step:140 - 2020-07-29 00:00:00\n",
      "2020-07-16 13:11:27.184 | DEBUG    | vivarium.framework.engine:step:140 - 2020-07-30 00:00:00\n",
      "2020-07-16 13:11:42.192 | DEBUG    | vivarium.framework.engine:step:140 - 2020-07-31 00:00:00\n",
      "2020-07-16 13:11:57.661 | DEBUG    | vivarium.framework.engine:step:140 - 2020-08-01 00:00:00\n",
      "2020-07-16 13:12:12.778 | DEBUG    | vivarium.framework.engine:step:140 - 2020-08-02 00:00:00\n",
      "2020-07-16 13:12:27.671 | DEBUG    | vivarium.framework.engine:step:140 - 2020-08-03 00:00:00\n",
      "2020-07-16 13:12:43.034 | DEBUG    | vivarium.framework.engine:step:140 - 2020-08-04 00:00:00\n",
      "2020-07-16 13:12:59.184 | DEBUG    | vivarium.framework.engine:step:140 - 2020-08-05 00:00:00\n",
      "2020-07-16 13:13:14.716 | DEBUG    | vivarium.framework.engine:step:140 - 2020-08-06 00:00:00\n",
      "2020-07-16 13:13:30.324 | DEBUG    | vivarium.framework.engine:step:140 - 2020-08-07 00:00:00\n",
      "2020-07-16 13:13:45.707 | DEBUG    | vivarium.framework.engine:step:140 - 2020-08-08 00:00:00\n",
      "2020-07-16 13:14:01.234 | DEBUG    | vivarium.framework.engine:step:140 - 2020-08-09 00:00:00\n",
      "2020-07-16 13:14:16.615 | DEBUG    | vivarium.framework.engine:step:140 - 2020-08-10 00:00:00\n",
      "2020-07-16 13:14:31.357 | DEBUG    | vivarium.framework.engine:step:140 - 2020-08-11 00:00:00\n",
      "2020-07-16 13:14:47.262 | DEBUG    | vivarium.framework.engine:step:140 - 2020-08-12 00:00:00\n",
      "2020-07-16 13:15:02.275 | DEBUG    | vivarium.framework.engine:step:140 - 2020-08-13 00:00:00\n",
      "2020-07-16 13:15:17.045 | DEBUG    | vivarium.framework.engine:step:140 - 2020-08-14 00:00:00\n",
      "2020-07-16 13:15:32.211 | DEBUG    | vivarium.framework.engine:step:140 - 2020-08-15 00:00:00\n",
      "2020-07-16 13:15:47.572 | DEBUG    | vivarium.framework.engine:step:140 - 2020-08-16 00:00:00\n",
      "2020-07-16 13:16:02.840 | DEBUG    | vivarium.framework.engine:step:140 - 2020-08-17 00:00:00\n",
      "2020-07-16 13:16:17.488 | DEBUG    | vivarium.framework.engine:step:140 - 2020-08-18 00:00:00\n",
      "2020-07-16 13:16:32.462 | DEBUG    | vivarium.framework.engine:step:140 - 2020-08-19 00:00:00\n",
      "2020-07-16 13:16:47.719 | DEBUG    | vivarium.framework.engine:step:140 - 2020-08-20 00:00:00\n",
      "2020-07-16 13:17:02.842 | DEBUG    | vivarium.framework.engine:step:140 - 2020-08-21 00:00:00\n",
      "2020-07-16 13:17:18.505 | DEBUG    | vivarium.framework.engine:step:140 - 2020-08-22 00:00:00\n",
      "2020-07-16 13:17:33.460 | DEBUG    | vivarium.framework.engine:step:140 - 2020-08-23 00:00:00\n",
      "2020-07-16 13:17:48.646 | DEBUG    | vivarium.framework.engine:step:140 - 2020-08-24 00:00:00\n",
      "2020-07-16 13:18:04.085 | DEBUG    | vivarium.framework.engine:step:140 - 2020-08-25 00:00:00\n",
      "2020-07-16 13:18:20.436 | DEBUG    | vivarium.framework.engine:step:140 - 2020-08-26 00:00:00\n",
      "2020-07-16 13:18:36.065 | DEBUG    | vivarium.framework.engine:step:140 - 2020-08-27 00:00:00\n",
      "2020-07-16 13:18:51.809 | DEBUG    | vivarium.framework.engine:step:140 - 2020-08-28 00:00:00\n",
      "2020-07-16 13:19:07.321 | DEBUG    | vivarium.framework.engine:step:140 - 2020-08-29 00:00:00\n",
      "2020-07-16 13:19:23.067 | DEBUG    | vivarium.framework.engine:step:140 - 2020-08-30 00:00:00\n",
      "2020-07-16 13:19:38.627 | DEBUG    | vivarium.framework.engine:step:140 - 2020-08-31 00:00:00\n",
      "2020-07-16 13:19:54.748 | DEBUG    | vivarium.framework.engine:step:140 - 2020-09-01 00:00:00\n",
      "2020-07-16 13:20:09.980 | DEBUG    | vivarium.framework.engine:step:140 - 2020-09-02 00:00:00\n",
      "2020-07-16 13:20:25.549 | DEBUG    | vivarium.framework.engine:step:140 - 2020-09-03 00:00:00\n",
      "2020-07-16 13:20:41.528 | DEBUG    | vivarium.framework.engine:step:140 - 2020-09-04 00:00:00\n",
      "2020-07-16 13:20:57.511 | DEBUG    | vivarium.framework.engine:step:140 - 2020-09-05 00:00:00\n",
      "2020-07-16 13:21:13.273 | DEBUG    | vivarium.framework.engine:step:140 - 2020-09-06 00:00:00\n",
      "2020-07-16 13:21:28.947 | DEBUG    | vivarium.framework.engine:step:140 - 2020-09-07 00:00:00\n",
      "2020-07-16 13:21:44.645 | DEBUG    | vivarium.framework.engine:step:140 - 2020-09-08 00:00:00\n",
      "2020-07-16 13:22:00.704 | DEBUG    | vivarium.framework.engine:step:140 - 2020-09-09 00:00:00\n",
      "2020-07-16 13:22:16.686 | DEBUG    | vivarium.framework.engine:step:140 - 2020-09-10 00:00:00\n",
      "2020-07-16 13:22:32.701 | DEBUG    | vivarium.framework.engine:step:140 - 2020-09-11 00:00:00\n",
      "2020-07-16 13:22:48.901 | DEBUG    | vivarium.framework.engine:step:140 - 2020-09-12 00:00:00\n",
      "2020-07-16 13:23:04.953 | DEBUG    | vivarium.framework.engine:step:140 - 2020-09-13 00:00:00\n",
      "2020-07-16 13:23:22.369 | DEBUG    | vivarium.framework.engine:step:140 - 2020-09-14 00:00:00\n",
      "2020-07-16 13:23:38.484 | DEBUG    | vivarium.framework.engine:step:140 - 2020-09-15 00:00:00\n",
      "2020-07-16 13:23:54.264 | DEBUG    | vivarium.framework.engine:step:140 - 2020-09-16 00:00:00\n",
      "2020-07-16 13:24:09.990 | DEBUG    | vivarium.framework.engine:step:140 - 2020-09-17 00:00:00\n",
      "2020-07-16 13:24:25.724 | DEBUG    | vivarium.framework.engine:step:140 - 2020-09-18 00:00:00\n",
      "2020-07-16 13:24:41.425 | DEBUG    | vivarium.framework.engine:step:140 - 2020-09-19 00:00:00\n",
      "2020-07-16 13:24:57.803 | DEBUG    | vivarium.framework.engine:step:140 - 2020-09-20 00:00:00\n",
      "2020-07-16 13:25:13.677 | DEBUG    | vivarium.framework.engine:step:140 - 2020-09-21 00:00:00\n",
      "2020-07-16 13:25:29.830 | DEBUG    | vivarium.framework.engine:step:140 - 2020-09-22 00:00:00\n",
      "2020-07-16 13:25:45.766 | DEBUG    | vivarium.framework.engine:step:140 - 2020-09-23 00:00:00\n",
      "2020-07-16 13:26:02.334 | DEBUG    | vivarium.framework.engine:step:140 - 2020-09-24 00:00:00\n",
      "2020-07-16 13:26:18.284 | DEBUG    | vivarium.framework.engine:step:140 - 2020-09-25 00:00:00\n",
      "2020-07-16 13:26:34.373 | DEBUG    | vivarium.framework.engine:step:140 - 2020-09-26 00:00:00\n",
      "2020-07-16 13:26:50.542 | DEBUG    | vivarium.framework.engine:step:140 - 2020-09-27 00:00:00\n",
      "2020-07-16 13:27:06.820 | DEBUG    | vivarium.framework.engine:step:140 - 2020-09-28 00:00:00\n",
      "2020-07-16 13:27:23.270 | DEBUG    | vivarium.framework.engine:step:140 - 2020-09-29 00:00:00\n",
      "2020-07-16 13:27:39.286 | DEBUG    | vivarium.framework.engine:step:140 - 2020-09-30 00:00:00\n",
      "2020-07-16 13:27:55.536 | DEBUG    | vivarium.framework.engine:step:140 - 2020-10-01 00:00:00\n",
      "2020-07-16 13:28:12.169 | DEBUG    | vivarium.framework.engine:step:140 - 2020-10-02 00:00:00\n",
      "2020-07-16 13:28:28.414 | DEBUG    | vivarium.framework.engine:step:140 - 2020-10-03 00:00:00\n",
      "2020-07-16 13:28:44.569 | DEBUG    | vivarium.framework.engine:step:140 - 2020-10-04 00:00:00\n",
      "2020-07-16 13:29:01.081 | DEBUG    | vivarium.framework.engine:step:140 - 2020-10-05 00:00:00\n",
      "2020-07-16 13:29:17.114 | DEBUG    | vivarium.framework.engine:step:140 - 2020-10-06 00:00:00\n",
      "2020-07-16 13:29:33.238 | DEBUG    | vivarium.framework.engine:step:140 - 2020-10-07 00:00:00\n"
     ]
    },
    {
     "name": "stderr",
     "output_type": "stream",
     "text": [
      "2020-07-16 13:29:49.204 | DEBUG    | vivarium.framework.engine:step:140 - 2020-10-08 00:00:00\n",
      "2020-07-16 13:30:05.476 | DEBUG    | vivarium.framework.engine:step:140 - 2020-10-09 00:00:00\n",
      "2020-07-16 13:30:21.849 | DEBUG    | vivarium.framework.engine:step:140 - 2020-10-10 00:00:00\n",
      "2020-07-16 13:30:37.868 | DEBUG    | vivarium.framework.engine:step:140 - 2020-10-11 00:00:00\n",
      "2020-07-16 13:30:54.031 | DEBUG    | vivarium.framework.engine:step:140 - 2020-10-12 00:00:00\n",
      "2020-07-16 13:31:10.914 | DEBUG    | vivarium.framework.engine:step:140 - 2020-10-13 00:00:00\n",
      "2020-07-16 13:31:27.099 | DEBUG    | vivarium.framework.engine:step:140 - 2020-10-14 00:00:00\n",
      "2020-07-16 13:31:43.815 | DEBUG    | vivarium.framework.engine:step:140 - 2020-10-15 00:00:00\n",
      "2020-07-16 13:31:59.974 | DEBUG    | vivarium.framework.engine:step:140 - 2020-10-16 00:00:00\n",
      "2020-07-16 13:32:16.024 | DEBUG    | vivarium.framework.engine:step:140 - 2020-10-17 00:00:00\n",
      "2020-07-16 13:32:32.483 | DEBUG    | vivarium.framework.engine:step:140 - 2020-10-18 00:00:00\n",
      "2020-07-16 13:32:49.141 | DEBUG    | vivarium.framework.engine:step:140 - 2020-10-19 00:00:00\n",
      "2020-07-16 13:33:05.765 | DEBUG    | vivarium.framework.engine:step:140 - 2020-10-20 00:00:00\n",
      "2020-07-16 13:33:21.940 | DEBUG    | vivarium.framework.engine:step:140 - 2020-10-21 00:00:00\n",
      "2020-07-16 13:33:38.726 | DEBUG    | vivarium.framework.engine:step:140 - 2020-10-22 00:00:00\n",
      "2020-07-16 13:33:55.557 | DEBUG    | vivarium.framework.engine:step:140 - 2020-10-23 00:00:00\n",
      "2020-07-16 13:34:13.020 | DEBUG    | vivarium.framework.engine:step:140 - 2020-10-24 00:00:00\n",
      "2020-07-16 13:34:29.429 | DEBUG    | vivarium.framework.engine:step:140 - 2020-10-25 00:00:00\n",
      "2020-07-16 13:34:46.071 | DEBUG    | vivarium.framework.engine:step:140 - 2020-10-26 00:00:00\n",
      "2020-07-16 13:35:02.739 | DEBUG    | vivarium.framework.engine:step:140 - 2020-10-27 00:00:00\n",
      "2020-07-16 13:35:19.369 | DEBUG    | vivarium.framework.engine:step:140 - 2020-10-28 00:00:00\n",
      "2020-07-16 13:35:36.212 | DEBUG    | vivarium.framework.engine:step:140 - 2020-10-29 00:00:00\n",
      "2020-07-16 13:35:52.264 | DEBUG    | vivarium.framework.engine:step:140 - 2020-10-30 00:00:00\n",
      "2020-07-16 13:36:09.694 | DEBUG    | vivarium.framework.engine:step:140 - 2020-10-31 00:00:00\n",
      "2020-07-16 13:36:26.126 | DEBUG    | vivarium.framework.engine:step:140 - 2020-11-01 00:00:00\n",
      "2020-07-16 13:36:42.810 | DEBUG    | vivarium.framework.engine:step:140 - 2020-11-02 00:00:00\n",
      "2020-07-16 13:36:59.977 | DEBUG    | vivarium.framework.engine:step:140 - 2020-11-03 00:00:00\n",
      "2020-07-16 13:37:17.567 | DEBUG    | vivarium.framework.engine:step:140 - 2020-11-04 00:00:00\n",
      "2020-07-16 13:37:34.985 | DEBUG    | vivarium.framework.engine:step:140 - 2020-11-05 00:00:00\n",
      "2020-07-16 13:37:52.624 | DEBUG    | vivarium.framework.engine:step:140 - 2020-11-06 00:00:00\n",
      "2020-07-16 13:38:09.517 | DEBUG    | vivarium.framework.engine:step:140 - 2020-11-07 00:00:00\n",
      "2020-07-16 13:38:27.594 | DEBUG    | vivarium.framework.engine:step:140 - 2020-11-08 00:00:00\n",
      "2020-07-16 13:38:44.734 | DEBUG    | vivarium.framework.engine:step:140 - 2020-11-09 00:00:00\n",
      "2020-07-16 13:39:02.480 | DEBUG    | vivarium.framework.engine:step:140 - 2020-11-10 00:00:00\n",
      "2020-07-16 13:39:20.999 | DEBUG    | vivarium.framework.engine:step:140 - 2020-11-11 00:00:00\n",
      "2020-07-16 13:39:37.665 | DEBUG    | vivarium.framework.engine:step:140 - 2020-11-12 00:00:00\n",
      "2020-07-16 13:39:55.055 | DEBUG    | vivarium.framework.engine:step:140 - 2020-11-13 00:00:00\n",
      "2020-07-16 13:40:12.145 | DEBUG    | vivarium.framework.engine:step:140 - 2020-11-14 00:00:00\n",
      "2020-07-16 13:40:29.312 | DEBUG    | vivarium.framework.engine:step:140 - 2020-11-15 00:00:00\n",
      "2020-07-16 13:40:46.267 | DEBUG    | vivarium.framework.engine:step:140 - 2020-11-16 00:00:00\n",
      "2020-07-16 13:41:03.341 | DEBUG    | vivarium.framework.engine:step:140 - 2020-11-17 00:00:00\n",
      "2020-07-16 13:41:20.646 | DEBUG    | vivarium.framework.engine:step:140 - 2020-11-18 00:00:00\n",
      "2020-07-16 13:41:37.963 | DEBUG    | vivarium.framework.engine:step:140 - 2020-11-19 00:00:00\n",
      "2020-07-16 13:41:54.910 | DEBUG    | vivarium.framework.engine:step:140 - 2020-11-20 00:00:00\n",
      "2020-07-16 13:42:12.144 | DEBUG    | vivarium.framework.engine:step:140 - 2020-11-21 00:00:00\n",
      "2020-07-16 13:42:29.314 | DEBUG    | vivarium.framework.engine:step:140 - 2020-11-22 00:00:00\n",
      "2020-07-16 13:42:46.293 | DEBUG    | vivarium.framework.engine:step:140 - 2020-11-23 00:00:00\n",
      "2020-07-16 13:43:04.234 | DEBUG    | vivarium.framework.engine:step:140 - 2020-11-24 00:00:00\n",
      "2020-07-16 13:43:20.962 | DEBUG    | vivarium.framework.engine:step:140 - 2020-11-25 00:00:00\n",
      "2020-07-16 13:43:38.548 | DEBUG    | vivarium.framework.engine:step:140 - 2020-11-26 00:00:00\n",
      "2020-07-16 13:43:56.734 | DEBUG    | vivarium.framework.engine:step:140 - 2020-11-27 00:00:00\n",
      "2020-07-16 13:44:13.935 | DEBUG    | vivarium.framework.engine:step:140 - 2020-11-28 00:00:00\n",
      "2020-07-16 13:44:31.634 | DEBUG    | vivarium.framework.engine:step:140 - 2020-11-29 00:00:00\n",
      "2020-07-16 13:44:50.044 | DEBUG    | vivarium.framework.engine:step:140 - 2020-11-30 00:00:00\n",
      "2020-07-16 13:45:08.233 | DEBUG    | vivarium.framework.engine:step:140 - 2020-12-01 00:00:00\n",
      "2020-07-16 13:45:26.288 | DEBUG    | vivarium.framework.engine:step:140 - 2020-12-02 00:00:00\n",
      "2020-07-16 13:45:43.776 | DEBUG    | vivarium.framework.engine:step:140 - 2020-12-03 00:00:00\n",
      "2020-07-16 13:46:01.969 | DEBUG    | vivarium.framework.engine:step:140 - 2020-12-04 00:00:00\n",
      "2020-07-16 13:46:19.445 | DEBUG    | vivarium.framework.engine:step:140 - 2020-12-05 00:00:00\n",
      "2020-07-16 13:46:38.070 | DEBUG    | vivarium.framework.engine:step:140 - 2020-12-06 00:00:00\n",
      "2020-07-16 13:46:55.634 | DEBUG    | vivarium.framework.engine:step:140 - 2020-12-07 00:00:00\n",
      "2020-07-16 13:47:13.107 | DEBUG    | vivarium.framework.engine:step:140 - 2020-12-08 00:00:00\n",
      "2020-07-16 13:47:30.500 | DEBUG    | vivarium.framework.engine:step:140 - 2020-12-09 00:00:00\n",
      "2020-07-16 13:47:47.634 | DEBUG    | vivarium.framework.engine:step:140 - 2020-12-10 00:00:00\n",
      "2020-07-16 13:48:05.287 | DEBUG    | vivarium.framework.engine:step:140 - 2020-12-11 00:00:00\n",
      "2020-07-16 13:48:22.978 | DEBUG    | vivarium.framework.engine:step:140 - 2020-12-12 00:00:00\n",
      "2020-07-16 13:48:40.700 | DEBUG    | vivarium.framework.engine:step:140 - 2020-12-13 00:00:00\n",
      "2020-07-16 13:48:58.564 | DEBUG    | vivarium.framework.engine:step:140 - 2020-12-14 00:00:00\n",
      "2020-07-16 13:49:16.255 | DEBUG    | vivarium.framework.engine:step:140 - 2020-12-15 00:00:00\n",
      "2020-07-16 13:49:33.819 | DEBUG    | vivarium.framework.engine:step:140 - 2020-12-16 00:00:00\n",
      "2020-07-16 13:49:51.166 | DEBUG    | vivarium.framework.engine:step:140 - 2020-12-17 00:00:00\n",
      "2020-07-16 13:50:09.466 | DEBUG    | vivarium.framework.engine:step:140 - 2020-12-18 00:00:00\n",
      "2020-07-16 13:50:27.718 | DEBUG    | vivarium.framework.engine:step:140 - 2020-12-19 00:00:00\n",
      "2020-07-16 13:50:45.486 | DEBUG    | vivarium.framework.engine:step:140 - 2020-12-20 00:00:00\n",
      "2020-07-16 13:51:04.109 | DEBUG    | vivarium.framework.engine:step:140 - 2020-12-21 00:00:00\n",
      "2020-07-16 13:51:22.293 | DEBUG    | vivarium.framework.engine:step:140 - 2020-12-22 00:00:00\n",
      "2020-07-16 13:51:41.231 | DEBUG    | vivarium.framework.engine:step:140 - 2020-12-23 00:00:00\n",
      "2020-07-16 13:51:59.480 | DEBUG    | vivarium.framework.engine:step:140 - 2020-12-24 00:00:00\n",
      "2020-07-16 13:52:18.410 | DEBUG    | vivarium.framework.engine:step:140 - 2020-12-25 00:00:00\n",
      "2020-07-16 13:52:37.326 | DEBUG    | vivarium.framework.engine:step:140 - 2020-12-26 00:00:00\n",
      "2020-07-16 13:52:55.817 | DEBUG    | vivarium.framework.engine:step:140 - 2020-12-27 00:00:00\n",
      "2020-07-16 13:53:14.037 | DEBUG    | vivarium.framework.engine:step:140 - 2020-12-28 00:00:00\n",
      "2020-07-16 13:53:32.582 | DEBUG    | vivarium.framework.engine:step:140 - 2020-12-29 00:00:00\n",
      "2020-07-16 13:53:51.140 | DEBUG    | vivarium.framework.engine:step:140 - 2020-12-30 00:00:00\n",
      "2020-07-16 13:54:09.897 | DEBUG    | vivarium.framework.engine:step:140 - 2020-12-31 00:00:00\n",
      "2020-07-16 13:54:38.913 | DEBUG    | vivarium.framework.engine:step:140 - 2021-01-01 00:00:00\n",
      "2020-07-16 13:54:57.423 | DEBUG    | vivarium.framework.engine:step:140 - 2021-01-02 00:00:00\n",
      "2020-07-16 13:55:16.833 | DEBUG    | vivarium.framework.engine:step:140 - 2021-01-03 00:00:00\n"
     ]
    },
    {
     "name": "stderr",
     "output_type": "stream",
     "text": [
      "2020-07-16 13:55:35.727 | DEBUG    | vivarium.framework.engine:step:140 - 2021-01-04 00:00:00\n",
      "2020-07-16 13:55:54.895 | DEBUG    | vivarium.framework.engine:step:140 - 2021-01-05 00:00:00\n",
      "2020-07-16 13:56:13.512 | DEBUG    | vivarium.framework.engine:step:140 - 2021-01-06 00:00:00\n",
      "2020-07-16 13:56:32.696 | DEBUG    | vivarium.framework.engine:step:140 - 2021-01-07 00:00:00\n",
      "2020-07-16 13:56:51.178 | DEBUG    | vivarium.framework.engine:step:140 - 2021-01-08 00:00:00\n",
      "2020-07-16 13:57:10.087 | DEBUG    | vivarium.framework.engine:step:140 - 2021-01-09 00:00:00\n"
     ]
    }
   ],
   "source": [
    "NUM_STEPS = 182\n",
    "\n",
    "# run time-steps                            \n",
    "for i in range(NUM_STEPS):\n",
    "    sim.step()"
   ]
  },
  {
   "cell_type": "code",
   "execution_count": 51,
   "metadata": {},
   "outputs": [
    {
     "data": {
      "text/html": [
       "<div>\n",
       "<style scoped>\n",
       "    .dataframe tbody tr th:only-of-type {\n",
       "        vertical-align: middle;\n",
       "    }\n",
       "\n",
       "    .dataframe tbody tr th {\n",
       "        vertical-align: top;\n",
       "    }\n",
       "\n",
       "    .dataframe thead th {\n",
       "        text-align: right;\n",
       "    }\n",
       "</style>\n",
       "<table border=\"1\" class=\"dataframe\">\n",
       "  <thead>\n",
       "    <tr style=\"text-align: right;\">\n",
       "      <th></th>\n",
       "      <th>tracked</th>\n",
       "      <th>mother_malnourished</th>\n",
       "      <th>scenario_maternal_supplementation_type</th>\n",
       "      <th>baseline_maternal_supplementation_type</th>\n",
       "      <th>previous_protein_energy_malnutrition</th>\n",
       "      <th>previous_lower_respiratory_infections</th>\n",
       "      <th>previous_measles</th>\n",
       "      <th>previous_diarrheal_diseases</th>\n",
       "      <th>years_lived_with_disability</th>\n",
       "      <th>cause_of_death</th>\n",
       "      <th>...</th>\n",
       "      <th>diarrheal_diseases</th>\n",
       "      <th>diarrheal_diseases_event_time</th>\n",
       "      <th>diarrheal_diseases_event_count</th>\n",
       "      <th>susceptible_to_diarrheal_diseases_event_time</th>\n",
       "      <th>susceptible_to_diarrheal_diseases_event_count</th>\n",
       "      <th>child_stunting_propensity</th>\n",
       "      <th>child_wasting_propensity</th>\n",
       "      <th>protein_energy_malnutrition_event_time</th>\n",
       "      <th>susceptible_to_protein_energy_malnutrition_event_time</th>\n",
       "      <th>protein_energy_malnutrition</th>\n",
       "    </tr>\n",
       "  </thead>\n",
       "  <tbody>\n",
       "    <tr>\n",
       "      <th>0</th>\n",
       "      <td>True</td>\n",
       "      <td>normal</td>\n",
       "      <td>none</td>\n",
       "      <td>none</td>\n",
       "      <td>susceptible_to_protein_energy_malnutrition</td>\n",
       "      <td>susceptible_to_lower_respiratory_infections</td>\n",
       "      <td>susceptible_to_measles</td>\n",
       "      <td>susceptible_to_diarrheal_diseases</td>\n",
       "      <td>0.013717</td>\n",
       "      <td>not_dead</td>\n",
       "      <td>...</td>\n",
       "      <td>susceptible_to_diarrheal_diseases</td>\n",
       "      <td>2020-10-09</td>\n",
       "      <td>2</td>\n",
       "      <td>2020-10-15</td>\n",
       "      <td>2</td>\n",
       "      <td>0.332496</td>\n",
       "      <td>0.773213</td>\n",
       "      <td>NaT</td>\n",
       "      <td>NaT</td>\n",
       "      <td>susceptible_to_protein_energy_malnutrition</td>\n",
       "    </tr>\n",
       "    <tr>\n",
       "      <th>1</th>\n",
       "      <td>True</td>\n",
       "      <td>normal</td>\n",
       "      <td>none</td>\n",
       "      <td>none</td>\n",
       "      <td>protein_energy_malnutrition</td>\n",
       "      <td>susceptible_to_lower_respiratory_infections</td>\n",
       "      <td>susceptible_to_measles</td>\n",
       "      <td>susceptible_to_diarrheal_diseases</td>\n",
       "      <td>0.025985</td>\n",
       "      <td>not_dead</td>\n",
       "      <td>...</td>\n",
       "      <td>susceptible_to_diarrheal_diseases</td>\n",
       "      <td>NaT</td>\n",
       "      <td>0</td>\n",
       "      <td>NaT</td>\n",
       "      <td>0</td>\n",
       "      <td>0.393300</td>\n",
       "      <td>0.123403</td>\n",
       "      <td>2020-07-01</td>\n",
       "      <td>NaT</td>\n",
       "      <td>protein_energy_malnutrition</td>\n",
       "    </tr>\n",
       "    <tr>\n",
       "      <th>2</th>\n",
       "      <td>True</td>\n",
       "      <td>malnourished</td>\n",
       "      <td>none</td>\n",
       "      <td>none</td>\n",
       "      <td>protein_energy_malnutrition</td>\n",
       "      <td>susceptible_to_lower_respiratory_infections</td>\n",
       "      <td>susceptible_to_measles</td>\n",
       "      <td>susceptible_to_diarrheal_diseases</td>\n",
       "      <td>0.031990</td>\n",
       "      <td>not_dead</td>\n",
       "      <td>...</td>\n",
       "      <td>susceptible_to_diarrheal_diseases</td>\n",
       "      <td>2020-11-25</td>\n",
       "      <td>3</td>\n",
       "      <td>2020-11-28</td>\n",
       "      <td>3</td>\n",
       "      <td>0.938984</td>\n",
       "      <td>0.100728</td>\n",
       "      <td>2020-07-01</td>\n",
       "      <td>NaT</td>\n",
       "      <td>protein_energy_malnutrition</td>\n",
       "    </tr>\n",
       "    <tr>\n",
       "      <th>3</th>\n",
       "      <td>True</td>\n",
       "      <td>malnourished</td>\n",
       "      <td>ifa</td>\n",
       "      <td>ifa</td>\n",
       "      <td>susceptible_to_protein_energy_malnutrition</td>\n",
       "      <td>susceptible_to_lower_respiratory_infections</td>\n",
       "      <td>susceptible_to_measles</td>\n",
       "      <td>susceptible_to_diarrheal_diseases</td>\n",
       "      <td>0.000000</td>\n",
       "      <td>not_dead</td>\n",
       "      <td>...</td>\n",
       "      <td>susceptible_to_diarrheal_diseases</td>\n",
       "      <td>NaT</td>\n",
       "      <td>0</td>\n",
       "      <td>NaT</td>\n",
       "      <td>0</td>\n",
       "      <td>0.609167</td>\n",
       "      <td>0.578352</td>\n",
       "      <td>NaT</td>\n",
       "      <td>NaT</td>\n",
       "      <td>susceptible_to_protein_energy_malnutrition</td>\n",
       "    </tr>\n",
       "    <tr>\n",
       "      <th>4</th>\n",
       "      <td>True</td>\n",
       "      <td>normal</td>\n",
       "      <td>none</td>\n",
       "      <td>none</td>\n",
       "      <td>susceptible_to_protein_energy_malnutrition</td>\n",
       "      <td>susceptible_to_lower_respiratory_infections</td>\n",
       "      <td>susceptible_to_measles</td>\n",
       "      <td>susceptible_to_diarrheal_diseases</td>\n",
       "      <td>0.000000</td>\n",
       "      <td>not_dead</td>\n",
       "      <td>...</td>\n",
       "      <td>susceptible_to_diarrheal_diseases</td>\n",
       "      <td>NaT</td>\n",
       "      <td>0</td>\n",
       "      <td>NaT</td>\n",
       "      <td>0</td>\n",
       "      <td>0.193016</td>\n",
       "      <td>0.973632</td>\n",
       "      <td>NaT</td>\n",
       "      <td>NaT</td>\n",
       "      <td>susceptible_to_protein_energy_malnutrition</td>\n",
       "    </tr>\n",
       "  </tbody>\n",
       "</table>\n",
       "<p>5 rows × 42 columns</p>\n",
       "</div>"
      ],
      "text/plain": [
       "   tracked mother_malnourished scenario_maternal_supplementation_type  \\\n",
       "0     True              normal                                   none   \n",
       "1     True              normal                                   none   \n",
       "2     True        malnourished                                   none   \n",
       "3     True        malnourished                                    ifa   \n",
       "4     True              normal                                   none   \n",
       "\n",
       "  baseline_maternal_supplementation_type  \\\n",
       "0                                   none   \n",
       "1                                   none   \n",
       "2                                   none   \n",
       "3                                    ifa   \n",
       "4                                   none   \n",
       "\n",
       "         previous_protein_energy_malnutrition  \\\n",
       "0  susceptible_to_protein_energy_malnutrition   \n",
       "1                 protein_energy_malnutrition   \n",
       "2                 protein_energy_malnutrition   \n",
       "3  susceptible_to_protein_energy_malnutrition   \n",
       "4  susceptible_to_protein_energy_malnutrition   \n",
       "\n",
       "         previous_lower_respiratory_infections        previous_measles  \\\n",
       "0  susceptible_to_lower_respiratory_infections  susceptible_to_measles   \n",
       "1  susceptible_to_lower_respiratory_infections  susceptible_to_measles   \n",
       "2  susceptible_to_lower_respiratory_infections  susceptible_to_measles   \n",
       "3  susceptible_to_lower_respiratory_infections  susceptible_to_measles   \n",
       "4  susceptible_to_lower_respiratory_infections  susceptible_to_measles   \n",
       "\n",
       "         previous_diarrheal_diseases  years_lived_with_disability  \\\n",
       "0  susceptible_to_diarrheal_diseases                     0.013717   \n",
       "1  susceptible_to_diarrheal_diseases                     0.025985   \n",
       "2  susceptible_to_diarrheal_diseases                     0.031990   \n",
       "3  susceptible_to_diarrheal_diseases                     0.000000   \n",
       "4  susceptible_to_diarrheal_diseases                     0.000000   \n",
       "\n",
       "  cause_of_death  ...                 diarrheal_diseases  \\\n",
       "0       not_dead  ...  susceptible_to_diarrheal_diseases   \n",
       "1       not_dead  ...  susceptible_to_diarrheal_diseases   \n",
       "2       not_dead  ...  susceptible_to_diarrheal_diseases   \n",
       "3       not_dead  ...  susceptible_to_diarrheal_diseases   \n",
       "4       not_dead  ...  susceptible_to_diarrheal_diseases   \n",
       "\n",
       "  diarrheal_diseases_event_time diarrheal_diseases_event_count  \\\n",
       "0                    2020-10-09                              2   \n",
       "1                           NaT                              0   \n",
       "2                    2020-11-25                              3   \n",
       "3                           NaT                              0   \n",
       "4                           NaT                              0   \n",
       "\n",
       "   susceptible_to_diarrheal_diseases_event_time  \\\n",
       "0                                    2020-10-15   \n",
       "1                                           NaT   \n",
       "2                                    2020-11-28   \n",
       "3                                           NaT   \n",
       "4                                           NaT   \n",
       "\n",
       "  susceptible_to_diarrheal_diseases_event_count child_stunting_propensity  \\\n",
       "0                                             2                  0.332496   \n",
       "1                                             0                  0.393300   \n",
       "2                                             3                  0.938984   \n",
       "3                                             0                  0.609167   \n",
       "4                                             0                  0.193016   \n",
       "\n",
       "   child_wasting_propensity protein_energy_malnutrition_event_time  \\\n",
       "0                  0.773213                                    NaT   \n",
       "1                  0.123403                             2020-07-01   \n",
       "2                  0.100728                             2020-07-01   \n",
       "3                  0.578352                                    NaT   \n",
       "4                  0.973632                                    NaT   \n",
       "\n",
       "   susceptible_to_protein_energy_malnutrition_event_time  \\\n",
       "0                                                NaT       \n",
       "1                                                NaT       \n",
       "2                                                NaT       \n",
       "3                                                NaT       \n",
       "4                                                NaT       \n",
       "\n",
       "                  protein_energy_malnutrition  \n",
       "0  susceptible_to_protein_energy_malnutrition  \n",
       "1                 protein_energy_malnutrition  \n",
       "2                 protein_energy_malnutrition  \n",
       "3  susceptible_to_protein_energy_malnutrition  \n",
       "4  susceptible_to_protein_energy_malnutrition  \n",
       "\n",
       "[5 rows x 42 columns]"
      ]
     },
     "execution_count": 51,
     "metadata": {},
     "output_type": "execute_result"
    }
   ],
   "source": [
    "#co-variate population (the population has been initialized, no time steps taken yet)\n",
    "\n",
    "pop = sim.get_population()\n",
    "pop.head()\n",
    "#10,000 simulants were specified in the yaml file"
   ]
  },
  {
   "cell_type": "code",
   "execution_count": 52,
   "metadata": {},
   "outputs": [
    {
     "data": {
      "text/plain": [
       "0    alive\n",
       "1    alive\n",
       "2    alive\n",
       "3    alive\n",
       "4    alive\n",
       "Name: alive, dtype: object"
      ]
     },
     "execution_count": 52,
     "metadata": {},
     "output_type": "execute_result"
    }
   ],
   "source": [
    "pop.alive.head()"
   ]
  },
  {
   "cell_type": "code",
   "execution_count": 53,
   "metadata": {},
   "outputs": [
    {
     "data": {
      "text/plain": [
       "0    3251.607412\n",
       "1    2764.606407\n",
       "2    3157.065097\n",
       "3    3306.544096\n",
       "4    4329.265723\n",
       "Name: birth_weight, dtype: float64"
      ]
     },
     "execution_count": 53,
     "metadata": {},
     "output_type": "execute_result"
    }
   ],
   "source": [
    "pop.birth_weight.head()"
   ]
  },
  {
   "cell_type": "code",
   "execution_count": 54,
   "metadata": {},
   "outputs": [
    {
     "data": {
      "text/plain": [
       "['metrics',\n",
       " 'protein_energy_malnutrition.disability_weight',\n",
       " 'disability_weight',\n",
       " 'cause_specific_mortality_rate',\n",
       " 'protein_energy_malnutrition.excess_mortality_rate',\n",
       " 'protein_energy_malnutrition.excess_mortality_rate.population_attributable_fraction',\n",
       " 'mortality_rate',\n",
       " 'child_wasting.exposure',\n",
       " 'child_wasting.propensity',\n",
       " 'diarrheal_diseases.incidence_rate',\n",
       " 'diarrheal_diseases.incidence_rate.paf',\n",
       " 'measles.incidence_rate',\n",
       " 'measles.incidence_rate.paf',\n",
       " 'lower_respiratory_infections.incidence_rate',\n",
       " 'lower_respiratory_infections.incidence_rate.paf',\n",
       " 'child_stunting.propensity',\n",
       " 'child_stunting.exposure',\n",
       " 'affected_unmodeled.csmr',\n",
       " 'affected_unmodeled.csmr.population_attributable_fraction',\n",
       " 'all_causes.mortality_hazard',\n",
       " 'all_causes.mortality_hazard.population_attributable_fraction',\n",
       " 'diarrheal_diseases.dwell_time',\n",
       " 'diarrheal_diseases.disability_weight',\n",
       " 'diarrheal_diseases.excess_mortality_rate',\n",
       " 'diarrheal_diseases.excess_mortality_rate.population_attributable_fraction',\n",
       " 'diarrheal_diseases.remission_rate',\n",
       " 'diarrheal_diseases.remission_rate.paf',\n",
       " 'measles.dwell_time',\n",
       " 'measles.disability_weight',\n",
       " 'measles.excess_mortality_rate',\n",
       " 'measles.excess_mortality_rate.population_attributable_fraction',\n",
       " 'lower_respiratory_infections.dwell_time',\n",
       " 'lower_respiratory_infections.disability_weight',\n",
       " 'lower_respiratory_infections.excess_mortality_rate',\n",
       " 'lower_respiratory_infections.excess_mortality_rate.population_attributable_fraction',\n",
       " 'lower_respiratory_infections.remission_rate',\n",
       " 'lower_respiratory_infections.remission_rate.paf',\n",
       " 'low_birth_weight_and_short_gestation.raw_exposure',\n",
       " 'low_birth_weight_and_short_gestation.exposure']"
      ]
     },
     "execution_count": 54,
     "metadata": {},
     "output_type": "execute_result"
    }
   ],
   "source": [
    "#list the names of the pipeline\n",
    "sim.list_values()"
   ]
  },
  {
   "cell_type": "code",
   "execution_count": 55,
   "metadata": {},
   "outputs": [],
   "source": [
    "#interested pipelines : 'child_stunting.exposure', 'child_wasting.exposure'\n",
    "#this 'get_value' gets the wasting pipline values -not totall sure what this means! get some clarification\n",
    "# a pipeline is a 'python method thingie'\n",
    "\n",
    "pipe_wasting = sim.get_value('child_wasting.exposure')\n",
    "pipe_stunting = sim.get_value('child_stunting.exposure')\n",
    "pipe_lbwsg = sim.get_value('low_birth_weight_and_short_gestation.exposure')"
   ]
  },
  {
   "cell_type": "code",
   "execution_count": 11,
   "metadata": {
    "scrolled": true
   },
   "outputs": [
    {
     "data": {
      "text/plain": [
       "0    11.110376\n",
       "1     7.714334\n",
       "2     6.684088\n",
       "3     9.452161\n",
       "4    13.675476\n",
       "dtype: float64"
      ]
     },
     "execution_count": 11,
     "metadata": {},
     "output_type": "execute_result"
    }
   ],
   "source": [
    "#the skip_post_processor skips the conversion of the z-scores to cats 1-4 (this is a method, and shouldnt need to be re-run)\n",
    "\n",
    "type(pipe_wasting(pop.index, skip_post_processor=True))\n",
    "pipe_wasting(pop.index, skip_post_processor=True).head()"
   ]
  },
  {
   "cell_type": "code",
   "execution_count": 56,
   "metadata": {},
   "outputs": [
    {
     "data": {
      "text/plain": [
       "0     8.828346\n",
       "1     9.205418\n",
       "2    12.057564\n",
       "3     9.456805\n",
       "4     8.013094\n",
       "dtype: float64"
      ]
     },
     "execution_count": 56,
     "metadata": {},
     "output_type": "execute_result"
    }
   ],
   "source": [
    "#stunting pipeline\n",
    "\n",
    "pipe_stunting(pop.index, skip_post_processor=True).head()"
   ]
  },
  {
   "cell_type": "code",
   "execution_count": 57,
   "metadata": {},
   "outputs": [
    {
     "data": {
      "text/html": [
       "<div>\n",
       "<style scoped>\n",
       "    .dataframe tbody tr th:only-of-type {\n",
       "        vertical-align: middle;\n",
       "    }\n",
       "\n",
       "    .dataframe tbody tr th {\n",
       "        vertical-align: top;\n",
       "    }\n",
       "\n",
       "    .dataframe thead th {\n",
       "        text-align: right;\n",
       "    }\n",
       "</style>\n",
       "<table border=\"1\" class=\"dataframe\">\n",
       "  <thead>\n",
       "    <tr style=\"text-align: right;\">\n",
       "      <th></th>\n",
       "      <th>birth_weight</th>\n",
       "      <th>gestation_time</th>\n",
       "    </tr>\n",
       "  </thead>\n",
       "  <tbody>\n",
       "    <tr>\n",
       "      <th>0</th>\n",
       "      <td>3357.876944</td>\n",
       "      <td>38.696547</td>\n",
       "    </tr>\n",
       "    <tr>\n",
       "      <th>1</th>\n",
       "      <td>2876.793907</td>\n",
       "      <td>40.506541</td>\n",
       "    </tr>\n",
       "    <tr>\n",
       "      <th>2</th>\n",
       "      <td>2996.381503</td>\n",
       "      <td>38.588442</td>\n",
       "    </tr>\n",
       "    <tr>\n",
       "      <th>3</th>\n",
       "      <td>3171.544096</td>\n",
       "      <td>37.822455</td>\n",
       "    </tr>\n",
       "    <tr>\n",
       "      <th>4</th>\n",
       "      <td>4435.535254</td>\n",
       "      <td>37.854704</td>\n",
       "    </tr>\n",
       "  </tbody>\n",
       "</table>\n",
       "</div>"
      ],
      "text/plain": [
       "   birth_weight  gestation_time\n",
       "0   3357.876944       38.696547\n",
       "1   2876.793907       40.506541\n",
       "2   2996.381503       38.588442\n",
       "3   3171.544096       37.822455\n",
       "4   4435.535254       37.854704"
      ]
     },
     "execution_count": 57,
     "metadata": {},
     "output_type": "execute_result"
    }
   ],
   "source": [
    "# birthweight\n",
    "\n",
    "#pipe_lbwsg(pd.Index(range(8)), skip_post_processor=True).head(10) #tells the pipeline to select the first 8 indexes\n",
    "pipe_lbwsg(pop.index, skip_post_processor=True).head()\n"
   ]
  },
  {
   "cell_type": "code",
   "execution_count": 58,
   "metadata": {},
   "outputs": [
    {
     "data": {
      "text/plain": [
       "0    True\n",
       "1    True\n",
       "2    True\n",
       "3    True\n",
       "4    True\n",
       "Name: alive, dtype: bool"
      ]
     },
     "execution_count": 58,
     "metadata": {},
     "output_type": "execute_result"
    }
   ],
   "source": [
    "# create mask; read more about masking here ->http://danielandreasen.github.io/:about/2015/01/19/masks-in-python/\n",
    "\n",
    "#(pop.alive == 'alive').all()\n",
    "\n",
    "mask_alive = pop.alive == 'alive'\n",
    "\n",
    "#mask_alive[:5] = False\n",
    "mask_alive.head()"
   ]
  },
  {
   "cell_type": "code",
   "execution_count": 59,
   "metadata": {},
   "outputs": [
    {
     "data": {
      "text/html": [
       "<div>\n",
       "<style scoped>\n",
       "    .dataframe tbody tr th:only-of-type {\n",
       "        vertical-align: middle;\n",
       "    }\n",
       "\n",
       "    .dataframe tbody tr th {\n",
       "        vertical-align: top;\n",
       "    }\n",
       "\n",
       "    .dataframe thead th {\n",
       "        text-align: right;\n",
       "    }\n",
       "</style>\n",
       "<table border=\"1\" class=\"dataframe\">\n",
       "  <thead>\n",
       "    <tr style=\"text-align: right;\">\n",
       "      <th></th>\n",
       "      <th>tracked</th>\n",
       "      <th>mother_malnourished</th>\n",
       "      <th>scenario_maternal_supplementation_type</th>\n",
       "      <th>baseline_maternal_supplementation_type</th>\n",
       "      <th>previous_protein_energy_malnutrition</th>\n",
       "      <th>previous_lower_respiratory_infections</th>\n",
       "      <th>previous_measles</th>\n",
       "      <th>previous_diarrheal_diseases</th>\n",
       "      <th>years_lived_with_disability</th>\n",
       "      <th>cause_of_death</th>\n",
       "      <th>...</th>\n",
       "      <th>diarrheal_diseases</th>\n",
       "      <th>diarrheal_diseases_event_time</th>\n",
       "      <th>diarrheal_diseases_event_count</th>\n",
       "      <th>susceptible_to_diarrheal_diseases_event_time</th>\n",
       "      <th>susceptible_to_diarrheal_diseases_event_count</th>\n",
       "      <th>child_stunting_propensity</th>\n",
       "      <th>child_wasting_propensity</th>\n",
       "      <th>protein_energy_malnutrition_event_time</th>\n",
       "      <th>susceptible_to_protein_energy_malnutrition_event_time</th>\n",
       "      <th>protein_energy_malnutrition</th>\n",
       "    </tr>\n",
       "  </thead>\n",
       "  <tbody>\n",
       "    <tr>\n",
       "      <th>0</th>\n",
       "      <td>True</td>\n",
       "      <td>normal</td>\n",
       "      <td>none</td>\n",
       "      <td>none</td>\n",
       "      <td>susceptible_to_protein_energy_malnutrition</td>\n",
       "      <td>susceptible_to_lower_respiratory_infections</td>\n",
       "      <td>susceptible_to_measles</td>\n",
       "      <td>susceptible_to_diarrheal_diseases</td>\n",
       "      <td>0.013717</td>\n",
       "      <td>not_dead</td>\n",
       "      <td>...</td>\n",
       "      <td>susceptible_to_diarrheal_diseases</td>\n",
       "      <td>2020-10-09</td>\n",
       "      <td>2</td>\n",
       "      <td>2020-10-15</td>\n",
       "      <td>2</td>\n",
       "      <td>0.332496</td>\n",
       "      <td>0.773213</td>\n",
       "      <td>NaT</td>\n",
       "      <td>NaT</td>\n",
       "      <td>susceptible_to_protein_energy_malnutrition</td>\n",
       "    </tr>\n",
       "    <tr>\n",
       "      <th>1</th>\n",
       "      <td>True</td>\n",
       "      <td>normal</td>\n",
       "      <td>none</td>\n",
       "      <td>none</td>\n",
       "      <td>protein_energy_malnutrition</td>\n",
       "      <td>susceptible_to_lower_respiratory_infections</td>\n",
       "      <td>susceptible_to_measles</td>\n",
       "      <td>susceptible_to_diarrheal_diseases</td>\n",
       "      <td>0.025985</td>\n",
       "      <td>not_dead</td>\n",
       "      <td>...</td>\n",
       "      <td>susceptible_to_diarrheal_diseases</td>\n",
       "      <td>NaT</td>\n",
       "      <td>0</td>\n",
       "      <td>NaT</td>\n",
       "      <td>0</td>\n",
       "      <td>0.393300</td>\n",
       "      <td>0.123403</td>\n",
       "      <td>2020-07-01</td>\n",
       "      <td>NaT</td>\n",
       "      <td>protein_energy_malnutrition</td>\n",
       "    </tr>\n",
       "    <tr>\n",
       "      <th>2</th>\n",
       "      <td>True</td>\n",
       "      <td>malnourished</td>\n",
       "      <td>none</td>\n",
       "      <td>none</td>\n",
       "      <td>protein_energy_malnutrition</td>\n",
       "      <td>susceptible_to_lower_respiratory_infections</td>\n",
       "      <td>susceptible_to_measles</td>\n",
       "      <td>susceptible_to_diarrheal_diseases</td>\n",
       "      <td>0.031990</td>\n",
       "      <td>not_dead</td>\n",
       "      <td>...</td>\n",
       "      <td>susceptible_to_diarrheal_diseases</td>\n",
       "      <td>2020-11-25</td>\n",
       "      <td>3</td>\n",
       "      <td>2020-11-28</td>\n",
       "      <td>3</td>\n",
       "      <td>0.938984</td>\n",
       "      <td>0.100728</td>\n",
       "      <td>2020-07-01</td>\n",
       "      <td>NaT</td>\n",
       "      <td>protein_energy_malnutrition</td>\n",
       "    </tr>\n",
       "    <tr>\n",
       "      <th>3</th>\n",
       "      <td>True</td>\n",
       "      <td>malnourished</td>\n",
       "      <td>ifa</td>\n",
       "      <td>ifa</td>\n",
       "      <td>susceptible_to_protein_energy_malnutrition</td>\n",
       "      <td>susceptible_to_lower_respiratory_infections</td>\n",
       "      <td>susceptible_to_measles</td>\n",
       "      <td>susceptible_to_diarrheal_diseases</td>\n",
       "      <td>0.000000</td>\n",
       "      <td>not_dead</td>\n",
       "      <td>...</td>\n",
       "      <td>susceptible_to_diarrheal_diseases</td>\n",
       "      <td>NaT</td>\n",
       "      <td>0</td>\n",
       "      <td>NaT</td>\n",
       "      <td>0</td>\n",
       "      <td>0.609167</td>\n",
       "      <td>0.578352</td>\n",
       "      <td>NaT</td>\n",
       "      <td>NaT</td>\n",
       "      <td>susceptible_to_protein_energy_malnutrition</td>\n",
       "    </tr>\n",
       "    <tr>\n",
       "      <th>4</th>\n",
       "      <td>True</td>\n",
       "      <td>normal</td>\n",
       "      <td>none</td>\n",
       "      <td>none</td>\n",
       "      <td>susceptible_to_protein_energy_malnutrition</td>\n",
       "      <td>susceptible_to_lower_respiratory_infections</td>\n",
       "      <td>susceptible_to_measles</td>\n",
       "      <td>susceptible_to_diarrheal_diseases</td>\n",
       "      <td>0.000000</td>\n",
       "      <td>not_dead</td>\n",
       "      <td>...</td>\n",
       "      <td>susceptible_to_diarrheal_diseases</td>\n",
       "      <td>NaT</td>\n",
       "      <td>0</td>\n",
       "      <td>NaT</td>\n",
       "      <td>0</td>\n",
       "      <td>0.193016</td>\n",
       "      <td>0.973632</td>\n",
       "      <td>NaT</td>\n",
       "      <td>NaT</td>\n",
       "      <td>susceptible_to_protein_energy_malnutrition</td>\n",
       "    </tr>\n",
       "  </tbody>\n",
       "</table>\n",
       "<p>5 rows × 42 columns</p>\n",
       "</div>"
      ],
      "text/plain": [
       "   tracked mother_malnourished scenario_maternal_supplementation_type  \\\n",
       "0     True              normal                                   none   \n",
       "1     True              normal                                   none   \n",
       "2     True        malnourished                                   none   \n",
       "3     True        malnourished                                    ifa   \n",
       "4     True              normal                                   none   \n",
       "\n",
       "  baseline_maternal_supplementation_type  \\\n",
       "0                                   none   \n",
       "1                                   none   \n",
       "2                                   none   \n",
       "3                                    ifa   \n",
       "4                                   none   \n",
       "\n",
       "         previous_protein_energy_malnutrition  \\\n",
       "0  susceptible_to_protein_energy_malnutrition   \n",
       "1                 protein_energy_malnutrition   \n",
       "2                 protein_energy_malnutrition   \n",
       "3  susceptible_to_protein_energy_malnutrition   \n",
       "4  susceptible_to_protein_energy_malnutrition   \n",
       "\n",
       "         previous_lower_respiratory_infections        previous_measles  \\\n",
       "0  susceptible_to_lower_respiratory_infections  susceptible_to_measles   \n",
       "1  susceptible_to_lower_respiratory_infections  susceptible_to_measles   \n",
       "2  susceptible_to_lower_respiratory_infections  susceptible_to_measles   \n",
       "3  susceptible_to_lower_respiratory_infections  susceptible_to_measles   \n",
       "4  susceptible_to_lower_respiratory_infections  susceptible_to_measles   \n",
       "\n",
       "         previous_diarrheal_diseases  years_lived_with_disability  \\\n",
       "0  susceptible_to_diarrheal_diseases                     0.013717   \n",
       "1  susceptible_to_diarrheal_diseases                     0.025985   \n",
       "2  susceptible_to_diarrheal_diseases                     0.031990   \n",
       "3  susceptible_to_diarrheal_diseases                     0.000000   \n",
       "4  susceptible_to_diarrheal_diseases                     0.000000   \n",
       "\n",
       "  cause_of_death  ...                 diarrheal_diseases  \\\n",
       "0       not_dead  ...  susceptible_to_diarrheal_diseases   \n",
       "1       not_dead  ...  susceptible_to_diarrheal_diseases   \n",
       "2       not_dead  ...  susceptible_to_diarrheal_diseases   \n",
       "3       not_dead  ...  susceptible_to_diarrheal_diseases   \n",
       "4       not_dead  ...  susceptible_to_diarrheal_diseases   \n",
       "\n",
       "  diarrheal_diseases_event_time diarrheal_diseases_event_count  \\\n",
       "0                    2020-10-09                              2   \n",
       "1                           NaT                              0   \n",
       "2                    2020-11-25                              3   \n",
       "3                           NaT                              0   \n",
       "4                           NaT                              0   \n",
       "\n",
       "   susceptible_to_diarrheal_diseases_event_time  \\\n",
       "0                                    2020-10-15   \n",
       "1                                           NaT   \n",
       "2                                    2020-11-28   \n",
       "3                                           NaT   \n",
       "4                                           NaT   \n",
       "\n",
       "  susceptible_to_diarrheal_diseases_event_count child_stunting_propensity  \\\n",
       "0                                             2                  0.332496   \n",
       "1                                             0                  0.393300   \n",
       "2                                             3                  0.938984   \n",
       "3                                             0                  0.609167   \n",
       "4                                             0                  0.193016   \n",
       "\n",
       "   child_wasting_propensity protein_energy_malnutrition_event_time  \\\n",
       "0                  0.773213                                    NaT   \n",
       "1                  0.123403                             2020-07-01   \n",
       "2                  0.100728                             2020-07-01   \n",
       "3                  0.578352                                    NaT   \n",
       "4                  0.973632                                    NaT   \n",
       "\n",
       "   susceptible_to_protein_energy_malnutrition_event_time  \\\n",
       "0                                                NaT       \n",
       "1                                                NaT       \n",
       "2                                                NaT       \n",
       "3                                                NaT       \n",
       "4                                                NaT       \n",
       "\n",
       "                  protein_energy_malnutrition  \n",
       "0  susceptible_to_protein_energy_malnutrition  \n",
       "1                 protein_energy_malnutrition  \n",
       "2                 protein_energy_malnutrition  \n",
       "3  susceptible_to_protein_energy_malnutrition  \n",
       "4  susceptible_to_protein_energy_malnutrition  \n",
       "\n",
       "[5 rows x 42 columns]"
      ]
     },
     "execution_count": 59,
     "metadata": {},
     "output_type": "execute_result"
    }
   ],
   "source": [
    "pop[mask_alive].head()\n",
    "\n",
    "#pop[bolean series] --> if you pass a bolean series inside square brackets of a data frame, you get a dataframe where bolean is true\n",
    "# the boleans series is a different object, so make sure they have matching indexes"
   ]
  },
  {
   "cell_type": "code",
   "execution_count": 60,
   "metadata": {},
   "outputs": [],
   "source": [
    "#another way to do it\n",
    "alive_pop = pop.loc[mask_alive, :]\n",
    "dead_pop = pop.loc[~mask_alive, :]\n",
    "\n",
    "# pop.loc[mask_alive, ['mother_malnourished', 'tracked']].head() \n",
    "\n",
    "# two dimensions of dataframe where loc[row,columns]\n",
    "# here I'm saying i only want the rows defined by my ask, and the colon means all columns \n",
    "# .loc makes it more clear which filters I am using for rows and columns"
   ]
  },
  {
   "cell_type": "code",
   "execution_count": 61,
   "metadata": {
    "scrolled": true
   },
   "outputs": [
    {
     "data": {
      "text/plain": [
       "Int64Index([   0,    1,    2,    3,    4,    5,    6,    7,    8,    9,\n",
       "            ...\n",
       "            9990, 9991, 9992, 9993, 9994, 9995, 9996, 9997, 9998, 9999],\n",
       "           dtype='int64', length=9736)"
      ]
     },
     "execution_count": 61,
     "metadata": {},
     "output_type": "execute_result"
    }
   ],
   "source": [
    "alive_pop.index"
   ]
  },
  {
   "cell_type": "code",
   "execution_count": 62,
   "metadata": {},
   "outputs": [
    {
     "data": {
      "text/plain": [
       "Int64Index([  50,  120,  167,  202,  231,  278,  421,  494,  509,  671,\n",
       "            ...\n",
       "            9613, 9666, 9677, 9690, 9712, 9786, 9851, 9862, 9941, 9943],\n",
       "           dtype='int64', length=264)"
      ]
     },
     "execution_count": 62,
     "metadata": {},
     "output_type": "execute_result"
    }
   ],
   "source": [
    "dead_pop.index"
   ]
  },
  {
   "cell_type": "code",
   "execution_count": 33,
   "metadata": {},
   "outputs": [
    {
     "data": {
      "text/plain": [
       "Int64Index([   0,    1,    2,    3,    4,    5,    6,    7,    8,    9,\n",
       "            ...\n",
       "            9990, 9991, 9992, 9993, 9994, 9995, 9996, 9997, 9998, 9999],\n",
       "           dtype='int64', length=9820)"
      ]
     },
     "execution_count": 33,
     "metadata": {},
     "output_type": "execute_result"
    }
   ],
   "source": [
    "pop.index[mask_alive]\n",
    "\n",
    "#by default, this is giving us a pd index data frame with all the values where mask_alive = alive is TRUE\n",
    "\n",
    "#pop.index[mask_alive[~mask_alive].index] # ~ means mask_alive= False (~ this is the complement operator)"
   ]
  },
  {
   "cell_type": "code",
   "execution_count": 63,
   "metadata": {},
   "outputs": [
    {
     "data": {
      "text/plain": [
       "Int64Index([   0,    1,    2,    3,    4,    5,    6,    7,    8,    9,\n",
       "            ...\n",
       "            9990, 9991, 9992, 9993, 9994, 9995, 9996, 9997, 9998, 9999],\n",
       "           dtype='int64', length=9736)"
      ]
     },
     "execution_count": 63,
     "metadata": {},
     "output_type": "execute_result"
    }
   ],
   "source": [
    "alive_index = alive_pop.index\n",
    "dead_index = dead_pop.index\n",
    "alive_index"
   ]
  },
  {
   "cell_type": "code",
   "execution_count": 64,
   "metadata": {},
   "outputs": [
    {
     "data": {
      "text/plain": [
       "9736"
      ]
     },
     "execution_count": 64,
     "metadata": {},
     "output_type": "execute_result"
    }
   ],
   "source": [
    "#get the dataframe with individual data to look at correlation between birthweight and wasting/stunting z scores\n",
    "\n",
    "df1 = pd.DataFrame({'stunting': pipe_stunting(alive_index, skip_post_processor=True),\n",
    "                    'wasting': pipe_wasting(alive_index, skip_post_processor=True),\n",
    "                    'lbwsg': pipe_lbwsg(alive_index, skip_post_processor=True).birth_weight,\n",
    "                    'birth_weight': pop.loc[alive_index].birth_weight,\n",
    "                    'mom_status': pop.loc[alive_index].mother_malnourished,\n",
    "                    'ifa_status': pop.loc[alive_index].baseline_maternal_supplementation_type,\n",
    "                    'alive_status': pop.loc[alive_index].alive })\n",
    "len(df1)"
   ]
  },
  {
   "cell_type": "code",
   "execution_count": 74,
   "metadata": {},
   "outputs": [
    {
     "name": "stdout",
     "output_type": "stream",
     "text": [
      "0    10.990586\n",
      "1     7.905348\n",
      "2     7.051595\n",
      "3     9.493579\n",
      "4    13.244393\n",
      "Name: wasting, dtype: float64\n",
      "9.70663162873969\n"
     ]
    }
   ],
   "source": [
    "print(df1.wasting.head())\n",
    "print(df1.wasting.mean())"
   ]
  },
  {
   "cell_type": "code",
   "execution_count": 65,
   "metadata": {
    "scrolled": true
   },
   "outputs": [
    {
     "name": "stdout",
     "output_type": "stream",
     "text": [
      "2743.7891465354837\n",
      "3017.6108235139723\n",
      "273.82167697848854\n"
     ]
    }
   ],
   "source": [
    "gb = df1.groupby('mom_status')\n",
    "\n",
    "print(gb.get_group('malnourished').lbwsg.mean())\n",
    "print(gb.get_group('normal').lbwsg.mean())\n",
    "print(gb.get_group('normal').lbwsg.mean()-gb.get_group('malnourished').lbwsg.mean())"
   ]
  },
  {
   "cell_type": "code",
   "execution_count": 66,
   "metadata": {
    "scrolled": true
   },
   "outputs": [
    {
     "data": {
      "text/plain": [
       "<matplotlib.collections.PathCollection at 0x2b37f0ae0a58>"
      ]
     },
     "execution_count": 66,
     "metadata": {},
     "output_type": "execute_result"
    },
    {
     "data": {
      "image/png": "[encoded data removed]",
      "text/plain": [
       "<Figure size 432x288 with 1 Axes>"
      ]
     },
     "metadata": {
      "needs_background": "light"
     },
     "output_type": "display_data"
    }
   ],
   "source": [
    "pyplot.scatter(df1.mom_status, df1.lbwsg)"
   ]
  },
  {
   "cell_type": "code",
   "execution_count": 67,
   "metadata": {},
   "outputs": [
    {
     "data": {
      "image/png": "[encoded data removed]",
      "text/plain": [
       "<Figure size 432x288 with 1 Axes>"
      ]
     },
     "metadata": {
      "needs_background": "light"
     },
     "output_type": "display_data"
    }
   ],
   "source": [
    "#get individual birthweight and individual LAZ or WLZ\n",
    "pyplot.scatter(df1.lbwsg, df1.wasting)\n",
    "pyplot.scatter(df1.lbwsg, df1.stunting)\n",
    "pyplot.show()"
   ]
  },
  {
   "cell_type": "code",
   "execution_count": 68,
   "metadata": {},
   "outputs": [],
   "source": [
    "mask_mommal = df1.mom_status == 'malnourished'"
   ]
  },
  {
   "cell_type": "code",
   "execution_count": 81,
   "metadata": {},
   "outputs": [
    {
     "data": {
      "text/plain": [
       "<matplotlib.collections.PathCollection at 0x2b37f503dc18>"
      ]
     },
     "execution_count": 81,
     "metadata": {},
     "output_type": "execute_result"
    },
    {
     "data": {
      "image/png": "[encoded data removed]",
      "text/plain": [
       "<Figure size 432x288 with 1 Axes>"
      ]
     },
     "metadata": {
      "needs_background": "light"
     },
     "output_type": "display_data"
    }
   ],
   "source": [
    "pyplot.scatter(df1.loc[~mask_mommal,['lbwsg']], df1.loc[~mask_mommal,['wasting']]-10)"
   ]
  },
  {
   "cell_type": "code",
   "execution_count": 83,
   "metadata": {
    "scrolled": false
   },
   "outputs": [
    {
     "data": {
      "text/plain": [
       "<matplotlib.collections.PathCollection at 0x2b37f50af278>"
      ]
     },
     "execution_count": 83,
     "metadata": {},
     "output_type": "execute_result"
    },
    {
     "data": {
      "image/png": "[encoded data removed]",
      "text/plain": [
       "<Figure size 432x288 with 1 Axes>"
      ]
     },
     "metadata": {
      "needs_background": "light"
     },
     "output_type": "display_data"
    }
   ],
   "source": [
    "pyplot.scatter(df1.loc[mask_mommal,['lbwsg']], df1.loc[mask_mommal,['wasting']]-10)"
   ]
  },
  {
   "cell_type": "code",
   "execution_count": 76,
   "metadata": {},
   "outputs": [
    {
     "data": {
      "text/plain": [
       "<matplotlib.collections.PathCollection at 0x2b37f2cc37b8>"
      ]
     },
     "execution_count": 76,
     "metadata": {},
     "output_type": "execute_result"
    },
    {
     "data": {
      "image/png": "[encoded data removed]",
      "text/plain": [
       "<Figure size 432x288 with 1 Axes>"
      ]
     },
     "metadata": {
      "needs_background": "light"
     },
     "output_type": "display_data"
    }
   ],
   "source": [
    "pyplot.scatter(df1.lbwsg, df1.wasting-10)"
   ]
  },
  {
   "cell_type": "markdown",
   "metadata": {},
   "source": [
    "correlation formula\n",
    "\n",
    "cov(X, Y) = (sum (x - mean(X)) * (y - mean(Y)) ) * 1/(n-1)"
   ]
  },
  {
   "cell_type": "code",
   "execution_count": 95,
   "metadata": {},
   "outputs": [],
   "source": [
    "bw = df1.lbwsg\n",
    "laz = df1.stunting\n",
    "wlz = df1.wasting\n",
    "n = len(df1)\n"
   ]
  },
  {
   "cell_type": "code",
   "execution_count": 93,
   "metadata": {},
   "outputs": [
    {
     "name": "stdout",
     "output_type": "stream",
     "text": [
      "[[4.57624136e+05 4.56507017e+01]\n",
      " [4.56507017e+01 4.19289692e+00]]\n"
     ]
    }
   ],
   "source": [
    "#Covariance\n",
    "\n",
    "covariance_laz = cov(bw, laz)\n",
    "print(covariance_laz)"
   ]
  },
  {
   "cell_type": "code",
   "execution_count": 96,
   "metadata": {
    "scrolled": true
   },
   "outputs": [
    {
     "name": "stdout",
     "output_type": "stream",
     "text": [
      "[[4.57624136e+05 1.93543580e+01]\n",
      " [1.93543580e+01 2.97911280e+00]]\n"
     ]
    }
   ],
   "source": [
    "covariance_wlz = cov(bw, wlz)\n",
    "print(covariance_wlz)"
   ]
  },
  {
   "cell_type": "code",
   "execution_count": 110,
   "metadata": {
    "scrolled": true
   },
   "outputs": [
    {
     "name": "stdout",
     "output_type": "stream",
     "text": [
      "spearman correlation coefficient for birthweight and laz at 6 months:\n",
      "SpearmanrResult(correlation=0.03518313962319648, pvalue=0.0005162293690268319)\n",
      "spearman correlation coefficient for birthweight and wlz at 6 months:\n",
      "SpearmanrResult(correlation=0.015019215647108964, pvalue=0.1383783776283048)\n"
     ]
    }
   ],
   "source": [
    "print('spearman correlation coefficient for birthweight and laz at 6 months:')\n",
    "print(stats.spearmanr(bw, laz))\n",
    "\n",
    "print('spearman correlation coefficient for birthweight and wlz at 6 months:')\n",
    "print(stats.spearmanr(bw, wlz))"
   ]
  },
  {
   "cell_type": "markdown",
   "metadata": {},
   "source": [
    "Pearson formula\n",
    "\t\n",
    "Pearson's correlation coefficient = covariance(X, Y) / (stdv(X) * stdv(Y))\n",
    "\n",
    "Spearman formula\n",
    "\n",
    "Spearman's correlation coefficient = covariance(rank(X), rank(Y)) / (stdv(rank(X)) * stdv(rank(Y)))"
   ]
  }
 ],
 "metadata": {
  "kernelspec": {
   "display_name": "gates_bep",
   "language": "python",
   "name": "gates_bep"
  },
  "language_info": {
   "codemirror_mode": {
    "name": "ipython",
    "version": 3
   },
   "file_extension": ".py",
   "mimetype": "text/x-python",
   "name": "python",
   "nbconvert_exporter": "python",
   "pygments_lexer": "ipython3",
   "version": "3.6.10"
  }
 },
 "nbformat": 4,
 "nbformat_minor": 4
}
