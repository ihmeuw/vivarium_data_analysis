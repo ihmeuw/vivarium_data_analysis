{
 "cells": [
  {
   "cell_type": "code",
   "execution_count": 25,
   "metadata": {},
   "outputs": [
    {
     "data": {
      "text/html": [
       "<style>.container { width:100% !important; }</style>"
      ],
      "text/plain": [
       "<IPython.core.display.HTML object>"
      ]
     },
     "metadata": {},
     "output_type": "display_data"
    }
   ],
   "source": [
    "from IPython.core.display import display, HTML\n",
    "display(HTML(\"<style>.container { width:100% !important; }</style>\"))"
   ]
  },
  {
   "cell_type": "markdown",
   "metadata": {},
   "source": [
    "# Interactive Simulation\n",
    "\n",
    "### Can run in ipython or jupyter\n",
    "    \n",
    "If you use jupyter you need to have access to the proper environment\n",
    "    \n",
    "From a terminal, add the environment like so:\n",
    "    \n",
    "    ipython kernel install --name name_of_environment --user\n",
    "    \n",
    "Prerequisites:\n",
    " - properly set up conda environment\n",
    " - you need a model specification file. From a terminal with an active environment type:\n",
    " \n",
    "     make_specs -v\n",
    "     \n",
    "In ./src/project_name/model_specifications you will find model spec files for all countries in the project\n",
    "     \n",
    "##    "
   ]
  },
  {
   "cell_type": "code",
   "execution_count": 26,
   "metadata": {},
   "outputs": [],
   "source": [
    "from vivarium import InteractiveContext"
   ]
  },
  {
   "cell_type": "code",
   "execution_count": 27,
   "metadata": {},
   "outputs": [
    {
     "name": "stderr",
     "output_type": "stream",
     "text": [
      "2020-06-15 13:57:03.956 | DEBUG    | vivarium.framework.values:register_value_modifier:373 - Registering metrics.1.population_manager.metrics as modifier to metrics\n",
      "2020-06-15 13:57:04.054 | DEBUG    | vivarium.framework.artifact.manager:_load_artifact:66 - Running simulation from artifact located at /share/costeffectiveness/artifacts/vivarium_conic_lsff/india.hdf.\n",
      "2020-06-15 13:57:04.056 | DEBUG    | vivarium.framework.artifact.manager:_load_artifact:67 - Artifact base filter terms are ['draw == 0', \"location == 'India' | location == 'Global'\"].\n",
      "2020-06-15 13:57:04.057 | DEBUG    | vivarium.framework.artifact.manager:_load_artifact:68 - Artifact additional filter terms are None.\n",
      "/home/kjells/miniconda3/envs/vivarium_conic_lsff/lib/python3.6/site-packages/pandas/core/generic.py:5096: SettingWithCopyWarning: \n",
      "A value is trying to be set on a copy of a slice from a DataFrame.\n",
      "Try using .loc[row_indexer,col_indexer] = value instead\n",
      "\n",
      "See the caveats in the documentation: http://pandas.pydata.org/pandas-docs/stable/indexing.html#indexing-view-versus-copy\n",
      "  self[name] = value\n",
      "/home/kjells/miniconda3/envs/vivarium_conic_lsff/lib/python3.6/site-packages/pandas/core/indexing.py:543: SettingWithCopyWarning: \n",
      "A value is trying to be set on a copy of a slice from a DataFrame.\n",
      "Try using .loc[row_indexer,col_indexer] = value instead\n",
      "\n",
      "See the caveats in the documentation: http://pandas.pydata.org/pandas-docs/stable/indexing.html#indexing-view-versus-copy\n",
      "  self.obj[item] = s\n",
      "2020-06-15 13:57:05.348 | DEBUG    | vivarium.framework.values:register_value_modifier:373 - Registering cause_specific_mortality_rate.1.disease_model.diarrheal_diseases.adjust_cause_specific_mortality_rate as modifier to cause_specific_mortality_rate\n",
      "2020-06-15 13:57:05.349 | DEBUG    | vivarium.framework.values:register_value_modifier:373 - Registering metrics.2.disease_model.diarrheal_diseases.metrics as modifier to metrics\n",
      "2020-06-15 13:57:05.350 | DEBUG    | vivarium.framework.values:register_value_modifier:373 - Registering metrics.3.state.susceptible_to_diarrheal_diseases.metrics as modifier to metrics\n",
      "2020-06-15 13:57:05.763 | DEBUG    | vivarium.framework.values:_register_value_producer:323 - Registering value pipeline diarrheal_diseases.incidence_rate\n",
      "2020-06-15 13:57:05.764 | DEBUG    | vivarium.framework.values:_register_value_producer:323 - Registering value pipeline diarrheal_diseases.incidence_rate.paf\n",
      "2020-06-15 13:57:05.765 | DEBUG    | vivarium.framework.values:register_value_modifier:373 - Registering metrics.4.state.diarrheal_diseases.metrics as modifier to metrics\n",
      "2020-06-15 13:57:06.171 | DEBUG    | vivarium.framework.values:_register_value_producer:323 - Registering value pipeline diarrheal_diseases.dwell_time\n",
      "2020-06-15 13:57:06.573 | DEBUG    | vivarium.framework.values:_register_value_producer:323 - Registering value pipeline diarrheal_diseases.disability_weight\n",
      "2020-06-15 13:57:06.573 | DEBUG    | vivarium.framework.values:register_value_modifier:373 - Registering disability_weight.1.diarrheal_diseases.disability_weight as modifier to disability_weight\n",
      "2020-06-15 13:57:06.992 | DEBUG    | vivarium.framework.values:_register_value_producer:323 - Registering value pipeline diarrheal_diseases.excess_mortality_rate\n",
      "2020-06-15 13:57:06.993 | DEBUG    | vivarium.framework.values:_register_value_producer:323 - Registering value pipeline diarrheal_diseases.excess_mortality_rate.population_attributable_fraction\n",
      "2020-06-15 13:57:06.993 | DEBUG    | vivarium.framework.values:register_value_modifier:373 - Registering mortality_rate.1.state.diarrheal_diseases.adjust_mortality_rate as modifier to mortality_rate\n",
      "2020-06-15 13:57:07.401 | DEBUG    | vivarium.framework.values:_register_value_producer:323 - Registering value pipeline diarrheal_diseases.remission_rate\n",
      "2020-06-15 13:57:07.401 | DEBUG    | vivarium.framework.values:_register_value_producer:323 - Registering value pipeline diarrheal_diseases.remission_rate.paf\n",
      "2020-06-15 13:57:07.814 | DEBUG    | vivarium.framework.values:register_value_modifier:373 - Registering cause_specific_mortality_rate.2.disease_model.measles.adjust_cause_specific_mortality_rate as modifier to cause_specific_mortality_rate\n",
      "2020-06-15 13:57:07.815 | DEBUG    | vivarium.framework.values:register_value_modifier:373 - Registering metrics.5.disease_model.measles.metrics as modifier to metrics\n",
      "2020-06-15 13:57:07.816 | DEBUG    | vivarium.framework.values:register_value_modifier:373 - Registering metrics.6.state.susceptible_to_measles.metrics as modifier to metrics\n",
      "2020-06-15 13:57:08.218 | DEBUG    | vivarium.framework.values:_register_value_producer:323 - Registering value pipeline measles.incidence_rate\n",
      "2020-06-15 13:57:08.219 | DEBUG    | vivarium.framework.values:_register_value_producer:323 - Registering value pipeline measles.incidence_rate.paf\n",
      "2020-06-15 13:57:08.219 | DEBUG    | vivarium.framework.values:register_value_modifier:373 - Registering metrics.7.state.measles.metrics as modifier to metrics\n",
      "2020-06-15 13:57:08.619 | DEBUG    | vivarium.framework.values:_register_value_producer:323 - Registering value pipeline measles.dwell_time\n",
      "2020-06-15 13:57:09.019 | DEBUG    | vivarium.framework.values:_register_value_producer:323 - Registering value pipeline measles.disability_weight\n",
      "2020-06-15 13:57:09.020 | DEBUG    | vivarium.framework.values:register_value_modifier:373 - Registering disability_weight.2.measles.disability_weight as modifier to disability_weight\n",
      "2020-06-15 13:57:09.425 | DEBUG    | vivarium.framework.values:_register_value_producer:323 - Registering value pipeline measles.excess_mortality_rate\n",
      "2020-06-15 13:57:09.426 | DEBUG    | vivarium.framework.values:_register_value_producer:323 - Registering value pipeline measles.excess_mortality_rate.population_attributable_fraction\n",
      "2020-06-15 13:57:09.426 | DEBUG    | vivarium.framework.values:register_value_modifier:373 - Registering mortality_rate.2.state.measles.adjust_mortality_rate as modifier to mortality_rate\n",
      "2020-06-15 13:57:09.427 | DEBUG    | vivarium.framework.values:register_value_modifier:373 - Registering metrics.8.state.recovered_from_measles.metrics as modifier to metrics\n",
      "2020-06-15 13:57:10.807 | DEBUG    | vivarium.framework.values:register_value_modifier:373 - Registering diarrheal_diseases.incidence_rate.1.risk_effect.risk_factor.vitamin_a_deficiency.cause.diarrheal_diseases.incidence_rate.adjust_target as modifier to diarrheal_diseases.incidence_rate\n",
      "2020-06-15 13:57:10.808 | DEBUG    | vivarium.framework.values:register_value_modifier:373 - Registering diarrheal_diseases.incidence_rate.paf.1.lookup_table_21 as modifier to diarrheal_diseases.incidence_rate.paf\n",
      "2020-06-15 13:57:11.240 | DEBUG    | vivarium.framework.values:register_value_modifier:373 - Registering measles.incidence_rate.1.risk_effect.risk_factor.vitamin_a_deficiency.cause.measles.incidence_rate.adjust_target as modifier to measles.incidence_rate\n",
      "2020-06-15 13:57:11.241 | DEBUG    | vivarium.framework.values:register_value_modifier:373 - Registering measles.incidence_rate.paf.1.lookup_table_23 as modifier to measles.incidence_rate.paf\n",
      "2020-06-15 13:57:11.676 | DEBUG    | vivarium.framework.values:register_value_modifier:373 - Registering lower_respiratory_infections.incidence_rate.1.risk_effect.risk_factor.vitamin_a_deficiency.cause.lower_respiratory_infections.incidence_rate.adjust_target as modifier to lower_respiratory_infections.incidence_rate\n",
      "2020-06-15 13:57:11.677 | DEBUG    | vivarium.framework.values:register_value_modifier:373 - Registering lower_respiratory_infections.incidence_rate.paf.1.lookup_table_25 as modifier to lower_respiratory_infections.incidence_rate.paf\n",
      "2020-06-15 13:57:12.093 | DEBUG    | vivarium.framework.values:_register_value_producer:323 - Registering value pipeline cause_specific_mortality_rate\n",
      "2020-06-15 13:57:12.093 | DEBUG    | vivarium.framework.values:_register_value_producer:323 - Registering value pipeline mortality_rate\n",
      "2020-06-15 13:57:12.094 | DEBUG    | vivarium.framework.values:_register_value_producer:323 - Registering value pipeline all_causes.mortality_hazard\n",
      "2020-06-15 13:57:12.094 | DEBUG    | vivarium.framework.values:_register_value_producer:323 - Registering value pipeline all_causes.mortality_hazard.population_attributable_fraction\n"
     ]
    },
    {
     "name": "stderr",
     "output_type": "stream",
     "text": [
      "2020-06-15 13:57:12.812 | DEBUG    | vivarium.framework.values:_register_value_producer:323 - Registering value pipeline vitamin_a_deficiency.disability_weight\n",
      "2020-06-15 13:57:12.812 | DEBUG    | vivarium.framework.values:register_value_modifier:373 - Registering disability_weight.3.vitamin_a_deficiency.disability_weight as modifier to disability_weight\n",
      "2020-06-15 13:57:13.359 | DEBUG    | vivarium.framework.values:_register_value_producer:323 - Registering value pipeline vitamin_a_deficiency.exposure_parameters\n",
      "2020-06-15 13:57:13.360 | DEBUG    | vivarium.framework.values:_register_value_producer:323 - Registering value pipeline vitamin_a_deficiency.exposure_parameters.paf\n",
      "2020-06-15 13:57:13.360 | DEBUG    | vivarium.framework.values:_register_value_producer:323 - Registering value pipeline vitamin_a_deficiency.exposure\n",
      "2020-06-15 13:57:14.234 | DEBUG    | vivarium.framework.values:_register_value_producer:323 - Registering value pipeline iron_responsive\n",
      "2020-06-15 13:57:14.999 | DEBUG    | vivarium.framework.values:_register_value_producer:323 - Registering value pipeline iron_deficiency.disability_weight\n",
      "2020-06-15 13:57:14.999 | DEBUG    | vivarium.framework.values:register_value_modifier:373 - Registering disability_weight.4.iron_deficiency.disability_weight as modifier to disability_weight\n",
      "2020-06-15 13:57:15.000 | DEBUG    | vivarium.framework.values:_register_value_producer:323 - Registering value pipeline iron_deficiency.raw_exposure\n",
      "2020-06-15 13:57:15.000 | DEBUG    | vivarium.framework.values:_register_value_producer:323 - Registering value pipeline iron_deficiency.exposure\n",
      "2020-06-15 13:57:15.001 | DEBUG    | vivarium.framework.values:_register_value_producer:323 - Registering value pipeline anemia_severity\n",
      "2020-06-15 13:57:15.644 | DEBUG    | vivarium.framework.values:_register_value_producer:323 - Registering value pipeline iron_deficiency.exposure_parameters\n",
      "2020-06-15 13:57:16.074 | DEBUG    | vivarium.framework.values:register_value_modifier:373 - Registering cause_specific_mortality_rate.3.disease_model.neural_tube_defects.adjust_cause_specific_mortality_rate as modifier to cause_specific_mortality_rate\n",
      "2020-06-15 13:57:16.075 | DEBUG    | vivarium.framework.values:register_value_modifier:373 - Registering metrics.9.disease_model.neural_tube_defects.metrics as modifier to metrics\n",
      "2020-06-15 13:57:16.075 | DEBUG    | vivarium.framework.values:register_value_modifier:373 - Registering metrics.10.state.susceptible_to_neural_tube_defects.metrics as modifier to metrics\n",
      "2020-06-15 13:57:16.076 | DEBUG    | vivarium.framework.values:register_value_modifier:373 - Registering metrics.11.state.neural_tube_defects.metrics as modifier to metrics\n",
      "2020-06-15 13:57:16.613 | DEBUG    | vivarium.framework.values:_register_value_producer:323 - Registering value pipeline neural_tube_defects.dwell_time\n",
      "2020-06-15 13:57:17.025 | DEBUG    | vivarium.framework.values:_register_value_producer:323 - Registering value pipeline neural_tube_defects.disability_weight\n",
      "2020-06-15 13:57:17.026 | DEBUG    | vivarium.framework.values:register_value_modifier:373 - Registering disability_weight.5.neural_tube_defects.disability_weight as modifier to disability_weight\n",
      "2020-06-15 13:57:17.428 | DEBUG    | vivarium.framework.values:_register_value_producer:323 - Registering value pipeline neural_tube_defects.excess_mortality_rate\n",
      "2020-06-15 13:57:17.429 | DEBUG    | vivarium.framework.values:_register_value_producer:323 - Registering value pipeline neural_tube_defects.excess_mortality_rate.population_attributable_fraction\n",
      "2020-06-15 13:57:17.429 | DEBUG    | vivarium.framework.values:register_value_modifier:373 - Registering mortality_rate.3.state.neural_tube_defects.adjust_mortality_rate as modifier to mortality_rate\n",
      "2020-06-15 13:57:17.430 | DEBUG    | vivarium.framework.values:_register_value_producer:323 - Registering value pipeline neural_tube_defects.birth_prevalence.population_attributable_fraction\n",
      "2020-06-15 13:57:17.430 | DEBUG    | vivarium.framework.values:_register_value_producer:323 - Registering value pipeline neural_tube_defects.birth_prevalence\n",
      "2020-06-15 13:57:17.871 | DEBUG    | vivarium.framework.values:register_value_modifier:373 - Registering cause_specific_mortality_rate.4.disease_model.lower_respiratory_infections.adjust_cause_specific_mortality_rate as modifier to cause_specific_mortality_rate\n",
      "2020-06-15 13:57:17.871 | DEBUG    | vivarium.framework.values:register_value_modifier:373 - Registering metrics.12.disease_model.lower_respiratory_infections.metrics as modifier to metrics\n",
      "2020-06-15 13:57:17.872 | DEBUG    | vivarium.framework.values:register_value_modifier:373 - Registering metrics.13.state.susceptible_to_lower_respiratory_infections.metrics as modifier to metrics\n",
      "2020-06-15 13:57:18.286 | DEBUG    | vivarium.framework.values:_register_value_producer:323 - Registering value pipeline lower_respiratory_infections.incidence_rate\n",
      "2020-06-15 13:57:18.287 | DEBUG    | vivarium.framework.values:_register_value_producer:323 - Registering value pipeline lower_respiratory_infections.incidence_rate.paf\n",
      "2020-06-15 13:57:18.287 | DEBUG    | vivarium.framework.values:register_value_modifier:373 - Registering metrics.14.state.lower_respiratory_infections.metrics as modifier to metrics\n",
      "2020-06-15 13:57:18.817 | DEBUG    | vivarium.framework.values:_register_value_producer:323 - Registering value pipeline lower_respiratory_infections.dwell_time\n",
      "2020-06-15 13:57:19.233 | DEBUG    | vivarium.framework.values:_register_value_producer:323 - Registering value pipeline lower_respiratory_infections.disability_weight\n",
      "2020-06-15 13:57:19.234 | DEBUG    | vivarium.framework.values:register_value_modifier:373 - Registering disability_weight.6.lower_respiratory_infections.disability_weight as modifier to disability_weight\n",
      "2020-06-15 13:57:19.652 | DEBUG    | vivarium.framework.values:_register_value_producer:323 - Registering value pipeline lower_respiratory_infections.excess_mortality_rate\n",
      "2020-06-15 13:57:19.652 | DEBUG    | vivarium.framework.values:_register_value_producer:323 - Registering value pipeline lower_respiratory_infections.excess_mortality_rate.population_attributable_fraction\n",
      "2020-06-15 13:57:19.653 | DEBUG    | vivarium.framework.values:register_value_modifier:373 - Registering mortality_rate.4.state.lower_respiratory_infections.adjust_mortality_rate as modifier to mortality_rate\n",
      "2020-06-15 13:57:20.070 | DEBUG    | vivarium.framework.values:_register_value_producer:323 - Registering value pipeline lower_respiratory_infections.remission_rate\n",
      "2020-06-15 13:57:20.071 | DEBUG    | vivarium.framework.values:_register_value_producer:323 - Registering value pipeline lower_respiratory_infections.remission_rate.paf\n",
      "2020-06-15 13:57:20.421 | DEBUG    | vivarium.framework.values:_register_value_producer:323 - Registering value pipeline low_birth_weight_and_short_gestation.raw_exposure\n",
      "2020-06-15 13:57:20.421 | DEBUG    | vivarium.framework.values:_register_value_producer:323 - Registering value pipeline low_birth_weight_and_short_gestation.exposure\n",
      "2020-06-15 13:57:21.139 | DEBUG    | vivarium.framework.values:register_value_modifier:373 - Registering all_causes.mortality_hazard.1.risk_effect.risk_factor.low_birth_weight_and_short_gestation.cause.all_causes.mortality_hazard.adjust_target as modifier to all_causes.mortality_hazard\n",
      "2020-06-15 13:57:21.140 | DEBUG    | vivarium.framework.values:register_value_modifier:373 - Registering all_causes.mortality_hazard.population_attributable_fraction.1.lookup_table_56 as modifier to all_causes.mortality_hazard.population_attributable_fraction\n",
      "2020-06-15 13:57:21.140 | DEBUG    | vivarium.framework.values:_register_value_producer:323 - Registering value pipeline folic_acid_fortification.coverage_level\n",
      "2020-06-15 13:57:21.141 | DEBUG    | vivarium.framework.values:_register_value_producer:323 - Registering value pipeline folic_acid_fortification.effective_coverage_level\n",
      "2020-06-15 13:57:21.142 | DEBUG    | vivarium.framework.values:_register_value_producer:323 - Registering value pipeline iron_fortification.coverage_level\n",
      "2020-06-15 13:57:21.142 | DEBUG    | vivarium.framework.values:_register_value_producer:323 - Registering value pipeline iron_fortification.effective_coverage_level\n"
     ]
    },
    {
     "name": "stderr",
     "output_type": "stream",
     "text": [
      "2020-06-15 13:57:21.144 | DEBUG    | vivarium.framework.values:_register_value_producer:323 - Registering value pipeline iron_fortification.iron_amount\n",
      "2020-06-15 13:57:21.145 | DEBUG    | vivarium.framework.values:register_value_modifier:373 - Registering neural_tube_defects.birth_prevalence.population_attributable_fraction.1.lookup_table_60 as modifier to neural_tube_defects.birth_prevalence.population_attributable_fraction\n",
      "2020-06-15 13:57:21.145 | DEBUG    | vivarium.framework.values:register_value_modifier:373 - Registering neural_tube_defects.birth_prevalence.1.folic_acid_fortification_effect.adjust_birth_prevalence as modifier to neural_tube_defects.birth_prevalence\n",
      "2020-06-15 13:57:21.146 | DEBUG    | vivarium.framework.values:register_value_modifier:373 - Registering vitamin_a_fortification.coverage_level.1.vitamin_a_fortification_intervention.adjust_coverage_level as modifier to vitamin_a_fortification.coverage_level\n",
      "2020-06-15 13:57:21.150 | DEBUG    | vivarium.framework.values:register_value_modifier:373 - Registering low_birth_weight_and_short_gestation.exposure.1.maternal_iron_fortification_effect.adjust_birth_weights as modifier to low_birth_weight_and_short_gestation.exposure\n",
      "2020-06-15 13:57:21.155 | DEBUG    | vivarium.framework.values:register_value_modifier:373 - Registering iron_deficiency.exposure.1.hemoglobin_iron_fortification_effect.adjust_hemoglobin_levels as modifier to iron_deficiency.exposure\n",
      "2020-06-15 13:57:21.155 | DEBUG    | vivarium.framework.values:_register_value_producer:323 - Registering value pipeline vitamin_a_fortification.coverage_level\n",
      "2020-06-15 13:57:21.156 | DEBUG    | vivarium.framework.values:_register_value_producer:323 - Registering value pipeline vitamin_a_fortification.effectively_covered\n",
      "2020-06-15 13:57:21.170 | DEBUG    | vivarium.framework.values:register_value_modifier:373 - Registering vitamin_a_deficiency.exposure_parameters.paf.1.lookup_table_70 as modifier to vitamin_a_deficiency.exposure_parameters.paf\n",
      "2020-06-15 13:57:21.171 | DEBUG    | vivarium.framework.values:register_value_modifier:373 - Registering vitamin_a_deficiency.exposure_parameters.1.vitamin_a_fortification_effect.adjust_vitamin_a_exposure_probability as modifier to vitamin_a_deficiency.exposure_parameters\n",
      "2020-06-15 13:57:21.390 | DEBUG    | vivarium.framework.values:register_value_modifier:373 - Registering metrics.15.disease_observer.diarrheal_diseases.metrics as modifier to metrics\n",
      "2020-06-15 13:57:21.523 | DEBUG    | vivarium.framework.values:register_value_modifier:373 - Registering metrics.16.disease_observer.measles.metrics as modifier to metrics\n",
      "2020-06-15 13:57:21.654 | DEBUG    | vivarium.framework.values:register_value_modifier:373 - Registering metrics.17.disease_observer.lower_respiratory_infections.metrics as modifier to metrics\n",
      "2020-06-15 13:57:21.788 | DEBUG    | vivarium.framework.values:register_value_modifier:373 - Registering metrics.18.disease_observer.vitamin_a_deficiency.metrics as modifier to metrics\n",
      "2020-06-15 13:57:21.921 | DEBUG    | vivarium.framework.values:register_value_modifier:373 - Registering metrics.19.disease_observer.neural_tube_defects.metrics as modifier to metrics\n",
      "2020-06-15 13:57:21.922 | DEBUG    | vivarium.framework.values:register_value_modifier:373 - Registering metrics.20.BirthweightObserver.metrics as modifier to metrics\n",
      "2020-06-15 13:57:21.923 | DEBUG    | vivarium.framework.values:register_value_modifier:373 - Registering metrics.21.neural_tube_defects_births.metrics as modifier to metrics\n",
      "2020-06-15 13:57:21.923 | DEBUG    | vivarium.framework.values:register_value_modifier:373 - Registering metrics.22.risk_observer.low_birth_weight_and_short_gestation.metrics as modifier to metrics\n",
      "2020-06-15 13:57:22.062 | DEBUG    | vivarium.framework.values:_register_value_producer:323 - Registering value pipeline disability_weight\n",
      "2020-06-15 13:57:22.062 | DEBUG    | vivarium.framework.values:register_value_modifier:373 - Registering metrics.23.disability_observer.metrics as modifier to metrics\n",
      "2020-06-15 13:57:22.414 | DEBUG    | vivarium.framework.values:register_value_modifier:373 - Registering metrics.24.mortality_observer.metrics as modifier to metrics\n",
      "2020-06-15 13:57:22.414 | DEBUG    | vivarium.framework.values:register_value_modifier:373 - Registering metrics.25.HemoglobinObserver.metrics as modifier to metrics\n",
      "2020-06-15 13:57:22.547 | DEBUG    | vivarium.framework.values:register_value_modifier:373 - Registering metrics.26.anemia_observer.metrics as modifier to metrics\n",
      "2020-06-15 13:57:22.548 | DEBUG    | vivarium.framework.values:_register_value_producer:323 - Registering value pipeline metrics\n",
      "/home/kjells/miniconda3/envs/vivarium_conic_lsff/lib/python3.6/site-packages/vivarium_public_health/population/data_transformations.py:165: FutureWarning: Sorting because non-concatenation axis is not aligned. A future version\n",
      "of pandas will change to not sort by default.\n",
      "\n",
      "To accept the future behavior, pass 'sort=False'.\n",
      "\n",
      "To retain the current behavior and silence the warning, pass 'sort=True'.\n",
      "\n",
      "  pop_data = pd.concat([lower_bin, pop_data, upper_bin]).reset_index()\n"
     ]
    }
   ],
   "source": [
    "# Get the simulation object\n",
    "sim = InteractiveContext('india.yaml')"
   ]
  },
  {
   "cell_type": "code",
   "execution_count": 29,
   "metadata": {},
   "outputs": [
    {
     "data": {
      "text/plain": [
       "['add_components',\n",
       " 'configuration',\n",
       " 'end_emitter',\n",
       " 'finalize',\n",
       " 'get_component',\n",
       " 'get_emitter',\n",
       " 'get_listeners',\n",
       " 'get_population',\n",
       " 'get_value',\n",
       " 'initialize_simulants',\n",
       " 'list_components',\n",
       " 'list_events',\n",
       " 'list_values',\n",
       " 'name',\n",
       " 'report',\n",
       " 'run',\n",
       " 'run_for',\n",
       " 'run_until',\n",
       " 'setup',\n",
       " 'simulant_creator',\n",
       " 'step',\n",
       " 'take_steps',\n",
       " 'time_step_emitters',\n",
       " 'time_step_events']"
      ]
     },
     "execution_count": 29,
     "metadata": {},
     "output_type": "execute_result"
    }
   ],
   "source": [
    "# Attributes/Methods on the simulation object, you can tab to see a list\n",
    "[m for m in dir(sim) if not m.startswith('_')]"
   ]
  },
  {
   "cell_type": "code",
   "execution_count": 30,
   "metadata": {},
   "outputs": [],
   "source": [
    "pop = sim.get_population()"
   ]
  },
  {
   "cell_type": "code",
   "execution_count": 31,
   "metadata": {},
   "outputs": [
    {
     "data": {
      "text/html": [
       "<div>\n",
       "<style scoped>\n",
       "    .dataframe tbody tr th:only-of-type {\n",
       "        vertical-align: middle;\n",
       "    }\n",
       "\n",
       "    .dataframe tbody tr th {\n",
       "        vertical-align: top;\n",
       "    }\n",
       "\n",
       "    .dataframe thead th {\n",
       "        text-align: right;\n",
       "    }\n",
       "</style>\n",
       "<table border=\"1\" class=\"dataframe\">\n",
       "  <thead>\n",
       "    <tr style=\"text-align: right;\">\n",
       "      <th></th>\n",
       "      <th>tracked</th>\n",
       "      <th>years_lived_with_disability</th>\n",
       "      <th>previous_neural_tube_defects</th>\n",
       "      <th>previous_vitamin_a_deficiency</th>\n",
       "      <th>previous_lower_respiratory_infections</th>\n",
       "      <th>previous_measles</th>\n",
       "      <th>previous_diarrheal_diseases</th>\n",
       "      <th>years_of_life_lost</th>\n",
       "      <th>cause_of_death</th>\n",
       "      <th>entrance_time</th>\n",
       "      <th>...</th>\n",
       "      <th>recovered_from_measles_event_count</th>\n",
       "      <th>measles_event_time</th>\n",
       "      <th>measles_event_count</th>\n",
       "      <th>susceptible_to_measles_event_count</th>\n",
       "      <th>susceptible_to_measles_event_time</th>\n",
       "      <th>diarrheal_diseases</th>\n",
       "      <th>diarrheal_diseases_event_time</th>\n",
       "      <th>diarrheal_diseases_event_count</th>\n",
       "      <th>susceptible_to_diarrheal_diseases_event_count</th>\n",
       "      <th>susceptible_to_diarrheal_diseases_event_time</th>\n",
       "    </tr>\n",
       "  </thead>\n",
       "  <tbody>\n",
       "    <tr>\n",
       "      <th>0</th>\n",
       "      <td>True</td>\n",
       "      <td>0.0</td>\n",
       "      <td></td>\n",
       "      <td></td>\n",
       "      <td></td>\n",
       "      <td></td>\n",
       "      <td></td>\n",
       "      <td>0.0</td>\n",
       "      <td>not_dead</td>\n",
       "      <td>2020-06-02</td>\n",
       "      <td>...</td>\n",
       "      <td>0</td>\n",
       "      <td>NaT</td>\n",
       "      <td>0</td>\n",
       "      <td>0</td>\n",
       "      <td>NaT</td>\n",
       "      <td>susceptible_to_diarrheal_diseases</td>\n",
       "      <td>NaT</td>\n",
       "      <td>0</td>\n",
       "      <td>0</td>\n",
       "      <td>NaT</td>\n",
       "    </tr>\n",
       "    <tr>\n",
       "      <th>1</th>\n",
       "      <td>True</td>\n",
       "      <td>0.0</td>\n",
       "      <td></td>\n",
       "      <td></td>\n",
       "      <td></td>\n",
       "      <td></td>\n",
       "      <td></td>\n",
       "      <td>0.0</td>\n",
       "      <td>not_dead</td>\n",
       "      <td>2020-06-02</td>\n",
       "      <td>...</td>\n",
       "      <td>0</td>\n",
       "      <td>NaT</td>\n",
       "      <td>0</td>\n",
       "      <td>0</td>\n",
       "      <td>NaT</td>\n",
       "      <td>susceptible_to_diarrheal_diseases</td>\n",
       "      <td>NaT</td>\n",
       "      <td>0</td>\n",
       "      <td>0</td>\n",
       "      <td>NaT</td>\n",
       "    </tr>\n",
       "    <tr>\n",
       "      <th>2</th>\n",
       "      <td>True</td>\n",
       "      <td>0.0</td>\n",
       "      <td></td>\n",
       "      <td></td>\n",
       "      <td></td>\n",
       "      <td></td>\n",
       "      <td></td>\n",
       "      <td>0.0</td>\n",
       "      <td>not_dead</td>\n",
       "      <td>2020-06-02</td>\n",
       "      <td>...</td>\n",
       "      <td>0</td>\n",
       "      <td>NaT</td>\n",
       "      <td>0</td>\n",
       "      <td>0</td>\n",
       "      <td>NaT</td>\n",
       "      <td>susceptible_to_diarrheal_diseases</td>\n",
       "      <td>NaT</td>\n",
       "      <td>0</td>\n",
       "      <td>0</td>\n",
       "      <td>NaT</td>\n",
       "    </tr>\n",
       "    <tr>\n",
       "      <th>3</th>\n",
       "      <td>True</td>\n",
       "      <td>0.0</td>\n",
       "      <td></td>\n",
       "      <td></td>\n",
       "      <td></td>\n",
       "      <td></td>\n",
       "      <td></td>\n",
       "      <td>0.0</td>\n",
       "      <td>not_dead</td>\n",
       "      <td>2020-06-02</td>\n",
       "      <td>...</td>\n",
       "      <td>0</td>\n",
       "      <td>NaT</td>\n",
       "      <td>0</td>\n",
       "      <td>0</td>\n",
       "      <td>NaT</td>\n",
       "      <td>susceptible_to_diarrheal_diseases</td>\n",
       "      <td>NaT</td>\n",
       "      <td>0</td>\n",
       "      <td>0</td>\n",
       "      <td>NaT</td>\n",
       "    </tr>\n",
       "    <tr>\n",
       "      <th>4</th>\n",
       "      <td>True</td>\n",
       "      <td>0.0</td>\n",
       "      <td></td>\n",
       "      <td></td>\n",
       "      <td></td>\n",
       "      <td></td>\n",
       "      <td></td>\n",
       "      <td>0.0</td>\n",
       "      <td>not_dead</td>\n",
       "      <td>2020-06-02</td>\n",
       "      <td>...</td>\n",
       "      <td>0</td>\n",
       "      <td>NaT</td>\n",
       "      <td>0</td>\n",
       "      <td>0</td>\n",
       "      <td>NaT</td>\n",
       "      <td>susceptible_to_diarrheal_diseases</td>\n",
       "      <td>NaT</td>\n",
       "      <td>0</td>\n",
       "      <td>0</td>\n",
       "      <td>NaT</td>\n",
       "    </tr>\n",
       "  </tbody>\n",
       "</table>\n",
       "<p>5 rows × 54 columns</p>\n",
       "</div>"
      ],
      "text/plain": [
       "   tracked  years_lived_with_disability previous_neural_tube_defects  \\\n",
       "0     True                          0.0                                \n",
       "1     True                          0.0                                \n",
       "2     True                          0.0                                \n",
       "3     True                          0.0                                \n",
       "4     True                          0.0                                \n",
       "\n",
       "  previous_vitamin_a_deficiency previous_lower_respiratory_infections  \\\n",
       "0                                                                       \n",
       "1                                                                       \n",
       "2                                                                       \n",
       "3                                                                       \n",
       "4                                                                       \n",
       "\n",
       "  previous_measles previous_diarrheal_diseases  years_of_life_lost  \\\n",
       "0                                                              0.0   \n",
       "1                                                              0.0   \n",
       "2                                                              0.0   \n",
       "3                                                              0.0   \n",
       "4                                                              0.0   \n",
       "\n",
       "  cause_of_death entrance_time  ... recovered_from_measles_event_count  \\\n",
       "0       not_dead    2020-06-02  ...                                  0   \n",
       "1       not_dead    2020-06-02  ...                                  0   \n",
       "2       not_dead    2020-06-02  ...                                  0   \n",
       "3       not_dead    2020-06-02  ...                                  0   \n",
       "4       not_dead    2020-06-02  ...                                  0   \n",
       "\n",
       "  measles_event_time measles_event_count  susceptible_to_measles_event_count  \\\n",
       "0                NaT                   0                                   0   \n",
       "1                NaT                   0                                   0   \n",
       "2                NaT                   0                                   0   \n",
       "3                NaT                   0                                   0   \n",
       "4                NaT                   0                                   0   \n",
       "\n",
       "  susceptible_to_measles_event_time                 diarrheal_diseases  \\\n",
       "0                               NaT  susceptible_to_diarrheal_diseases   \n",
       "1                               NaT  susceptible_to_diarrheal_diseases   \n",
       "2                               NaT  susceptible_to_diarrheal_diseases   \n",
       "3                               NaT  susceptible_to_diarrheal_diseases   \n",
       "4                               NaT  susceptible_to_diarrheal_diseases   \n",
       "\n",
       "   diarrheal_diseases_event_time  diarrheal_diseases_event_count  \\\n",
       "0                            NaT                               0   \n",
       "1                            NaT                               0   \n",
       "2                            NaT                               0   \n",
       "3                            NaT                               0   \n",
       "4                            NaT                               0   \n",
       "\n",
       "   susceptible_to_diarrheal_diseases_event_count  \\\n",
       "0                                              0   \n",
       "1                                              0   \n",
       "2                                              0   \n",
       "3                                              0   \n",
       "4                                              0   \n",
       "\n",
       "  susceptible_to_diarrheal_diseases_event_time  \n",
       "0                                          NaT  \n",
       "1                                          NaT  \n",
       "2                                          NaT  \n",
       "3                                          NaT  \n",
       "4                                          NaT  \n",
       "\n",
       "[5 rows x 54 columns]"
      ]
     },
     "execution_count": 31,
     "metadata": {},
     "output_type": "execute_result"
    }
   ],
   "source": [
    "pop.head()"
   ]
  },
  {
   "cell_type": "code",
   "execution_count": 32,
   "metadata": {},
   "outputs": [
    {
     "data": {
      "text/plain": [
       "{'base_population': BasePopulation(),\n",
       " 'age_out_simulants': AgeOutSimulants(),\n",
       " 'crude_birthrate_fertility': FertilityCrudeBirthRate(),\n",
       " 'disease_model.diarrheal_diseases': Machine(state_column= diarrheal_diseases),\n",
       " 'state.susceptible_to_diarrheal_diseases': State(susceptible_to_diarrheal_diseases),\n",
       " 'transition_set.state.susceptible_to_diarrheal_diseases': TransitionSet(transitions=[Transition(State(susceptible_to_diarrheal_diseases), DiseaseState(diarrheal_diseases))]),\n",
       " 'transition.state.susceptible_to_diarrheal_diseases.state.diarrheal_diseases': Transition(State(susceptible_to_diarrheal_diseases), DiseaseState(diarrheal_diseases)),\n",
       " 'state.diarrheal_diseases': DiseaseState(diarrheal_diseases),\n",
       " 'transition_set.state.diarrheal_diseases': TransitionSet(transitions=[Transition(DiseaseState(diarrheal_diseases), State(susceptible_to_diarrheal_diseases))]),\n",
       " 'transition.state.diarrheal_diseases.state.susceptible_to_diarrheal_diseases': Transition(DiseaseState(diarrheal_diseases), State(susceptible_to_diarrheal_diseases)),\n",
       " 'disease_model.measles': Machine(state_column= measles),\n",
       " 'state.susceptible_to_measles': State(susceptible_to_measles),\n",
       " 'transition_set.state.susceptible_to_measles': TransitionSet(transitions=[Transition(State(susceptible_to_measles), DiseaseState(measles))]),\n",
       " 'transition.state.susceptible_to_measles.state.measles': Transition(State(susceptible_to_measles), DiseaseState(measles)),\n",
       " 'state.measles': DiseaseState(measles),\n",
       " 'transition_set.state.measles': TransitionSet(transitions=[Transition(DiseaseState(measles), State(recovered_from_measles))]),\n",
       " 'transition.state.measles.state.recovered_from_measles': Transition(DiseaseState(measles), State(recovered_from_measles)),\n",
       " 'state.recovered_from_measles': State(recovered_from_measles),\n",
       " 'transition_set.state.recovered_from_measles': TransitionSet(transitions=[]),\n",
       " 'risk_effect.risk_factor.vitamin_a_deficiency.cause.diarrheal_diseases.incidence_rate': RiskEffect(risk=risk_factor.vitamin_a_deficiency, target=cause.diarrheal_diseases.incidence_rate),\n",
       " 'risk_effect.risk_factor.vitamin_a_deficiency.cause.measles.incidence_rate': RiskEffect(risk=risk_factor.vitamin_a_deficiency, target=cause.measles.incidence_rate),\n",
       " 'risk_effect.risk_factor.vitamin_a_deficiency.cause.lower_respiratory_infections.incidence_rate': RiskEffect(risk=risk_factor.vitamin_a_deficiency, target=cause.lower_respiratory_infections.incidence_rate),\n",
       " 'mortality': Mortality(),\n",
       " 'vitamin_a_deficiency': <vivarium_conic_lsff.components.disease.vitamin_a_deficiency.VitaminADeficiency at 0x7f5d76a72128>,\n",
       " 'iron_deficiency': <vivarium_conic_lsff.components.disease.iron_deficiency.IronDeficiency at 0x7f5d76a72da0>,\n",
       " 'iron_deficiency_exposure_distribution': <vivarium_conic_lsff.components.disease.iron_deficiency.IronDeficiencyDistribution at 0x7f5d76a72d30>,\n",
       " 'disease_model.neural_tube_defects': Machine(state_column= neural_tube_defects),\n",
       " 'state.susceptible_to_neural_tube_defects': State(susceptible_to_neural_tube_defects),\n",
       " 'transition_set.state.susceptible_to_neural_tube_defects': TransitionSet(transitions=[]),\n",
       " 'state.neural_tube_defects': DiseaseState(neural_tube_defects),\n",
       " 'transition_set.state.neural_tube_defects': TransitionSet(transitions=[]),\n",
       " 'disease_model.lower_respiratory_infections': Machine(state_column= lower_respiratory_infections),\n",
       " 'state.susceptible_to_lower_respiratory_infections': State(susceptible_to_lower_respiratory_infections),\n",
       " 'transition_set.state.susceptible_to_lower_respiratory_infections': TransitionSet(transitions=[Transition(State(susceptible_to_lower_respiratory_infections), DiseaseState(lower_respiratory_infections))]),\n",
       " 'transition.state.susceptible_to_lower_respiratory_infections.state.lower_respiratory_infections': Transition(State(susceptible_to_lower_respiratory_infections), DiseaseState(lower_respiratory_infections)),\n",
       " 'state.lower_respiratory_infections': DiseaseState(lower_respiratory_infections),\n",
       " 'transition_set.state.lower_respiratory_infections': TransitionSet(transitions=[Transition(DiseaseState(lower_respiratory_infections), State(susceptible_to_lower_respiratory_infections))]),\n",
       " 'transition.state.lower_respiratory_infections.state.susceptible_to_lower_respiratory_infections': Transition(DiseaseState(lower_respiratory_infections), State(susceptible_to_lower_respiratory_infections)),\n",
       " 'risk.low_birth_weight_and_short_gestation': <vivarium_conic_lsff.components.lbwsg.LBWSGRisk at 0x7f5d76a6a908>,\n",
       " 'risk_effect.risk_factor.low_birth_weight_and_short_gestation.cause.all_causes.mortality_hazard': <vivarium_conic_lsff.components.lbwsg.LBWSGRiskEffect at 0x7f5d76a6a400>,\n",
       " 'folic_acid_fortification_coverage': <vivarium_conic_lsff.components.fortification.folic_acid.FolicAcidAndIronFortificationCoverage at 0x7f5d76a6a6a0>,\n",
       " 'folic_acid_fortification_effect': <vivarium_conic_lsff.components.fortification.folic_acid.FolicAcidFortificationEffect at 0x7f5d76a6a080>,\n",
       " 'fortification_intervention': <vivarium_conic_lsff.components.fortification.intervention.FortificationIntervention at 0x7f5d76a6a358>,\n",
       " 'folic_acid_fortification_intervention': <vivarium_conic_lsff.components.fortification.intervention.FolicAcidFortificationIntervention at 0x7f5d76a6ac18>,\n",
       " 'vitamin_a_fortification_intervention': <vivarium_conic_lsff.components.fortification.intervention.VitaminAFortificationIntervention at 0x7f5d76a6a2e8>,\n",
       " 'iron_fortification_intervention': <vivarium_conic_lsff.components.fortification.intervention.IronFortificationIntervention at 0x7f5d76a6a9b0>,\n",
       " 'maternal_iron_fortification_effect': <vivarium_conic_lsff.components.fortification.folic_acid.MaternalIronFortificationEffect at 0x7f5d76a6acf8>,\n",
       " 'hemoglobin_iron_fortification_effect': <vivarium_conic_lsff.components.fortification.folic_acid.HemoglobinIronFortificationEffect at 0x7f5d76a6a668>,\n",
       " 'vitamin_a_fortification_coverage': <vivarium_conic_lsff.components.fortification.vitamin_a.VitaminAFortificationCoverage at 0x7f5d76a6a1d0>,\n",
       " 'vitamin_a_fortification_effect': <vivarium_conic_lsff.components.fortification.vitamin_a.VitaminAFortificationEffect at 0x7f5d76a6a2b0>,\n",
       " 'disease_observer.diarrheal_diseases': DiseaseObserver(diarrheal_diseases),\n",
       " 'disease_observer.diarrheal_diseases_results_stratifier': <vivarium_conic_lsff.components.observers.ResultsStratifier at 0x7f5d76a6a828>,\n",
       " 'disease_observer.measles': DiseaseObserver(measles),\n",
       " 'disease_observer.measles_results_stratifier': <vivarium_conic_lsff.components.observers.ResultsStratifier at 0x7f5d76a6a5c0>,\n",
       " 'disease_observer.lower_respiratory_infections': DiseaseObserver(lower_respiratory_infections),\n",
       " 'disease_observer.lower_respiratory_infections_results_stratifier': <vivarium_conic_lsff.components.observers.ResultsStratifier at 0x7f5d76a6aa58>,\n",
       " 'disease_observer.vitamin_a_deficiency': DiseaseObserver(vitamin_a_deficiency),\n",
       " 'disease_observer.vitamin_a_deficiency_results_stratifier': <vivarium_conic_lsff.components.observers.ResultsStratifier at 0x7f5d76a6a390>,\n",
       " 'disease_observer.neural_tube_defects': DiseaseObserver(neural_tube_defects),\n",
       " 'disease_observer.neural_tube_defects_results_stratifier': <vivarium_conic_lsff.components.observers.ResultsStratifier at 0x7f5d76a6a048>,\n",
       " 'BirthweightObserver': BirthweightObserver,\n",
       " 'neural_tube_defects_births': DiseaseObserver(neural_tube_defects),\n",
       " 'neural_tube_defects_births_results_stratifier': <vivarium_conic_lsff.components.observers.ResultsStratifier at 0x7f5d76a6a4a8>,\n",
       " 'risk_observer.low_birth_weight_and_short_gestation': <vivarium_conic_lsff.components.observers.LBWSGObserver at 0x7f5d76a6ac88>,\n",
       " 'disability_observer': DisabilityObserver(),\n",
       " 'disability_observer_results_stratifier': <vivarium_conic_lsff.components.observers.ResultsStratifier at 0x7f5d76a6ada0>,\n",
       " 'mortality_observer': MortalityObserver(),\n",
       " 'mortality_observer_results_stratifier': <vivarium_conic_lsff.components.observers.ResultsStratifier at 0x7f5d76a6a748>,\n",
       " 'HemoglobinObserver': <vivarium_conic_lsff.components.observers.HemoglobinLevelObserver at 0x7f5d76a6a438>,\n",
       " 'anemia_observer': <vivarium_conic_lsff.components.observers.AnemiaObserver at 0x7f5d76a6ae48>,\n",
       " 'metrics': Metrics()}"
      ]
     },
     "execution_count": 32,
     "metadata": {},
     "output_type": "execute_result"
    }
   ],
   "source": [
    "sim.list_components()"
   ]
  },
  {
   "cell_type": "code",
   "execution_count": 44,
   "metadata": {},
   "outputs": [
    {
     "data": {
      "text/plain": [
       "['metrics',\n",
       " 'cause_specific_mortality_rate',\n",
       " 'diarrheal_diseases.incidence_rate',\n",
       " 'diarrheal_diseases.incidence_rate.paf',\n",
       " 'diarrheal_diseases.dwell_time',\n",
       " 'diarrheal_diseases.disability_weight',\n",
       " 'disability_weight',\n",
       " 'diarrheal_diseases.excess_mortality_rate',\n",
       " 'diarrheal_diseases.excess_mortality_rate.population_attributable_fraction',\n",
       " 'mortality_rate',\n",
       " 'diarrheal_diseases.remission_rate',\n",
       " 'diarrheal_diseases.remission_rate.paf',\n",
       " 'measles.incidence_rate',\n",
       " 'measles.incidence_rate.paf',\n",
       " 'measles.dwell_time',\n",
       " 'measles.disability_weight',\n",
       " 'measles.excess_mortality_rate',\n",
       " 'measles.excess_mortality_rate.population_attributable_fraction',\n",
       " 'vitamin_a_deficiency.exposure',\n",
       " 'lower_respiratory_infections.incidence_rate',\n",
       " 'lower_respiratory_infections.incidence_rate.paf',\n",
       " 'all_causes.mortality_hazard',\n",
       " 'all_causes.mortality_hazard.population_attributable_fraction',\n",
       " 'vitamin_a_deficiency.disability_weight',\n",
       " 'vitamin_a_deficiency.exposure_parameters',\n",
       " 'vitamin_a_deficiency.exposure_parameters.paf',\n",
       " 'iron_responsive',\n",
       " 'iron_deficiency.disability_weight',\n",
       " 'iron_deficiency.raw_exposure',\n",
       " 'iron_deficiency.exposure',\n",
       " 'anemia_severity',\n",
       " 'iron_deficiency.exposure_parameters',\n",
       " 'neural_tube_defects.dwell_time',\n",
       " 'neural_tube_defects.disability_weight',\n",
       " 'neural_tube_defects.excess_mortality_rate',\n",
       " 'neural_tube_defects.excess_mortality_rate.population_attributable_fraction',\n",
       " 'neural_tube_defects.birth_prevalence.population_attributable_fraction',\n",
       " 'neural_tube_defects.birth_prevalence',\n",
       " 'lower_respiratory_infections.dwell_time',\n",
       " 'lower_respiratory_infections.disability_weight',\n",
       " 'lower_respiratory_infections.excess_mortality_rate',\n",
       " 'lower_respiratory_infections.excess_mortality_rate.population_attributable_fraction',\n",
       " 'lower_respiratory_infections.remission_rate',\n",
       " 'lower_respiratory_infections.remission_rate.paf',\n",
       " 'low_birth_weight_and_short_gestation.raw_exposure',\n",
       " 'low_birth_weight_and_short_gestation.exposure',\n",
       " 'folic_acid_fortification.coverage_level',\n",
       " 'folic_acid_fortification.effective_coverage_level',\n",
       " 'iron_fortification.coverage_level',\n",
       " 'iron_fortification.effective_coverage_level',\n",
       " 'iron_fortification.iron_amount',\n",
       " 'vitamin_a_fortification.coverage_level',\n",
       " 'vitamin_a_fortification.effectively_covered']"
      ]
     },
     "execution_count": 44,
     "metadata": {},
     "output_type": "execute_result"
    }
   ],
   "source": [
    "sim.list_values()"
   ]
  },
  {
   "cell_type": "code",
   "execution_count": 34,
   "metadata": {},
   "outputs": [],
   "source": [
    "pipe_vit_a_exp = sim.get_value('vitamin_a_deficiency.exposure')"
   ]
  },
  {
   "cell_type": "code",
   "execution_count": 35,
   "metadata": {},
   "outputs": [
    {
     "data": {
      "text/plain": [
       "0    cat1\n",
       "1    cat2\n",
       "2    cat2\n",
       "3    cat1\n",
       "4    cat1\n",
       "Name: vitamin_a_deficiency_exposure, dtype: object"
      ]
     },
     "execution_count": 35,
     "metadata": {},
     "output_type": "execute_result"
    }
   ],
   "source": [
    "pipe_vit_a_exp(pop.index).head()"
   ]
  },
  {
   "cell_type": "code",
   "execution_count": 36,
   "metadata": {},
   "outputs": [
    {
     "data": {
      "text/plain": [
       "cat2    7091\n",
       "cat1    2909\n",
       "Name: vitamin_a_deficiency_exposure, dtype: int64"
      ]
     },
     "execution_count": 36,
     "metadata": {},
     "output_type": "execute_result"
    }
   ],
   "source": [
    "pipe_vit_a_exp(pop.index).value_counts()"
   ]
  },
  {
   "cell_type": "code",
   "execution_count": 37,
   "metadata": {},
   "outputs": [],
   "source": [
    "pipe_ntd_bp = sim.get_value('neural_tube_defects.birth_prevalence')"
   ]
  },
  {
   "cell_type": "code",
   "execution_count": 38,
   "metadata": {},
   "outputs": [
    {
     "data": {
      "text/plain": [
       "count    10000.000000\n",
       "mean         0.000397\n",
       "std          0.000016\n",
       "min          0.000381\n",
       "25%          0.000381\n",
       "50%          0.000381\n",
       "75%          0.000414\n",
       "max          0.000414\n",
       "Name: value, dtype: float64"
      ]
     },
     "execution_count": 38,
     "metadata": {},
     "output_type": "execute_result"
    }
   ],
   "source": [
    "pipe_ntd_bp(pop.index).describe()"
   ]
  },
  {
   "cell_type": "code",
   "execution_count": 39,
   "metadata": {},
   "outputs": [
    {
     "data": {
      "text/plain": [
       "40     89.325760\n",
       "41    105.005998\n",
       "42    116.672180\n",
       "43    127.063005\n",
       "44    108.602471\n",
       "45    127.800287\n",
       "46    104.594224\n",
       "47    106.606343\n",
       "48    106.444660\n",
       "49    111.439502\n",
       "50    103.665996\n",
       "51     91.235983\n",
       "52     92.075294\n",
       "53    105.646414\n",
       "54     82.582905\n",
       "55    119.170938\n",
       "56    108.870568\n",
       "57     89.999447\n",
       "58    107.020839\n",
       "59     96.734694\n",
       "Name: value, dtype: float64"
      ]
     },
     "execution_count": 39,
     "metadata": {},
     "output_type": "execute_result"
    }
   ],
   "source": [
    "pipe_iron_exp = sim.get_value('iron_deficiency.exposure')\n",
    "pipe_iron_exp(pop.index[40:60])"
   ]
  },
  {
   "cell_type": "code",
   "execution_count": 40,
   "metadata": {},
   "outputs": [],
   "source": [
    "import matplotlib.pyplot as plt"
   ]
  },
  {
   "cell_type": "code",
   "execution_count": 41,
   "metadata": {},
   "outputs": [
    {
     "data": {
      "image/png": "[encoded data removed]",
      "text/plain": [
       "<Figure size 432x288 with 1 Axes>"
      ]
     },
     "metadata": {
      "needs_background": "light"
     },
     "output_type": "display_data"
    }
   ],
   "source": [
    "plt.hist(pipe_iron_exp(pop.index));plt.show()"
   ]
  },
  {
   "cell_type": "code",
   "execution_count": 42,
   "metadata": {},
   "outputs": [
    {
     "name": "stderr",
     "output_type": "stream",
     "text": [
      "2020-06-15 14:14:06.036 | DEBUG    | vivarium.framework.engine:step:140 - 2020-07-02 00:00:00\n"
     ]
    }
   ],
   "source": [
    "sim.step()"
   ]
  },
  {
   "cell_type": "code",
   "execution_count": 43,
   "metadata": {},
   "outputs": [],
   "source": [
    "pop = sim.get_population()"
   ]
  },
  {
   "cell_type": "code",
   "execution_count": null,
   "metadata": {},
   "outputs": [],
   "source": []
  }
 ],
 "metadata": {
  "kernelspec": {
   "display_name": "vivarium_conic_lsff",
   "language": "python",
   "name": "vivarium_conic_lsff"
  },
  "language_info": {
   "codemirror_mode": {
    "name": "ipython",
    "version": 3
   },
   "file_extension": ".py",
   "mimetype": "text/x-python",
   "name": "python",
   "nbconvert_exporter": "python",
   "pygments_lexer": "ipython3",
   "version": "3.6.10"
  }
 },
 "nbformat": 4,
 "nbformat_minor": 4
}
