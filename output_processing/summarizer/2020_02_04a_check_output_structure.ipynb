{
 "cells": [
  {
   "cell_type": "code",
   "execution_count": 1,
   "metadata": {},
   "outputs": [],
   "source": [
    "import numpy as np, pandas as pd, matplotlib.pyplot as plt\n",
    "import gbd_mapping as gbd\n",
    "from db_queries import get_outputs, get_ids\n",
    "from get_draws.api import get_draws\n",
    "from vivarium import Artifact"
   ]
  },
  {
   "cell_type": "code",
   "execution_count": 36,
   "metadata": {},
   "outputs": [
    {
     "name": "stdout",
     "output_type": "stream",
     "text": [
      "ndbs\n",
      "Tue Feb  4 14:52:37 PST 2020\n"
     ]
    }
   ],
   "source": [
    "!whoami\n",
    "!date"
   ]
  },
  {
   "cell_type": "code",
   "execution_count": 4,
   "metadata": {},
   "outputs": [],
   "source": [
    "%load_ext autoreload\n",
    "%autoreload 2"
   ]
  },
  {
   "cell_type": "code",
   "execution_count": 5,
   "metadata": {},
   "outputs": [],
   "source": [
    "import bep_summarizer"
   ]
  },
  {
   "cell_type": "code",
   "execution_count": 3,
   "metadata": {},
   "outputs": [],
   "source": [
    "artifact_dir = '/ihme/costeffectiveness/artifacts/vivarium_gates_bep'\n",
    "results_dir = '/share/costeffectiveness/results/vivarium_gates_bep/base_model'"
   ]
  },
  {
   "cell_type": "code",
   "execution_count": 6,
   "metadata": {},
   "outputs": [],
   "source": [
    "locations_rundates = {\n",
    "    'Mali': '2020_02_03_21_34_18',\n",
    "    'Tanzania': '2020_02_03_21_34_44'\n",
    "}"
   ]
  },
  {
   "cell_type": "code",
   "execution_count": 7,
   "metadata": {},
   "outputs": [
    {
     "name": "stdout",
     "output_type": "stream",
     "text": [
      "Mali (100, 1384)\n",
      "Tanzania (100, 1384)\n"
     ]
    }
   ],
   "source": [
    "all_output = bep_summarizer.load_by_location_and_rundate(results_dir, locations_rundates)\n",
    "bep_summarizer.print_location_output_shapes(locations_rundates, all_output)"
   ]
  },
  {
   "cell_type": "code",
   "execution_count": 8,
   "metadata": {},
   "outputs": [
    {
     "data": {
      "text/html": [
       "<div>\n",
       "<style scoped>\n",
       "    .dataframe tbody tr th:only-of-type {\n",
       "        vertical-align: middle;\n",
       "    }\n",
       "\n",
       "    .dataframe tbody tr th {\n",
       "        vertical-align: top;\n",
       "    }\n",
       "\n",
       "    .dataframe thead th {\n",
       "        text-align: right;\n",
       "    }\n",
       "</style>\n",
       "<table border=\"1\" class=\"dataframe\">\n",
       "  <thead>\n",
       "    <tr style=\"text-align: right;\">\n",
       "      <th></th>\n",
       "      <th></th>\n",
       "      <th>total_population_untracked</th>\n",
       "      <th>total_population_tracked</th>\n",
       "      <th>total_population</th>\n",
       "      <th>diarrheal_diseases_prevalent_cases_at_sim_end</th>\n",
       "      <th>susceptible_to_diarrheal_diseases_event_count</th>\n",
       "      <th>diarrheal_diseases_event_count</th>\n",
       "      <th>measles_prevalent_cases_at_sim_end</th>\n",
       "      <th>susceptible_to_measles_event_count</th>\n",
       "      <th>measles_event_count</th>\n",
       "      <th>recovered_from_measles_event_count</th>\n",
       "      <th>...</th>\n",
       "      <th>gestational_age_mean_among_female</th>\n",
       "      <th>gestational_age_sd_among_female</th>\n",
       "      <th>gestational_age_proportion_below_37w_among_female</th>\n",
       "      <th>birth_weight_mean_among_male</th>\n",
       "      <th>birth_weight_sd_among_male</th>\n",
       "      <th>birth_weight_proportion_below_2500g_among_male</th>\n",
       "      <th>gestational_age_mean_among_male</th>\n",
       "      <th>gestational_age_sd_among_male</th>\n",
       "      <th>gestational_age_proportion_below_37w_among_male</th>\n",
       "      <th>location</th>\n",
       "    </tr>\n",
       "    <tr>\n",
       "      <th>input_draw_number</th>\n",
       "      <th>random_seed</th>\n",
       "      <th></th>\n",
       "      <th></th>\n",
       "      <th></th>\n",
       "      <th></th>\n",
       "      <th></th>\n",
       "      <th></th>\n",
       "      <th></th>\n",
       "      <th></th>\n",
       "      <th></th>\n",
       "      <th></th>\n",
       "      <th></th>\n",
       "      <th></th>\n",
       "      <th></th>\n",
       "      <th></th>\n",
       "      <th></th>\n",
       "      <th></th>\n",
       "      <th></th>\n",
       "      <th></th>\n",
       "      <th></th>\n",
       "      <th></th>\n",
       "      <th></th>\n",
       "    </tr>\n",
       "  </thead>\n",
       "  <tbody>\n",
       "    <tr>\n",
       "      <th>357.0</th>\n",
       "      <th>12.0</th>\n",
       "      <td>0.0</td>\n",
       "      <td>10000.0</td>\n",
       "      <td>10000.0</td>\n",
       "      <td>217.0</td>\n",
       "      <td>40972.0</td>\n",
       "      <td>41140.0</td>\n",
       "      <td>107.0</td>\n",
       "      <td>0.0</td>\n",
       "      <td>115.0</td>\n",
       "      <td>111.0</td>\n",
       "      <td>...</td>\n",
       "      <td>38.570552</td>\n",
       "      <td>2.560872</td>\n",
       "      <td>0.144033</td>\n",
       "      <td>2919.088728</td>\n",
       "      <td>658.474258</td>\n",
       "      <td>0.169455</td>\n",
       "      <td>38.632262</td>\n",
       "      <td>2.532454</td>\n",
       "      <td>0.138521</td>\n",
       "      <td>Mali</td>\n",
       "    </tr>\n",
       "    <tr>\n",
       "      <th>394.0</th>\n",
       "      <th>70.0</th>\n",
       "      <td>0.0</td>\n",
       "      <td>10000.0</td>\n",
       "      <td>10000.0</td>\n",
       "      <td>186.0</td>\n",
       "      <td>36064.0</td>\n",
       "      <td>36197.0</td>\n",
       "      <td>1017.0</td>\n",
       "      <td>0.0</td>\n",
       "      <td>1067.0</td>\n",
       "      <td>1036.0</td>\n",
       "      <td>...</td>\n",
       "      <td>38.592473</td>\n",
       "      <td>2.547003</td>\n",
       "      <td>0.143675</td>\n",
       "      <td>2906.743706</td>\n",
       "      <td>661.576948</td>\n",
       "      <td>0.177599</td>\n",
       "      <td>38.587616</td>\n",
       "      <td>2.424879</td>\n",
       "      <td>0.138829</td>\n",
       "      <td>Mali</td>\n",
       "    </tr>\n",
       "    <tr>\n",
       "      <th>946.0</th>\n",
       "      <th>97.0</th>\n",
       "      <td>0.0</td>\n",
       "      <td>10000.0</td>\n",
       "      <td>10000.0</td>\n",
       "      <td>222.0</td>\n",
       "      <td>38041.0</td>\n",
       "      <td>38177.0</td>\n",
       "      <td>231.0</td>\n",
       "      <td>0.0</td>\n",
       "      <td>239.0</td>\n",
       "      <td>233.0</td>\n",
       "      <td>...</td>\n",
       "      <td>38.572531</td>\n",
       "      <td>2.733318</td>\n",
       "      <td>0.136722</td>\n",
       "      <td>2902.339704</td>\n",
       "      <td>665.288987</td>\n",
       "      <td>0.187066</td>\n",
       "      <td>38.619674</td>\n",
       "      <td>2.538196</td>\n",
       "      <td>0.149614</td>\n",
       "      <td>Mali</td>\n",
       "    </tr>\n",
       "    <tr>\n",
       "      <th>602.0</th>\n",
       "      <th>97.0</th>\n",
       "      <td>0.0</td>\n",
       "      <td>10000.0</td>\n",
       "      <td>10000.0</td>\n",
       "      <td>232.0</td>\n",
       "      <td>36664.0</td>\n",
       "      <td>36823.0</td>\n",
       "      <td>516.0</td>\n",
       "      <td>0.0</td>\n",
       "      <td>548.0</td>\n",
       "      <td>522.0</td>\n",
       "      <td>...</td>\n",
       "      <td>38.540375</td>\n",
       "      <td>2.837465</td>\n",
       "      <td>0.149460</td>\n",
       "      <td>2923.239931</td>\n",
       "      <td>651.674749</td>\n",
       "      <td>0.163883</td>\n",
       "      <td>38.560210</td>\n",
       "      <td>2.593945</td>\n",
       "      <td>0.146394</td>\n",
       "      <td>Mali</td>\n",
       "    </tr>\n",
       "    <tr>\n",
       "      <th>629.0</th>\n",
       "      <th>36.0</th>\n",
       "      <td>0.0</td>\n",
       "      <td>10000.0</td>\n",
       "      <td>10000.0</td>\n",
       "      <td>181.0</td>\n",
       "      <td>31625.0</td>\n",
       "      <td>31718.0</td>\n",
       "      <td>556.0</td>\n",
       "      <td>0.0</td>\n",
       "      <td>577.0</td>\n",
       "      <td>563.0</td>\n",
       "      <td>...</td>\n",
       "      <td>38.494106</td>\n",
       "      <td>2.875527</td>\n",
       "      <td>0.146860</td>\n",
       "      <td>2910.314342</td>\n",
       "      <td>658.179451</td>\n",
       "      <td>0.179808</td>\n",
       "      <td>38.657477</td>\n",
       "      <td>2.460039</td>\n",
       "      <td>0.125611</td>\n",
       "      <td>Mali</td>\n",
       "    </tr>\n",
       "  </tbody>\n",
       "</table>\n",
       "<p>5 rows × 1384 columns</p>\n",
       "</div>"
      ],
      "text/plain": [
       "                               total_population_untracked  \\\n",
       "input_draw_number random_seed                               \n",
       "357.0             12.0                                0.0   \n",
       "394.0             70.0                                0.0   \n",
       "946.0             97.0                                0.0   \n",
       "602.0             97.0                                0.0   \n",
       "629.0             36.0                                0.0   \n",
       "\n",
       "                               total_population_tracked  total_population  \\\n",
       "input_draw_number random_seed                                               \n",
       "357.0             12.0                          10000.0           10000.0   \n",
       "394.0             70.0                          10000.0           10000.0   \n",
       "946.0             97.0                          10000.0           10000.0   \n",
       "602.0             97.0                          10000.0           10000.0   \n",
       "629.0             36.0                          10000.0           10000.0   \n",
       "\n",
       "                               diarrheal_diseases_prevalent_cases_at_sim_end  \\\n",
       "input_draw_number random_seed                                                  \n",
       "357.0             12.0                                                 217.0   \n",
       "394.0             70.0                                                 186.0   \n",
       "946.0             97.0                                                 222.0   \n",
       "602.0             97.0                                                 232.0   \n",
       "629.0             36.0                                                 181.0   \n",
       "\n",
       "                               susceptible_to_diarrheal_diseases_event_count  \\\n",
       "input_draw_number random_seed                                                  \n",
       "357.0             12.0                                               40972.0   \n",
       "394.0             70.0                                               36064.0   \n",
       "946.0             97.0                                               38041.0   \n",
       "602.0             97.0                                               36664.0   \n",
       "629.0             36.0                                               31625.0   \n",
       "\n",
       "                               diarrheal_diseases_event_count  \\\n",
       "input_draw_number random_seed                                   \n",
       "357.0             12.0                                41140.0   \n",
       "394.0             70.0                                36197.0   \n",
       "946.0             97.0                                38177.0   \n",
       "602.0             97.0                                36823.0   \n",
       "629.0             36.0                                31718.0   \n",
       "\n",
       "                               measles_prevalent_cases_at_sim_end  \\\n",
       "input_draw_number random_seed                                       \n",
       "357.0             12.0                                      107.0   \n",
       "394.0             70.0                                     1017.0   \n",
       "946.0             97.0                                      231.0   \n",
       "602.0             97.0                                      516.0   \n",
       "629.0             36.0                                      556.0   \n",
       "\n",
       "                               susceptible_to_measles_event_count  \\\n",
       "input_draw_number random_seed                                       \n",
       "357.0             12.0                                        0.0   \n",
       "394.0             70.0                                        0.0   \n",
       "946.0             97.0                                        0.0   \n",
       "602.0             97.0                                        0.0   \n",
       "629.0             36.0                                        0.0   \n",
       "\n",
       "                               measles_event_count  \\\n",
       "input_draw_number random_seed                        \n",
       "357.0             12.0                       115.0   \n",
       "394.0             70.0                      1067.0   \n",
       "946.0             97.0                       239.0   \n",
       "602.0             97.0                       548.0   \n",
       "629.0             36.0                       577.0   \n",
       "\n",
       "                               recovered_from_measles_event_count  ...  \\\n",
       "input_draw_number random_seed                                      ...   \n",
       "357.0             12.0                                      111.0  ...   \n",
       "394.0             70.0                                     1036.0  ...   \n",
       "946.0             97.0                                      233.0  ...   \n",
       "602.0             97.0                                      522.0  ...   \n",
       "629.0             36.0                                      563.0  ...   \n",
       "\n",
       "                               gestational_age_mean_among_female  \\\n",
       "input_draw_number random_seed                                      \n",
       "357.0             12.0                                 38.570552   \n",
       "394.0             70.0                                 38.592473   \n",
       "946.0             97.0                                 38.572531   \n",
       "602.0             97.0                                 38.540375   \n",
       "629.0             36.0                                 38.494106   \n",
       "\n",
       "                               gestational_age_sd_among_female  \\\n",
       "input_draw_number random_seed                                    \n",
       "357.0             12.0                                2.560872   \n",
       "394.0             70.0                                2.547003   \n",
       "946.0             97.0                                2.733318   \n",
       "602.0             97.0                                2.837465   \n",
       "629.0             36.0                                2.875527   \n",
       "\n",
       "                               gestational_age_proportion_below_37w_among_female  \\\n",
       "input_draw_number random_seed                                                      \n",
       "357.0             12.0                                                  0.144033   \n",
       "394.0             70.0                                                  0.143675   \n",
       "946.0             97.0                                                  0.136722   \n",
       "602.0             97.0                                                  0.149460   \n",
       "629.0             36.0                                                  0.146860   \n",
       "\n",
       "                               birth_weight_mean_among_male  \\\n",
       "input_draw_number random_seed                                 \n",
       "357.0             12.0                          2919.088728   \n",
       "394.0             70.0                          2906.743706   \n",
       "946.0             97.0                          2902.339704   \n",
       "602.0             97.0                          2923.239931   \n",
       "629.0             36.0                          2910.314342   \n",
       "\n",
       "                               birth_weight_sd_among_male  \\\n",
       "input_draw_number random_seed                               \n",
       "357.0             12.0                         658.474258   \n",
       "394.0             70.0                         661.576948   \n",
       "946.0             97.0                         665.288987   \n",
       "602.0             97.0                         651.674749   \n",
       "629.0             36.0                         658.179451   \n",
       "\n",
       "                               birth_weight_proportion_below_2500g_among_male  \\\n",
       "input_draw_number random_seed                                                   \n",
       "357.0             12.0                                               0.169455   \n",
       "394.0             70.0                                               0.177599   \n",
       "946.0             97.0                                               0.187066   \n",
       "602.0             97.0                                               0.163883   \n",
       "629.0             36.0                                               0.179808   \n",
       "\n",
       "                               gestational_age_mean_among_male  \\\n",
       "input_draw_number random_seed                                    \n",
       "357.0             12.0                               38.632262   \n",
       "394.0             70.0                               38.587616   \n",
       "946.0             97.0                               38.619674   \n",
       "602.0             97.0                               38.560210   \n",
       "629.0             36.0                               38.657477   \n",
       "\n",
       "                               gestational_age_sd_among_male  \\\n",
       "input_draw_number random_seed                                  \n",
       "357.0             12.0                              2.532454   \n",
       "394.0             70.0                              2.424879   \n",
       "946.0             97.0                              2.538196   \n",
       "602.0             97.0                              2.593945   \n",
       "629.0             36.0                              2.460039   \n",
       "\n",
       "                               gestational_age_proportion_below_37w_among_male  \\\n",
       "input_draw_number random_seed                                                    \n",
       "357.0             12.0                                                0.138521   \n",
       "394.0             70.0                                                0.138829   \n",
       "946.0             97.0                                                0.149614   \n",
       "602.0             97.0                                                0.146394   \n",
       "629.0             36.0                                                0.125611   \n",
       "\n",
       "                               location  \n",
       "input_draw_number random_seed            \n",
       "357.0             12.0             Mali  \n",
       "394.0             70.0             Mali  \n",
       "946.0             97.0             Mali  \n",
       "602.0             97.0             Mali  \n",
       "629.0             36.0             Mali  \n",
       "\n",
       "[5 rows x 1384 columns]"
      ]
     },
     "execution_count": 8,
     "metadata": {},
     "output_type": "execute_result"
    }
   ],
   "source": [
    "all_output.head()"
   ]
  },
  {
   "cell_type": "code",
   "execution_count": 10,
   "metadata": {},
   "outputs": [
    {
     "name": "stdout",
     "output_type": "stream",
     "text": [
      "Number of data columns in output: 1384\n",
      "Total number of columns captured in categories: 1362\n",
      "\n",
      "Number of columns in each category:\n",
      " {'input_draw': 1, 'random_seed': 1, 'location': 1, 'intervention': 0, 'run_time': 0, 'diseases_at_end': 5, 'disease_event_count': 311, 'population': 5, 'person_time': 420, 'treated_days': 0, 'mortality': 210, 'total_daly': 2, 'yld': 180, 'yll': 210, 'categorical_risk': 16, 'graded_sequela': 0} \n",
      "\n",
      "Missing (22 data column(s) not captured in a category):\n",
      " {'gestational_age_mean_among_male', 'stunting_z_score_mean_at_six_months_among_female', 'birth_weight_proportion_below_2500g_among_female', 'gestational_age_sd_among_female', 'gestational_age_sd_among_male', 'wasting_z_score_mean_at_six_months_among_male', 'gestational_age_proportion_below_37w_among_male', 'stunting_z_score_sd_at_six_months_among_male', 'neonatal_disorders_prevalent_count_at_birth_among_female', 'birth_weight_mean_among_female', 'stunting_z_score_sd_at_six_months_among_female', 'birth_weight_sd_among_female', 'birth_weight_proportion_below_2500g_among_male', 'gestational_age_mean_among_female', 'wasting_z_score_sd_at_six_months_among_male', 'wasting_z_score_mean_at_six_months_among_female', 'stunting_z_score_mean_at_six_months_among_male', 'birth_weight_sd_among_male', 'wasting_z_score_sd_at_six_months_among_female', 'gestational_age_proportion_below_37w_among_female', 'neonatal_disorders_prevalent_count_at_birth_among_male', 'birth_weight_mean_among_male'}\n",
      "\n",
      "Repeated (0 data column(s) appearing in more than one category):\n",
      " {}\n",
      "\n",
      "Empty categories (4 categories with no matching data columns):\n",
      " ['intervention', 'run_time', 'treated_days', 'graded_sequela']\n"
     ]
    }
   ],
   "source": [
    "output = bep_summarizer.BEPOutputSummarizer(all_output)\n",
    "output.print_column_report()"
   ]
  },
  {
   "cell_type": "markdown",
   "metadata": {},
   "source": [
    "### Columns for wasting are exposure in each category at 6 months, WLZ mean and st. dev at 6 months"
   ]
  },
  {
   "cell_type": "code",
   "execution_count": 25,
   "metadata": {},
   "outputs": [
    {
     "data": {
      "text/plain": [
       "(200, 12)"
      ]
     },
     "execution_count": 25,
     "metadata": {},
     "output_type": "execute_result"
    }
   ],
   "source": [
    "output.data.filter(regex='wasting').shape"
   ]
  },
  {
   "cell_type": "code",
   "execution_count": 22,
   "metadata": {},
   "outputs": [
    {
     "data": {
      "text/plain": [
       "Index(['wasting_cat4_exposed_at_six_months_among_female',\n",
       "       'wasting_cat3_exposed_at_six_months_among_female',\n",
       "       'wasting_cat2_exposed_at_six_months_among_female',\n",
       "       'wasting_cat1_exposed_at_six_months_among_female',\n",
       "       'wasting_cat4_exposed_at_six_months_among_male',\n",
       "       'wasting_cat3_exposed_at_six_months_among_male',\n",
       "       'wasting_cat2_exposed_at_six_months_among_male',\n",
       "       'wasting_cat1_exposed_at_six_months_among_male',\n",
       "       'wasting_z_score_mean_at_six_months_among_female',\n",
       "       'wasting_z_score_sd_at_six_months_among_female',\n",
       "       'wasting_z_score_mean_at_six_months_among_male',\n",
       "       'wasting_z_score_sd_at_six_months_among_male'],\n",
       "      dtype='object')"
      ]
     },
     "execution_count": 22,
     "metadata": {},
     "output_type": "execute_result"
    }
   ],
   "source": [
    "output.data.filter(regex='wasting').columns"
   ]
  },
  {
   "cell_type": "markdown",
   "metadata": {},
   "source": [
    "### 2 \"prevalent count\" columns: neonatal disorders at birth among male/female"
   ]
  },
  {
   "cell_type": "code",
   "execution_count": 16,
   "metadata": {},
   "outputs": [
    {
     "data": {
      "text/html": [
       "<div>\n",
       "<style scoped>\n",
       "    .dataframe tbody tr th:only-of-type {\n",
       "        vertical-align: middle;\n",
       "    }\n",
       "\n",
       "    .dataframe tbody tr th {\n",
       "        vertical-align: top;\n",
       "    }\n",
       "\n",
       "    .dataframe thead th {\n",
       "        text-align: right;\n",
       "    }\n",
       "</style>\n",
       "<table border=\"1\" class=\"dataframe\">\n",
       "  <thead>\n",
       "    <tr style=\"text-align: right;\">\n",
       "      <th></th>\n",
       "      <th></th>\n",
       "      <th>neonatal_disorders_prevalent_count_at_birth_among_male</th>\n",
       "      <th>neonatal_disorders_prevalent_count_at_birth_among_female</th>\n",
       "    </tr>\n",
       "    <tr>\n",
       "      <th>input_draw_number</th>\n",
       "      <th>random_seed</th>\n",
       "      <th></th>\n",
       "      <th></th>\n",
       "    </tr>\n",
       "  </thead>\n",
       "  <tbody>\n",
       "    <tr>\n",
       "      <th>357.0</th>\n",
       "      <th>12.0</th>\n",
       "      <td>880.0</td>\n",
       "      <td>741.0</td>\n",
       "    </tr>\n",
       "    <tr>\n",
       "      <th>394.0</th>\n",
       "      <th>70.0</th>\n",
       "      <td>926.0</td>\n",
       "      <td>824.0</td>\n",
       "    </tr>\n",
       "    <tr>\n",
       "      <th>946.0</th>\n",
       "      <th>97.0</th>\n",
       "      <td>969.0</td>\n",
       "      <td>834.0</td>\n",
       "    </tr>\n",
       "    <tr>\n",
       "      <th>602.0</th>\n",
       "      <th>97.0</th>\n",
       "      <td>919.0</td>\n",
       "      <td>869.0</td>\n",
       "    </tr>\n",
       "    <tr>\n",
       "      <th>629.0</th>\n",
       "      <th>36.0</th>\n",
       "      <td>775.0</td>\n",
       "      <td>789.0</td>\n",
       "    </tr>\n",
       "  </tbody>\n",
       "</table>\n",
       "</div>"
      ],
      "text/plain": [
       "                               neonatal_disorders_prevalent_count_at_birth_among_male  \\\n",
       "input_draw_number random_seed                                                           \n",
       "357.0             12.0                                                     880.0        \n",
       "394.0             70.0                                                     926.0        \n",
       "946.0             97.0                                                     969.0        \n",
       "602.0             97.0                                                     919.0        \n",
       "629.0             36.0                                                     775.0        \n",
       "\n",
       "                               neonatal_disorders_prevalent_count_at_birth_among_female  \n",
       "input_draw_number random_seed                                                            \n",
       "357.0             12.0                                                     741.0         \n",
       "394.0             70.0                                                     824.0         \n",
       "946.0             97.0                                                     834.0         \n",
       "602.0             97.0                                                     869.0         \n",
       "629.0             36.0                                                     789.0         "
      ]
     },
     "execution_count": 16,
     "metadata": {},
     "output_type": "execute_result"
    }
   ],
   "source": [
    "output.data.filter(regex='prevalent_count').head()"
   ]
  },
  {
   "cell_type": "markdown",
   "metadata": {},
   "source": [
    "### 4 \"proportion\" columns: proportions of LBW and preterm babies by sex"
   ]
  },
  {
   "cell_type": "code",
   "execution_count": 24,
   "metadata": {},
   "outputs": [
    {
     "data": {
      "text/plain": [
       "Index(['birth_weight_proportion_below_2500g_among_female',\n",
       "       'gestational_age_proportion_below_37w_among_female',\n",
       "       'birth_weight_proportion_below_2500g_among_male',\n",
       "       'gestational_age_proportion_below_37w_among_male'],\n",
       "      dtype='object')"
      ]
     },
     "execution_count": 24,
     "metadata": {},
     "output_type": "execute_result"
    }
   ],
   "source": [
    "output.data.filter(regex='proportion').columns"
   ]
  },
  {
   "cell_type": "markdown",
   "metadata": {},
   "source": [
    "### Means and standard deviations exist for LAZ/WLZ at 6 months, birth weight, and gestational age"
   ]
  },
  {
   "cell_type": "code",
   "execution_count": 26,
   "metadata": {},
   "outputs": [
    {
     "data": {
      "text/plain": [
       "(200, 8)"
      ]
     },
     "execution_count": 26,
     "metadata": {},
     "output_type": "execute_result"
    }
   ],
   "source": [
    "output.data.filter(regex='_mean_').shape"
   ]
  },
  {
   "cell_type": "code",
   "execution_count": 23,
   "metadata": {},
   "outputs": [
    {
     "data": {
      "text/plain": [
       "Index(['wasting_z_score_mean_at_six_months_among_female',\n",
       "       'stunting_z_score_mean_at_six_months_among_female',\n",
       "       'wasting_z_score_mean_at_six_months_among_male',\n",
       "       'stunting_z_score_mean_at_six_months_among_male',\n",
       "       'birth_weight_mean_among_female', 'gestational_age_mean_among_female',\n",
       "       'birth_weight_mean_among_male', 'gestational_age_mean_among_male'],\n",
       "      dtype='object')"
      ]
     },
     "execution_count": 23,
     "metadata": {},
     "output_type": "execute_result"
    }
   ],
   "source": [
    "output.data.filter(regex='_mean_').columns"
   ]
  },
  {
   "cell_type": "code",
   "execution_count": 27,
   "metadata": {},
   "outputs": [
    {
     "data": {
      "text/plain": [
       "(200, 8)"
      ]
     },
     "execution_count": 27,
     "metadata": {},
     "output_type": "execute_result"
    }
   ],
   "source": [
    "output.data.filter(regex='_sd_').shape"
   ]
  },
  {
   "cell_type": "code",
   "execution_count": 21,
   "metadata": {},
   "outputs": [
    {
     "data": {
      "text/plain": [
       "Index(['wasting_z_score_sd_at_six_months_among_female',\n",
       "       'stunting_z_score_sd_at_six_months_among_female',\n",
       "       'wasting_z_score_sd_at_six_months_among_male',\n",
       "       'stunting_z_score_sd_at_six_months_among_male',\n",
       "       'birth_weight_sd_among_female', 'gestational_age_sd_among_female',\n",
       "       'birth_weight_sd_among_male', 'gestational_age_sd_among_male'],\n",
       "      dtype='object')"
      ]
     },
     "execution_count": 21,
     "metadata": {},
     "output_type": "execute_result"
    }
   ],
   "source": [
    "output.data.filter(regex='_sd_').columns"
   ]
  },
  {
   "cell_type": "markdown",
   "metadata": {},
   "source": [
    "### Measures at 6 months are stunting/wasting exposure by category, and LAZ/WLZ means and std. devs"
   ]
  },
  {
   "cell_type": "code",
   "execution_count": 18,
   "metadata": {},
   "outputs": [
    {
     "data": {
      "text/html": [
       "<div>\n",
       "<style scoped>\n",
       "    .dataframe tbody tr th:only-of-type {\n",
       "        vertical-align: middle;\n",
       "    }\n",
       "\n",
       "    .dataframe tbody tr th {\n",
       "        vertical-align: top;\n",
       "    }\n",
       "\n",
       "    .dataframe thead th {\n",
       "        text-align: right;\n",
       "    }\n",
       "</style>\n",
       "<table border=\"1\" class=\"dataframe\">\n",
       "  <thead>\n",
       "    <tr style=\"text-align: right;\">\n",
       "      <th></th>\n",
       "      <th></th>\n",
       "      <th>wasting_cat4_exposed_at_six_months_among_female</th>\n",
       "      <th>wasting_cat3_exposed_at_six_months_among_female</th>\n",
       "      <th>wasting_cat2_exposed_at_six_months_among_female</th>\n",
       "      <th>wasting_cat1_exposed_at_six_months_among_female</th>\n",
       "      <th>stunting_cat4_exposed_at_six_months_among_female</th>\n",
       "      <th>stunting_cat3_exposed_at_six_months_among_female</th>\n",
       "      <th>stunting_cat2_exposed_at_six_months_among_female</th>\n",
       "      <th>stunting_cat1_exposed_at_six_months_among_female</th>\n",
       "      <th>wasting_cat4_exposed_at_six_months_among_male</th>\n",
       "      <th>wasting_cat3_exposed_at_six_months_among_male</th>\n",
       "      <th>...</th>\n",
       "      <th>stunting_cat2_exposed_at_six_months_among_male</th>\n",
       "      <th>stunting_cat1_exposed_at_six_months_among_male</th>\n",
       "      <th>wasting_z_score_mean_at_six_months_among_female</th>\n",
       "      <th>wasting_z_score_sd_at_six_months_among_female</th>\n",
       "      <th>stunting_z_score_mean_at_six_months_among_female</th>\n",
       "      <th>stunting_z_score_sd_at_six_months_among_female</th>\n",
       "      <th>wasting_z_score_mean_at_six_months_among_male</th>\n",
       "      <th>wasting_z_score_sd_at_six_months_among_male</th>\n",
       "      <th>stunting_z_score_mean_at_six_months_among_male</th>\n",
       "      <th>stunting_z_score_sd_at_six_months_among_male</th>\n",
       "    </tr>\n",
       "    <tr>\n",
       "      <th>input_draw_number</th>\n",
       "      <th>random_seed</th>\n",
       "      <th></th>\n",
       "      <th></th>\n",
       "      <th></th>\n",
       "      <th></th>\n",
       "      <th></th>\n",
       "      <th></th>\n",
       "      <th></th>\n",
       "      <th></th>\n",
       "      <th></th>\n",
       "      <th></th>\n",
       "      <th></th>\n",
       "      <th></th>\n",
       "      <th></th>\n",
       "      <th></th>\n",
       "      <th></th>\n",
       "      <th></th>\n",
       "      <th></th>\n",
       "      <th></th>\n",
       "      <th></th>\n",
       "      <th></th>\n",
       "      <th></th>\n",
       "    </tr>\n",
       "  </thead>\n",
       "  <tbody>\n",
       "    <tr>\n",
       "      <th>357.0</th>\n",
       "      <th>12.0</th>\n",
       "      <td>6569.0</td>\n",
       "      <td>1916.0</td>\n",
       "      <td>848.0</td>\n",
       "      <td>315.0</td>\n",
       "      <td>5602.0</td>\n",
       "      <td>2909.0</td>\n",
       "      <td>902.0</td>\n",
       "      <td>235.0</td>\n",
       "      <td>6569.0</td>\n",
       "      <td>1916.0</td>\n",
       "      <td>...</td>\n",
       "      <td>902.0</td>\n",
       "      <td>235.0</td>\n",
       "      <td>9.732495</td>\n",
       "      <td>1.228998</td>\n",
       "      <td>9.732495</td>\n",
       "      <td>1.228998</td>\n",
       "      <td>9.411515</td>\n",
       "      <td>1.457413</td>\n",
       "      <td>9.411515</td>\n",
       "      <td>1.457413</td>\n",
       "    </tr>\n",
       "    <tr>\n",
       "      <th>394.0</th>\n",
       "      <th>70.0</th>\n",
       "      <td>6394.0</td>\n",
       "      <td>2198.0</td>\n",
       "      <td>768.0</td>\n",
       "      <td>209.0</td>\n",
       "      <td>3345.0</td>\n",
       "      <td>2504.0</td>\n",
       "      <td>3139.0</td>\n",
       "      <td>581.0</td>\n",
       "      <td>6394.0</td>\n",
       "      <td>2198.0</td>\n",
       "      <td>...</td>\n",
       "      <td>3139.0</td>\n",
       "      <td>581.0</td>\n",
       "      <td>9.805281</td>\n",
       "      <td>1.166262</td>\n",
       "      <td>9.805281</td>\n",
       "      <td>1.166262</td>\n",
       "      <td>9.153314</td>\n",
       "      <td>1.118113</td>\n",
       "      <td>9.153314</td>\n",
       "      <td>1.118113</td>\n",
       "    </tr>\n",
       "    <tr>\n",
       "      <th>946.0</th>\n",
       "      <th>97.0</th>\n",
       "      <td>6854.0</td>\n",
       "      <td>1722.0</td>\n",
       "      <td>694.0</td>\n",
       "      <td>346.0</td>\n",
       "      <td>3116.0</td>\n",
       "      <td>3070.0</td>\n",
       "      <td>2190.0</td>\n",
       "      <td>1240.0</td>\n",
       "      <td>6854.0</td>\n",
       "      <td>1722.0</td>\n",
       "      <td>...</td>\n",
       "      <td>2190.0</td>\n",
       "      <td>1240.0</td>\n",
       "      <td>9.848484</td>\n",
       "      <td>1.244168</td>\n",
       "      <td>9.848484</td>\n",
       "      <td>1.244168</td>\n",
       "      <td>9.666802</td>\n",
       "      <td>1.686597</td>\n",
       "      <td>9.666802</td>\n",
       "      <td>1.686597</td>\n",
       "    </tr>\n",
       "    <tr>\n",
       "      <th>602.0</th>\n",
       "      <th>97.0</th>\n",
       "      <td>6707.0</td>\n",
       "      <td>1854.0</td>\n",
       "      <td>755.0</td>\n",
       "      <td>278.0</td>\n",
       "      <td>4740.0</td>\n",
       "      <td>3625.0</td>\n",
       "      <td>1077.0</td>\n",
       "      <td>152.0</td>\n",
       "      <td>6707.0</td>\n",
       "      <td>1854.0</td>\n",
       "      <td>...</td>\n",
       "      <td>1077.0</td>\n",
       "      <td>152.0</td>\n",
       "      <td>9.898247</td>\n",
       "      <td>1.258865</td>\n",
       "      <td>9.898247</td>\n",
       "      <td>1.258865</td>\n",
       "      <td>9.431890</td>\n",
       "      <td>1.433573</td>\n",
       "      <td>9.431890</td>\n",
       "      <td>1.433573</td>\n",
       "    </tr>\n",
       "    <tr>\n",
       "      <th>629.0</th>\n",
       "      <th>36.0</th>\n",
       "      <td>6609.0</td>\n",
       "      <td>1812.0</td>\n",
       "      <td>848.0</td>\n",
       "      <td>353.0</td>\n",
       "      <td>5846.0</td>\n",
       "      <td>2465.0</td>\n",
       "      <td>982.0</td>\n",
       "      <td>329.0</td>\n",
       "      <td>6609.0</td>\n",
       "      <td>1812.0</td>\n",
       "      <td>...</td>\n",
       "      <td>982.0</td>\n",
       "      <td>329.0</td>\n",
       "      <td>9.806888</td>\n",
       "      <td>1.458078</td>\n",
       "      <td>9.806888</td>\n",
       "      <td>1.458078</td>\n",
       "      <td>9.604427</td>\n",
       "      <td>1.562327</td>\n",
       "      <td>9.604427</td>\n",
       "      <td>1.562327</td>\n",
       "    </tr>\n",
       "  </tbody>\n",
       "</table>\n",
       "<p>5 rows × 24 columns</p>\n",
       "</div>"
      ],
      "text/plain": [
       "                               wasting_cat4_exposed_at_six_months_among_female  \\\n",
       "input_draw_number random_seed                                                    \n",
       "357.0             12.0                                                  6569.0   \n",
       "394.0             70.0                                                  6394.0   \n",
       "946.0             97.0                                                  6854.0   \n",
       "602.0             97.0                                                  6707.0   \n",
       "629.0             36.0                                                  6609.0   \n",
       "\n",
       "                               wasting_cat3_exposed_at_six_months_among_female  \\\n",
       "input_draw_number random_seed                                                    \n",
       "357.0             12.0                                                  1916.0   \n",
       "394.0             70.0                                                  2198.0   \n",
       "946.0             97.0                                                  1722.0   \n",
       "602.0             97.0                                                  1854.0   \n",
       "629.0             36.0                                                  1812.0   \n",
       "\n",
       "                               wasting_cat2_exposed_at_six_months_among_female  \\\n",
       "input_draw_number random_seed                                                    \n",
       "357.0             12.0                                                   848.0   \n",
       "394.0             70.0                                                   768.0   \n",
       "946.0             97.0                                                   694.0   \n",
       "602.0             97.0                                                   755.0   \n",
       "629.0             36.0                                                   848.0   \n",
       "\n",
       "                               wasting_cat1_exposed_at_six_months_among_female  \\\n",
       "input_draw_number random_seed                                                    \n",
       "357.0             12.0                                                   315.0   \n",
       "394.0             70.0                                                   209.0   \n",
       "946.0             97.0                                                   346.0   \n",
       "602.0             97.0                                                   278.0   \n",
       "629.0             36.0                                                   353.0   \n",
       "\n",
       "                               stunting_cat4_exposed_at_six_months_among_female  \\\n",
       "input_draw_number random_seed                                                     \n",
       "357.0             12.0                                                   5602.0   \n",
       "394.0             70.0                                                   3345.0   \n",
       "946.0             97.0                                                   3116.0   \n",
       "602.0             97.0                                                   4740.0   \n",
       "629.0             36.0                                                   5846.0   \n",
       "\n",
       "                               stunting_cat3_exposed_at_six_months_among_female  \\\n",
       "input_draw_number random_seed                                                     \n",
       "357.0             12.0                                                   2909.0   \n",
       "394.0             70.0                                                   2504.0   \n",
       "946.0             97.0                                                   3070.0   \n",
       "602.0             97.0                                                   3625.0   \n",
       "629.0             36.0                                                   2465.0   \n",
       "\n",
       "                               stunting_cat2_exposed_at_six_months_among_female  \\\n",
       "input_draw_number random_seed                                                     \n",
       "357.0             12.0                                                    902.0   \n",
       "394.0             70.0                                                   3139.0   \n",
       "946.0             97.0                                                   2190.0   \n",
       "602.0             97.0                                                   1077.0   \n",
       "629.0             36.0                                                    982.0   \n",
       "\n",
       "                               stunting_cat1_exposed_at_six_months_among_female  \\\n",
       "input_draw_number random_seed                                                     \n",
       "357.0             12.0                                                    235.0   \n",
       "394.0             70.0                                                    581.0   \n",
       "946.0             97.0                                                   1240.0   \n",
       "602.0             97.0                                                    152.0   \n",
       "629.0             36.0                                                    329.0   \n",
       "\n",
       "                               wasting_cat4_exposed_at_six_months_among_male  \\\n",
       "input_draw_number random_seed                                                  \n",
       "357.0             12.0                                                6569.0   \n",
       "394.0             70.0                                                6394.0   \n",
       "946.0             97.0                                                6854.0   \n",
       "602.0             97.0                                                6707.0   \n",
       "629.0             36.0                                                6609.0   \n",
       "\n",
       "                               wasting_cat3_exposed_at_six_months_among_male  \\\n",
       "input_draw_number random_seed                                                  \n",
       "357.0             12.0                                                1916.0   \n",
       "394.0             70.0                                                2198.0   \n",
       "946.0             97.0                                                1722.0   \n",
       "602.0             97.0                                                1854.0   \n",
       "629.0             36.0                                                1812.0   \n",
       "\n",
       "                               ...  \\\n",
       "input_draw_number random_seed  ...   \n",
       "357.0             12.0         ...   \n",
       "394.0             70.0         ...   \n",
       "946.0             97.0         ...   \n",
       "602.0             97.0         ...   \n",
       "629.0             36.0         ...   \n",
       "\n",
       "                               stunting_cat2_exposed_at_six_months_among_male  \\\n",
       "input_draw_number random_seed                                                   \n",
       "357.0             12.0                                                  902.0   \n",
       "394.0             70.0                                                 3139.0   \n",
       "946.0             97.0                                                 2190.0   \n",
       "602.0             97.0                                                 1077.0   \n",
       "629.0             36.0                                                  982.0   \n",
       "\n",
       "                               stunting_cat1_exposed_at_six_months_among_male  \\\n",
       "input_draw_number random_seed                                                   \n",
       "357.0             12.0                                                  235.0   \n",
       "394.0             70.0                                                  581.0   \n",
       "946.0             97.0                                                 1240.0   \n",
       "602.0             97.0                                                  152.0   \n",
       "629.0             36.0                                                  329.0   \n",
       "\n",
       "                               wasting_z_score_mean_at_six_months_among_female  \\\n",
       "input_draw_number random_seed                                                    \n",
       "357.0             12.0                                                9.732495   \n",
       "394.0             70.0                                                9.805281   \n",
       "946.0             97.0                                                9.848484   \n",
       "602.0             97.0                                                9.898247   \n",
       "629.0             36.0                                                9.806888   \n",
       "\n",
       "                               wasting_z_score_sd_at_six_months_among_female  \\\n",
       "input_draw_number random_seed                                                  \n",
       "357.0             12.0                                              1.228998   \n",
       "394.0             70.0                                              1.166262   \n",
       "946.0             97.0                                              1.244168   \n",
       "602.0             97.0                                              1.258865   \n",
       "629.0             36.0                                              1.458078   \n",
       "\n",
       "                               stunting_z_score_mean_at_six_months_among_female  \\\n",
       "input_draw_number random_seed                                                     \n",
       "357.0             12.0                                                 9.732495   \n",
       "394.0             70.0                                                 9.805281   \n",
       "946.0             97.0                                                 9.848484   \n",
       "602.0             97.0                                                 9.898247   \n",
       "629.0             36.0                                                 9.806888   \n",
       "\n",
       "                               stunting_z_score_sd_at_six_months_among_female  \\\n",
       "input_draw_number random_seed                                                   \n",
       "357.0             12.0                                               1.228998   \n",
       "394.0             70.0                                               1.166262   \n",
       "946.0             97.0                                               1.244168   \n",
       "602.0             97.0                                               1.258865   \n",
       "629.0             36.0                                               1.458078   \n",
       "\n",
       "                               wasting_z_score_mean_at_six_months_among_male  \\\n",
       "input_draw_number random_seed                                                  \n",
       "357.0             12.0                                              9.411515   \n",
       "394.0             70.0                                              9.153314   \n",
       "946.0             97.0                                              9.666802   \n",
       "602.0             97.0                                              9.431890   \n",
       "629.0             36.0                                              9.604427   \n",
       "\n",
       "                               wasting_z_score_sd_at_six_months_among_male  \\\n",
       "input_draw_number random_seed                                                \n",
       "357.0             12.0                                            1.457413   \n",
       "394.0             70.0                                            1.118113   \n",
       "946.0             97.0                                            1.686597   \n",
       "602.0             97.0                                            1.433573   \n",
       "629.0             36.0                                            1.562327   \n",
       "\n",
       "                               stunting_z_score_mean_at_six_months_among_male  \\\n",
       "input_draw_number random_seed                                                   \n",
       "357.0             12.0                                               9.411515   \n",
       "394.0             70.0                                               9.153314   \n",
       "946.0             97.0                                               9.666802   \n",
       "602.0             97.0                                               9.431890   \n",
       "629.0             36.0                                               9.604427   \n",
       "\n",
       "                               stunting_z_score_sd_at_six_months_among_male  \n",
       "input_draw_number random_seed                                                \n",
       "357.0             12.0                                             1.457413  \n",
       "394.0             70.0                                             1.118113  \n",
       "946.0             97.0                                             1.686597  \n",
       "602.0             97.0                                             1.433573  \n",
       "629.0             36.0                                             1.562327  \n",
       "\n",
       "[5 rows x 24 columns]"
      ]
     },
     "execution_count": 18,
     "metadata": {},
     "output_type": "execute_result"
    }
   ],
   "source": [
    "output.data.filter(regex='at_six_months').head()"
   ]
  },
  {
   "cell_type": "code",
   "execution_count": 19,
   "metadata": {},
   "outputs": [
    {
     "data": {
      "text/plain": [
       "Index(['wasting_cat4_exposed_at_six_months_among_female',\n",
       "       'wasting_cat3_exposed_at_six_months_among_female',\n",
       "       'wasting_cat2_exposed_at_six_months_among_female',\n",
       "       'wasting_cat1_exposed_at_six_months_among_female',\n",
       "       'stunting_cat4_exposed_at_six_months_among_female',\n",
       "       'stunting_cat3_exposed_at_six_months_among_female',\n",
       "       'stunting_cat2_exposed_at_six_months_among_female',\n",
       "       'stunting_cat1_exposed_at_six_months_among_female',\n",
       "       'wasting_cat4_exposed_at_six_months_among_male',\n",
       "       'wasting_cat3_exposed_at_six_months_among_male',\n",
       "       'wasting_cat2_exposed_at_six_months_among_male',\n",
       "       'wasting_cat1_exposed_at_six_months_among_male',\n",
       "       'stunting_cat4_exposed_at_six_months_among_male',\n",
       "       'stunting_cat3_exposed_at_six_months_among_male',\n",
       "       'stunting_cat2_exposed_at_six_months_among_male',\n",
       "       'stunting_cat1_exposed_at_six_months_among_male',\n",
       "       'wasting_z_score_mean_at_six_months_among_female',\n",
       "       'wasting_z_score_sd_at_six_months_among_female',\n",
       "       'stunting_z_score_mean_at_six_months_among_female',\n",
       "       'stunting_z_score_sd_at_six_months_among_female',\n",
       "       'wasting_z_score_mean_at_six_months_among_male',\n",
       "       'wasting_z_score_sd_at_six_months_among_male',\n",
       "       'stunting_z_score_mean_at_six_months_among_male',\n",
       "       'stunting_z_score_sd_at_six_months_among_male'],\n",
       "      dtype='object')"
      ]
     },
     "execution_count": 19,
     "metadata": {},
     "output_type": "execute_result"
    }
   ],
   "source": [
    "output.data.filter(regex='at_six_months').columns"
   ]
  },
  {
   "cell_type": "markdown",
   "metadata": {},
   "source": [
    "### 16 risk exposure columns: For stunting/wasting categories at 6 months"
   ]
  },
  {
   "cell_type": "code",
   "execution_count": 28,
   "metadata": {},
   "outputs": [
    {
     "data": {
      "text/plain": [
       "16"
      ]
     },
     "execution_count": 28,
     "metadata": {},
     "output_type": "execute_result"
    }
   ],
   "source": [
    "len(output.columns('categorical_risk'))"
   ]
  },
  {
   "cell_type": "code",
   "execution_count": 20,
   "metadata": {},
   "outputs": [
    {
     "data": {
      "text/plain": [
       "['wasting_cat4_exposed_at_six_months_among_female',\n",
       " 'wasting_cat3_exposed_at_six_months_among_female',\n",
       " 'wasting_cat2_exposed_at_six_months_among_female',\n",
       " 'wasting_cat1_exposed_at_six_months_among_female',\n",
       " 'stunting_cat4_exposed_at_six_months_among_female',\n",
       " 'stunting_cat3_exposed_at_six_months_among_female',\n",
       " 'stunting_cat2_exposed_at_six_months_among_female',\n",
       " 'stunting_cat1_exposed_at_six_months_among_female',\n",
       " 'wasting_cat4_exposed_at_six_months_among_male',\n",
       " 'wasting_cat3_exposed_at_six_months_among_male',\n",
       " 'wasting_cat2_exposed_at_six_months_among_male',\n",
       " 'wasting_cat1_exposed_at_six_months_among_male',\n",
       " 'stunting_cat4_exposed_at_six_months_among_male',\n",
       " 'stunting_cat3_exposed_at_six_months_among_male',\n",
       " 'stunting_cat2_exposed_at_six_months_among_male',\n",
       " 'stunting_cat1_exposed_at_six_months_among_male']"
      ]
     },
     "execution_count": 20,
     "metadata": {},
     "output_type": "execute_result"
    }
   ],
   "source": [
    "output.columns('categorical_risk')"
   ]
  },
  {
   "cell_type": "markdown",
   "metadata": {},
   "source": [
    "### Hmm, is \"prevalent cases at sim end\" cumulative over the whole sim?"
   ]
  },
  {
   "cell_type": "code",
   "execution_count": 29,
   "metadata": {},
   "outputs": [
    {
     "data": {
      "text/plain": [
       "['diarrheal_diseases_prevalent_cases_at_sim_end',\n",
       " 'measles_prevalent_cases_at_sim_end',\n",
       " 'lower_respiratory_infections_prevalent_cases_at_sim_end',\n",
       " 'meningitis_prevalent_cases_at_sim_end',\n",
       " 'neonatal_disorders_prevalent_cases_at_sim_end']"
      ]
     },
     "execution_count": 29,
     "metadata": {},
     "output_type": "execute_result"
    }
   ],
   "source": [
    "output.columns('diseases_at_end')"
   ]
  },
  {
   "cell_type": "code",
   "execution_count": 31,
   "metadata": {},
   "outputs": [
    {
     "data": {
      "text/plain": [
       "input_draw_number  random_seed\n",
       "357.0              12.0           1398.0\n",
       "394.0              70.0           1490.0\n",
       "946.0              97.0           1570.0\n",
       "602.0              97.0           1541.0\n",
       "629.0              36.0           1349.0\n",
       "680.0              7.0            1400.0\n",
       "232.0              49.0           1381.0\n",
       "394.0              49.0           1453.0\n",
       "29.0               44.0           1514.0\n",
       "232.0              36.0           1418.0\n",
       "Name: neonatal_disorders_prevalent_cases_at_sim_end, dtype: float64"
      ]
     },
     "execution_count": 31,
     "metadata": {},
     "output_type": "execute_result"
    }
   ],
   "source": [
    "output.data['neonatal_disorders_prevalent_cases_at_sim_end'].head(10)"
   ]
  },
  {
   "cell_type": "markdown",
   "metadata": {},
   "source": [
    "### What are the 5 population columns?"
   ]
  },
  {
   "cell_type": "code",
   "execution_count": 32,
   "metadata": {},
   "outputs": [
    {
     "data": {
      "text/plain": [
       "['total_population_untracked',\n",
       " 'total_population_tracked',\n",
       " 'total_population',\n",
       " 'total_population_living',\n",
       " 'total_population_dead']"
      ]
     },
     "execution_count": 32,
     "metadata": {},
     "output_type": "execute_result"
    }
   ],
   "source": [
    "output.columns('population')"
   ]
  },
  {
   "cell_type": "markdown",
   "metadata": {},
   "source": [
    "### Investigate what the person-time columns look like"
   ]
  },
  {
   "cell_type": "code",
   "execution_count": 33,
   "metadata": {},
   "outputs": [
    {
     "data": {
      "text/plain": [
       "['person_time_in_2020_among_male_in_age_group_early_neonatal',\n",
       " 'person_time_in_2020_among_female_in_age_group_early_neonatal',\n",
       " 'person_time_in_2020_among_male_in_age_group_late_neonatal',\n",
       " 'person_time_in_2020_among_female_in_age_group_late_neonatal',\n",
       " 'person_time_in_2020_among_male_in_age_group_1mo_to_6mo',\n",
       " 'person_time_in_2020_among_female_in_age_group_1mo_to_6mo',\n",
       " 'person_time_in_2020_among_male_in_age_group_6mo_to_1',\n",
       " 'person_time_in_2020_among_female_in_age_group_6mo_to_1',\n",
       " 'person_time_in_2020_among_male_in_age_group_1_to_4',\n",
       " 'person_time_in_2020_among_female_in_age_group_1_to_4',\n",
       " 'person_time_in_2021_among_male_in_age_group_early_neonatal',\n",
       " 'person_time_in_2021_among_female_in_age_group_early_neonatal',\n",
       " 'person_time_in_2021_among_male_in_age_group_late_neonatal',\n",
       " 'person_time_in_2021_among_female_in_age_group_late_neonatal',\n",
       " 'person_time_in_2021_among_male_in_age_group_1mo_to_6mo',\n",
       " 'person_time_in_2021_among_female_in_age_group_1mo_to_6mo',\n",
       " 'person_time_in_2021_among_male_in_age_group_6mo_to_1',\n",
       " 'person_time_in_2021_among_female_in_age_group_6mo_to_1',\n",
       " 'person_time_in_2021_among_male_in_age_group_1_to_4',\n",
       " 'person_time_in_2021_among_female_in_age_group_1_to_4']"
      ]
     },
     "execution_count": 33,
     "metadata": {},
     "output_type": "execute_result"
    }
   ],
   "source": [
    "output.columns('person_time')[:20]"
   ]
  },
  {
   "cell_type": "code",
   "execution_count": 34,
   "metadata": {},
   "outputs": [
    {
     "data": {
      "text/plain": [
       "['susceptible_to_protein_energy_malnutrition_person_time_in_2022_among_male_in_age_group_early_neonatal',\n",
       " 'susceptible_to_protein_energy_malnutrition_person_time_in_2022_among_female_in_age_group_early_neonatal',\n",
       " 'susceptible_to_protein_energy_malnutrition_person_time_in_2022_among_male_in_age_group_late_neonatal',\n",
       " 'susceptible_to_protein_energy_malnutrition_person_time_in_2022_among_female_in_age_group_late_neonatal',\n",
       " 'susceptible_to_protein_energy_malnutrition_person_time_in_2022_among_male_in_age_group_1mo_to_6mo',\n",
       " 'susceptible_to_protein_energy_malnutrition_person_time_in_2022_among_female_in_age_group_1mo_to_6mo',\n",
       " 'susceptible_to_protein_energy_malnutrition_person_time_in_2022_among_male_in_age_group_6mo_to_1',\n",
       " 'susceptible_to_protein_energy_malnutrition_person_time_in_2022_among_female_in_age_group_6mo_to_1',\n",
       " 'susceptible_to_protein_energy_malnutrition_person_time_in_2022_among_male_in_age_group_1_to_4',\n",
       " 'susceptible_to_protein_energy_malnutrition_person_time_in_2022_among_female_in_age_group_1_to_4',\n",
       " 'protein_energy_malnutrition_person_time_in_2022_among_male_in_age_group_early_neonatal',\n",
       " 'protein_energy_malnutrition_person_time_in_2022_among_female_in_age_group_early_neonatal',\n",
       " 'protein_energy_malnutrition_person_time_in_2022_among_male_in_age_group_late_neonatal',\n",
       " 'protein_energy_malnutrition_person_time_in_2022_among_female_in_age_group_late_neonatal',\n",
       " 'protein_energy_malnutrition_person_time_in_2022_among_male_in_age_group_1mo_to_6mo',\n",
       " 'protein_energy_malnutrition_person_time_in_2022_among_female_in_age_group_1mo_to_6mo',\n",
       " 'protein_energy_malnutrition_person_time_in_2022_among_male_in_age_group_6mo_to_1',\n",
       " 'protein_energy_malnutrition_person_time_in_2022_among_female_in_age_group_6mo_to_1',\n",
       " 'protein_energy_malnutrition_person_time_in_2022_among_male_in_age_group_1_to_4',\n",
       " 'protein_energy_malnutrition_person_time_in_2022_among_female_in_age_group_1_to_4']"
      ]
     },
     "execution_count": 34,
     "metadata": {},
     "output_type": "execute_result"
    }
   ],
   "source": [
    "output.columns('person_time')[-20:]"
   ]
  },
  {
   "cell_type": "code",
   "execution_count": 35,
   "metadata": {},
   "outputs": [
    {
     "data": {
      "text/plain": [
       "['susceptible_to_measles_person_time_in_2022_among_male_in_age_group_early_neonatal',\n",
       " 'susceptible_to_measles_person_time_in_2022_among_female_in_age_group_early_neonatal',\n",
       " 'susceptible_to_measles_person_time_in_2022_among_male_in_age_group_late_neonatal',\n",
       " 'susceptible_to_measles_person_time_in_2022_among_female_in_age_group_late_neonatal',\n",
       " 'susceptible_to_measles_person_time_in_2022_among_male_in_age_group_1mo_to_6mo',\n",
       " 'susceptible_to_measles_person_time_in_2022_among_female_in_age_group_1mo_to_6mo',\n",
       " 'susceptible_to_measles_person_time_in_2022_among_male_in_age_group_6mo_to_1',\n",
       " 'susceptible_to_measles_person_time_in_2022_among_female_in_age_group_6mo_to_1',\n",
       " 'susceptible_to_measles_person_time_in_2022_among_male_in_age_group_1_to_4',\n",
       " 'susceptible_to_measles_person_time_in_2022_among_female_in_age_group_1_to_4',\n",
       " 'measles_person_time_in_2022_among_male_in_age_group_early_neonatal',\n",
       " 'measles_person_time_in_2022_among_female_in_age_group_early_neonatal',\n",
       " 'measles_person_time_in_2022_among_male_in_age_group_late_neonatal',\n",
       " 'measles_person_time_in_2022_among_female_in_age_group_late_neonatal',\n",
       " 'measles_person_time_in_2022_among_male_in_age_group_1mo_to_6mo',\n",
       " 'measles_person_time_in_2022_among_female_in_age_group_1mo_to_6mo',\n",
       " 'measles_person_time_in_2022_among_male_in_age_group_6mo_to_1',\n",
       " 'measles_person_time_in_2022_among_female_in_age_group_6mo_to_1',\n",
       " 'measles_person_time_in_2022_among_male_in_age_group_1_to_4',\n",
       " 'measles_person_time_in_2022_among_female_in_age_group_1_to_4']"
      ]
     },
     "execution_count": 35,
     "metadata": {},
     "output_type": "execute_result"
    }
   ],
   "source": [
    "output.columns('person_time')[150:170]"
   ]
  },
  {
   "cell_type": "code",
   "execution_count": null,
   "metadata": {},
   "outputs": [],
   "source": []
  }
 ],
 "metadata": {
  "kernelspec": {
   "display_name": "Python 3",
   "language": "python",
   "name": "python3"
  },
  "language_info": {
   "codemirror_mode": {
    "name": "ipython",
    "version": 3
   },
   "file_extension": ".py",
   "mimetype": "text/x-python",
   "name": "python",
   "nbconvert_exporter": "python",
   "pygments_lexer": "ipython3",
   "version": "3.6.9"
  }
 },
 "nbformat": 4,
 "nbformat_minor": 2
}
