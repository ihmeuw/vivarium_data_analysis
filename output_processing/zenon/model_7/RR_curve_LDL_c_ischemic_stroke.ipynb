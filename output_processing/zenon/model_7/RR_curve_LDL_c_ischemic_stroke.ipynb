{
 "cells": [
  {
   "cell_type": "code",
   "execution_count": 3,
   "metadata": {},
   "outputs": [
    {
     "name": "stdout",
     "output_type": "stream",
     "text": [
      "Wed Apr 15 15:40:11 PDT 2020\r\n"
     ]
    }
   ],
   "source": [
    "import numpy as np, pandas as pd, matplotlib.pyplot as plt, seaborn as sns\n",
    "\n",
    "pd.set_option('display.max_rows', 12)\n",
    "sns.set_style('whitegrid')\n",
    "sns.set_context('talk', font_scale=1.5)\n",
    "\n",
    "%matplotlib inline\n",
    "%load_ext autoreload\n",
    "%autoreload 2\n",
    "\n",
    "!date"
   ]
  },
  {
   "cell_type": "markdown",
   "metadata": {},
   "source": [
    "# LDL-c on the x-axis and RR of Ischemic Stroke on the y axis\n",
    "## All plots are based on selection of 2016, Brazil, Male, Age 60-64"
   ]
  },
  {
   "cell_type": "code",
   "execution_count": 4,
   "metadata": {
    "scrolled": true
   },
   "outputs": [
    {
     "name": "stdout",
     "output_type": "stream",
     "text": [
      "/share/code/santonis/miniconda/envs/validation/bin/python\r\n"
     ]
    }
   ],
   "source": [
    "! which python"
   ]
  },
  {
   "cell_type": "code",
   "execution_count": 5,
   "metadata": {},
   "outputs": [],
   "source": [
    "# %cd ~/projects/2018/ceam_development/vivarium_artifact_tools\n",
    "# %run artifact_tool.py"
   ]
  },
  {
   "cell_type": "code",
   "execution_count": 6,
   "metadata": {},
   "outputs": [
    {
     "name": "stdout",
     "output_type": "stream",
     "text": [
      "/ihme/homes/santonis/notebooks/sanofi_zenon/vivarium_artifact_tools-master\n"
     ]
    }
   ],
   "source": [
    "%cd vivarium_artifact_tools-master\n",
    "%run artifact_tool.py"
   ]
  },
  {
   "cell_type": "code",
   "execution_count": 7,
   "metadata": {},
   "outputs": [],
   "source": [
    "art = ArtifactTool('/share/costeffectiveness/artifacts/vivarium_csu_zenon/brazil.hdf')"
   ]
  },
  {
   "cell_type": "code",
   "execution_count": 8,
   "metadata": {},
   "outputs": [],
   "source": [
    "from gbd_mapping import risk_factors"
   ]
  },
  {
   "cell_type": "markdown",
   "metadata": {},
   "source": [
    "# LDL-c"
   ]
  },
  {
   "cell_type": "code",
   "execution_count": 21,
   "metadata": {},
   "outputs": [],
   "source": [
    "df1 = art.tables.risk_factor.high_ldl_cholesterol.relative_risk.table()\n",
    "\n"
   ]
  },
  {
   "cell_type": "code",
   "execution_count": 22,
   "metadata": {},
   "outputs": [],
   "source": [
    "df1 = df1.reset_index()"
   ]
  },
  {
   "cell_type": "code",
   "execution_count": 23,
   "metadata": {},
   "outputs": [],
   "source": [
    "df1 = df1.melt(id_vars=['location', 'sex', 'age_start', 'age_end', 'year_start', 'year_end', 'affected_entity', 'affected_measure', 'parameter'])"
   ]
  },
  {
   "cell_type": "code",
   "execution_count": 26,
   "metadata": {},
   "outputs": [],
   "source": [
    "df1 = df1.query('year_start == 2016 and sex == \"Male\" and age_start == 60.000 and affected_entity == \"ischemic_stroke\"')\n"
   ]
  },
  {
   "cell_type": "code",
   "execution_count": 27,
   "metadata": {},
   "outputs": [
    {
     "data": {
      "text/html": [
       "<div>\n",
       "<style scoped>\n",
       "    .dataframe tbody tr th:only-of-type {\n",
       "        vertical-align: middle;\n",
       "    }\n",
       "\n",
       "    .dataframe tbody tr th {\n",
       "        vertical-align: top;\n",
       "    }\n",
       "\n",
       "    .dataframe thead th {\n",
       "        text-align: right;\n",
       "    }\n",
       "</style>\n",
       "<table border=\"1\" class=\"dataframe\">\n",
       "  <thead>\n",
       "    <tr style=\"text-align: right;\">\n",
       "      <th></th>\n",
       "      <th>location</th>\n",
       "      <th>sex</th>\n",
       "      <th>age_start</th>\n",
       "      <th>age_end</th>\n",
       "      <th>year_start</th>\n",
       "      <th>year_end</th>\n",
       "      <th>affected_entity</th>\n",
       "      <th>affected_measure</th>\n",
       "      <th>parameter</th>\n",
       "      <th>variable</th>\n",
       "      <th>value</th>\n",
       "    </tr>\n",
       "  </thead>\n",
       "  <tbody>\n",
       "    <tr>\n",
       "      <th>2181</th>\n",
       "      <td>Brazil</td>\n",
       "      <td>Male</td>\n",
       "      <td>60.0</td>\n",
       "      <td>65.0</td>\n",
       "      <td>2016</td>\n",
       "      <td>2017</td>\n",
       "      <td>ischemic_stroke</td>\n",
       "      <td>incidence_rate</td>\n",
       "      <td>per unit</td>\n",
       "      <td>draw_0</td>\n",
       "      <td>1.2075</td>\n",
       "    </tr>\n",
       "    <tr>\n",
       "      <th>4757</th>\n",
       "      <td>Brazil</td>\n",
       "      <td>Male</td>\n",
       "      <td>60.0</td>\n",
       "      <td>65.0</td>\n",
       "      <td>2016</td>\n",
       "      <td>2017</td>\n",
       "      <td>ischemic_stroke</td>\n",
       "      <td>incidence_rate</td>\n",
       "      <td>per unit</td>\n",
       "      <td>draw_1</td>\n",
       "      <td>1.1575</td>\n",
       "    </tr>\n",
       "    <tr>\n",
       "      <th>7333</th>\n",
       "      <td>Brazil</td>\n",
       "      <td>Male</td>\n",
       "      <td>60.0</td>\n",
       "      <td>65.0</td>\n",
       "      <td>2016</td>\n",
       "      <td>2017</td>\n",
       "      <td>ischemic_stroke</td>\n",
       "      <td>incidence_rate</td>\n",
       "      <td>per unit</td>\n",
       "      <td>draw_10</td>\n",
       "      <td>1.1935</td>\n",
       "    </tr>\n",
       "    <tr>\n",
       "      <th>9909</th>\n",
       "      <td>Brazil</td>\n",
       "      <td>Male</td>\n",
       "      <td>60.0</td>\n",
       "      <td>65.0</td>\n",
       "      <td>2016</td>\n",
       "      <td>2017</td>\n",
       "      <td>ischemic_stroke</td>\n",
       "      <td>incidence_rate</td>\n",
       "      <td>per unit</td>\n",
       "      <td>draw_100</td>\n",
       "      <td>1.1740</td>\n",
       "    </tr>\n",
       "    <tr>\n",
       "      <th>12485</th>\n",
       "      <td>Brazil</td>\n",
       "      <td>Male</td>\n",
       "      <td>60.0</td>\n",
       "      <td>65.0</td>\n",
       "      <td>2016</td>\n",
       "      <td>2017</td>\n",
       "      <td>ischemic_stroke</td>\n",
       "      <td>incidence_rate</td>\n",
       "      <td>per unit</td>\n",
       "      <td>draw_101</td>\n",
       "      <td>1.1835</td>\n",
       "    </tr>\n",
       "    <tr>\n",
       "      <th>15061</th>\n",
       "      <td>Brazil</td>\n",
       "      <td>Male</td>\n",
       "      <td>60.0</td>\n",
       "      <td>65.0</td>\n",
       "      <td>2016</td>\n",
       "      <td>2017</td>\n",
       "      <td>ischemic_stroke</td>\n",
       "      <td>incidence_rate</td>\n",
       "      <td>per unit</td>\n",
       "      <td>draw_102</td>\n",
       "      <td>1.1485</td>\n",
       "    </tr>\n",
       "    <tr>\n",
       "      <th>...</th>\n",
       "      <td>...</td>\n",
       "      <td>...</td>\n",
       "      <td>...</td>\n",
       "      <td>...</td>\n",
       "      <td>...</td>\n",
       "      <td>...</td>\n",
       "      <td>...</td>\n",
       "      <td>...</td>\n",
       "      <td>...</td>\n",
       "      <td>...</td>\n",
       "      <td>...</td>\n",
       "    </tr>\n",
       "    <tr>\n",
       "      <th>2562725</th>\n",
       "      <td>Brazil</td>\n",
       "      <td>Male</td>\n",
       "      <td>60.0</td>\n",
       "      <td>65.0</td>\n",
       "      <td>2016</td>\n",
       "      <td>2017</td>\n",
       "      <td>ischemic_stroke</td>\n",
       "      <td>incidence_rate</td>\n",
       "      <td>per unit</td>\n",
       "      <td>draw_994</td>\n",
       "      <td>1.2665</td>\n",
       "    </tr>\n",
       "    <tr>\n",
       "      <th>2565301</th>\n",
       "      <td>Brazil</td>\n",
       "      <td>Male</td>\n",
       "      <td>60.0</td>\n",
       "      <td>65.0</td>\n",
       "      <td>2016</td>\n",
       "      <td>2017</td>\n",
       "      <td>ischemic_stroke</td>\n",
       "      <td>incidence_rate</td>\n",
       "      <td>per unit</td>\n",
       "      <td>draw_995</td>\n",
       "      <td>1.1482</td>\n",
       "    </tr>\n",
       "    <tr>\n",
       "      <th>2567877</th>\n",
       "      <td>Brazil</td>\n",
       "      <td>Male</td>\n",
       "      <td>60.0</td>\n",
       "      <td>65.0</td>\n",
       "      <td>2016</td>\n",
       "      <td>2017</td>\n",
       "      <td>ischemic_stroke</td>\n",
       "      <td>incidence_rate</td>\n",
       "      <td>per unit</td>\n",
       "      <td>draw_996</td>\n",
       "      <td>1.0958</td>\n",
       "    </tr>\n",
       "    <tr>\n",
       "      <th>2570453</th>\n",
       "      <td>Brazil</td>\n",
       "      <td>Male</td>\n",
       "      <td>60.0</td>\n",
       "      <td>65.0</td>\n",
       "      <td>2016</td>\n",
       "      <td>2017</td>\n",
       "      <td>ischemic_stroke</td>\n",
       "      <td>incidence_rate</td>\n",
       "      <td>per unit</td>\n",
       "      <td>draw_997</td>\n",
       "      <td>1.1720</td>\n",
       "    </tr>\n",
       "    <tr>\n",
       "      <th>2573029</th>\n",
       "      <td>Brazil</td>\n",
       "      <td>Male</td>\n",
       "      <td>60.0</td>\n",
       "      <td>65.0</td>\n",
       "      <td>2016</td>\n",
       "      <td>2017</td>\n",
       "      <td>ischemic_stroke</td>\n",
       "      <td>incidence_rate</td>\n",
       "      <td>per unit</td>\n",
       "      <td>draw_998</td>\n",
       "      <td>1.1865</td>\n",
       "    </tr>\n",
       "    <tr>\n",
       "      <th>2575605</th>\n",
       "      <td>Brazil</td>\n",
       "      <td>Male</td>\n",
       "      <td>60.0</td>\n",
       "      <td>65.0</td>\n",
       "      <td>2016</td>\n",
       "      <td>2017</td>\n",
       "      <td>ischemic_stroke</td>\n",
       "      <td>incidence_rate</td>\n",
       "      <td>per unit</td>\n",
       "      <td>draw_999</td>\n",
       "      <td>1.1332</td>\n",
       "    </tr>\n",
       "  </tbody>\n",
       "</table>\n",
       "<p>1000 rows × 11 columns</p>\n",
       "</div>"
      ],
      "text/plain": [
       "        location   sex  age_start  age_end  year_start  year_end  \\\n",
       "2181      Brazil  Male       60.0     65.0        2016      2017   \n",
       "4757      Brazil  Male       60.0     65.0        2016      2017   \n",
       "7333      Brazil  Male       60.0     65.0        2016      2017   \n",
       "9909      Brazil  Male       60.0     65.0        2016      2017   \n",
       "12485     Brazil  Male       60.0     65.0        2016      2017   \n",
       "15061     Brazil  Male       60.0     65.0        2016      2017   \n",
       "...          ...   ...        ...      ...         ...       ...   \n",
       "2562725   Brazil  Male       60.0     65.0        2016      2017   \n",
       "2565301   Brazil  Male       60.0     65.0        2016      2017   \n",
       "2567877   Brazil  Male       60.0     65.0        2016      2017   \n",
       "2570453   Brazil  Male       60.0     65.0        2016      2017   \n",
       "2573029   Brazil  Male       60.0     65.0        2016      2017   \n",
       "2575605   Brazil  Male       60.0     65.0        2016      2017   \n",
       "\n",
       "         affected_entity affected_measure parameter  variable   value  \n",
       "2181     ischemic_stroke   incidence_rate  per unit    draw_0  1.2075  \n",
       "4757     ischemic_stroke   incidence_rate  per unit    draw_1  1.1575  \n",
       "7333     ischemic_stroke   incidence_rate  per unit   draw_10  1.1935  \n",
       "9909     ischemic_stroke   incidence_rate  per unit  draw_100  1.1740  \n",
       "12485    ischemic_stroke   incidence_rate  per unit  draw_101  1.1835  \n",
       "15061    ischemic_stroke   incidence_rate  per unit  draw_102  1.1485  \n",
       "...                  ...              ...       ...       ...     ...  \n",
       "2562725  ischemic_stroke   incidence_rate  per unit  draw_994  1.2665  \n",
       "2565301  ischemic_stroke   incidence_rate  per unit  draw_995  1.1482  \n",
       "2567877  ischemic_stroke   incidence_rate  per unit  draw_996  1.0958  \n",
       "2570453  ischemic_stroke   incidence_rate  per unit  draw_997  1.1720  \n",
       "2573029  ischemic_stroke   incidence_rate  per unit  draw_998  1.1865  \n",
       "2575605  ischemic_stroke   incidence_rate  per unit  draw_999  1.1332  \n",
       "\n",
       "[1000 rows x 11 columns]"
      ]
     },
     "execution_count": 27,
     "metadata": {},
     "output_type": "execute_result"
    }
   ],
   "source": [
    "df1"
   ]
  },
  {
   "cell_type": "code",
   "execution_count": 28,
   "metadata": {},
   "outputs": [
    {
     "data": {
      "text/plain": [
       "array([60.])"
      ]
     },
     "execution_count": 28,
     "metadata": {},
     "output_type": "execute_result"
    }
   ],
   "source": [
    "df1['age_start'].unique()"
   ]
  },
  {
   "cell_type": "code",
   "execution_count": 13,
   "metadata": {},
   "outputs": [
    {
     "data": {
      "text/plain": [
       "RiskFactor(\n",
       "name='high_ldl_cholesterol',\n",
       "kind='risk_factor',\n",
       "gbd_id=reiid(367),\n",
       "level=2,\n",
       "most_detailed=True,\n",
       "distribution='ensemble',\n",
       "population_attributable_fraction_calculation_type='continuous',\n",
       "restrictions=Restrictions(\n",
       "male_only=False,\n",
       "female_only=False,\n",
       "yll_only=False,\n",
       "yld_only=False,\n",
       "yll_age_group_id_start=10,\n",
       "yll_age_group_id_end=235,\n",
       "yld_age_group_id_start=10,\n",
       "yld_age_group_id_end=235,\n",
       "violated=[]),\n",
       "exposure_exists=True,\n",
       "exposure_standard_deviation_exists=True,\n",
       "exposure_year_type='annual',\n",
       "relative_risk_exists=True,\n",
       "relative_risk_in_range=True,\n",
       "population_attributable_fraction_yll_exists=True,\n",
       "population_attributable_fraction_yll_in_range=True,\n",
       "population_attributable_fraction_yld_exists=True,\n",
       "population_attributable_fraction_yld_in_range=True,\n",
       "affected_causes=[all_causes, non_communicable_diseases, cardiovascular_diseases, ischemic_heart_disease, stroke, ischemic_stroke],\n",
       "population_attributable_fraction_of_one_causes=[],\n",
       "parent=metabolic_risks,\n",
       "affected_risk_factors=[high_systolic_blood_pressure],\n",
       "tmred=Tmred(\n",
       "distribution='uniform',\n",
       "inverted=False,\n",
       "min=scalar(0.700000),\n",
       "max=scalar(1.300000)),\n",
       "relative_risk_scalar=scalar(1.000000))"
      ]
     },
     "execution_count": 13,
     "metadata": {},
     "output_type": "execute_result"
    }
   ],
   "source": [
    "risk_factors.high_ldl_cholesterol"
   ]
  },
  {
   "cell_type": "code",
   "execution_count": 29,
   "metadata": {},
   "outputs": [],
   "source": [
    "lb_1, ub_1 = np.percentile(df1.value, 2.5), np.percentile(df1.value, 97.5)\n",
    "rr_1 = df1.value.mean()"
   ]
  },
  {
   "cell_type": "code",
   "execution_count": 30,
   "metadata": {},
   "outputs": [
    {
     "data": {
      "text/plain": [
       "1.1807644001000002"
      ]
     },
     "execution_count": 30,
     "metadata": {},
     "output_type": "execute_result"
    }
   ],
   "source": [
    "rr_1"
   ]
  },
  {
   "cell_type": "code",
   "execution_count": 31,
   "metadata": {},
   "outputs": [
    {
     "data": {
      "text/plain": [
       "(0.26149999999999995, 8.368500000000001, 0, 7.0474726947293265)"
      ]
     },
     "execution_count": 31,
     "metadata": {},
     "output_type": "execute_result"
    },
    {
     "data": {
      "image/png": "[encoded data removed]",
      "text/plain": [
       "<Figure size 864x432 with 1 Axes>"
      ]
     },
     "metadata": {
      "needs_background": "light"
     },
     "output_type": "display_data"
    }
   ],
   "source": [
    "xx = np.linspace(0.63, 8, 100)\n",
    "\n",
    "max_exposure = 13\n",
    "scale = 1 \n",
    "tmrel = 0.70\n",
    "\n",
    "exposure = np.minimum(xx, max_exposure)\n",
    "relative_risk = np.maximum(rr_1**((exposure - tmrel) / scale), 1)\n",
    "\n",
    "yy = relative_risk\n",
    "\n",
    "yy_lb = np.maximum(lb_1**((exposure - tmrel) / scale), 1)\n",
    "yy_ub = np.maximum(ub_1**((exposure - tmrel) / scale), 1)\n",
    "\n",
    "plt.figure(figsize=(12,6))\n",
    "plt.plot(xx, yy, 'k-')\n",
    "plt.fill_between(xx, yy_lb, yy_ub, color='k', alpha=.25)\n",
    "plt.xlabel('LDL-c')\n",
    "plt.ylabel('RR of Ischemic Stroke')\n",
    "plt.axis(ymin=0)\n",
    "\n",
    "# plt.axvline(0.7, color='k', linestyle='dashed')\n",
    "# plt.axvline(1.3, color='k', linestyle='dashed')\n",
    "# plt.text(0.72, 1.5, r'TMRED = Uniform(0.7, 1.3)', ha='left', va='bottom', fontsize = 18)\n",
    "\n"
   ]
  },
  {
   "cell_type": "markdown",
   "metadata": {},
   "source": [
    "# Code example from Yongquan about FPG"
   ]
  },
  {
   "cell_type": "code",
   "execution_count": 7,
   "metadata": {
    "collapsed": true
   },
   "outputs": [],
   "source": [
    "df1 = art.tables.risk_factor.high_fasting_plasma_glucose_continuous.relative_risk.table()"
   ]
  },
  {
   "cell_type": "code",
   "execution_count": 8,
   "metadata": {
    "collapsed": true
   },
   "outputs": [],
   "source": [
    "df1 = df1.query('year == 2016 and sex == \"Male\" and age == 67.5 and cause == \"ischemic_heart_disease\"')\n",
    "\n"
   ]
  },
  {
   "cell_type": "code",
   "execution_count": 9,
   "metadata": {
    "scrolled": false
   },
   "outputs": [
    {
     "data": {
      "text/plain": [
       "Risk(\n",
       "name='high_fasting_plasma_glucose_continuous',\n",
       "kind='risk_factor',\n",
       "gbd_id=reiid(141),\n",
       "distribution='ensemble',\n",
       "affected_causes=[ischemic_heart_disease,ischemic_stroke,hemorrhagic_stroke,diabetes_mellitus,chronic_kidney_disease_due_to_diabetes_mellitus,chronic_kidney_disease_due_to_hypertension,chronic_kidney_disease_due_to_glomerulonephritis,chronic_kidney_disease_due_to_other_causes],\n",
       "restrictions=Restrictions(\n",
       "male_only=False,\n",
       "female_only=False,\n",
       "yll_only=False,\n",
       "yld_only=False,\n",
       "yll_age_start=None,\n",
       "yll_age_end=None,\n",
       "yld_age_start=None,\n",
       "yld_age_end=None),\n",
       "levels=None,\n",
       "tmred=Tmred(\n",
       "distribution='uniform',\n",
       "min=scalar(4.884880),\n",
       "max=scalar(5.301205),\n",
       "inverted=False),\n",
       "exposure_parameters=ExposureParameters(\n",
       "scale=scalar(1.000000),\n",
       "max_rr=scalar(30.000000)))"
      ]
     },
     "execution_count": 9,
     "metadata": {},
     "output_type": "execute_result"
    }
   ],
   "source": [
    "risk_factors.high_fasting_plasma_glucose_continuous"
   ]
  },
  {
   "cell_type": "code",
   "execution_count": 10,
   "metadata": {
    "collapsed": true
   },
   "outputs": [],
   "source": [
    "lb_1, ub_1 = np.percentile(df1.value, 2.5), np.percentile(df1.value, 97.5)\n",
    "rr_1 = df1.value.mean()"
   ]
  },
  {
   "cell_type": "code",
   "execution_count": 11,
   "metadata": {},
   "outputs": [
    {
     "data": {
      "text/plain": [
       "Text(4.88488, 6, ' TMRED = Uniform(4.884880, 5.301205)')"
      ]
     },
     "execution_count": 11,
     "metadata": {},
     "output_type": "execute_result"
    },
    {
     "data": {
      "image/png": "[encoded data removed]",
      "text/plain": [
       "<Figure size 864x432 with 1 Axes>"
      ]
     },
     "metadata": {
      "needs_background": "light"
     },
     "output_type": "display_data"
    }
   ],
   "source": [
    "xx = np.linspace(3.5, 15, 100)\n",
    "\n",
    "max_exposure = 30\n",
    "scale = 1 \n",
    "# tmred = uniform(4.884880, 5.301205)\n",
    "tmrel = 5\n",
    "\n",
    "exposure = np.minimum(xx, max_exposure)\n",
    "relative_risk = np.maximum(rr_1**((exposure - tmrel) / scale), 1)\n",
    "\n",
    "yy = relative_risk\n",
    "\n",
    "yy_lb = np.maximum(lb_1**((exposure - tmrel) / scale), 1)\n",
    "yy_ub = np.maximum(ub_1**((exposure - tmrel) / scale), 1)\n",
    "\n",
    "plt.figure(figsize=(12,6))\n",
    "plt.plot(xx, yy, 'k-')\n",
    "plt.fill_between(xx, yy_lb, yy_ub, color='k', alpha=.25)\n",
    "plt.xlabel('FPG')\n",
    "plt.ylabel('RR of IHD')\n",
    "plt.axis(ymin=0)\n",
    "\n",
    "plt.axvline(4.884880, color='k', linestyle='dashed')\n",
    "plt.axvline(5.301205, color='k', linestyle='dashed')\n",
    "plt.text(4.884880, 6, r' TMRED = Uniform(4.884880, 5.301205)', ha='left', va='bottom', fontsize = 20)"
   ]
  },
  {
   "cell_type": "markdown",
   "metadata": {},
   "source": [
    "# SBP"
   ]
  },
  {
   "cell_type": "code",
   "execution_count": 12,
   "metadata": {
    "collapsed": true
   },
   "outputs": [],
   "source": [
    "df2 = art.tables.risk_factor.high_systolic_blood_pressure.relative_risk.table()"
   ]
  },
  {
   "cell_type": "code",
   "execution_count": 13,
   "metadata": {
    "collapsed": true
   },
   "outputs": [],
   "source": [
    "df2 = df2.query('year == 2016 and sex == \"Male\" and age == 67.5 and cause == \"ischemic_heart_disease\"')"
   ]
  },
  {
   "cell_type": "code",
   "execution_count": 14,
   "metadata": {
    "collapsed": true
   },
   "outputs": [],
   "source": [
    "lb_2, ub_2 = np.percentile(df2.value, 2.5), np.percentile(df2.value, 97.5)\n",
    "rr_2 = df2.value.mean()"
   ]
  },
  {
   "cell_type": "code",
   "execution_count": 15,
   "metadata": {},
   "outputs": [
    {
     "data": {
      "text/plain": [
       "Risk(\n",
       "name='high_systolic_blood_pressure',\n",
       "kind='risk_factor',\n",
       "gbd_id=reiid(107),\n",
       "distribution='ensemble',\n",
       "affected_causes=[rheumatic_heart_disease,ischemic_heart_disease,ischemic_stroke,hemorrhagic_stroke,hypertensive_heart_disease,atrial_fibrillation_and_flutter,aortic_aneurysm,peripheral_artery_disease,endocarditis,other_cardiovascular_and_circulatory_diseases,chronic_kidney_disease_due_to_diabetes_mellitus,chronic_kidney_disease_due_to_hypertension,chronic_kidney_disease_due_to_glomerulonephritis,chronic_kidney_disease_due_to_other_causes,other_cardiomyopathy],\n",
       "restrictions=Restrictions(\n",
       "male_only=False,\n",
       "female_only=False,\n",
       "yll_only=False,\n",
       "yld_only=False,\n",
       "yll_age_start=None,\n",
       "yll_age_end=None,\n",
       "yld_age_start=None,\n",
       "yld_age_end=None),\n",
       "levels=None,\n",
       "tmred=Tmred(\n",
       "distribution='uniform',\n",
       "min=scalar(110.000000),\n",
       "max=scalar(115.000000),\n",
       "inverted=False),\n",
       "exposure_parameters=ExposureParameters(\n",
       "scale=scalar(10.000000),\n",
       "max_rr=scalar(200.000000)))"
      ]
     },
     "execution_count": 15,
     "metadata": {},
     "output_type": "execute_result"
    }
   ],
   "source": [
    "risk_factors.high_systolic_blood_pressure"
   ]
  },
  {
   "cell_type": "code",
   "execution_count": 16,
   "metadata": {},
   "outputs": [
    {
     "data": {
      "text/plain": [
       "Text(110, 6, ' TMRED = Uniform(110, 115)')"
      ]
     },
     "execution_count": 16,
     "metadata": {},
     "output_type": "execute_result"
    },
    {
     "data": {
      "image/png": "[encoded data removed]",
      "text/plain": [
       "<Figure size 864x432 with 1 Axes>"
      ]
     },
     "metadata": {
      "needs_background": "light"
     },
     "output_type": "display_data"
    }
   ],
   "source": [
    "xx = np.linspace(100, 170, 100)\n",
    "\n",
    "max_exposure = 200\n",
    "scale = 10 \n",
    "# tmred = uniform(110, 115)\n",
    "tmrel = 110\n",
    "\n",
    "exposure = np.minimum(xx, max_exposure)\n",
    "relative_risk = np.maximum(rr_2**((exposure - tmrel) / scale), 1)\n",
    "\n",
    "yy = relative_risk\n",
    "\n",
    "yy_lb = np.maximum(lb_2**((exposure - tmrel) / scale), 1)\n",
    "yy_ub = np.maximum(ub_2**((exposure - tmrel) / scale), 1)\n",
    "\n",
    "plt.figure(figsize=(12,6))\n",
    "plt.plot(xx, yy, 'k-')\n",
    "plt.fill_between(xx, yy_lb, yy_ub, color='k', alpha=.25)\n",
    "plt.xlabel('SBP')\n",
    "plt.ylabel('RR of IHD')\n",
    "plt.axis(ymin=0)\n",
    "\n",
    "plt.axvline(110, color='k', linestyle='dashed')\n",
    "plt.axvline(115, color='k', linestyle='dashed')\n",
    "plt.text(110, 6, r' TMRED = Uniform(110, 115)', ha='left', va='bottom', fontsize = 20)"
   ]
  },
  {
   "cell_type": "markdown",
   "metadata": {},
   "source": [
    "# Smoking"
   ]
  },
  {
   "cell_type": "code",
   "execution_count": 17,
   "metadata": {
    "collapsed": true
   },
   "outputs": [],
   "source": [
    "df3 = art.tables.risk_factor.smoking_prevalence_approach.relative_risk.table()"
   ]
  },
  {
   "cell_type": "code",
   "execution_count": 18,
   "metadata": {
    "collapsed": true
   },
   "outputs": [],
   "source": [
    "df3 = df3.query('year == 2016 and sex == \"Male\" and age == 67.5 and cause == \"ischemic_heart_disease\"')"
   ]
  },
  {
   "cell_type": "code",
   "execution_count": 19,
   "metadata": {
    "scrolled": true
   },
   "outputs": [
    {
     "data": {
      "text/plain": [
       "Risk(\n",
       "name='smoking_prevalence_approach',\n",
       "kind='risk_factor',\n",
       "gbd_id=reiid(166),\n",
       "distribution='dichotomous',\n",
       "affected_causes=[lower_respiratory_infections,ischemic_heart_disease,ischemic_stroke,hemorrhagic_stroke,hypertensive_heart_disease,atrial_fibrillation_and_flutter,aortic_aneurysm,peripheral_artery_disease,other_cardiovascular_and_circulatory_diseases,asthma,peptic_ulcer_disease,gallbladder_and_biliary_diseases,alzheimer_disease_and_other_dementias,parkinson_disease,multiple_sclerosis,diabetes_mellitus,rheumatoid_arthritis,low_back_pain,cataract,macular_degeneration,pedestrian_road_injuries,cyclist_road_injuries,motorcyclist_road_injuries,motor_vehicle_road_injuries,other_road_injuries,other_transport_injuries,falls,other_exposure_to_mechanical_forces,non_venomous_animal_contact,physical_violence_by_other_means,exposure_to_forces_of_nature,drug_susceptible_tuberculosis,multidrug_resistant_tuberculosis_without_extensive_drug_resistance,extensively_drug_resistant_tuberculosis],\n",
       "restrictions=Restrictions(\n",
       "male_only=False,\n",
       "female_only=False,\n",
       "yll_only=False,\n",
       "yld_only=False,\n",
       "yll_age_start=None,\n",
       "yll_age_end=None,\n",
       "yld_age_start=None,\n",
       "yld_age_end=None),\n",
       "levels=Levels(\n",
       "cat1='exposed',\n",
       "cat2='unexposed',\n",
       "cat3=None,\n",
       "cat4=None,\n",
       "cat5=None,\n",
       "cat6=None,\n",
       "cat7=None,\n",
       "cat8=None,\n",
       "cat9=None,\n",
       "cat10=None,\n",
       "cat11=None,\n",
       "cat12=None,\n",
       "cat13=None,\n",
       "cat14=None,\n",
       "cat15=None,\n",
       "cat16=None,\n",
       "cat17=None,\n",
       "cat18=None,\n",
       "cat19=None,\n",
       "cat20=None,\n",
       "cat21=None,\n",
       "cat22=None,\n",
       "cat23=None,\n",
       "cat24=None,\n",
       "cat25=None,\n",
       "cat26=None,\n",
       "cat27=None,\n",
       "cat28=None,\n",
       "cat29=None,\n",
       "cat30=None,\n",
       "cat31=None,\n",
       "cat32=None,\n",
       "cat33=None,\n",
       "cat34=None,\n",
       "cat35=None,\n",
       "cat36=None,\n",
       "cat37=None,\n",
       "cat38=None,\n",
       "cat39=None,\n",
       "cat40=None,\n",
       "cat41=None,\n",
       "cat42=None,\n",
       "cat43=None,\n",
       "cat44=None,\n",
       "cat45=None,\n",
       "cat46=None,\n",
       "cat47=None,\n",
       "cat48=None,\n",
       "cat49=None,\n",
       "cat50=None,\n",
       "cat51=None,\n",
       "cat52=None,\n",
       "cat53=None,\n",
       "cat54=None,\n",
       "cat55=None,\n",
       "cat56=None,\n",
       "cat57=None,\n",
       "cat58=None,\n",
       "cat59=None),\n",
       "tmred=None,\n",
       "exposure_parameters=None)"
      ]
     },
     "execution_count": 19,
     "metadata": {},
     "output_type": "execute_result"
    }
   ],
   "source": [
    "risk_factors.smoking_prevalence_approach"
   ]
  },
  {
   "cell_type": "code",
   "execution_count": 20,
   "metadata": {
    "collapsed": true
   },
   "outputs": [],
   "source": [
    "# cat1 exposed\n",
    "lb_3_cat1, ub_3_cat1 = np.percentile(df3[df3.parameter == 'cat1'].value, 2.5), np.percentile(df3[df3.parameter == 'cat1'].value, 97.5)\n",
    "rr_3_cat1 = df3[df3.parameter == 'cat1'].value.mean()\n",
    "# cat2 unexposed"
   ]
  },
  {
   "cell_type": "code",
   "execution_count": 21,
   "metadata": {
    "scrolled": true
   },
   "outputs": [
    {
     "data": {
      "text/plain": [
       "Text(0, 0.5, 'RR of IHD')"
      ]
     },
     "execution_count": 21,
     "metadata": {},
     "output_type": "execute_result"
    },
    {
     "data": {
      "image/png": "[encoded data removed]",
      "text/plain": [
       "<Figure size 432x288 with 1 Axes>"
      ]
     },
     "metadata": {
      "needs_background": "light"
     },
     "output_type": "display_data"
    }
   ],
   "source": [
    "plt.bar(1, rr_3_cat1, yerr = [[rr_3_cat1 - lb_3_cat1], [ub_3_cat1 - rr_3_cat1]], width = 0.5, capsize = 20, color = 'b')\n",
    "plt.bar(2, 1, width = 0.5, color = 'b')\n",
    "plt.xticks([1, 2], ['exposed', 'unexposed'])\n",
    "plt.xlabel('Smoking')\n",
    "plt.ylabel('RR of IHD')"
   ]
  },
  {
   "cell_type": "markdown",
   "metadata": {},
   "source": [
    "# IKF"
   ]
  },
  {
   "cell_type": "code",
   "execution_count": 22,
   "metadata": {
    "collapsed": true
   },
   "outputs": [],
   "source": [
    "df4 = art.tables.risk_factor.impaired_kidney_function.relative_risk.table()"
   ]
  },
  {
   "cell_type": "code",
   "execution_count": 23,
   "metadata": {
    "collapsed": true
   },
   "outputs": [],
   "source": [
    "df4 = df4.query('year == 2016 and sex == \"Male\" and age == 67.5 and cause == \"ischemic_heart_disease\"')"
   ]
  },
  {
   "cell_type": "code",
   "execution_count": 24,
   "metadata": {
    "scrolled": true
   },
   "outputs": [
    {
     "data": {
      "text/plain": [
       "Risk(\n",
       "name='impaired_kidney_function',\n",
       "kind='risk_factor',\n",
       "gbd_id=reiid(341),\n",
       "distribution='polytomous',\n",
       "affected_causes=[ischemic_heart_disease,ischemic_stroke,hemorrhagic_stroke,peripheral_artery_disease,chronic_kidney_disease_due_to_diabetes_mellitus,chronic_kidney_disease_due_to_hypertension,chronic_kidney_disease_due_to_glomerulonephritis,chronic_kidney_disease_due_to_other_causes,gout],\n",
       "restrictions=Restrictions(\n",
       "male_only=False,\n",
       "female_only=False,\n",
       "yll_only=False,\n",
       "yld_only=False,\n",
       "yll_age_start=None,\n",
       "yll_age_end=None,\n",
       "yld_age_start=None,\n",
       "yld_age_end=None),\n",
       "levels=Levels(\n",
       "cat1='albuminuria',\n",
       "cat2='stage_iii_chronic_kidney_disease',\n",
       "cat3='stage_iv_chronic_kidney_disease',\n",
       "cat4='stage_v_chronic_kidney_disease',\n",
       "cat5='unexposed',\n",
       "cat6=None,\n",
       "cat7=None,\n",
       "cat8=None,\n",
       "cat9=None,\n",
       "cat10=None,\n",
       "cat11=None,\n",
       "cat12=None,\n",
       "cat13=None,\n",
       "cat14=None,\n",
       "cat15=None,\n",
       "cat16=None,\n",
       "cat17=None,\n",
       "cat18=None,\n",
       "cat19=None,\n",
       "cat20=None,\n",
       "cat21=None,\n",
       "cat22=None,\n",
       "cat23=None,\n",
       "cat24=None,\n",
       "cat25=None,\n",
       "cat26=None,\n",
       "cat27=None,\n",
       "cat28=None,\n",
       "cat29=None,\n",
       "cat30=None,\n",
       "cat31=None,\n",
       "cat32=None,\n",
       "cat33=None,\n",
       "cat34=None,\n",
       "cat35=None,\n",
       "cat36=None,\n",
       "cat37=None,\n",
       "cat38=None,\n",
       "cat39=None,\n",
       "cat40=None,\n",
       "cat41=None,\n",
       "cat42=None,\n",
       "cat43=None,\n",
       "cat44=None,\n",
       "cat45=None,\n",
       "cat46=None,\n",
       "cat47=None,\n",
       "cat48=None,\n",
       "cat49=None,\n",
       "cat50=None,\n",
       "cat51=None,\n",
       "cat52=None,\n",
       "cat53=None,\n",
       "cat54=None,\n",
       "cat55=None,\n",
       "cat56=None,\n",
       "cat57=None,\n",
       "cat58=None,\n",
       "cat59=None),\n",
       "tmred=None,\n",
       "exposure_parameters=None)"
      ]
     },
     "execution_count": 24,
     "metadata": {},
     "output_type": "execute_result"
    }
   ],
   "source": [
    "risk_factors.impaired_kidney_function"
   ]
  },
  {
   "cell_type": "code",
   "execution_count": 25,
   "metadata": {
    "collapsed": true
   },
   "outputs": [],
   "source": [
    "# cat1 albuminuria\n",
    "lb_4_cat1, ub_4_cat1 = np.percentile(df4[df4.parameter == 'cat1'].value, 2.5), np.percentile(df4[df4.parameter == 'cat1'].value, 97.5)\n",
    "rr_4_cat1 = df4[df4.parameter == 'cat1'].value.mean()\n",
    "\n",
    "# cat2 stage_iii_chronic_kidney_disease\n",
    "lb_4_cat2, ub_4_cat2 = np.percentile(df4[df4.parameter == 'cat2'].value, 2.5), np.percentile(df4[df4.parameter == 'cat2'].value, 97.5)\n",
    "rr_4_cat2 = df4[df4.parameter == 'cat2'].value.mean()\n",
    "\n",
    "# cat3 stage_iv_chronic_kidney_disease\n",
    "lb_4_cat3, ub_4_cat3 = np.percentile(df4[df4.parameter == 'cat3'].value, 2.5), np.percentile(df4[df4.parameter == 'cat3'].value, 97.5)\n",
    "rr_4_cat3 = df4[df4.parameter == 'cat3'].value.mean()\n",
    "\n",
    "# cat4 stage_v_chronic_kidney_disease\n",
    "lb_4_cat4, ub_4_cat4 = np.percentile(df4[df4.parameter == 'cat4'].value, 2.5), np.percentile(df4[df4.parameter == 'cat4'].value, 97.5)\n",
    "rr_4_cat4 = df4[df4.parameter == 'cat4'].value.mean()\n",
    "\n",
    "# cat5 unexposed"
   ]
  },
  {
   "cell_type": "code",
   "execution_count": 26,
   "metadata": {},
   "outputs": [
    {
     "data": {
      "text/plain": [
       "Text(0, 0.5, 'RR of IHD')"
      ]
     },
     "execution_count": 26,
     "metadata": {},
     "output_type": "execute_result"
    },
    {
     "data": {
      "image/png": "[encoded data removed]",
      "text/plain": [
       "<Figure size 432x288 with 1 Axes>"
      ]
     },
     "metadata": {
      "needs_background": "light"
     },
     "output_type": "display_data"
    }
   ],
   "source": [
    "plt.bar(1, rr_4_cat1, yerr = [[rr_4_cat1 - lb_4_cat1], [ub_4_cat1 - rr_4_cat1]], width = 0.5, capsize = 10, color = 'b')\n",
    "plt.bar(2, rr_4_cat2, yerr = [[rr_4_cat2 - lb_4_cat2], [ub_4_cat2 - rr_4_cat2]], width = 0.5, capsize = 10, color = 'b')\n",
    "plt.bar(3, rr_4_cat3, yerr = [[rr_4_cat3 - lb_4_cat3], [ub_4_cat3 - rr_4_cat3]], width = 0.5, capsize = 10, color = 'b')\n",
    "plt.bar(4, rr_4_cat4, yerr = [[rr_4_cat4 - lb_4_cat4], [ub_4_cat4 - rr_4_cat4]], width = 0.5, capsize = 10, color = 'b')\n",
    "plt.bar(5, 1, width = 0.5, color = 'b')\n",
    "plt.xticks([0.5, 1.5, 2.5, 3.5, 4.5], ['albuminuria', 'stage_III_CKD', 'stage_IV_CKD', 'stage_V_CKD', 'unexposed'], rotation = 45)\n",
    "plt.xlabel('IKF')\n",
    "plt.ylabel('RR of IHD')"
   ]
  },
  {
   "cell_type": "markdown",
   "metadata": {},
   "source": [
    "# Sex will not affect RR value, Age dose\n",
    "# Unexposed RR value is a fixed number = 1"
   ]
  },
  {
   "cell_type": "code",
   "execution_count": null,
   "metadata": {
    "collapsed": true
   },
   "outputs": [],
   "source": []
  }
 ],
 "metadata": {
  "anaconda-cloud": {},
  "kernelspec": {
   "display_name": "Python 3",
   "language": "python",
   "name": "python3"
  },
  "language_info": {
   "codemirror_mode": {
    "name": "ipython",
    "version": 3
   },
   "file_extension": ".py",
   "mimetype": "text/x-python",
   "name": "python",
   "nbconvert_exporter": "python",
   "pygments_lexer": "ipython3",
   "version": "3.6.10"
  }
 },
 "nbformat": 4,
 "nbformat_minor": 2
}
