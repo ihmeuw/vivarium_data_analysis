{
 "cells": [
  {
   "cell_type": "code",
   "execution_count": 1,
   "metadata": {},
   "outputs": [],
   "source": [
    "import pandas as pd\n",
    "import numpy as np\n",
    "import os\n",
    "from pathlib import Path\n",
    "from db_queries import get_outputs, get_ids, get_model_results, get_population\n",
    "import matplotlib.pyplot as plt\n",
    "import seaborn as sns\n",
    "import glob\n",
    "import gbd_mapping\n",
    "from matplotlib.backends.backend_pdf import PdfPages\n",
    "pd.set_option('use_inf_as_na', True)\n",
    "sns.set(context = 'paper', style='whitegrid', font_scale=1.8, rc = {'axes.spines.right':False, 'axes.spines.top': False, 'figure.figsize':(12.7,8.6)}, palette='Set1')\n"
   ]
  },
  {
   "cell_type": "markdown",
   "metadata": {},
   "source": [
    "# TO-DO\n",
    "\n",
    "* check in with RT about results from table 4 probability...most values are too low...are the calculations wrong?\n",
    "* put code in github\n",
    "\n",
    "#### Instructions\n",
    "\n",
    "* Before you begin, download and save the 'treatment_initialization.hdf' file Rajan shared in the vivarium_csu_zenon slack channel\n",
    "* Each row will be a simulant, each column will be for ‘statin - high', ‘statin - low’, ‘ezetimibe’, ‘fibrates’, and ‘FDC’ and their LDL-level. \n",
    "* What I’ll need to check is that the initialization matches up what we expect it to be, based on their LDL-level (in their location).  \n",
    "* Their treatment status should be a direct function of their LDL (with some randomness). \n",
    "* I should see numbers that match with Table 2: Probability of Rx given high LDL-C = prob(Rx | LDL-C > 4.9) and Table 6: Current treatment practice - distribution by drug type  and Table 8: Distribution of therapy type.  "
   ]
  },
  {
   "cell_type": "code",
   "execution_count": 3,
   "metadata": {},
   "outputs": [],
   "source": [
    "df = pd.read_hdf('treatment_initialization.hdf')\n",
    "df['location'] = 'brazil'\n"
   ]
  },
  {
   "cell_type": "code",
   "execution_count": 7,
   "metadata": {},
   "outputs": [
    {
     "data": {
      "text/html": [
       "<div>\n",
       "<style scoped>\n",
       "    .dataframe tbody tr th:only-of-type {\n",
       "        vertical-align: middle;\n",
       "    }\n",
       "\n",
       "    .dataframe tbody tr th {\n",
       "        vertical-align: top;\n",
       "    }\n",
       "\n",
       "    .dataframe thead th {\n",
       "        text-align: right;\n",
       "    }\n",
       "</style>\n",
       "<table border=\"1\" class=\"dataframe\">\n",
       "  <thead>\n",
       "    <tr style=\"text-align: right;\">\n",
       "      <th></th>\n",
       "      <th>ezetimibe</th>\n",
       "      <th>fibrates</th>\n",
       "      <th>high_potency_statin</th>\n",
       "      <th>low_potency_statin</th>\n",
       "      <th>fdc</th>\n",
       "      <th>ldl_c</th>\n",
       "      <th>location</th>\n",
       "    </tr>\n",
       "  </thead>\n",
       "  <tbody>\n",
       "    <tr>\n",
       "      <th>0</th>\n",
       "      <td>False</td>\n",
       "      <td>False</td>\n",
       "      <td>none</td>\n",
       "      <td>none</td>\n",
       "      <td>False</td>\n",
       "      <td>4.745900</td>\n",
       "      <td>brazil</td>\n",
       "    </tr>\n",
       "    <tr>\n",
       "      <th>1</th>\n",
       "      <td>False</td>\n",
       "      <td>False</td>\n",
       "      <td>none</td>\n",
       "      <td>none</td>\n",
       "      <td>False</td>\n",
       "      <td>4.165209</td>\n",
       "      <td>brazil</td>\n",
       "    </tr>\n",
       "    <tr>\n",
       "      <th>2</th>\n",
       "      <td>False</td>\n",
       "      <td>False</td>\n",
       "      <td>none</td>\n",
       "      <td>none</td>\n",
       "      <td>False</td>\n",
       "      <td>4.705233</td>\n",
       "      <td>brazil</td>\n",
       "    </tr>\n",
       "    <tr>\n",
       "      <th>3</th>\n",
       "      <td>False</td>\n",
       "      <td>False</td>\n",
       "      <td>none</td>\n",
       "      <td>none</td>\n",
       "      <td>False</td>\n",
       "      <td>3.570518</td>\n",
       "      <td>brazil</td>\n",
       "    </tr>\n",
       "    <tr>\n",
       "      <th>4</th>\n",
       "      <td>False</td>\n",
       "      <td>False</td>\n",
       "      <td>none</td>\n",
       "      <td>none</td>\n",
       "      <td>False</td>\n",
       "      <td>2.949887</td>\n",
       "      <td>brazil</td>\n",
       "    </tr>\n",
       "  </tbody>\n",
       "</table>\n",
       "</div>"
      ],
      "text/plain": [
       "   ezetimibe  fibrates high_potency_statin low_potency_statin    fdc  \\\n",
       "0      False     False                none               none  False   \n",
       "1      False     False                none               none  False   \n",
       "2      False     False                none               none  False   \n",
       "3      False     False                none               none  False   \n",
       "4      False     False                none               none  False   \n",
       "\n",
       "      ldl_c location  \n",
       "0  4.745900   brazil  \n",
       "1  4.165209   brazil  \n",
       "2  4.705233   brazil  \n",
       "3  3.570518   brazil  \n",
       "4  2.949887   brazil  "
      ]
     },
     "execution_count": 7,
     "metadata": {},
     "output_type": "execute_result"
    }
   ],
   "source": [
    "df.head()"
   ]
  },
  {
   "cell_type": "markdown",
   "metadata": {},
   "source": [
    "## Table 2 validation"
   ]
  },
  {
   "cell_type": "code",
   "execution_count": 4,
   "metadata": {},
   "outputs": [
    {
     "data": {
      "text/plain": [
       "0.5239282304626529"
      ]
     },
     "execution_count": 4,
     "metadata": {},
     "output_type": "execute_result"
    }
   ],
   "source": [
    "# query the df for the population who is on treatment of either ezetimibe, fibrates, fdc, and the high/low potency statin options of 'low'/'high'\n",
    "population_treated = df[(df.ezetimibe == True) | (df.fibrates == True) | (df.fdc == True) | (df.high_potency_statin == 'low') | (df.high_potency_statin == 'high') | (df.low_potency_statin == 'low') | (df.low_potency_statin == 'high')]\n",
    "# query the df for the population who is not on treatment of either ezetimibe, fibrates, fdc, and the high/low potency statin options of 'low'/'high' setting all options to False or 'none'\n",
    "population_untreated_and_high_ldlc = df[(df.ldl_c >= 5.0) & ((df.ezetimibe == False) & (df.fibrates == False) & (df.fdc == False) & (df.high_potency_statin == 'none') & (df.high_potency_statin == 'none') & (df.low_potency_statin == 'none') & (df.low_potency_statin == 'none'))]\n",
    "# creating a variable of count of population treated\n",
    "population_treated_ct = len(population_treated)\n",
    "# creating a variable of count of population untreated and high LDL-c\n",
    "population_untreated_and_high_ldlc_ct = len(population_untreated_and_high_ldlc)\n",
    "# calculating table 2 validation check  \n",
    "population_treated_ct / (population_treated_ct + population_untreated_and_high_ldlc_ct)\n"
   ]
  },
  {
   "cell_type": "markdown",
   "metadata": {},
   "source": [
    "## Table 6 validation"
   ]
  },
  {
   "cell_type": "markdown",
   "metadata": {},
   "source": [
    "### investigating the data"
   ]
  },
  {
   "cell_type": "code",
   "execution_count": 106,
   "metadata": {},
   "outputs": [
    {
     "data": {
      "text/plain": [
       "array(['none', 'low'], dtype=object)"
      ]
     },
     "execution_count": 106,
     "metadata": {},
     "output_type": "execute_result"
    }
   ],
   "source": [
    "df['high_potency_statin'].unique()"
   ]
  },
  {
   "cell_type": "code",
   "execution_count": 105,
   "metadata": {
    "scrolled": true
   },
   "outputs": [
    {
     "data": {
      "text/plain": [
       "array(['none', 'high'], dtype=object)"
      ]
     },
     "execution_count": 105,
     "metadata": {},
     "output_type": "execute_result"
    }
   ],
   "source": [
    "df['low_potency_statin'].unique()"
   ]
  },
  {
   "cell_type": "code",
   "execution_count": 5,
   "metadata": {},
   "outputs": [],
   "source": [
    "# update dict so it doesn't require knowing the ordering\n",
    "\n",
    "ezetimibe = df[(df.ezetimibe == True)]\n",
    "population_treated = df[(df.ezetimibe == True) | (df.fibrates == True) | (df.fdc == True) | (df.high_potency_statin == 'low') | (df.high_potency_statin == 'high') | (df.low_potency_statin == 'low') | (df.low_potency_statin == 'high')]\n",
    "pct_ezetimibe = len(ezetimibe) / population_treated_ct\n",
    "fibrates = df[(df.fibrates == True)]\n",
    "pct_fibrates = len(fibrates) / population_treated_ct\n",
    "high_potency_statin = df[(df.high_potency_statin != 'none')]\n",
    "pct_high_potency_statin = len(high_potency_statin) / population_treated_ct\n",
    "low_potency_statin = df[(df.low_potency_statin != 'none')]\n",
    "pct_low_potency_statin = len(low_potency_statin) / population_treated_ct\n",
    "table_6_dict = {'current_prescription':['% on ezetimibe', '% on fibrates', '% on high potency statins', '% on low potency statins'], \n",
    "                'location':'brazil', \n",
    "                'mean_value': [pct_ezetimibe, pct_fibrates, \n",
    "                pct_high_potency_statin, pct_low_potency_statin]}\n",
    "table_6_df = pd.DataFrame(data=table_6_dict)\n"
   ]
  },
  {
   "cell_type": "code",
   "execution_count": 6,
   "metadata": {},
   "outputs": [
    {
     "data": {
      "text/html": [
       "<div>\n",
       "<style scoped>\n",
       "    .dataframe tbody tr th:only-of-type {\n",
       "        vertical-align: middle;\n",
       "    }\n",
       "\n",
       "    .dataframe tbody tr th {\n",
       "        vertical-align: top;\n",
       "    }\n",
       "\n",
       "    .dataframe thead th {\n",
       "        text-align: right;\n",
       "    }\n",
       "</style>\n",
       "<table border=\"1\" class=\"dataframe\">\n",
       "  <thead>\n",
       "    <tr style=\"text-align: right;\">\n",
       "      <th></th>\n",
       "      <th>current_prescription</th>\n",
       "      <th>location</th>\n",
       "      <th>mean_value</th>\n",
       "    </tr>\n",
       "  </thead>\n",
       "  <tbody>\n",
       "    <tr>\n",
       "      <th>0</th>\n",
       "      <td>% on ezetimibe</td>\n",
       "      <td>brazil</td>\n",
       "      <td>0.341425</td>\n",
       "    </tr>\n",
       "    <tr>\n",
       "      <th>1</th>\n",
       "      <td>% on fibrates</td>\n",
       "      <td>brazil</td>\n",
       "      <td>0.063987</td>\n",
       "    </tr>\n",
       "    <tr>\n",
       "      <th>2</th>\n",
       "      <td>% on high potency statins</td>\n",
       "      <td>brazil</td>\n",
       "      <td>0.544217</td>\n",
       "    </tr>\n",
       "    <tr>\n",
       "      <th>3</th>\n",
       "      <td>% on low potency statins</td>\n",
       "      <td>brazil</td>\n",
       "      <td>0.342922</td>\n",
       "    </tr>\n",
       "  </tbody>\n",
       "</table>\n",
       "</div>"
      ],
      "text/plain": [
       "        current_prescription location  mean_value\n",
       "0             % on ezetimibe   brazil    0.341425\n",
       "1              % on fibrates   brazil    0.063987\n",
       "2  % on high potency statins   brazil    0.544217\n",
       "3   % on low potency statins   brazil    0.342922"
      ]
     },
     "execution_count": 6,
     "metadata": {},
     "output_type": "execute_result"
    }
   ],
   "source": [
    "table_6_df"
   ]
  },
  {
   "cell_type": "markdown",
   "metadata": {},
   "source": [
    "### Table 8 validation"
   ]
  },
  {
   "cell_type": "markdown",
   "metadata": {},
   "source": [
    "### Taking notes from Abie's instructions:\n",
    "\n",
    "percent_on_monotherapy = / population_treated\n"
   ]
  },
  {
   "cell_type": "code",
   "execution_count": 66,
   "metadata": {},
   "outputs": [],
   "source": [
    "rx_map = {'rx':{False:0, True:1, 'none': 0, 'low':1, 'high':1}}\n",
    "column_list = ['ezetimibe', 'fibrates','fdc', 'high_potency_statin', 'low_potency_statin']\n",
    "# population_monotherapy = df[(df.ezetimibe == True) + (df.fibrates == True) + (df.fdc == True) + \n",
    "#                         (df.high_potency_statin == 'low') \n",
    "#                         + (df.high_potency_statin == 'high') + (df.low_potency_statin == 'low') + (df.low_potency_statin == 'high')]\n",
    "# number_of_drugs = (1*0(df.ezetimibe == True) + 1.0*(df.fibrates == True) + 1.0*(df.fdc == True) \n",
    "#                    + 1.0*(df.high_potency_statin == 'low') + 1.0*(df.high_potency_statin == 'high') \n",
    "#                    + 1.0*(df.low_potency_statin == 'low') + 1.0*(df.low_potency_statin == 'high'))\n",
    "df['ezetimibe'] = df.ezetimibe.map(rx_map['rx'])\n",
    "df['fibrates'] = df.fibrates.map(rx_map['rx'])\n",
    "df['fdc'] = df.fdc.map(rx_map['rx'])\n",
    "df['high_potency_statin'] = df.high_potency_statin.map(rx_map['rx'])\n",
    "df['low_potency_statin'] = df.low_potency_statin.map(rx_map['rx'])\n",
    "df['number_of_drugs'] = df[column_list].sum(axis=1)\n",
    "population_monotherapy = len(df[df.number_of_drugs == 1])\n",
    "population_multidrugs = len(df[df.number_of_drugs >1])\n",
    "pct_monotherapy = population_monotherapy / population_treated_ct\n",
    "pct_multidrugs = population_multidrugs / population_treated_ct\n",
    "population_fdc_multidrug = len(df[(df.fdc == 1) & (df.number_of_drugs > 1)])\n",
    "pct_fdc_multidrug = population_fdc_multidrug / population_treated_ct\n"
   ]
  },
  {
   "cell_type": "code",
   "execution_count": 68,
   "metadata": {},
   "outputs": [],
   "source": [
    "table_8_dict = {'current_prescription':['% on monotherapy', '% on multi-drugs', '% on FDC if multi drug'], \n",
    "                'location':'brazil', \n",
    "                'mean_value': [pct_monotherapy, pct_multidrugs, pct_fdc_multidrug]}\n",
    "table_8_df = pd.DataFrame(data=table_8_dict)\n"
   ]
  },
  {
   "cell_type": "code",
   "execution_count": 69,
   "metadata": {},
   "outputs": [
    {
     "data": {
      "text/html": [
       "<div>\n",
       "<style scoped>\n",
       "    .dataframe tbody tr th:only-of-type {\n",
       "        vertical-align: middle;\n",
       "    }\n",
       "\n",
       "    .dataframe tbody tr th {\n",
       "        vertical-align: top;\n",
       "    }\n",
       "\n",
       "    .dataframe thead th {\n",
       "        text-align: right;\n",
       "    }\n",
       "</style>\n",
       "<table border=\"1\" class=\"dataframe\">\n",
       "  <thead>\n",
       "    <tr style=\"text-align: right;\">\n",
       "      <th></th>\n",
       "      <th>current_prescription</th>\n",
       "      <th>location</th>\n",
       "      <th>mean_value</th>\n",
       "    </tr>\n",
       "  </thead>\n",
       "  <tbody>\n",
       "    <tr>\n",
       "      <th>0</th>\n",
       "      <td>% on monotherapy</td>\n",
       "      <td>brazil</td>\n",
       "      <td>0.707449</td>\n",
       "    </tr>\n",
       "    <tr>\n",
       "      <th>1</th>\n",
       "      <td>% on multi-drugs</td>\n",
       "      <td>brazil</td>\n",
       "      <td>0.292551</td>\n",
       "    </tr>\n",
       "    <tr>\n",
       "      <th>2</th>\n",
       "      <td>% on FDC if multi drug</td>\n",
       "      <td>brazil</td>\n",
       "      <td>0.168301</td>\n",
       "    </tr>\n",
       "  </tbody>\n",
       "</table>\n",
       "</div>"
      ],
      "text/plain": [
       "     current_prescription location  mean_value\n",
       "0        % on monotherapy   brazil    0.707449\n",
       "1        % on multi-drugs   brazil    0.292551\n",
       "2  % on FDC if multi drug   brazil    0.168301"
      ]
     },
     "execution_count": 69,
     "metadata": {},
     "output_type": "execute_result"
    }
   ],
   "source": [
    "table_8_df"
   ]
  },
  {
   "cell_type": "markdown",
   "metadata": {},
   "source": [
    "### Adherence"
   ]
  },
  {
   "cell_type": "code",
   "execution_count": 2,
   "metadata": {},
   "outputs": [],
   "source": [
    "df = pd.read_hdf('adherence.hdf')\n",
    "df['location'] = 'italy'\n"
   ]
  },
  {
   "cell_type": "code",
   "execution_count": 3,
   "metadata": {},
   "outputs": [
    {
     "data": {
      "text/html": [
       "<div>\n",
       "<style scoped>\n",
       "    .dataframe tbody tr th:only-of-type {\n",
       "        vertical-align: middle;\n",
       "    }\n",
       "\n",
       "    .dataframe tbody tr th {\n",
       "        vertical-align: top;\n",
       "    }\n",
       "\n",
       "    .dataframe thead th {\n",
       "        text-align: right;\n",
       "    }\n",
       "</style>\n",
       "<table border=\"1\" class=\"dataframe\">\n",
       "  <thead>\n",
       "    <tr style=\"text-align: right;\">\n",
       "      <th></th>\n",
       "      <th>ezetimibe</th>\n",
       "      <th>fibrates</th>\n",
       "      <th>high_potency_statin</th>\n",
       "      <th>low_potency_statin</th>\n",
       "      <th>fdc</th>\n",
       "      <th>ischemic_heart_disease</th>\n",
       "      <th>ischemic_stroke</th>\n",
       "      <th>adherent</th>\n",
       "      <th>location</th>\n",
       "    </tr>\n",
       "  </thead>\n",
       "  <tbody>\n",
       "    <tr>\n",
       "      <th>0</th>\n",
       "      <td>False</td>\n",
       "      <td>False</td>\n",
       "      <td>none</td>\n",
       "      <td>none</td>\n",
       "      <td>False</td>\n",
       "      <td>susceptible_to_ischemic_heart_disease</td>\n",
       "      <td>susceptible_to_ischemic_stroke</td>\n",
       "      <td>False</td>\n",
       "      <td>italy</td>\n",
       "    </tr>\n",
       "    <tr>\n",
       "      <th>1</th>\n",
       "      <td>False</td>\n",
       "      <td>False</td>\n",
       "      <td>none</td>\n",
       "      <td>none</td>\n",
       "      <td>False</td>\n",
       "      <td>susceptible_to_ischemic_heart_disease</td>\n",
       "      <td>susceptible_to_ischemic_stroke</td>\n",
       "      <td>False</td>\n",
       "      <td>italy</td>\n",
       "    </tr>\n",
       "    <tr>\n",
       "      <th>2</th>\n",
       "      <td>False</td>\n",
       "      <td>False</td>\n",
       "      <td>none</td>\n",
       "      <td>none</td>\n",
       "      <td>False</td>\n",
       "      <td>susceptible_to_ischemic_heart_disease</td>\n",
       "      <td>susceptible_to_ischemic_stroke</td>\n",
       "      <td>False</td>\n",
       "      <td>italy</td>\n",
       "    </tr>\n",
       "    <tr>\n",
       "      <th>3</th>\n",
       "      <td>False</td>\n",
       "      <td>False</td>\n",
       "      <td>none</td>\n",
       "      <td>none</td>\n",
       "      <td>False</td>\n",
       "      <td>susceptible_to_ischemic_heart_disease</td>\n",
       "      <td>susceptible_to_ischemic_stroke</td>\n",
       "      <td>False</td>\n",
       "      <td>italy</td>\n",
       "    </tr>\n",
       "    <tr>\n",
       "      <th>4</th>\n",
       "      <td>False</td>\n",
       "      <td>False</td>\n",
       "      <td>none</td>\n",
       "      <td>none</td>\n",
       "      <td>False</td>\n",
       "      <td>susceptible_to_ischemic_heart_disease</td>\n",
       "      <td>susceptible_to_ischemic_stroke</td>\n",
       "      <td>False</td>\n",
       "      <td>italy</td>\n",
       "    </tr>\n",
       "  </tbody>\n",
       "</table>\n",
       "</div>"
      ],
      "text/plain": [
       "   ezetimibe  fibrates high_potency_statin low_potency_statin    fdc  \\\n",
       "0      False     False                none               none  False   \n",
       "1      False     False                none               none  False   \n",
       "2      False     False                none               none  False   \n",
       "3      False     False                none               none  False   \n",
       "4      False     False                none               none  False   \n",
       "\n",
       "                  ischemic_heart_disease                 ischemic_stroke  \\\n",
       "0  susceptible_to_ischemic_heart_disease  susceptible_to_ischemic_stroke   \n",
       "1  susceptible_to_ischemic_heart_disease  susceptible_to_ischemic_stroke   \n",
       "2  susceptible_to_ischemic_heart_disease  susceptible_to_ischemic_stroke   \n",
       "3  susceptible_to_ischemic_heart_disease  susceptible_to_ischemic_stroke   \n",
       "4  susceptible_to_ischemic_heart_disease  susceptible_to_ischemic_stroke   \n",
       "\n",
       "   adherent location  \n",
       "0     False    italy  \n",
       "1     False    italy  \n",
       "2     False    italy  \n",
       "3     False    italy  \n",
       "4     False    italy  "
      ]
     },
     "execution_count": 3,
     "metadata": {},
     "output_type": "execute_result"
    }
   ],
   "source": [
    "df.head()"
   ]
  },
  {
   "cell_type": "code",
   "execution_count": 13,
   "metadata": {},
   "outputs": [],
   "source": [
    "rx_map = {'rx':{False:0, True:1, 'none': 0, 'low':1, 'high':1}}\n",
    "column_list = ['ezetimibe', 'fibrates','fdc', 'high_potency_statin', 'low_potency_statin']\n",
    "df['ezetimibe'] = df.ezetimibe.map(rx_map['rx'])\n",
    "df['fibrates'] = df.fibrates.map(rx_map['rx'])\n",
    "df['fdc'] = df.fdc.map(rx_map['rx'])\n",
    "df['high_potency_statin'] = df.high_potency_statin.map(rx_map['rx'])\n",
    "df['low_potency_statin'] = df.low_potency_statin.map(rx_map['rx'])\n",
    "df['number_of_drugs'] = df[column_list].sum(axis=1)\n",
    "# i'm assuming that the count of individuals who are adherent are those where adherent is true\n",
    "pop_adherent_ct = len(df[(df.adherent == True)])\n",
    "\n",
    "# i'm assuming that the count of individuals who are adherent, one pill, with no MI are those that are 'susceptible to IHD'\n",
    "pct_pop_adherent_one_pill_no_mi_ct = len(df[(df.number_of_drugs == 1) & \n",
    "                                 (df.ischemic_heart_disease == 'susceptible_to_ischemic_heart_disease')\n",
    "                                & (df.adherent == True)]) / pop_adherent_ct\n",
    "\n",
    "# i'm assuming that the count of individuals who are adherent, one pill, with no MI are those that are 'susceptible to IHD'\n",
    "pct_pop_adherent_multi_pill_no_mi = len(df[(df.number_of_drugs > 1) & \n",
    "                                 (df.ischemic_heart_disease == 'susceptible_to_ischemic_heart_disease')\n",
    "                                & (df.adherent == True)]) / pop_adherent_ct\n",
    "\n",
    "# i'm assuming that the count of individuals who are adherent, one pill, with MI are those that are not 'susceptible to IHD'\n",
    "pct_pop_adherent_mi_one_pill = len(df[(df.number_of_drugs == 1) & \n",
    "                                 (df.ischemic_heart_disease != 'susceptible_to_ischemic_heart_disease')\n",
    "                                & (df.adherent == True)]) / pop_adherent_ct\n",
    "\n",
    "# i'm assuming that the count of individuals who are adherent, multi pills, with MI are those that are not 'susceptible to IHD'\n",
    "pct_pop_adherent_mi_multi_pill = len(df[(df.number_of_drugs > 1) & \n",
    "                                 (df.ischemic_heart_disease != 'susceptible_to_ischemic_heart_disease')\n",
    "                                & (df.adherent == True)]) / pop_adherent_ct\n",
    "\n",
    "table_4_dict = {'adherence_parameter':['Adherence - one pill, no MI', \n",
    "                                       'Adherence - multi-pill, no MI', 'Adherence after MI (one pill)', \n",
    "                                       'Adherence after MI (multi-pill)'], \n",
    "                'location':'italy', \n",
    "                'mean_value': [pct_pop_adherent_one_pill_no_mi_ct, pct_pop_adherent_multi_pill_no_mi, \n",
    "                               pct_pop_adherent_mi_one_pill, pct_pop_adherent_mi_multi_pill]}\n",
    "table_4_df = pd.DataFrame(data=table_4_dict)\n"
   ]
  },
  {
   "cell_type": "code",
   "execution_count": 14,
   "metadata": {},
   "outputs": [
    {
     "data": {
      "text/html": [
       "<div>\n",
       "<style scoped>\n",
       "    .dataframe tbody tr th:only-of-type {\n",
       "        vertical-align: middle;\n",
       "    }\n",
       "\n",
       "    .dataframe tbody tr th {\n",
       "        vertical-align: top;\n",
       "    }\n",
       "\n",
       "    .dataframe thead th {\n",
       "        text-align: right;\n",
       "    }\n",
       "</style>\n",
       "<table border=\"1\" class=\"dataframe\">\n",
       "  <thead>\n",
       "    <tr style=\"text-align: right;\">\n",
       "      <th></th>\n",
       "      <th>adherence_parameter</th>\n",
       "      <th>location</th>\n",
       "      <th>mean_value</th>\n",
       "    </tr>\n",
       "  </thead>\n",
       "  <tbody>\n",
       "    <tr>\n",
       "      <th>0</th>\n",
       "      <td>Adherence - one pill, no MI</td>\n",
       "      <td>italy</td>\n",
       "      <td>0.773114</td>\n",
       "    </tr>\n",
       "    <tr>\n",
       "      <th>1</th>\n",
       "      <td>Adherence - multi-pill, no MI</td>\n",
       "      <td>italy</td>\n",
       "      <td>0.163018</td>\n",
       "    </tr>\n",
       "    <tr>\n",
       "      <th>2</th>\n",
       "      <td>Adherence after MI (one pill)</td>\n",
       "      <td>italy</td>\n",
       "      <td>0.051203</td>\n",
       "    </tr>\n",
       "    <tr>\n",
       "      <th>3</th>\n",
       "      <td>Adherence after MI (multi-pill)</td>\n",
       "      <td>italy</td>\n",
       "      <td>0.012665</td>\n",
       "    </tr>\n",
       "  </tbody>\n",
       "</table>\n",
       "</div>"
      ],
      "text/plain": [
       "               adherence_parameter location  mean_value\n",
       "0      Adherence - one pill, no MI    italy    0.773114\n",
       "1    Adherence - multi-pill, no MI    italy    0.163018\n",
       "2    Adherence after MI (one pill)    italy    0.051203\n",
       "3  Adherence after MI (multi-pill)    italy    0.012665"
      ]
     },
     "execution_count": 14,
     "metadata": {},
     "output_type": "execute_result"
    }
   ],
   "source": [
    "table_4_df"
   ]
  },
  {
   "cell_type": "code",
   "execution_count": null,
   "metadata": {},
   "outputs": [],
   "source": []
  }
 ],
 "metadata": {
  "kernelspec": {
   "display_name": "Python 3",
   "language": "python",
   "name": "python3"
  },
  "language_info": {
   "codemirror_mode": {
    "name": "ipython",
    "version": 3
   },
   "file_extension": ".py",
   "mimetype": "text/x-python",
   "name": "python",
   "nbconvert_exporter": "python",
   "pygments_lexer": "ipython3",
   "version": "3.6.10"
  }
 },
 "nbformat": 4,
 "nbformat_minor": 4
}
