{
 "cells": [
  {
   "cell_type": "code",
   "execution_count": 4,
   "metadata": {},
   "outputs": [],
   "source": [
    "import pandas as pd\n",
    "import numpy as np\n",
    "import os\n",
    "from pathlib import Path\n",
    "from db_queries import get_outputs, get_ids, get_model_results, get_population\n",
    "import matplotlib.pyplot as plt\n",
    "import seaborn as sns\n",
    "import glob\n",
    "import gbd_mapping\n",
    "from matplotlib.backends.backend_pdf import PdfPages\n",
    "pd.set_option('use_inf_as_na', True)\n",
    "sns.set(context = 'paper', style='whitegrid', font_scale=1.8, rc = {'axes.spines.right':False, 'axes.spines.top': False, 'figure.figsize':(12.7,8.6)}, palette='Set1')\n"
   ]
  },
  {
   "cell_type": "markdown",
   "metadata": {},
   "source": [
    "#### Instructions\n",
    "\n",
    "* Before you begin, download and save the 'treatment_initialization.hdf' file Rajan shared in the vivarium_csu_zenon slack channel\n",
    "* Each row will be a simulant, each column will be for ‘statin - high', ‘statin - low’, ‘ezetimibe’, ‘fibrates’, and ‘FDC’ and their LDL-level. \n",
    "* What I’ll need to check is that the initialization matches up what we expect it to be, based on their LDL-level (in their location).  \n",
    "* Their treatment status should be a direct function of their LDL (with some randomness). \n",
    "* I should see numbers that match with Table 2: Probability of Rx given high LDL-C = prob(Rx | LDL-C > 4.9) and Table 6: Current treatment practice - distribution by drug type  and Table 8: Distribution of therapy type.  "
   ]
  },
  {
   "cell_type": "code",
   "execution_count": 5,
   "metadata": {},
   "outputs": [],
   "source": [
    "df = pd.read_hdf('treatment_initialization.hdf')\n",
    "df['location'] = 'brazil'\n"
   ]
  },
  {
   "cell_type": "code",
   "execution_count": 7,
   "metadata": {},
   "outputs": [
    {
     "data": {
      "text/html": [
       "<div>\n",
       "<style scoped>\n",
       "    .dataframe tbody tr th:only-of-type {\n",
       "        vertical-align: middle;\n",
       "    }\n",
       "\n",
       "    .dataframe tbody tr th {\n",
       "        vertical-align: top;\n",
       "    }\n",
       "\n",
       "    .dataframe thead th {\n",
       "        text-align: right;\n",
       "    }\n",
       "</style>\n",
       "<table border=\"1\" class=\"dataframe\">\n",
       "  <thead>\n",
       "    <tr style=\"text-align: right;\">\n",
       "      <th></th>\n",
       "      <th>ezetimibe</th>\n",
       "      <th>fibrates</th>\n",
       "      <th>high_potency_statin</th>\n",
       "      <th>low_potency_statin</th>\n",
       "      <th>fdc</th>\n",
       "      <th>ldl_c</th>\n",
       "      <th>location</th>\n",
       "    </tr>\n",
       "  </thead>\n",
       "  <tbody>\n",
       "    <tr>\n",
       "      <th>0</th>\n",
       "      <td>False</td>\n",
       "      <td>False</td>\n",
       "      <td>none</td>\n",
       "      <td>none</td>\n",
       "      <td>False</td>\n",
       "      <td>4.745900</td>\n",
       "      <td>brazil</td>\n",
       "    </tr>\n",
       "    <tr>\n",
       "      <th>1</th>\n",
       "      <td>False</td>\n",
       "      <td>False</td>\n",
       "      <td>none</td>\n",
       "      <td>none</td>\n",
       "      <td>False</td>\n",
       "      <td>4.165209</td>\n",
       "      <td>brazil</td>\n",
       "    </tr>\n",
       "    <tr>\n",
       "      <th>2</th>\n",
       "      <td>False</td>\n",
       "      <td>False</td>\n",
       "      <td>none</td>\n",
       "      <td>none</td>\n",
       "      <td>False</td>\n",
       "      <td>4.705233</td>\n",
       "      <td>brazil</td>\n",
       "    </tr>\n",
       "    <tr>\n",
       "      <th>3</th>\n",
       "      <td>False</td>\n",
       "      <td>False</td>\n",
       "      <td>none</td>\n",
       "      <td>none</td>\n",
       "      <td>False</td>\n",
       "      <td>3.570518</td>\n",
       "      <td>brazil</td>\n",
       "    </tr>\n",
       "    <tr>\n",
       "      <th>4</th>\n",
       "      <td>False</td>\n",
       "      <td>False</td>\n",
       "      <td>none</td>\n",
       "      <td>none</td>\n",
       "      <td>False</td>\n",
       "      <td>2.949887</td>\n",
       "      <td>brazil</td>\n",
       "    </tr>\n",
       "  </tbody>\n",
       "</table>\n",
       "</div>"
      ],
      "text/plain": [
       "   ezetimibe  fibrates high_potency_statin low_potency_statin    fdc  \\\n",
       "0      False     False                none               none  False   \n",
       "1      False     False                none               none  False   \n",
       "2      False     False                none               none  False   \n",
       "3      False     False                none               none  False   \n",
       "4      False     False                none               none  False   \n",
       "\n",
       "      ldl_c location  \n",
       "0  4.745900   brazil  \n",
       "1  4.165209   brazil  \n",
       "2  4.705233   brazil  \n",
       "3  3.570518   brazil  \n",
       "4  2.949887   brazil  "
      ]
     },
     "execution_count": 7,
     "metadata": {},
     "output_type": "execute_result"
    }
   ],
   "source": [
    "df.head()"
   ]
  },
  {
   "cell_type": "markdown",
   "metadata": {},
   "source": [
    "## Table 2 validation"
   ]
  },
  {
   "cell_type": "code",
   "execution_count": 3,
   "metadata": {},
   "outputs": [
    {
     "data": {
      "text/plain": [
       "0.40165198525759993"
      ]
     },
     "execution_count": 3,
     "metadata": {},
     "output_type": "execute_result"
    }
   ],
   "source": [
    "# query the df for the population who is on treatment of either ezetimibe, fibrates, fdc, and the high/low potency statin options of 'low'/'high'\n",
    "population_treated = df[(df.ezetimibe == True) | (df.fibrates == True) | (df.fdc == True) | (df.high_potency_statin == 'low') | (df.high_potency_statin == 'high') | (df.low_potency_statin == 'low') | (df.low_potency_statin == 'high')]\n",
    "# query the df for the population who is not on treatment of either ezetimibe, fibrates, fdc, and the high/low potency statin options of 'low'/'high' setting all options to False or 'none'\n",
    "population_untreated_and_high_ldlc = df[(df.ldl_c > 4.9) & ((df.ezetimibe == False) | (df.fibrates == False) | (df.fdc == False) | (df.high_potency_statin == 'none') | (df.high_potency_statin == 'none') | (df.low_potency_statin == 'none') | (df.low_potency_statin == 'none'))]\n",
    "# creating a variable of count of population treated\n",
    "population_treated_ct = len(population_treated)\n",
    "# creating a variable of count of population untreated and high LDL-c\n",
    "population_untreated_and_high_ldlc_ct = len(population_untreated_and_high_ldlc)\n",
    "# calculating table 2 validation check  \n",
    "population_treated_ct / (population_treated_ct + population_untreated_and_high_ldlc_ct)\n"
   ]
  },
  {
   "cell_type": "markdown",
   "metadata": {},
   "source": [
    "## Table 6 validation"
   ]
  },
  {
   "cell_type": "markdown",
   "metadata": {},
   "source": [
    "### investigating the data"
   ]
  },
  {
   "cell_type": "code",
   "execution_count": 106,
   "metadata": {},
   "outputs": [
    {
     "data": {
      "text/plain": [
       "array(['none', 'low'], dtype=object)"
      ]
     },
     "execution_count": 106,
     "metadata": {},
     "output_type": "execute_result"
    }
   ],
   "source": [
    "df['high_potency_statin'].unique()"
   ]
  },
  {
   "cell_type": "code",
   "execution_count": 105,
   "metadata": {
    "scrolled": true
   },
   "outputs": [
    {
     "data": {
      "text/plain": [
       "array(['none', 'high'], dtype=object)"
      ]
     },
     "execution_count": 105,
     "metadata": {},
     "output_type": "execute_result"
    }
   ],
   "source": [
    "df['low_potency_statin'].unique()"
   ]
  },
  {
   "cell_type": "code",
   "execution_count": 119,
   "metadata": {},
   "outputs": [],
   "source": [
    "ezetimibe = df[(df.ezetimibe == True)]\n",
    "population_treated = df[(df.ezetimibe == True) | (df.fibrates == True) | (df.fdc == True) | (df.high_potency_statin == 'low') | (df.high_potency_statin == 'high') | (df.low_potency_statin == 'low') | (df.low_potency_statin == 'high')]\n",
    "pct_ezetimibe = len(ezetimibe) / population_treated_ct\n",
    "fibrates = df[(df.fibrates == True)]\n",
    "pct_fibrates = len(fibrates) / population_treated_ct\n",
    "high_potency_statin = df[(df.high_potency_statin != 'none')]\n",
    "pct_high_potency_statin = len(high_potency_statin) / population_treated_ct\n",
    "low_potency_statin = df[(df.low_potency_statin != 'none')]\n",
    "pct_low_potency_statin = len(low_potency_statin) / population_treated_ct\n",
    "table_6_dict = {'current_prescription':['% on ezetimibe', '% on fibrates', '% on high potency statins', '% on low potency statins'], \n",
    "                'location':'brazil', \n",
    "                'mean_value': [pct_ezetimibe, pct_fibrates, \n",
    "                pct_high_potency_statin, pct_low_potency_statin]}\n",
    "table_6_df = pd.DataFrame(data=table_6_dict)"
   ]
  },
  {
   "cell_type": "markdown",
   "metadata": {},
   "source": [
    "### Table 8 validation"
   ]
  },
  {
   "cell_type": "markdown",
   "metadata": {},
   "source": [
    "### Taking notes from Abie's instructions:\n",
    "\n",
    "* if two things are true (ezetimibe = True)\n",
    "\n",
    "* the fraction of rows (ezetimibe true, low potency statin) / (high potency true or low potency true)\n",
    "\n",
    "* mutli- drugs: fdc is true/ divide by ezetimibe or high_potency statin + low potency statin or fibrates\n",
    "\n",
    "\n"
   ]
  },
  {
   "cell_type": "code",
   "execution_count": null,
   "metadata": {},
   "outputs": [],
   "source": []
  }
 ],
 "metadata": {
  "kernelspec": {
   "display_name": "Python 3",
   "language": "python",
   "name": "python3"
  },
  "language_info": {
   "codemirror_mode": {
    "name": "ipython",
    "version": 3
   },
   "file_extension": ".py",
   "mimetype": "text/x-python",
   "name": "python",
   "nbconvert_exporter": "python",
   "pygments_lexer": "ipython3",
   "version": "3.6.10"
  }
 },
 "nbformat": 4,
 "nbformat_minor": 4
}
