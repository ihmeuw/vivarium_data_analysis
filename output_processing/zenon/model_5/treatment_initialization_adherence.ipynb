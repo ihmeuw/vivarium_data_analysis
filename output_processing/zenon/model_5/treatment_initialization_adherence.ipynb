{
 "cells": [
  {
   "cell_type": "code",
   "execution_count": 1,
   "metadata": {},
   "outputs": [],
   "source": [
    "import pandas as pd\n",
    "import numpy as np\n",
    "import os\n",
    "from pathlib import Path\n",
    "from db_queries import get_outputs, get_ids, get_model_results, get_population\n",
    "import matplotlib.pyplot as plt\n",
    "import seaborn as sns\n",
    "import glob\n",
    "import gbd_mapping\n",
    "from matplotlib.backends.backend_pdf import PdfPages\n",
    "pd.set_option('use_inf_as_na', True)\n",
    "sns.set(context = 'paper', style='whitegrid', font_scale=1.8, rc = {'axes.spines.right':False, 'axes.spines.top': False, 'figure.figsize':(12.7,8.6)}, palette='Set1')\n"
   ]
  },
  {
   "cell_type": "markdown",
   "metadata": {},
   "source": [
    "#### Instructions\n",
    "\n",
    "* Before you begin, download and save the 'treatment_initialization.hdf' file Rajan shared in the vivarium_csu_zenon slack channel\n",
    "* Each row will be a simulant, each column will be for ‘statin - high', ‘statin - low’, ‘ezetimibe’, ‘fibrates’, and ‘FDC’ and their LDL-level. \n",
    "* What I’ll need to check is that the initialization matches up what we expect it to be, based on their LDL-level (in their location).  \n",
    "* Their treatment status should be a direct function of their LDL (with some randomness). \n",
    "* I should see numbers that match with Table 2: Probability of Rx given high LDL-C = prob(Rx | LDL-C > 4.9) and Table 6: Current treatment practice - distribution by drug type  and Table 8: Distribution of therapy type.  "
   ]
  },
  {
   "cell_type": "code",
   "execution_count": 2,
   "metadata": {},
   "outputs": [],
   "source": [
    "df = pd.read_hdf('adherence_brazil_risk_factors.hdf')\n",
    "df['location'] = 'brazil'\n"
   ]
  },
  {
   "cell_type": "markdown",
   "metadata": {},
   "source": [
    "## Table 2 validation"
   ]
  },
  {
   "cell_type": "code",
   "execution_count": 21,
   "metadata": {},
   "outputs": [
    {
     "data": {
      "text/html": [
       "<div>\n",
       "<style scoped>\n",
       "    .dataframe tbody tr th:only-of-type {\n",
       "        vertical-align: middle;\n",
       "    }\n",
       "\n",
       "    .dataframe tbody tr th {\n",
       "        vertical-align: top;\n",
       "    }\n",
       "\n",
       "    .dataframe thead th {\n",
       "        text-align: right;\n",
       "    }\n",
       "</style>\n",
       "<table border=\"1\" class=\"dataframe\">\n",
       "  <thead>\n",
       "    <tr style=\"text-align: right;\">\n",
       "      <th></th>\n",
       "      <th>location</th>\n",
       "      <th>mean_value</th>\n",
       "      <th>table_2_value</th>\n",
       "      <th>table_2_sd</th>\n",
       "    </tr>\n",
       "  </thead>\n",
       "  <tbody>\n",
       "    <tr>\n",
       "      <th>0</th>\n",
       "      <td>brazil</td>\n",
       "      <td>0.46</td>\n",
       "      <td>0.42</td>\n",
       "      <td>0.19</td>\n",
       "    </tr>\n",
       "  </tbody>\n",
       "</table>\n",
       "</div>"
      ],
      "text/plain": [
       "  location  mean_value   table_2_value  table_2_sd\n",
       "0   brazil        0.46            0.42        0.19"
      ]
     },
     "execution_count": 21,
     "metadata": {},
     "output_type": "execute_result"
    }
   ],
   "source": [
    "pop_treated = len(df[(df.ldlc_treatment_category != 'none')])\n",
    "pop_untreated_and_high_ldlc = len(df[(df.ldlc_treatment_category == 'none') & (df.ldl_c>=5.0)])\n",
    "prob_rx_high_ldlc = pop_treated / (pop_treated + pop_untreated_and_high_ldlc)\n",
    "table_2_dict = {'location':['brazil'],  \n",
    "                'output_mean_value': round(prob_rx_high_ldlc, 2),\n",
    "                ' table_2_value': 0.42,\n",
    "                'table_2_sd': 0.19}\n",
    "table_2_df = pd.DataFrame(data=table_2_dict)\n",
    "table_2_df"
   ]
  },
  {
   "cell_type": "markdown",
   "metadata": {},
   "source": [
    "## Table 6 validation"
   ]
  },
  {
   "cell_type": "markdown",
   "metadata": {},
   "source": [
    "### investigating the data"
   ]
  },
  {
   "cell_type": "code",
   "execution_count": 33,
   "metadata": {},
   "outputs": [
    {
     "data": {
      "text/html": [
       "<div>\n",
       "<style scoped>\n",
       "    .dataframe tbody tr th:only-of-type {\n",
       "        vertical-align: middle;\n",
       "    }\n",
       "\n",
       "    .dataframe tbody tr th {\n",
       "        vertical-align: top;\n",
       "    }\n",
       "\n",
       "    .dataframe thead th {\n",
       "        text-align: right;\n",
       "    }\n",
       "</style>\n",
       "<table border=\"1\" class=\"dataframe\">\n",
       "  <thead>\n",
       "    <tr style=\"text-align: right;\">\n",
       "      <th></th>\n",
       "      <th>current_prescription</th>\n",
       "      <th>location</th>\n",
       "      <th>mean_value</th>\n",
       "      <th>table_6_mean</th>\n",
       "      <th>table_6_sd</th>\n",
       "    </tr>\n",
       "  </thead>\n",
       "  <tbody>\n",
       "    <tr>\n",
       "      <th>0</th>\n",
       "      <td>% on ezetimibe</td>\n",
       "      <td>brazil</td>\n",
       "      <td>0.07</td>\n",
       "      <td>0.10</td>\n",
       "      <td>0.10</td>\n",
       "    </tr>\n",
       "    <tr>\n",
       "      <th>1</th>\n",
       "      <td>% on fibrates</td>\n",
       "      <td>brazil</td>\n",
       "      <td>0.10</td>\n",
       "      <td>0.14</td>\n",
       "      <td>0.12</td>\n",
       "    </tr>\n",
       "    <tr>\n",
       "      <th>2</th>\n",
       "      <td>% on high potency statins</td>\n",
       "      <td>brazil</td>\n",
       "      <td>0.34</td>\n",
       "      <td>0.38</td>\n",
       "      <td>0.07</td>\n",
       "    </tr>\n",
       "    <tr>\n",
       "      <th>3</th>\n",
       "      <td>% on low potency statins</td>\n",
       "      <td>brazil</td>\n",
       "      <td>0.49</td>\n",
       "      <td>0.37</td>\n",
       "      <td>0.16</td>\n",
       "    </tr>\n",
       "  </tbody>\n",
       "</table>\n",
       "</div>"
      ],
      "text/plain": [
       "        current_prescription location  mean_value  table_6_mean  table_6_sd\n",
       "0             % on ezetimibe   brazil        0.07          0.10        0.10\n",
       "1              % on fibrates   brazil        0.10          0.14        0.12\n",
       "2  % on high potency statins   brazil        0.34          0.38        0.07\n",
       "3   % on low potency statins   brazil        0.49          0.37        0.16"
      ]
     },
     "execution_count": 33,
     "metadata": {},
     "output_type": "execute_result"
    }
   ],
   "source": [
    "pct_ezetimibe = len(df[(df.ldlc_treatment_category == 'ezetimibe')])/ len(df[(df.ldlc_treatment_category != 'none')])\n",
    "pct_fibrates = len(df[df.ldlc_treatment_category == 'fibrates']) / len(df[(df.ldlc_treatment_category != 'none')])\n",
    "pct_high_potency = len(df[(df.ldlc_treatment_category == 'high_potency_statin_low_dose')]) / len(df[(df.ldlc_treatment_category != 'none')])\n",
    "pct_low_potency = len(df[(df.ldlc_treatment_category.str.contains('low_potency_statin_'))]) / len(df[(df.ldlc_treatment_category != 'none')])\n",
    "table_6_dict = {'current_prescription':['% on ezetimibe', '% on fibrates', '% on high potency statins', '% on low potency statins'], \n",
    "                'location':'brazil', \n",
    "                'output_mean_value': [round(pct_ezetimibe, 2), round(pct_fibrates, 2), \n",
    "                round(pct_high_potency, 2), round(pct_low_potency, 2)],\n",
    "                'table_6_mean':[0.10, 0.14, 0.38, 0.37],\n",
    "                'table_6_sd':[0.10, 0.12, 0.07, 0.16]}\n",
    "table_6_df = pd.DataFrame(data=table_6_dict)\n",
    "table_6_df\n"
   ]
  },
  {
   "cell_type": "markdown",
   "metadata": {},
   "source": [
    "### Table 8 validation"
   ]
  },
  {
   "cell_type": "markdown",
   "metadata": {},
   "source": [
    "### Taking notes from Abie's instructions:\n",
    "\n",
    "percent_on_monotherapy = / population_treated\n"
   ]
  },
  {
   "cell_type": "code",
   "execution_count": 64,
   "metadata": {},
   "outputs": [],
   "source": [
    "# pct_monotherapy = df[(df.ldc_treatment_category.str.contains('_multi'))]\n",
    "\n",
    "pct_monotherapy = len(df[(df.ldlc_treatment_category.str.contains(r'^(?:(?!_multi).)*$')) & (df.ldlc_treatment_category != 'none')]) / len(df[(df.ldlc_treatment_category != 'none')])\n",
    "pct_multi = len(df[(df.ldlc_treatment_category.str.contains('multi') & (df.ldlc_treatment_category != 'none'))]) / len(df[(df.ldlc_treatment_category != 'none')])\n",
    "pct_fdc_multi = len(df[(df.ldlc_treatment_category.str.contains('fdc') & (df.ldlc_treatment_category != 'none'))]) / len(df[(df.ldlc_treatment_category != 'none')])\n",
    "\n",
    "table_8_dict = {'current_prescription':['% on monotherapy', '% on multi-drugs', '% on FDC if multi drug'], \n",
    "                'location':'brazil', \n",
    "                'output_mean_value': [round(pct_monotherapy, 2), round(pct_multi, 2), round(pct_fdc_multi, 2)],\n",
    "                'table_8_mean_value':[0.74, 0.30, 0.55],\n",
    "                'table_8_sd':[0.00, 0.20, 0.04]}\n",
    "table_8_df = pd.DataFrame(data=table_8_dict)\n",
    "\n"
   ]
  },
  {
   "cell_type": "code",
   "execution_count": 65,
   "metadata": {},
   "outputs": [
    {
     "data": {
      "text/html": [
       "<div>\n",
       "<style scoped>\n",
       "    .dataframe tbody tr th:only-of-type {\n",
       "        vertical-align: middle;\n",
       "    }\n",
       "\n",
       "    .dataframe tbody tr th {\n",
       "        vertical-align: top;\n",
       "    }\n",
       "\n",
       "    .dataframe thead th {\n",
       "        text-align: right;\n",
       "    }\n",
       "</style>\n",
       "<table border=\"1\" class=\"dataframe\">\n",
       "  <thead>\n",
       "    <tr style=\"text-align: right;\">\n",
       "      <th></th>\n",
       "      <th>current_prescription</th>\n",
       "      <th>location</th>\n",
       "      <th>output_mean_value</th>\n",
       "      <th>table_8_mean_value</th>\n",
       "      <th>table_8_sd</th>\n",
       "    </tr>\n",
       "  </thead>\n",
       "  <tbody>\n",
       "    <tr>\n",
       "      <th>0</th>\n",
       "      <td>% on monotherapy</td>\n",
       "      <td>brazil</td>\n",
       "      <td>0.93</td>\n",
       "      <td>0.74</td>\n",
       "      <td>0.00</td>\n",
       "    </tr>\n",
       "    <tr>\n",
       "      <th>1</th>\n",
       "      <td>% on multi-drugs</td>\n",
       "      <td>brazil</td>\n",
       "      <td>0.07</td>\n",
       "      <td>0.30</td>\n",
       "      <td>0.20</td>\n",
       "    </tr>\n",
       "    <tr>\n",
       "      <th>2</th>\n",
       "      <td>% on FDC if multi drug</td>\n",
       "      <td>brazil</td>\n",
       "      <td>0.17</td>\n",
       "      <td>0.55</td>\n",
       "      <td>0.04</td>\n",
       "    </tr>\n",
       "  </tbody>\n",
       "</table>\n",
       "</div>"
      ],
      "text/plain": [
       "     current_prescription location  output_mean_value  table_8_mean_value  \\\n",
       "0        % on monotherapy   brazil               0.93                0.74   \n",
       "1        % on multi-drugs   brazil               0.07                0.30   \n",
       "2  % on FDC if multi drug   brazil               0.17                0.55   \n",
       "\n",
       "   table_8_sd  \n",
       "0        0.00  \n",
       "1        0.20  \n",
       "2        0.04  "
      ]
     },
     "execution_count": 65,
     "metadata": {},
     "output_type": "execute_result"
    }
   ],
   "source": [
    "table_8_df"
   ]
  },
  {
   "cell_type": "markdown",
   "metadata": {},
   "source": [
    "### Adherence"
   ]
  },
  {
   "cell_type": "code",
   "execution_count": 86,
   "metadata": {},
   "outputs": [],
   "source": [
    "pop_adherent_one_pill_no_mi = len(df[(df.ldlc_treatment_category.str.contains(r'^(?:(?!_multi).)*$')) & \n",
    "                            (df.ldlc_treatment_category != 'none') & (df.ischemic_heart_disease == 'susceptible_to_ischemic_heart_disease') \n",
    "                            & (df.ischemic_stroke == 'susceptible_to_ischemic_stroke') & (df.adherent == True)]) \n",
    "\n",
    "pop_one_pill_no_mi = len(df[(df.ldlc_treatment_category.str.contains(r'^(?:(?!_multi).)*$') & \n",
    "                            (df.ldlc_treatment_category != 'none') & (df.ischemic_heart_disease == 'susceptible_to_ischemic_heart_disease') \n",
    "                            & (df.ischemic_stroke == 'susceptible_to_ischemic_stroke'))])\n",
    "\n",
    "\n",
    "pop_adherent_multi_pill_no_mi = len(df[(df.ldlc_treatment_category.str.contains('multi') & (df.ischemic_heart_disease == 'susceptible_to_ischemic_heart_disease') & (df.ischemic_stroke == 'susceptible_to_ischemic_stroke') \n",
    "                                & (df.adherent == True))]) \n",
    "\n",
    "pop_multi_pill_no_mi = len(df[(df.ldlc_treatment_category.str.contains('multi') & (df.ldlc_treatment_category != 'none') \n",
    "                                & (df.ischemic_heart_disease == 'susceptible_to_ischemic_heart_disease') & (df.ischemic_stroke == 'susceptible_to_ischemic_stroke'))])\n",
    "\n",
    "\n",
    "pop_adherent_one_pill_mi = len(df[(df.ldlc_treatment_category.str.contains(r'^(?:(?!_multi).)*$')) & \n",
    "                            (df.ldlc_treatment_category != 'none') & (df.ischemic_heart_disease != 'susceptible_to_ischemic_heart_disease') \n",
    "                            & (df.adherent == True)])\n",
    "\n",
    "pop_one_pill_mi = len(df[(df.ldlc_treatment_category.str.contains(r'^(?:(?!_multi).)*$')) & \n",
    "                            (df.ldlc_treatment_category != 'none') & (df.ischemic_heart_disease != 'susceptible_to_ischemic_heart_disease')])\n",
    "\n",
    "\n",
    "pop_adherent_multi_pill_mi = len(df[(df.ldlc_treatment_category.str.contains('multi') & (df.ischemic_heart_disease != 'susceptible_to_ischemic_heart_disease') & (df.adherent == True))])\n",
    "\n",
    "pop_multi_pill_mi = len(df[(df.ldlc_treatment_category.str.contains('multi')) & (df.ischemic_heart_disease != 'susceptible_to_ischemic_heart_disease')])\n",
    "\n",
    "\n",
    "pct_adherent_one_pill_no_mi = pop_adherent_one_pill_no_mi / pop_one_pill_no_mi\n",
    "pop_adherent_multi_pill_no_mi = pop_adherent_multi_pill_no_mi / pop_multi_pill_no_mi\n",
    "pct_adherent_one_pill_mi = pop_adherent_one_pill_mi / pop_one_pill_mi \n",
    "pct_adherent_multi_pill_mi = pop_adherent_multi_pill_mi / pop_multi_pill_mi\n",
    "\n",
    "table_4_dict = {'adherence_parameter':['Adherence - one pill, no MI', \n",
    "                                       'Adherence - multi-pill, no MI', 'Adherence after MI (one pill)', \n",
    "                                       'Adherence after MI (multi-pill)'], \n",
    "                'location':'brazil', \n",
    "                'output_mean_value': [round(pct_adherent_one_pill_no_mi, 2), round(pop_adherent_multi_pill_no_mi, 2), \n",
    "                               round(pct_adherent_one_pill_mi, 2), round(pct_adherent_multi_pill_mi,2)],\n",
    "                'table_4_mean_value':[0.55, 0.29, 0.67, 0.41],\n",
    "                'table_4_sd_value':[0.11, 0.06, 0.14, 0.09]}\n",
    "table_4_df = pd.DataFrame(data=table_4_dict)"
   ]
  },
  {
   "cell_type": "code",
   "execution_count": 87,
   "metadata": {
    "scrolled": true
   },
   "outputs": [
    {
     "data": {
      "text/html": [
       "<div>\n",
       "<style scoped>\n",
       "    .dataframe tbody tr th:only-of-type {\n",
       "        vertical-align: middle;\n",
       "    }\n",
       "\n",
       "    .dataframe tbody tr th {\n",
       "        vertical-align: top;\n",
       "    }\n",
       "\n",
       "    .dataframe thead th {\n",
       "        text-align: right;\n",
       "    }\n",
       "</style>\n",
       "<table border=\"1\" class=\"dataframe\">\n",
       "  <thead>\n",
       "    <tr style=\"text-align: right;\">\n",
       "      <th></th>\n",
       "      <th>adherence_parameter</th>\n",
       "      <th>location</th>\n",
       "      <th>output_mean_value</th>\n",
       "      <th>table_4_mean_value</th>\n",
       "      <th>table_4_sd_value</th>\n",
       "    </tr>\n",
       "  </thead>\n",
       "  <tbody>\n",
       "    <tr>\n",
       "      <th>0</th>\n",
       "      <td>Adherence - one pill, no MI</td>\n",
       "      <td>brazil</td>\n",
       "      <td>0.54</td>\n",
       "      <td>0.55</td>\n",
       "      <td>0.11</td>\n",
       "    </tr>\n",
       "    <tr>\n",
       "      <th>1</th>\n",
       "      <td>Adherence - multi-pill, no MI</td>\n",
       "      <td>brazil</td>\n",
       "      <td>0.26</td>\n",
       "      <td>0.29</td>\n",
       "      <td>0.06</td>\n",
       "    </tr>\n",
       "    <tr>\n",
       "      <th>2</th>\n",
       "      <td>Adherence after MI (one pill)</td>\n",
       "      <td>brazil</td>\n",
       "      <td>0.67</td>\n",
       "      <td>0.67</td>\n",
       "      <td>0.14</td>\n",
       "    </tr>\n",
       "    <tr>\n",
       "      <th>3</th>\n",
       "      <td>Adherence after MI (multi-pill)</td>\n",
       "      <td>brazil</td>\n",
       "      <td>0.45</td>\n",
       "      <td>0.41</td>\n",
       "      <td>0.09</td>\n",
       "    </tr>\n",
       "  </tbody>\n",
       "</table>\n",
       "</div>"
      ],
      "text/plain": [
       "               adherence_parameter location  output_mean_value  \\\n",
       "0      Adherence - one pill, no MI   brazil               0.54   \n",
       "1    Adherence - multi-pill, no MI   brazil               0.26   \n",
       "2    Adherence after MI (one pill)   brazil               0.67   \n",
       "3  Adherence after MI (multi-pill)   brazil               0.45   \n",
       "\n",
       "   table_4_mean_value  table_4_sd_value  \n",
       "0                0.55              0.11  \n",
       "1                0.29              0.06  \n",
       "2                0.67              0.14  \n",
       "3                0.41              0.09  "
      ]
     },
     "execution_count": 87,
     "metadata": {},
     "output_type": "execute_result"
    }
   ],
   "source": [
    "table_4_df"
   ]
  },
  {
   "cell_type": "code",
   "execution_count": null,
   "metadata": {},
   "outputs": [],
   "source": []
  }
 ],
 "metadata": {
  "kernelspec": {
   "display_name": "Python 3",
   "language": "python",
   "name": "python3"
  },
  "language_info": {
   "codemirror_mode": {
    "name": "ipython",
    "version": 3
   },
   "file_extension": ".py",
   "mimetype": "text/x-python",
   "name": "python",
   "nbconvert_exporter": "python",
   "pygments_lexer": "ipython3",
   "version": "3.6.10"
  }
 },
 "nbformat": 4,
 "nbformat_minor": 4
}
