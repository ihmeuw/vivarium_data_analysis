{
 "cells": [
  {
   "cell_type": "code",
   "execution_count": 12,
   "metadata": {},
   "outputs": [
    {
     "name": "stdout",
     "output_type": "stream",
     "text": [
      "ndbs\n",
      "Thu Feb  6 17:49:57 PST 2020\n"
     ]
    }
   ],
   "source": [
    "import numpy as np, pandas as pd, matplotlib.pyplot as plt\n",
    "import bep_summarizer\n",
    "!whoami\n",
    "!date"
   ]
  },
  {
   "cell_type": "code",
   "execution_count": 14,
   "metadata": {},
   "outputs": [],
   "source": [
    "%load_ext autoreload\n",
    "%autoreload 2"
   ]
  },
  {
   "cell_type": "code",
   "execution_count": 11,
   "metadata": {},
   "outputs": [
    {
     "name": "stdout",
     "output_type": "stream",
     "text": [
      "{'birth_weight_mean_mother_malnourished_treatment_ifa': 2707.324414705537,\r\n",
      " 'birth_weight_mean_mother_malnourished_treatment_none': 2727.3550767093107,\r\n",
      " 'birth_weight_mean_mother_normal_treatment_ifa': 2982.4089057177175,\r\n",
      " 'birth_weight_mean_mother_normal_treatment_none': 2971.88053442017,\r\n",
      " 'birth_weight_proportion_below_2500g_mother_malnourished_treatment_ifa': 0.332,\r\n",
      " 'birth_weight_proportion_below_2500g_mother_malnourished_treatment_none': 0.31922723091076355,\r\n",
      " 'birth_weight_proportion_below_2500g_mother_normal_treatment_ifa': 0.19474085365853658,\r\n",
      " 'birth_weight_proportion_below_2500g_mother_normal_treatment_none': 0.19001554672655036,\r\n",
      " 'birth_weight_sd_mother_malnourished_treatment_ifa': 683.6599029265477,\r\n",
      " 'birth_weight_sd_mother_malnourished_treatment_none': 688.5125147168942,\r\n"
     ]
    }
   ],
   "source": [
    "!head out.txt"
   ]
  },
  {
   "cell_type": "code",
   "execution_count": 10,
   "metadata": {},
   "outputs": [
    {
     "data": {
      "text/html": [
       "<div>\n",
       "<style scoped>\n",
       "    .dataframe tbody tr th:only-of-type {\n",
       "        vertical-align: middle;\n",
       "    }\n",
       "\n",
       "    .dataframe tbody tr th {\n",
       "        vertical-align: top;\n",
       "    }\n",
       "\n",
       "    .dataframe thead th {\n",
       "        text-align: right;\n",
       "    }\n",
       "</style>\n",
       "<table border=\"1\" class=\"dataframe\">\n",
       "  <thead>\n",
       "    <tr style=\"text-align: right;\">\n",
       "      <th></th>\n",
       "      <th>birth_weight_mean_mother_malnourished_treatment_ifa</th>\n",
       "      <th>birth_weight_mean_mother_malnourished_treatment_none</th>\n",
       "      <th>birth_weight_mean_mother_normal_treatment_ifa</th>\n",
       "      <th>birth_weight_mean_mother_normal_treatment_none</th>\n",
       "      <th>birth_weight_proportion_below_2500g_mother_malnourished_treatment_ifa</th>\n",
       "      <th>birth_weight_proportion_below_2500g_mother_malnourished_treatment_none</th>\n",
       "      <th>birth_weight_proportion_below_2500g_mother_normal_treatment_ifa</th>\n",
       "      <th>birth_weight_proportion_below_2500g_mother_normal_treatment_none</th>\n",
       "      <th>birth_weight_sd_mother_malnourished_treatment_ifa</th>\n",
       "      <th>birth_weight_sd_mother_malnourished_treatment_none</th>\n",
       "      <th>...</th>\n",
       "      <th>ylls_due_to_protein_energy_malnutrition_in_age_group_early_neonatal_mother_normal_treatment_mmn</th>\n",
       "      <th>ylls_due_to_protein_energy_malnutrition_in_age_group_early_neonatal_mother_normal_treatment_none</th>\n",
       "      <th>ylls_due_to_protein_energy_malnutrition_in_age_group_late_neonatal_mother_malnourished_treatment_bep</th>\n",
       "      <th>ylls_due_to_protein_energy_malnutrition_in_age_group_late_neonatal_mother_malnourished_treatment_ifa</th>\n",
       "      <th>ylls_due_to_protein_energy_malnutrition_in_age_group_late_neonatal_mother_malnourished_treatment_mmn</th>\n",
       "      <th>ylls_due_to_protein_energy_malnutrition_in_age_group_late_neonatal_mother_malnourished_treatment_none</th>\n",
       "      <th>ylls_due_to_protein_energy_malnutrition_in_age_group_late_neonatal_mother_normal_treatment_bep</th>\n",
       "      <th>ylls_due_to_protein_energy_malnutrition_in_age_group_late_neonatal_mother_normal_treatment_ifa</th>\n",
       "      <th>ylls_due_to_protein_energy_malnutrition_in_age_group_late_neonatal_mother_normal_treatment_mmn</th>\n",
       "      <th>ylls_due_to_protein_energy_malnutrition_in_age_group_late_neonatal_mother_normal_treatment_none</th>\n",
       "    </tr>\n",
       "  </thead>\n",
       "  <tbody>\n",
       "    <tr>\n",
       "      <th>0</th>\n",
       "      <td>2707.324415</td>\n",
       "      <td>2727.355077</td>\n",
       "      <td>2982.408906</td>\n",
       "      <td>2971.880534</td>\n",
       "      <td>0.332</td>\n",
       "      <td>0.319227</td>\n",
       "      <td>0.194741</td>\n",
       "      <td>0.190016</td>\n",
       "      <td>683.659903</td>\n",
       "      <td>688.512515</td>\n",
       "      <td>...</td>\n",
       "      <td>0</td>\n",
       "      <td>0</td>\n",
       "      <td>0</td>\n",
       "      <td>0</td>\n",
       "      <td>0</td>\n",
       "      <td>0</td>\n",
       "      <td>0</td>\n",
       "      <td>0</td>\n",
       "      <td>0</td>\n",
       "      <td>0</td>\n",
       "    </tr>\n",
       "  </tbody>\n",
       "</table>\n",
       "<p>1 rows × 1832 columns</p>\n",
       "</div>"
      ],
      "text/plain": [
       "   birth_weight_mean_mother_malnourished_treatment_ifa  \\\n",
       "0                                        2707.324415     \n",
       "\n",
       "   birth_weight_mean_mother_malnourished_treatment_none  \\\n",
       "0                                        2727.355077      \n",
       "\n",
       "   birth_weight_mean_mother_normal_treatment_ifa  \\\n",
       "0                                    2982.408906   \n",
       "\n",
       "   birth_weight_mean_mother_normal_treatment_none  \\\n",
       "0                                     2971.880534   \n",
       "\n",
       "   birth_weight_proportion_below_2500g_mother_malnourished_treatment_ifa  \\\n",
       "0                                              0.332                       \n",
       "\n",
       "   birth_weight_proportion_below_2500g_mother_malnourished_treatment_none  \\\n",
       "0                                           0.319227                        \n",
       "\n",
       "   birth_weight_proportion_below_2500g_mother_normal_treatment_ifa  \\\n",
       "0                                           0.194741                 \n",
       "\n",
       "   birth_weight_proportion_below_2500g_mother_normal_treatment_none  \\\n",
       "0                                           0.190016                  \n",
       "\n",
       "   birth_weight_sd_mother_malnourished_treatment_ifa  \\\n",
       "0                                         683.659903   \n",
       "\n",
       "   birth_weight_sd_mother_malnourished_treatment_none  ...  \\\n",
       "0                                         688.512515   ...   \n",
       "\n",
       "   ylls_due_to_protein_energy_malnutrition_in_age_group_early_neonatal_mother_normal_treatment_mmn  \\\n",
       "0                                                  0                                                 \n",
       "\n",
       "   ylls_due_to_protein_energy_malnutrition_in_age_group_early_neonatal_mother_normal_treatment_none  \\\n",
       "0                                                  0                                                  \n",
       "\n",
       "   ylls_due_to_protein_energy_malnutrition_in_age_group_late_neonatal_mother_malnourished_treatment_bep  \\\n",
       "0                                                  0                                                      \n",
       "\n",
       "   ylls_due_to_protein_energy_malnutrition_in_age_group_late_neonatal_mother_malnourished_treatment_ifa  \\\n",
       "0                                                  0                                                      \n",
       "\n",
       "   ylls_due_to_protein_energy_malnutrition_in_age_group_late_neonatal_mother_malnourished_treatment_mmn  \\\n",
       "0                                                  0                                                      \n",
       "\n",
       "   ylls_due_to_protein_energy_malnutrition_in_age_group_late_neonatal_mother_malnourished_treatment_none  \\\n",
       "0                                                  0                                                       \n",
       "\n",
       "   ylls_due_to_protein_energy_malnutrition_in_age_group_late_neonatal_mother_normal_treatment_bep  \\\n",
       "0                                                  0                                                \n",
       "\n",
       "   ylls_due_to_protein_energy_malnutrition_in_age_group_late_neonatal_mother_normal_treatment_ifa  \\\n",
       "0                                                  0                                                \n",
       "\n",
       "   ylls_due_to_protein_energy_malnutrition_in_age_group_late_neonatal_mother_normal_treatment_mmn  \\\n",
       "0                                                  0                                                \n",
       "\n",
       "   ylls_due_to_protein_energy_malnutrition_in_age_group_late_neonatal_mother_normal_treatment_none  \n",
       "0                                                  0                                                \n",
       "\n",
       "[1 rows x 1832 columns]"
      ]
     },
     "execution_count": 10,
     "metadata": {},
     "output_type": "execute_result"
    }
   ],
   "source": [
    "with open('out.txt', 'r') as f:\n",
    "    # reads file into a string, remove newlines, then converts to a dictionary\n",
    "    data_dict = eval(f.read().replace(\"\\n\",\"\"))\n",
    "    \n",
    "data = pd.DataFrame(data_dict, index=[0])\n",
    "data"
   ]
  },
  {
   "cell_type": "code",
   "execution_count": 17,
   "metadata": {},
   "outputs": [
    {
     "name": "stdout",
     "output_type": "stream",
     "text": [
      "Number of data columns in output: 1832\n",
      "Total number of columns captured in categories: 1832\n",
      "\n",
      "Number of columns in each category:\n",
      " {'input_draw': 0, 'random_seed': 0, 'location': 0, 'intervention': 0, 'run_time': 0, 'diseases_at_end': 5, 'disease_event_count': 411, 'population': 13, 'person_time': 560, 'treated_days': 0, 'mortality': 280, 'total_daly': 2, 'yld': 200, 'yll': 280, 'categorical_risk': 32, 'graded_sequela': 0, 'proportion': 9, 'distribution_params': 32, 'prevalence': 8} \n",
      "\n",
      "Missing (0 data column(s) not captured in a category):\n",
      " set()\n",
      "\n",
      "Repeated (0 data column(s) appearing in more than one category):\n",
      " {}\n",
      "\n",
      "Empty categories (7 categories with no matching data columns):\n",
      " ['input_draw', 'random_seed', 'location', 'intervention', 'run_time', 'treated_days', 'graded_sequela']\n"
     ]
    }
   ],
   "source": [
    "output = bep_summarizer.BEPOutputSummarizer(data)\n",
    "output.print_column_report()"
   ]
  },
  {
   "cell_type": "code",
   "execution_count": null,
   "metadata": {},
   "outputs": [],
   "source": []
  }
 ],
 "metadata": {
  "kernelspec": {
   "display_name": "Python 3",
   "language": "python",
   "name": "python3"
  },
  "language_info": {
   "codemirror_mode": {
    "name": "ipython",
    "version": 3
   },
   "file_extension": ".py",
   "mimetype": "text/x-python",
   "name": "python",
   "nbconvert_exporter": "python",
   "pygments_lexer": "ipython3",
   "version": "3.6.10"
  }
 },
 "nbformat": 4,
 "nbformat_minor": 4
}
