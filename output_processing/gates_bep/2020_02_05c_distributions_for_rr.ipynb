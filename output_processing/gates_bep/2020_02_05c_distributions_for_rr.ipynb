{
 "cells": [
  {
   "cell_type": "code",
   "execution_count": 1,
   "metadata": {},
   "outputs": [],
   "source": [
    "import numpy as np, pandas as pd, matplotlib.pyplot as plt\n",
    "import scipy.stats as scs"
   ]
  },
  {
   "cell_type": "code",
   "execution_count": 2,
   "metadata": {},
   "outputs": [
    {
     "name": "stdout",
     "output_type": "stream",
     "text": [
      "ndbs\n",
      "Thu Feb  6 14:38:16 PST 2020\n"
     ]
    }
   ],
   "source": [
    "!whoami\n",
    "!date"
   ]
  },
  {
   "cell_type": "markdown",
   "metadata": {},
   "source": [
    "## Goal: Find a probability distribution with mean 2 and an \"uncertainty interval\" of 1.5 to 5\n",
    "\n",
    "### We need such a distribution for modeling uncertainty in the estimates of a relative risk for the BEP simulation\n",
    "\n",
    "The challenge here is that the mean is skewed heavily towards the left uncertainty bound, which requires a highly skewed distribution.\n",
    "\n",
    "We started with a [triangular distribution](https://en.wikipedia.org/wiki/Triangular_distribution) supported on $[1.5,5]$ with mode $2$. Then Ali realized that the mean of this distribution is too high. In fact, the mean is $\\frac{1.5+2+5}{3} = 2.833$, not $2$, and moreover since the mean of a triangular distribution is $\\frac{a+b+c}{3}$ (where $a,b,c$ are the left and right endpoints and mode), *there is no triangular distribution on $[1.5,5]$ with mean $2$* (the minimum possible mean is $(1.5+1.5+5)/{3} = 2.667$).\n",
    "\n",
    "Abie then suggested trying a [PERT distribution](https://en.wikipedia.org/wiki/PERT_distribution) supported on $[1.5,5]$. A standard PERT distribution (with weighting factor 4) on this interval *also* cannot have mean equal to $2$, but a **modified-PERT distribution** can. The modified-PERT distribution is just a shifted and scaled [Beta distribution](https://en.wikipedia.org/wiki/Beta_distribution), but parameterized differently (in terms of the mode and a weighting factor determining the location of the mean relative to the mode, instead of the standard parameterization using the exponents $\\alpha$ and $\\beta$).\n",
    "\n",
    "We ended up using a shifted [Gamma distribution](https://en.wikipedia.org/wiki/Gamma_distribution) with shape parameter $\\alpha=2$ in the actual BEP simulation."
   ]
  },
  {
   "cell_type": "code",
   "execution_count": 3,
   "metadata": {},
   "outputs": [
    {
     "data": {
      "text/plain": [
       "2.8333333333333335"
      ]
     },
     "execution_count": 3,
     "metadata": {},
     "output_type": "execute_result"
    }
   ],
   "source": [
    "(1.5+2+5)/3"
   ]
  },
  {
   "cell_type": "code",
   "execution_count": 4,
   "metadata": {},
   "outputs": [
    {
     "data": {
      "text/plain": [
       "2.6666666666666665"
      ]
     },
     "execution_count": 4,
     "metadata": {},
     "output_type": "execute_result"
    }
   ],
   "source": [
    "8/3"
   ]
  },
  {
   "cell_type": "markdown",
   "metadata": {},
   "source": [
    "## Try Beta distributions\n",
    "\n",
    "This part doesn't quite work - there's an error in my attempts at scaling and shifting. But I figured out a way to fix it in the final section below!\n",
    "\n",
    "Function from James for converting mean and variance into parameters for Beta:"
   ]
  },
  {
   "cell_type": "code",
   "execution_count": 5,
   "metadata": {},
   "outputs": [],
   "source": [
    "def a_b_from_mean_var(mean, variance):\n",
    "    if mean <= 0 or mean >= 1:\n",
    "        raise ValueError(\"Mean must be in the interval (0,1)\")\n",
    "    if variance >= mean*(1-mean):\n",
    "        raise ValueError(\"Variance too large\")\n",
    "        \n",
    "    a = mean*(mean*(1-mean)/variance - 1)\n",
    "    b = (1-mean)*(mean*(1-mean)/variance - 1)\n",
    "    return a, b"
   ]
  },
  {
   "cell_type": "code",
   "execution_count": 6,
   "metadata": {},
   "outputs": [
    {
     "data": {
      "text/plain": [
       "0.16000000000000003"
      ]
     },
     "execution_count": 6,
     "metadata": {},
     "output_type": "execute_result"
    }
   ],
   "source": [
    ".2*(1-.2)"
   ]
  },
  {
   "cell_type": "code",
   "execution_count": 7,
   "metadata": {},
   "outputs": [],
   "source": [
    "mean, variance = .2, 0.02\n",
    "a, b = a_b_from_mean_var(mean, variance)"
   ]
  },
  {
   "cell_type": "code",
   "execution_count": 8,
   "metadata": {},
   "outputs": [
    {
     "data": {
      "image/png": "[encoded data removed]",
      "text/plain": [
       "<Figure size 432x288 with 1 Axes>"
      ]
     },
     "metadata": {
      "needs_background": "light"
     },
     "output_type": "display_data"
    }
   ],
   "source": [
    "fig, ax = plt.subplots(1,1)\n",
    "\n",
    "x = np.linspace(0, 1, 200)\n",
    "# x = np.linspace(loc_left, loc_left+scale, 200)\n",
    "# x = np.linspace(scs.beta.ppf(0.01, a, b), scs.beta.ppf(0.99, a, b), 100)\n",
    "ax.plot(x, scs.beta.pdf(x, a, b), 'r-', lw=1, alpha=0.9, label='beta pdf')\n",
    "\n",
    "plt.show()"
   ]
  },
  {
   "cell_type": "code",
   "execution_count": 9,
   "metadata": {},
   "outputs": [
    {
     "data": {
      "image/png": "[encoded data removed]",
      "text/plain": [
       "<Figure size 432x288 with 1 Axes>"
      ]
     },
     "metadata": {
      "needs_background": "light"
     },
     "output_type": "display_data"
    }
   ],
   "source": [
    "loc_left, scale = 1.5, 5-1.5\n",
    "\n",
    "fig, ax = plt.subplots(1,1)\n",
    "\n",
    "x = np.linspace(loc_left, loc_left+scale, 200)\n",
    "# x = np.linspace(loc_left, loc_left+scale, 200)\n",
    "# x = np.linspace(scs.beta.ppf(0.01, a, b), scs.beta.ppf(0.99, a, b), 100)\n",
    "ax.plot(x, scs.beta.pdf(x, a, b, loc_left, scale), 'r-', lw=1, alpha=0.9, label='beta pdf')\n",
    "\n",
    "plt.show()"
   ]
  },
  {
   "cell_type": "code",
   "execution_count": 10,
   "metadata": {},
   "outputs": [
    {
     "name": "stdout",
     "output_type": "stream",
     "text": [
      "2.2 0.245\n"
     ]
    }
   ],
   "source": [
    "print((mean*scale+loc_left), variance*scale**2)"
   ]
  },
  {
   "cell_type": "code",
   "execution_count": 11,
   "metadata": {},
   "outputs": [
    {
     "name": "stdout",
     "output_type": "stream",
     "text": [
      "0.20000000000000004 0.02\n"
     ]
    }
   ],
   "source": [
    "print((2.2-loc_left)/scale, 0.245/scale**2)"
   ]
  },
  {
   "cell_type": "code",
   "execution_count": 12,
   "metadata": {},
   "outputs": [],
   "source": [
    "def get_standardized_mean_var(mean, variance, loc, scale):\n",
    "    return (mean-loc)/scale, variance/scale**2\n",
    "\n",
    "def get_transformed_mean_var(mean, variance, loc, scale):\n",
    "    return (mean*scale+loc), variance*scale**2"
   ]
  },
  {
   "cell_type": "code",
   "execution_count": 13,
   "metadata": {},
   "outputs": [
    {
     "data": {
      "text/plain": [
       "(0.14285714285714285, 0.1)"
      ]
     },
     "execution_count": 13,
     "metadata": {},
     "output_type": "execute_result"
    }
   ],
   "source": [
    "loc, scale = 1.5, 5-1.5\n",
    "mean, variance = 2, 0.1*scale**2\n",
    "get_standardized_mean_var(mean, variance, loc, scale)"
   ]
  },
  {
   "cell_type": "code",
   "execution_count": 14,
   "metadata": {},
   "outputs": [
    {
     "data": {
      "text/plain": [
       "0.12244897959183673"
      ]
     },
     "execution_count": 14,
     "metadata": {},
     "output_type": "execute_result"
    }
   ],
   "source": [
    "0.14285714285714285*(1-0.14285714285714285)"
   ]
  },
  {
   "cell_type": "code",
   "execution_count": 15,
   "metadata": {},
   "outputs": [
    {
     "name": "stdout",
     "output_type": "stream",
     "text": [
      "0.03206997084548102 0.19241982507288616\n"
     ]
    }
   ],
   "source": [
    "std_mean, std_variance = get_standardized_mean_var(mean, variance, loc, scale)\n",
    "a, b = a_b_from_mean_var(std_mean, std_variance)\n",
    "print(a,b)"
   ]
  },
  {
   "cell_type": "code",
   "execution_count": 16,
   "metadata": {},
   "outputs": [
    {
     "data": {
      "image/png": "[encoded data removed]",
      "text/plain": [
       "<Figure size 432x288 with 1 Axes>"
      ]
     },
     "metadata": {
      "needs_background": "light"
     },
     "output_type": "display_data"
    }
   ],
   "source": [
    "fig, ax = plt.subplots(1,1)\n",
    "\n",
    "x = np.linspace(loc, loc+scale, 200)\n",
    "ax.plot(x, scs.beta.pdf(x, a, b, loc, scale), 'r-', lw=1, alpha=0.9, label='beta pdf')\n",
    "\n",
    "plt.show()"
   ]
  },
  {
   "cell_type": "code",
   "execution_count": 17,
   "metadata": {},
   "outputs": [
    {
     "data": {
      "text/plain": [
       "3.5"
      ]
     },
     "execution_count": 17,
     "metadata": {},
     "output_type": "execute_result"
    }
   ],
   "source": [
    "5-1.5"
   ]
  },
  {
   "cell_type": "markdown",
   "metadata": {},
   "source": [
    "## Try a Gamma distribution\n",
    "\n",
    "SciPy: https://docs.scipy.org/doc/scipy/reference/generated/scipy.stats.gamma.html\n",
    "\n",
    "Wikipedia: https://en.wikipedia.org/wiki/Gamma_distribution\n",
    "\n",
    "### We ended up using a Gamma distribution with shape parameter $\\alpha=2$ for the relative risk in the BEP model.\n",
    "\n",
    "The Gamma distribution assigns very little probability near the right extreme of 5.\n",
    "\n",
    "Note that as $\\alpha$ increases, the distribution looks more and more like a normal distribution concentrated at $2$. When $\\alpha=1$, this is a shifted exponential distribution with maximum at the left endpoint $x=1.5$. When $0<\\alpha<1$, the density has an asymptote at $x=1.5$."
   ]
  },
  {
   "cell_type": "code",
   "execution_count": 18,
   "metadata": {},
   "outputs": [],
   "source": [
    "import scipy.stats"
   ]
  },
  {
   "cell_type": "code",
   "execution_count": 19,
   "metadata": {},
   "outputs": [
    {
     "data": {
      "image/png": "[encoded data removed]",
      "text/plain": [
       "<Figure size 432x288 with 1 Axes>"
      ]
     },
     "metadata": {
      "needs_background": "light"
     },
     "output_type": "display_data"
    }
   ],
   "source": [
    "mean = 2 # desired mean of shifted Gamma distribution\n",
    "loc = 1.5 # location paramter is the left endpoint of the shifted distribution's support\n",
    "width = 5 - loc # upper bound - lower bound (= 3.5 if loc = 1.5)\n",
    "std_mean = mean - loc # \"standardized\" mean, of the un-shifted distribution\n",
    "a = 1.5 # shape parameter\n",
    "scale = std_mean/a # mean of standard Gamma is std_mean=shape*scale, so scale = std_mean/shape\n",
    "\n",
    "fig, ax = plt.subplots(1,1)\n",
    "\n",
    "x = np.linspace(loc, loc+width, 200)\n",
    "ax.plot(x, scipy.stats.gamma.pdf(x, a, loc, scale), 'r-', lw=1, alpha=0.9, label='gamma pdf')\n",
    "\n",
    "plt.show()"
   ]
  },
  {
   "cell_type": "code",
   "execution_count": 20,
   "metadata": {},
   "outputs": [
    {
     "name": "stdout",
     "output_type": "stream",
     "text": [
      "0.9998947238182285 0.00010527618177149762 0.02929088653488826 (array(2.), array(0.16666667), array(1.63299316), array(4.))\n"
     ]
    }
   ],
   "source": [
    "print(scipy.stats.gamma.cdf(5, a, loc, scale),\n",
    "      scipy.stats.gamma.sf(5, a, loc, scale),\n",
    "      scipy.stats.gamma.sf(3, a, loc, scale),\n",
    "      scipy.stats.gamma.stats(a, loc=loc, scale=scale, moments='mvsk'))"
   ]
  },
  {
   "cell_type": "markdown",
   "metadata": {},
   "source": [
    "## Try a lognormal distribution\n",
    "\n",
    "SciPy: https://docs.scipy.org/doc/scipy/reference/generated/scipy.stats.lognorm.html\n",
    "\n",
    "Wikipedia: https://en.wikipedia.org/wiki/Log-normal_distribution\n",
    "\n",
    "The lognormal distribution assigns slightly more probability near the right extreme of 5. It achieves this by concentrating more probability near the left extreme of 1.5 as well, and the variance is correspondingly higher than for the Gamma distribution.\n",
    "\n",
    "As the shape parameter $\\sigma\\to\\infty$, the mode of the lognormal distribution approaches the left endpoint $x=1.5$; this is similar to letting $\\alpha\\to 0$ for the Gamma distribution. As the shape parameter $\\sigma\\to 0$, the distribution becomes more symmetric and concentrated around $x=2$; this is similar to letting $\\alpha\\to\\infty$ for the Gamma distribution.\n",
    "\n",
    "**Question:** As $\\sigma\\to 0$, does the shape of the lognormal distribution approach the shape of a normal distribution near $x=2$?"
   ]
  },
  {
   "cell_type": "code",
   "execution_count": 21,
   "metadata": {},
   "outputs": [
    {
     "data": {
      "image/png": "[encoded data removed]",
      "text/plain": [
       "<Figure size 432x288 with 1 Axes>"
      ]
     },
     "metadata": {
      "needs_background": "light"
     },
     "output_type": "display_data"
    }
   ],
   "source": [
    "mean = 2 # desired mean of shifted lognormal distribution\n",
    "loc = 1.5 # location paramter is the left endpoint of the shifted distribution's support\n",
    "width = 5 - loc # upper bound - lower bound (= 3.5 if loc = 1.5)\n",
    "std_mean = mean - loc # \"standardized\" mean, of the un-shifted distribution\n",
    "\n",
    "s = 1 # shape parameter s = sigma = std dev of corresponding normal distribution\n",
    "mu = np.log(std_mean) - s**2/2 # mu = mean of corresponding normal distribution\n",
    "scale = np.exp(mu) # scale parameter is e^mu\n",
    "\n",
    "fig, ax = plt.subplots(1,1)\n",
    "\n",
    "x = np.linspace(loc, loc+width, 200)\n",
    "ax.plot(x, scipy.stats.lognorm.pdf(x, s, loc, scale), 'r-', lw=1, alpha=0.9, label='lognormal pdf')\n",
    "\n",
    "plt.show()"
   ]
  },
  {
   "cell_type": "code",
   "execution_count": 22,
   "metadata": {},
   "outputs": [
    {
     "name": "stdout",
     "output_type": "stream",
     "text": [
      "0.99277564983306 0.007224350166940017 0.054953388759836776 (array(2.), array(0.42957046), array(6.18487714), array(110.93639218))\n"
     ]
    }
   ],
   "source": [
    "print(scipy.stats.lognorm.cdf(5, s, loc, scale),\n",
    "      scipy.stats.lognorm.sf(5, s, loc, scale),\n",
    "      scipy.stats.lognorm.sf(3, s, loc, scale),\n",
    "      scipy.stats.lognorm.stats(s, loc=loc, scale=scale, moments='mvsk'))"
   ]
  },
  {
   "cell_type": "markdown",
   "metadata": {},
   "source": [
    "## Try a Beta distribuiton again\n",
    "\n",
    "SciPy: https://docs.scipy.org/doc/scipy/reference/generated/scipy.stats.beta.html\n",
    "\n",
    "Wikipedia: https://en.wikipedia.org/wiki/Beta_distribution\n",
    "\n",
    "The Beta distribution assigns even less probability near 5 than Gamma, and has a correspondingly wider bulge around its mode, with a slightly larger variance.\n",
    "\n",
    "Note that choosing the same $\\alpha$ for the Gamma and Beta distributions will make the distributions look the same at their left endpoints."
   ]
  },
  {
   "cell_type": "code",
   "execution_count": 23,
   "metadata": {},
   "outputs": [
    {
     "data": {
      "image/png": "[encoded data removed]",
      "text/plain": [
       "<Figure size 432x288 with 1 Axes>"
      ]
     },
     "metadata": {
      "needs_background": "light"
     },
     "output_type": "display_data"
    }
   ],
   "source": [
    "mean = 2 # desired mean of shifted and scaled Beta distribution\n",
    "loc = 1.5 # location paramter is the left endpoint of the shifted distribution's support\n",
    "width = 5 - loc # upper bound - lower bound (= 3.5 if loc = 1.5)\n",
    "std_mean = (mean - loc)/width # \"standardized\" mean - of the un-shifted, un-scaled Beta distribution\n",
    "\n",
    "a = 1.5 # shape parameter a=alpha\n",
    "b = (1/std_mean - 1)*a # mean of Beta is mean = a/(a+b), so we can compute b=beta from mean and a=alpha\n",
    "scale = width # scale the Beta distribution by the width of the interval\n",
    "\n",
    "fig, ax = plt.subplots(1,1)\n",
    "\n",
    "x = np.linspace(loc, loc+width, 200)\n",
    "ax.plot(x, scipy.stats.beta.pdf(x, a, b, loc, scale), 'r-', lw=1, alpha=0.9, label='beta pdf')\n",
    "\n",
    "plt.show()"
   ]
  },
  {
   "cell_type": "code",
   "execution_count": 24,
   "metadata": {},
   "outputs": [
    {
     "name": "stdout",
     "output_type": "stream",
     "text": [
      "0.9999999184825924 8.15174076018721e-08 0.01593308747109201 (array(2.), array(0.13043478), array(1.10754985), array(1.25925926))\n"
     ]
    }
   ],
   "source": [
    "print(scipy.stats.beta.cdf(4.5, a, b, loc, scale),\n",
    "      scipy.stats.beta.sf(4.5, a, b, loc, scale),\n",
    "      scipy.stats.beta.sf(3, a, b, loc, scale),\n",
    "      scipy.stats.beta.stats(a, b, loc=loc, scale=scale, moments='mvsk'))"
   ]
  },
  {
   "cell_type": "code",
   "execution_count": null,
   "metadata": {},
   "outputs": [],
   "source": []
  }
 ],
 "metadata": {
  "kernelspec": {
   "display_name": "Python 3",
   "language": "python",
   "name": "python3"
  },
  "language_info": {
   "codemirror_mode": {
    "name": "ipython",
    "version": 3
   },
   "file_extension": ".py",
   "mimetype": "text/x-python",
   "name": "python",
   "nbconvert_exporter": "python",
   "pygments_lexer": "ipython3",
   "version": "3.6.10"
  }
 },
 "nbformat": 4,
 "nbformat_minor": 2
}
