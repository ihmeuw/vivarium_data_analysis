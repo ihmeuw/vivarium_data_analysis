{
 "cells": [
  {
   "cell_type": "code",
   "execution_count": 1,
   "metadata": {},
   "outputs": [],
   "source": [
    "import numpy as np, pandas as pd, matplotlib.pyplot as plt\n",
    "import scipy.stats as scs"
   ]
  },
  {
   "cell_type": "code",
   "execution_count": 2,
   "metadata": {},
   "outputs": [
    {
     "name": "stdout",
     "output_type": "stream",
     "text": [
      "ndbs\n",
      "Wed Feb  5 16:26:12 PST 2020\n"
     ]
    }
   ],
   "source": [
    "!whoami\n",
    "!date"
   ]
  },
  {
   "cell_type": "markdown",
   "metadata": {},
   "source": [
    "## Try Beta distributions\n",
    "\n",
    "Function from James for converting mean and variance into parameters for Beta"
   ]
  },
  {
   "cell_type": "code",
   "execution_count": 6,
   "metadata": {},
   "outputs": [],
   "source": [
    "def a_b_from_mean_var(mean, variance):\n",
    "    if mean <= 0 or mean >= 1:\n",
    "        raise ValueError(\"Mean must be in the interval (0,1)\")\n",
    "    if variance >= mean*(1-mean):\n",
    "        raise ValueError(\"Variance too large\")\n",
    "        \n",
    "    a = mean*(mean*(1-mean)/variance - 1)\n",
    "    b = (1-mean)*(mean*(1-mean)/variance - 1)\n",
    "    return a, b"
   ]
  },
  {
   "cell_type": "code",
   "execution_count": 4,
   "metadata": {},
   "outputs": [
    {
     "data": {
      "text/plain": [
       "0.16000000000000003"
      ]
     },
     "execution_count": 4,
     "metadata": {},
     "output_type": "execute_result"
    }
   ],
   "source": [
    ".2*(1-.2)"
   ]
  },
  {
   "cell_type": "code",
   "execution_count": 38,
   "metadata": {},
   "outputs": [],
   "source": [
    "mean, variance = .2, 0.02\n",
    "a, b = a_b_from_mean_var(mean, variance)"
   ]
  },
  {
   "cell_type": "code",
   "execution_count": 39,
   "metadata": {},
   "outputs": [
    {
     "data": {
      "image/png": "[encoded data removed]",
      "text/plain": [
       "<Figure size 432x288 with 1 Axes>"
      ]
     },
     "metadata": {
      "needs_background": "light"
     },
     "output_type": "display_data"
    }
   ],
   "source": [
    "fig, ax = plt.subplots(1,1)\n",
    "\n",
    "x = np.linspace(0, 1, 200)\n",
    "# x = np.linspace(loc_left, loc_left+scale, 200)\n",
    "# x = np.linspace(scs.beta.ppf(0.01, a, b), scs.beta.ppf(0.99, a, b), 100)\n",
    "ax.plot(x, scs.beta.pdf(x, a, b), 'r-', lw=1, alpha=0.9, label='beta pdf')\n",
    "\n",
    "plt.show()"
   ]
  },
  {
   "cell_type": "code",
   "execution_count": 40,
   "metadata": {},
   "outputs": [
    {
     "data": {
      "image/png": "[encoded data removed]",
      "text/plain": [
       "<Figure size 432x288 with 1 Axes>"
      ]
     },
     "metadata": {
      "needs_background": "light"
     },
     "output_type": "display_data"
    }
   ],
   "source": [
    "loc_left, scale = 1.5, 5-1.5\n",
    "\n",
    "fig, ax = plt.subplots(1,1)\n",
    "\n",
    "x = np.linspace(loc_left, loc_left+scale, 200)\n",
    "# x = np.linspace(loc_left, loc_left+scale, 200)\n",
    "# x = np.linspace(scs.beta.ppf(0.01, a, b), scs.beta.ppf(0.99, a, b), 100)\n",
    "ax.plot(x, scs.beta.pdf(x, a, b, loc_left, scale), 'r-', lw=1, alpha=0.9, label='beta pdf')\n",
    "\n",
    "plt.show()"
   ]
  },
  {
   "cell_type": "code",
   "execution_count": 44,
   "metadata": {},
   "outputs": [
    {
     "name": "stdout",
     "output_type": "stream",
     "text": [
      "2.2 0.245\n"
     ]
    }
   ],
   "source": [
    "print((mean*scale+loc_left), variance*scale**2)"
   ]
  },
  {
   "cell_type": "code",
   "execution_count": 45,
   "metadata": {},
   "outputs": [
    {
     "name": "stdout",
     "output_type": "stream",
     "text": [
      "0.20000000000000004 0.02\n"
     ]
    }
   ],
   "source": [
    "print((2.2-loc_left)/scale, 0.245/scale**2)"
   ]
  },
  {
   "cell_type": "code",
   "execution_count": 46,
   "metadata": {},
   "outputs": [],
   "source": [
    "def get_standardized_mean_var(mean, variance, loc, scale):\n",
    "    return (mean-loc)/scale, variance/scale**2\n",
    "\n",
    "def get_transformed_mean_var(mean, variance, loc, scale):\n",
    "    return (mean*scale+loc), variance*scale**2"
   ]
  },
  {
   "cell_type": "code",
   "execution_count": 66,
   "metadata": {},
   "outputs": [
    {
     "data": {
      "text/plain": [
       "(0.14285714285714285, 0.1)"
      ]
     },
     "execution_count": 66,
     "metadata": {},
     "output_type": "execute_result"
    }
   ],
   "source": [
    "loc, scale = 1.5, 5-1.5\n",
    "mean, variance = 2, 0.1*scale**2\n",
    "get_standardized_mean_var(mean, variance, loc, scale)"
   ]
  },
  {
   "cell_type": "code",
   "execution_count": 67,
   "metadata": {},
   "outputs": [
    {
     "data": {
      "text/plain": [
       "0.12244897959183673"
      ]
     },
     "execution_count": 67,
     "metadata": {},
     "output_type": "execute_result"
    }
   ],
   "source": [
    "0.14285714285714285*(1-0.14285714285714285)"
   ]
  },
  {
   "cell_type": "code",
   "execution_count": 68,
   "metadata": {},
   "outputs": [
    {
     "name": "stdout",
     "output_type": "stream",
     "text": [
      "0.03206997084548102 0.19241982507288616\n"
     ]
    }
   ],
   "source": [
    "std_mean, std_variance = get_standardized_mean_var(mean, variance, loc, scale)\n",
    "a, b = a_b_from_mean_var(std_mean, std_variance)\n",
    "print(a,b)"
   ]
  },
  {
   "cell_type": "code",
   "execution_count": 69,
   "metadata": {},
   "outputs": [
    {
     "data": {
      "image/png": "[encoded data removed]",
      "text/plain": [
       "<Figure size 432x288 with 1 Axes>"
      ]
     },
     "metadata": {
      "needs_background": "light"
     },
     "output_type": "display_data"
    }
   ],
   "source": [
    "fig, ax = plt.subplots(1,1)\n",
    "\n",
    "x = np.linspace(loc, loc+scale, 200)\n",
    "ax.plot(x, scs.beta.pdf(x, a, b, loc, scale), 'r-', lw=1, alpha=0.9, label='beta pdf')\n",
    "\n",
    "plt.show()"
   ]
  },
  {
   "cell_type": "code",
   "execution_count": 70,
   "metadata": {},
   "outputs": [
    {
     "data": {
      "text/plain": [
       "3.5"
      ]
     },
     "execution_count": 70,
     "metadata": {},
     "output_type": "execute_result"
    }
   ],
   "source": [
    "5-1.5"
   ]
  },
  {
   "cell_type": "markdown",
   "metadata": {},
   "source": [
    "## Try a Gamma distribution"
   ]
  },
  {
   "cell_type": "code",
   "execution_count": 92,
   "metadata": {},
   "outputs": [],
   "source": [
    "import scipy.stats"
   ]
  },
  {
   "cell_type": "code",
   "execution_count": 190,
   "metadata": {},
   "outputs": [
    {
     "data": {
      "image/png": "[encoded data removed]",
      "text/plain": [
       "<Figure size 432x288 with 1 Axes>"
      ]
     },
     "metadata": {
      "needs_background": "light"
     },
     "output_type": "display_data"
    }
   ],
   "source": [
    "mean = 2 # desired mean of shifted Gamma distribution\n",
    "loc = 1.5 # location paramter is the left endpoint of the shifted distribution's support\n",
    "width = 5 - loc # upper bound - lower bound = 3.5\n",
    "std_mean = mean - loc # \"standardized\" mean, of the un-shifted distribution\n",
    "a = 2 # shape parameter\n",
    "scale = std_mean/a # mean of standard Gamma is std_mean=shape*scale, so scale = std_mean/shape\n",
    "\n",
    "fig, ax = plt.subplots(1,1)\n",
    "\n",
    "x = np.linspace(loc, loc+width, 200)\n",
    "ax.plot(x, scipy.stats.gamma.pdf(x, a, loc, scale), 'r-', lw=1, alpha=0.9, label='gamma pdf')\n",
    "\n",
    "plt.show()"
   ]
  },
  {
   "cell_type": "code",
   "execution_count": 191,
   "metadata": {},
   "outputs": [
    {
     "name": "stdout",
     "output_type": "stream",
     "text": [
      "0.9999875270692135 1.2472930786553525e-05 (array(2.), array(0.125), array(1.41421356), array(3.))\n"
     ]
    }
   ],
   "source": [
    "print(scipy.stats.gamma.cdf(5, a, loc, scale),\n",
    "     scipy.stats.gamma.sf(5, a, loc, scale),\n",
    "     scipy.stats.gamma.stats(a, loc=loc, scale=scale, moments='mvsk'))"
   ]
  },
  {
   "cell_type": "code",
   "execution_count": 192,
   "metadata": {},
   "outputs": [
    {
     "data": {
      "text/plain": [
       "0.01735126523666451"
      ]
     },
     "execution_count": 192,
     "metadata": {},
     "output_type": "execute_result"
    }
   ],
   "source": [
    "scipy.stats.gamma.sf(3, a, loc, scale)"
   ]
  },
  {
   "cell_type": "markdown",
   "metadata": {},
   "source": [
    "## Try a lognormal distribution"
   ]
  },
  {
   "cell_type": "code",
   "execution_count": null,
   "metadata": {},
   "outputs": [],
   "source": []
  }
 ],
 "metadata": {
  "kernelspec": {
   "display_name": "Python 3",
   "language": "python",
   "name": "python3"
  },
  "language_info": {
   "codemirror_mode": {
    "name": "ipython",
    "version": 3
   },
   "file_extension": ".py",
   "mimetype": "text/x-python",
   "name": "python",
   "nbconvert_exporter": "python",
   "pygments_lexer": "ipython3",
   "version": "3.6.9"
  }
 },
 "nbformat": 4,
 "nbformat_minor": 2
}
