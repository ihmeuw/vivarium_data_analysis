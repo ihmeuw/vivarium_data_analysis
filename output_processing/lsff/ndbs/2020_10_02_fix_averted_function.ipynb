{
 "cells": [
  {
   "cell_type": "markdown",
   "metadata": {},
   "source": [
    "# Goal: Figure out why it's not working to compute differences of dataframes using the method in my `averted` function"
   ]
  },
  {
   "cell_type": "code",
   "execution_count": 1,
   "metadata": {},
   "outputs": [
    {
     "name": "stdout",
     "output_type": "stream",
     "text": [
      "ndbs\n",
      "Fri Oct  2 18:51:41 PDT 2020\n"
     ]
    }
   ],
   "source": [
    "import pandas as pd, numpy as np\n",
    "import vivarium_output_loader as vol\n",
    "import lsff_output_processing as lop\n",
    "\n",
    "!whoami\n",
    "!date"
   ]
  },
  {
   "cell_type": "code",
   "execution_count": 2,
   "metadata": {},
   "outputs": [],
   "source": [
    "%load_ext autoreload\n",
    "%autoreload 2"
   ]
  },
  {
   "cell_type": "markdown",
   "metadata": {},
   "source": [
    "## 1. Define output directories and load count space data"
   ]
  },
  {
   "cell_type": "code",
   "execution_count": 3,
   "metadata": {},
   "outputs": [
    {
     "data": {
      "text/plain": [
       "dict_keys(['India', 'Nigeria', 'Ethiopia'])"
      ]
     },
     "execution_count": 3,
     "metadata": {},
     "output_type": "execute_result"
    }
   ],
   "source": [
    "base_directory = '/share/costeffectiveness/results/vivarium_conic_lsff'\n",
    "locations_rundates = {\n",
    "    'India': '2020_06_26_20_35_00',\n",
    "    'Nigeria': '2020_06_26_20_28_27',\n",
    "    'Ethiopia': '2020_06_28_12_40_56',\n",
    "}\n",
    "locations_paths = vol.locaction_paths_from_rundates(base_directory, locations_rundates)\n",
    "\n",
    "# Load a separate dictionary for each country\n",
    "data = vol.load_count_data_by_location(locations_paths)\n",
    "data.keys()"
   ]
  },
  {
   "cell_type": "code",
   "execution_count": 4,
   "metadata": {},
   "outputs": [
    {
     "data": {
      "text/plain": [
       "dict_keys(['gestational_age', 'transition_count', 'hemoglobin_level', 'deaths', 'state_person_time', 'anemia_state_person_time', 'births_with_ntd', 'population', 'person_time', 'ylls', 'ylds', 'births', 'birth_weight'])"
      ]
     },
     "execution_count": 4,
     "metadata": {},
     "output_type": "execute_result"
    }
   ],
   "source": [
    "# View the table names for one of the countries (they should be the same for all)\n",
    "data['India'].keys()"
   ]
  },
  {
   "cell_type": "code",
   "execution_count": 7,
   "metadata": {},
   "outputs": [
    {
     "data": {
      "text/html": [
       "<div>\n",
       "<style scoped>\n",
       "    .dataframe tbody tr th:only-of-type {\n",
       "        vertical-align: middle;\n",
       "    }\n",
       "\n",
       "    .dataframe tbody tr th {\n",
       "        vertical-align: top;\n",
       "    }\n",
       "\n",
       "    .dataframe thead th {\n",
       "        text-align: right;\n",
       "    }\n",
       "</style>\n",
       "<table border=\"1\" class=\"dataframe\">\n",
       "  <thead>\n",
       "    <tr style=\"text-align: right;\">\n",
       "      <th></th>\n",
       "      <th>year</th>\n",
       "      <th>age_group</th>\n",
       "      <th>cause</th>\n",
       "      <th>folic_acid_fortification_group</th>\n",
       "      <th>vitamin_a_fortification_group</th>\n",
       "      <th>measure</th>\n",
       "      <th>input_draw</th>\n",
       "      <th>scenario</th>\n",
       "      <th>value</th>\n",
       "    </tr>\n",
       "  </thead>\n",
       "  <tbody>\n",
       "    <tr>\n",
       "      <th>0</th>\n",
       "      <td>2020</td>\n",
       "      <td>1_to_4</td>\n",
       "      <td>diarrheal_diseases</td>\n",
       "      <td>covered</td>\n",
       "      <td>covered</td>\n",
       "      <td>ylls</td>\n",
       "      <td>21</td>\n",
       "      <td>baseline</td>\n",
       "      <td>0.0</td>\n",
       "    </tr>\n",
       "    <tr>\n",
       "      <th>1</th>\n",
       "      <td>2020</td>\n",
       "      <td>1_to_4</td>\n",
       "      <td>diarrheal_diseases</td>\n",
       "      <td>covered</td>\n",
       "      <td>covered</td>\n",
       "      <td>ylls</td>\n",
       "      <td>21</td>\n",
       "      <td>folic_acid_fortification_scale_up</td>\n",
       "      <td>0.0</td>\n",
       "    </tr>\n",
       "    <tr>\n",
       "      <th>2</th>\n",
       "      <td>2020</td>\n",
       "      <td>1_to_4</td>\n",
       "      <td>diarrheal_diseases</td>\n",
       "      <td>covered</td>\n",
       "      <td>covered</td>\n",
       "      <td>ylls</td>\n",
       "      <td>21</td>\n",
       "      <td>iron_folic_acid_fortification_scale_up</td>\n",
       "      <td>0.0</td>\n",
       "    </tr>\n",
       "    <tr>\n",
       "      <th>3</th>\n",
       "      <td>2020</td>\n",
       "      <td>1_to_4</td>\n",
       "      <td>diarrheal_diseases</td>\n",
       "      <td>covered</td>\n",
       "      <td>covered</td>\n",
       "      <td>ylls</td>\n",
       "      <td>21</td>\n",
       "      <td>vitamin_a_fortification_scale_up</td>\n",
       "      <td>0.0</td>\n",
       "    </tr>\n",
       "    <tr>\n",
       "      <th>4</th>\n",
       "      <td>2020</td>\n",
       "      <td>1_to_4</td>\n",
       "      <td>diarrheal_diseases</td>\n",
       "      <td>covered</td>\n",
       "      <td>covered</td>\n",
       "      <td>ylls</td>\n",
       "      <td>29</td>\n",
       "      <td>baseline</td>\n",
       "      <td>0.0</td>\n",
       "    </tr>\n",
       "  </tbody>\n",
       "</table>\n",
       "</div>"
      ],
      "text/plain": [
       "   year age_group               cause folic_acid_fortification_group  \\\n",
       "0  2020    1_to_4  diarrheal_diseases                        covered   \n",
       "1  2020    1_to_4  diarrheal_diseases                        covered   \n",
       "2  2020    1_to_4  diarrheal_diseases                        covered   \n",
       "3  2020    1_to_4  diarrheal_diseases                        covered   \n",
       "4  2020    1_to_4  diarrheal_diseases                        covered   \n",
       "\n",
       "  vitamin_a_fortification_group measure  input_draw  \\\n",
       "0                       covered    ylls          21   \n",
       "1                       covered    ylls          21   \n",
       "2                       covered    ylls          21   \n",
       "3                       covered    ylls          21   \n",
       "4                       covered    ylls          29   \n",
       "\n",
       "                                 scenario  value  \n",
       "0                                baseline    0.0  \n",
       "1       folic_acid_fortification_scale_up    0.0  \n",
       "2  iron_folic_acid_fortification_scale_up    0.0  \n",
       "3        vitamin_a_fortification_scale_up    0.0  \n",
       "4                                baseline    0.0  "
      ]
     },
     "execution_count": 7,
     "metadata": {},
     "output_type": "execute_result"
    }
   ],
   "source": [
    "# View the yll table\n",
    "data['India']['ylls'].head()"
   ]
  },
  {
   "cell_type": "code",
   "execution_count": 5,
   "metadata": {},
   "outputs": [
    {
     "data": {
      "text/plain": [
       "dict_keys(['gestational_age', 'transition_count', 'hemoglobin_level', 'deaths', 'state_person_time', 'anemia_state_person_time', 'births_with_ntd', 'population', 'person_time', 'ylls', 'ylds', 'births', 'birth_weight'])"
      ]
     },
     "execution_count": 5,
     "metadata": {},
     "output_type": "execute_result"
    }
   ],
   "source": [
    "# Merge the data for all locations into a single dictionary of dataframes\n",
    "all_data = vol.merge_location_count_data(data)\n",
    "all_data.keys()"
   ]
  },
  {
   "cell_type": "code",
   "execution_count": 6,
   "metadata": {},
   "outputs": [
    {
     "data": {
      "text/html": [
       "<div>\n",
       "<style scoped>\n",
       "    .dataframe tbody tr th:only-of-type {\n",
       "        vertical-align: middle;\n",
       "    }\n",
       "\n",
       "    .dataframe tbody tr th {\n",
       "        vertical-align: top;\n",
       "    }\n",
       "\n",
       "    .dataframe thead th {\n",
       "        text-align: right;\n",
       "    }\n",
       "</style>\n",
       "<table border=\"1\" class=\"dataframe\">\n",
       "  <thead>\n",
       "    <tr style=\"text-align: right;\">\n",
       "      <th></th>\n",
       "      <th>location</th>\n",
       "      <th>year</th>\n",
       "      <th>age_group</th>\n",
       "      <th>cause</th>\n",
       "      <th>folic_acid_fortification_group</th>\n",
       "      <th>vitamin_a_fortification_group</th>\n",
       "      <th>measure</th>\n",
       "      <th>input_draw</th>\n",
       "      <th>scenario</th>\n",
       "      <th>value</th>\n",
       "    </tr>\n",
       "  </thead>\n",
       "  <tbody>\n",
       "    <tr>\n",
       "      <th>0</th>\n",
       "      <td>India</td>\n",
       "      <td>2020</td>\n",
       "      <td>1_to_4</td>\n",
       "      <td>diarrheal_diseases</td>\n",
       "      <td>covered</td>\n",
       "      <td>covered</td>\n",
       "      <td>ylls</td>\n",
       "      <td>21</td>\n",
       "      <td>baseline</td>\n",
       "      <td>0.0</td>\n",
       "    </tr>\n",
       "    <tr>\n",
       "      <th>1</th>\n",
       "      <td>India</td>\n",
       "      <td>2020</td>\n",
       "      <td>1_to_4</td>\n",
       "      <td>diarrheal_diseases</td>\n",
       "      <td>covered</td>\n",
       "      <td>covered</td>\n",
       "      <td>ylls</td>\n",
       "      <td>21</td>\n",
       "      <td>folic_acid_fortification_scale_up</td>\n",
       "      <td>0.0</td>\n",
       "    </tr>\n",
       "    <tr>\n",
       "      <th>2</th>\n",
       "      <td>India</td>\n",
       "      <td>2020</td>\n",
       "      <td>1_to_4</td>\n",
       "      <td>diarrheal_diseases</td>\n",
       "      <td>covered</td>\n",
       "      <td>covered</td>\n",
       "      <td>ylls</td>\n",
       "      <td>21</td>\n",
       "      <td>iron_folic_acid_fortification_scale_up</td>\n",
       "      <td>0.0</td>\n",
       "    </tr>\n",
       "    <tr>\n",
       "      <th>3</th>\n",
       "      <td>India</td>\n",
       "      <td>2020</td>\n",
       "      <td>1_to_4</td>\n",
       "      <td>diarrheal_diseases</td>\n",
       "      <td>covered</td>\n",
       "      <td>covered</td>\n",
       "      <td>ylls</td>\n",
       "      <td>21</td>\n",
       "      <td>vitamin_a_fortification_scale_up</td>\n",
       "      <td>0.0</td>\n",
       "    </tr>\n",
       "    <tr>\n",
       "      <th>4</th>\n",
       "      <td>India</td>\n",
       "      <td>2020</td>\n",
       "      <td>1_to_4</td>\n",
       "      <td>diarrheal_diseases</td>\n",
       "      <td>covered</td>\n",
       "      <td>covered</td>\n",
       "      <td>ylls</td>\n",
       "      <td>29</td>\n",
       "      <td>baseline</td>\n",
       "      <td>0.0</td>\n",
       "    </tr>\n",
       "  </tbody>\n",
       "</table>\n",
       "</div>"
      ],
      "text/plain": [
       "  location  year age_group               cause folic_acid_fortification_group  \\\n",
       "0    India  2020    1_to_4  diarrheal_diseases                        covered   \n",
       "1    India  2020    1_to_4  diarrheal_diseases                        covered   \n",
       "2    India  2020    1_to_4  diarrheal_diseases                        covered   \n",
       "3    India  2020    1_to_4  diarrheal_diseases                        covered   \n",
       "4    India  2020    1_to_4  diarrheal_diseases                        covered   \n",
       "\n",
       "  vitamin_a_fortification_group measure  input_draw  \\\n",
       "0                       covered    ylls          21   \n",
       "1                       covered    ylls          21   \n",
       "2                       covered    ylls          21   \n",
       "3                       covered    ylls          21   \n",
       "4                       covered    ylls          29   \n",
       "\n",
       "                                 scenario  value  \n",
       "0                                baseline    0.0  \n",
       "1       folic_acid_fortification_scale_up    0.0  \n",
       "2  iron_folic_acid_fortification_scale_up    0.0  \n",
       "3        vitamin_a_fortification_scale_up    0.0  \n",
       "4                                baseline    0.0  "
      ]
     },
     "execution_count": 6,
     "metadata": {},
     "output_type": "execute_result"
    }
   ],
   "source": [
    "# Compare yll table with the one above\n",
    "all_data['ylls'].head()"
   ]
  },
  {
   "cell_type": "markdown",
   "metadata": {},
   "source": [
    "## 2. Check iron effect on birthweight"
   ]
  },
  {
   "cell_type": "code",
   "execution_count": 8,
   "metadata": {},
   "outputs": [
    {
     "data": {
      "text/html": [
       "<div>\n",
       "<style scoped>\n",
       "    .dataframe tbody tr th:only-of-type {\n",
       "        vertical-align: middle;\n",
       "    }\n",
       "\n",
       "    .dataframe tbody tr th {\n",
       "        vertical-align: top;\n",
       "    }\n",
       "\n",
       "    .dataframe thead th {\n",
       "        text-align: right;\n",
       "    }\n",
       "</style>\n",
       "<table border=\"1\" class=\"dataframe\">\n",
       "  <thead>\n",
       "    <tr style=\"text-align: right;\">\n",
       "      <th></th>\n",
       "      <th>location</th>\n",
       "      <th>year</th>\n",
       "      <th>sex</th>\n",
       "      <th>folic_acid_fortification_group</th>\n",
       "      <th>measure</th>\n",
       "      <th>input_draw</th>\n",
       "      <th>scenario</th>\n",
       "      <th>value</th>\n",
       "    </tr>\n",
       "  </thead>\n",
       "  <tbody>\n",
       "    <tr>\n",
       "      <th>0</th>\n",
       "      <td>India</td>\n",
       "      <td>2020</td>\n",
       "      <td>female</td>\n",
       "      <td>covered</td>\n",
       "      <td>live_births</td>\n",
       "      <td>21</td>\n",
       "      <td>baseline</td>\n",
       "      <td>1857.0</td>\n",
       "    </tr>\n",
       "    <tr>\n",
       "      <th>1</th>\n",
       "      <td>India</td>\n",
       "      <td>2020</td>\n",
       "      <td>female</td>\n",
       "      <td>covered</td>\n",
       "      <td>live_births</td>\n",
       "      <td>21</td>\n",
       "      <td>baseline</td>\n",
       "      <td>12.0</td>\n",
       "    </tr>\n",
       "    <tr>\n",
       "      <th>2</th>\n",
       "      <td>India</td>\n",
       "      <td>2020</td>\n",
       "      <td>female</td>\n",
       "      <td>covered</td>\n",
       "      <td>live_births</td>\n",
       "      <td>21</td>\n",
       "      <td>baseline</td>\n",
       "      <td>530.0</td>\n",
       "    </tr>\n",
       "    <tr>\n",
       "      <th>3</th>\n",
       "      <td>India</td>\n",
       "      <td>2020</td>\n",
       "      <td>female</td>\n",
       "      <td>covered</td>\n",
       "      <td>live_births</td>\n",
       "      <td>21</td>\n",
       "      <td>folic_acid_fortification_scale_up</td>\n",
       "      <td>1857.0</td>\n",
       "    </tr>\n",
       "    <tr>\n",
       "      <th>4</th>\n",
       "      <td>India</td>\n",
       "      <td>2020</td>\n",
       "      <td>female</td>\n",
       "      <td>covered</td>\n",
       "      <td>live_births</td>\n",
       "      <td>21</td>\n",
       "      <td>folic_acid_fortification_scale_up</td>\n",
       "      <td>12.0</td>\n",
       "    </tr>\n",
       "  </tbody>\n",
       "</table>\n",
       "</div>"
      ],
      "text/plain": [
       "  location  year     sex folic_acid_fortification_group      measure  \\\n",
       "0    India  2020  female                        covered  live_births   \n",
       "1    India  2020  female                        covered  live_births   \n",
       "2    India  2020  female                        covered  live_births   \n",
       "3    India  2020  female                        covered  live_births   \n",
       "4    India  2020  female                        covered  live_births   \n",
       "\n",
       "   input_draw                           scenario   value  \n",
       "0          21                           baseline  1857.0  \n",
       "1          21                           baseline    12.0  \n",
       "2          21                           baseline   530.0  \n",
       "3          21  folic_acid_fortification_scale_up  1857.0  \n",
       "4          21  folic_acid_fortification_scale_up    12.0  "
      ]
     },
     "execution_count": 8,
     "metadata": {},
     "output_type": "execute_result"
    }
   ],
   "source": [
    "all_data['births'].head()"
   ]
  },
  {
   "cell_type": "code",
   "execution_count": 9,
   "metadata": {},
   "outputs": [
    {
     "data": {
      "text/plain": [
       "array(['covered', 'uncovered', 'unknown'], dtype=object)"
      ]
     },
     "execution_count": 9,
     "metadata": {},
     "output_type": "execute_result"
    }
   ],
   "source": [
    "all_data['births'].folic_acid_fortification_group.unique()"
   ]
  },
  {
   "cell_type": "code",
   "execution_count": 10,
   "metadata": {},
   "outputs": [
    {
     "data": {
      "text/html": [
       "<div>\n",
       "<style scoped>\n",
       "    .dataframe tbody tr th:only-of-type {\n",
       "        vertical-align: middle;\n",
       "    }\n",
       "\n",
       "    .dataframe tbody tr th {\n",
       "        vertical-align: top;\n",
       "    }\n",
       "\n",
       "    .dataframe thead th {\n",
       "        text-align: right;\n",
       "    }\n",
       "</style>\n",
       "<table border=\"1\" class=\"dataframe\">\n",
       "  <thead>\n",
       "    <tr style=\"text-align: right;\">\n",
       "      <th></th>\n",
       "      <th>location</th>\n",
       "      <th>year</th>\n",
       "      <th>sex</th>\n",
       "      <th>measure</th>\n",
       "      <th>input_draw</th>\n",
       "      <th>scenario</th>\n",
       "      <th>value</th>\n",
       "      <th>iron_fortification_group</th>\n",
       "    </tr>\n",
       "  </thead>\n",
       "  <tbody>\n",
       "    <tr>\n",
       "      <th>0</th>\n",
       "      <td>India</td>\n",
       "      <td>2020</td>\n",
       "      <td>female</td>\n",
       "      <td>birth_weight_mean</td>\n",
       "      <td>21</td>\n",
       "      <td>baseline</td>\n",
       "      <td>2912.186341</td>\n",
       "      <td>uncovered</td>\n",
       "    </tr>\n",
       "    <tr>\n",
       "      <th>1</th>\n",
       "      <td>India</td>\n",
       "      <td>2020</td>\n",
       "      <td>female</td>\n",
       "      <td>birth_weight_mean</td>\n",
       "      <td>21</td>\n",
       "      <td>baseline</td>\n",
       "      <td>2897.547480</td>\n",
       "      <td>covered</td>\n",
       "    </tr>\n",
       "    <tr>\n",
       "      <th>2</th>\n",
       "      <td>India</td>\n",
       "      <td>2020</td>\n",
       "      <td>female</td>\n",
       "      <td>birth_weight_mean</td>\n",
       "      <td>21</td>\n",
       "      <td>folic_acid_fortification_scale_up</td>\n",
       "      <td>2912.186341</td>\n",
       "      <td>uncovered</td>\n",
       "    </tr>\n",
       "    <tr>\n",
       "      <th>3</th>\n",
       "      <td>India</td>\n",
       "      <td>2020</td>\n",
       "      <td>female</td>\n",
       "      <td>birth_weight_mean</td>\n",
       "      <td>21</td>\n",
       "      <td>folic_acid_fortification_scale_up</td>\n",
       "      <td>2897.547480</td>\n",
       "      <td>covered</td>\n",
       "    </tr>\n",
       "    <tr>\n",
       "      <th>4</th>\n",
       "      <td>India</td>\n",
       "      <td>2020</td>\n",
       "      <td>female</td>\n",
       "      <td>birth_weight_mean</td>\n",
       "      <td>21</td>\n",
       "      <td>iron_folic_acid_fortification_scale_up</td>\n",
       "      <td>2912.186341</td>\n",
       "      <td>uncovered</td>\n",
       "    </tr>\n",
       "  </tbody>\n",
       "</table>\n",
       "</div>"
      ],
      "text/plain": [
       "  location  year     sex            measure  input_draw  \\\n",
       "0    India  2020  female  birth_weight_mean          21   \n",
       "1    India  2020  female  birth_weight_mean          21   \n",
       "2    India  2020  female  birth_weight_mean          21   \n",
       "3    India  2020  female  birth_weight_mean          21   \n",
       "4    India  2020  female  birth_weight_mean          21   \n",
       "\n",
       "                                 scenario        value  \\\n",
       "0                                baseline  2912.186341   \n",
       "1                                baseline  2897.547480   \n",
       "2       folic_acid_fortification_scale_up  2912.186341   \n",
       "3       folic_acid_fortification_scale_up  2897.547480   \n",
       "4  iron_folic_acid_fortification_scale_up  2912.186341   \n",
       "\n",
       "  iron_fortification_group  \n",
       "0                uncovered  \n",
       "1                  covered  \n",
       "2                uncovered  \n",
       "3                  covered  \n",
       "4                uncovered  "
      ]
     },
     "execution_count": 10,
     "metadata": {},
     "output_type": "execute_result"
    }
   ],
   "source": [
    "all_data['birth_weight'].head()"
   ]
  },
  {
   "cell_type": "code",
   "execution_count": 11,
   "metadata": {},
   "outputs": [
    {
     "data": {
      "text/plain": [
       "array(['uncovered', 'covered'], dtype=object)"
      ]
     },
     "execution_count": 11,
     "metadata": {},
     "output_type": "execute_result"
    }
   ],
   "source": [
    "all_data['birth_weight'].iron_fortification_group.unique()"
   ]
  },
  {
   "cell_type": "code",
   "execution_count": 12,
   "metadata": {},
   "outputs": [
    {
     "data": {
      "text/plain": [
       "array(['baseline', 'folic_acid_fortification_scale_up',\n",
       "       'iron_folic_acid_fortification_scale_up',\n",
       "       'vitamin_a_fortification_scale_up'], dtype=object)"
      ]
     },
     "execution_count": 12,
     "metadata": {},
     "output_type": "execute_result"
    }
   ],
   "source": [
    "all_data['birth_weight'].scenario.unique()"
   ]
  },
  {
   "cell_type": "code",
   "execution_count": 13,
   "metadata": {},
   "outputs": [
    {
     "data": {
      "text/plain": [
       "array(['birth_weight_mean', 'birth_weight_sd'], dtype=object)"
      ]
     },
     "execution_count": 13,
     "metadata": {},
     "output_type": "execute_result"
    }
   ],
   "source": [
    "all_data['birth_weight'].measure.unique()"
   ]
  },
  {
   "cell_type": "code",
   "execution_count": 14,
   "metadata": {},
   "outputs": [
    {
     "data": {
      "text/html": [
       "<div>\n",
       "<style scoped>\n",
       "    .dataframe tbody tr th:only-of-type {\n",
       "        vertical-align: middle;\n",
       "    }\n",
       "\n",
       "    .dataframe tbody tr th {\n",
       "        vertical-align: top;\n",
       "    }\n",
       "\n",
       "    .dataframe thead th {\n",
       "        text-align: right;\n",
       "    }\n",
       "</style>\n",
       "<table border=\"1\" class=\"dataframe\">\n",
       "  <thead>\n",
       "    <tr style=\"text-align: right;\">\n",
       "      <th></th>\n",
       "      <th>location</th>\n",
       "      <th>year</th>\n",
       "      <th>sex</th>\n",
       "      <th>measure</th>\n",
       "      <th>input_draw</th>\n",
       "      <th>scenario</th>\n",
       "      <th>value</th>\n",
       "      <th>iron_fortification_group</th>\n",
       "    </tr>\n",
       "  </thead>\n",
       "  <tbody>\n",
       "    <tr>\n",
       "      <th>1604</th>\n",
       "      <td>Nigeria</td>\n",
       "      <td>2022</td>\n",
       "      <td>female</td>\n",
       "      <td>birth_weight_mean</td>\n",
       "      <td>21</td>\n",
       "      <td>iron_folic_acid_fortification_scale_up</td>\n",
       "      <td>3193.635062</td>\n",
       "      <td>uncovered</td>\n",
       "    </tr>\n",
       "    <tr>\n",
       "      <th>1605</th>\n",
       "      <td>Nigeria</td>\n",
       "      <td>2022</td>\n",
       "      <td>female</td>\n",
       "      <td>birth_weight_mean</td>\n",
       "      <td>21</td>\n",
       "      <td>iron_folic_acid_fortification_scale_up</td>\n",
       "      <td>3201.502874</td>\n",
       "      <td>covered</td>\n",
       "    </tr>\n",
       "    <tr>\n",
       "      <th>2004</th>\n",
       "      <td>Nigeria</td>\n",
       "      <td>2022</td>\n",
       "      <td>male</td>\n",
       "      <td>birth_weight_mean</td>\n",
       "      <td>21</td>\n",
       "      <td>iron_folic_acid_fortification_scale_up</td>\n",
       "      <td>3235.496806</td>\n",
       "      <td>uncovered</td>\n",
       "    </tr>\n",
       "    <tr>\n",
       "      <th>2005</th>\n",
       "      <td>Nigeria</td>\n",
       "      <td>2022</td>\n",
       "      <td>male</td>\n",
       "      <td>birth_weight_mean</td>\n",
       "      <td>21</td>\n",
       "      <td>iron_folic_acid_fortification_scale_up</td>\n",
       "      <td>3241.154803</td>\n",
       "      <td>covered</td>\n",
       "    </tr>\n",
       "  </tbody>\n",
       "</table>\n",
       "</div>"
      ],
      "text/plain": [
       "     location  year     sex            measure  input_draw  \\\n",
       "1604  Nigeria  2022  female  birth_weight_mean          21   \n",
       "1605  Nigeria  2022  female  birth_weight_mean          21   \n",
       "2004  Nigeria  2022    male  birth_weight_mean          21   \n",
       "2005  Nigeria  2022    male  birth_weight_mean          21   \n",
       "\n",
       "                                    scenario        value  \\\n",
       "1604  iron_folic_acid_fortification_scale_up  3193.635062   \n",
       "1605  iron_folic_acid_fortification_scale_up  3201.502874   \n",
       "2004  iron_folic_acid_fortification_scale_up  3235.496806   \n",
       "2005  iron_folic_acid_fortification_scale_up  3241.154803   \n",
       "\n",
       "     iron_fortification_group  \n",
       "1604                uncovered  \n",
       "1605                  covered  \n",
       "2004                uncovered  \n",
       "2005                  covered  "
      ]
     },
     "execution_count": 14,
     "metadata": {},
     "output_type": "execute_result"
    }
   ],
   "source": [
    "year = '2022'\n",
    "scenario = 'iron_folic_acid_fortification_scale_up'\n",
    "location = 'Nigeria'\n",
    "draw = 21\n",
    "query = ('measure==\"birth_weight_mean\" and scenario==@scenario and year==@year'\n",
    "         ' and input_draw==@draw and location==@location'\n",
    "        )\n",
    "all_data['birth_weight'].query(query)"
   ]
  },
  {
   "cell_type": "code",
   "execution_count": 15,
   "metadata": {},
   "outputs": [
    {
     "name": "stdout",
     "output_type": "stream",
     "text": [
      "['year', 'sex', 'measure', 'input_draw', 'scenario']\n",
      "baseline index: ['year', 'sex', 'measure', 'input_draw', 'scenario']\n",
      "intervention index: ['year', 'sex', 'measure', 'input_draw', 'scenario', 'iron_fortification_group']\n",
      "averted index: ['year', 'sex', 'measure', 'input_draw', 'scenario']\n",
      "Index(['year', 'sex', 'measure', 'input_draw', 'scenario', 'value'], dtype='object')\n"
     ]
    },
    {
     "ename": "KeyError",
     "evalue": "'iron_fortification_group'",
     "output_type": "error",
     "traceback": [
      "\u001b[0;31m---------------------------------------------------------------------------\u001b[0m",
      "\u001b[0;31mKeyError\u001b[0m                                  Traceback (most recent call last)",
      "\u001b[0;32m~/miniconda3/envs/lsff/lib/python3.6/site-packages/pandas/core/indexes/base.py\u001b[0m in \u001b[0;36mget_loc\u001b[0;34m(self, key, method, tolerance)\u001b[0m\n\u001b[1;32m   2656\u001b[0m             \u001b[0;32mtry\u001b[0m\u001b[0;34m:\u001b[0m\u001b[0;34m\u001b[0m\u001b[0;34m\u001b[0m\u001b[0m\n\u001b[0;32m-> 2657\u001b[0;31m                 \u001b[0;32mreturn\u001b[0m \u001b[0mself\u001b[0m\u001b[0;34m.\u001b[0m\u001b[0m_engine\u001b[0m\u001b[0;34m.\u001b[0m\u001b[0mget_loc\u001b[0m\u001b[0;34m(\u001b[0m\u001b[0mkey\u001b[0m\u001b[0;34m)\u001b[0m\u001b[0;34m\u001b[0m\u001b[0;34m\u001b[0m\u001b[0m\n\u001b[0m\u001b[1;32m   2658\u001b[0m             \u001b[0;32mexcept\u001b[0m \u001b[0mKeyError\u001b[0m\u001b[0;34m:\u001b[0m\u001b[0;34m\u001b[0m\u001b[0;34m\u001b[0m\u001b[0m\n",
      "\u001b[0;32mpandas/_libs/index.pyx\u001b[0m in \u001b[0;36mpandas._libs.index.IndexEngine.get_loc\u001b[0;34m()\u001b[0m\n",
      "\u001b[0;32mpandas/_libs/index.pyx\u001b[0m in \u001b[0;36mpandas._libs.index.IndexEngine.get_loc\u001b[0;34m()\u001b[0m\n",
      "\u001b[0;32mpandas/_libs/hashtable_class_helper.pxi\u001b[0m in \u001b[0;36mpandas._libs.hashtable.PyObjectHashTable.get_item\u001b[0;34m()\u001b[0m\n",
      "\u001b[0;32mpandas/_libs/hashtable_class_helper.pxi\u001b[0m in \u001b[0;36mpandas._libs.hashtable.PyObjectHashTable.get_item\u001b[0;34m()\u001b[0m\n",
      "\u001b[0;31mKeyError\u001b[0m: 'iron_fortification_group'",
      "\nDuring handling of the above exception, another exception occurred:\n",
      "\u001b[0;31mKeyError\u001b[0m                                  Traceback (most recent call last)",
      "\u001b[0;32m<ipython-input-15-b171380cd638>\u001b[0m in \u001b[0;36m<module>\u001b[0;34m\u001b[0m\n\u001b[1;32m      1\u001b[0m \u001b[0mbw_mean\u001b[0m \u001b[0;34m=\u001b[0m \u001b[0mdata\u001b[0m\u001b[0;34m[\u001b[0m\u001b[0;34m'Nigeria'\u001b[0m\u001b[0;34m]\u001b[0m\u001b[0;34m[\u001b[0m\u001b[0;34m'birth_weight'\u001b[0m\u001b[0;34m]\u001b[0m\u001b[0;31m#.query('measure==\"birth_weight_mean\"')\u001b[0m\u001b[0;34m\u001b[0m\u001b[0;34m\u001b[0m\u001b[0m\n\u001b[1;32m      2\u001b[0m \u001b[0mbw_mean\u001b[0m\u001b[0;34m.\u001b[0m\u001b[0mhead\u001b[0m\u001b[0;34m(\u001b[0m\u001b[0;34m)\u001b[0m\u001b[0;34m\u001b[0m\u001b[0;34m\u001b[0m\u001b[0m\n\u001b[0;32m----> 3\u001b[0;31m \u001b[0mbw_diff\u001b[0m \u001b[0;34m=\u001b[0m \u001b[0mlop\u001b[0m\u001b[0;34m.\u001b[0m\u001b[0maverted\u001b[0m\u001b[0;34m(\u001b[0m\u001b[0mbw_mean\u001b[0m\u001b[0;34m,\u001b[0m \u001b[0;34m'uncovered'\u001b[0m\u001b[0;34m,\u001b[0m \u001b[0;34m'iron_fortification_group'\u001b[0m\u001b[0;34m)\u001b[0m\u001b[0;34m\u001b[0m\u001b[0;34m\u001b[0m\u001b[0m\n\u001b[0m\u001b[1;32m      4\u001b[0m \u001b[0mbw_diff\u001b[0m\u001b[0;34m.\u001b[0m\u001b[0mhead\u001b[0m\u001b[0;34m(\u001b[0m\u001b[0;34m)\u001b[0m\u001b[0;34m\u001b[0m\u001b[0;34m\u001b[0m\u001b[0m\n",
      "\u001b[0;32m~/vivarium_data_analysis/output_processing/lsff/ndbs/lsff_output_processing.py\u001b[0m in \u001b[0;36maverted\u001b[0;34m(measure, baseline_scenario, scenario_col)\u001b[0m\n\u001b[1;32m    177\u001b[0m     \u001b[0maverted\u001b[0m \u001b[0;34m=\u001b[0m \u001b[0maverted\u001b[0m\u001b[0;34m.\u001b[0m\u001b[0mreset_index\u001b[0m\u001b[0;34m(\u001b[0m\u001b[0;34m)\u001b[0m\u001b[0;34m\u001b[0m\u001b[0;34m\u001b[0m\u001b[0m\n\u001b[1;32m    178\u001b[0m     \u001b[0mprint\u001b[0m\u001b[0;34m(\u001b[0m\u001b[0maverted\u001b[0m\u001b[0;34m.\u001b[0m\u001b[0mcolumns\u001b[0m\u001b[0;34m)\u001b[0m\u001b[0;34m\u001b[0m\u001b[0;34m\u001b[0m\u001b[0m\n\u001b[0;32m--> 179\u001b[0;31m     \u001b[0maverted\u001b[0m\u001b[0;34m.\u001b[0m\u001b[0minsert\u001b[0m\u001b[0;34m(\u001b[0m\u001b[0maverted\u001b[0m\u001b[0;34m.\u001b[0m\u001b[0mcolumns\u001b[0m\u001b[0;34m.\u001b[0m\u001b[0mget_loc\u001b[0m\u001b[0;34m(\u001b[0m\u001b[0mscenario_col\u001b[0m\u001b[0;34m)\u001b[0m\u001b[0;34m+\u001b[0m\u001b[0;36m1\u001b[0m\u001b[0;34m,\u001b[0m \u001b[0;34m'relative_to'\u001b[0m\u001b[0;34m,\u001b[0m \u001b[0mbaseline_scenario\u001b[0m\u001b[0;34m)\u001b[0m\u001b[0;34m\u001b[0m\u001b[0;34m\u001b[0m\u001b[0m\n\u001b[0m\u001b[1;32m    180\u001b[0m \u001b[0;34m\u001b[0m\u001b[0m\n\u001b[1;32m    181\u001b[0m     \u001b[0;32mreturn\u001b[0m \u001b[0maverted\u001b[0m\u001b[0;34m\u001b[0m\u001b[0;34m\u001b[0m\u001b[0m\n",
      "\u001b[0;32m~/miniconda3/envs/lsff/lib/python3.6/site-packages/pandas/core/indexes/base.py\u001b[0m in \u001b[0;36mget_loc\u001b[0;34m(self, key, method, tolerance)\u001b[0m\n\u001b[1;32m   2657\u001b[0m                 \u001b[0;32mreturn\u001b[0m \u001b[0mself\u001b[0m\u001b[0;34m.\u001b[0m\u001b[0m_engine\u001b[0m\u001b[0;34m.\u001b[0m\u001b[0mget_loc\u001b[0m\u001b[0;34m(\u001b[0m\u001b[0mkey\u001b[0m\u001b[0;34m)\u001b[0m\u001b[0;34m\u001b[0m\u001b[0;34m\u001b[0m\u001b[0m\n\u001b[1;32m   2658\u001b[0m             \u001b[0;32mexcept\u001b[0m \u001b[0mKeyError\u001b[0m\u001b[0;34m:\u001b[0m\u001b[0;34m\u001b[0m\u001b[0;34m\u001b[0m\u001b[0m\n\u001b[0;32m-> 2659\u001b[0;31m                 \u001b[0;32mreturn\u001b[0m \u001b[0mself\u001b[0m\u001b[0;34m.\u001b[0m\u001b[0m_engine\u001b[0m\u001b[0;34m.\u001b[0m\u001b[0mget_loc\u001b[0m\u001b[0;34m(\u001b[0m\u001b[0mself\u001b[0m\u001b[0;34m.\u001b[0m\u001b[0m_maybe_cast_indexer\u001b[0m\u001b[0;34m(\u001b[0m\u001b[0mkey\u001b[0m\u001b[0;34m)\u001b[0m\u001b[0;34m)\u001b[0m\u001b[0;34m\u001b[0m\u001b[0;34m\u001b[0m\u001b[0m\n\u001b[0m\u001b[1;32m   2660\u001b[0m         \u001b[0mindexer\u001b[0m \u001b[0;34m=\u001b[0m \u001b[0mself\u001b[0m\u001b[0;34m.\u001b[0m\u001b[0mget_indexer\u001b[0m\u001b[0;34m(\u001b[0m\u001b[0;34m[\u001b[0m\u001b[0mkey\u001b[0m\u001b[0;34m]\u001b[0m\u001b[0;34m,\u001b[0m \u001b[0mmethod\u001b[0m\u001b[0;34m=\u001b[0m\u001b[0mmethod\u001b[0m\u001b[0;34m,\u001b[0m \u001b[0mtolerance\u001b[0m\u001b[0;34m=\u001b[0m\u001b[0mtolerance\u001b[0m\u001b[0;34m)\u001b[0m\u001b[0;34m\u001b[0m\u001b[0;34m\u001b[0m\u001b[0m\n\u001b[1;32m   2661\u001b[0m         \u001b[0;32mif\u001b[0m \u001b[0mindexer\u001b[0m\u001b[0;34m.\u001b[0m\u001b[0mndim\u001b[0m \u001b[0;34m>\u001b[0m \u001b[0;36m1\u001b[0m \u001b[0;32mor\u001b[0m \u001b[0mindexer\u001b[0m\u001b[0;34m.\u001b[0m\u001b[0msize\u001b[0m \u001b[0;34m>\u001b[0m \u001b[0;36m1\u001b[0m\u001b[0;34m:\u001b[0m\u001b[0;34m\u001b[0m\u001b[0;34m\u001b[0m\u001b[0m\n",
      "\u001b[0;32mpandas/_libs/index.pyx\u001b[0m in \u001b[0;36mpandas._libs.index.IndexEngine.get_loc\u001b[0;34m()\u001b[0m\n",
      "\u001b[0;32mpandas/_libs/index.pyx\u001b[0m in \u001b[0;36mpandas._libs.index.IndexEngine.get_loc\u001b[0;34m()\u001b[0m\n",
      "\u001b[0;32mpandas/_libs/hashtable_class_helper.pxi\u001b[0m in \u001b[0;36mpandas._libs.hashtable.PyObjectHashTable.get_item\u001b[0;34m()\u001b[0m\n",
      "\u001b[0;32mpandas/_libs/hashtable_class_helper.pxi\u001b[0m in \u001b[0;36mpandas._libs.hashtable.PyObjectHashTable.get_item\u001b[0;34m()\u001b[0m\n",
      "\u001b[0;31mKeyError\u001b[0m: 'iron_fortification_group'"
     ]
    }
   ],
   "source": [
    "bw_mean = data['Nigeria']['birth_weight']#.query('measure==\"birth_weight_mean\"')\n",
    "bw_mean.head()\n",
    "bw_diff = lop.averted(bw_mean, 'uncovered', 'iron_fortification_group')\n",
    "bw_diff.head()"
   ]
  },
  {
   "cell_type": "code",
   "execution_count": 23,
   "metadata": {},
   "outputs": [
    {
     "name": "stdout",
     "output_type": "stream",
     "text": [
      "['year', 'sex', 'measure', 'input_draw', 'iron_fortification_group']\n",
      "baseline index: ['year', 'sex', 'measure', 'input_draw', 'iron_fortification_group']\n",
      "intervention index: ['year', 'sex', 'measure', 'input_draw', 'iron_fortification_group', 'scenario']\n",
      "averted index: ['year', 'sex', 'measure', 'input_draw', 'iron_fortification_group', 'scenario']\n",
      "Index(['year', 'sex', 'measure', 'input_draw', 'iron_fortification_group',\n",
      "       'scenario', 'value'],\n",
      "      dtype='object')\n"
     ]
    },
    {
     "data": {
      "text/html": [
       "<div>\n",
       "<style scoped>\n",
       "    .dataframe tbody tr th:only-of-type {\n",
       "        vertical-align: middle;\n",
       "    }\n",
       "\n",
       "    .dataframe tbody tr th {\n",
       "        vertical-align: top;\n",
       "    }\n",
       "\n",
       "    .dataframe thead th {\n",
       "        text-align: right;\n",
       "    }\n",
       "</style>\n",
       "<table border=\"1\" class=\"dataframe\">\n",
       "  <thead>\n",
       "    <tr style=\"text-align: right;\">\n",
       "      <th></th>\n",
       "      <th>year</th>\n",
       "      <th>sex</th>\n",
       "      <th>measure</th>\n",
       "      <th>input_draw</th>\n",
       "      <th>iron_fortification_group</th>\n",
       "      <th>scenario</th>\n",
       "      <th>relative_to</th>\n",
       "      <th>value</th>\n",
       "    </tr>\n",
       "  </thead>\n",
       "  <tbody>\n",
       "    <tr>\n",
       "      <th>0</th>\n",
       "      <td>2020</td>\n",
       "      <td>female</td>\n",
       "      <td>birth_weight_mean</td>\n",
       "      <td>21</td>\n",
       "      <td>covered</td>\n",
       "      <td>folic_acid_fortification_scale_up</td>\n",
       "      <td>baseline</td>\n",
       "      <td>0.000000e+00</td>\n",
       "    </tr>\n",
       "    <tr>\n",
       "      <th>1</th>\n",
       "      <td>2020</td>\n",
       "      <td>female</td>\n",
       "      <td>birth_weight_mean</td>\n",
       "      <td>21</td>\n",
       "      <td>covered</td>\n",
       "      <td>iron_folic_acid_fortification_scale_up</td>\n",
       "      <td>baseline</td>\n",
       "      <td>4.547474e-13</td>\n",
       "    </tr>\n",
       "    <tr>\n",
       "      <th>2</th>\n",
       "      <td>2020</td>\n",
       "      <td>female</td>\n",
       "      <td>birth_weight_mean</td>\n",
       "      <td>21</td>\n",
       "      <td>covered</td>\n",
       "      <td>vitamin_a_fortification_scale_up</td>\n",
       "      <td>baseline</td>\n",
       "      <td>-4.547474e-13</td>\n",
       "    </tr>\n",
       "    <tr>\n",
       "      <th>3</th>\n",
       "      <td>2020</td>\n",
       "      <td>female</td>\n",
       "      <td>birth_weight_mean</td>\n",
       "      <td>21</td>\n",
       "      <td>uncovered</td>\n",
       "      <td>folic_acid_fortification_scale_up</td>\n",
       "      <td>baseline</td>\n",
       "      <td>0.000000e+00</td>\n",
       "    </tr>\n",
       "    <tr>\n",
       "      <th>4</th>\n",
       "      <td>2020</td>\n",
       "      <td>female</td>\n",
       "      <td>birth_weight_mean</td>\n",
       "      <td>21</td>\n",
       "      <td>uncovered</td>\n",
       "      <td>iron_folic_acid_fortification_scale_up</td>\n",
       "      <td>baseline</td>\n",
       "      <td>9.094947e-13</td>\n",
       "    </tr>\n",
       "  </tbody>\n",
       "</table>\n",
       "</div>"
      ],
      "text/plain": [
       "   year     sex            measure  input_draw iron_fortification_group  \\\n",
       "0  2020  female  birth_weight_mean          21                  covered   \n",
       "1  2020  female  birth_weight_mean          21                  covered   \n",
       "2  2020  female  birth_weight_mean          21                  covered   \n",
       "3  2020  female  birth_weight_mean          21                uncovered   \n",
       "4  2020  female  birth_weight_mean          21                uncovered   \n",
       "\n",
       "                                 scenario relative_to         value  \n",
       "0       folic_acid_fortification_scale_up    baseline  0.000000e+00  \n",
       "1  iron_folic_acid_fortification_scale_up    baseline  4.547474e-13  \n",
       "2        vitamin_a_fortification_scale_up    baseline -4.547474e-13  \n",
       "3       folic_acid_fortification_scale_up    baseline  0.000000e+00  \n",
       "4  iron_folic_acid_fortification_scale_up    baseline  9.094947e-13  "
      ]
     },
     "execution_count": 23,
     "metadata": {},
     "output_type": "execute_result"
    }
   ],
   "source": [
    "bw_mean = data['Nigeria']['birth_weight'].query('measure==\"birth_weight_mean\"')\n",
    "# index_columns = ['year', 'sex', 'measure', 'input_draw', 'scenario']\n",
    "# bw_mean = bw_mean.groupby(index_columns).sum().reset_index()\n",
    "# bw_mean = bw_mean.query('scenario in [\"baseline\", \"iron_folic_acid_fortification_scale_up\"]')\n",
    "bw_mean.head()\n",
    "bw_diff = lop.averted(bw_mean, 'baseline')\n",
    "bw_diff.head()"
   ]
  },
  {
   "cell_type": "code",
   "execution_count": 19,
   "metadata": {},
   "outputs": [
    {
     "data": {
      "text/plain": [
       "array([nan])"
      ]
     },
     "execution_count": 19,
     "metadata": {},
     "output_type": "execute_result"
    }
   ],
   "source": [
    "bw_diff.value.unique()"
   ]
  },
  {
   "cell_type": "code",
   "execution_count": 24,
   "metadata": {},
   "outputs": [
    {
     "data": {
      "text/plain": [
       "array(['baseline', 'folic_acid_fortification_scale_up',\n",
       "       'iron_folic_acid_fortification_scale_up',\n",
       "       'vitamin_a_fortification_scale_up'], dtype=object)"
      ]
     },
     "execution_count": 24,
     "metadata": {},
     "output_type": "execute_result"
    }
   ],
   "source": [
    "bw_mean.scenario.unique()"
   ]
  },
  {
   "cell_type": "code",
   "execution_count": null,
   "metadata": {},
   "outputs": [],
   "source": [
    "bw_mean.query('iron_fortification_group')"
   ]
  },
  {
   "cell_type": "code",
   "execution_count": 68,
   "metadata": {},
   "outputs": [
    {
     "data": {
      "text/html": [
       "<div>\n",
       "<style scoped>\n",
       "    .dataframe tbody tr th:only-of-type {\n",
       "        vertical-align: middle;\n",
       "    }\n",
       "\n",
       "    .dataframe tbody tr th {\n",
       "        vertical-align: top;\n",
       "    }\n",
       "\n",
       "    .dataframe thead th {\n",
       "        text-align: right;\n",
       "    }\n",
       "</style>\n",
       "<table border=\"1\" class=\"dataframe\">\n",
       "  <thead>\n",
       "    <tr style=\"text-align: right;\">\n",
       "      <th></th>\n",
       "      <th>year</th>\n",
       "      <th>sex</th>\n",
       "      <th>measure</th>\n",
       "      <th>input_draw</th>\n",
       "      <th>scenario</th>\n",
       "      <th>relative_to</th>\n",
       "      <th>value</th>\n",
       "    </tr>\n",
       "  </thead>\n",
       "  <tbody>\n",
       "    <tr>\n",
       "      <th>1</th>\n",
       "      <td>2020</td>\n",
       "      <td>female</td>\n",
       "      <td>birth_weight_mean</td>\n",
       "      <td>21</td>\n",
       "      <td>iron_folic_acid_fortification_scale_up</td>\n",
       "      <td>baseline</td>\n",
       "      <td>9.094947e-13</td>\n",
       "    </tr>\n",
       "    <tr>\n",
       "      <th>4</th>\n",
       "      <td>2020</td>\n",
       "      <td>female</td>\n",
       "      <td>birth_weight_mean</td>\n",
       "      <td>29</td>\n",
       "      <td>iron_folic_acid_fortification_scale_up</td>\n",
       "      <td>baseline</td>\n",
       "      <td>0.000000e+00</td>\n",
       "    </tr>\n",
       "    <tr>\n",
       "      <th>7</th>\n",
       "      <td>2020</td>\n",
       "      <td>female</td>\n",
       "      <td>birth_weight_mean</td>\n",
       "      <td>55</td>\n",
       "      <td>iron_folic_acid_fortification_scale_up</td>\n",
       "      <td>baseline</td>\n",
       "      <td>1.818989e-12</td>\n",
       "    </tr>\n",
       "    <tr>\n",
       "      <th>10</th>\n",
       "      <td>2020</td>\n",
       "      <td>female</td>\n",
       "      <td>birth_weight_mean</td>\n",
       "      <td>78</td>\n",
       "      <td>iron_folic_acid_fortification_scale_up</td>\n",
       "      <td>baseline</td>\n",
       "      <td>9.094947e-13</td>\n",
       "    </tr>\n",
       "    <tr>\n",
       "      <th>13</th>\n",
       "      <td>2020</td>\n",
       "      <td>female</td>\n",
       "      <td>birth_weight_mean</td>\n",
       "      <td>155</td>\n",
       "      <td>iron_folic_acid_fortification_scale_up</td>\n",
       "      <td>baseline</td>\n",
       "      <td>-9.094947e-13</td>\n",
       "    </tr>\n",
       "  </tbody>\n",
       "</table>\n",
       "</div>"
      ],
      "text/plain": [
       "    year     sex            measure  input_draw  \\\n",
       "1   2020  female  birth_weight_mean          21   \n",
       "4   2020  female  birth_weight_mean          29   \n",
       "7   2020  female  birth_weight_mean          55   \n",
       "10  2020  female  birth_weight_mean          78   \n",
       "13  2020  female  birth_weight_mean         155   \n",
       "\n",
       "                                  scenario relative_to         value  \n",
       "1   iron_folic_acid_fortification_scale_up    baseline  9.094947e-13  \n",
       "4   iron_folic_acid_fortification_scale_up    baseline  0.000000e+00  \n",
       "7   iron_folic_acid_fortification_scale_up    baseline  1.818989e-12  \n",
       "10  iron_folic_acid_fortification_scale_up    baseline  9.094947e-13  \n",
       "13  iron_folic_acid_fortification_scale_up    baseline -9.094947e-13  "
      ]
     },
     "execution_count": 68,
     "metadata": {},
     "output_type": "execute_result"
    }
   ],
   "source": [
    "bw_diff.query('scenario==\"iron_folic_acid_fortification_scale_up\"').head()"
   ]
  },
  {
   "cell_type": "code",
   "execution_count": 25,
   "metadata": {},
   "outputs": [
    {
     "name": "stdout",
     "output_type": "stream",
     "text": [
      "['location', 'year', 'sex', 'measure', 'input_draw', 'scenario']\n"
     ]
    }
   ],
   "source": [
    "def calculate_bw_effect_size(birthweight_df, scenario):\n",
    "    \n",
    "#     covered_mean = birthweight_df.query('iron_fortification_group==\"covered\"')\n",
    "#     uncovered_mean = birthweight_df.query('iron_fortification_group==\"uncovered\"')\n",
    "    splitting_column = 'iron_fortification_group'\n",
    "    largest_value = 'covered'\n",
    "    birthweight_df = birthweight_df.query('measure==\"birth_weight_mean\"')\n",
    "    covered_mean = birthweight_df[birthweight_df[splitting_column] == largest_value]\n",
    "    uncovered_mean = birthweight_df[birthweight_df[splitting_column] != largest_value]\n",
    "    \n",
    "    index_columns = sorted(set(covered_mean.columns) - set([splitting_column, 'value']),\n",
    "                           key=covered_mean.columns.get_loc)\n",
    "    print(index_columns)\n",
    "    \n",
    "    covered_mean = covered_mean.set_index(index_columns)\n",
    "    uncovered_mean = uncovered_mean.set_index(index_columns + [splitting_column])\n",
    "    \n",
    "    effect_size = covered_mean['value'] - uncovered_mean['value']\n",
    "    \n",
    "    return covered_mean, uncovered_mean, effect_size\n",
    "\n",
    "c,u,e = calculate_bw_effect_size(all_data['birth_weight'].query('measure==\"birth_weight_mean\"'), scenario)"
   ]
  },
  {
   "cell_type": "code",
   "execution_count": 26,
   "metadata": {},
   "outputs": [
    {
     "data": {
      "text/html": [
       "<div>\n",
       "<style scoped>\n",
       "    .dataframe tbody tr th:only-of-type {\n",
       "        vertical-align: middle;\n",
       "    }\n",
       "\n",
       "    .dataframe tbody tr th {\n",
       "        vertical-align: top;\n",
       "    }\n",
       "\n",
       "    .dataframe thead th {\n",
       "        text-align: right;\n",
       "    }\n",
       "</style>\n",
       "<table border=\"1\" class=\"dataframe\">\n",
       "  <thead>\n",
       "    <tr style=\"text-align: right;\">\n",
       "      <th></th>\n",
       "      <th></th>\n",
       "      <th></th>\n",
       "      <th></th>\n",
       "      <th></th>\n",
       "      <th></th>\n",
       "      <th>value</th>\n",
       "      <th>iron_fortification_group</th>\n",
       "    </tr>\n",
       "    <tr>\n",
       "      <th>location</th>\n",
       "      <th>year</th>\n",
       "      <th>sex</th>\n",
       "      <th>measure</th>\n",
       "      <th>input_draw</th>\n",
       "      <th>scenario</th>\n",
       "      <th></th>\n",
       "      <th></th>\n",
       "    </tr>\n",
       "  </thead>\n",
       "  <tbody>\n",
       "    <tr>\n",
       "      <th rowspan=\"5\" valign=\"top\">India</th>\n",
       "      <th rowspan=\"5\" valign=\"top\">2020</th>\n",
       "      <th rowspan=\"5\" valign=\"top\">female</th>\n",
       "      <th rowspan=\"5\" valign=\"top\">birth_weight_mean</th>\n",
       "      <th rowspan=\"4\" valign=\"top\">21</th>\n",
       "      <th>baseline</th>\n",
       "      <td>2897.547480</td>\n",
       "      <td>covered</td>\n",
       "    </tr>\n",
       "    <tr>\n",
       "      <th>folic_acid_fortification_scale_up</th>\n",
       "      <td>2897.547480</td>\n",
       "      <td>covered</td>\n",
       "    </tr>\n",
       "    <tr>\n",
       "      <th>iron_folic_acid_fortification_scale_up</th>\n",
       "      <td>2897.547480</td>\n",
       "      <td>covered</td>\n",
       "    </tr>\n",
       "    <tr>\n",
       "      <th>vitamin_a_fortification_scale_up</th>\n",
       "      <td>2897.547480</td>\n",
       "      <td>covered</td>\n",
       "    </tr>\n",
       "    <tr>\n",
       "      <th>29</th>\n",
       "      <th>baseline</th>\n",
       "      <td>2922.724278</td>\n",
       "      <td>covered</td>\n",
       "    </tr>\n",
       "  </tbody>\n",
       "</table>\n",
       "</div>"
      ],
      "text/plain": [
       "                                                                                                value  \\\n",
       "location year sex    measure           input_draw scenario                                              \n",
       "India    2020 female birth_weight_mean 21         baseline                                2897.547480   \n",
       "                                                  folic_acid_fortification_scale_up       2897.547480   \n",
       "                                                  iron_folic_acid_fortification_scale_up  2897.547480   \n",
       "                                                  vitamin_a_fortification_scale_up        2897.547480   \n",
       "                                       29         baseline                                2922.724278   \n",
       "\n",
       "                                                                                         iron_fortification_group  \n",
       "location year sex    measure           input_draw scenario                                                         \n",
       "India    2020 female birth_weight_mean 21         baseline                                                covered  \n",
       "                                                  folic_acid_fortification_scale_up                       covered  \n",
       "                                                  iron_folic_acid_fortification_scale_up                  covered  \n",
       "                                                  vitamin_a_fortification_scale_up                        covered  \n",
       "                                       29         baseline                                                covered  "
      ]
     },
     "execution_count": 26,
     "metadata": {},
     "output_type": "execute_result"
    }
   ],
   "source": [
    "c.head()"
   ]
  },
  {
   "cell_type": "code",
   "execution_count": 27,
   "metadata": {},
   "outputs": [
    {
     "data": {
      "text/html": [
       "<div>\n",
       "<style scoped>\n",
       "    .dataframe tbody tr th:only-of-type {\n",
       "        vertical-align: middle;\n",
       "    }\n",
       "\n",
       "    .dataframe tbody tr th {\n",
       "        vertical-align: top;\n",
       "    }\n",
       "\n",
       "    .dataframe thead th {\n",
       "        text-align: right;\n",
       "    }\n",
       "</style>\n",
       "<table border=\"1\" class=\"dataframe\">\n",
       "  <thead>\n",
       "    <tr style=\"text-align: right;\">\n",
       "      <th></th>\n",
       "      <th></th>\n",
       "      <th></th>\n",
       "      <th></th>\n",
       "      <th></th>\n",
       "      <th></th>\n",
       "      <th></th>\n",
       "      <th>value</th>\n",
       "    </tr>\n",
       "    <tr>\n",
       "      <th>location</th>\n",
       "      <th>year</th>\n",
       "      <th>sex</th>\n",
       "      <th>measure</th>\n",
       "      <th>input_draw</th>\n",
       "      <th>scenario</th>\n",
       "      <th>iron_fortification_group</th>\n",
       "      <th></th>\n",
       "    </tr>\n",
       "  </thead>\n",
       "  <tbody>\n",
       "    <tr>\n",
       "      <th rowspan=\"5\" valign=\"top\">India</th>\n",
       "      <th rowspan=\"5\" valign=\"top\">2020</th>\n",
       "      <th rowspan=\"5\" valign=\"top\">female</th>\n",
       "      <th rowspan=\"5\" valign=\"top\">birth_weight_mean</th>\n",
       "      <th rowspan=\"4\" valign=\"top\">21</th>\n",
       "      <th>baseline</th>\n",
       "      <th>uncovered</th>\n",
       "      <td>2912.186341</td>\n",
       "    </tr>\n",
       "    <tr>\n",
       "      <th>folic_acid_fortification_scale_up</th>\n",
       "      <th>uncovered</th>\n",
       "      <td>2912.186341</td>\n",
       "    </tr>\n",
       "    <tr>\n",
       "      <th>iron_folic_acid_fortification_scale_up</th>\n",
       "      <th>uncovered</th>\n",
       "      <td>2912.186341</td>\n",
       "    </tr>\n",
       "    <tr>\n",
       "      <th>vitamin_a_fortification_scale_up</th>\n",
       "      <th>uncovered</th>\n",
       "      <td>2912.186341</td>\n",
       "    </tr>\n",
       "    <tr>\n",
       "      <th>29</th>\n",
       "      <th>baseline</th>\n",
       "      <th>uncovered</th>\n",
       "      <td>2903.992955</td>\n",
       "    </tr>\n",
       "  </tbody>\n",
       "</table>\n",
       "</div>"
      ],
      "text/plain": [
       "                                                                                                                         value\n",
       "location year sex    measure           input_draw scenario                               iron_fortification_group             \n",
       "India    2020 female birth_weight_mean 21         baseline                               uncovered                 2912.186341\n",
       "                                                  folic_acid_fortification_scale_up      uncovered                 2912.186341\n",
       "                                                  iron_folic_acid_fortification_scale_up uncovered                 2912.186341\n",
       "                                                  vitamin_a_fortification_scale_up       uncovered                 2912.186341\n",
       "                                       29         baseline                               uncovered                 2903.992955"
      ]
     },
     "execution_count": 27,
     "metadata": {},
     "output_type": "execute_result"
    }
   ],
   "source": [
    "u.head()"
   ]
  },
  {
   "cell_type": "code",
   "execution_count": 28,
   "metadata": {},
   "outputs": [
    {
     "data": {
      "text/plain": [
       "location  year  sex     measure            input_draw  scenario                              \n",
       "India     2020  female  birth_weight_mean  21          baseline                                 -14.638860\n",
       "                                                       folic_acid_fortification_scale_up        -14.638860\n",
       "                                                       iron_folic_acid_fortification_scale_up   -14.638860\n",
       "                                                       vitamin_a_fortification_scale_up         -14.638860\n",
       "                                           29          baseline                                  18.731323\n",
       "Name: value, dtype: float64"
      ]
     },
     "execution_count": 28,
     "metadata": {},
     "output_type": "execute_result"
    }
   ],
   "source": [
    "e.head()"
   ]
  },
  {
   "cell_type": "code",
   "execution_count": 29,
   "metadata": {},
   "outputs": [
    {
     "data": {
      "text/plain": [
       "(2400, 2)"
      ]
     },
     "execution_count": 29,
     "metadata": {},
     "output_type": "execute_result"
    }
   ],
   "source": [
    "c.shape"
   ]
  },
  {
   "cell_type": "code",
   "execution_count": 30,
   "metadata": {},
   "outputs": [
    {
     "data": {
      "text/plain": [
       "(2400, 1)"
      ]
     },
     "execution_count": 30,
     "metadata": {},
     "output_type": "execute_result"
    }
   ],
   "source": [
    "u.shape"
   ]
  },
  {
   "cell_type": "code",
   "execution_count": 31,
   "metadata": {},
   "outputs": [
    {
     "data": {
      "text/plain": [
       "(2400,)"
      ]
     },
     "execution_count": 31,
     "metadata": {},
     "output_type": "execute_result"
    }
   ],
   "source": [
    "e.shape"
   ]
  },
  {
   "cell_type": "code",
   "execution_count": 33,
   "metadata": {},
   "outputs": [
    {
     "data": {
      "text/plain": [
       "25"
      ]
     },
     "execution_count": 33,
     "metadata": {},
     "output_type": "execute_result"
    }
   ],
   "source": [
    "bw_mean.input_draw.nunique()"
   ]
  },
  {
   "cell_type": "code",
   "execution_count": 35,
   "metadata": {},
   "outputs": [
    {
     "data": {
      "text/plain": [
       "2400"
      ]
     },
     "execution_count": 35,
     "metadata": {},
     "output_type": "execute_result"
    }
   ],
   "source": [
    "3*4*2*1*25*4"
   ]
  },
  {
   "cell_type": "code",
   "execution_count": 46,
   "metadata": {},
   "outputs": [
    {
     "data": {
      "text/plain": [
       "array(['uncovered', 'covered'], dtype=object)"
      ]
     },
     "execution_count": 46,
     "metadata": {},
     "output_type": "execute_result"
    }
   ],
   "source": [
    "bw_mean = all_data['birth_weight'].query('measure==\"birth_weight_mean\"')\n",
    "bw_mean.iron_fortification_group.unique()"
   ]
  },
  {
   "cell_type": "code",
   "execution_count": 27,
   "metadata": {},
   "outputs": [
    {
     "data": {
      "text/plain": [
       "(4800, 9)"
      ]
     },
     "execution_count": 27,
     "metadata": {},
     "output_type": "execute_result"
    }
   ],
   "source": [
    "bw_diff.shape"
   ]
  },
  {
   "cell_type": "markdown",
   "metadata": {},
   "source": [
    "## I think I found the problem - Series and DataFrames have different behavior..."
   ]
  },
  {
   "cell_type": "code",
   "execution_count": 48,
   "metadata": {},
   "outputs": [
    {
     "data": {
      "text/html": [
       "<div>\n",
       "<style scoped>\n",
       "    .dataframe tbody tr th:only-of-type {\n",
       "        vertical-align: middle;\n",
       "    }\n",
       "\n",
       "    .dataframe tbody tr th {\n",
       "        vertical-align: top;\n",
       "    }\n",
       "\n",
       "    .dataframe thead th {\n",
       "        text-align: right;\n",
       "    }\n",
       "</style>\n",
       "<table border=\"1\" class=\"dataframe\">\n",
       "  <thead>\n",
       "    <tr style=\"text-align: right;\">\n",
       "      <th></th>\n",
       "      <th>a</th>\n",
       "      <th>b</th>\n",
       "      <th>c</th>\n",
       "      <th>d</th>\n",
       "    </tr>\n",
       "  </thead>\n",
       "  <tbody>\n",
       "    <tr>\n",
       "      <th>0</th>\n",
       "      <td>1</td>\n",
       "      <td>3</td>\n",
       "      <td>5</td>\n",
       "      <td>2</td>\n",
       "    </tr>\n",
       "    <tr>\n",
       "      <th>1</th>\n",
       "      <td>2</td>\n",
       "      <td>3</td>\n",
       "      <td>5</td>\n",
       "      <td>3</td>\n",
       "    </tr>\n",
       "    <tr>\n",
       "      <th>2</th>\n",
       "      <td>1</td>\n",
       "      <td>4</td>\n",
       "      <td>5</td>\n",
       "      <td>56</td>\n",
       "    </tr>\n",
       "    <tr>\n",
       "      <th>3</th>\n",
       "      <td>2</td>\n",
       "      <td>4</td>\n",
       "      <td>5</td>\n",
       "      <td>4</td>\n",
       "    </tr>\n",
       "    <tr>\n",
       "      <th>0</th>\n",
       "      <td>1</td>\n",
       "      <td>3</td>\n",
       "      <td>6</td>\n",
       "      <td>1</td>\n",
       "    </tr>\n",
       "    <tr>\n",
       "      <th>1</th>\n",
       "      <td>2</td>\n",
       "      <td>3</td>\n",
       "      <td>6</td>\n",
       "      <td>2</td>\n",
       "    </tr>\n",
       "    <tr>\n",
       "      <th>2</th>\n",
       "      <td>1</td>\n",
       "      <td>4</td>\n",
       "      <td>6</td>\n",
       "      <td>3</td>\n",
       "    </tr>\n",
       "    <tr>\n",
       "      <th>3</th>\n",
       "      <td>2</td>\n",
       "      <td>4</td>\n",
       "      <td>6</td>\n",
       "      <td>4</td>\n",
       "    </tr>\n",
       "  </tbody>\n",
       "</table>\n",
       "</div>"
      ],
      "text/plain": [
       "   a  b  c   d\n",
       "0  1  3  5   2\n",
       "1  2  3  5   3\n",
       "2  1  4  5  56\n",
       "3  2  4  5   4\n",
       "0  1  3  6   1\n",
       "1  2  3  6   2\n",
       "2  1  4  6   3\n",
       "3  2  4  6   4"
      ]
     },
     "execution_count": 48,
     "metadata": {},
     "output_type": "execute_result"
    }
   ],
   "source": [
    "df1 = pd.DataFrame({'a':[1,2,1,2], 'b':[3,3,4,4], 'c':[5,5,5,5], 'd':[2,3,56,4]})\n",
    "df2 = df1.assign(c=[6,6,6,6], d=[1,2,3,4])\n",
    "df3 = pd.concat([df1, df2])\n",
    "df3"
   ]
  },
  {
   "cell_type": "code",
   "execution_count": 49,
   "metadata": {},
   "outputs": [
    {
     "data": {
      "text/html": [
       "<div>\n",
       "<style scoped>\n",
       "    .dataframe tbody tr th:only-of-type {\n",
       "        vertical-align: middle;\n",
       "    }\n",
       "\n",
       "    .dataframe tbody tr th {\n",
       "        vertical-align: top;\n",
       "    }\n",
       "\n",
       "    .dataframe thead th {\n",
       "        text-align: right;\n",
       "    }\n",
       "</style>\n",
       "<table border=\"1\" class=\"dataframe\">\n",
       "  <thead>\n",
       "    <tr style=\"text-align: right;\">\n",
       "      <th></th>\n",
       "      <th>a</th>\n",
       "      <th>b</th>\n",
       "      <th>c</th>\n",
       "      <th>d</th>\n",
       "    </tr>\n",
       "  </thead>\n",
       "  <tbody>\n",
       "    <tr>\n",
       "      <th>0</th>\n",
       "      <td>1</td>\n",
       "      <td>3</td>\n",
       "      <td>5</td>\n",
       "      <td>2</td>\n",
       "    </tr>\n",
       "    <tr>\n",
       "      <th>1</th>\n",
       "      <td>2</td>\n",
       "      <td>3</td>\n",
       "      <td>5</td>\n",
       "      <td>3</td>\n",
       "    </tr>\n",
       "    <tr>\n",
       "      <th>2</th>\n",
       "      <td>1</td>\n",
       "      <td>4</td>\n",
       "      <td>5</td>\n",
       "      <td>56</td>\n",
       "    </tr>\n",
       "    <tr>\n",
       "      <th>3</th>\n",
       "      <td>2</td>\n",
       "      <td>4</td>\n",
       "      <td>5</td>\n",
       "      <td>4</td>\n",
       "    </tr>\n",
       "  </tbody>\n",
       "</table>\n",
       "</div>"
      ],
      "text/plain": [
       "   a  b  c   d\n",
       "0  1  3  5   2\n",
       "1  2  3  5   3\n",
       "2  1  4  5  56\n",
       "3  2  4  5   4"
      ]
     },
     "execution_count": 49,
     "metadata": {},
     "output_type": "execute_result"
    }
   ],
   "source": [
    "df1"
   ]
  },
  {
   "cell_type": "code",
   "execution_count": 50,
   "metadata": {},
   "outputs": [
    {
     "data": {
      "text/html": [
       "<div>\n",
       "<style scoped>\n",
       "    .dataframe tbody tr th:only-of-type {\n",
       "        vertical-align: middle;\n",
       "    }\n",
       "\n",
       "    .dataframe tbody tr th {\n",
       "        vertical-align: top;\n",
       "    }\n",
       "\n",
       "    .dataframe thead th {\n",
       "        text-align: right;\n",
       "    }\n",
       "</style>\n",
       "<table border=\"1\" class=\"dataframe\">\n",
       "  <thead>\n",
       "    <tr style=\"text-align: right;\">\n",
       "      <th></th>\n",
       "      <th></th>\n",
       "      <th></th>\n",
       "      <th>c</th>\n",
       "      <th>d</th>\n",
       "    </tr>\n",
       "    <tr>\n",
       "      <th>a</th>\n",
       "      <th>b</th>\n",
       "      <th>c</th>\n",
       "      <th></th>\n",
       "      <th></th>\n",
       "    </tr>\n",
       "  </thead>\n",
       "  <tbody>\n",
       "    <tr>\n",
       "      <th>1</th>\n",
       "      <th>3</th>\n",
       "      <th>6</th>\n",
       "      <td>NaN</td>\n",
       "      <td>3</td>\n",
       "    </tr>\n",
       "    <tr>\n",
       "      <th>2</th>\n",
       "      <th>3</th>\n",
       "      <th>6</th>\n",
       "      <td>NaN</td>\n",
       "      <td>5</td>\n",
       "    </tr>\n",
       "    <tr>\n",
       "      <th>1</th>\n",
       "      <th>4</th>\n",
       "      <th>6</th>\n",
       "      <td>NaN</td>\n",
       "      <td>59</td>\n",
       "    </tr>\n",
       "    <tr>\n",
       "      <th>2</th>\n",
       "      <th>4</th>\n",
       "      <th>6</th>\n",
       "      <td>NaN</td>\n",
       "      <td>8</td>\n",
       "    </tr>\n",
       "  </tbody>\n",
       "</table>\n",
       "</div>"
      ],
      "text/plain": [
       "        c   d\n",
       "a b c        \n",
       "1 3 6 NaN   3\n",
       "2 3 6 NaN   5\n",
       "1 4 6 NaN  59\n",
       "2 4 6 NaN   8"
      ]
     },
     "execution_count": 50,
     "metadata": {},
     "output_type": "execute_result"
    }
   ],
   "source": [
    "df1.set_index(['a','b']) + df3.set_index(['a','b','c']).query('c==6')"
   ]
  },
  {
   "cell_type": "code",
   "execution_count": 47,
   "metadata": {},
   "outputs": [],
   "source": [
    "def add_as_series(df1, df2):\n",
    "    return df1.set_index(['a','b']).d + df2.set_index(['a','b','c']).d\n",
    "\n",
    "def add_as_daframes(df1, df2):\n",
    "    return df1.set_index(['a','b'])[['d']] + df2.set_index(['a','b','c'])[['d']]"
   ]
  },
  {
   "cell_type": "code",
   "execution_count": 51,
   "metadata": {},
   "outputs": [
    {
     "data": {
      "text/plain": [
       "a  b\n",
       "1  3     3\n",
       "2  3     5\n",
       "1  4    59\n",
       "2  4     8\n",
       "Name: d, dtype: int64"
      ]
     },
     "execution_count": 51,
     "metadata": {},
     "output_type": "execute_result"
    }
   ],
   "source": [
    "# The c column is missing from the index.\n",
    "# This was the surprising behavior in my `averted` function.\n",
    "add_as_series(df1, df2)"
   ]
  },
  {
   "cell_type": "code",
   "execution_count": 53,
   "metadata": {},
   "outputs": [
    {
     "data": {
      "text/plain": [
       "a  b  c\n",
       "1  3  5      4\n",
       "      6      3\n",
       "   4  5    112\n",
       "      6     59\n",
       "2  3  5      6\n",
       "      6      5\n",
       "   4  5      8\n",
       "      6      8\n",
       "Name: d, dtype: int64"
      ]
     },
     "execution_count": 53,
     "metadata": {},
     "output_type": "execute_result"
    }
   ],
   "source": [
    "# Now the c column *is* included in the index because it was needed for broadcasting\n",
    "add_as_series(df1, df3)"
   ]
  },
  {
   "cell_type": "code",
   "execution_count": 52,
   "metadata": {},
   "outputs": [
    {
     "data": {
      "text/html": [
       "<div>\n",
       "<style scoped>\n",
       "    .dataframe tbody tr th:only-of-type {\n",
       "        vertical-align: middle;\n",
       "    }\n",
       "\n",
       "    .dataframe tbody tr th {\n",
       "        vertical-align: top;\n",
       "    }\n",
       "\n",
       "    .dataframe thead th {\n",
       "        text-align: right;\n",
       "    }\n",
       "</style>\n",
       "<table border=\"1\" class=\"dataframe\">\n",
       "  <thead>\n",
       "    <tr style=\"text-align: right;\">\n",
       "      <th></th>\n",
       "      <th></th>\n",
       "      <th></th>\n",
       "      <th>d</th>\n",
       "    </tr>\n",
       "    <tr>\n",
       "      <th>a</th>\n",
       "      <th>b</th>\n",
       "      <th>c</th>\n",
       "      <th></th>\n",
       "    </tr>\n",
       "  </thead>\n",
       "  <tbody>\n",
       "    <tr>\n",
       "      <th>1</th>\n",
       "      <th>3</th>\n",
       "      <th>6</th>\n",
       "      <td>3</td>\n",
       "    </tr>\n",
       "    <tr>\n",
       "      <th>2</th>\n",
       "      <th>3</th>\n",
       "      <th>6</th>\n",
       "      <td>5</td>\n",
       "    </tr>\n",
       "    <tr>\n",
       "      <th>1</th>\n",
       "      <th>4</th>\n",
       "      <th>6</th>\n",
       "      <td>59</td>\n",
       "    </tr>\n",
       "    <tr>\n",
       "      <th>2</th>\n",
       "      <th>4</th>\n",
       "      <th>6</th>\n",
       "      <td>8</td>\n",
       "    </tr>\n",
       "  </tbody>\n",
       "</table>\n",
       "</div>"
      ],
      "text/plain": [
       "        d\n",
       "a b c    \n",
       "1 3 6   3\n",
       "2 3 6   5\n",
       "1 4 6  59\n",
       "2 4 6   8"
      ]
     },
     "execution_count": 52,
     "metadata": {},
     "output_type": "execute_result"
    }
   ],
   "source": [
    "# When adding as dataframes, the c column is included in the index,\n",
    "# even when the column only contains one value and hence broadcasting isn't necessary.\n",
    "# This is the behavior I expected in my `averted` function.\n",
    "add_as_daframes(df1, df2)"
   ]
  },
  {
   "cell_type": "code",
   "execution_count": 54,
   "metadata": {},
   "outputs": [
    {
     "data": {
      "text/html": [
       "<div>\n",
       "<style scoped>\n",
       "    .dataframe tbody tr th:only-of-type {\n",
       "        vertical-align: middle;\n",
       "    }\n",
       "\n",
       "    .dataframe tbody tr th {\n",
       "        vertical-align: top;\n",
       "    }\n",
       "\n",
       "    .dataframe thead th {\n",
       "        text-align: right;\n",
       "    }\n",
       "</style>\n",
       "<table border=\"1\" class=\"dataframe\">\n",
       "  <thead>\n",
       "    <tr style=\"text-align: right;\">\n",
       "      <th></th>\n",
       "      <th></th>\n",
       "      <th></th>\n",
       "      <th>d</th>\n",
       "    </tr>\n",
       "    <tr>\n",
       "      <th>a</th>\n",
       "      <th>b</th>\n",
       "      <th>c</th>\n",
       "      <th></th>\n",
       "    </tr>\n",
       "  </thead>\n",
       "  <tbody>\n",
       "    <tr>\n",
       "      <th rowspan=\"4\" valign=\"top\">1</th>\n",
       "      <th rowspan=\"2\" valign=\"top\">3</th>\n",
       "      <th>5</th>\n",
       "      <td>4</td>\n",
       "    </tr>\n",
       "    <tr>\n",
       "      <th>6</th>\n",
       "      <td>3</td>\n",
       "    </tr>\n",
       "    <tr>\n",
       "      <th rowspan=\"2\" valign=\"top\">4</th>\n",
       "      <th>5</th>\n",
       "      <td>112</td>\n",
       "    </tr>\n",
       "    <tr>\n",
       "      <th>6</th>\n",
       "      <td>59</td>\n",
       "    </tr>\n",
       "    <tr>\n",
       "      <th rowspan=\"4\" valign=\"top\">2</th>\n",
       "      <th rowspan=\"2\" valign=\"top\">3</th>\n",
       "      <th>5</th>\n",
       "      <td>6</td>\n",
       "    </tr>\n",
       "    <tr>\n",
       "      <th>6</th>\n",
       "      <td>5</td>\n",
       "    </tr>\n",
       "    <tr>\n",
       "      <th rowspan=\"2\" valign=\"top\">4</th>\n",
       "      <th>5</th>\n",
       "      <td>8</td>\n",
       "    </tr>\n",
       "    <tr>\n",
       "      <th>6</th>\n",
       "      <td>8</td>\n",
       "    </tr>\n",
       "  </tbody>\n",
       "</table>\n",
       "</div>"
      ],
      "text/plain": [
       "         d\n",
       "a b c     \n",
       "1 3 5    4\n",
       "    6    3\n",
       "  4 5  112\n",
       "    6   59\n",
       "2 3 5    6\n",
       "    6    5\n",
       "  4 5    8\n",
       "    6    8"
      ]
     },
     "execution_count": 54,
     "metadata": {},
     "output_type": "execute_result"
    }
   ],
   "source": [
    "add_as_daframes(df1, df3)"
   ]
  },
  {
   "cell_type": "code",
   "execution_count": 57,
   "metadata": {},
   "outputs": [
    {
     "data": {
      "text/html": [
       "<div>\n",
       "<style scoped>\n",
       "    .dataframe tbody tr th:only-of-type {\n",
       "        vertical-align: middle;\n",
       "    }\n",
       "\n",
       "    .dataframe tbody tr th {\n",
       "        vertical-align: top;\n",
       "    }\n",
       "\n",
       "    .dataframe thead th {\n",
       "        text-align: right;\n",
       "    }\n",
       "</style>\n",
       "<table border=\"1\" class=\"dataframe\">\n",
       "  <thead>\n",
       "    <tr style=\"text-align: right;\">\n",
       "      <th></th>\n",
       "      <th></th>\n",
       "      <th></th>\n",
       "      <th>d</th>\n",
       "    </tr>\n",
       "    <tr>\n",
       "      <th>a</th>\n",
       "      <th>b</th>\n",
       "      <th>c</th>\n",
       "      <th></th>\n",
       "    </tr>\n",
       "  </thead>\n",
       "  <tbody>\n",
       "    <tr>\n",
       "      <th>1</th>\n",
       "      <th>3</th>\n",
       "      <th>5</th>\n",
       "      <td>2</td>\n",
       "    </tr>\n",
       "    <tr>\n",
       "      <th>2</th>\n",
       "      <th>3</th>\n",
       "      <th>5</th>\n",
       "      <td>3</td>\n",
       "    </tr>\n",
       "    <tr>\n",
       "      <th>1</th>\n",
       "      <th>4</th>\n",
       "      <th>5</th>\n",
       "      <td>56</td>\n",
       "    </tr>\n",
       "    <tr>\n",
       "      <th>2</th>\n",
       "      <th>4</th>\n",
       "      <th>5</th>\n",
       "      <td>4</td>\n",
       "    </tr>\n",
       "    <tr>\n",
       "      <th>1</th>\n",
       "      <th>3</th>\n",
       "      <th>6</th>\n",
       "      <td>1</td>\n",
       "    </tr>\n",
       "    <tr>\n",
       "      <th>2</th>\n",
       "      <th>3</th>\n",
       "      <th>6</th>\n",
       "      <td>2</td>\n",
       "    </tr>\n",
       "    <tr>\n",
       "      <th>1</th>\n",
       "      <th>4</th>\n",
       "      <th>6</th>\n",
       "      <td>3</td>\n",
       "    </tr>\n",
       "    <tr>\n",
       "      <th>2</th>\n",
       "      <th>4</th>\n",
       "      <th>6</th>\n",
       "      <td>4</td>\n",
       "    </tr>\n",
       "  </tbody>\n",
       "</table>\n",
       "</div>"
      ],
      "text/plain": [
       "        d\n",
       "a b c    \n",
       "1 3 5   2\n",
       "2 3 5   3\n",
       "1 4 5  56\n",
       "2 4 5   4\n",
       "1 3 6   1\n",
       "2 3 6   2\n",
       "1 4 6   3\n",
       "2 4 6   4"
      ]
     },
     "execution_count": 57,
     "metadata": {},
     "output_type": "execute_result"
    }
   ],
   "source": [
    "# This results in a dataframe even though there's only one column\n",
    "df3.set_index(['a','b','c'])"
   ]
  },
  {
   "cell_type": "code",
   "execution_count": null,
   "metadata": {},
   "outputs": [],
   "source": []
  }
 ],
 "metadata": {
  "kernelspec": {
   "display_name": "Python 3",
   "language": "python",
   "name": "python3"
  },
  "language_info": {
   "codemirror_mode": {
    "name": "ipython",
    "version": 3
   },
   "file_extension": ".py",
   "mimetype": "text/x-python",
   "name": "python",
   "nbconvert_exporter": "python",
   "pygments_lexer": "ipython3",
   "version": "3.6.10"
  }
 },
 "nbformat": 4,
 "nbformat_minor": 4
}
