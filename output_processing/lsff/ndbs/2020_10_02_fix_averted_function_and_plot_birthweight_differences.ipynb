{
 "cells": [
  {
   "cell_type": "markdown",
   "metadata": {},
   "source": [
    "# Goal: Figure out why it's not working to compute differences of dataframes using the method in my `averted` function"
   ]
  },
  {
   "cell_type": "code",
   "execution_count": 1,
   "metadata": {},
   "outputs": [
    {
     "name": "stdout",
     "output_type": "stream",
     "text": [
      "ndbs\n",
      "Fri Nov 13 12:11:32 PST 2020\n"
     ]
    }
   ],
   "source": [
    "import pandas as pd, numpy as np\n",
    "import vivarium_output_loader as vol\n",
    "import lsff_output_processing as lop\n",
    "\n",
    "!whoami\n",
    "!date"
   ]
  },
  {
   "cell_type": "code",
   "execution_count": 2,
   "metadata": {},
   "outputs": [],
   "source": [
    "%load_ext autoreload\n",
    "%autoreload 2"
   ]
  },
  {
   "cell_type": "markdown",
   "metadata": {},
   "source": [
    "## 1. Define output directories and load count space data"
   ]
  },
  {
   "cell_type": "code",
   "execution_count": 3,
   "metadata": {},
   "outputs": [
    {
     "data": {
      "text/plain": [
       "dict_keys(['India', 'Nigeria', 'Ethiopia'])"
      ]
     },
     "execution_count": 3,
     "metadata": {},
     "output_type": "execute_result"
    }
   ],
   "source": [
    "base_directory = '/share/costeffectiveness/results/vivarium_conic_lsff'\n",
    "locations_rundates = {\n",
    "    'India': '2020_06_26_20_35_00',\n",
    "    'Nigeria': '2020_06_26_20_28_27',\n",
    "    'Ethiopia': '2020_06_28_12_40_56',\n",
    "}\n",
    "locations_paths = vol.locaction_paths_from_rundates(base_directory, locations_rundates)\n",
    "\n",
    "# Load a separate dictionary for each country\n",
    "data = vol.load_count_data_by_location(locations_paths)\n",
    "data.keys()"
   ]
  },
  {
   "cell_type": "code",
   "execution_count": 4,
   "metadata": {},
   "outputs": [
    {
     "data": {
      "text/plain": [
       "dict_keys(['gestational_age', 'transition_count', 'hemoglobin_level', 'deaths', 'state_person_time', 'anemia_state_person_time', 'births_with_ntd', 'population', 'person_time', 'ylls', 'ylds', 'births', 'birth_weight'])"
      ]
     },
     "execution_count": 4,
     "metadata": {},
     "output_type": "execute_result"
    }
   ],
   "source": [
    "# View the table names for one of the countries (they should be the same for all)\n",
    "data['India'].keys()"
   ]
  },
  {
   "cell_type": "code",
   "execution_count": 5,
   "metadata": {},
   "outputs": [
    {
     "data": {
      "text/html": [
       "<div>\n",
       "<style scoped>\n",
       "    .dataframe tbody tr th:only-of-type {\n",
       "        vertical-align: middle;\n",
       "    }\n",
       "\n",
       "    .dataframe tbody tr th {\n",
       "        vertical-align: top;\n",
       "    }\n",
       "\n",
       "    .dataframe thead th {\n",
       "        text-align: right;\n",
       "    }\n",
       "</style>\n",
       "<table border=\"1\" class=\"dataframe\">\n",
       "  <thead>\n",
       "    <tr style=\"text-align: right;\">\n",
       "      <th></th>\n",
       "      <th>year</th>\n",
       "      <th>age_group</th>\n",
       "      <th>cause</th>\n",
       "      <th>folic_acid_fortification_group</th>\n",
       "      <th>vitamin_a_fortification_group</th>\n",
       "      <th>measure</th>\n",
       "      <th>input_draw</th>\n",
       "      <th>scenario</th>\n",
       "      <th>value</th>\n",
       "    </tr>\n",
       "  </thead>\n",
       "  <tbody>\n",
       "    <tr>\n",
       "      <th>0</th>\n",
       "      <td>2020</td>\n",
       "      <td>1_to_4</td>\n",
       "      <td>diarrheal_diseases</td>\n",
       "      <td>covered</td>\n",
       "      <td>covered</td>\n",
       "      <td>ylls</td>\n",
       "      <td>21</td>\n",
       "      <td>baseline</td>\n",
       "      <td>0.0</td>\n",
       "    </tr>\n",
       "    <tr>\n",
       "      <th>1</th>\n",
       "      <td>2020</td>\n",
       "      <td>1_to_4</td>\n",
       "      <td>diarrheal_diseases</td>\n",
       "      <td>covered</td>\n",
       "      <td>covered</td>\n",
       "      <td>ylls</td>\n",
       "      <td>21</td>\n",
       "      <td>folic_acid_fortification_scale_up</td>\n",
       "      <td>0.0</td>\n",
       "    </tr>\n",
       "    <tr>\n",
       "      <th>2</th>\n",
       "      <td>2020</td>\n",
       "      <td>1_to_4</td>\n",
       "      <td>diarrheal_diseases</td>\n",
       "      <td>covered</td>\n",
       "      <td>covered</td>\n",
       "      <td>ylls</td>\n",
       "      <td>21</td>\n",
       "      <td>iron_folic_acid_fortification_scale_up</td>\n",
       "      <td>0.0</td>\n",
       "    </tr>\n",
       "    <tr>\n",
       "      <th>3</th>\n",
       "      <td>2020</td>\n",
       "      <td>1_to_4</td>\n",
       "      <td>diarrheal_diseases</td>\n",
       "      <td>covered</td>\n",
       "      <td>covered</td>\n",
       "      <td>ylls</td>\n",
       "      <td>21</td>\n",
       "      <td>vitamin_a_fortification_scale_up</td>\n",
       "      <td>0.0</td>\n",
       "    </tr>\n",
       "    <tr>\n",
       "      <th>4</th>\n",
       "      <td>2020</td>\n",
       "      <td>1_to_4</td>\n",
       "      <td>diarrheal_diseases</td>\n",
       "      <td>covered</td>\n",
       "      <td>covered</td>\n",
       "      <td>ylls</td>\n",
       "      <td>29</td>\n",
       "      <td>baseline</td>\n",
       "      <td>0.0</td>\n",
       "    </tr>\n",
       "  </tbody>\n",
       "</table>\n",
       "</div>"
      ],
      "text/plain": [
       "   year age_group               cause folic_acid_fortification_group  \\\n",
       "0  2020    1_to_4  diarrheal_diseases                        covered   \n",
       "1  2020    1_to_4  diarrheal_diseases                        covered   \n",
       "2  2020    1_to_4  diarrheal_diseases                        covered   \n",
       "3  2020    1_to_4  diarrheal_diseases                        covered   \n",
       "4  2020    1_to_4  diarrheal_diseases                        covered   \n",
       "\n",
       "  vitamin_a_fortification_group measure  input_draw  \\\n",
       "0                       covered    ylls          21   \n",
       "1                       covered    ylls          21   \n",
       "2                       covered    ylls          21   \n",
       "3                       covered    ylls          21   \n",
       "4                       covered    ylls          29   \n",
       "\n",
       "                                 scenario  value  \n",
       "0                                baseline    0.0  \n",
       "1       folic_acid_fortification_scale_up    0.0  \n",
       "2  iron_folic_acid_fortification_scale_up    0.0  \n",
       "3        vitamin_a_fortification_scale_up    0.0  \n",
       "4                                baseline    0.0  "
      ]
     },
     "execution_count": 5,
     "metadata": {},
     "output_type": "execute_result"
    }
   ],
   "source": [
    "# View the yll table\n",
    "data['India']['ylls'].head()"
   ]
  },
  {
   "cell_type": "code",
   "execution_count": 6,
   "metadata": {},
   "outputs": [
    {
     "data": {
      "text/plain": [
       "dict_keys(['gestational_age', 'transition_count', 'hemoglobin_level', 'deaths', 'state_person_time', 'anemia_state_person_time', 'births_with_ntd', 'population', 'person_time', 'ylls', 'ylds', 'births', 'birth_weight'])"
      ]
     },
     "execution_count": 6,
     "metadata": {},
     "output_type": "execute_result"
    }
   ],
   "source": [
    "# Merge the data for all locations into a single dictionary of dataframes\n",
    "all_data = vol.merge_location_count_data(data)\n",
    "all_data.keys()"
   ]
  },
  {
   "cell_type": "code",
   "execution_count": 7,
   "metadata": {},
   "outputs": [
    {
     "data": {
      "text/html": [
       "<div>\n",
       "<style scoped>\n",
       "    .dataframe tbody tr th:only-of-type {\n",
       "        vertical-align: middle;\n",
       "    }\n",
       "\n",
       "    .dataframe tbody tr th {\n",
       "        vertical-align: top;\n",
       "    }\n",
       "\n",
       "    .dataframe thead th {\n",
       "        text-align: right;\n",
       "    }\n",
       "</style>\n",
       "<table border=\"1\" class=\"dataframe\">\n",
       "  <thead>\n",
       "    <tr style=\"text-align: right;\">\n",
       "      <th></th>\n",
       "      <th>location</th>\n",
       "      <th>year</th>\n",
       "      <th>age_group</th>\n",
       "      <th>cause</th>\n",
       "      <th>folic_acid_fortification_group</th>\n",
       "      <th>vitamin_a_fortification_group</th>\n",
       "      <th>measure</th>\n",
       "      <th>input_draw</th>\n",
       "      <th>scenario</th>\n",
       "      <th>value</th>\n",
       "    </tr>\n",
       "  </thead>\n",
       "  <tbody>\n",
       "    <tr>\n",
       "      <th>0</th>\n",
       "      <td>India</td>\n",
       "      <td>2020</td>\n",
       "      <td>1_to_4</td>\n",
       "      <td>diarrheal_diseases</td>\n",
       "      <td>covered</td>\n",
       "      <td>covered</td>\n",
       "      <td>ylls</td>\n",
       "      <td>21</td>\n",
       "      <td>baseline</td>\n",
       "      <td>0.0</td>\n",
       "    </tr>\n",
       "    <tr>\n",
       "      <th>1</th>\n",
       "      <td>India</td>\n",
       "      <td>2020</td>\n",
       "      <td>1_to_4</td>\n",
       "      <td>diarrheal_diseases</td>\n",
       "      <td>covered</td>\n",
       "      <td>covered</td>\n",
       "      <td>ylls</td>\n",
       "      <td>21</td>\n",
       "      <td>folic_acid_fortification_scale_up</td>\n",
       "      <td>0.0</td>\n",
       "    </tr>\n",
       "    <tr>\n",
       "      <th>2</th>\n",
       "      <td>India</td>\n",
       "      <td>2020</td>\n",
       "      <td>1_to_4</td>\n",
       "      <td>diarrheal_diseases</td>\n",
       "      <td>covered</td>\n",
       "      <td>covered</td>\n",
       "      <td>ylls</td>\n",
       "      <td>21</td>\n",
       "      <td>iron_folic_acid_fortification_scale_up</td>\n",
       "      <td>0.0</td>\n",
       "    </tr>\n",
       "    <tr>\n",
       "      <th>3</th>\n",
       "      <td>India</td>\n",
       "      <td>2020</td>\n",
       "      <td>1_to_4</td>\n",
       "      <td>diarrheal_diseases</td>\n",
       "      <td>covered</td>\n",
       "      <td>covered</td>\n",
       "      <td>ylls</td>\n",
       "      <td>21</td>\n",
       "      <td>vitamin_a_fortification_scale_up</td>\n",
       "      <td>0.0</td>\n",
       "    </tr>\n",
       "    <tr>\n",
       "      <th>4</th>\n",
       "      <td>India</td>\n",
       "      <td>2020</td>\n",
       "      <td>1_to_4</td>\n",
       "      <td>diarrheal_diseases</td>\n",
       "      <td>covered</td>\n",
       "      <td>covered</td>\n",
       "      <td>ylls</td>\n",
       "      <td>29</td>\n",
       "      <td>baseline</td>\n",
       "      <td>0.0</td>\n",
       "    </tr>\n",
       "  </tbody>\n",
       "</table>\n",
       "</div>"
      ],
      "text/plain": [
       "  location  year age_group               cause folic_acid_fortification_group  \\\n",
       "0    India  2020    1_to_4  diarrheal_diseases                        covered   \n",
       "1    India  2020    1_to_4  diarrheal_diseases                        covered   \n",
       "2    India  2020    1_to_4  diarrheal_diseases                        covered   \n",
       "3    India  2020    1_to_4  diarrheal_diseases                        covered   \n",
       "4    India  2020    1_to_4  diarrheal_diseases                        covered   \n",
       "\n",
       "  vitamin_a_fortification_group measure  input_draw  \\\n",
       "0                       covered    ylls          21   \n",
       "1                       covered    ylls          21   \n",
       "2                       covered    ylls          21   \n",
       "3                       covered    ylls          21   \n",
       "4                       covered    ylls          29   \n",
       "\n",
       "                                 scenario  value  \n",
       "0                                baseline    0.0  \n",
       "1       folic_acid_fortification_scale_up    0.0  \n",
       "2  iron_folic_acid_fortification_scale_up    0.0  \n",
       "3        vitamin_a_fortification_scale_up    0.0  \n",
       "4                                baseline    0.0  "
      ]
     },
     "execution_count": 7,
     "metadata": {},
     "output_type": "execute_result"
    }
   ],
   "source": [
    "# Compare yll table with the one above\n",
    "all_data['ylls'].head()"
   ]
  },
  {
   "cell_type": "markdown",
   "metadata": {},
   "source": [
    "## 2. Check iron effect on birthweight\n",
    "\n",
    "It looks like the `'unknown'` category is missing from the iron fortification groups in the `birth_weight` dataframe."
   ]
  },
  {
   "cell_type": "code",
   "execution_count": 8,
   "metadata": {},
   "outputs": [
    {
     "data": {
      "text/html": [
       "<div>\n",
       "<style scoped>\n",
       "    .dataframe tbody tr th:only-of-type {\n",
       "        vertical-align: middle;\n",
       "    }\n",
       "\n",
       "    .dataframe tbody tr th {\n",
       "        vertical-align: top;\n",
       "    }\n",
       "\n",
       "    .dataframe thead th {\n",
       "        text-align: right;\n",
       "    }\n",
       "</style>\n",
       "<table border=\"1\" class=\"dataframe\">\n",
       "  <thead>\n",
       "    <tr style=\"text-align: right;\">\n",
       "      <th></th>\n",
       "      <th>location</th>\n",
       "      <th>year</th>\n",
       "      <th>sex</th>\n",
       "      <th>folic_acid_fortification_group</th>\n",
       "      <th>measure</th>\n",
       "      <th>input_draw</th>\n",
       "      <th>scenario</th>\n",
       "      <th>value</th>\n",
       "    </tr>\n",
       "  </thead>\n",
       "  <tbody>\n",
       "    <tr>\n",
       "      <th>0</th>\n",
       "      <td>India</td>\n",
       "      <td>2020</td>\n",
       "      <td>female</td>\n",
       "      <td>covered</td>\n",
       "      <td>live_births</td>\n",
       "      <td>21</td>\n",
       "      <td>baseline</td>\n",
       "      <td>1857.0</td>\n",
       "    </tr>\n",
       "    <tr>\n",
       "      <th>1</th>\n",
       "      <td>India</td>\n",
       "      <td>2020</td>\n",
       "      <td>female</td>\n",
       "      <td>covered</td>\n",
       "      <td>live_births</td>\n",
       "      <td>21</td>\n",
       "      <td>baseline</td>\n",
       "      <td>12.0</td>\n",
       "    </tr>\n",
       "    <tr>\n",
       "      <th>2</th>\n",
       "      <td>India</td>\n",
       "      <td>2020</td>\n",
       "      <td>female</td>\n",
       "      <td>covered</td>\n",
       "      <td>live_births</td>\n",
       "      <td>21</td>\n",
       "      <td>baseline</td>\n",
       "      <td>530.0</td>\n",
       "    </tr>\n",
       "    <tr>\n",
       "      <th>3</th>\n",
       "      <td>India</td>\n",
       "      <td>2020</td>\n",
       "      <td>female</td>\n",
       "      <td>covered</td>\n",
       "      <td>live_births</td>\n",
       "      <td>21</td>\n",
       "      <td>folic_acid_fortification_scale_up</td>\n",
       "      <td>1857.0</td>\n",
       "    </tr>\n",
       "    <tr>\n",
       "      <th>4</th>\n",
       "      <td>India</td>\n",
       "      <td>2020</td>\n",
       "      <td>female</td>\n",
       "      <td>covered</td>\n",
       "      <td>live_births</td>\n",
       "      <td>21</td>\n",
       "      <td>folic_acid_fortification_scale_up</td>\n",
       "      <td>12.0</td>\n",
       "    </tr>\n",
       "  </tbody>\n",
       "</table>\n",
       "</div>"
      ],
      "text/plain": [
       "  location  year     sex folic_acid_fortification_group      measure  \\\n",
       "0    India  2020  female                        covered  live_births   \n",
       "1    India  2020  female                        covered  live_births   \n",
       "2    India  2020  female                        covered  live_births   \n",
       "3    India  2020  female                        covered  live_births   \n",
       "4    India  2020  female                        covered  live_births   \n",
       "\n",
       "   input_draw                           scenario   value  \n",
       "0          21                           baseline  1857.0  \n",
       "1          21                           baseline    12.0  \n",
       "2          21                           baseline   530.0  \n",
       "3          21  folic_acid_fortification_scale_up  1857.0  \n",
       "4          21  folic_acid_fortification_scale_up    12.0  "
      ]
     },
     "execution_count": 8,
     "metadata": {},
     "output_type": "execute_result"
    }
   ],
   "source": [
    "all_data['births'].head()"
   ]
  },
  {
   "cell_type": "code",
   "execution_count": 9,
   "metadata": {},
   "outputs": [
    {
     "data": {
      "text/plain": [
       "array(['covered', 'uncovered', 'unknown'], dtype=object)"
      ]
     },
     "execution_count": 9,
     "metadata": {},
     "output_type": "execute_result"
    }
   ],
   "source": [
    "# 3 coverage groups for folic acid fortification\n",
    "all_data['births'].folic_acid_fortification_group.unique()"
   ]
  },
  {
   "cell_type": "code",
   "execution_count": 10,
   "metadata": {},
   "outputs": [
    {
     "data": {
      "text/html": [
       "<div>\n",
       "<style scoped>\n",
       "    .dataframe tbody tr th:only-of-type {\n",
       "        vertical-align: middle;\n",
       "    }\n",
       "\n",
       "    .dataframe tbody tr th {\n",
       "        vertical-align: top;\n",
       "    }\n",
       "\n",
       "    .dataframe thead th {\n",
       "        text-align: right;\n",
       "    }\n",
       "</style>\n",
       "<table border=\"1\" class=\"dataframe\">\n",
       "  <thead>\n",
       "    <tr style=\"text-align: right;\">\n",
       "      <th></th>\n",
       "      <th>location</th>\n",
       "      <th>year</th>\n",
       "      <th>sex</th>\n",
       "      <th>measure</th>\n",
       "      <th>input_draw</th>\n",
       "      <th>scenario</th>\n",
       "      <th>value</th>\n",
       "      <th>iron_fortification_group</th>\n",
       "    </tr>\n",
       "  </thead>\n",
       "  <tbody>\n",
       "    <tr>\n",
       "      <th>0</th>\n",
       "      <td>India</td>\n",
       "      <td>2020</td>\n",
       "      <td>female</td>\n",
       "      <td>birth_weight_mean</td>\n",
       "      <td>21</td>\n",
       "      <td>baseline</td>\n",
       "      <td>2912.186341</td>\n",
       "      <td>uncovered</td>\n",
       "    </tr>\n",
       "    <tr>\n",
       "      <th>1</th>\n",
       "      <td>India</td>\n",
       "      <td>2020</td>\n",
       "      <td>female</td>\n",
       "      <td>birth_weight_mean</td>\n",
       "      <td>21</td>\n",
       "      <td>baseline</td>\n",
       "      <td>2897.547480</td>\n",
       "      <td>covered</td>\n",
       "    </tr>\n",
       "    <tr>\n",
       "      <th>2</th>\n",
       "      <td>India</td>\n",
       "      <td>2020</td>\n",
       "      <td>female</td>\n",
       "      <td>birth_weight_mean</td>\n",
       "      <td>21</td>\n",
       "      <td>folic_acid_fortification_scale_up</td>\n",
       "      <td>2912.186341</td>\n",
       "      <td>uncovered</td>\n",
       "    </tr>\n",
       "    <tr>\n",
       "      <th>3</th>\n",
       "      <td>India</td>\n",
       "      <td>2020</td>\n",
       "      <td>female</td>\n",
       "      <td>birth_weight_mean</td>\n",
       "      <td>21</td>\n",
       "      <td>folic_acid_fortification_scale_up</td>\n",
       "      <td>2897.547480</td>\n",
       "      <td>covered</td>\n",
       "    </tr>\n",
       "    <tr>\n",
       "      <th>4</th>\n",
       "      <td>India</td>\n",
       "      <td>2020</td>\n",
       "      <td>female</td>\n",
       "      <td>birth_weight_mean</td>\n",
       "      <td>21</td>\n",
       "      <td>iron_folic_acid_fortification_scale_up</td>\n",
       "      <td>2912.186341</td>\n",
       "      <td>uncovered</td>\n",
       "    </tr>\n",
       "  </tbody>\n",
       "</table>\n",
       "</div>"
      ],
      "text/plain": [
       "  location  year     sex            measure  input_draw  \\\n",
       "0    India  2020  female  birth_weight_mean          21   \n",
       "1    India  2020  female  birth_weight_mean          21   \n",
       "2    India  2020  female  birth_weight_mean          21   \n",
       "3    India  2020  female  birth_weight_mean          21   \n",
       "4    India  2020  female  birth_weight_mean          21   \n",
       "\n",
       "                                 scenario        value  \\\n",
       "0                                baseline  2912.186341   \n",
       "1                                baseline  2897.547480   \n",
       "2       folic_acid_fortification_scale_up  2912.186341   \n",
       "3       folic_acid_fortification_scale_up  2897.547480   \n",
       "4  iron_folic_acid_fortification_scale_up  2912.186341   \n",
       "\n",
       "  iron_fortification_group  \n",
       "0                uncovered  \n",
       "1                  covered  \n",
       "2                uncovered  \n",
       "3                  covered  \n",
       "4                uncovered  "
      ]
     },
     "execution_count": 10,
     "metadata": {},
     "output_type": "execute_result"
    }
   ],
   "source": [
    "all_data['birth_weight'].head()"
   ]
  },
  {
   "cell_type": "code",
   "execution_count": 11,
   "metadata": {},
   "outputs": [
    {
     "data": {
      "text/plain": [
       "array(['uncovered', 'covered'], dtype=object)"
      ]
     },
     "execution_count": 11,
     "metadata": {},
     "output_type": "execute_result"
    }
   ],
   "source": [
    "# Hmm, only 2 groups for iron fortification - this should have an 'unknown' group as well...\n",
    "all_data['birth_weight'].iron_fortification_group.unique()"
   ]
  },
  {
   "cell_type": "code",
   "execution_count": 12,
   "metadata": {},
   "outputs": [
    {
     "data": {
      "text/plain": [
       "array(['baseline', 'folic_acid_fortification_scale_up',\n",
       "       'iron_folic_acid_fortification_scale_up',\n",
       "       'vitamin_a_fortification_scale_up'], dtype=object)"
      ]
     },
     "execution_count": 12,
     "metadata": {},
     "output_type": "execute_result"
    }
   ],
   "source": [
    "all_data['birth_weight'].scenario.unique()"
   ]
  },
  {
   "cell_type": "code",
   "execution_count": 13,
   "metadata": {},
   "outputs": [
    {
     "data": {
      "text/plain": [
       "array(['birth_weight_mean', 'birth_weight_sd'], dtype=object)"
      ]
     },
     "execution_count": 13,
     "metadata": {},
     "output_type": "execute_result"
    }
   ],
   "source": [
    "all_data['birth_weight'].measure.unique()"
   ]
  },
  {
   "cell_type": "code",
   "execution_count": 14,
   "metadata": {},
   "outputs": [
    {
     "data": {
      "text/html": [
       "<div>\n",
       "<style scoped>\n",
       "    .dataframe tbody tr th:only-of-type {\n",
       "        vertical-align: middle;\n",
       "    }\n",
       "\n",
       "    .dataframe tbody tr th {\n",
       "        vertical-align: top;\n",
       "    }\n",
       "\n",
       "    .dataframe thead th {\n",
       "        text-align: right;\n",
       "    }\n",
       "</style>\n",
       "<table border=\"1\" class=\"dataframe\">\n",
       "  <thead>\n",
       "    <tr style=\"text-align: right;\">\n",
       "      <th></th>\n",
       "      <th>location</th>\n",
       "      <th>year</th>\n",
       "      <th>sex</th>\n",
       "      <th>measure</th>\n",
       "      <th>input_draw</th>\n",
       "      <th>scenario</th>\n",
       "      <th>value</th>\n",
       "      <th>iron_fortification_group</th>\n",
       "    </tr>\n",
       "  </thead>\n",
       "  <tbody>\n",
       "    <tr>\n",
       "      <th>1604</th>\n",
       "      <td>Nigeria</td>\n",
       "      <td>2022</td>\n",
       "      <td>female</td>\n",
       "      <td>birth_weight_mean</td>\n",
       "      <td>21</td>\n",
       "      <td>iron_folic_acid_fortification_scale_up</td>\n",
       "      <td>3193.635062</td>\n",
       "      <td>uncovered</td>\n",
       "    </tr>\n",
       "    <tr>\n",
       "      <th>1605</th>\n",
       "      <td>Nigeria</td>\n",
       "      <td>2022</td>\n",
       "      <td>female</td>\n",
       "      <td>birth_weight_mean</td>\n",
       "      <td>21</td>\n",
       "      <td>iron_folic_acid_fortification_scale_up</td>\n",
       "      <td>3201.502874</td>\n",
       "      <td>covered</td>\n",
       "    </tr>\n",
       "    <tr>\n",
       "      <th>2004</th>\n",
       "      <td>Nigeria</td>\n",
       "      <td>2022</td>\n",
       "      <td>male</td>\n",
       "      <td>birth_weight_mean</td>\n",
       "      <td>21</td>\n",
       "      <td>iron_folic_acid_fortification_scale_up</td>\n",
       "      <td>3235.496806</td>\n",
       "      <td>uncovered</td>\n",
       "    </tr>\n",
       "    <tr>\n",
       "      <th>2005</th>\n",
       "      <td>Nigeria</td>\n",
       "      <td>2022</td>\n",
       "      <td>male</td>\n",
       "      <td>birth_weight_mean</td>\n",
       "      <td>21</td>\n",
       "      <td>iron_folic_acid_fortification_scale_up</td>\n",
       "      <td>3241.154803</td>\n",
       "      <td>covered</td>\n",
       "    </tr>\n",
       "  </tbody>\n",
       "</table>\n",
       "</div>"
      ],
      "text/plain": [
       "     location  year     sex            measure  input_draw  \\\n",
       "1604  Nigeria  2022  female  birth_weight_mean          21   \n",
       "1605  Nigeria  2022  female  birth_weight_mean          21   \n",
       "2004  Nigeria  2022    male  birth_weight_mean          21   \n",
       "2005  Nigeria  2022    male  birth_weight_mean          21   \n",
       "\n",
       "                                    scenario        value  \\\n",
       "1604  iron_folic_acid_fortification_scale_up  3193.635062   \n",
       "1605  iron_folic_acid_fortification_scale_up  3201.502874   \n",
       "2004  iron_folic_acid_fortification_scale_up  3235.496806   \n",
       "2005  iron_folic_acid_fortification_scale_up  3241.154803   \n",
       "\n",
       "     iron_fortification_group  \n",
       "1604                uncovered  \n",
       "1605                  covered  \n",
       "2004                uncovered  \n",
       "2005                  covered  "
      ]
     },
     "execution_count": 14,
     "metadata": {},
     "output_type": "execute_result"
    }
   ],
   "source": [
    "year = '2022'\n",
    "scenario = 'iron_folic_acid_fortification_scale_up'\n",
    "location = 'Nigeria'\n",
    "draw = 21\n",
    "query = ('measure==\"birth_weight_mean\" and scenario==@scenario and year==@year'\n",
    "         ' and input_draw==@draw and location==@location'\n",
    "        )\n",
    "all_data['birth_weight'].query(query)"
   ]
  },
  {
   "cell_type": "markdown",
   "metadata": {},
   "source": [
    "## Compare mean BW among covered vs. uncovered in Nigeria, for each scenario\n",
    "\n",
    "In theory, if the population is large enough, the mean difference should be close to the effect size of of our iron-birthweight intervention, which is around 9 grams for Nigeria. However, I'm not seeing that in the below graph. I don't know whether the problem is that the population is too small to see the effect (I would need to do a statistical power calculation...), or if there is something else that's wrong."
   ]
  },
  {
   "cell_type": "code",
   "execution_count": 15,
   "metadata": {},
   "outputs": [
    {
     "name": "stdout",
     "output_type": "stream",
     "text": [
      "['year', 'sex', 'measure', 'input_draw', 'scenario']\n",
      "baseline index: ['year', 'sex', 'measure', 'input_draw', 'scenario']\n",
      "intervention index: ['year', 'sex', 'measure', 'input_draw', 'scenario', 'iron_fortification_group']\n",
      "averted index: ['year', 'sex', 'measure', 'input_draw', 'scenario', 'iron_fortification_group']\n",
      "Index(['year', 'sex', 'measure', 'input_draw', 'scenario',\n",
      "       'iron_fortification_group', 'value'],\n",
      "      dtype='object')\n"
     ]
    },
    {
     "data": {
      "text/html": [
       "<div>\n",
       "<style scoped>\n",
       "    .dataframe tbody tr th:only-of-type {\n",
       "        vertical-align: middle;\n",
       "    }\n",
       "\n",
       "    .dataframe tbody tr th {\n",
       "        vertical-align: top;\n",
       "    }\n",
       "\n",
       "    .dataframe thead th {\n",
       "        text-align: right;\n",
       "    }\n",
       "</style>\n",
       "<table border=\"1\" class=\"dataframe\">\n",
       "  <thead>\n",
       "    <tr style=\"text-align: right;\">\n",
       "      <th></th>\n",
       "      <th>year</th>\n",
       "      <th>sex</th>\n",
       "      <th>measure</th>\n",
       "      <th>input_draw</th>\n",
       "      <th>scenario</th>\n",
       "      <th>iron_fortification_group</th>\n",
       "      <th>relative_to</th>\n",
       "      <th>value</th>\n",
       "    </tr>\n",
       "  </thead>\n",
       "  <tbody>\n",
       "    <tr>\n",
       "      <th>0</th>\n",
       "      <td>2020</td>\n",
       "      <td>female</td>\n",
       "      <td>birth_weight_mean</td>\n",
       "      <td>21</td>\n",
       "      <td>baseline</td>\n",
       "      <td>covered</td>\n",
       "      <td>uncovered</td>\n",
       "      <td>8.396967</td>\n",
       "    </tr>\n",
       "    <tr>\n",
       "      <th>1</th>\n",
       "      <td>2020</td>\n",
       "      <td>female</td>\n",
       "      <td>birth_weight_mean</td>\n",
       "      <td>21</td>\n",
       "      <td>folic_acid_fortification_scale_up</td>\n",
       "      <td>covered</td>\n",
       "      <td>uncovered</td>\n",
       "      <td>8.396967</td>\n",
       "    </tr>\n",
       "    <tr>\n",
       "      <th>2</th>\n",
       "      <td>2020</td>\n",
       "      <td>female</td>\n",
       "      <td>birth_weight_mean</td>\n",
       "      <td>21</td>\n",
       "      <td>iron_folic_acid_fortification_scale_up</td>\n",
       "      <td>covered</td>\n",
       "      <td>uncovered</td>\n",
       "      <td>8.396967</td>\n",
       "    </tr>\n",
       "    <tr>\n",
       "      <th>3</th>\n",
       "      <td>2020</td>\n",
       "      <td>female</td>\n",
       "      <td>birth_weight_mean</td>\n",
       "      <td>21</td>\n",
       "      <td>vitamin_a_fortification_scale_up</td>\n",
       "      <td>covered</td>\n",
       "      <td>uncovered</td>\n",
       "      <td>8.396967</td>\n",
       "    </tr>\n",
       "    <tr>\n",
       "      <th>4</th>\n",
       "      <td>2020</td>\n",
       "      <td>female</td>\n",
       "      <td>birth_weight_mean</td>\n",
       "      <td>29</td>\n",
       "      <td>baseline</td>\n",
       "      <td>covered</td>\n",
       "      <td>uncovered</td>\n",
       "      <td>10.233676</td>\n",
       "    </tr>\n",
       "  </tbody>\n",
       "</table>\n",
       "</div>"
      ],
      "text/plain": [
       "   year     sex            measure  input_draw  \\\n",
       "0  2020  female  birth_weight_mean          21   \n",
       "1  2020  female  birth_weight_mean          21   \n",
       "2  2020  female  birth_weight_mean          21   \n",
       "3  2020  female  birth_weight_mean          21   \n",
       "4  2020  female  birth_weight_mean          29   \n",
       "\n",
       "                                 scenario iron_fortification_group  \\\n",
       "0                                baseline                  covered   \n",
       "1       folic_acid_fortification_scale_up                  covered   \n",
       "2  iron_folic_acid_fortification_scale_up                  covered   \n",
       "3        vitamin_a_fortification_scale_up                  covered   \n",
       "4                                baseline                  covered   \n",
       "\n",
       "  relative_to      value  \n",
       "0   uncovered   8.396967  \n",
       "1   uncovered   8.396967  \n",
       "2   uncovered   8.396967  \n",
       "3   uncovered   8.396967  \n",
       "4   uncovered  10.233676  "
      ]
     },
     "execution_count": 15,
     "metadata": {},
     "output_type": "execute_result"
    }
   ],
   "source": [
    "bw_mean = data['Nigeria']['birth_weight'].query('measure==\"birth_weight_mean\"')\n",
    "bw_mean.head()\n",
    "bw_diff = lop.averted(bw_mean, 'uncovered', 'iron_fortification_group')\n",
    "bw_diff.head()"
   ]
  },
  {
   "cell_type": "markdown",
   "metadata": {},
   "source": [
    "### Plot histogram of difference in BW between covered and uncovered, lumping all scenarios together\n",
    "\n",
    "Hmm, I would expect the differences to be more on the positive side than essentially centered around 0 as in the following graph."
   ]
  },
  {
   "cell_type": "code",
   "execution_count": 16,
   "metadata": {},
   "outputs": [
    {
     "data": {
      "text/plain": [
       "<matplotlib.axes._subplots.AxesSubplot at 0x2b996d8ccba8>"
      ]
     },
     "execution_count": 16,
     "metadata": {},
     "output_type": "execute_result"
    },
    {
     "data": {
      "image/png": "[encoded data removed]",
      "text/plain": [
       "<Figure size 432x288 with 1 Axes>"
      ]
     },
     "metadata": {
      "needs_background": "light"
     },
     "output_type": "display_data"
    }
   ],
   "source": [
    "bw_diff.value.hist()"
   ]
  },
  {
   "cell_type": "code",
   "execution_count": 17,
   "metadata": {},
   "outputs": [
    {
     "data": {
      "text/plain": [
       "0.22767621119133252"
      ]
     },
     "execution_count": 17,
     "metadata": {},
     "output_type": "execute_result"
    }
   ],
   "source": [
    "# If the population is large enough, this mean should be around 9\n",
    "bw_diff.value.mean()"
   ]
  },
  {
   "cell_type": "code",
   "execution_count": 18,
   "metadata": {},
   "outputs": [
    {
     "data": {
      "text/plain": [
       "array(['birth_weight_mean'], dtype=object)"
      ]
     },
     "execution_count": 18,
     "metadata": {},
     "output_type": "execute_result"
    }
   ],
   "source": [
    "bw_diff.measure.unique()"
   ]
  },
  {
   "cell_type": "code",
   "execution_count": 19,
   "metadata": {},
   "outputs": [
    {
     "data": {
      "text/plain": [
       "array(['birth_weight_mean'], dtype=object)"
      ]
     },
     "execution_count": 19,
     "metadata": {},
     "output_type": "execute_result"
    }
   ],
   "source": [
    "bw_mean.measure.unique()"
   ]
  },
  {
   "cell_type": "markdown",
   "metadata": {},
   "source": [
    "## Now compare difference in mean BW between each scenario and baseline"
   ]
  },
  {
   "cell_type": "code",
   "execution_count": 20,
   "metadata": {},
   "outputs": [
    {
     "name": "stdout",
     "output_type": "stream",
     "text": [
      "['year', 'sex', 'measure', 'input_draw', 'iron_fortification_group']\n",
      "baseline index: ['year', 'sex', 'measure', 'input_draw', 'iron_fortification_group']\n",
      "intervention index: ['year', 'sex', 'measure', 'input_draw', 'iron_fortification_group', 'scenario']\n",
      "averted index: ['year', 'sex', 'measure', 'input_draw', 'iron_fortification_group', 'scenario']\n",
      "Index(['year', 'sex', 'measure', 'input_draw', 'iron_fortification_group',\n",
      "       'scenario', 'value'],\n",
      "      dtype='object')\n"
     ]
    },
    {
     "data": {
      "text/html": [
       "<div>\n",
       "<style scoped>\n",
       "    .dataframe tbody tr th:only-of-type {\n",
       "        vertical-align: middle;\n",
       "    }\n",
       "\n",
       "    .dataframe tbody tr th {\n",
       "        vertical-align: top;\n",
       "    }\n",
       "\n",
       "    .dataframe thead th {\n",
       "        text-align: right;\n",
       "    }\n",
       "</style>\n",
       "<table border=\"1\" class=\"dataframe\">\n",
       "  <thead>\n",
       "    <tr style=\"text-align: right;\">\n",
       "      <th></th>\n",
       "      <th>year</th>\n",
       "      <th>sex</th>\n",
       "      <th>measure</th>\n",
       "      <th>input_draw</th>\n",
       "      <th>iron_fortification_group</th>\n",
       "      <th>scenario</th>\n",
       "      <th>relative_to</th>\n",
       "      <th>value</th>\n",
       "    </tr>\n",
       "  </thead>\n",
       "  <tbody>\n",
       "    <tr>\n",
       "      <th>0</th>\n",
       "      <td>2020</td>\n",
       "      <td>female</td>\n",
       "      <td>birth_weight_mean</td>\n",
       "      <td>21</td>\n",
       "      <td>covered</td>\n",
       "      <td>folic_acid_fortification_scale_up</td>\n",
       "      <td>baseline</td>\n",
       "      <td>0.000000e+00</td>\n",
       "    </tr>\n",
       "    <tr>\n",
       "      <th>1</th>\n",
       "      <td>2020</td>\n",
       "      <td>female</td>\n",
       "      <td>birth_weight_mean</td>\n",
       "      <td>21</td>\n",
       "      <td>covered</td>\n",
       "      <td>iron_folic_acid_fortification_scale_up</td>\n",
       "      <td>baseline</td>\n",
       "      <td>4.547474e-13</td>\n",
       "    </tr>\n",
       "    <tr>\n",
       "      <th>2</th>\n",
       "      <td>2020</td>\n",
       "      <td>female</td>\n",
       "      <td>birth_weight_mean</td>\n",
       "      <td>21</td>\n",
       "      <td>covered</td>\n",
       "      <td>vitamin_a_fortification_scale_up</td>\n",
       "      <td>baseline</td>\n",
       "      <td>-4.547474e-13</td>\n",
       "    </tr>\n",
       "    <tr>\n",
       "      <th>3</th>\n",
       "      <td>2020</td>\n",
       "      <td>female</td>\n",
       "      <td>birth_weight_mean</td>\n",
       "      <td>21</td>\n",
       "      <td>uncovered</td>\n",
       "      <td>folic_acid_fortification_scale_up</td>\n",
       "      <td>baseline</td>\n",
       "      <td>0.000000e+00</td>\n",
       "    </tr>\n",
       "    <tr>\n",
       "      <th>4</th>\n",
       "      <td>2020</td>\n",
       "      <td>female</td>\n",
       "      <td>birth_weight_mean</td>\n",
       "      <td>21</td>\n",
       "      <td>uncovered</td>\n",
       "      <td>iron_folic_acid_fortification_scale_up</td>\n",
       "      <td>baseline</td>\n",
       "      <td>9.094947e-13</td>\n",
       "    </tr>\n",
       "  </tbody>\n",
       "</table>\n",
       "</div>"
      ],
      "text/plain": [
       "   year     sex            measure  input_draw iron_fortification_group  \\\n",
       "0  2020  female  birth_weight_mean          21                  covered   \n",
       "1  2020  female  birth_weight_mean          21                  covered   \n",
       "2  2020  female  birth_weight_mean          21                  covered   \n",
       "3  2020  female  birth_weight_mean          21                uncovered   \n",
       "4  2020  female  birth_weight_mean          21                uncovered   \n",
       "\n",
       "                                 scenario relative_to         value  \n",
       "0       folic_acid_fortification_scale_up    baseline  0.000000e+00  \n",
       "1  iron_folic_acid_fortification_scale_up    baseline  4.547474e-13  \n",
       "2        vitamin_a_fortification_scale_up    baseline -4.547474e-13  \n",
       "3       folic_acid_fortification_scale_up    baseline  0.000000e+00  \n",
       "4  iron_folic_acid_fortification_scale_up    baseline  9.094947e-13  "
      ]
     },
     "execution_count": 20,
     "metadata": {},
     "output_type": "execute_result"
    }
   ],
   "source": [
    "bw_mean = data['Nigeria']['birth_weight'].query('measure==\"birth_weight_mean\"')\n",
    "# index_columns = ['year', 'sex', 'measure', 'input_draw', 'scenario']\n",
    "# bw_mean = bw_mean.groupby(index_columns).sum().reset_index()\n",
    "# bw_mean = bw_mean.query('scenario in [\"baseline\", \"iron_folic_acid_fortification_scale_up\"]')\n",
    "bw_mean.head()\n",
    "bw_diff = lop.averted(bw_mean, 'baseline')\n",
    "bw_diff.head()"
   ]
  },
  {
   "cell_type": "markdown",
   "metadata": {},
   "source": [
    "### Plot histogram of mean differences from baseline for `'iron_folic_acid_fortification_scale_up'` scenario\n",
    "\n",
    "Hmm, it's hard to tell whether this graph looks reasonable, because the results are still stratified by `iron_fortification_group`. If we aggregated across this variable for each scenario, then I think we'd expect the difference from baseline to be strictly positive in the `'iron_folic_acid_fortification_scale_up'` scenario, but we don't have the data to aggregate correctly. So it's possible the below graph is just a graph of random noise - perhaps approximately normal? If so, the shape might actually be reasonable..."
   ]
  },
  {
   "cell_type": "code",
   "execution_count": 21,
   "metadata": {},
   "outputs": [
    {
     "data": {
      "text/plain": [
       "<matplotlib.axes._subplots.AxesSubplot at 0x2b996e062da0>"
      ]
     },
     "execution_count": 21,
     "metadata": {},
     "output_type": "execute_result"
    },
    {
     "data": {
      "image/png": "[encoded data removed]",
      "text/plain": [
       "<Figure size 432x288 with 1 Axes>"
      ]
     },
     "metadata": {
      "needs_background": "light"
     },
     "output_type": "display_data"
    }
   ],
   "source": [
    "bw_diff.query('scenario == \"iron_folic_acid_fortification_scale_up\"').value.hist(bins=20)"
   ]
  },
  {
   "cell_type": "code",
   "execution_count": 22,
   "metadata": {},
   "outputs": [
    {
     "data": {
      "text/plain": [
       "0.009040709315761432"
      ]
     },
     "execution_count": 22,
     "metadata": {},
     "output_type": "execute_result"
    }
   ],
   "source": [
    "bw_diff.query('scenario == \"iron_folic_acid_fortification_scale_up\"').value.mean()"
   ]
  },
  {
   "cell_type": "code",
   "execution_count": 23,
   "metadata": {},
   "outputs": [
    {
     "data": {
      "text/html": [
       "<div>\n",
       "<style scoped>\n",
       "    .dataframe tbody tr th:only-of-type {\n",
       "        vertical-align: middle;\n",
       "    }\n",
       "\n",
       "    .dataframe tbody tr th {\n",
       "        vertical-align: top;\n",
       "    }\n",
       "\n",
       "    .dataframe thead th {\n",
       "        text-align: right;\n",
       "    }\n",
       "</style>\n",
       "<table border=\"1\" class=\"dataframe\">\n",
       "  <thead>\n",
       "    <tr style=\"text-align: right;\">\n",
       "      <th></th>\n",
       "      <th>year</th>\n",
       "      <th>sex</th>\n",
       "      <th>measure</th>\n",
       "      <th>input_draw</th>\n",
       "      <th>iron_fortification_group</th>\n",
       "      <th>scenario</th>\n",
       "      <th>relative_to</th>\n",
       "      <th>value</th>\n",
       "    </tr>\n",
       "  </thead>\n",
       "  <tbody>\n",
       "    <tr>\n",
       "      <th>1</th>\n",
       "      <td>2020</td>\n",
       "      <td>female</td>\n",
       "      <td>birth_weight_mean</td>\n",
       "      <td>21</td>\n",
       "      <td>covered</td>\n",
       "      <td>iron_folic_acid_fortification_scale_up</td>\n",
       "      <td>baseline</td>\n",
       "      <td>4.547474e-13</td>\n",
       "    </tr>\n",
       "    <tr>\n",
       "      <th>4</th>\n",
       "      <td>2020</td>\n",
       "      <td>female</td>\n",
       "      <td>birth_weight_mean</td>\n",
       "      <td>21</td>\n",
       "      <td>uncovered</td>\n",
       "      <td>iron_folic_acid_fortification_scale_up</td>\n",
       "      <td>baseline</td>\n",
       "      <td>9.094947e-13</td>\n",
       "    </tr>\n",
       "    <tr>\n",
       "      <th>7</th>\n",
       "      <td>2020</td>\n",
       "      <td>female</td>\n",
       "      <td>birth_weight_mean</td>\n",
       "      <td>29</td>\n",
       "      <td>covered</td>\n",
       "      <td>iron_folic_acid_fortification_scale_up</td>\n",
       "      <td>baseline</td>\n",
       "      <td>0.000000e+00</td>\n",
       "    </tr>\n",
       "    <tr>\n",
       "      <th>10</th>\n",
       "      <td>2020</td>\n",
       "      <td>female</td>\n",
       "      <td>birth_weight_mean</td>\n",
       "      <td>29</td>\n",
       "      <td>uncovered</td>\n",
       "      <td>iron_folic_acid_fortification_scale_up</td>\n",
       "      <td>baseline</td>\n",
       "      <td>0.000000e+00</td>\n",
       "    </tr>\n",
       "    <tr>\n",
       "      <th>13</th>\n",
       "      <td>2020</td>\n",
       "      <td>female</td>\n",
       "      <td>birth_weight_mean</td>\n",
       "      <td>55</td>\n",
       "      <td>covered</td>\n",
       "      <td>iron_folic_acid_fortification_scale_up</td>\n",
       "      <td>baseline</td>\n",
       "      <td>4.547474e-13</td>\n",
       "    </tr>\n",
       "  </tbody>\n",
       "</table>\n",
       "</div>"
      ],
      "text/plain": [
       "    year     sex            measure  input_draw iron_fortification_group  \\\n",
       "1   2020  female  birth_weight_mean          21                  covered   \n",
       "4   2020  female  birth_weight_mean          21                uncovered   \n",
       "7   2020  female  birth_weight_mean          29                  covered   \n",
       "10  2020  female  birth_weight_mean          29                uncovered   \n",
       "13  2020  female  birth_weight_mean          55                  covered   \n",
       "\n",
       "                                  scenario relative_to         value  \n",
       "1   iron_folic_acid_fortification_scale_up    baseline  4.547474e-13  \n",
       "4   iron_folic_acid_fortification_scale_up    baseline  9.094947e-13  \n",
       "7   iron_folic_acid_fortification_scale_up    baseline  0.000000e+00  \n",
       "10  iron_folic_acid_fortification_scale_up    baseline  0.000000e+00  \n",
       "13  iron_folic_acid_fortification_scale_up    baseline  4.547474e-13  "
      ]
     },
     "execution_count": 23,
     "metadata": {},
     "output_type": "execute_result"
    }
   ],
   "source": [
    "bw_diff.query('scenario==\"iron_folic_acid_fortification_scale_up\"').head()"
   ]
  },
  {
   "cell_type": "markdown",
   "metadata": {},
   "source": [
    "### Aggregate over coverage groups with a simple mean rather than weighted average\n",
    "\n",
    "Since we can't do the correct weighted average, let's do a simple approximation by computing the unweighted mean of the `covered` and `uncovered` groups.\n",
    "\n",
    "This still has a lot of negative values, which doesn't seem right."
   ]
  },
  {
   "cell_type": "code",
   "execution_count": 24,
   "metadata": {},
   "outputs": [
    {
     "data": {
      "text/plain": [
       "<matplotlib.axes._subplots.AxesSubplot at 0x2b996e14bcf8>"
      ]
     },
     "execution_count": 24,
     "metadata": {},
     "output_type": "execute_result"
    },
    {
     "data": {
      "image/png": "[encoded data removed]",
      "text/plain": [
       "<Figure size 432x288 with 1 Axes>"
      ]
     },
     "metadata": {
      "needs_background": "light"
     },
     "output_type": "display_data"
    }
   ],
   "source": [
    "bw_diff_iron = bw_diff.query('scenario==\"iron_folic_acid_fortification_scale_up\"')\n",
    "index_cols = bw_diff_iron.columns.difference(['iron_fortification_group', 'value'])\n",
    "bw_diff_iron = bw_diff_iron.groupby(index_cols.to_list()).value.mean()\n",
    "bw_diff_iron.hist()"
   ]
  },
  {
   "cell_type": "code",
   "execution_count": 25,
   "metadata": {},
   "outputs": [
    {
     "data": {
      "text/plain": [
       "0.009040709315761432"
      ]
     },
     "execution_count": 25,
     "metadata": {},
     "output_type": "execute_result"
    }
   ],
   "source": [
    "bw_diff_iron.mean()"
   ]
  },
  {
   "cell_type": "markdown",
   "metadata": {},
   "source": [
    "### Plot histogram of mean differences from baseline for all other scenarios\n",
    "\n",
    "These are all essentially 0, which is what we expect."
   ]
  },
  {
   "cell_type": "code",
   "execution_count": 26,
   "metadata": {},
   "outputs": [
    {
     "data": {
      "text/plain": [
       "<matplotlib.axes._subplots.AxesSubplot at 0x2b996e1d6cc0>"
      ]
     },
     "execution_count": 26,
     "metadata": {},
     "output_type": "execute_result"
    },
    {
     "data": {
      "image/png": "[encoded data removed]",
      "text/plain": [
       "<Figure size 432x288 with 1 Axes>"
      ]
     },
     "metadata": {
      "needs_background": "light"
     },
     "output_type": "display_data"
    }
   ],
   "source": [
    "bw_diff.query('scenario != \"iron_folic_acid_fortification_scale_up\"').value.hist()"
   ]
  },
  {
   "cell_type": "code",
   "execution_count": 27,
   "metadata": {},
   "outputs": [
    {
     "data": {
      "text/plain": [
       "-6.252776074688882e-15"
      ]
     },
     "execution_count": 27,
     "metadata": {},
     "output_type": "execute_result"
    }
   ],
   "source": [
    "bw_diff.query('scenario != \"iron_folic_acid_fortification_scale_up\"').value.mean()"
   ]
  },
  {
   "cell_type": "code",
   "execution_count": 28,
   "metadata": {},
   "outputs": [
    {
     "data": {
      "text/plain": [
       "array(['baseline', 'folic_acid_fortification_scale_up',\n",
       "       'iron_folic_acid_fortification_scale_up',\n",
       "       'vitamin_a_fortification_scale_up'], dtype=object)"
      ]
     },
     "execution_count": 28,
     "metadata": {},
     "output_type": "execute_result"
    }
   ],
   "source": [
    "bw_mean.scenario.unique()"
   ]
  },
  {
   "cell_type": "markdown",
   "metadata": {},
   "source": [
    "# 3. Identify and fix error in `averted` function\n",
    "\n",
    "When I first ran the above code to calculate birthweight differences, I got an error in my `averted` function. The error has now been fixed by using `df[['value']]` instead of `df['value']` to subtract DataFrames instead of series. The remainder of the notebook demonstrates what the original problem was and shows that the fix works on some small example dataframes.\n",
    "\n",
    "## The following function demonstrates the error I found in my `averted` function\n",
    "\n",
    "The function calculates the difference in mean birthweights between the covered and uncovered groups, using the same method as in my more general `averted` function in `lsff_output_processing.py`. It lines up the values in all the columns except `'value'` and `'iron_fortification_group'` and subtracts the uncovered means from covered means. The intention is to record both values of `'iron_fortification_group'` (i.e. covered and uncovered), in different columns, to record what got subtracted from what. However, after the subtraction, the `'iron_fortification_group'` column is missing from the index, so I can't record it."
   ]
  },
  {
   "cell_type": "code",
   "execution_count": 29,
   "metadata": {},
   "outputs": [
    {
     "name": "stdout",
     "output_type": "stream",
     "text": [
      "['location', 'year', 'sex', 'measure', 'input_draw', 'scenario']\n"
     ]
    }
   ],
   "source": [
    "def calculate_bw_effect_size(birthweight_df, scenario):\n",
    "    \n",
    "#     covered_mean = birthweight_df.query('iron_fortification_group==\"covered\"')\n",
    "#     uncovered_mean = birthweight_df.query('iron_fortification_group==\"uncovered\"')\n",
    "    splitting_column = 'iron_fortification_group'\n",
    "    largest_value = 'covered'\n",
    "    birthweight_df = birthweight_df.query('measure==\"birth_weight_mean\"')\n",
    "    covered_mean = birthweight_df[birthweight_df[splitting_column] == largest_value]\n",
    "    uncovered_mean = birthweight_df[birthweight_df[splitting_column] != largest_value]\n",
    "    \n",
    "    index_columns = sorted(set(covered_mean.columns) - set([splitting_column, 'value']),\n",
    "                           key=covered_mean.columns.get_loc)\n",
    "    print(index_columns)\n",
    "    \n",
    "    covered_mean = covered_mean.set_index(index_columns)\n",
    "    uncovered_mean = uncovered_mean.set_index(index_columns + [splitting_column])\n",
    "    \n",
    "    effect_size = covered_mean['value'] - uncovered_mean['value']\n",
    "    \n",
    "    return covered_mean, uncovered_mean, effect_size\n",
    "\n",
    "c,u,e = calculate_bw_effect_size(all_data['birth_weight'].query('measure==\"birth_weight_mean\"'), scenario)"
   ]
  },
  {
   "cell_type": "markdown",
   "metadata": {},
   "source": [
    "### Here's the `covered` dataframe (the minuend)\n",
    "\n",
    "It does not contain `iron_fortification_group` in the index, because I don't want to *match* the value of this column when subtracting, but rather *broadcast* over all values of `iron_fortification_group` in the subtrahend (in this case it so happens that there is only one such value, `'uncovred'`, so no actual broadcasting will happen)."
   ]
  },
  {
   "cell_type": "code",
   "execution_count": 30,
   "metadata": {},
   "outputs": [
    {
     "data": {
      "text/html": [
       "<div>\n",
       "<style scoped>\n",
       "    .dataframe tbody tr th:only-of-type {\n",
       "        vertical-align: middle;\n",
       "    }\n",
       "\n",
       "    .dataframe tbody tr th {\n",
       "        vertical-align: top;\n",
       "    }\n",
       "\n",
       "    .dataframe thead th {\n",
       "        text-align: right;\n",
       "    }\n",
       "</style>\n",
       "<table border=\"1\" class=\"dataframe\">\n",
       "  <thead>\n",
       "    <tr style=\"text-align: right;\">\n",
       "      <th></th>\n",
       "      <th></th>\n",
       "      <th></th>\n",
       "      <th></th>\n",
       "      <th></th>\n",
       "      <th></th>\n",
       "      <th>value</th>\n",
       "      <th>iron_fortification_group</th>\n",
       "    </tr>\n",
       "    <tr>\n",
       "      <th>location</th>\n",
       "      <th>year</th>\n",
       "      <th>sex</th>\n",
       "      <th>measure</th>\n",
       "      <th>input_draw</th>\n",
       "      <th>scenario</th>\n",
       "      <th></th>\n",
       "      <th></th>\n",
       "    </tr>\n",
       "  </thead>\n",
       "  <tbody>\n",
       "    <tr>\n",
       "      <th rowspan=\"5\" valign=\"top\">India</th>\n",
       "      <th rowspan=\"5\" valign=\"top\">2020</th>\n",
       "      <th rowspan=\"5\" valign=\"top\">female</th>\n",
       "      <th rowspan=\"5\" valign=\"top\">birth_weight_mean</th>\n",
       "      <th rowspan=\"4\" valign=\"top\">21</th>\n",
       "      <th>baseline</th>\n",
       "      <td>2897.547480</td>\n",
       "      <td>covered</td>\n",
       "    </tr>\n",
       "    <tr>\n",
       "      <th>folic_acid_fortification_scale_up</th>\n",
       "      <td>2897.547480</td>\n",
       "      <td>covered</td>\n",
       "    </tr>\n",
       "    <tr>\n",
       "      <th>iron_folic_acid_fortification_scale_up</th>\n",
       "      <td>2897.547480</td>\n",
       "      <td>covered</td>\n",
       "    </tr>\n",
       "    <tr>\n",
       "      <th>vitamin_a_fortification_scale_up</th>\n",
       "      <td>2897.547480</td>\n",
       "      <td>covered</td>\n",
       "    </tr>\n",
       "    <tr>\n",
       "      <th>29</th>\n",
       "      <th>baseline</th>\n",
       "      <td>2922.724278</td>\n",
       "      <td>covered</td>\n",
       "    </tr>\n",
       "  </tbody>\n",
       "</table>\n",
       "</div>"
      ],
      "text/plain": [
       "                                                                                                value  \\\n",
       "location year sex    measure           input_draw scenario                                              \n",
       "India    2020 female birth_weight_mean 21         baseline                                2897.547480   \n",
       "                                                  folic_acid_fortification_scale_up       2897.547480   \n",
       "                                                  iron_folic_acid_fortification_scale_up  2897.547480   \n",
       "                                                  vitamin_a_fortification_scale_up        2897.547480   \n",
       "                                       29         baseline                                2922.724278   \n",
       "\n",
       "                                                                                         iron_fortification_group  \n",
       "location year sex    measure           input_draw scenario                                                         \n",
       "India    2020 female birth_weight_mean 21         baseline                                                covered  \n",
       "                                                  folic_acid_fortification_scale_up                       covered  \n",
       "                                                  iron_folic_acid_fortification_scale_up                  covered  \n",
       "                                                  vitamin_a_fortification_scale_up                        covered  \n",
       "                                       29         baseline                                                covered  "
      ]
     },
     "execution_count": 30,
     "metadata": {},
     "output_type": "execute_result"
    }
   ],
   "source": [
    "c.head()"
   ]
  },
  {
   "cell_type": "markdown",
   "metadata": {},
   "source": [
    "### Here's the `uncovered` dataframe (the subtrahend)\n",
    "\n",
    "This dataframe **does** contain `iron_fortification_group` in the index, because I want to record the vaue of `iron_fortification_group` describing the mean that gets subtracted in each row."
   ]
  },
  {
   "cell_type": "code",
   "execution_count": 31,
   "metadata": {},
   "outputs": [
    {
     "data": {
      "text/html": [
       "<div>\n",
       "<style scoped>\n",
       "    .dataframe tbody tr th:only-of-type {\n",
       "        vertical-align: middle;\n",
       "    }\n",
       "\n",
       "    .dataframe tbody tr th {\n",
       "        vertical-align: top;\n",
       "    }\n",
       "\n",
       "    .dataframe thead th {\n",
       "        text-align: right;\n",
       "    }\n",
       "</style>\n",
       "<table border=\"1\" class=\"dataframe\">\n",
       "  <thead>\n",
       "    <tr style=\"text-align: right;\">\n",
       "      <th></th>\n",
       "      <th></th>\n",
       "      <th></th>\n",
       "      <th></th>\n",
       "      <th></th>\n",
       "      <th></th>\n",
       "      <th></th>\n",
       "      <th>value</th>\n",
       "    </tr>\n",
       "    <tr>\n",
       "      <th>location</th>\n",
       "      <th>year</th>\n",
       "      <th>sex</th>\n",
       "      <th>measure</th>\n",
       "      <th>input_draw</th>\n",
       "      <th>scenario</th>\n",
       "      <th>iron_fortification_group</th>\n",
       "      <th></th>\n",
       "    </tr>\n",
       "  </thead>\n",
       "  <tbody>\n",
       "    <tr>\n",
       "      <th rowspan=\"5\" valign=\"top\">India</th>\n",
       "      <th rowspan=\"5\" valign=\"top\">2020</th>\n",
       "      <th rowspan=\"5\" valign=\"top\">female</th>\n",
       "      <th rowspan=\"5\" valign=\"top\">birth_weight_mean</th>\n",
       "      <th rowspan=\"4\" valign=\"top\">21</th>\n",
       "      <th>baseline</th>\n",
       "      <th>uncovered</th>\n",
       "      <td>2912.186341</td>\n",
       "    </tr>\n",
       "    <tr>\n",
       "      <th>folic_acid_fortification_scale_up</th>\n",
       "      <th>uncovered</th>\n",
       "      <td>2912.186341</td>\n",
       "    </tr>\n",
       "    <tr>\n",
       "      <th>iron_folic_acid_fortification_scale_up</th>\n",
       "      <th>uncovered</th>\n",
       "      <td>2912.186341</td>\n",
       "    </tr>\n",
       "    <tr>\n",
       "      <th>vitamin_a_fortification_scale_up</th>\n",
       "      <th>uncovered</th>\n",
       "      <td>2912.186341</td>\n",
       "    </tr>\n",
       "    <tr>\n",
       "      <th>29</th>\n",
       "      <th>baseline</th>\n",
       "      <th>uncovered</th>\n",
       "      <td>2903.992955</td>\n",
       "    </tr>\n",
       "  </tbody>\n",
       "</table>\n",
       "</div>"
      ],
      "text/plain": [
       "                                                                                                                         value\n",
       "location year sex    measure           input_draw scenario                               iron_fortification_group             \n",
       "India    2020 female birth_weight_mean 21         baseline                               uncovered                 2912.186341\n",
       "                                                  folic_acid_fortification_scale_up      uncovered                 2912.186341\n",
       "                                                  iron_folic_acid_fortification_scale_up uncovered                 2912.186341\n",
       "                                                  vitamin_a_fortification_scale_up       uncovered                 2912.186341\n",
       "                                       29         baseline                               uncovered                 2903.992955"
      ]
     },
     "execution_count": 31,
     "metadata": {},
     "output_type": "execute_result"
    }
   ],
   "source": [
    "u.head()"
   ]
  },
  {
   "cell_type": "markdown",
   "metadata": {},
   "source": [
    "### Here's the `effect_size` dataframe (the difference `covered - uncovered`)\n",
    "\n",
    "This Series is **missing** the `iron_fortification_group` in the index, even though it was included in the index of `uncovered`. This missing index level threw an error in my `averted` function when I tried to access it.\n",
    "\n",
    "Below, I replicate the behavior for smaller dataframes. It looks like the problem is that if the index column is not used either for matching the index of the other dataframe or for broadcasting, then it is dropped from the index of the series when subtracting. **However**, if we do the same subtraction with DataFrame objects instead of Series (by using `[['value']]` instead of `['value']`), then the column is kept. I added this change to my `averted` function to fix the bug."
   ]
  },
  {
   "cell_type": "code",
   "execution_count": 32,
   "metadata": {},
   "outputs": [
    {
     "data": {
      "text/plain": [
       "location  year  sex     measure            input_draw  scenario                              \n",
       "India     2020  female  birth_weight_mean  21          baseline                                 -14.638860\n",
       "                                                       folic_acid_fortification_scale_up        -14.638860\n",
       "                                                       iron_folic_acid_fortification_scale_up   -14.638860\n",
       "                                                       vitamin_a_fortification_scale_up         -14.638860\n",
       "                                           29          baseline                                  18.731323\n",
       "Name: value, dtype: float64"
      ]
     },
     "execution_count": 32,
     "metadata": {},
     "output_type": "execute_result"
    }
   ],
   "source": [
    "e.head()"
   ]
  },
  {
   "cell_type": "code",
   "execution_count": 33,
   "metadata": {},
   "outputs": [
    {
     "data": {
      "text/plain": [
       "(2400, 2)"
      ]
     },
     "execution_count": 33,
     "metadata": {},
     "output_type": "execute_result"
    }
   ],
   "source": [
    "c.shape"
   ]
  },
  {
   "cell_type": "code",
   "execution_count": 34,
   "metadata": {},
   "outputs": [
    {
     "data": {
      "text/plain": [
       "(2400, 1)"
      ]
     },
     "execution_count": 34,
     "metadata": {},
     "output_type": "execute_result"
    }
   ],
   "source": [
    "u.shape"
   ]
  },
  {
   "cell_type": "code",
   "execution_count": 35,
   "metadata": {},
   "outputs": [
    {
     "data": {
      "text/plain": [
       "(2400,)"
      ]
     },
     "execution_count": 35,
     "metadata": {},
     "output_type": "execute_result"
    }
   ],
   "source": [
    "e.shape"
   ]
  },
  {
   "cell_type": "code",
   "execution_count": 36,
   "metadata": {},
   "outputs": [
    {
     "data": {
      "text/plain": [
       "25"
      ]
     },
     "execution_count": 36,
     "metadata": {},
     "output_type": "execute_result"
    }
   ],
   "source": [
    "bw_mean.input_draw.nunique()"
   ]
  },
  {
   "cell_type": "code",
   "execution_count": 37,
   "metadata": {},
   "outputs": [
    {
     "data": {
      "text/plain": [
       "2400"
      ]
     },
     "execution_count": 37,
     "metadata": {},
     "output_type": "execute_result"
    }
   ],
   "source": [
    "3*4*2*1*25*4"
   ]
  },
  {
   "cell_type": "code",
   "execution_count": 38,
   "metadata": {},
   "outputs": [
    {
     "data": {
      "text/plain": [
       "array(['uncovered', 'covered'], dtype=object)"
      ]
     },
     "execution_count": 38,
     "metadata": {},
     "output_type": "execute_result"
    }
   ],
   "source": [
    "bw_mean = all_data['birth_weight'].query('measure==\"birth_weight_mean\"')\n",
    "bw_mean.iron_fortification_group.unique()"
   ]
  },
  {
   "cell_type": "code",
   "execution_count": 39,
   "metadata": {},
   "outputs": [
    {
     "data": {
      "text/plain": [
       "(1200, 8)"
      ]
     },
     "execution_count": 39,
     "metadata": {},
     "output_type": "execute_result"
    }
   ],
   "source": [
    "bw_diff.shape"
   ]
  },
  {
   "cell_type": "markdown",
   "metadata": {},
   "source": [
    "# 4. Feature or bug?\n",
    "\n",
    "Demonstrate the strange behavior in `pandas` that led to the bug in my `averted` function.\n",
    "\n",
    "## I think I found the problem - Series and DataFrames have different behavior...\n",
    "\n",
    "Define some simple dataframes. `d` will be the \"value\" column, and `a`, `b`, and `c` will be \"index\" columns."
   ]
  },
  {
   "cell_type": "code",
   "execution_count": 40,
   "metadata": {},
   "outputs": [
    {
     "data": {
      "text/html": [
       "<div>\n",
       "<style scoped>\n",
       "    .dataframe tbody tr th:only-of-type {\n",
       "        vertical-align: middle;\n",
       "    }\n",
       "\n",
       "    .dataframe tbody tr th {\n",
       "        vertical-align: top;\n",
       "    }\n",
       "\n",
       "    .dataframe thead th {\n",
       "        text-align: right;\n",
       "    }\n",
       "</style>\n",
       "<table border=\"1\" class=\"dataframe\">\n",
       "  <thead>\n",
       "    <tr style=\"text-align: right;\">\n",
       "      <th></th>\n",
       "      <th>a</th>\n",
       "      <th>b</th>\n",
       "      <th>c</th>\n",
       "      <th>d</th>\n",
       "    </tr>\n",
       "  </thead>\n",
       "  <tbody>\n",
       "    <tr>\n",
       "      <th>0</th>\n",
       "      <td>1</td>\n",
       "      <td>3</td>\n",
       "      <td>5</td>\n",
       "      <td>2</td>\n",
       "    </tr>\n",
       "    <tr>\n",
       "      <th>1</th>\n",
       "      <td>2</td>\n",
       "      <td>3</td>\n",
       "      <td>5</td>\n",
       "      <td>3</td>\n",
       "    </tr>\n",
       "    <tr>\n",
       "      <th>2</th>\n",
       "      <td>1</td>\n",
       "      <td>4</td>\n",
       "      <td>5</td>\n",
       "      <td>56</td>\n",
       "    </tr>\n",
       "    <tr>\n",
       "      <th>3</th>\n",
       "      <td>2</td>\n",
       "      <td>4</td>\n",
       "      <td>5</td>\n",
       "      <td>4</td>\n",
       "    </tr>\n",
       "    <tr>\n",
       "      <th>0</th>\n",
       "      <td>1</td>\n",
       "      <td>3</td>\n",
       "      <td>6</td>\n",
       "      <td>1</td>\n",
       "    </tr>\n",
       "    <tr>\n",
       "      <th>1</th>\n",
       "      <td>2</td>\n",
       "      <td>3</td>\n",
       "      <td>6</td>\n",
       "      <td>2</td>\n",
       "    </tr>\n",
       "    <tr>\n",
       "      <th>2</th>\n",
       "      <td>1</td>\n",
       "      <td>4</td>\n",
       "      <td>6</td>\n",
       "      <td>3</td>\n",
       "    </tr>\n",
       "    <tr>\n",
       "      <th>3</th>\n",
       "      <td>2</td>\n",
       "      <td>4</td>\n",
       "      <td>6</td>\n",
       "      <td>4</td>\n",
       "    </tr>\n",
       "  </tbody>\n",
       "</table>\n",
       "</div>"
      ],
      "text/plain": [
       "   a  b  c   d\n",
       "0  1  3  5   2\n",
       "1  2  3  5   3\n",
       "2  1  4  5  56\n",
       "3  2  4  5   4\n",
       "0  1  3  6   1\n",
       "1  2  3  6   2\n",
       "2  1  4  6   3\n",
       "3  2  4  6   4"
      ]
     },
     "execution_count": 40,
     "metadata": {},
     "output_type": "execute_result"
    }
   ],
   "source": [
    "df1 = pd.DataFrame({'a':[1,2,1,2], 'b':[3,3,4,4], 'c':[5,5,5,5], 'd':[2,3,56,4]})\n",
    "df2 = df1.assign(c=[6,6,6,6], d=[1,2,3,4])\n",
    "df3 = pd.concat([df1, df2])\n",
    "df3"
   ]
  },
  {
   "cell_type": "code",
   "execution_count": 41,
   "metadata": {},
   "outputs": [
    {
     "data": {
      "text/html": [
       "<div>\n",
       "<style scoped>\n",
       "    .dataframe tbody tr th:only-of-type {\n",
       "        vertical-align: middle;\n",
       "    }\n",
       "\n",
       "    .dataframe tbody tr th {\n",
       "        vertical-align: top;\n",
       "    }\n",
       "\n",
       "    .dataframe thead th {\n",
       "        text-align: right;\n",
       "    }\n",
       "</style>\n",
       "<table border=\"1\" class=\"dataframe\">\n",
       "  <thead>\n",
       "    <tr style=\"text-align: right;\">\n",
       "      <th></th>\n",
       "      <th>a</th>\n",
       "      <th>b</th>\n",
       "      <th>c</th>\n",
       "      <th>d</th>\n",
       "    </tr>\n",
       "  </thead>\n",
       "  <tbody>\n",
       "    <tr>\n",
       "      <th>0</th>\n",
       "      <td>1</td>\n",
       "      <td>3</td>\n",
       "      <td>5</td>\n",
       "      <td>2</td>\n",
       "    </tr>\n",
       "    <tr>\n",
       "      <th>1</th>\n",
       "      <td>2</td>\n",
       "      <td>3</td>\n",
       "      <td>5</td>\n",
       "      <td>3</td>\n",
       "    </tr>\n",
       "    <tr>\n",
       "      <th>2</th>\n",
       "      <td>1</td>\n",
       "      <td>4</td>\n",
       "      <td>5</td>\n",
       "      <td>56</td>\n",
       "    </tr>\n",
       "    <tr>\n",
       "      <th>3</th>\n",
       "      <td>2</td>\n",
       "      <td>4</td>\n",
       "      <td>5</td>\n",
       "      <td>4</td>\n",
       "    </tr>\n",
       "  </tbody>\n",
       "</table>\n",
       "</div>"
      ],
      "text/plain": [
       "   a  b  c   d\n",
       "0  1  3  5   2\n",
       "1  2  3  5   3\n",
       "2  1  4  5  56\n",
       "3  2  4  5   4"
      ]
     },
     "execution_count": 41,
     "metadata": {},
     "output_type": "execute_result"
    }
   ],
   "source": [
    "df1"
   ]
  },
  {
   "cell_type": "code",
   "execution_count": 42,
   "metadata": {},
   "outputs": [
    {
     "data": {
      "text/html": [
       "<div>\n",
       "<style scoped>\n",
       "    .dataframe tbody tr th:only-of-type {\n",
       "        vertical-align: middle;\n",
       "    }\n",
       "\n",
       "    .dataframe tbody tr th {\n",
       "        vertical-align: top;\n",
       "    }\n",
       "\n",
       "    .dataframe thead th {\n",
       "        text-align: right;\n",
       "    }\n",
       "</style>\n",
       "<table border=\"1\" class=\"dataframe\">\n",
       "  <thead>\n",
       "    <tr style=\"text-align: right;\">\n",
       "      <th></th>\n",
       "      <th>a</th>\n",
       "      <th>b</th>\n",
       "      <th>c</th>\n",
       "      <th>d</th>\n",
       "    </tr>\n",
       "  </thead>\n",
       "  <tbody>\n",
       "    <tr>\n",
       "      <th>0</th>\n",
       "      <td>1</td>\n",
       "      <td>3</td>\n",
       "      <td>6</td>\n",
       "      <td>1</td>\n",
       "    </tr>\n",
       "    <tr>\n",
       "      <th>1</th>\n",
       "      <td>2</td>\n",
       "      <td>3</td>\n",
       "      <td>6</td>\n",
       "      <td>2</td>\n",
       "    </tr>\n",
       "    <tr>\n",
       "      <th>2</th>\n",
       "      <td>1</td>\n",
       "      <td>4</td>\n",
       "      <td>6</td>\n",
       "      <td>3</td>\n",
       "    </tr>\n",
       "    <tr>\n",
       "      <th>3</th>\n",
       "      <td>2</td>\n",
       "      <td>4</td>\n",
       "      <td>6</td>\n",
       "      <td>4</td>\n",
       "    </tr>\n",
       "  </tbody>\n",
       "</table>\n",
       "</div>"
      ],
      "text/plain": [
       "   a  b  c  d\n",
       "0  1  3  6  1\n",
       "1  2  3  6  2\n",
       "2  1  4  6  3\n",
       "3  2  4  6  4"
      ]
     },
     "execution_count": 42,
     "metadata": {},
     "output_type": "execute_result"
    }
   ],
   "source": [
    "df2"
   ]
  },
  {
   "cell_type": "code",
   "execution_count": 43,
   "metadata": {},
   "outputs": [
    {
     "data": {
      "text/html": [
       "<div>\n",
       "<style scoped>\n",
       "    .dataframe tbody tr th:only-of-type {\n",
       "        vertical-align: middle;\n",
       "    }\n",
       "\n",
       "    .dataframe tbody tr th {\n",
       "        vertical-align: top;\n",
       "    }\n",
       "\n",
       "    .dataframe thead th {\n",
       "        text-align: right;\n",
       "    }\n",
       "</style>\n",
       "<table border=\"1\" class=\"dataframe\">\n",
       "  <thead>\n",
       "    <tr style=\"text-align: right;\">\n",
       "      <th></th>\n",
       "      <th></th>\n",
       "      <th></th>\n",
       "      <th>c</th>\n",
       "      <th>d</th>\n",
       "    </tr>\n",
       "    <tr>\n",
       "      <th>a</th>\n",
       "      <th>b</th>\n",
       "      <th>c</th>\n",
       "      <th></th>\n",
       "      <th></th>\n",
       "    </tr>\n",
       "  </thead>\n",
       "  <tbody>\n",
       "    <tr>\n",
       "      <th>1</th>\n",
       "      <th>3</th>\n",
       "      <th>6</th>\n",
       "      <td>NaN</td>\n",
       "      <td>3</td>\n",
       "    </tr>\n",
       "    <tr>\n",
       "      <th>2</th>\n",
       "      <th>3</th>\n",
       "      <th>6</th>\n",
       "      <td>NaN</td>\n",
       "      <td>5</td>\n",
       "    </tr>\n",
       "    <tr>\n",
       "      <th>1</th>\n",
       "      <th>4</th>\n",
       "      <th>6</th>\n",
       "      <td>NaN</td>\n",
       "      <td>59</td>\n",
       "    </tr>\n",
       "    <tr>\n",
       "      <th>2</th>\n",
       "      <th>4</th>\n",
       "      <th>6</th>\n",
       "      <td>NaN</td>\n",
       "      <td>8</td>\n",
       "    </tr>\n",
       "  </tbody>\n",
       "</table>\n",
       "</div>"
      ],
      "text/plain": [
       "        c   d\n",
       "a b c        \n",
       "1 3 6 NaN   3\n",
       "2 3 6 NaN   5\n",
       "1 4 6 NaN  59\n",
       "2 4 6 NaN   8"
      ]
     },
     "execution_count": 43,
     "metadata": {},
     "output_type": "execute_result"
    }
   ],
   "source": [
    "# This demonstrates the expected behavior of adding df1['d']+df2['d'],\n",
    "# matching on 'a' and 'b' columns and recording the value of 'c' for the subtrahend in the index,\n",
    "# except that there's an extraneous 'c' column in the dataframe because I didn't subset to 'd' only.\n",
    "df1.set_index(['a','b']) + df3.set_index(['a','b','c']).query('c==6')"
   ]
  },
  {
   "cell_type": "markdown",
   "metadata": {},
   "source": [
    "## Define functions to add `df1` to `df2`\n",
    "\n",
    "The functions match the values of the a and b columns, and use the c column as an identifier. The first function adds Series objects, whereas the second function adds DataFrame objects. The below code shows that Series and DataFrames behave differently: Series will drop the `c` column from the index if it is not needed for broadcasting, but DataFrames will keep it.\n",
    "\n",
    "Is this a feature of pandas or a bug?"
   ]
  },
  {
   "cell_type": "code",
   "execution_count": 44,
   "metadata": {},
   "outputs": [],
   "source": [
    "def add_as_series(df1, df2):\n",
    "    return df1.set_index(['a','b'])['d'] + df2.set_index(['a','b','c'])['d']\n",
    "\n",
    "def add_as_dataframes(df1, df2):\n",
    "    return df1.set_index(['a','b'])[['d']] + df2.set_index(['a','b','c'])[['d']]"
   ]
  },
  {
   "cell_type": "code",
   "execution_count": 45,
   "metadata": {},
   "outputs": [
    {
     "data": {
      "text/plain": [
       "a  b\n",
       "1  3     3\n",
       "2  3     5\n",
       "1  4    59\n",
       "2  4     8\n",
       "Name: d, dtype: int64"
      ]
     },
     "execution_count": 45,
     "metadata": {},
     "output_type": "execute_result"
    }
   ],
   "source": [
    "# The c column is missing from the index.\n",
    "# This was the surprising behavior in my `averted` function.\n",
    "# Is this the intended behavior, or is it a bug in pandas?\n",
    "add_as_series(df1, df2)"
   ]
  },
  {
   "cell_type": "code",
   "execution_count": 46,
   "metadata": {},
   "outputs": [
    {
     "data": {
      "text/plain": [
       "a  b  c\n",
       "1  3  5      4\n",
       "      6      3\n",
       "   4  5    112\n",
       "      6     59\n",
       "2  3  5      6\n",
       "      6      5\n",
       "   4  5      8\n",
       "      6      8\n",
       "Name: d, dtype: int64"
      ]
     },
     "execution_count": 46,
     "metadata": {},
     "output_type": "execute_result"
    }
   ],
   "source": [
    "# Now the c column *is* included in the index because it was needed for broadcasting\n",
    "add_as_series(df1, df3)"
   ]
  },
  {
   "cell_type": "code",
   "execution_count": 47,
   "metadata": {},
   "outputs": [
    {
     "data": {
      "text/html": [
       "<div>\n",
       "<style scoped>\n",
       "    .dataframe tbody tr th:only-of-type {\n",
       "        vertical-align: middle;\n",
       "    }\n",
       "\n",
       "    .dataframe tbody tr th {\n",
       "        vertical-align: top;\n",
       "    }\n",
       "\n",
       "    .dataframe thead th {\n",
       "        text-align: right;\n",
       "    }\n",
       "</style>\n",
       "<table border=\"1\" class=\"dataframe\">\n",
       "  <thead>\n",
       "    <tr style=\"text-align: right;\">\n",
       "      <th></th>\n",
       "      <th></th>\n",
       "      <th></th>\n",
       "      <th>d</th>\n",
       "    </tr>\n",
       "    <tr>\n",
       "      <th>a</th>\n",
       "      <th>b</th>\n",
       "      <th>c</th>\n",
       "      <th></th>\n",
       "    </tr>\n",
       "  </thead>\n",
       "  <tbody>\n",
       "    <tr>\n",
       "      <th>1</th>\n",
       "      <th>3</th>\n",
       "      <th>6</th>\n",
       "      <td>3</td>\n",
       "    </tr>\n",
       "    <tr>\n",
       "      <th>2</th>\n",
       "      <th>3</th>\n",
       "      <th>6</th>\n",
       "      <td>5</td>\n",
       "    </tr>\n",
       "    <tr>\n",
       "      <th>1</th>\n",
       "      <th>4</th>\n",
       "      <th>6</th>\n",
       "      <td>59</td>\n",
       "    </tr>\n",
       "    <tr>\n",
       "      <th>2</th>\n",
       "      <th>4</th>\n",
       "      <th>6</th>\n",
       "      <td>8</td>\n",
       "    </tr>\n",
       "  </tbody>\n",
       "</table>\n",
       "</div>"
      ],
      "text/plain": [
       "        d\n",
       "a b c    \n",
       "1 3 6   3\n",
       "2 3 6   5\n",
       "1 4 6  59\n",
       "2 4 6   8"
      ]
     },
     "execution_count": 47,
     "metadata": {},
     "output_type": "execute_result"
    }
   ],
   "source": [
    "# When adding as dataframes, the c column is included in the index,\n",
    "# even when the column only contains one value and hence broadcasting isn't necessary.\n",
    "# This is the behavior I expected in my `averted` function.\n",
    "add_as_dataframes(df1, df2)"
   ]
  },
  {
   "cell_type": "code",
   "execution_count": 48,
   "metadata": {},
   "outputs": [
    {
     "data": {
      "text/html": [
       "<div>\n",
       "<style scoped>\n",
       "    .dataframe tbody tr th:only-of-type {\n",
       "        vertical-align: middle;\n",
       "    }\n",
       "\n",
       "    .dataframe tbody tr th {\n",
       "        vertical-align: top;\n",
       "    }\n",
       "\n",
       "    .dataframe thead th {\n",
       "        text-align: right;\n",
       "    }\n",
       "</style>\n",
       "<table border=\"1\" class=\"dataframe\">\n",
       "  <thead>\n",
       "    <tr style=\"text-align: right;\">\n",
       "      <th></th>\n",
       "      <th></th>\n",
       "      <th></th>\n",
       "      <th>d</th>\n",
       "    </tr>\n",
       "    <tr>\n",
       "      <th>a</th>\n",
       "      <th>b</th>\n",
       "      <th>c</th>\n",
       "      <th></th>\n",
       "    </tr>\n",
       "  </thead>\n",
       "  <tbody>\n",
       "    <tr>\n",
       "      <th rowspan=\"4\" valign=\"top\">1</th>\n",
       "      <th rowspan=\"2\" valign=\"top\">3</th>\n",
       "      <th>5</th>\n",
       "      <td>4</td>\n",
       "    </tr>\n",
       "    <tr>\n",
       "      <th>6</th>\n",
       "      <td>3</td>\n",
       "    </tr>\n",
       "    <tr>\n",
       "      <th rowspan=\"2\" valign=\"top\">4</th>\n",
       "      <th>5</th>\n",
       "      <td>112</td>\n",
       "    </tr>\n",
       "    <tr>\n",
       "      <th>6</th>\n",
       "      <td>59</td>\n",
       "    </tr>\n",
       "    <tr>\n",
       "      <th rowspan=\"4\" valign=\"top\">2</th>\n",
       "      <th rowspan=\"2\" valign=\"top\">3</th>\n",
       "      <th>5</th>\n",
       "      <td>6</td>\n",
       "    </tr>\n",
       "    <tr>\n",
       "      <th>6</th>\n",
       "      <td>5</td>\n",
       "    </tr>\n",
       "    <tr>\n",
       "      <th rowspan=\"2\" valign=\"top\">4</th>\n",
       "      <th>5</th>\n",
       "      <td>8</td>\n",
       "    </tr>\n",
       "    <tr>\n",
       "      <th>6</th>\n",
       "      <td>8</td>\n",
       "    </tr>\n",
       "  </tbody>\n",
       "</table>\n",
       "</div>"
      ],
      "text/plain": [
       "         d\n",
       "a b c     \n",
       "1 3 5    4\n",
       "    6    3\n",
       "  4 5  112\n",
       "    6   59\n",
       "2 3 5    6\n",
       "    6    5\n",
       "  4 5    8\n",
       "    6    8"
      ]
     },
     "execution_count": 48,
     "metadata": {},
     "output_type": "execute_result"
    }
   ],
   "source": [
    "# Broadcast over c in df3 - same result with DataFrames as with Series addition above\n",
    "add_as_dataframes(df1, df3)"
   ]
  },
  {
   "cell_type": "code",
   "execution_count": 49,
   "metadata": {},
   "outputs": [
    {
     "data": {
      "text/html": [
       "<div>\n",
       "<style scoped>\n",
       "    .dataframe tbody tr th:only-of-type {\n",
       "        vertical-align: middle;\n",
       "    }\n",
       "\n",
       "    .dataframe tbody tr th {\n",
       "        vertical-align: top;\n",
       "    }\n",
       "\n",
       "    .dataframe thead th {\n",
       "        text-align: right;\n",
       "    }\n",
       "</style>\n",
       "<table border=\"1\" class=\"dataframe\">\n",
       "  <thead>\n",
       "    <tr style=\"text-align: right;\">\n",
       "      <th></th>\n",
       "      <th></th>\n",
       "      <th></th>\n",
       "      <th>d</th>\n",
       "    </tr>\n",
       "    <tr>\n",
       "      <th>a</th>\n",
       "      <th>b</th>\n",
       "      <th>c</th>\n",
       "      <th></th>\n",
       "    </tr>\n",
       "  </thead>\n",
       "  <tbody>\n",
       "    <tr>\n",
       "      <th>1</th>\n",
       "      <th>3</th>\n",
       "      <th>5</th>\n",
       "      <td>2</td>\n",
       "    </tr>\n",
       "    <tr>\n",
       "      <th>2</th>\n",
       "      <th>3</th>\n",
       "      <th>5</th>\n",
       "      <td>3</td>\n",
       "    </tr>\n",
       "    <tr>\n",
       "      <th>1</th>\n",
       "      <th>4</th>\n",
       "      <th>5</th>\n",
       "      <td>56</td>\n",
       "    </tr>\n",
       "    <tr>\n",
       "      <th>2</th>\n",
       "      <th>4</th>\n",
       "      <th>5</th>\n",
       "      <td>4</td>\n",
       "    </tr>\n",
       "    <tr>\n",
       "      <th>1</th>\n",
       "      <th>3</th>\n",
       "      <th>6</th>\n",
       "      <td>1</td>\n",
       "    </tr>\n",
       "    <tr>\n",
       "      <th>2</th>\n",
       "      <th>3</th>\n",
       "      <th>6</th>\n",
       "      <td>2</td>\n",
       "    </tr>\n",
       "    <tr>\n",
       "      <th>1</th>\n",
       "      <th>4</th>\n",
       "      <th>6</th>\n",
       "      <td>3</td>\n",
       "    </tr>\n",
       "    <tr>\n",
       "      <th>2</th>\n",
       "      <th>4</th>\n",
       "      <th>6</th>\n",
       "      <td>4</td>\n",
       "    </tr>\n",
       "  </tbody>\n",
       "</table>\n",
       "</div>"
      ],
      "text/plain": [
       "        d\n",
       "a b c    \n",
       "1 3 5   2\n",
       "2 3 5   3\n",
       "1 4 5  56\n",
       "2 4 5   4\n",
       "1 3 6   1\n",
       "2 3 6   2\n",
       "1 4 6   3\n",
       "2 4 6   4"
      ]
     },
     "execution_count": 49,
     "metadata": {},
     "output_type": "execute_result"
    }
   ],
   "source": [
    "# This results in a dataframe even though there's only one column\n",
    "df3.set_index(['a','b','c'])"
   ]
  },
  {
   "cell_type": "markdown",
   "metadata": {},
   "source": [
    "## Define similar functions as above, but only match on `a` column, and use `b` as identifier\n",
    "\n",
    "Strangely, when we only have one column in the index instead of two, both DataFrames *and* series appear to include the \"identifier\" column in all cases, in contrast to the above behavior where Series dropped this column.\n",
    "\n",
    "Is this a feature of pandas, or a bug?"
   ]
  },
  {
   "cell_type": "code",
   "execution_count": 50,
   "metadata": {},
   "outputs": [
    {
     "data": {
      "text/html": [
       "<div>\n",
       "<style scoped>\n",
       "    .dataframe tbody tr th:only-of-type {\n",
       "        vertical-align: middle;\n",
       "    }\n",
       "\n",
       "    .dataframe tbody tr th {\n",
       "        vertical-align: top;\n",
       "    }\n",
       "\n",
       "    .dataframe thead th {\n",
       "        text-align: right;\n",
       "    }\n",
       "</style>\n",
       "<table border=\"1\" class=\"dataframe\">\n",
       "  <thead>\n",
       "    <tr style=\"text-align: right;\">\n",
       "      <th></th>\n",
       "      <th>a</th>\n",
       "      <th>b</th>\n",
       "      <th>c</th>\n",
       "      <th>d</th>\n",
       "    </tr>\n",
       "  </thead>\n",
       "  <tbody>\n",
       "    <tr>\n",
       "      <th>0</th>\n",
       "      <td>1</td>\n",
       "      <td>3</td>\n",
       "      <td>5</td>\n",
       "      <td>2</td>\n",
       "    </tr>\n",
       "    <tr>\n",
       "      <th>1</th>\n",
       "      <td>2</td>\n",
       "      <td>3</td>\n",
       "      <td>5</td>\n",
       "      <td>3</td>\n",
       "    </tr>\n",
       "  </tbody>\n",
       "</table>\n",
       "</div>"
      ],
      "text/plain": [
       "   a  b  c  d\n",
       "0  1  3  5  2\n",
       "1  2  3  5  3"
      ]
     },
     "execution_count": 50,
     "metadata": {},
     "output_type": "execute_result"
    }
   ],
   "source": [
    "df1_sub = df1.query('b==3')\n",
    "df1_sub"
   ]
  },
  {
   "cell_type": "code",
   "execution_count": 51,
   "metadata": {},
   "outputs": [
    {
     "data": {
      "text/html": [
       "<div>\n",
       "<style scoped>\n",
       "    .dataframe tbody tr th:only-of-type {\n",
       "        vertical-align: middle;\n",
       "    }\n",
       "\n",
       "    .dataframe tbody tr th {\n",
       "        vertical-align: top;\n",
       "    }\n",
       "\n",
       "    .dataframe thead th {\n",
       "        text-align: right;\n",
       "    }\n",
       "</style>\n",
       "<table border=\"1\" class=\"dataframe\">\n",
       "  <thead>\n",
       "    <tr style=\"text-align: right;\">\n",
       "      <th></th>\n",
       "      <th>a</th>\n",
       "      <th>b</th>\n",
       "      <th>c</th>\n",
       "      <th>d</th>\n",
       "    </tr>\n",
       "  </thead>\n",
       "  <tbody>\n",
       "    <tr>\n",
       "      <th>2</th>\n",
       "      <td>1</td>\n",
       "      <td>4</td>\n",
       "      <td>6</td>\n",
       "      <td>3</td>\n",
       "    </tr>\n",
       "    <tr>\n",
       "      <th>3</th>\n",
       "      <td>2</td>\n",
       "      <td>4</td>\n",
       "      <td>6</td>\n",
       "      <td>4</td>\n",
       "    </tr>\n",
       "  </tbody>\n",
       "</table>\n",
       "</div>"
      ],
      "text/plain": [
       "   a  b  c  d\n",
       "2  1  4  6  3\n",
       "3  2  4  6  4"
      ]
     },
     "execution_count": 51,
     "metadata": {},
     "output_type": "execute_result"
    }
   ],
   "source": [
    "df2_sub = df2.query('b==4')\n",
    "df2_sub"
   ]
  },
  {
   "cell_type": "code",
   "execution_count": 52,
   "metadata": {},
   "outputs": [
    {
     "data": {
      "text/html": [
       "<div>\n",
       "<style scoped>\n",
       "    .dataframe tbody tr th:only-of-type {\n",
       "        vertical-align: middle;\n",
       "    }\n",
       "\n",
       "    .dataframe tbody tr th {\n",
       "        vertical-align: top;\n",
       "    }\n",
       "\n",
       "    .dataframe thead th {\n",
       "        text-align: right;\n",
       "    }\n",
       "</style>\n",
       "<table border=\"1\" class=\"dataframe\">\n",
       "  <thead>\n",
       "    <tr style=\"text-align: right;\">\n",
       "      <th></th>\n",
       "      <th>a</th>\n",
       "      <th>b</th>\n",
       "      <th>c</th>\n",
       "      <th>d</th>\n",
       "    </tr>\n",
       "  </thead>\n",
       "  <tbody>\n",
       "    <tr>\n",
       "      <th>0</th>\n",
       "      <td>1</td>\n",
       "      <td>3</td>\n",
       "      <td>6</td>\n",
       "      <td>1</td>\n",
       "    </tr>\n",
       "    <tr>\n",
       "      <th>1</th>\n",
       "      <td>2</td>\n",
       "      <td>3</td>\n",
       "      <td>6</td>\n",
       "      <td>2</td>\n",
       "    </tr>\n",
       "    <tr>\n",
       "      <th>2</th>\n",
       "      <td>1</td>\n",
       "      <td>4</td>\n",
       "      <td>6</td>\n",
       "      <td>3</td>\n",
       "    </tr>\n",
       "    <tr>\n",
       "      <th>3</th>\n",
       "      <td>2</td>\n",
       "      <td>4</td>\n",
       "      <td>6</td>\n",
       "      <td>4</td>\n",
       "    </tr>\n",
       "  </tbody>\n",
       "</table>\n",
       "</div>"
      ],
      "text/plain": [
       "   a  b  c  d\n",
       "0  1  3  6  1\n",
       "1  2  3  6  2\n",
       "2  1  4  6  3\n",
       "3  2  4  6  4"
      ]
     },
     "execution_count": 52,
     "metadata": {},
     "output_type": "execute_result"
    }
   ],
   "source": [
    "df2"
   ]
  },
  {
   "cell_type": "code",
   "execution_count": 53,
   "metadata": {},
   "outputs": [],
   "source": [
    "def add_as_series_simple_index(df1, df2):\n",
    "    return df1.set_index(['a'])['d'] + df2.set_index(['a','b'])['d']\n",
    "\n",
    "def add_as_dataframes_simple_index(df1, df2):\n",
    "    return df1.set_index(['a'])[['d']] + df2.set_index(['a','b'])[['d']]"
   ]
  },
  {
   "cell_type": "code",
   "execution_count": 54,
   "metadata": {},
   "outputs": [
    {
     "data": {
      "text/plain": [
       "a  b\n",
       "1  4    5\n",
       "2  4    7\n",
       "Name: d, dtype: int64"
      ]
     },
     "execution_count": 54,
     "metadata": {},
     "output_type": "execute_result"
    }
   ],
   "source": [
    "# Weird, now the 'b' column is included, even though this should be analogous to the\n",
    "# situation above where the 'c' column was excluded from the Series.\n",
    "# Feature, or bug?\n",
    "add_as_series_simple_index(df1_sub, df2_sub)"
   ]
  },
  {
   "cell_type": "code",
   "execution_count": 55,
   "metadata": {},
   "outputs": [
    {
     "data": {
      "text/plain": [
       "a  b\n",
       "1  3    3\n",
       "2  3    5\n",
       "1  4    5\n",
       "2  4    7\n",
       "Name: d, dtype: int64"
      ]
     },
     "execution_count": 55,
     "metadata": {},
     "output_type": "execute_result"
    }
   ],
   "source": [
    "# broadcast over b in df2\n",
    "add_as_series_simple_index(df1_sub, df2)"
   ]
  },
  {
   "cell_type": "code",
   "execution_count": 56,
   "metadata": {},
   "outputs": [
    {
     "data": {
      "text/html": [
       "<div>\n",
       "<style scoped>\n",
       "    .dataframe tbody tr th:only-of-type {\n",
       "        vertical-align: middle;\n",
       "    }\n",
       "\n",
       "    .dataframe tbody tr th {\n",
       "        vertical-align: top;\n",
       "    }\n",
       "\n",
       "    .dataframe thead th {\n",
       "        text-align: right;\n",
       "    }\n",
       "</style>\n",
       "<table border=\"1\" class=\"dataframe\">\n",
       "  <thead>\n",
       "    <tr style=\"text-align: right;\">\n",
       "      <th></th>\n",
       "      <th></th>\n",
       "      <th>d</th>\n",
       "    </tr>\n",
       "    <tr>\n",
       "      <th>a</th>\n",
       "      <th>b</th>\n",
       "      <th></th>\n",
       "    </tr>\n",
       "  </thead>\n",
       "  <tbody>\n",
       "    <tr>\n",
       "      <th>1</th>\n",
       "      <th>4</th>\n",
       "      <td>5</td>\n",
       "    </tr>\n",
       "    <tr>\n",
       "      <th>2</th>\n",
       "      <th>4</th>\n",
       "      <td>7</td>\n",
       "    </tr>\n",
       "  </tbody>\n",
       "</table>\n",
       "</div>"
      ],
      "text/plain": [
       "     d\n",
       "a b   \n",
       "1 4  5\n",
       "2 4  7"
      ]
     },
     "execution_count": 56,
     "metadata": {},
     "output_type": "execute_result"
    }
   ],
   "source": [
    "# no broadcasting necessary - same result as Series addition above\n",
    "add_as_dataframes_simple_index(df1_sub, df2_sub)"
   ]
  },
  {
   "cell_type": "code",
   "execution_count": 57,
   "metadata": {},
   "outputs": [
    {
     "data": {
      "text/html": [
       "<div>\n",
       "<style scoped>\n",
       "    .dataframe tbody tr th:only-of-type {\n",
       "        vertical-align: middle;\n",
       "    }\n",
       "\n",
       "    .dataframe tbody tr th {\n",
       "        vertical-align: top;\n",
       "    }\n",
       "\n",
       "    .dataframe thead th {\n",
       "        text-align: right;\n",
       "    }\n",
       "</style>\n",
       "<table border=\"1\" class=\"dataframe\">\n",
       "  <thead>\n",
       "    <tr style=\"text-align: right;\">\n",
       "      <th></th>\n",
       "      <th></th>\n",
       "      <th>d</th>\n",
       "    </tr>\n",
       "    <tr>\n",
       "      <th>a</th>\n",
       "      <th>b</th>\n",
       "      <th></th>\n",
       "    </tr>\n",
       "  </thead>\n",
       "  <tbody>\n",
       "    <tr>\n",
       "      <th>1</th>\n",
       "      <th>3</th>\n",
       "      <td>3</td>\n",
       "    </tr>\n",
       "    <tr>\n",
       "      <th>2</th>\n",
       "      <th>3</th>\n",
       "      <td>5</td>\n",
       "    </tr>\n",
       "    <tr>\n",
       "      <th>1</th>\n",
       "      <th>4</th>\n",
       "      <td>5</td>\n",
       "    </tr>\n",
       "    <tr>\n",
       "      <th>2</th>\n",
       "      <th>4</th>\n",
       "      <td>7</td>\n",
       "    </tr>\n",
       "  </tbody>\n",
       "</table>\n",
       "</div>"
      ],
      "text/plain": [
       "     d\n",
       "a b   \n",
       "1 3  3\n",
       "2 3  5\n",
       "1 4  5\n",
       "2 4  7"
      ]
     },
     "execution_count": 57,
     "metadata": {},
     "output_type": "execute_result"
    }
   ],
   "source": [
    "# broadcast over b in df2 - same result as Series addition above\n",
    "add_as_dataframes_simple_index(df1_sub, df2)"
   ]
  },
  {
   "cell_type": "code",
   "execution_count": null,
   "metadata": {},
   "outputs": [],
   "source": []
  }
 ],
 "metadata": {
  "kernelspec": {
   "display_name": "Python 3",
   "language": "python",
   "name": "python3"
  },
  "language_info": {
   "codemirror_mode": {
    "name": "ipython",
    "version": 3
   },
   "file_extension": ".py",
   "mimetype": "text/x-python",
   "name": "python",
   "nbconvert_exporter": "python",
   "pygments_lexer": "ipython3",
   "version": "3.6.10"
  }
 },
 "nbformat": 4,
 "nbformat_minor": 4
}
