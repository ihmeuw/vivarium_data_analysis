{
 "cells": [
  {
   "cell_type": "code",
   "execution_count": 1,
   "metadata": {},
   "outputs": [
    {
     "name": "stdout",
     "output_type": "stream",
     "text": [
      "ndbs\n",
      "Thu Mar 26 18:09:03 PDT 2020\n"
     ]
    }
   ],
   "source": [
    "import pandas as pd, numpy as np\n",
    "import lsff_output_processing as lop\n",
    "\n",
    "!whoami\n",
    "!date"
   ]
  },
  {
   "cell_type": "code",
   "execution_count": 2,
   "metadata": {},
   "outputs": [],
   "source": [
    "%load_ext autoreload\n",
    "%autoreload 2"
   ]
  },
  {
   "cell_type": "markdown",
   "metadata": {},
   "source": [
    "## Load all count space data tables and see what they are"
   ]
  },
  {
   "cell_type": "code",
   "execution_count": 3,
   "metadata": {},
   "outputs": [],
   "source": [
    "base_directory = '/share/costeffectiveness/results/vivarium_conic_lsff/v4.0_folic_acid_fortification'\n",
    "\n",
    "locations_rundates = {\n",
    "    'Ethiopia': '2020_03_18_23_04_26',\n",
    "    'India': '2020_03_18_23_04_36',\n",
    "    'Nigeria': '2020_03_18_23_04_42',\n",
    "}"
   ]
  },
  {
   "cell_type": "code",
   "execution_count": 4,
   "metadata": {},
   "outputs": [],
   "source": [
    "data = lop.load_all_transformed_count_data(base_directory, locations_rundates)"
   ]
  },
  {
   "cell_type": "code",
   "execution_count": 5,
   "metadata": {},
   "outputs": [
    {
     "data": {
      "text/plain": [
       "dict_keys([('ethiopia', 'gestational_age'), ('ethiopia', 'transition_count'), ('ethiopia', 'deaths'), ('ethiopia', 'state_person_time'), ('ethiopia', 'births_with_ntd'), ('ethiopia', 'population'), ('ethiopia', 'person_time'), ('ethiopia', 'ylls'), ('ethiopia', 'ylds'), ('ethiopia', 'births'), ('ethiopia', 'birth_weight'), ('india', 'gestational_age'), ('india', 'transition_count'), ('india', 'deaths'), ('india', 'state_person_time'), ('india', 'births_with_ntd'), ('india', 'population'), ('india', 'person_time'), ('india', 'ylls'), ('india', 'ylds'), ('india', 'births'), ('india', 'birth_weight'), ('nigeria', 'gestational_age'), ('nigeria', 'transition_count'), ('nigeria', 'deaths'), ('nigeria', 'state_person_time'), ('nigeria', 'births_with_ntd'), ('nigeria', 'population'), ('nigeria', 'person_time'), ('nigeria', 'ylls'), ('nigeria', 'ylds'), ('nigeria', 'births'), ('nigeria', 'birth_weight')])"
      ]
     },
     "execution_count": 5,
     "metadata": {},
     "output_type": "execute_result"
    }
   ],
   "source": [
    "data.keys()"
   ]
  },
  {
   "cell_type": "code",
   "execution_count": 9,
   "metadata": {},
   "outputs": [
    {
     "data": {
      "text/plain": [
       "[('ethiopia', 'gestational_age'),\n",
       " ('ethiopia', 'transition_count'),\n",
       " ('ethiopia', 'deaths'),\n",
       " ('ethiopia', 'state_person_time'),\n",
       " ('ethiopia', 'births_with_ntd'),\n",
       " ('ethiopia', 'population'),\n",
       " ('ethiopia', 'person_time'),\n",
       " ('ethiopia', 'ylls'),\n",
       " ('ethiopia', 'ylds'),\n",
       " ('ethiopia', 'births'),\n",
       " ('ethiopia', 'birth_weight')]"
      ]
     },
     "execution_count": 9,
     "metadata": {},
     "output_type": "execute_result"
    }
   ],
   "source": [
    "[k for k in data.keys() if k[0] == 'ethiopia']"
   ]
  },
  {
   "cell_type": "markdown",
   "metadata": {},
   "source": [
    "## See what some tables look like"
   ]
  },
  {
   "cell_type": "code",
   "execution_count": 6,
   "metadata": {},
   "outputs": [
    {
     "data": {
      "text/html": [
       "<div>\n",
       "<style scoped>\n",
       "    .dataframe tbody tr th:only-of-type {\n",
       "        vertical-align: middle;\n",
       "    }\n",
       "\n",
       "    .dataframe tbody tr th {\n",
       "        vertical-align: top;\n",
       "    }\n",
       "\n",
       "    .dataframe thead th {\n",
       "        text-align: right;\n",
       "    }\n",
       "</style>\n",
       "<table border=\"1\" class=\"dataframe\">\n",
       "  <thead>\n",
       "    <tr style=\"text-align: right;\">\n",
       "      <th></th>\n",
       "      <th>year</th>\n",
       "      <th>age_group</th>\n",
       "      <th>sex</th>\n",
       "      <th>fortification_group</th>\n",
       "      <th>measure</th>\n",
       "      <th>input_draw</th>\n",
       "      <th>scenario</th>\n",
       "      <th>value</th>\n",
       "    </tr>\n",
       "  </thead>\n",
       "  <tbody>\n",
       "    <tr>\n",
       "      <th>0</th>\n",
       "      <td>2020</td>\n",
       "      <td>1_to_4</td>\n",
       "      <td>female</td>\n",
       "      <td>false</td>\n",
       "      <td>person_time</td>\n",
       "      <td>21</td>\n",
       "      <td>baseline</td>\n",
       "      <td>0.0</td>\n",
       "    </tr>\n",
       "    <tr>\n",
       "      <th>1</th>\n",
       "      <td>2020</td>\n",
       "      <td>1_to_4</td>\n",
       "      <td>female</td>\n",
       "      <td>false</td>\n",
       "      <td>person_time</td>\n",
       "      <td>21</td>\n",
       "      <td>folic_acid_fortification_scale_up</td>\n",
       "      <td>0.0</td>\n",
       "    </tr>\n",
       "    <tr>\n",
       "      <th>2</th>\n",
       "      <td>2020</td>\n",
       "      <td>1_to_4</td>\n",
       "      <td>female</td>\n",
       "      <td>false</td>\n",
       "      <td>person_time</td>\n",
       "      <td>29</td>\n",
       "      <td>baseline</td>\n",
       "      <td>0.0</td>\n",
       "    </tr>\n",
       "    <tr>\n",
       "      <th>3</th>\n",
       "      <td>2020</td>\n",
       "      <td>1_to_4</td>\n",
       "      <td>female</td>\n",
       "      <td>false</td>\n",
       "      <td>person_time</td>\n",
       "      <td>29</td>\n",
       "      <td>folic_acid_fortification_scale_up</td>\n",
       "      <td>0.0</td>\n",
       "    </tr>\n",
       "    <tr>\n",
       "      <th>4</th>\n",
       "      <td>2020</td>\n",
       "      <td>1_to_4</td>\n",
       "      <td>female</td>\n",
       "      <td>false</td>\n",
       "      <td>person_time</td>\n",
       "      <td>55</td>\n",
       "      <td>baseline</td>\n",
       "      <td>0.0</td>\n",
       "    </tr>\n",
       "  </tbody>\n",
       "</table>\n",
       "</div>"
      ],
      "text/plain": [
       "   year age_group     sex fortification_group      measure  input_draw  \\\n",
       "0  2020    1_to_4  female               false  person_time          21   \n",
       "1  2020    1_to_4  female               false  person_time          21   \n",
       "2  2020    1_to_4  female               false  person_time          29   \n",
       "3  2020    1_to_4  female               false  person_time          29   \n",
       "4  2020    1_to_4  female               false  person_time          55   \n",
       "\n",
       "                            scenario  value  \n",
       "0                           baseline    0.0  \n",
       "1  folic_acid_fortification_scale_up    0.0  \n",
       "2                           baseline    0.0  \n",
       "3  folic_acid_fortification_scale_up    0.0  \n",
       "4                           baseline    0.0  "
      ]
     },
     "execution_count": 6,
     "metadata": {},
     "output_type": "execute_result"
    }
   ],
   "source": [
    "data[('ethiopia', 'person_time')].head()"
   ]
  },
  {
   "cell_type": "code",
   "execution_count": 20,
   "metadata": {},
   "outputs": [
    {
     "data": {
      "text/plain": [
       "array(['person_time'], dtype=object)"
      ]
     },
     "execution_count": 20,
     "metadata": {},
     "output_type": "execute_result"
    }
   ],
   "source": [
    "data[('ethiopia', 'person_time')].measure.unique()"
   ]
  },
  {
   "cell_type": "code",
   "execution_count": 7,
   "metadata": {},
   "outputs": [
    {
     "data": {
      "text/html": [
       "<div>\n",
       "<style scoped>\n",
       "    .dataframe tbody tr th:only-of-type {\n",
       "        vertical-align: middle;\n",
       "    }\n",
       "\n",
       "    .dataframe tbody tr th {\n",
       "        vertical-align: top;\n",
       "    }\n",
       "\n",
       "    .dataframe thead th {\n",
       "        text-align: right;\n",
       "    }\n",
       "</style>\n",
       "<table border=\"1\" class=\"dataframe\">\n",
       "  <thead>\n",
       "    <tr style=\"text-align: right;\">\n",
       "      <th></th>\n",
       "      <th>year</th>\n",
       "      <th>age_group</th>\n",
       "      <th>sex</th>\n",
       "      <th>cause</th>\n",
       "      <th>fortification_group</th>\n",
       "      <th>measure</th>\n",
       "      <th>input_draw</th>\n",
       "      <th>scenario</th>\n",
       "      <th>value</th>\n",
       "    </tr>\n",
       "  </thead>\n",
       "  <tbody>\n",
       "    <tr>\n",
       "      <th>0</th>\n",
       "      <td>2020</td>\n",
       "      <td>1_to_4</td>\n",
       "      <td>female</td>\n",
       "      <td>diarrheal_diseases</td>\n",
       "      <td>false</td>\n",
       "      <td>person_time</td>\n",
       "      <td>21</td>\n",
       "      <td>baseline</td>\n",
       "      <td>0.0</td>\n",
       "    </tr>\n",
       "    <tr>\n",
       "      <th>1</th>\n",
       "      <td>2020</td>\n",
       "      <td>1_to_4</td>\n",
       "      <td>female</td>\n",
       "      <td>diarrheal_diseases</td>\n",
       "      <td>false</td>\n",
       "      <td>person_time</td>\n",
       "      <td>21</td>\n",
       "      <td>folic_acid_fortification_scale_up</td>\n",
       "      <td>0.0</td>\n",
       "    </tr>\n",
       "    <tr>\n",
       "      <th>2</th>\n",
       "      <td>2020</td>\n",
       "      <td>1_to_4</td>\n",
       "      <td>female</td>\n",
       "      <td>diarrheal_diseases</td>\n",
       "      <td>false</td>\n",
       "      <td>person_time</td>\n",
       "      <td>29</td>\n",
       "      <td>baseline</td>\n",
       "      <td>0.0</td>\n",
       "    </tr>\n",
       "    <tr>\n",
       "      <th>3</th>\n",
       "      <td>2020</td>\n",
       "      <td>1_to_4</td>\n",
       "      <td>female</td>\n",
       "      <td>diarrheal_diseases</td>\n",
       "      <td>false</td>\n",
       "      <td>person_time</td>\n",
       "      <td>29</td>\n",
       "      <td>folic_acid_fortification_scale_up</td>\n",
       "      <td>0.0</td>\n",
       "    </tr>\n",
       "    <tr>\n",
       "      <th>4</th>\n",
       "      <td>2020</td>\n",
       "      <td>1_to_4</td>\n",
       "      <td>female</td>\n",
       "      <td>diarrheal_diseases</td>\n",
       "      <td>false</td>\n",
       "      <td>person_time</td>\n",
       "      <td>55</td>\n",
       "      <td>baseline</td>\n",
       "      <td>0.0</td>\n",
       "    </tr>\n",
       "  </tbody>\n",
       "</table>\n",
       "</div>"
      ],
      "text/plain": [
       "   year age_group     sex               cause fortification_group  \\\n",
       "0  2020    1_to_4  female  diarrheal_diseases               false   \n",
       "1  2020    1_to_4  female  diarrheal_diseases               false   \n",
       "2  2020    1_to_4  female  diarrheal_diseases               false   \n",
       "3  2020    1_to_4  female  diarrheal_diseases               false   \n",
       "4  2020    1_to_4  female  diarrheal_diseases               false   \n",
       "\n",
       "       measure  input_draw                           scenario  value  \n",
       "0  person_time          21                           baseline    0.0  \n",
       "1  person_time          21  folic_acid_fortification_scale_up    0.0  \n",
       "2  person_time          29                           baseline    0.0  \n",
       "3  person_time          29  folic_acid_fortification_scale_up    0.0  \n",
       "4  person_time          55                           baseline    0.0  "
      ]
     },
     "execution_count": 7,
     "metadata": {},
     "output_type": "execute_result"
    }
   ],
   "source": [
    "data[('ethiopia', 'state_person_time')].head()"
   ]
  },
  {
   "cell_type": "code",
   "execution_count": 21,
   "metadata": {},
   "outputs": [
    {
     "data": {
      "text/plain": [
       "array(['person_time'], dtype=object)"
      ]
     },
     "execution_count": 21,
     "metadata": {},
     "output_type": "execute_result"
    }
   ],
   "source": [
    "data[('ethiopia', 'state_person_time')].measure.unique()"
   ]
  },
  {
   "cell_type": "code",
   "execution_count": 8,
   "metadata": {},
   "outputs": [
    {
     "data": {
      "text/plain": [
       "array(['diarrheal_diseases', 'lower_respiratory_infections', 'measles',\n",
       "       'susceptible_to_diarrheal_diseases',\n",
       "       'susceptible_to_lower_respiratory_infections',\n",
       "       'susceptible_to_measles'], dtype=object)"
      ]
     },
     "execution_count": 8,
     "metadata": {},
     "output_type": "execute_result"
    }
   ],
   "source": [
    "data[('ethiopia', 'state_person_time')]['cause'].unique()"
   ]
  },
  {
   "cell_type": "code",
   "execution_count": 10,
   "metadata": {},
   "outputs": [
    {
     "data": {
      "text/html": [
       "<div>\n",
       "<style scoped>\n",
       "    .dataframe tbody tr th:only-of-type {\n",
       "        vertical-align: middle;\n",
       "    }\n",
       "\n",
       "    .dataframe tbody tr th {\n",
       "        vertical-align: top;\n",
       "    }\n",
       "\n",
       "    .dataframe thead th {\n",
       "        text-align: right;\n",
       "    }\n",
       "</style>\n",
       "<table border=\"1\" class=\"dataframe\">\n",
       "  <thead>\n",
       "    <tr style=\"text-align: right;\">\n",
       "      <th></th>\n",
       "      <th>year</th>\n",
       "      <th>age_group</th>\n",
       "      <th>sex</th>\n",
       "      <th>cause</th>\n",
       "      <th>fortification_group</th>\n",
       "      <th>measure</th>\n",
       "      <th>input_draw</th>\n",
       "      <th>scenario</th>\n",
       "      <th>value</th>\n",
       "    </tr>\n",
       "  </thead>\n",
       "  <tbody>\n",
       "    <tr>\n",
       "      <th>0</th>\n",
       "      <td>2020</td>\n",
       "      <td>1_to_4</td>\n",
       "      <td>female</td>\n",
       "      <td>diarrheal_diseases</td>\n",
       "      <td>false</td>\n",
       "      <td>ylds</td>\n",
       "      <td>21</td>\n",
       "      <td>baseline</td>\n",
       "      <td>0.0</td>\n",
       "    </tr>\n",
       "    <tr>\n",
       "      <th>1</th>\n",
       "      <td>2020</td>\n",
       "      <td>1_to_4</td>\n",
       "      <td>female</td>\n",
       "      <td>diarrheal_diseases</td>\n",
       "      <td>false</td>\n",
       "      <td>ylds</td>\n",
       "      <td>21</td>\n",
       "      <td>folic_acid_fortification_scale_up</td>\n",
       "      <td>0.0</td>\n",
       "    </tr>\n",
       "    <tr>\n",
       "      <th>2</th>\n",
       "      <td>2020</td>\n",
       "      <td>1_to_4</td>\n",
       "      <td>female</td>\n",
       "      <td>diarrheal_diseases</td>\n",
       "      <td>false</td>\n",
       "      <td>ylds</td>\n",
       "      <td>29</td>\n",
       "      <td>baseline</td>\n",
       "      <td>0.0</td>\n",
       "    </tr>\n",
       "    <tr>\n",
       "      <th>3</th>\n",
       "      <td>2020</td>\n",
       "      <td>1_to_4</td>\n",
       "      <td>female</td>\n",
       "      <td>diarrheal_diseases</td>\n",
       "      <td>false</td>\n",
       "      <td>ylds</td>\n",
       "      <td>29</td>\n",
       "      <td>folic_acid_fortification_scale_up</td>\n",
       "      <td>0.0</td>\n",
       "    </tr>\n",
       "    <tr>\n",
       "      <th>4</th>\n",
       "      <td>2020</td>\n",
       "      <td>1_to_4</td>\n",
       "      <td>female</td>\n",
       "      <td>diarrheal_diseases</td>\n",
       "      <td>false</td>\n",
       "      <td>ylds</td>\n",
       "      <td>55</td>\n",
       "      <td>baseline</td>\n",
       "      <td>0.0</td>\n",
       "    </tr>\n",
       "  </tbody>\n",
       "</table>\n",
       "</div>"
      ],
      "text/plain": [
       "   year age_group     sex               cause fortification_group measure  \\\n",
       "0  2020    1_to_4  female  diarrheal_diseases               false    ylds   \n",
       "1  2020    1_to_4  female  diarrheal_diseases               false    ylds   \n",
       "2  2020    1_to_4  female  diarrheal_diseases               false    ylds   \n",
       "3  2020    1_to_4  female  diarrheal_diseases               false    ylds   \n",
       "4  2020    1_to_4  female  diarrheal_diseases               false    ylds   \n",
       "\n",
       "   input_draw                           scenario  value  \n",
       "0          21                           baseline    0.0  \n",
       "1          21  folic_acid_fortification_scale_up    0.0  \n",
       "2          29                           baseline    0.0  \n",
       "3          29  folic_acid_fortification_scale_up    0.0  \n",
       "4          55                           baseline    0.0  "
      ]
     },
     "execution_count": 10,
     "metadata": {},
     "output_type": "execute_result"
    }
   ],
   "source": [
    "data[('ethiopia', 'ylds')].head()"
   ]
  },
  {
   "cell_type": "code",
   "execution_count": 11,
   "metadata": {},
   "outputs": [
    {
     "data": {
      "text/plain": [
       "array(['diarrheal_diseases', 'iron_deficiency',\n",
       "       'lower_respiratory_infections', 'measles', 'neural_tube_defects',\n",
       "       'vitamin_a_deficiency'], dtype=object)"
      ]
     },
     "execution_count": 11,
     "metadata": {},
     "output_type": "execute_result"
    }
   ],
   "source": [
    "data[('ethiopia', 'ylds')]['cause'].unique()"
   ]
  },
  {
   "cell_type": "code",
   "execution_count": 15,
   "metadata": {},
   "outputs": [
    {
     "data": {
      "text/plain": [
       "array([0.00000000e+00, 2.49106450e+02, 3.25143567e+02, ...,\n",
       "       5.47812127e-03, 1.05790782e+02, 2.75478832e+01])"
      ]
     },
     "execution_count": 15,
     "metadata": {},
     "output_type": "execute_result"
    }
   ],
   "source": [
    "data[('ethiopia', 'ylds')]['value'].unique()"
   ]
  },
  {
   "cell_type": "code",
   "execution_count": 29,
   "metadata": {},
   "outputs": [
    {
     "data": {
      "text/plain": [
       "array([0.])"
      ]
     },
     "execution_count": 29,
     "metadata": {},
     "output_type": "execute_result"
    }
   ],
   "source": [
    "data[('ethiopia', 'ylds')].query(\n",
    "    'year == \"2020\" and fortification_group == \"false\"'\n",
    "    + 'and age_group == \"1_to_4\" and cause == \"diarrheal_diseases\"'\n",
    ").value.unique()\n",
    "\n",
    "\n"
   ]
  },
  {
   "cell_type": "code",
   "execution_count": null,
   "metadata": {},
   "outputs": [],
   "source": []
  }
 ],
 "metadata": {
  "kernelspec": {
   "display_name": "Python 3",
   "language": "python",
   "name": "python3"
  },
  "language_info": {
   "codemirror_mode": {
    "name": "ipython",
    "version": 3
   },
   "file_extension": ".py",
   "mimetype": "text/x-python",
   "name": "python",
   "nbconvert_exporter": "python",
   "pygments_lexer": "ipython3",
   "version": "3.6.10"
  }
 },
 "nbformat": 4,
 "nbformat_minor": 4
}
