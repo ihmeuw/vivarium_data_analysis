{
 "cells": [
  {
   "cell_type": "code",
   "execution_count": 2,
   "metadata": {},
   "outputs": [
    {
     "name": "stdout",
     "output_type": "stream",
     "text": [
      "ndbs\n",
      "Mon Mar 30 13:18:49 PDT 2020\n"
     ]
    }
   ],
   "source": [
    "import pandas as pd, numpy as np\n",
    "import vivarium_output_loader as vol\n",
    "import lsff_output_processing as lop\n",
    "\n",
    "!whoami\n",
    "!date"
   ]
  },
  {
   "cell_type": "code",
   "execution_count": 3,
   "metadata": {},
   "outputs": [],
   "source": [
    "%load_ext autoreload\n",
    "%autoreload 2"
   ]
  },
  {
   "cell_type": "markdown",
   "metadata": {},
   "source": [
    "# Check the effect size (measured as a risk ratio) of folic acid fortification on NTDs\n",
    "\n",
    "## 1. Load all count space data tables and see what they are"
   ]
  },
  {
   "cell_type": "code",
   "execution_count": 4,
   "metadata": {},
   "outputs": [],
   "source": [
    "base_directory = '/share/costeffectiveness/results/vivarium_conic_lsff/v4.0_folic_acid_fortification'\n",
    "\n",
    "locations_rundates = {\n",
    "    'Ethiopia': '2020_03_18_23_04_26',\n",
    "    'India': '2020_03_18_23_04_36',\n",
    "    'Nigeria': '2020_03_18_23_04_42',\n",
    "}"
   ]
  },
  {
   "cell_type": "code",
   "execution_count": 5,
   "metadata": {},
   "outputs": [],
   "source": [
    "data = vol.load_all_transformed_count_data(base_directory, locations_rundates)"
   ]
  },
  {
   "cell_type": "code",
   "execution_count": 6,
   "metadata": {},
   "outputs": [
    {
     "data": {
      "text/plain": [
       "[('nigeria', 'gestational_age'),\n",
       " ('nigeria', 'transition_count'),\n",
       " ('nigeria', 'deaths'),\n",
       " ('nigeria', 'state_person_time'),\n",
       " ('nigeria', 'births_with_ntd'),\n",
       " ('nigeria', 'population'),\n",
       " ('nigeria', 'person_time'),\n",
       " ('nigeria', 'ylls'),\n",
       " ('nigeria', 'ylds'),\n",
       " ('nigeria', 'births'),\n",
       " ('nigeria', 'birth_weight')]"
      ]
     },
     "execution_count": 6,
     "metadata": {},
     "output_type": "execute_result"
    }
   ],
   "source": [
    "[k for k in data.keys() if k[0] == 'nigeria']"
   ]
  },
  {
   "cell_type": "markdown",
   "metadata": {},
   "source": [
    "## 2. Load NTD births and live births tables"
   ]
  },
  {
   "cell_type": "code",
   "execution_count": 7,
   "metadata": {},
   "outputs": [
    {
     "data": {
      "text/html": [
       "<div>\n",
       "<style scoped>\n",
       "    .dataframe tbody tr th:only-of-type {\n",
       "        vertical-align: middle;\n",
       "    }\n",
       "\n",
       "    .dataframe tbody tr th {\n",
       "        vertical-align: top;\n",
       "    }\n",
       "\n",
       "    .dataframe thead th {\n",
       "        text-align: right;\n",
       "    }\n",
       "</style>\n",
       "<table border=\"1\" class=\"dataframe\">\n",
       "  <thead>\n",
       "    <tr style=\"text-align: right;\">\n",
       "      <th></th>\n",
       "      <th>year</th>\n",
       "      <th>sex</th>\n",
       "      <th>fortification_group</th>\n",
       "      <th>measure</th>\n",
       "      <th>input_draw</th>\n",
       "      <th>scenario</th>\n",
       "      <th>value</th>\n",
       "    </tr>\n",
       "  </thead>\n",
       "  <tbody>\n",
       "    <tr>\n",
       "      <th>0</th>\n",
       "      <td>2020</td>\n",
       "      <td>female</td>\n",
       "      <td>false</td>\n",
       "      <td>live_births_with_ntds</td>\n",
       "      <td>21</td>\n",
       "      <td>baseline</td>\n",
       "      <td>44.0</td>\n",
       "    </tr>\n",
       "    <tr>\n",
       "      <th>1</th>\n",
       "      <td>2020</td>\n",
       "      <td>female</td>\n",
       "      <td>false</td>\n",
       "      <td>live_births_with_ntds</td>\n",
       "      <td>21</td>\n",
       "      <td>folic_acid_fortification_scale_up</td>\n",
       "      <td>35.0</td>\n",
       "    </tr>\n",
       "    <tr>\n",
       "      <th>2</th>\n",
       "      <td>2020</td>\n",
       "      <td>female</td>\n",
       "      <td>false</td>\n",
       "      <td>live_births_with_ntds</td>\n",
       "      <td>29</td>\n",
       "      <td>baseline</td>\n",
       "      <td>55.0</td>\n",
       "    </tr>\n",
       "    <tr>\n",
       "      <th>3</th>\n",
       "      <td>2020</td>\n",
       "      <td>female</td>\n",
       "      <td>false</td>\n",
       "      <td>live_births_with_ntds</td>\n",
       "      <td>29</td>\n",
       "      <td>folic_acid_fortification_scale_up</td>\n",
       "      <td>44.0</td>\n",
       "    </tr>\n",
       "    <tr>\n",
       "      <th>4</th>\n",
       "      <td>2020</td>\n",
       "      <td>female</td>\n",
       "      <td>false</td>\n",
       "      <td>live_births_with_ntds</td>\n",
       "      <td>55</td>\n",
       "      <td>baseline</td>\n",
       "      <td>60.0</td>\n",
       "    </tr>\n",
       "  </tbody>\n",
       "</table>\n",
       "</div>"
      ],
      "text/plain": [
       "   year     sex fortification_group                measure  input_draw  \\\n",
       "0  2020  female               false  live_births_with_ntds          21   \n",
       "1  2020  female               false  live_births_with_ntds          21   \n",
       "2  2020  female               false  live_births_with_ntds          29   \n",
       "3  2020  female               false  live_births_with_ntds          29   \n",
       "4  2020  female               false  live_births_with_ntds          55   \n",
       "\n",
       "                            scenario  value  \n",
       "0                           baseline   44.0  \n",
       "1  folic_acid_fortification_scale_up   35.0  \n",
       "2                           baseline   55.0  \n",
       "3  folic_acid_fortification_scale_up   44.0  \n",
       "4                           baseline   60.0  "
      ]
     },
     "execution_count": 7,
     "metadata": {},
     "output_type": "execute_result"
    }
   ],
   "source": [
    "ntd_births = data[('nigeria', 'births_with_ntd')]\n",
    "ntd_births.head()"
   ]
  },
  {
   "cell_type": "code",
   "execution_count": 8,
   "metadata": {},
   "outputs": [
    {
     "data": {
      "text/html": [
       "<div>\n",
       "<style scoped>\n",
       "    .dataframe tbody tr th:only-of-type {\n",
       "        vertical-align: middle;\n",
       "    }\n",
       "\n",
       "    .dataframe tbody tr th {\n",
       "        vertical-align: top;\n",
       "    }\n",
       "\n",
       "    .dataframe thead th {\n",
       "        text-align: right;\n",
       "    }\n",
       "</style>\n",
       "<table border=\"1\" class=\"dataframe\">\n",
       "  <thead>\n",
       "    <tr style=\"text-align: right;\">\n",
       "      <th></th>\n",
       "      <th>year</th>\n",
       "      <th>sex</th>\n",
       "      <th>fortification_group</th>\n",
       "      <th>measure</th>\n",
       "      <th>input_draw</th>\n",
       "      <th>scenario</th>\n",
       "      <th>value</th>\n",
       "    </tr>\n",
       "  </thead>\n",
       "  <tbody>\n",
       "    <tr>\n",
       "      <th>0</th>\n",
       "      <td>2020</td>\n",
       "      <td>female</td>\n",
       "      <td>false</td>\n",
       "      <td>live_births</td>\n",
       "      <td>21</td>\n",
       "      <td>baseline</td>\n",
       "      <td>20286.0</td>\n",
       "    </tr>\n",
       "    <tr>\n",
       "      <th>1</th>\n",
       "      <td>2020</td>\n",
       "      <td>female</td>\n",
       "      <td>false</td>\n",
       "      <td>live_births</td>\n",
       "      <td>21</td>\n",
       "      <td>folic_acid_fortification_scale_up</td>\n",
       "      <td>16490.0</td>\n",
       "    </tr>\n",
       "    <tr>\n",
       "      <th>2</th>\n",
       "      <td>2020</td>\n",
       "      <td>female</td>\n",
       "      <td>false</td>\n",
       "      <td>live_births</td>\n",
       "      <td>29</td>\n",
       "      <td>baseline</td>\n",
       "      <td>20252.0</td>\n",
       "    </tr>\n",
       "    <tr>\n",
       "      <th>3</th>\n",
       "      <td>2020</td>\n",
       "      <td>female</td>\n",
       "      <td>false</td>\n",
       "      <td>live_births</td>\n",
       "      <td>29</td>\n",
       "      <td>folic_acid_fortification_scale_up</td>\n",
       "      <td>16478.0</td>\n",
       "    </tr>\n",
       "    <tr>\n",
       "      <th>4</th>\n",
       "      <td>2020</td>\n",
       "      <td>female</td>\n",
       "      <td>false</td>\n",
       "      <td>live_births</td>\n",
       "      <td>55</td>\n",
       "      <td>baseline</td>\n",
       "      <td>20386.0</td>\n",
       "    </tr>\n",
       "  </tbody>\n",
       "</table>\n",
       "</div>"
      ],
      "text/plain": [
       "   year     sex fortification_group      measure  input_draw  \\\n",
       "0  2020  female               false  live_births          21   \n",
       "1  2020  female               false  live_births          21   \n",
       "2  2020  female               false  live_births          29   \n",
       "3  2020  female               false  live_births          29   \n",
       "4  2020  female               false  live_births          55   \n",
       "\n",
       "                            scenario    value  \n",
       "0                           baseline  20286.0  \n",
       "1  folic_acid_fortification_scale_up  16490.0  \n",
       "2                           baseline  20252.0  \n",
       "3  folic_acid_fortification_scale_up  16478.0  \n",
       "4                           baseline  20386.0  "
      ]
     },
     "execution_count": 8,
     "metadata": {},
     "output_type": "execute_result"
    }
   ],
   "source": [
    "live_births = data[('nigeria', 'births')]\n",
    "live_births.head()"
   ]
  },
  {
   "cell_type": "markdown",
   "metadata": {},
   "source": [
    "## 3. Compute conditional risk of NTDs in fortified and unfortified groups"
   ]
  },
  {
   "cell_type": "code",
   "execution_count": 9,
   "metadata": {},
   "outputs": [],
   "source": [
    "def conditional_risk_of_ntds(births_with_ntd, live_births, conditioned_on, multiplier=1):\n",
    "    \n",
    "    # Columns in both dataframes are:\n",
    "    # ['year', 'sex', 'fortification_group', 'measure', 'input_draw', 'scenario', 'value']\n",
    "    \n",
    "    # The index columns will NOT be aggregated over\n",
    "    index_columns = ['input_draw', 'scenario'] + conditioned_on\n",
    "    \n",
    "    # In both dataframes, group by the index columns, and aggregate\n",
    "    #'value' column over remaining columns by summing\n",
    "    births_with_ntd = births_with_ntd.groupby(index_columns).value.sum()\n",
    "    live_births = live_births.groupby(index_columns).value.sum()\n",
    "    \n",
    "    # Divide the two pandas Series to get birth prevalence\n",
    "    # in each subgroup we conditioned on.\n",
    "    # Multiply by the multiplier to get desired units (e.g. per 1000 live births)\n",
    "    ntd_risk = multiplier * births_with_ntd / live_births\n",
    "    \n",
    "    # Drop any rows where we divided by 0 because there were no births\n",
    "    ntd_risk.dropna(inplace=True)\n",
    "    \n",
    "    return ntd_risk.reset_index()\n",
    "\n",
    "# I'm not sure how to write a good general version of this function...\n",
    "# It would probably be better to compute this directly from the raw data, since\n",
    "# I think you need to match up the index columns with the conditioning correctly.\n",
    "def relative_risk_of_ntds(conditional_ntd_risk, numerator_query, denominator_query):\n",
    "    numerator = conditional_ntd_risk.query(numerator_query)"
   ]
  },
  {
   "cell_type": "code",
   "execution_count": 10,
   "metadata": {},
   "outputs": [
    {
     "data": {
      "text/html": [
       "<div>\n",
       "<style scoped>\n",
       "    .dataframe tbody tr th:only-of-type {\n",
       "        vertical-align: middle;\n",
       "    }\n",
       "\n",
       "    .dataframe tbody tr th {\n",
       "        vertical-align: top;\n",
       "    }\n",
       "\n",
       "    .dataframe thead th {\n",
       "        text-align: right;\n",
       "    }\n",
       "</style>\n",
       "<table border=\"1\" class=\"dataframe\">\n",
       "  <thead>\n",
       "    <tr style=\"text-align: right;\">\n",
       "      <th></th>\n",
       "      <th>input_draw</th>\n",
       "      <th>scenario</th>\n",
       "      <th>year</th>\n",
       "      <th>fortification_group</th>\n",
       "      <th>value</th>\n",
       "    </tr>\n",
       "  </thead>\n",
       "  <tbody>\n",
       "    <tr>\n",
       "      <th>0</th>\n",
       "      <td>21</td>\n",
       "      <td>baseline</td>\n",
       "      <td>2020</td>\n",
       "      <td>false</td>\n",
       "      <td>2.710093</td>\n",
       "    </tr>\n",
       "    <tr>\n",
       "      <th>1</th>\n",
       "      <td>21</td>\n",
       "      <td>baseline</td>\n",
       "      <td>2020</td>\n",
       "      <td>true</td>\n",
       "      <td>0.819001</td>\n",
       "    </tr>\n",
       "    <tr>\n",
       "      <th>2</th>\n",
       "      <td>21</td>\n",
       "      <td>baseline</td>\n",
       "      <td>2021</td>\n",
       "      <td>false</td>\n",
       "      <td>2.525741</td>\n",
       "    </tr>\n",
       "    <tr>\n",
       "      <th>3</th>\n",
       "      <td>21</td>\n",
       "      <td>baseline</td>\n",
       "      <td>2021</td>\n",
       "      <td>true</td>\n",
       "      <td>2.413839</td>\n",
       "    </tr>\n",
       "    <tr>\n",
       "      <th>4</th>\n",
       "      <td>21</td>\n",
       "      <td>baseline</td>\n",
       "      <td>2022</td>\n",
       "      <td>false</td>\n",
       "      <td>2.326418</td>\n",
       "    </tr>\n",
       "  </tbody>\n",
       "</table>\n",
       "</div>"
      ],
      "text/plain": [
       "   input_draw  scenario  year fortification_group     value\n",
       "0          21  baseline  2020               false  2.710093\n",
       "1          21  baseline  2020                true  0.819001\n",
       "2          21  baseline  2021               false  2.525741\n",
       "3          21  baseline  2021                true  2.413839\n",
       "4          21  baseline  2022               false  2.326418"
      ]
     },
     "execution_count": 10,
     "metadata": {},
     "output_type": "execute_result"
    }
   ],
   "source": [
    "conditioned_on = ['year', 'fortification_group']\n",
    "multiplier = 1000\n",
    "\n",
    "conditional_ntd_risk = conditional_risk_of_ntds(\n",
    "    ntd_births, live_births, conditioned_on, multiplier)\n",
    "conditional_ntd_risk.head()"
   ]
  },
  {
   "cell_type": "code",
   "execution_count": 11,
   "metadata": {},
   "outputs": [
    {
     "data": {
      "text/plain": [
       "(500, 5)"
      ]
     },
     "execution_count": 11,
     "metadata": {},
     "output_type": "execute_result"
    }
   ],
   "source": [
    "conditional_ntd_risk.shape"
   ]
  },
  {
   "cell_type": "markdown",
   "metadata": {},
   "source": [
    "## 3a. Test the function in the module\n",
    "\n",
    "Yes, looks like I copied it over correctly"
   ]
  },
  {
   "cell_type": "code",
   "execution_count": 13,
   "metadata": {},
   "outputs": [
    {
     "data": {
      "text/html": [
       "<div>\n",
       "<style scoped>\n",
       "    .dataframe tbody tr th:only-of-type {\n",
       "        vertical-align: middle;\n",
       "    }\n",
       "\n",
       "    .dataframe tbody tr th {\n",
       "        vertical-align: top;\n",
       "    }\n",
       "\n",
       "    .dataframe thead th {\n",
       "        text-align: right;\n",
       "    }\n",
       "</style>\n",
       "<table border=\"1\" class=\"dataframe\">\n",
       "  <thead>\n",
       "    <tr style=\"text-align: right;\">\n",
       "      <th></th>\n",
       "      <th>input_draw</th>\n",
       "      <th>scenario</th>\n",
       "      <th>year</th>\n",
       "      <th>fortification_group</th>\n",
       "      <th>value</th>\n",
       "    </tr>\n",
       "  </thead>\n",
       "  <tbody>\n",
       "    <tr>\n",
       "      <th>0</th>\n",
       "      <td>21</td>\n",
       "      <td>baseline</td>\n",
       "      <td>2020</td>\n",
       "      <td>false</td>\n",
       "      <td>2.710093</td>\n",
       "    </tr>\n",
       "    <tr>\n",
       "      <th>1</th>\n",
       "      <td>21</td>\n",
       "      <td>baseline</td>\n",
       "      <td>2020</td>\n",
       "      <td>true</td>\n",
       "      <td>0.819001</td>\n",
       "    </tr>\n",
       "    <tr>\n",
       "      <th>2</th>\n",
       "      <td>21</td>\n",
       "      <td>baseline</td>\n",
       "      <td>2021</td>\n",
       "      <td>false</td>\n",
       "      <td>2.525741</td>\n",
       "    </tr>\n",
       "    <tr>\n",
       "      <th>3</th>\n",
       "      <td>21</td>\n",
       "      <td>baseline</td>\n",
       "      <td>2021</td>\n",
       "      <td>true</td>\n",
       "      <td>2.413839</td>\n",
       "    </tr>\n",
       "    <tr>\n",
       "      <th>4</th>\n",
       "      <td>21</td>\n",
       "      <td>baseline</td>\n",
       "      <td>2022</td>\n",
       "      <td>false</td>\n",
       "      <td>2.326418</td>\n",
       "    </tr>\n",
       "  </tbody>\n",
       "</table>\n",
       "</div>"
      ],
      "text/plain": [
       "   input_draw  scenario  year fortification_group     value\n",
       "0          21  baseline  2020               false  2.710093\n",
       "1          21  baseline  2020                true  0.819001\n",
       "2          21  baseline  2021               false  2.525741\n",
       "3          21  baseline  2021                true  2.413839\n",
       "4          21  baseline  2022               false  2.326418"
      ]
     },
     "execution_count": 13,
     "metadata": {},
     "output_type": "execute_result"
    }
   ],
   "source": [
    "conditioned_on = ['year', 'fortification_group']\n",
    "multiplier = 1000\n",
    "\n",
    "conditional_ntd_risk2 = lop.conditional_risk_of_ntds(\n",
    "    ntd_births, live_births, conditioned_on, multiplier)\n",
    "\n",
    "conditional_ntd_risk2.head()"
   ]
  },
  {
   "cell_type": "code",
   "execution_count": 15,
   "metadata": {},
   "outputs": [
    {
     "data": {
      "text/plain": [
       "True"
      ]
     },
     "execution_count": 15,
     "metadata": {},
     "output_type": "execute_result"
    }
   ],
   "source": [
    "conditional_ntd_risk2.equals(conditional_ntd_risk)"
   ]
  },
  {
   "cell_type": "markdown",
   "metadata": {},
   "source": [
    "## 4. See what the conditional risks look like in the baseline scenario"
   ]
  },
  {
   "cell_type": "code",
   "execution_count": 16,
   "metadata": {},
   "outputs": [
    {
     "data": {
      "text/html": [
       "<div>\n",
       "<style scoped>\n",
       "    .dataframe tbody tr th:only-of-type {\n",
       "        vertical-align: middle;\n",
       "    }\n",
       "\n",
       "    .dataframe tbody tr th {\n",
       "        vertical-align: top;\n",
       "    }\n",
       "\n",
       "    .dataframe thead th {\n",
       "        text-align: right;\n",
       "    }\n",
       "</style>\n",
       "<table border=\"1\" class=\"dataframe\">\n",
       "  <thead>\n",
       "    <tr style=\"text-align: right;\">\n",
       "      <th></th>\n",
       "      <th></th>\n",
       "      <th>count</th>\n",
       "      <th>mean</th>\n",
       "      <th>std</th>\n",
       "      <th>min</th>\n",
       "      <th>2.5%</th>\n",
       "      <th>50%</th>\n",
       "      <th>97.5%</th>\n",
       "      <th>max</th>\n",
       "    </tr>\n",
       "    <tr>\n",
       "      <th>year</th>\n",
       "      <th>fortification_group</th>\n",
       "      <th></th>\n",
       "      <th></th>\n",
       "      <th></th>\n",
       "      <th></th>\n",
       "      <th></th>\n",
       "      <th></th>\n",
       "      <th></th>\n",
       "      <th></th>\n",
       "    </tr>\n",
       "  </thead>\n",
       "  <tbody>\n",
       "    <tr>\n",
       "      <th rowspan=\"2\" valign=\"top\">2020</th>\n",
       "      <th>false</th>\n",
       "      <td>25.0</td>\n",
       "      <td>2.679439</td>\n",
       "      <td>0.418728</td>\n",
       "      <td>1.932944</td>\n",
       "      <td>2.053354</td>\n",
       "      <td>2.617172</td>\n",
       "      <td>3.622014</td>\n",
       "      <td>3.674160</td>\n",
       "    </tr>\n",
       "    <tr>\n",
       "      <th>true</th>\n",
       "      <td>25.0</td>\n",
       "      <td>1.625869</td>\n",
       "      <td>0.825508</td>\n",
       "      <td>0.267237</td>\n",
       "      <td>0.535058</td>\n",
       "      <td>1.436782</td>\n",
       "      <td>3.239306</td>\n",
       "      <td>3.557814</td>\n",
       "    </tr>\n",
       "    <tr>\n",
       "      <th rowspan=\"2\" valign=\"top\">2021</th>\n",
       "      <th>false</th>\n",
       "      <td>25.0</td>\n",
       "      <td>2.639663</td>\n",
       "      <td>0.274397</td>\n",
       "      <td>1.934517</td>\n",
       "      <td>2.095934</td>\n",
       "      <td>2.618341</td>\n",
       "      <td>3.093227</td>\n",
       "      <td>3.283296</td>\n",
       "    </tr>\n",
       "    <tr>\n",
       "      <th>true</th>\n",
       "      <td>25.0</td>\n",
       "      <td>1.640869</td>\n",
       "      <td>0.428007</td>\n",
       "      <td>0.691946</td>\n",
       "      <td>0.959717</td>\n",
       "      <td>1.691638</td>\n",
       "      <td>2.482341</td>\n",
       "      <td>2.585093</td>\n",
       "    </tr>\n",
       "    <tr>\n",
       "      <th rowspan=\"2\" valign=\"top\">2022</th>\n",
       "      <th>false</th>\n",
       "      <td>25.0</td>\n",
       "      <td>2.634820</td>\n",
       "      <td>0.268929</td>\n",
       "      <td>2.226763</td>\n",
       "      <td>2.281330</td>\n",
       "      <td>2.622809</td>\n",
       "      <td>3.208310</td>\n",
       "      <td>3.231619</td>\n",
       "    </tr>\n",
       "    <tr>\n",
       "      <th>true</th>\n",
       "      <td>25.0</td>\n",
       "      <td>1.740682</td>\n",
       "      <td>0.472118</td>\n",
       "      <td>0.997009</td>\n",
       "      <td>1.010502</td>\n",
       "      <td>1.719057</td>\n",
       "      <td>2.473734</td>\n",
       "      <td>2.490823</td>\n",
       "    </tr>\n",
       "    <tr>\n",
       "      <th rowspan=\"2\" valign=\"top\">2023</th>\n",
       "      <th>false</th>\n",
       "      <td>25.0</td>\n",
       "      <td>2.677424</td>\n",
       "      <td>0.237874</td>\n",
       "      <td>2.341781</td>\n",
       "      <td>2.369799</td>\n",
       "      <td>2.634175</td>\n",
       "      <td>3.183101</td>\n",
       "      <td>3.270705</td>\n",
       "    </tr>\n",
       "    <tr>\n",
       "      <th>true</th>\n",
       "      <td>25.0</td>\n",
       "      <td>1.659422</td>\n",
       "      <td>0.577847</td>\n",
       "      <td>0.718047</td>\n",
       "      <td>0.861068</td>\n",
       "      <td>1.567965</td>\n",
       "      <td>2.583706</td>\n",
       "      <td>2.584350</td>\n",
       "    </tr>\n",
       "    <tr>\n",
       "      <th rowspan=\"2\" valign=\"top\">2024</th>\n",
       "      <th>false</th>\n",
       "      <td>25.0</td>\n",
       "      <td>2.624014</td>\n",
       "      <td>0.271749</td>\n",
       "      <td>2.215463</td>\n",
       "      <td>2.268329</td>\n",
       "      <td>2.552286</td>\n",
       "      <td>3.227151</td>\n",
       "      <td>3.424863</td>\n",
       "    </tr>\n",
       "    <tr>\n",
       "      <th>true</th>\n",
       "      <td>25.0</td>\n",
       "      <td>1.438869</td>\n",
       "      <td>0.360530</td>\n",
       "      <td>0.809935</td>\n",
       "      <td>0.831445</td>\n",
       "      <td>1.426737</td>\n",
       "      <td>2.077186</td>\n",
       "      <td>2.138752</td>\n",
       "    </tr>\n",
       "  </tbody>\n",
       "</table>\n",
       "</div>"
      ],
      "text/plain": [
       "                          count      mean       std       min      2.5%  \\\n",
       "year fortification_group                                                  \n",
       "2020 false                 25.0  2.679439  0.418728  1.932944  2.053354   \n",
       "     true                  25.0  1.625869  0.825508  0.267237  0.535058   \n",
       "2021 false                 25.0  2.639663  0.274397  1.934517  2.095934   \n",
       "     true                  25.0  1.640869  0.428007  0.691946  0.959717   \n",
       "2022 false                 25.0  2.634820  0.268929  2.226763  2.281330   \n",
       "     true                  25.0  1.740682  0.472118  0.997009  1.010502   \n",
       "2023 false                 25.0  2.677424  0.237874  2.341781  2.369799   \n",
       "     true                  25.0  1.659422  0.577847  0.718047  0.861068   \n",
       "2024 false                 25.0  2.624014  0.271749  2.215463  2.268329   \n",
       "     true                  25.0  1.438869  0.360530  0.809935  0.831445   \n",
       "\n",
       "                               50%     97.5%       max  \n",
       "year fortification_group                                \n",
       "2020 false                2.617172  3.622014  3.674160  \n",
       "     true                 1.436782  3.239306  3.557814  \n",
       "2021 false                2.618341  3.093227  3.283296  \n",
       "     true                 1.691638  2.482341  2.585093  \n",
       "2022 false                2.622809  3.208310  3.231619  \n",
       "     true                 1.719057  2.473734  2.490823  \n",
       "2023 false                2.634175  3.183101  3.270705  \n",
       "     true                 1.567965  2.583706  2.584350  \n",
       "2024 false                2.552286  3.227151  3.424863  \n",
       "     true                 1.426737  2.077186  2.138752  "
      ]
     },
     "execution_count": 16,
     "metadata": {},
     "output_type": "execute_result"
    }
   ],
   "source": [
    "conditional_ntd_risk.query('scenario == \"baseline\"').groupby(\n",
    "    conditioned_on).value.describe(percentiles=[0.025, 0.975])"
   ]
  },
  {
   "cell_type": "markdown",
   "metadata": {},
   "source": [
    "## 5. Use the conditional risks to compute the risk ratio of the unfortified group to the fortified group for each year"
   ]
  },
  {
   "cell_type": "code",
   "execution_count": 17,
   "metadata": {},
   "outputs": [
    {
     "data": {
      "text/html": [
       "<div>\n",
       "<style scoped>\n",
       "    .dataframe tbody tr th:only-of-type {\n",
       "        vertical-align: middle;\n",
       "    }\n",
       "\n",
       "    .dataframe tbody tr th {\n",
       "        vertical-align: top;\n",
       "    }\n",
       "\n",
       "    .dataframe thead th {\n",
       "        text-align: right;\n",
       "    }\n",
       "</style>\n",
       "<table border=\"1\" class=\"dataframe\">\n",
       "  <thead>\n",
       "    <tr style=\"text-align: right;\">\n",
       "      <th></th>\n",
       "      <th>input_draw</th>\n",
       "      <th>scenario</th>\n",
       "      <th>year</th>\n",
       "      <th>fortification_group</th>\n",
       "      <th>value</th>\n",
       "    </tr>\n",
       "  </thead>\n",
       "  <tbody>\n",
       "    <tr>\n",
       "      <th>0</th>\n",
       "      <td>21</td>\n",
       "      <td>baseline</td>\n",
       "      <td>2020</td>\n",
       "      <td>false</td>\n",
       "      <td>2.710093</td>\n",
       "    </tr>\n",
       "    <tr>\n",
       "      <th>1</th>\n",
       "      <td>21</td>\n",
       "      <td>baseline</td>\n",
       "      <td>2020</td>\n",
       "      <td>true</td>\n",
       "      <td>0.819001</td>\n",
       "    </tr>\n",
       "    <tr>\n",
       "      <th>2</th>\n",
       "      <td>21</td>\n",
       "      <td>baseline</td>\n",
       "      <td>2021</td>\n",
       "      <td>false</td>\n",
       "      <td>2.525741</td>\n",
       "    </tr>\n",
       "    <tr>\n",
       "      <th>3</th>\n",
       "      <td>21</td>\n",
       "      <td>baseline</td>\n",
       "      <td>2021</td>\n",
       "      <td>true</td>\n",
       "      <td>2.413839</td>\n",
       "    </tr>\n",
       "    <tr>\n",
       "      <th>4</th>\n",
       "      <td>21</td>\n",
       "      <td>baseline</td>\n",
       "      <td>2022</td>\n",
       "      <td>false</td>\n",
       "      <td>2.326418</td>\n",
       "    </tr>\n",
       "  </tbody>\n",
       "</table>\n",
       "</div>"
      ],
      "text/plain": [
       "   input_draw  scenario  year fortification_group     value\n",
       "0          21  baseline  2020               false  2.710093\n",
       "1          21  baseline  2020                true  0.819001\n",
       "2          21  baseline  2021               false  2.525741\n",
       "3          21  baseline  2021                true  2.413839\n",
       "4          21  baseline  2022               false  2.326418"
      ]
     },
     "execution_count": 17,
     "metadata": {},
     "output_type": "execute_result"
    }
   ],
   "source": [
    "conditional_ntd_risk.head()"
   ]
  },
  {
   "cell_type": "code",
   "execution_count": 18,
   "metadata": {},
   "outputs": [
    {
     "data": {
      "text/plain": [
       "array(['baseline', 'folic_acid_fortification_scale_up'], dtype=object)"
      ]
     },
     "execution_count": 18,
     "metadata": {},
     "output_type": "execute_result"
    }
   ],
   "source": [
    "conditional_ntd_risk.scenario.unique()"
   ]
  },
  {
   "cell_type": "code",
   "execution_count": 19,
   "metadata": {},
   "outputs": [
    {
     "data": {
      "text/html": [
       "<div>\n",
       "<style scoped>\n",
       "    .dataframe tbody tr th:only-of-type {\n",
       "        vertical-align: middle;\n",
       "    }\n",
       "\n",
       "    .dataframe tbody tr th {\n",
       "        vertical-align: top;\n",
       "    }\n",
       "\n",
       "    .dataframe thead th {\n",
       "        text-align: right;\n",
       "    }\n",
       "</style>\n",
       "<table border=\"1\" class=\"dataframe\">\n",
       "  <thead>\n",
       "    <tr style=\"text-align: right;\">\n",
       "      <th></th>\n",
       "      <th>year</th>\n",
       "      <th>input_draw</th>\n",
       "      <th>scenario</th>\n",
       "      <th>value</th>\n",
       "    </tr>\n",
       "  </thead>\n",
       "  <tbody>\n",
       "    <tr>\n",
       "      <th>0</th>\n",
       "      <td>2020</td>\n",
       "      <td>21</td>\n",
       "      <td>baseline</td>\n",
       "      <td>3.309023</td>\n",
       "    </tr>\n",
       "    <tr>\n",
       "      <th>1</th>\n",
       "      <td>2021</td>\n",
       "      <td>21</td>\n",
       "      <td>baseline</td>\n",
       "      <td>1.046358</td>\n",
       "    </tr>\n",
       "    <tr>\n",
       "      <th>2</th>\n",
       "      <td>2022</td>\n",
       "      <td>21</td>\n",
       "      <td>baseline</td>\n",
       "      <td>1.028824</td>\n",
       "    </tr>\n",
       "    <tr>\n",
       "      <th>3</th>\n",
       "      <td>2023</td>\n",
       "      <td>21</td>\n",
       "      <td>baseline</td>\n",
       "      <td>1.241010</td>\n",
       "    </tr>\n",
       "    <tr>\n",
       "      <th>4</th>\n",
       "      <td>2024</td>\n",
       "      <td>21</td>\n",
       "      <td>baseline</td>\n",
       "      <td>2.045658</td>\n",
       "    </tr>\n",
       "  </tbody>\n",
       "</table>\n",
       "</div>"
      ],
      "text/plain": [
       "   year  input_draw  scenario     value\n",
       "0  2020          21  baseline  3.309023\n",
       "1  2021          21  baseline  1.046358\n",
       "2  2022          21  baseline  1.028824\n",
       "3  2023          21  baseline  1.241010\n",
       "4  2024          21  baseline  2.045658"
      ]
     },
     "execution_count": 19,
     "metadata": {},
     "output_type": "execute_result"
    }
   ],
   "source": [
    "index_cols = ['year', 'input_draw', 'scenario']\n",
    "# scenario = 'folic_acid_fortification_scale_up'\n",
    "\n",
    "numerator = conditional_ntd_risk.query('fortification_group == \"false\"')\n",
    "denominator = conditional_ntd_risk.query('fortification_group == \"true\"')\n",
    "\n",
    "numerator = numerator.set_index(index_cols).value\n",
    "denominator = denominator.set_index(index_cols).value\n",
    "\n",
    "rr = numerator / denominator\n",
    "rr = rr.reset_index()\n",
    "rr.head()"
   ]
  },
  {
   "cell_type": "markdown",
   "metadata": {},
   "source": [
    "# 6. Check the computed risk ratios:\n",
    "\n",
    "### All the *medians* should all be close to 1.71 -- looks reasonable"
   ]
  },
  {
   "cell_type": "code",
   "execution_count": 20,
   "metadata": {},
   "outputs": [
    {
     "data": {
      "text/html": [
       "<div>\n",
       "<style scoped>\n",
       "    .dataframe tbody tr th:only-of-type {\n",
       "        vertical-align: middle;\n",
       "    }\n",
       "\n",
       "    .dataframe tbody tr th {\n",
       "        vertical-align: top;\n",
       "    }\n",
       "\n",
       "    .dataframe thead th {\n",
       "        text-align: right;\n",
       "    }\n",
       "</style>\n",
       "<table border=\"1\" class=\"dataframe\">\n",
       "  <thead>\n",
       "    <tr style=\"text-align: right;\">\n",
       "      <th></th>\n",
       "      <th></th>\n",
       "      <th>count</th>\n",
       "      <th>mean</th>\n",
       "      <th>std</th>\n",
       "      <th>min</th>\n",
       "      <th>2.5%</th>\n",
       "      <th>50%</th>\n",
       "      <th>97.5%</th>\n",
       "      <th>max</th>\n",
       "    </tr>\n",
       "    <tr>\n",
       "      <th>year</th>\n",
       "      <th>scenario</th>\n",
       "      <th></th>\n",
       "      <th></th>\n",
       "      <th></th>\n",
       "      <th></th>\n",
       "      <th></th>\n",
       "      <th></th>\n",
       "      <th></th>\n",
       "      <th></th>\n",
       "    </tr>\n",
       "  </thead>\n",
       "  <tbody>\n",
       "    <tr>\n",
       "      <th rowspan=\"2\" valign=\"top\">2020</th>\n",
       "      <th>baseline</th>\n",
       "      <td>25.0</td>\n",
       "      <td>2.252970</td>\n",
       "      <td>1.772892</td>\n",
       "      <td>0.659186</td>\n",
       "      <td>0.817351</td>\n",
       "      <td>1.898543</td>\n",
       "      <td>6.105179</td>\n",
       "      <td>9.681759</td>\n",
       "    </tr>\n",
       "    <tr>\n",
       "      <th>folic_acid_fortification_scale_up</th>\n",
       "      <td>25.0</td>\n",
       "      <td>1.878565</td>\n",
       "      <td>0.874925</td>\n",
       "      <td>1.056682</td>\n",
       "      <td>1.107890</td>\n",
       "      <td>1.639157</td>\n",
       "      <td>3.982885</td>\n",
       "      <td>5.358537</td>\n",
       "    </tr>\n",
       "    <tr>\n",
       "      <th rowspan=\"2\" valign=\"top\">2021</th>\n",
       "      <th>baseline</th>\n",
       "      <td>25.0</td>\n",
       "      <td>1.743620</td>\n",
       "      <td>0.613622</td>\n",
       "      <td>0.950200</td>\n",
       "      <td>0.960358</td>\n",
       "      <td>1.689782</td>\n",
       "      <td>3.254397</td>\n",
       "      <td>3.809154</td>\n",
       "    </tr>\n",
       "    <tr>\n",
       "      <th>folic_acid_fortification_scale_up</th>\n",
       "      <td>25.0</td>\n",
       "      <td>1.793471</td>\n",
       "      <td>0.378173</td>\n",
       "      <td>1.221099</td>\n",
       "      <td>1.242550</td>\n",
       "      <td>1.721222</td>\n",
       "      <td>2.580665</td>\n",
       "      <td>2.787608</td>\n",
       "    </tr>\n",
       "    <tr>\n",
       "      <th rowspan=\"2\" valign=\"top\">2022</th>\n",
       "      <th>baseline</th>\n",
       "      <td>25.0</td>\n",
       "      <td>1.637786</td>\n",
       "      <td>0.522246</td>\n",
       "      <td>0.982970</td>\n",
       "      <td>1.010483</td>\n",
       "      <td>1.590231</td>\n",
       "      <td>2.779427</td>\n",
       "      <td>2.981564</td>\n",
       "    </tr>\n",
       "    <tr>\n",
       "      <th>folic_acid_fortification_scale_up</th>\n",
       "      <td>25.0</td>\n",
       "      <td>1.629987</td>\n",
       "      <td>0.371770</td>\n",
       "      <td>1.100790</td>\n",
       "      <td>1.111189</td>\n",
       "      <td>1.527670</td>\n",
       "      <td>2.304019</td>\n",
       "      <td>2.313689</td>\n",
       "    </tr>\n",
       "    <tr>\n",
       "      <th rowspan=\"2\" valign=\"top\">2023</th>\n",
       "      <th>baseline</th>\n",
       "      <td>25.0</td>\n",
       "      <td>1.811697</td>\n",
       "      <td>0.661927</td>\n",
       "      <td>1.011476</td>\n",
       "      <td>1.057727</td>\n",
       "      <td>1.730006</td>\n",
       "      <td>3.213726</td>\n",
       "      <td>3.713823</td>\n",
       "    </tr>\n",
       "    <tr>\n",
       "      <th>folic_acid_fortification_scale_up</th>\n",
       "      <td>25.0</td>\n",
       "      <td>1.657036</td>\n",
       "      <td>0.342625</td>\n",
       "      <td>1.076682</td>\n",
       "      <td>1.157370</td>\n",
       "      <td>1.610126</td>\n",
       "      <td>2.362367</td>\n",
       "      <td>2.810660</td>\n",
       "    </tr>\n",
       "    <tr>\n",
       "      <th rowspan=\"2\" valign=\"top\">2024</th>\n",
       "      <th>baseline</th>\n",
       "      <td>25.0</td>\n",
       "      <td>1.942535</td>\n",
       "      <td>0.545916</td>\n",
       "      <td>1.200679</td>\n",
       "      <td>1.228655</td>\n",
       "      <td>1.773350</td>\n",
       "      <td>3.044771</td>\n",
       "      <td>3.109542</td>\n",
       "    </tr>\n",
       "    <tr>\n",
       "      <th>folic_acid_fortification_scale_up</th>\n",
       "      <td>25.0</td>\n",
       "      <td>1.853069</td>\n",
       "      <td>0.380362</td>\n",
       "      <td>1.144048</td>\n",
       "      <td>1.355131</td>\n",
       "      <td>1.796718</td>\n",
       "      <td>2.780462</td>\n",
       "      <td>2.808133</td>\n",
       "    </tr>\n",
       "  </tbody>\n",
       "</table>\n",
       "</div>"
      ],
      "text/plain": [
       "                                        count      mean       std       min  \\\n",
       "year scenario                                                                 \n",
       "2020 baseline                            25.0  2.252970  1.772892  0.659186   \n",
       "     folic_acid_fortification_scale_up   25.0  1.878565  0.874925  1.056682   \n",
       "2021 baseline                            25.0  1.743620  0.613622  0.950200   \n",
       "     folic_acid_fortification_scale_up   25.0  1.793471  0.378173  1.221099   \n",
       "2022 baseline                            25.0  1.637786  0.522246  0.982970   \n",
       "     folic_acid_fortification_scale_up   25.0  1.629987  0.371770  1.100790   \n",
       "2023 baseline                            25.0  1.811697  0.661927  1.011476   \n",
       "     folic_acid_fortification_scale_up   25.0  1.657036  0.342625  1.076682   \n",
       "2024 baseline                            25.0  1.942535  0.545916  1.200679   \n",
       "     folic_acid_fortification_scale_up   25.0  1.853069  0.380362  1.144048   \n",
       "\n",
       "                                            2.5%       50%     97.5%       max  \n",
       "year scenario                                                                   \n",
       "2020 baseline                           0.817351  1.898543  6.105179  9.681759  \n",
       "     folic_acid_fortification_scale_up  1.107890  1.639157  3.982885  5.358537  \n",
       "2021 baseline                           0.960358  1.689782  3.254397  3.809154  \n",
       "     folic_acid_fortification_scale_up  1.242550  1.721222  2.580665  2.787608  \n",
       "2022 baseline                           1.010483  1.590231  2.779427  2.981564  \n",
       "     folic_acid_fortification_scale_up  1.111189  1.527670  2.304019  2.313689  \n",
       "2023 baseline                           1.057727  1.730006  3.213726  3.713823  \n",
       "     folic_acid_fortification_scale_up  1.157370  1.610126  2.362367  2.810660  \n",
       "2024 baseline                           1.228655  1.773350  3.044771  3.109542  \n",
       "     folic_acid_fortification_scale_up  1.355131  1.796718  2.780462  2.808133  "
      ]
     },
     "execution_count": 20,
     "metadata": {},
     "output_type": "execute_result"
    }
   ],
   "source": [
    "rr.groupby(['year', 'scenario']).value.describe(percentiles=[0.025, 0.975])"
   ]
  },
  {
   "cell_type": "code",
   "execution_count": 21,
   "metadata": {},
   "outputs": [
    {
     "data": {
      "text/plain": [
       "(250, 4)"
      ]
     },
     "execution_count": 21,
     "metadata": {},
     "output_type": "execute_result"
    }
   ],
   "source": [
    "rr.shape"
   ]
  },
  {
   "cell_type": "markdown",
   "metadata": {},
   "source": [
    "## 7. Plot the distribution of risk ratios over all 5 years, in baseline, intervention, and both\n",
    "\n",
    "The risk ratio should be independent of year and scenario, so we should get the same distribution no mater how we slice the data or if we aggregate it all together (e.g. over year as in the first two graphs, or over everything like the final graph below).\n",
    "\n",
    "The samples in all of the graphs below should follow a lognormal distribution with median = 1.71, 97.5%-percentile = 2.04, and 2.5%-percentile = 1.43.\n",
    "\n",
    "Hmm, the values look more spread out than they should..."
   ]
  },
  {
   "cell_type": "code",
   "execution_count": 22,
   "metadata": {},
   "outputs": [
    {
     "data": {
      "text/plain": [
       "<matplotlib.axes._subplots.AxesSubplot at 0x2b4ffe66bb38>"
      ]
     },
     "execution_count": 22,
     "metadata": {},
     "output_type": "execute_result"
    },
    {
     "data": {
      "image/png": "[encoded data removed]",
      "text/plain": [
       "<Figure size 432x288 with 1 Axes>"
      ]
     },
     "metadata": {
      "needs_background": "light"
     },
     "output_type": "display_data"
    }
   ],
   "source": [
    "scenario = 'baseline'\n",
    "# scenario = 'folic_acid_fortification_scale_up'\n",
    "rr.query('scenario == @scenario').value.hist(bins=20)"
   ]
  },
  {
   "cell_type": "code",
   "execution_count": 23,
   "metadata": {},
   "outputs": [
    {
     "data": {
      "text/plain": [
       "<matplotlib.axes._subplots.AxesSubplot at 0x2b4ffee1d048>"
      ]
     },
     "execution_count": 23,
     "metadata": {},
     "output_type": "execute_result"
    },
    {
     "data": {
      "image/png": "[encoded data removed]",
      "text/plain": [
       "<Figure size 432x288 with 1 Axes>"
      ]
     },
     "metadata": {
      "needs_background": "light"
     },
     "output_type": "display_data"
    }
   ],
   "source": [
    "scenario = 'folic_acid_fortification_scale_up'\n",
    "rr.query('scenario == @scenario').value.hist(bins=20)"
   ]
  },
  {
   "cell_type": "code",
   "execution_count": 24,
   "metadata": {},
   "outputs": [
    {
     "data": {
      "text/plain": [
       "<matplotlib.axes._subplots.AxesSubplot at 0x2b4ffeec02e8>"
      ]
     },
     "execution_count": 24,
     "metadata": {},
     "output_type": "execute_result"
    },
    {
     "data": {
      "image/png": "[encoded data removed]",
      "text/plain": [
       "<Figure size 432x288 with 1 Axes>"
      ]
     },
     "metadata": {
      "needs_background": "light"
     },
     "output_type": "display_data"
    }
   ],
   "source": [
    "rr.value.hist(bins=50)"
   ]
  },
  {
   "cell_type": "code",
   "execution_count": 25,
   "metadata": {},
   "outputs": [
    {
     "data": {
      "text/plain": [
       "count    250.000000\n",
       "mean       1.820074\n",
       "std        0.770526\n",
       "min        0.659186\n",
       "2.5%       1.017989\n",
       "50%        1.710835\n",
       "97.5%      3.240121\n",
       "max        9.681759\n",
       "Name: value, dtype: float64"
      ]
     },
     "execution_count": 25,
     "metadata": {},
     "output_type": "execute_result"
    }
   ],
   "source": [
    "rr.value.describe(percentiles=[0.025, 0.975])"
   ]
  },
  {
   "cell_type": "code",
   "execution_count": null,
   "metadata": {},
   "outputs": [],
   "source": []
  }
 ],
 "metadata": {
  "kernelspec": {
   "display_name": "Python 3",
   "language": "python",
   "name": "python3"
  },
  "language_info": {
   "codemirror_mode": {
    "name": "ipython",
    "version": 3
   },
   "file_extension": ".py",
   "mimetype": "text/x-python",
   "name": "python",
   "nbconvert_exporter": "python",
   "pygments_lexer": "ipython3",
   "version": "3.6.10"
  }
 },
 "nbformat": 4,
 "nbformat_minor": 4
}
