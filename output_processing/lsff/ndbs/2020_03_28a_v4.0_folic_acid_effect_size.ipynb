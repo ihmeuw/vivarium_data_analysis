{
 "cells": [
  {
   "cell_type": "code",
   "execution_count": 1,
   "metadata": {},
   "outputs": [
    {
     "name": "stdout",
     "output_type": "stream",
     "text": [
      "ndbs\n",
      "Sat Mar 28 12:49:19 PDT 2020\n"
     ]
    }
   ],
   "source": [
    "import pandas as pd, numpy as np\n",
    "import vivarium_output_loader as vol\n",
    "import lsff_output_processing as lop\n",
    "\n",
    "!whoami\n",
    "!date"
   ]
  },
  {
   "cell_type": "code",
   "execution_count": 3,
   "metadata": {},
   "outputs": [],
   "source": [
    "%load_ext autoreload\n",
    "%autoreload 2"
   ]
  },
  {
   "cell_type": "markdown",
   "metadata": {},
   "source": [
    "# Check the effect size of folic acid fortification on NTDs, and the proportion of live births in each fortification group (i.e. compute population coverage of the intervention)\n",
    "\n",
    "## 1. Load all count space data tables and see what they are"
   ]
  },
  {
   "cell_type": "code",
   "execution_count": null,
   "metadata": {},
   "outputs": [],
   "source": [
    "base_directory = '/share/costeffectiveness/results/vivarium_conic_lsff/v4.0_folic_acid_fortification'\n",
    "\n",
    "locations_rundates = {\n",
    "    'Ethiopia': '2020_03_18_23_04_26',\n",
    "    'India': '2020_03_18_23_04_36',\n",
    "    'Nigeria': '2020_03_18_23_04_42',\n",
    "}"
   ]
  }
 ],
 "metadata": {
  "kernelspec": {
   "display_name": "Python 3",
   "language": "python",
   "name": "python3"
  },
  "language_info": {
   "codemirror_mode": {
    "name": "ipython",
    "version": 3
   },
   "file_extension": ".py",
   "mimetype": "text/x-python",
   "name": "python",
   "nbconvert_exporter": "python",
   "pygments_lexer": "ipython3",
   "version": "3.6.10"
  }
 },
 "nbformat": 4,
 "nbformat_minor": 4
}
