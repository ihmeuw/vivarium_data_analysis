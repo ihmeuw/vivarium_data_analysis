{
 "cells": [
  {
   "cell_type": "code",
   "execution_count": 1,
   "metadata": {},
   "outputs": [
    {
     "name": "stdout",
     "output_type": "stream",
     "text": [
      "ndbs\n",
      "Sat Mar 28 21:48:51 PDT 2020\n"
     ]
    }
   ],
   "source": [
    "import pandas as pd, numpy as np\n",
    "import vivarium_output_loader as vol\n",
    "import lsff_output_processing as lop\n",
    "\n",
    "!whoami\n",
    "!date"
   ]
  },
  {
   "cell_type": "code",
   "execution_count": 2,
   "metadata": {},
   "outputs": [],
   "source": [
    "%load_ext autoreload\n",
    "%autoreload 2"
   ]
  },
  {
   "cell_type": "markdown",
   "metadata": {},
   "source": [
    "# Check the effect size of folic acid fortification on NTDs, and the proportion of live births in each fortification group (i.e. compute population coverage of the intervention)\n",
    "\n",
    "## 1. Load all count space data tables and see what they are"
   ]
  },
  {
   "cell_type": "code",
   "execution_count": 3,
   "metadata": {},
   "outputs": [],
   "source": [
    "base_directory = '/share/costeffectiveness/results/vivarium_conic_lsff/v4.0_folic_acid_fortification'\n",
    "\n",
    "locations_rundates = {\n",
    "    'Ethiopia': '2020_03_18_23_04_26',\n",
    "    'India': '2020_03_18_23_04_36',\n",
    "    'Nigeria': '2020_03_18_23_04_42',\n",
    "}"
   ]
  },
  {
   "cell_type": "code",
   "execution_count": 4,
   "metadata": {},
   "outputs": [],
   "source": [
    "data = vol.load_all_transformed_count_data(base_directory, locations_rundates)"
   ]
  },
  {
   "cell_type": "code",
   "execution_count": 5,
   "metadata": {},
   "outputs": [
    {
     "data": {
      "text/plain": [
       "[('nigeria', 'gestational_age'),\n",
       " ('nigeria', 'transition_count'),\n",
       " ('nigeria', 'deaths'),\n",
       " ('nigeria', 'state_person_time'),\n",
       " ('nigeria', 'births_with_ntd'),\n",
       " ('nigeria', 'population'),\n",
       " ('nigeria', 'person_time'),\n",
       " ('nigeria', 'ylls'),\n",
       " ('nigeria', 'ylds'),\n",
       " ('nigeria', 'births'),\n",
       " ('nigeria', 'birth_weight')]"
      ]
     },
     "execution_count": 5,
     "metadata": {},
     "output_type": "execute_result"
    }
   ],
   "source": [
    "[k for k in data.keys() if k[0] == 'nigeria']"
   ]
  },
  {
   "cell_type": "markdown",
   "metadata": {},
   "source": [
    "## 2. Load NTD births and live births tables"
   ]
  },
  {
   "cell_type": "code",
   "execution_count": 6,
   "metadata": {},
   "outputs": [
    {
     "data": {
      "text/html": [
       "<div>\n",
       "<style scoped>\n",
       "    .dataframe tbody tr th:only-of-type {\n",
       "        vertical-align: middle;\n",
       "    }\n",
       "\n",
       "    .dataframe tbody tr th {\n",
       "        vertical-align: top;\n",
       "    }\n",
       "\n",
       "    .dataframe thead th {\n",
       "        text-align: right;\n",
       "    }\n",
       "</style>\n",
       "<table border=\"1\" class=\"dataframe\">\n",
       "  <thead>\n",
       "    <tr style=\"text-align: right;\">\n",
       "      <th></th>\n",
       "      <th>year</th>\n",
       "      <th>sex</th>\n",
       "      <th>fortification_group</th>\n",
       "      <th>measure</th>\n",
       "      <th>input_draw</th>\n",
       "      <th>scenario</th>\n",
       "      <th>value</th>\n",
       "    </tr>\n",
       "  </thead>\n",
       "  <tbody>\n",
       "    <tr>\n",
       "      <th>0</th>\n",
       "      <td>2020</td>\n",
       "      <td>female</td>\n",
       "      <td>false</td>\n",
       "      <td>live_births_with_ntds</td>\n",
       "      <td>21</td>\n",
       "      <td>baseline</td>\n",
       "      <td>44.0</td>\n",
       "    </tr>\n",
       "    <tr>\n",
       "      <th>1</th>\n",
       "      <td>2020</td>\n",
       "      <td>female</td>\n",
       "      <td>false</td>\n",
       "      <td>live_births_with_ntds</td>\n",
       "      <td>21</td>\n",
       "      <td>folic_acid_fortification_scale_up</td>\n",
       "      <td>35.0</td>\n",
       "    </tr>\n",
       "    <tr>\n",
       "      <th>2</th>\n",
       "      <td>2020</td>\n",
       "      <td>female</td>\n",
       "      <td>false</td>\n",
       "      <td>live_births_with_ntds</td>\n",
       "      <td>29</td>\n",
       "      <td>baseline</td>\n",
       "      <td>55.0</td>\n",
       "    </tr>\n",
       "    <tr>\n",
       "      <th>3</th>\n",
       "      <td>2020</td>\n",
       "      <td>female</td>\n",
       "      <td>false</td>\n",
       "      <td>live_births_with_ntds</td>\n",
       "      <td>29</td>\n",
       "      <td>folic_acid_fortification_scale_up</td>\n",
       "      <td>44.0</td>\n",
       "    </tr>\n",
       "    <tr>\n",
       "      <th>4</th>\n",
       "      <td>2020</td>\n",
       "      <td>female</td>\n",
       "      <td>false</td>\n",
       "      <td>live_births_with_ntds</td>\n",
       "      <td>55</td>\n",
       "      <td>baseline</td>\n",
       "      <td>60.0</td>\n",
       "    </tr>\n",
       "  </tbody>\n",
       "</table>\n",
       "</div>"
      ],
      "text/plain": [
       "   year     sex fortification_group                measure  input_draw  \\\n",
       "0  2020  female               false  live_births_with_ntds          21   \n",
       "1  2020  female               false  live_births_with_ntds          21   \n",
       "2  2020  female               false  live_births_with_ntds          29   \n",
       "3  2020  female               false  live_births_with_ntds          29   \n",
       "4  2020  female               false  live_births_with_ntds          55   \n",
       "\n",
       "                            scenario  value  \n",
       "0                           baseline   44.0  \n",
       "1  folic_acid_fortification_scale_up   35.0  \n",
       "2                           baseline   55.0  \n",
       "3  folic_acid_fortification_scale_up   44.0  \n",
       "4                           baseline   60.0  "
      ]
     },
     "execution_count": 6,
     "metadata": {},
     "output_type": "execute_result"
    }
   ],
   "source": [
    "ntd_births = data[('nigeria', 'births_with_ntd')]\n",
    "ntd_births.head()"
   ]
  },
  {
   "cell_type": "code",
   "execution_count": 7,
   "metadata": {},
   "outputs": [
    {
     "data": {
      "text/html": [
       "<div>\n",
       "<style scoped>\n",
       "    .dataframe tbody tr th:only-of-type {\n",
       "        vertical-align: middle;\n",
       "    }\n",
       "\n",
       "    .dataframe tbody tr th {\n",
       "        vertical-align: top;\n",
       "    }\n",
       "\n",
       "    .dataframe thead th {\n",
       "        text-align: right;\n",
       "    }\n",
       "</style>\n",
       "<table border=\"1\" class=\"dataframe\">\n",
       "  <thead>\n",
       "    <tr style=\"text-align: right;\">\n",
       "      <th></th>\n",
       "      <th>year</th>\n",
       "      <th>sex</th>\n",
       "      <th>fortification_group</th>\n",
       "      <th>measure</th>\n",
       "      <th>input_draw</th>\n",
       "      <th>scenario</th>\n",
       "      <th>value</th>\n",
       "    </tr>\n",
       "  </thead>\n",
       "  <tbody>\n",
       "    <tr>\n",
       "      <th>0</th>\n",
       "      <td>2020</td>\n",
       "      <td>female</td>\n",
       "      <td>false</td>\n",
       "      <td>live_births</td>\n",
       "      <td>21</td>\n",
       "      <td>baseline</td>\n",
       "      <td>20286.0</td>\n",
       "    </tr>\n",
       "    <tr>\n",
       "      <th>1</th>\n",
       "      <td>2020</td>\n",
       "      <td>female</td>\n",
       "      <td>false</td>\n",
       "      <td>live_births</td>\n",
       "      <td>21</td>\n",
       "      <td>folic_acid_fortification_scale_up</td>\n",
       "      <td>16490.0</td>\n",
       "    </tr>\n",
       "    <tr>\n",
       "      <th>2</th>\n",
       "      <td>2020</td>\n",
       "      <td>female</td>\n",
       "      <td>false</td>\n",
       "      <td>live_births</td>\n",
       "      <td>29</td>\n",
       "      <td>baseline</td>\n",
       "      <td>20252.0</td>\n",
       "    </tr>\n",
       "    <tr>\n",
       "      <th>3</th>\n",
       "      <td>2020</td>\n",
       "      <td>female</td>\n",
       "      <td>false</td>\n",
       "      <td>live_births</td>\n",
       "      <td>29</td>\n",
       "      <td>folic_acid_fortification_scale_up</td>\n",
       "      <td>16478.0</td>\n",
       "    </tr>\n",
       "    <tr>\n",
       "      <th>4</th>\n",
       "      <td>2020</td>\n",
       "      <td>female</td>\n",
       "      <td>false</td>\n",
       "      <td>live_births</td>\n",
       "      <td>55</td>\n",
       "      <td>baseline</td>\n",
       "      <td>20386.0</td>\n",
       "    </tr>\n",
       "  </tbody>\n",
       "</table>\n",
       "</div>"
      ],
      "text/plain": [
       "   year     sex fortification_group      measure  input_draw  \\\n",
       "0  2020  female               false  live_births          21   \n",
       "1  2020  female               false  live_births          21   \n",
       "2  2020  female               false  live_births          29   \n",
       "3  2020  female               false  live_births          29   \n",
       "4  2020  female               false  live_births          55   \n",
       "\n",
       "                            scenario    value  \n",
       "0                           baseline  20286.0  \n",
       "1  folic_acid_fortification_scale_up  16490.0  \n",
       "2                           baseline  20252.0  \n",
       "3  folic_acid_fortification_scale_up  16478.0  \n",
       "4                           baseline  20386.0  "
      ]
     },
     "execution_count": 7,
     "metadata": {},
     "output_type": "execute_result"
    }
   ],
   "source": [
    "live_births = data[('nigeria', 'births')]\n",
    "live_births.head()"
   ]
  },
  {
   "cell_type": "markdown",
   "metadata": {},
   "source": [
    "## 3. Compute conditional risk of NTDs in fortified and unfortified groups"
   ]
  },
  {
   "cell_type": "code",
   "execution_count": 16,
   "metadata": {},
   "outputs": [],
   "source": [
    "def conditional_ntd_risk(births_with_ntd, live_births, conditioned_on, multiplier=1):\n",
    "    \n",
    "    # Columns in both dataframes are:\n",
    "    # ['year', 'sex', 'fortification_group', 'measure', 'input_draw', 'scenario', 'value']\n",
    "    \n",
    "    # The index columns will NOT be aggregated over\n",
    "    index_columns = ['input_draw', 'scenario'] + conditioned_on\n",
    "    \n",
    "    # In both dataframes, group by the index columns, and aggregate\n",
    "    #'value' column over remaining columns by summing\n",
    "    births_with_ntd = births_with_ntd.groupby(index_columns).value.sum()\n",
    "    live_births = live_births.groupby(index_columns).value.sum()\n",
    "    \n",
    "    # Divide the two pandas Series to get birth prevalence\n",
    "    # in each subgroup we conditioned on.\n",
    "    # Multiply by the multiplier to get desired units (e.g. per 1000 live births)\n",
    "    ntd_risk = multiplier * births_with_ntd / live_births\n",
    "    \n",
    "    # Drop any rows where we divided by 0 because there were no births\n",
    "    ntd_risk.dropna(inplace=True)\n",
    "    \n",
    "    return ntd_risk.reset_index()\n",
    "\n",
    "def relative_risk_of_ntds(conditional_ntd_risk, numerator_query, denominator_query):\n",
    "    numerator = conditional_ntd_risk.query(numerator_query)"
   ]
  },
  {
   "cell_type": "code",
   "execution_count": 24,
   "metadata": {},
   "outputs": [
    {
     "data": {
      "text/html": [
       "<div>\n",
       "<style scoped>\n",
       "    .dataframe tbody tr th:only-of-type {\n",
       "        vertical-align: middle;\n",
       "    }\n",
       "\n",
       "    .dataframe tbody tr th {\n",
       "        vertical-align: top;\n",
       "    }\n",
       "\n",
       "    .dataframe thead th {\n",
       "        text-align: right;\n",
       "    }\n",
       "</style>\n",
       "<table border=\"1\" class=\"dataframe\">\n",
       "  <thead>\n",
       "    <tr style=\"text-align: right;\">\n",
       "      <th></th>\n",
       "      <th>input_draw</th>\n",
       "      <th>scenario</th>\n",
       "      <th>year</th>\n",
       "      <th>fortification_group</th>\n",
       "      <th>value</th>\n",
       "    </tr>\n",
       "  </thead>\n",
       "  <tbody>\n",
       "    <tr>\n",
       "      <th>0</th>\n",
       "      <td>21</td>\n",
       "      <td>baseline</td>\n",
       "      <td>2020</td>\n",
       "      <td>false</td>\n",
       "      <td>2.710093</td>\n",
       "    </tr>\n",
       "    <tr>\n",
       "      <th>1</th>\n",
       "      <td>21</td>\n",
       "      <td>baseline</td>\n",
       "      <td>2020</td>\n",
       "      <td>true</td>\n",
       "      <td>0.819001</td>\n",
       "    </tr>\n",
       "    <tr>\n",
       "      <th>2</th>\n",
       "      <td>21</td>\n",
       "      <td>baseline</td>\n",
       "      <td>2021</td>\n",
       "      <td>false</td>\n",
       "      <td>2.525741</td>\n",
       "    </tr>\n",
       "    <tr>\n",
       "      <th>3</th>\n",
       "      <td>21</td>\n",
       "      <td>baseline</td>\n",
       "      <td>2021</td>\n",
       "      <td>true</td>\n",
       "      <td>2.413839</td>\n",
       "    </tr>\n",
       "    <tr>\n",
       "      <th>4</th>\n",
       "      <td>21</td>\n",
       "      <td>baseline</td>\n",
       "      <td>2022</td>\n",
       "      <td>false</td>\n",
       "      <td>2.326418</td>\n",
       "    </tr>\n",
       "  </tbody>\n",
       "</table>\n",
       "</div>"
      ],
      "text/plain": [
       "   input_draw  scenario  year fortification_group     value\n",
       "0          21  baseline  2020               false  2.710093\n",
       "1          21  baseline  2020                true  0.819001\n",
       "2          21  baseline  2021               false  2.525741\n",
       "3          21  baseline  2021                true  2.413839\n",
       "4          21  baseline  2022               false  2.326418"
      ]
     },
     "execution_count": 24,
     "metadata": {},
     "output_type": "execute_result"
    }
   ],
   "source": [
    "conditioned_on = ['year', 'fortification_group']\n",
    "multiplier = 1000\n",
    "\n",
    "df = conditional_ntd_risk(ntd_births, live_births, conditioned_on, multiplier)\n",
    "df.head()"
   ]
  },
  {
   "cell_type": "code",
   "execution_count": 25,
   "metadata": {},
   "outputs": [
    {
     "data": {
      "text/plain": [
       "(500, 5)"
      ]
     },
     "execution_count": 25,
     "metadata": {},
     "output_type": "execute_result"
    }
   ],
   "source": [
    "df.shape"
   ]
  },
  {
   "cell_type": "code",
   "execution_count": 27,
   "metadata": {},
   "outputs": [
    {
     "data": {
      "text/html": [
       "<div>\n",
       "<style scoped>\n",
       "    .dataframe tbody tr th:only-of-type {\n",
       "        vertical-align: middle;\n",
       "    }\n",
       "\n",
       "    .dataframe tbody tr th {\n",
       "        vertical-align: top;\n",
       "    }\n",
       "\n",
       "    .dataframe thead th {\n",
       "        text-align: right;\n",
       "    }\n",
       "</style>\n",
       "<table border=\"1\" class=\"dataframe\">\n",
       "  <thead>\n",
       "    <tr style=\"text-align: right;\">\n",
       "      <th></th>\n",
       "      <th></th>\n",
       "      <th>count</th>\n",
       "      <th>mean</th>\n",
       "      <th>std</th>\n",
       "      <th>min</th>\n",
       "      <th>2.5%</th>\n",
       "      <th>50%</th>\n",
       "      <th>97.5%</th>\n",
       "      <th>max</th>\n",
       "    </tr>\n",
       "    <tr>\n",
       "      <th>year</th>\n",
       "      <th>fortification_group</th>\n",
       "      <th></th>\n",
       "      <th></th>\n",
       "      <th></th>\n",
       "      <th></th>\n",
       "      <th></th>\n",
       "      <th></th>\n",
       "      <th></th>\n",
       "      <th></th>\n",
       "    </tr>\n",
       "  </thead>\n",
       "  <tbody>\n",
       "    <tr>\n",
       "      <th rowspan=\"2\" valign=\"top\">2020</th>\n",
       "      <th>false</th>\n",
       "      <td>25.0</td>\n",
       "      <td>2.679439</td>\n",
       "      <td>0.418728</td>\n",
       "      <td>1.932944</td>\n",
       "      <td>2.053354</td>\n",
       "      <td>2.617172</td>\n",
       "      <td>3.622014</td>\n",
       "      <td>3.674160</td>\n",
       "    </tr>\n",
       "    <tr>\n",
       "      <th>true</th>\n",
       "      <td>25.0</td>\n",
       "      <td>1.625869</td>\n",
       "      <td>0.825508</td>\n",
       "      <td>0.267237</td>\n",
       "      <td>0.535058</td>\n",
       "      <td>1.436782</td>\n",
       "      <td>3.239306</td>\n",
       "      <td>3.557814</td>\n",
       "    </tr>\n",
       "    <tr>\n",
       "      <th rowspan=\"2\" valign=\"top\">2021</th>\n",
       "      <th>false</th>\n",
       "      <td>25.0</td>\n",
       "      <td>2.639663</td>\n",
       "      <td>0.274397</td>\n",
       "      <td>1.934517</td>\n",
       "      <td>2.095934</td>\n",
       "      <td>2.618341</td>\n",
       "      <td>3.093227</td>\n",
       "      <td>3.283296</td>\n",
       "    </tr>\n",
       "    <tr>\n",
       "      <th>true</th>\n",
       "      <td>25.0</td>\n",
       "      <td>1.640869</td>\n",
       "      <td>0.428007</td>\n",
       "      <td>0.691946</td>\n",
       "      <td>0.959717</td>\n",
       "      <td>1.691638</td>\n",
       "      <td>2.482341</td>\n",
       "      <td>2.585093</td>\n",
       "    </tr>\n",
       "    <tr>\n",
       "      <th rowspan=\"2\" valign=\"top\">2022</th>\n",
       "      <th>false</th>\n",
       "      <td>25.0</td>\n",
       "      <td>2.634820</td>\n",
       "      <td>0.268929</td>\n",
       "      <td>2.226763</td>\n",
       "      <td>2.281330</td>\n",
       "      <td>2.622809</td>\n",
       "      <td>3.208310</td>\n",
       "      <td>3.231619</td>\n",
       "    </tr>\n",
       "    <tr>\n",
       "      <th>true</th>\n",
       "      <td>25.0</td>\n",
       "      <td>1.740682</td>\n",
       "      <td>0.472118</td>\n",
       "      <td>0.997009</td>\n",
       "      <td>1.010502</td>\n",
       "      <td>1.719057</td>\n",
       "      <td>2.473734</td>\n",
       "      <td>2.490823</td>\n",
       "    </tr>\n",
       "    <tr>\n",
       "      <th rowspan=\"2\" valign=\"top\">2023</th>\n",
       "      <th>false</th>\n",
       "      <td>25.0</td>\n",
       "      <td>2.677424</td>\n",
       "      <td>0.237874</td>\n",
       "      <td>2.341781</td>\n",
       "      <td>2.369799</td>\n",
       "      <td>2.634175</td>\n",
       "      <td>3.183101</td>\n",
       "      <td>3.270705</td>\n",
       "    </tr>\n",
       "    <tr>\n",
       "      <th>true</th>\n",
       "      <td>25.0</td>\n",
       "      <td>1.659422</td>\n",
       "      <td>0.577847</td>\n",
       "      <td>0.718047</td>\n",
       "      <td>0.861068</td>\n",
       "      <td>1.567965</td>\n",
       "      <td>2.583706</td>\n",
       "      <td>2.584350</td>\n",
       "    </tr>\n",
       "    <tr>\n",
       "      <th rowspan=\"2\" valign=\"top\">2024</th>\n",
       "      <th>false</th>\n",
       "      <td>25.0</td>\n",
       "      <td>2.624014</td>\n",
       "      <td>0.271749</td>\n",
       "      <td>2.215463</td>\n",
       "      <td>2.268329</td>\n",
       "      <td>2.552286</td>\n",
       "      <td>3.227151</td>\n",
       "      <td>3.424863</td>\n",
       "    </tr>\n",
       "    <tr>\n",
       "      <th>true</th>\n",
       "      <td>25.0</td>\n",
       "      <td>1.438869</td>\n",
       "      <td>0.360530</td>\n",
       "      <td>0.809935</td>\n",
       "      <td>0.831445</td>\n",
       "      <td>1.426737</td>\n",
       "      <td>2.077186</td>\n",
       "      <td>2.138752</td>\n",
       "    </tr>\n",
       "  </tbody>\n",
       "</table>\n",
       "</div>"
      ],
      "text/plain": [
       "                          count      mean       std       min      2.5%  \\\n",
       "year fortification_group                                                  \n",
       "2020 false                 25.0  2.679439  0.418728  1.932944  2.053354   \n",
       "     true                  25.0  1.625869  0.825508  0.267237  0.535058   \n",
       "2021 false                 25.0  2.639663  0.274397  1.934517  2.095934   \n",
       "     true                  25.0  1.640869  0.428007  0.691946  0.959717   \n",
       "2022 false                 25.0  2.634820  0.268929  2.226763  2.281330   \n",
       "     true                  25.0  1.740682  0.472118  0.997009  1.010502   \n",
       "2023 false                 25.0  2.677424  0.237874  2.341781  2.369799   \n",
       "     true                  25.0  1.659422  0.577847  0.718047  0.861068   \n",
       "2024 false                 25.0  2.624014  0.271749  2.215463  2.268329   \n",
       "     true                  25.0  1.438869  0.360530  0.809935  0.831445   \n",
       "\n",
       "                               50%     97.5%       max  \n",
       "year fortification_group                                \n",
       "2020 false                2.617172  3.622014  3.674160  \n",
       "     true                 1.436782  3.239306  3.557814  \n",
       "2021 false                2.618341  3.093227  3.283296  \n",
       "     true                 1.691638  2.482341  2.585093  \n",
       "2022 false                2.622809  3.208310  3.231619  \n",
       "     true                 1.719057  2.473734  2.490823  \n",
       "2023 false                2.634175  3.183101  3.270705  \n",
       "     true                 1.567965  2.583706  2.584350  \n",
       "2024 false                2.552286  3.227151  3.424863  \n",
       "     true                 1.426737  2.077186  2.138752  "
      ]
     },
     "execution_count": 27,
     "metadata": {},
     "output_type": "execute_result"
    }
   ],
   "source": [
    "df.query('scenario == \"baseline\"').groupby(\n",
    "    conditioned_on).value.describe(percentiles=[0.025, 0.975])"
   ]
  },
  {
   "cell_type": "code",
   "execution_count": 34,
   "metadata": {},
   "outputs": [
    {
     "data": {
      "text/html": [
       "<div>\n",
       "<style scoped>\n",
       "    .dataframe tbody tr th:only-of-type {\n",
       "        vertical-align: middle;\n",
       "    }\n",
       "\n",
       "    .dataframe tbody tr th {\n",
       "        vertical-align: top;\n",
       "    }\n",
       "\n",
       "    .dataframe thead th {\n",
       "        text-align: right;\n",
       "    }\n",
       "</style>\n",
       "<table border=\"1\" class=\"dataframe\">\n",
       "  <thead>\n",
       "    <tr style=\"text-align: right;\">\n",
       "      <th></th>\n",
       "      <th>input_draw</th>\n",
       "      <th>scenario</th>\n",
       "      <th>year</th>\n",
       "      <th>fortification_group</th>\n",
       "      <th>value</th>\n",
       "    </tr>\n",
       "  </thead>\n",
       "  <tbody>\n",
       "    <tr>\n",
       "      <th>0</th>\n",
       "      <td>21</td>\n",
       "      <td>baseline</td>\n",
       "      <td>2020</td>\n",
       "      <td>false</td>\n",
       "      <td>2.710093</td>\n",
       "    </tr>\n",
       "    <tr>\n",
       "      <th>1</th>\n",
       "      <td>21</td>\n",
       "      <td>baseline</td>\n",
       "      <td>2020</td>\n",
       "      <td>true</td>\n",
       "      <td>0.819001</td>\n",
       "    </tr>\n",
       "    <tr>\n",
       "      <th>2</th>\n",
       "      <td>21</td>\n",
       "      <td>baseline</td>\n",
       "      <td>2021</td>\n",
       "      <td>false</td>\n",
       "      <td>2.525741</td>\n",
       "    </tr>\n",
       "    <tr>\n",
       "      <th>3</th>\n",
       "      <td>21</td>\n",
       "      <td>baseline</td>\n",
       "      <td>2021</td>\n",
       "      <td>true</td>\n",
       "      <td>2.413839</td>\n",
       "    </tr>\n",
       "    <tr>\n",
       "      <th>4</th>\n",
       "      <td>21</td>\n",
       "      <td>baseline</td>\n",
       "      <td>2022</td>\n",
       "      <td>false</td>\n",
       "      <td>2.326418</td>\n",
       "    </tr>\n",
       "  </tbody>\n",
       "</table>\n",
       "</div>"
      ],
      "text/plain": [
       "   input_draw  scenario  year fortification_group     value\n",
       "0          21  baseline  2020               false  2.710093\n",
       "1          21  baseline  2020                true  0.819001\n",
       "2          21  baseline  2021               false  2.525741\n",
       "3          21  baseline  2021                true  2.413839\n",
       "4          21  baseline  2022               false  2.326418"
      ]
     },
     "execution_count": 34,
     "metadata": {},
     "output_type": "execute_result"
    }
   ],
   "source": [
    "df.head()"
   ]
  },
  {
   "cell_type": "code",
   "execution_count": 37,
   "metadata": {},
   "outputs": [
    {
     "data": {
      "text/plain": [
       "array(['baseline', 'folic_acid_fortification_scale_up'], dtype=object)"
      ]
     },
     "execution_count": 37,
     "metadata": {},
     "output_type": "execute_result"
    }
   ],
   "source": [
    "df.scenario.unique()"
   ]
  },
  {
   "cell_type": "code",
   "execution_count": 40,
   "metadata": {},
   "outputs": [
    {
     "data": {
      "text/html": [
       "<div>\n",
       "<style scoped>\n",
       "    .dataframe tbody tr th:only-of-type {\n",
       "        vertical-align: middle;\n",
       "    }\n",
       "\n",
       "    .dataframe tbody tr th {\n",
       "        vertical-align: top;\n",
       "    }\n",
       "\n",
       "    .dataframe thead th {\n",
       "        text-align: right;\n",
       "    }\n",
       "</style>\n",
       "<table border=\"1\" class=\"dataframe\">\n",
       "  <thead>\n",
       "    <tr style=\"text-align: right;\">\n",
       "      <th></th>\n",
       "      <th>year</th>\n",
       "      <th>input_draw</th>\n",
       "      <th>scenario</th>\n",
       "      <th>value</th>\n",
       "    </tr>\n",
       "  </thead>\n",
       "  <tbody>\n",
       "    <tr>\n",
       "      <th>0</th>\n",
       "      <td>2020</td>\n",
       "      <td>21</td>\n",
       "      <td>baseline</td>\n",
       "      <td>0.302204</td>\n",
       "    </tr>\n",
       "    <tr>\n",
       "      <th>1</th>\n",
       "      <td>2021</td>\n",
       "      <td>21</td>\n",
       "      <td>baseline</td>\n",
       "      <td>0.955696</td>\n",
       "    </tr>\n",
       "    <tr>\n",
       "      <th>2</th>\n",
       "      <td>2022</td>\n",
       "      <td>21</td>\n",
       "      <td>baseline</td>\n",
       "      <td>0.971983</td>\n",
       "    </tr>\n",
       "    <tr>\n",
       "      <th>3</th>\n",
       "      <td>2023</td>\n",
       "      <td>21</td>\n",
       "      <td>baseline</td>\n",
       "      <td>0.805795</td>\n",
       "    </tr>\n",
       "    <tr>\n",
       "      <th>4</th>\n",
       "      <td>2024</td>\n",
       "      <td>21</td>\n",
       "      <td>baseline</td>\n",
       "      <td>0.488840</td>\n",
       "    </tr>\n",
       "  </tbody>\n",
       "</table>\n",
       "</div>"
      ],
      "text/plain": [
       "   year  input_draw  scenario     value\n",
       "0  2020          21  baseline  0.302204\n",
       "1  2021          21  baseline  0.955696\n",
       "2  2022          21  baseline  0.971983\n",
       "3  2023          21  baseline  0.805795\n",
       "4  2024          21  baseline  0.488840"
      ]
     },
     "execution_count": 40,
     "metadata": {},
     "output_type": "execute_result"
    }
   ],
   "source": [
    "index_cols = ['year', 'input_draw', 'scenario']\n",
    "# scenario = 'folic_acid_fortification_scale_up'\n",
    "\n",
    "numerator = df.query('fortification_group == \"true\"')\n",
    "denominator = df.query('fortification_group == \"false\"')\n",
    "\n",
    "numerator = numerator.set_index(index_cols).value\n",
    "denominator = denominator.set_index(index_cols).value\n",
    "\n",
    "rr = numerator / denominator\n",
    "rr = rr.reset_index()\n",
    "rr.head()"
   ]
  },
  {
   "cell_type": "code",
   "execution_count": 41,
   "metadata": {},
   "outputs": [
    {
     "data": {
      "text/html": [
       "<div>\n",
       "<style scoped>\n",
       "    .dataframe tbody tr th:only-of-type {\n",
       "        vertical-align: middle;\n",
       "    }\n",
       "\n",
       "    .dataframe tbody tr th {\n",
       "        vertical-align: top;\n",
       "    }\n",
       "\n",
       "    .dataframe thead th {\n",
       "        text-align: right;\n",
       "    }\n",
       "</style>\n",
       "<table border=\"1\" class=\"dataframe\">\n",
       "  <thead>\n",
       "    <tr style=\"text-align: right;\">\n",
       "      <th></th>\n",
       "      <th></th>\n",
       "      <th>count</th>\n",
       "      <th>mean</th>\n",
       "      <th>std</th>\n",
       "      <th>min</th>\n",
       "      <th>2.5%</th>\n",
       "      <th>50%</th>\n",
       "      <th>97.5%</th>\n",
       "      <th>max</th>\n",
       "    </tr>\n",
       "    <tr>\n",
       "      <th>year</th>\n",
       "      <th>scenario</th>\n",
       "      <th></th>\n",
       "      <th></th>\n",
       "      <th></th>\n",
       "      <th></th>\n",
       "      <th></th>\n",
       "      <th></th>\n",
       "      <th></th>\n",
       "      <th></th>\n",
       "    </tr>\n",
       "  </thead>\n",
       "  <tbody>\n",
       "    <tr>\n",
       "      <th rowspan=\"2\" valign=\"top\">2020</th>\n",
       "      <th>baseline</th>\n",
       "      <td>25.0</td>\n",
       "      <td>0.616429</td>\n",
       "      <td>0.325427</td>\n",
       "      <td>0.103287</td>\n",
       "      <td>0.202571</td>\n",
       "      <td>0.526720</td>\n",
       "      <td>1.257008</td>\n",
       "      <td>1.517023</td>\n",
       "    </tr>\n",
       "    <tr>\n",
       "      <th>folic_acid_fortification_scale_up</th>\n",
       "      <td>25.0</td>\n",
       "      <td>0.599473</td>\n",
       "      <td>0.173103</td>\n",
       "      <td>0.186618</td>\n",
       "      <td>0.270356</td>\n",
       "      <td>0.610070</td>\n",
       "      <td>0.903924</td>\n",
       "      <td>0.946358</td>\n",
       "    </tr>\n",
       "    <tr>\n",
       "      <th rowspan=\"2\" valign=\"top\">2021</th>\n",
       "      <th>baseline</th>\n",
       "      <td>25.0</td>\n",
       "      <td>0.631571</td>\n",
       "      <td>0.192432</td>\n",
       "      <td>0.262525</td>\n",
       "      <td>0.313014</td>\n",
       "      <td>0.591792</td>\n",
       "      <td>1.041357</td>\n",
       "      <td>1.052410</td>\n",
       "    </tr>\n",
       "    <tr>\n",
       "      <th>folic_acid_fortification_scale_up</th>\n",
       "      <td>25.0</td>\n",
       "      <td>0.580178</td>\n",
       "      <td>0.115360</td>\n",
       "      <td>0.358731</td>\n",
       "      <td>0.389122</td>\n",
       "      <td>0.580983</td>\n",
       "      <td>0.804958</td>\n",
       "      <td>0.818935</td>\n",
       "    </tr>\n",
       "    <tr>\n",
       "      <th rowspan=\"2\" valign=\"top\">2022</th>\n",
       "      <th>baseline</th>\n",
       "      <td>25.0</td>\n",
       "      <td>0.667381</td>\n",
       "      <td>0.194323</td>\n",
       "      <td>0.335394</td>\n",
       "      <td>0.361029</td>\n",
       "      <td>0.628839</td>\n",
       "      <td>0.990120</td>\n",
       "      <td>1.017325</td>\n",
       "    </tr>\n",
       "    <tr>\n",
       "      <th>folic_acid_fortification_scale_up</th>\n",
       "      <td>25.0</td>\n",
       "      <td>0.644636</td>\n",
       "      <td>0.145287</td>\n",
       "      <td>0.432210</td>\n",
       "      <td>0.434029</td>\n",
       "      <td>0.654591</td>\n",
       "      <td>0.899989</td>\n",
       "      <td>0.908438</td>\n",
       "    </tr>\n",
       "    <tr>\n",
       "      <th rowspan=\"2\" valign=\"top\">2023</th>\n",
       "      <th>baseline</th>\n",
       "      <td>25.0</td>\n",
       "      <td>0.617587</td>\n",
       "      <td>0.198767</td>\n",
       "      <td>0.269264</td>\n",
       "      <td>0.316015</td>\n",
       "      <td>0.578033</td>\n",
       "      <td>0.946648</td>\n",
       "      <td>0.988655</td>\n",
       "    </tr>\n",
       "    <tr>\n",
       "      <th>folic_acid_fortification_scale_up</th>\n",
       "      <td>25.0</td>\n",
       "      <td>0.625831</td>\n",
       "      <td>0.118822</td>\n",
       "      <td>0.355788</td>\n",
       "      <td>0.433083</td>\n",
       "      <td>0.621070</td>\n",
       "      <td>0.866904</td>\n",
       "      <td>0.928779</td>\n",
       "    </tr>\n",
       "    <tr>\n",
       "      <th rowspan=\"2\" valign=\"top\">2024</th>\n",
       "      <th>baseline</th>\n",
       "      <td>25.0</td>\n",
       "      <td>0.552025</td>\n",
       "      <td>0.144390</td>\n",
       "      <td>0.321591</td>\n",
       "      <td>0.328530</td>\n",
       "      <td>0.563904</td>\n",
       "      <td>0.814182</td>\n",
       "      <td>0.832862</td>\n",
       "    </tr>\n",
       "    <tr>\n",
       "      <th>folic_acid_fortification_scale_up</th>\n",
       "      <td>25.0</td>\n",
       "      <td>0.560099</td>\n",
       "      <td>0.108645</td>\n",
       "      <td>0.356108</td>\n",
       "      <td>0.359676</td>\n",
       "      <td>0.556570</td>\n",
       "      <td>0.750745</td>\n",
       "      <td>0.874089</td>\n",
       "    </tr>\n",
       "  </tbody>\n",
       "</table>\n",
       "</div>"
      ],
      "text/plain": [
       "                                        count      mean       std       min  \\\n",
       "year scenario                                                                 \n",
       "2020 baseline                            25.0  0.616429  0.325427  0.103287   \n",
       "     folic_acid_fortification_scale_up   25.0  0.599473  0.173103  0.186618   \n",
       "2021 baseline                            25.0  0.631571  0.192432  0.262525   \n",
       "     folic_acid_fortification_scale_up   25.0  0.580178  0.115360  0.358731   \n",
       "2022 baseline                            25.0  0.667381  0.194323  0.335394   \n",
       "     folic_acid_fortification_scale_up   25.0  0.644636  0.145287  0.432210   \n",
       "2023 baseline                            25.0  0.617587  0.198767  0.269264   \n",
       "     folic_acid_fortification_scale_up   25.0  0.625831  0.118822  0.355788   \n",
       "2024 baseline                            25.0  0.552025  0.144390  0.321591   \n",
       "     folic_acid_fortification_scale_up   25.0  0.560099  0.108645  0.356108   \n",
       "\n",
       "                                            2.5%       50%     97.5%       max  \n",
       "year scenario                                                                   \n",
       "2020 baseline                           0.202571  0.526720  1.257008  1.517023  \n",
       "     folic_acid_fortification_scale_up  0.270356  0.610070  0.903924  0.946358  \n",
       "2021 baseline                           0.313014  0.591792  1.041357  1.052410  \n",
       "     folic_acid_fortification_scale_up  0.389122  0.580983  0.804958  0.818935  \n",
       "2022 baseline                           0.361029  0.628839  0.990120  1.017325  \n",
       "     folic_acid_fortification_scale_up  0.434029  0.654591  0.899989  0.908438  \n",
       "2023 baseline                           0.316015  0.578033  0.946648  0.988655  \n",
       "     folic_acid_fortification_scale_up  0.433083  0.621070  0.866904  0.928779  \n",
       "2024 baseline                           0.328530  0.563904  0.814182  0.832862  \n",
       "     folic_acid_fortification_scale_up  0.359676  0.556570  0.750745  0.874089  "
      ]
     },
     "execution_count": 41,
     "metadata": {},
     "output_type": "execute_result"
    }
   ],
   "source": [
    "rr.groupby(['year', 'scenario']).value.describe(percentiles=[0.025, 0.975])"
   ]
  },
  {
   "cell_type": "code",
   "execution_count": 33,
   "metadata": {},
   "outputs": [
    {
     "data": {
      "text/plain": [
       "(125, 2)"
      ]
     },
     "execution_count": 33,
     "metadata": {},
     "output_type": "execute_result"
    }
   ],
   "source": [
    "rr.shape"
   ]
  },
  {
   "cell_type": "code",
   "execution_count": 56,
   "metadata": {},
   "outputs": [
    {
     "data": {
      "text/plain": [
       "<matplotlib.axes._subplots.AxesSubplot at 0x14e59f5fec88>"
      ]
     },
     "execution_count": 56,
     "metadata": {},
     "output_type": "execute_result"
    },
    {
     "data": {
      "image/png": "[encoded data removed]",
      "text/plain": [
       "<Figure size 432x288 with 1 Axes>"
      ]
     },
     "metadata": {
      "needs_background": "light"
     },
     "output_type": "display_data"
    }
   ],
   "source": [
    "scenario = 'baseline'\n",
    "# scenario = 'folic_acid_fortification_scale_up'\n",
    "rr.query('scenario == @scenario').value.hist(bins=20)"
   ]
  },
  {
   "cell_type": "code",
   "execution_count": 57,
   "metadata": {},
   "outputs": [
    {
     "data": {
      "text/plain": [
       "<matplotlib.axes._subplots.AxesSubplot at 0x14e59f6477f0>"
      ]
     },
     "execution_count": 57,
     "metadata": {},
     "output_type": "execute_result"
    },
    {
     "data": {
      "image/png": "[encoded data removed]",
      "text/plain": [
       "<Figure size 432x288 with 1 Axes>"
      ]
     },
     "metadata": {
      "needs_background": "light"
     },
     "output_type": "display_data"
    }
   ],
   "source": [
    "scenario = 'folic_acid_fortification_scale_up'\n",
    "rr.query('scenario == @scenario').value.hist(bins=20)"
   ]
  },
  {
   "cell_type": "code",
   "execution_count": 55,
   "metadata": {},
   "outputs": [
    {
     "data": {
      "text/plain": [
       "<matplotlib.axes._subplots.AxesSubplot at 0x14e59f709128>"
      ]
     },
     "execution_count": 55,
     "metadata": {},
     "output_type": "execute_result"
    },
    {
     "data": {
      "image/png": "[encoded data removed]",
      "text/plain": [
       "<Figure size 432x288 with 1 Axes>"
      ]
     },
     "metadata": {
      "needs_background": "light"
     },
     "output_type": "display_data"
    }
   ],
   "source": [
    "rr.value.hist(bins=50)"
   ]
  },
  {
   "cell_type": "code",
   "execution_count": null,
   "metadata": {},
   "outputs": [],
   "source": []
  }
 ],
 "metadata": {
  "kernelspec": {
   "display_name": "Python 3",
   "language": "python",
   "name": "python3"
  },
  "language_info": {
   "codemirror_mode": {
    "name": "ipython",
    "version": 3
   },
   "file_extension": ".py",
   "mimetype": "text/x-python",
   "name": "python",
   "nbconvert_exporter": "python",
   "pygments_lexer": "ipython3",
   "version": "3.6.10"
  }
 },
 "nbformat": 4,
 "nbformat_minor": 4
}
