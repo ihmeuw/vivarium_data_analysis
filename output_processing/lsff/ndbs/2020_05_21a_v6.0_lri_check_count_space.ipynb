{
 "cells": [
  {
   "cell_type": "code",
   "execution_count": 1,
   "metadata": {},
   "outputs": [
    {
     "name": "stdout",
     "output_type": "stream",
     "text": [
      "ndbs\n",
      "Fri May 22 13:10:03 PDT 2020\n"
     ]
    }
   ],
   "source": [
    "import pandas as pd, numpy as np\n",
    "import vivarium_output_loader as vol\n",
    "import lsff_output_processing as lop\n",
    "\n",
    "!whoami\n",
    "!date"
   ]
  },
  {
   "cell_type": "code",
   "execution_count": 2,
   "metadata": {},
   "outputs": [],
   "source": [
    "%load_ext autoreload\n",
    "%autoreload 2"
   ]
  },
  {
   "cell_type": "markdown",
   "metadata": {},
   "source": [
    "## 1. Define directories and load count space data"
   ]
  },
  {
   "cell_type": "code",
   "execution_count": 5,
   "metadata": {},
   "outputs": [],
   "source": [
    "base_directory = '/share/costeffectiveness/results/vivarium_conic_lsff/00_bugfix'\n",
    "output_directory = base_directory + '/v6.0_prelim_maternal_iron_lri_bp/india_5_20'"
   ]
  },
  {
   "cell_type": "code",
   "execution_count": 6,
   "metadata": {},
   "outputs": [
    {
     "data": {
      "text/plain": [
       "dict_keys(['gestational_age', 'transition_count', 'deaths', 'state_person_time', 'births_with_ntd', 'population', 'person_time', 'ylls', 'ylds', 'births', 'birth_weight'])"
      ]
     },
     "execution_count": 6,
     "metadata": {},
     "output_type": "execute_result"
    }
   ],
   "source": [
    "data = vol.load_transformed_count_data(f'{output_directory}/count_data')\n",
    "data.keys()"
   ]
  },
  {
   "cell_type": "markdown",
   "metadata": {},
   "source": [
    "## 2. Look at deaths table; check scenarios and stratification\n",
    "\n",
    "*  No iron fortification\n",
    "*  Stratification not updated to new group definitions"
   ]
  },
  {
   "cell_type": "code",
   "execution_count": 7,
   "metadata": {},
   "outputs": [
    {
     "data": {
      "text/html": [
       "<div>\n",
       "<style scoped>\n",
       "    .dataframe tbody tr th:only-of-type {\n",
       "        vertical-align: middle;\n",
       "    }\n",
       "\n",
       "    .dataframe tbody tr th {\n",
       "        vertical-align: top;\n",
       "    }\n",
       "\n",
       "    .dataframe thead th {\n",
       "        text-align: right;\n",
       "    }\n",
       "</style>\n",
       "<table border=\"1\" class=\"dataframe\">\n",
       "  <thead>\n",
       "    <tr style=\"text-align: right;\">\n",
       "      <th></th>\n",
       "      <th>year</th>\n",
       "      <th>age_group</th>\n",
       "      <th>sex</th>\n",
       "      <th>cause</th>\n",
       "      <th>folic_acid_fortification_group</th>\n",
       "      <th>vitamin_a_fortification_group</th>\n",
       "      <th>measure</th>\n",
       "      <th>input_draw</th>\n",
       "      <th>scenario</th>\n",
       "      <th>value</th>\n",
       "    </tr>\n",
       "  </thead>\n",
       "  <tbody>\n",
       "    <tr>\n",
       "      <th>0</th>\n",
       "      <td>2020</td>\n",
       "      <td>1_to_4</td>\n",
       "      <td>female</td>\n",
       "      <td>diarrheal_diseases</td>\n",
       "      <td>covered</td>\n",
       "      <td>covered</td>\n",
       "      <td>death</td>\n",
       "      <td>29</td>\n",
       "      <td>baseline</td>\n",
       "      <td>0.0</td>\n",
       "    </tr>\n",
       "    <tr>\n",
       "      <th>1</th>\n",
       "      <td>2020</td>\n",
       "      <td>1_to_4</td>\n",
       "      <td>female</td>\n",
       "      <td>diarrheal_diseases</td>\n",
       "      <td>covered</td>\n",
       "      <td>covered</td>\n",
       "      <td>death</td>\n",
       "      <td>29</td>\n",
       "      <td>folic_acid_fortification_scale_up</td>\n",
       "      <td>0.0</td>\n",
       "    </tr>\n",
       "    <tr>\n",
       "      <th>2</th>\n",
       "      <td>2020</td>\n",
       "      <td>1_to_4</td>\n",
       "      <td>female</td>\n",
       "      <td>diarrheal_diseases</td>\n",
       "      <td>covered</td>\n",
       "      <td>covered</td>\n",
       "      <td>death</td>\n",
       "      <td>29</td>\n",
       "      <td>vitamin_a_fortification_scale_up</td>\n",
       "      <td>0.0</td>\n",
       "    </tr>\n",
       "    <tr>\n",
       "      <th>3</th>\n",
       "      <td>2020</td>\n",
       "      <td>1_to_4</td>\n",
       "      <td>female</td>\n",
       "      <td>diarrheal_diseases</td>\n",
       "      <td>covered</td>\n",
       "      <td>covered</td>\n",
       "      <td>death</td>\n",
       "      <td>232</td>\n",
       "      <td>baseline</td>\n",
       "      <td>0.0</td>\n",
       "    </tr>\n",
       "    <tr>\n",
       "      <th>4</th>\n",
       "      <td>2020</td>\n",
       "      <td>1_to_4</td>\n",
       "      <td>female</td>\n",
       "      <td>diarrheal_diseases</td>\n",
       "      <td>covered</td>\n",
       "      <td>covered</td>\n",
       "      <td>death</td>\n",
       "      <td>232</td>\n",
       "      <td>folic_acid_fortification_scale_up</td>\n",
       "      <td>0.0</td>\n",
       "    </tr>\n",
       "  </tbody>\n",
       "</table>\n",
       "</div>"
      ],
      "text/plain": [
       "   year age_group     sex               cause folic_acid_fortification_group  \\\n",
       "0  2020    1_to_4  female  diarrheal_diseases                        covered   \n",
       "1  2020    1_to_4  female  diarrheal_diseases                        covered   \n",
       "2  2020    1_to_4  female  diarrheal_diseases                        covered   \n",
       "3  2020    1_to_4  female  diarrheal_diseases                        covered   \n",
       "4  2020    1_to_4  female  diarrheal_diseases                        covered   \n",
       "\n",
       "  vitamin_a_fortification_group measure  input_draw  \\\n",
       "0                       covered   death          29   \n",
       "1                       covered   death          29   \n",
       "2                       covered   death          29   \n",
       "3                       covered   death         232   \n",
       "4                       covered   death         232   \n",
       "\n",
       "                            scenario  value  \n",
       "0                           baseline    0.0  \n",
       "1  folic_acid_fortification_scale_up    0.0  \n",
       "2   vitamin_a_fortification_scale_up    0.0  \n",
       "3                           baseline    0.0  \n",
       "4  folic_acid_fortification_scale_up    0.0  "
      ]
     },
     "execution_count": 7,
     "metadata": {},
     "output_type": "execute_result"
    }
   ],
   "source": [
    "data['deaths'].head()"
   ]
  },
  {
   "cell_type": "code",
   "execution_count": 8,
   "metadata": {},
   "outputs": [
    {
     "data": {
      "text/plain": [
       "array(['baseline', 'folic_acid_fortification_scale_up',\n",
       "       'vitamin_a_fortification_scale_up'], dtype=object)"
      ]
     },
     "execution_count": 8,
     "metadata": {},
     "output_type": "execute_result"
    }
   ],
   "source": [
    "data['deaths'].scenario.unique()"
   ]
  },
  {
   "cell_type": "code",
   "execution_count": 9,
   "metadata": {},
   "outputs": [
    {
     "data": {
      "text/plain": [
       "array(['covered', 'uncovered', 'unknown'], dtype=object)"
      ]
     },
     "execution_count": 9,
     "metadata": {},
     "output_type": "execute_result"
    }
   ],
   "source": [
    "data['deaths'].folic_acid_fortification_group.unique()"
   ]
  },
  {
   "cell_type": "code",
   "execution_count": 10,
   "metadata": {},
   "outputs": [
    {
     "data": {
      "text/plain": [
       "array(['covered', 'effectively_covered', 'uncovered'], dtype=object)"
      ]
     },
     "execution_count": 10,
     "metadata": {},
     "output_type": "execute_result"
    }
   ],
   "source": [
    "data['deaths'].vitamin_a_fortification_group.unique()"
   ]
  },
  {
   "cell_type": "markdown",
   "metadata": {},
   "source": [
    "## 3. Look at births and births_with_ntds tables"
   ]
  },
  {
   "cell_type": "code",
   "execution_count": 12,
   "metadata": {},
   "outputs": [
    {
     "data": {
      "text/html": [
       "<div>\n",
       "<style scoped>\n",
       "    .dataframe tbody tr th:only-of-type {\n",
       "        vertical-align: middle;\n",
       "    }\n",
       "\n",
       "    .dataframe tbody tr th {\n",
       "        vertical-align: top;\n",
       "    }\n",
       "\n",
       "    .dataframe thead th {\n",
       "        text-align: right;\n",
       "    }\n",
       "</style>\n",
       "<table border=\"1\" class=\"dataframe\">\n",
       "  <thead>\n",
       "    <tr style=\"text-align: right;\">\n",
       "      <th></th>\n",
       "      <th>year</th>\n",
       "      <th>sex</th>\n",
       "      <th>folic_acid_fortification_group</th>\n",
       "      <th>measure</th>\n",
       "      <th>input_draw</th>\n",
       "      <th>scenario</th>\n",
       "      <th>value</th>\n",
       "    </tr>\n",
       "  </thead>\n",
       "  <tbody>\n",
       "    <tr>\n",
       "      <th>0</th>\n",
       "      <td>2020</td>\n",
       "      <td>female</td>\n",
       "      <td>covered</td>\n",
       "      <td>live_births</td>\n",
       "      <td>29</td>\n",
       "      <td>baseline</td>\n",
       "      <td>327.0</td>\n",
       "    </tr>\n",
       "    <tr>\n",
       "      <th>1</th>\n",
       "      <td>2020</td>\n",
       "      <td>female</td>\n",
       "      <td>covered</td>\n",
       "      <td>live_births</td>\n",
       "      <td>29</td>\n",
       "      <td>baseline</td>\n",
       "      <td>5.0</td>\n",
       "    </tr>\n",
       "    <tr>\n",
       "      <th>2</th>\n",
       "      <td>2020</td>\n",
       "      <td>female</td>\n",
       "      <td>covered</td>\n",
       "      <td>live_births</td>\n",
       "      <td>29</td>\n",
       "      <td>baseline</td>\n",
       "      <td>80.0</td>\n",
       "    </tr>\n",
       "    <tr>\n",
       "      <th>3</th>\n",
       "      <td>2020</td>\n",
       "      <td>female</td>\n",
       "      <td>covered</td>\n",
       "      <td>live_births</td>\n",
       "      <td>29</td>\n",
       "      <td>folic_acid_fortification_scale_up</td>\n",
       "      <td>233.0</td>\n",
       "    </tr>\n",
       "    <tr>\n",
       "      <th>4</th>\n",
       "      <td>2020</td>\n",
       "      <td>female</td>\n",
       "      <td>covered</td>\n",
       "      <td>live_births</td>\n",
       "      <td>29</td>\n",
       "      <td>folic_acid_fortification_scale_up</td>\n",
       "      <td>4.0</td>\n",
       "    </tr>\n",
       "  </tbody>\n",
       "</table>\n",
       "</div>"
      ],
      "text/plain": [
       "   year     sex folic_acid_fortification_group      measure  input_draw  \\\n",
       "0  2020  female                        covered  live_births          29   \n",
       "1  2020  female                        covered  live_births          29   \n",
       "2  2020  female                        covered  live_births          29   \n",
       "3  2020  female                        covered  live_births          29   \n",
       "4  2020  female                        covered  live_births          29   \n",
       "\n",
       "                            scenario  value  \n",
       "0                           baseline  327.0  \n",
       "1                           baseline    5.0  \n",
       "2                           baseline   80.0  \n",
       "3  folic_acid_fortification_scale_up  233.0  \n",
       "4  folic_acid_fortification_scale_up    4.0  "
      ]
     },
     "execution_count": 12,
     "metadata": {},
     "output_type": "execute_result"
    }
   ],
   "source": [
    "data['births'].head()"
   ]
  },
  {
   "cell_type": "code",
   "execution_count": 13,
   "metadata": {},
   "outputs": [
    {
     "data": {
      "text/html": [
       "<div>\n",
       "<style scoped>\n",
       "    .dataframe tbody tr th:only-of-type {\n",
       "        vertical-align: middle;\n",
       "    }\n",
       "\n",
       "    .dataframe tbody tr th {\n",
       "        vertical-align: top;\n",
       "    }\n",
       "\n",
       "    .dataframe thead th {\n",
       "        text-align: right;\n",
       "    }\n",
       "</style>\n",
       "<table border=\"1\" class=\"dataframe\">\n",
       "  <thead>\n",
       "    <tr style=\"text-align: right;\">\n",
       "      <th></th>\n",
       "      <th>year</th>\n",
       "      <th>sex</th>\n",
       "      <th>folic_acid_fortification_group</th>\n",
       "      <th>measure</th>\n",
       "      <th>input_draw</th>\n",
       "      <th>scenario</th>\n",
       "      <th>value</th>\n",
       "    </tr>\n",
       "  </thead>\n",
       "  <tbody>\n",
       "    <tr>\n",
       "      <th>0</th>\n",
       "      <td>2020</td>\n",
       "      <td>female</td>\n",
       "      <td>covered</td>\n",
       "      <td>live_births_with_ntds</td>\n",
       "      <td>29</td>\n",
       "      <td>baseline</td>\n",
       "      <td>0.0</td>\n",
       "    </tr>\n",
       "    <tr>\n",
       "      <th>1</th>\n",
       "      <td>2020</td>\n",
       "      <td>female</td>\n",
       "      <td>covered</td>\n",
       "      <td>live_births_with_ntds</td>\n",
       "      <td>29</td>\n",
       "      <td>baseline</td>\n",
       "      <td>0.0</td>\n",
       "    </tr>\n",
       "    <tr>\n",
       "      <th>2</th>\n",
       "      <td>2020</td>\n",
       "      <td>female</td>\n",
       "      <td>covered</td>\n",
       "      <td>live_births_with_ntds</td>\n",
       "      <td>29</td>\n",
       "      <td>baseline</td>\n",
       "      <td>0.0</td>\n",
       "    </tr>\n",
       "    <tr>\n",
       "      <th>3</th>\n",
       "      <td>2020</td>\n",
       "      <td>female</td>\n",
       "      <td>covered</td>\n",
       "      <td>live_births_with_ntds</td>\n",
       "      <td>29</td>\n",
       "      <td>folic_acid_fortification_scale_up</td>\n",
       "      <td>0.0</td>\n",
       "    </tr>\n",
       "    <tr>\n",
       "      <th>4</th>\n",
       "      <td>2020</td>\n",
       "      <td>female</td>\n",
       "      <td>covered</td>\n",
       "      <td>live_births_with_ntds</td>\n",
       "      <td>29</td>\n",
       "      <td>folic_acid_fortification_scale_up</td>\n",
       "      <td>0.0</td>\n",
       "    </tr>\n",
       "  </tbody>\n",
       "</table>\n",
       "</div>"
      ],
      "text/plain": [
       "   year     sex folic_acid_fortification_group                measure  \\\n",
       "0  2020  female                        covered  live_births_with_ntds   \n",
       "1  2020  female                        covered  live_births_with_ntds   \n",
       "2  2020  female                        covered  live_births_with_ntds   \n",
       "3  2020  female                        covered  live_births_with_ntds   \n",
       "4  2020  female                        covered  live_births_with_ntds   \n",
       "\n",
       "   input_draw                           scenario  value  \n",
       "0          29                           baseline    0.0  \n",
       "1          29                           baseline    0.0  \n",
       "2          29                           baseline    0.0  \n",
       "3          29  folic_acid_fortification_scale_up    0.0  \n",
       "4          29  folic_acid_fortification_scale_up    0.0  "
      ]
     },
     "execution_count": 13,
     "metadata": {},
     "output_type": "execute_result"
    }
   ],
   "source": [
    "data['births_with_ntd'].head()"
   ]
  },
  {
   "cell_type": "code",
   "execution_count": 14,
   "metadata": {},
   "outputs": [
    {
     "data": {
      "text/plain": [
       "array(['baseline', 'folic_acid_fortification_scale_up',\n",
       "       'vitamin_a_fortification_scale_up'], dtype=object)"
      ]
     },
     "execution_count": 14,
     "metadata": {},
     "output_type": "execute_result"
    }
   ],
   "source": [
    "data['births'].scenario.unique()"
   ]
  },
  {
   "cell_type": "markdown",
   "metadata": {},
   "source": [
    "## 4. Check state person time and person time tables"
   ]
  },
  {
   "cell_type": "code",
   "execution_count": 15,
   "metadata": {},
   "outputs": [
    {
     "data": {
      "text/html": [
       "<div>\n",
       "<style scoped>\n",
       "    .dataframe tbody tr th:only-of-type {\n",
       "        vertical-align: middle;\n",
       "    }\n",
       "\n",
       "    .dataframe tbody tr th {\n",
       "        vertical-align: top;\n",
       "    }\n",
       "\n",
       "    .dataframe thead th {\n",
       "        text-align: right;\n",
       "    }\n",
       "</style>\n",
       "<table border=\"1\" class=\"dataframe\">\n",
       "  <thead>\n",
       "    <tr style=\"text-align: right;\">\n",
       "      <th></th>\n",
       "      <th>year</th>\n",
       "      <th>age_group</th>\n",
       "      <th>sex</th>\n",
       "      <th>cause</th>\n",
       "      <th>folic_acid_fortification_group</th>\n",
       "      <th>vitamin_a_fortification_group</th>\n",
       "      <th>measure</th>\n",
       "      <th>input_draw</th>\n",
       "      <th>scenario</th>\n",
       "      <th>value</th>\n",
       "    </tr>\n",
       "  </thead>\n",
       "  <tbody>\n",
       "    <tr>\n",
       "      <th>0</th>\n",
       "      <td>2020</td>\n",
       "      <td>1_to_4</td>\n",
       "      <td>female</td>\n",
       "      <td>diarrheal_diseases</td>\n",
       "      <td>covered</td>\n",
       "      <td>covered</td>\n",
       "      <td>person_time</td>\n",
       "      <td>29</td>\n",
       "      <td>baseline</td>\n",
       "      <td>0.0</td>\n",
       "    </tr>\n",
       "    <tr>\n",
       "      <th>1</th>\n",
       "      <td>2020</td>\n",
       "      <td>1_to_4</td>\n",
       "      <td>female</td>\n",
       "      <td>diarrheal_diseases</td>\n",
       "      <td>covered</td>\n",
       "      <td>covered</td>\n",
       "      <td>person_time</td>\n",
       "      <td>29</td>\n",
       "      <td>folic_acid_fortification_scale_up</td>\n",
       "      <td>0.0</td>\n",
       "    </tr>\n",
       "    <tr>\n",
       "      <th>2</th>\n",
       "      <td>2020</td>\n",
       "      <td>1_to_4</td>\n",
       "      <td>female</td>\n",
       "      <td>diarrheal_diseases</td>\n",
       "      <td>covered</td>\n",
       "      <td>covered</td>\n",
       "      <td>person_time</td>\n",
       "      <td>29</td>\n",
       "      <td>vitamin_a_fortification_scale_up</td>\n",
       "      <td>0.0</td>\n",
       "    </tr>\n",
       "    <tr>\n",
       "      <th>3</th>\n",
       "      <td>2020</td>\n",
       "      <td>1_to_4</td>\n",
       "      <td>female</td>\n",
       "      <td>diarrheal_diseases</td>\n",
       "      <td>covered</td>\n",
       "      <td>covered</td>\n",
       "      <td>person_time</td>\n",
       "      <td>232</td>\n",
       "      <td>baseline</td>\n",
       "      <td>0.0</td>\n",
       "    </tr>\n",
       "    <tr>\n",
       "      <th>4</th>\n",
       "      <td>2020</td>\n",
       "      <td>1_to_4</td>\n",
       "      <td>female</td>\n",
       "      <td>diarrheal_diseases</td>\n",
       "      <td>covered</td>\n",
       "      <td>covered</td>\n",
       "      <td>person_time</td>\n",
       "      <td>232</td>\n",
       "      <td>folic_acid_fortification_scale_up</td>\n",
       "      <td>0.0</td>\n",
       "    </tr>\n",
       "  </tbody>\n",
       "</table>\n",
       "</div>"
      ],
      "text/plain": [
       "   year age_group     sex               cause folic_acid_fortification_group  \\\n",
       "0  2020    1_to_4  female  diarrheal_diseases                        covered   \n",
       "1  2020    1_to_4  female  diarrheal_diseases                        covered   \n",
       "2  2020    1_to_4  female  diarrheal_diseases                        covered   \n",
       "3  2020    1_to_4  female  diarrheal_diseases                        covered   \n",
       "4  2020    1_to_4  female  diarrheal_diseases                        covered   \n",
       "\n",
       "  vitamin_a_fortification_group      measure  input_draw  \\\n",
       "0                       covered  person_time          29   \n",
       "1                       covered  person_time          29   \n",
       "2                       covered  person_time          29   \n",
       "3                       covered  person_time         232   \n",
       "4                       covered  person_time         232   \n",
       "\n",
       "                            scenario  value  \n",
       "0                           baseline    0.0  \n",
       "1  folic_acid_fortification_scale_up    0.0  \n",
       "2   vitamin_a_fortification_scale_up    0.0  \n",
       "3                           baseline    0.0  \n",
       "4  folic_acid_fortification_scale_up    0.0  "
      ]
     },
     "execution_count": 15,
     "metadata": {},
     "output_type": "execute_result"
    }
   ],
   "source": [
    "data['state_person_time'].head()"
   ]
  },
  {
   "cell_type": "code",
   "execution_count": 16,
   "metadata": {},
   "outputs": [
    {
     "data": {
      "text/plain": [
       "array(['diarrheal_diseases', 'lower_respiratory_infections', 'measles',\n",
       "       'neural_tube_defects', 'susceptible_to_diarrheal_diseases',\n",
       "       'susceptible_to_lower_respiratory_infections',\n",
       "       'susceptible_to_measles', 'susceptible_to_neural_tube_defects',\n",
       "       'susceptible_to_vitamin_a_deficiency', 'vitamin_a_deficiency'],\n",
       "      dtype=object)"
      ]
     },
     "execution_count": 16,
     "metadata": {},
     "output_type": "execute_result"
    }
   ],
   "source": [
    "data['state_person_time'].cause.unique()"
   ]
  },
  {
   "cell_type": "code",
   "execution_count": 17,
   "metadata": {},
   "outputs": [
    {
     "data": {
      "text/html": [
       "<div>\n",
       "<style scoped>\n",
       "    .dataframe tbody tr th:only-of-type {\n",
       "        vertical-align: middle;\n",
       "    }\n",
       "\n",
       "    .dataframe tbody tr th {\n",
       "        vertical-align: top;\n",
       "    }\n",
       "\n",
       "    .dataframe thead th {\n",
       "        text-align: right;\n",
       "    }\n",
       "</style>\n",
       "<table border=\"1\" class=\"dataframe\">\n",
       "  <thead>\n",
       "    <tr style=\"text-align: right;\">\n",
       "      <th></th>\n",
       "      <th>year</th>\n",
       "      <th>age_group</th>\n",
       "      <th>sex</th>\n",
       "      <th>folic_acid_fortification_group</th>\n",
       "      <th>vitamin_a_fortification_group</th>\n",
       "      <th>measure</th>\n",
       "      <th>input_draw</th>\n",
       "      <th>scenario</th>\n",
       "      <th>value</th>\n",
       "    </tr>\n",
       "  </thead>\n",
       "  <tbody>\n",
       "    <tr>\n",
       "      <th>0</th>\n",
       "      <td>2020</td>\n",
       "      <td>1_to_4</td>\n",
       "      <td>female</td>\n",
       "      <td>covered</td>\n",
       "      <td>covered</td>\n",
       "      <td>person_time</td>\n",
       "      <td>29</td>\n",
       "      <td>baseline</td>\n",
       "      <td>0.0</td>\n",
       "    </tr>\n",
       "    <tr>\n",
       "      <th>1</th>\n",
       "      <td>2020</td>\n",
       "      <td>1_to_4</td>\n",
       "      <td>female</td>\n",
       "      <td>covered</td>\n",
       "      <td>covered</td>\n",
       "      <td>person_time</td>\n",
       "      <td>29</td>\n",
       "      <td>folic_acid_fortification_scale_up</td>\n",
       "      <td>0.0</td>\n",
       "    </tr>\n",
       "    <tr>\n",
       "      <th>2</th>\n",
       "      <td>2020</td>\n",
       "      <td>1_to_4</td>\n",
       "      <td>female</td>\n",
       "      <td>covered</td>\n",
       "      <td>covered</td>\n",
       "      <td>person_time</td>\n",
       "      <td>29</td>\n",
       "      <td>vitamin_a_fortification_scale_up</td>\n",
       "      <td>0.0</td>\n",
       "    </tr>\n",
       "    <tr>\n",
       "      <th>3</th>\n",
       "      <td>2020</td>\n",
       "      <td>1_to_4</td>\n",
       "      <td>female</td>\n",
       "      <td>covered</td>\n",
       "      <td>covered</td>\n",
       "      <td>person_time</td>\n",
       "      <td>232</td>\n",
       "      <td>baseline</td>\n",
       "      <td>0.0</td>\n",
       "    </tr>\n",
       "    <tr>\n",
       "      <th>4</th>\n",
       "      <td>2020</td>\n",
       "      <td>1_to_4</td>\n",
       "      <td>female</td>\n",
       "      <td>covered</td>\n",
       "      <td>covered</td>\n",
       "      <td>person_time</td>\n",
       "      <td>232</td>\n",
       "      <td>folic_acid_fortification_scale_up</td>\n",
       "      <td>0.0</td>\n",
       "    </tr>\n",
       "  </tbody>\n",
       "</table>\n",
       "</div>"
      ],
      "text/plain": [
       "   year age_group     sex folic_acid_fortification_group  \\\n",
       "0  2020    1_to_4  female                        covered   \n",
       "1  2020    1_to_4  female                        covered   \n",
       "2  2020    1_to_4  female                        covered   \n",
       "3  2020    1_to_4  female                        covered   \n",
       "4  2020    1_to_4  female                        covered   \n",
       "\n",
       "  vitamin_a_fortification_group      measure  input_draw  \\\n",
       "0                       covered  person_time          29   \n",
       "1                       covered  person_time          29   \n",
       "2                       covered  person_time          29   \n",
       "3                       covered  person_time         232   \n",
       "4                       covered  person_time         232   \n",
       "\n",
       "                            scenario  value  \n",
       "0                           baseline    0.0  \n",
       "1  folic_acid_fortification_scale_up    0.0  \n",
       "2   vitamin_a_fortification_scale_up    0.0  \n",
       "3                           baseline    0.0  \n",
       "4  folic_acid_fortification_scale_up    0.0  "
      ]
     },
     "execution_count": 17,
     "metadata": {},
     "output_type": "execute_result"
    }
   ],
   "source": [
    "data['person_time'].head()"
   ]
  },
  {
   "cell_type": "markdown",
   "metadata": {},
   "source": [
    "## 5. Compute prevalences by age group"
   ]
  },
  {
   "cell_type": "code",
   "execution_count": 18,
   "metadata": {},
   "outputs": [
    {
     "data": {
      "text/html": [
       "<div>\n",
       "<style scoped>\n",
       "    .dataframe tbody tr th:only-of-type {\n",
       "        vertical-align: middle;\n",
       "    }\n",
       "\n",
       "    .dataframe tbody tr th {\n",
       "        vertical-align: top;\n",
       "    }\n",
       "\n",
       "    .dataframe thead th {\n",
       "        text-align: right;\n",
       "    }\n",
       "</style>\n",
       "<table border=\"1\" class=\"dataframe\">\n",
       "  <thead>\n",
       "    <tr style=\"text-align: right;\">\n",
       "      <th></th>\n",
       "      <th>year</th>\n",
       "      <th>age_group</th>\n",
       "      <th>input_draw</th>\n",
       "      <th>scenario</th>\n",
       "      <th>cause</th>\n",
       "      <th>value</th>\n",
       "    </tr>\n",
       "  </thead>\n",
       "  <tbody>\n",
       "    <tr>\n",
       "      <th>0</th>\n",
       "      <td>2020</td>\n",
       "      <td>1_to_4</td>\n",
       "      <td>29</td>\n",
       "      <td>baseline</td>\n",
       "      <td>diarrheal_diseases</td>\n",
       "      <td>1.257451</td>\n",
       "    </tr>\n",
       "    <tr>\n",
       "      <th>1</th>\n",
       "      <td>2020</td>\n",
       "      <td>1_to_4</td>\n",
       "      <td>29</td>\n",
       "      <td>baseline</td>\n",
       "      <td>lower_respiratory_infections</td>\n",
       "      <td>0.281531</td>\n",
       "    </tr>\n",
       "    <tr>\n",
       "      <th>2</th>\n",
       "      <td>2020</td>\n",
       "      <td>1_to_4</td>\n",
       "      <td>29</td>\n",
       "      <td>baseline</td>\n",
       "      <td>measles</td>\n",
       "      <td>0.115051</td>\n",
       "    </tr>\n",
       "    <tr>\n",
       "      <th>3</th>\n",
       "      <td>2020</td>\n",
       "      <td>1_to_4</td>\n",
       "      <td>29</td>\n",
       "      <td>baseline</td>\n",
       "      <td>neural_tube_defects</td>\n",
       "      <td>0.050326</td>\n",
       "    </tr>\n",
       "    <tr>\n",
       "      <th>4</th>\n",
       "      <td>2020</td>\n",
       "      <td>1_to_4</td>\n",
       "      <td>29</td>\n",
       "      <td>baseline</td>\n",
       "      <td>susceptible_to_diarrheal_diseases</td>\n",
       "      <td>98.199246</td>\n",
       "    </tr>\n",
       "  </tbody>\n",
       "</table>\n",
       "</div>"
      ],
      "text/plain": [
       "   year age_group  input_draw  scenario                              cause  \\\n",
       "0  2020    1_to_4          29  baseline                 diarrheal_diseases   \n",
       "1  2020    1_to_4          29  baseline       lower_respiratory_infections   \n",
       "2  2020    1_to_4          29  baseline                            measles   \n",
       "3  2020    1_to_4          29  baseline                neural_tube_defects   \n",
       "4  2020    1_to_4          29  baseline  susceptible_to_diarrheal_diseases   \n",
       "\n",
       "       value  \n",
       "0   1.257451  \n",
       "1   0.281531  \n",
       "2   0.115051  \n",
       "3   0.050326  \n",
       "4  98.199246  "
      ]
     },
     "execution_count": 18,
     "metadata": {},
     "output_type": "execute_result"
    }
   ],
   "source": [
    "numerator_strata = ['year', 'age_group']\n",
    "denominator_strata = ['year', 'age_group']\n",
    "multiplier = 100 # Get prevalences as percents\n",
    "broadcast_cols = ['cause'] # Broadcast over cause column in state person time\n",
    "\n",
    "prevalence = lop.rate_or_ratio(data['state_person_time'],\n",
    "                               data['person_time'],\n",
    "                               numerator_strata,\n",
    "                               denominator_strata,\n",
    "                               multiplier,\n",
    "                               broadcast_cols,\n",
    "                              )\n",
    "prevalence.head()"
   ]
  },
  {
   "cell_type": "markdown",
   "metadata": {},
   "source": [
    "## 6. Test some pandas functions"
   ]
  },
  {
   "cell_type": "code",
   "execution_count": 19,
   "metadata": {},
   "outputs": [
    {
     "data": {
      "text/plain": [
       "0  year                        2020\n",
       "   age_group                 1_to_4\n",
       "   input_draw                    29\n",
       "   scenario                baseline\n",
       "   cause         diarrheal_diseases\n",
       "   value                    1.25745\n",
       "1  year                        2020\n",
       "   age_group                 1_to_4\n",
       "   input_draw                    29\n",
       "   scenario                baseline\n",
       "dtype: object"
      ]
     },
     "execution_count": 19,
     "metadata": {},
     "output_type": "execute_result"
    }
   ],
   "source": [
    "prevalence.stack().head(10)"
   ]
  },
  {
   "cell_type": "code",
   "execution_count": null,
   "metadata": {},
   "outputs": [],
   "source": []
  }
 ],
 "metadata": {
  "kernelspec": {
   "display_name": "Python 3",
   "language": "python",
   "name": "python3"
  },
  "language_info": {
   "codemirror_mode": {
    "name": "ipython",
    "version": 3
   },
   "file_extension": ".py",
   "mimetype": "text/x-python",
   "name": "python",
   "nbconvert_exporter": "python",
   "pygments_lexer": "ipython3",
   "version": "3.6.10"
  }
 },
 "nbformat": 4,
 "nbformat_minor": 4
}
