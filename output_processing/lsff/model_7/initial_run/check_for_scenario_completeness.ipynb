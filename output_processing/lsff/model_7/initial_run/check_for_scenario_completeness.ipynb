{
 "cells": [
  {
   "cell_type": "code",
   "execution_count": 5,
   "metadata": {},
   "outputs": [
    {
     "name": "stdout",
     "output_type": "stream",
     "text": [
      "alibow\n",
      "Wed Jun  3 11:42:50 PDT 2020\n"
     ]
    }
   ],
   "source": [
    "from vivarium import Artifact\n",
    "import pandas as pd\n",
    "import numpy as np\n",
    "import seaborn as sns\n",
    "import matplotlib.pyplot as plt\n",
    "from db_queries import get_ids, get_outputs\n",
    "import scipy.stats\n",
    "\n",
    "!whoami\n",
    "!date"
   ]
  },
  {
   "cell_type": "code",
   "execution_count": 6,
   "metadata": {},
   "outputs": [],
   "source": [
    "output_dirs = ['/ihme/costeffectiveness/results/vivarium_conic_lsff/00_bugfix/v6.0_prelim_maternal_iron_lri_bp/india_5_20/count_data/']\n",
    "\n",
    "locations = ['India']"
   ]
  },
  {
   "cell_type": "code",
   "execution_count": 7,
   "metadata": {},
   "outputs": [],
   "source": [
    "# available data frames\n",
    "\n",
    "# births\n",
    "# births_with_ntd\n",
    "# birth_weight\n",
    "# deaths\n",
    "# gestational_age\n",
    "# person_time\n",
    "# population\n",
    "# state_person_time\n",
    "# transition_count\n",
    "# ylds\n",
    "# ylls"
   ]
  },
  {
   "cell_type": "code",
   "execution_count": 8,
   "metadata": {},
   "outputs": [
    {
     "data": {
      "text/html": [
       "<div>\n",
       "<style scoped>\n",
       "    .dataframe tbody tr th:only-of-type {\n",
       "        vertical-align: middle;\n",
       "    }\n",
       "\n",
       "    .dataframe tbody tr th {\n",
       "        vertical-align: top;\n",
       "    }\n",
       "\n",
       "    .dataframe thead th {\n",
       "        text-align: right;\n",
       "    }\n",
       "</style>\n",
       "<table border=\"1\" class=\"dataframe\">\n",
       "  <thead>\n",
       "    <tr style=\"text-align: right;\">\n",
       "      <th></th>\n",
       "      <th>year</th>\n",
       "      <th>age_group</th>\n",
       "      <th>sex</th>\n",
       "      <th>cause</th>\n",
       "      <th>folic_acid_fortification_group</th>\n",
       "      <th>vitamin_a_fortification_group</th>\n",
       "      <th>measure</th>\n",
       "      <th>input_draw</th>\n",
       "      <th>scenario</th>\n",
       "      <th>value</th>\n",
       "    </tr>\n",
       "  </thead>\n",
       "  <tbody>\n",
       "    <tr>\n",
       "      <th>0</th>\n",
       "      <td>2020</td>\n",
       "      <td>1_to_4</td>\n",
       "      <td>female</td>\n",
       "      <td>diarrheal_diseases</td>\n",
       "      <td>covered</td>\n",
       "      <td>covered</td>\n",
       "      <td>death</td>\n",
       "      <td>29</td>\n",
       "      <td>baseline</td>\n",
       "      <td>0.0</td>\n",
       "    </tr>\n",
       "    <tr>\n",
       "      <th>1</th>\n",
       "      <td>2020</td>\n",
       "      <td>1_to_4</td>\n",
       "      <td>female</td>\n",
       "      <td>diarrheal_diseases</td>\n",
       "      <td>covered</td>\n",
       "      <td>covered</td>\n",
       "      <td>death</td>\n",
       "      <td>29</td>\n",
       "      <td>folic_acid_fortification_scale_up</td>\n",
       "      <td>0.0</td>\n",
       "    </tr>\n",
       "    <tr>\n",
       "      <th>2</th>\n",
       "      <td>2020</td>\n",
       "      <td>1_to_4</td>\n",
       "      <td>female</td>\n",
       "      <td>diarrheal_diseases</td>\n",
       "      <td>covered</td>\n",
       "      <td>covered</td>\n",
       "      <td>death</td>\n",
       "      <td>29</td>\n",
       "      <td>vitamin_a_fortification_scale_up</td>\n",
       "      <td>0.0</td>\n",
       "    </tr>\n",
       "    <tr>\n",
       "      <th>3</th>\n",
       "      <td>2020</td>\n",
       "      <td>1_to_4</td>\n",
       "      <td>female</td>\n",
       "      <td>diarrheal_diseases</td>\n",
       "      <td>covered</td>\n",
       "      <td>covered</td>\n",
       "      <td>death</td>\n",
       "      <td>232</td>\n",
       "      <td>baseline</td>\n",
       "      <td>0.0</td>\n",
       "    </tr>\n",
       "    <tr>\n",
       "      <th>4</th>\n",
       "      <td>2020</td>\n",
       "      <td>1_to_4</td>\n",
       "      <td>female</td>\n",
       "      <td>diarrheal_diseases</td>\n",
       "      <td>covered</td>\n",
       "      <td>covered</td>\n",
       "      <td>death</td>\n",
       "      <td>232</td>\n",
       "      <td>folic_acid_fortification_scale_up</td>\n",
       "      <td>0.0</td>\n",
       "    </tr>\n",
       "  </tbody>\n",
       "</table>\n",
       "</div>"
      ],
      "text/plain": [
       "   year age_group     sex               cause folic_acid_fortification_group  \\\n",
       "0  2020    1_to_4  female  diarrheal_diseases                        covered   \n",
       "1  2020    1_to_4  female  diarrheal_diseases                        covered   \n",
       "2  2020    1_to_4  female  diarrheal_diseases                        covered   \n",
       "3  2020    1_to_4  female  diarrheal_diseases                        covered   \n",
       "4  2020    1_to_4  female  diarrheal_diseases                        covered   \n",
       "\n",
       "  vitamin_a_fortification_group measure  input_draw  \\\n",
       "0                       covered   death          29   \n",
       "1                       covered   death          29   \n",
       "2                       covered   death          29   \n",
       "3                       covered   death         232   \n",
       "4                       covered   death         232   \n",
       "\n",
       "                            scenario  value  \n",
       "0                           baseline    0.0  \n",
       "1  folic_acid_fortification_scale_up    0.0  \n",
       "2   vitamin_a_fortification_scale_up    0.0  \n",
       "3                           baseline    0.0  \n",
       "4  folic_acid_fortification_scale_up    0.0  "
      ]
     },
     "execution_count": 8,
     "metadata": {},
     "output_type": "execute_result"
    }
   ],
   "source": [
    "test = pd.read_hdf(output_dirs[0] + 'deaths.hdf')\n",
    "test.head()"
   ]
  },
  {
   "cell_type": "code",
   "execution_count": 9,
   "metadata": {},
   "outputs": [
    {
     "data": {
      "text/plain": [
       "array(['baseline', 'folic_acid_fortification_scale_up',\n",
       "       'vitamin_a_fortification_scale_up'], dtype=object)"
      ]
     },
     "execution_count": 9,
     "metadata": {},
     "output_type": "execute_result"
    }
   ],
   "source": [
    "# view all scenarios in dataframe\n",
    "np.unique(test['scenario'])"
   ]
  },
  {
   "cell_type": "code",
   "execution_count": 10,
   "metadata": {},
   "outputs": [
    {
     "data": {
      "text/plain": [
       "True"
      ]
     },
     "execution_count": 10,
     "metadata": {},
     "output_type": "execute_result"
    }
   ],
   "source": [
    "# check to see if each scenario has the same number of rows\n",
    "len(test.where(test['scenario'] == 'baseline').dropna()) == len(test.where(test['scenario'] == 'folic_acid_fortification_scale_up').dropna()) == len(test.where(test['scenario'] == 'vitamin_a_fortification_scale_up').dropna()) "
   ]
  },
  {
   "cell_type": "markdown",
   "metadata": {},
   "source": [
    "## There appears to be no iron_fortification_scale_up scenario in the count_space data"
   ]
  },
  {
   "cell_type": "code",
   "execution_count": 11,
   "metadata": {},
   "outputs": [],
   "source": [
    "# check output.hdf file\n",
    "\n",
    "output = ['/ihme/costeffectiveness/results/vivarium_conic_lsff/00_bugfix/v6.0_prelim_maternal_iron_lri_bp/india_5_20/']"
   ]
  },
  {
   "cell_type": "code",
   "execution_count": 12,
   "metadata": {},
   "outputs": [
    {
     "data": {
      "text/html": [
       "<div>\n",
       "<style scoped>\n",
       "    .dataframe tbody tr th:only-of-type {\n",
       "        vertical-align: middle;\n",
       "    }\n",
       "\n",
       "    .dataframe tbody tr th {\n",
       "        vertical-align: top;\n",
       "    }\n",
       "\n",
       "    .dataframe thead th {\n",
       "        text-align: right;\n",
       "    }\n",
       "</style>\n",
       "<table border=\"1\" class=\"dataframe\">\n",
       "  <thead>\n",
       "    <tr style=\"text-align: right;\">\n",
       "      <th></th>\n",
       "      <th></th>\n",
       "      <th>total_population_untracked</th>\n",
       "      <th>total_population_tracked</th>\n",
       "      <th>total_population</th>\n",
       "      <th>diarrheal_diseases_prevalent_cases_at_sim_end</th>\n",
       "      <th>susceptible_to_diarrheal_diseases_event_count</th>\n",
       "      <th>diarrheal_diseases_event_count</th>\n",
       "      <th>measles_prevalent_cases_at_sim_end</th>\n",
       "      <th>susceptible_to_measles_event_count</th>\n",
       "      <th>measles_event_count</th>\n",
       "      <th>recovered_from_measles_event_count</th>\n",
       "      <th>...</th>\n",
       "      <th>person_time_in_2025_among_male_in_age_group_late_neonatal_folic_acid_covered_vitamin_a_effectively_covered</th>\n",
       "      <th>person_time_in_2025_among_female_in_age_group_late_neonatal_folic_acid_covered_vitamin_a_effectively_covered</th>\n",
       "      <th>person_time_in_2025_among_male_in_age_group_post_neonatal_folic_acid_covered_vitamin_a_effectively_covered</th>\n",
       "      <th>person_time_in_2025_among_female_in_age_group_post_neonatal_folic_acid_covered_vitamin_a_effectively_covered</th>\n",
       "      <th>person_time_in_2025_among_male_in_age_group_1_to_4_folic_acid_covered_vitamin_a_effectively_covered</th>\n",
       "      <th>person_time_in_2025_among_female_in_age_group_1_to_4_folic_acid_covered_vitamin_a_effectively_covered</th>\n",
       "      <th>ylls_due_to_other_causes_in_2023_among_female_in_age_group_post_neonatal_folic_acid_covered_vitamin_a_effectively_covered</th>\n",
       "      <th>ylls_due_to_other_causes_in_2025_among_female_in_age_group_1_to_4_folic_acid_covered_vitamin_a_effectively_covered</th>\n",
       "      <th>years_of_life_lost</th>\n",
       "      <th>fortification_intervention.scenario</th>\n",
       "    </tr>\n",
       "    <tr>\n",
       "      <th>input_draw_number</th>\n",
       "      <th>random_seed</th>\n",
       "      <th></th>\n",
       "      <th></th>\n",
       "      <th></th>\n",
       "      <th></th>\n",
       "      <th></th>\n",
       "      <th></th>\n",
       "      <th></th>\n",
       "      <th></th>\n",
       "      <th></th>\n",
       "      <th></th>\n",
       "      <th></th>\n",
       "      <th></th>\n",
       "      <th></th>\n",
       "      <th></th>\n",
       "      <th></th>\n",
       "      <th></th>\n",
       "      <th></th>\n",
       "      <th></th>\n",
       "      <th></th>\n",
       "      <th></th>\n",
       "      <th></th>\n",
       "    </tr>\n",
       "  </thead>\n",
       "  <tbody>\n",
       "    <tr>\n",
       "      <th>232.0</th>\n",
       "      <th>154.0</th>\n",
       "      <td>9957.0</td>\n",
       "      <td>9505.0</td>\n",
       "      <td>19462.0</td>\n",
       "      <td>92.0</td>\n",
       "      <td>18528.0</td>\n",
       "      <td>18657.0</td>\n",
       "      <td>1057.0</td>\n",
       "      <td>0.0</td>\n",
       "      <td>1069.0</td>\n",
       "      <td>1053.0</td>\n",
       "      <td>...</td>\n",
       "      <td>0.267921</td>\n",
       "      <td>0.050443</td>\n",
       "      <td>16.121913</td>\n",
       "      <td>16.388203</td>\n",
       "      <td>110.142649</td>\n",
       "      <td>99.221861</td>\n",
       "      <td>87.253263</td>\n",
       "      <td>84.19715</td>\n",
       "      <td>31460.221705</td>\n",
       "      <td>vitamin_a_fortification_scale_up</td>\n",
       "    </tr>\n",
       "    <tr>\n",
       "      <th>357.0</th>\n",
       "      <th>161.0</th>\n",
       "      <td>9949.0</td>\n",
       "      <td>9539.0</td>\n",
       "      <td>19488.0</td>\n",
       "      <td>126.0</td>\n",
       "      <td>21780.0</td>\n",
       "      <td>21941.0</td>\n",
       "      <td>347.0</td>\n",
       "      <td>0.0</td>\n",
       "      <td>352.0</td>\n",
       "      <td>349.0</td>\n",
       "      <td>...</td>\n",
       "      <td>0.056437</td>\n",
       "      <td>0.057534</td>\n",
       "      <td>18.025488</td>\n",
       "      <td>16.306356</td>\n",
       "      <td>91.043332</td>\n",
       "      <td>81.294460</td>\n",
       "      <td>0.000000</td>\n",
       "      <td>0.00000</td>\n",
       "      <td>31313.488284</td>\n",
       "      <td>vitamin_a_fortification_scale_up</td>\n",
       "    </tr>\n",
       "    <tr>\n",
       "      <th>29.0</th>\n",
       "      <th>161.0</th>\n",
       "      <td>9953.0</td>\n",
       "      <td>9677.0</td>\n",
       "      <td>19630.0</td>\n",
       "      <td>142.0</td>\n",
       "      <td>21800.0</td>\n",
       "      <td>21975.0</td>\n",
       "      <td>1103.0</td>\n",
       "      <td>0.0</td>\n",
       "      <td>1112.0</td>\n",
       "      <td>1092.0</td>\n",
       "      <td>...</td>\n",
       "      <td>0.063249</td>\n",
       "      <td>0.257110</td>\n",
       "      <td>13.406808</td>\n",
       "      <td>17.544519</td>\n",
       "      <td>44.881089</td>\n",
       "      <td>44.982143</td>\n",
       "      <td>0.000000</td>\n",
       "      <td>0.00000</td>\n",
       "      <td>29779.710979</td>\n",
       "      <td>folic_acid_fortification_scale_up</td>\n",
       "    </tr>\n",
       "    <tr>\n",
       "      <th>357.0</th>\n",
       "      <th>161.0</th>\n",
       "      <td>9949.0</td>\n",
       "      <td>9539.0</td>\n",
       "      <td>19488.0</td>\n",
       "      <td>149.0</td>\n",
       "      <td>24840.0</td>\n",
       "      <td>25028.0</td>\n",
       "      <td>422.0</td>\n",
       "      <td>0.0</td>\n",
       "      <td>429.0</td>\n",
       "      <td>426.0</td>\n",
       "      <td>...</td>\n",
       "      <td>0.057534</td>\n",
       "      <td>0.092722</td>\n",
       "      <td>15.624966</td>\n",
       "      <td>14.663746</td>\n",
       "      <td>35.134811</td>\n",
       "      <td>27.268302</td>\n",
       "      <td>0.000000</td>\n",
       "      <td>0.00000</td>\n",
       "      <td>31661.318862</td>\n",
       "      <td>folic_acid_fortification_scale_up</td>\n",
       "    </tr>\n",
       "    <tr>\n",
       "      <th>680.0</th>\n",
       "      <th>67.0</th>\n",
       "      <td>9963.0</td>\n",
       "      <td>9596.0</td>\n",
       "      <td>19559.0</td>\n",
       "      <td>139.0</td>\n",
       "      <td>25258.0</td>\n",
       "      <td>25458.0</td>\n",
       "      <td>689.0</td>\n",
       "      <td>0.0</td>\n",
       "      <td>693.0</td>\n",
       "      <td>679.0</td>\n",
       "      <td>...</td>\n",
       "      <td>0.123521</td>\n",
       "      <td>0.223845</td>\n",
       "      <td>18.045889</td>\n",
       "      <td>15.293927</td>\n",
       "      <td>41.126963</td>\n",
       "      <td>36.763314</td>\n",
       "      <td>0.000000</td>\n",
       "      <td>0.00000</td>\n",
       "      <td>31034.534953</td>\n",
       "      <td>folic_acid_fortification_scale_up</td>\n",
       "    </tr>\n",
       "  </tbody>\n",
       "</table>\n",
       "<p>5 rows × 15417 columns</p>\n",
       "</div>"
      ],
      "text/plain": [
       "                               total_population_untracked  \\\n",
       "input_draw_number random_seed                               \n",
       "232.0             154.0                            9957.0   \n",
       "357.0             161.0                            9949.0   \n",
       "29.0              161.0                            9953.0   \n",
       "357.0             161.0                            9949.0   \n",
       "680.0             67.0                             9963.0   \n",
       "\n",
       "                               total_population_tracked  total_population  \\\n",
       "input_draw_number random_seed                                               \n",
       "232.0             154.0                          9505.0           19462.0   \n",
       "357.0             161.0                          9539.0           19488.0   \n",
       "29.0              161.0                          9677.0           19630.0   \n",
       "357.0             161.0                          9539.0           19488.0   \n",
       "680.0             67.0                           9596.0           19559.0   \n",
       "\n",
       "                               diarrheal_diseases_prevalent_cases_at_sim_end  \\\n",
       "input_draw_number random_seed                                                  \n",
       "232.0             154.0                                                 92.0   \n",
       "357.0             161.0                                                126.0   \n",
       "29.0              161.0                                                142.0   \n",
       "357.0             161.0                                                149.0   \n",
       "680.0             67.0                                                 139.0   \n",
       "\n",
       "                               susceptible_to_diarrheal_diseases_event_count  \\\n",
       "input_draw_number random_seed                                                  \n",
       "232.0             154.0                                              18528.0   \n",
       "357.0             161.0                                              21780.0   \n",
       "29.0              161.0                                              21800.0   \n",
       "357.0             161.0                                              24840.0   \n",
       "680.0             67.0                                               25258.0   \n",
       "\n",
       "                               diarrheal_diseases_event_count  \\\n",
       "input_draw_number random_seed                                   \n",
       "232.0             154.0                               18657.0   \n",
       "357.0             161.0                               21941.0   \n",
       "29.0              161.0                               21975.0   \n",
       "357.0             161.0                               25028.0   \n",
       "680.0             67.0                                25458.0   \n",
       "\n",
       "                               measles_prevalent_cases_at_sim_end  \\\n",
       "input_draw_number random_seed                                       \n",
       "232.0             154.0                                    1057.0   \n",
       "357.0             161.0                                     347.0   \n",
       "29.0              161.0                                    1103.0   \n",
       "357.0             161.0                                     422.0   \n",
       "680.0             67.0                                      689.0   \n",
       "\n",
       "                               susceptible_to_measles_event_count  \\\n",
       "input_draw_number random_seed                                       \n",
       "232.0             154.0                                       0.0   \n",
       "357.0             161.0                                       0.0   \n",
       "29.0              161.0                                       0.0   \n",
       "357.0             161.0                                       0.0   \n",
       "680.0             67.0                                        0.0   \n",
       "\n",
       "                               measles_event_count  \\\n",
       "input_draw_number random_seed                        \n",
       "232.0             154.0                     1069.0   \n",
       "357.0             161.0                      352.0   \n",
       "29.0              161.0                     1112.0   \n",
       "357.0             161.0                      429.0   \n",
       "680.0             67.0                       693.0   \n",
       "\n",
       "                               recovered_from_measles_event_count  ...  \\\n",
       "input_draw_number random_seed                                      ...   \n",
       "232.0             154.0                                    1053.0  ...   \n",
       "357.0             161.0                                     349.0  ...   \n",
       "29.0              161.0                                    1092.0  ...   \n",
       "357.0             161.0                                     426.0  ...   \n",
       "680.0             67.0                                      679.0  ...   \n",
       "\n",
       "                               person_time_in_2025_among_male_in_age_group_late_neonatal_folic_acid_covered_vitamin_a_effectively_covered  \\\n",
       "input_draw_number random_seed                                                                                                               \n",
       "232.0             154.0                                                 0.267921                                                            \n",
       "357.0             161.0                                                 0.056437                                                            \n",
       "29.0              161.0                                                 0.063249                                                            \n",
       "357.0             161.0                                                 0.057534                                                            \n",
       "680.0             67.0                                                  0.123521                                                            \n",
       "\n",
       "                               person_time_in_2025_among_female_in_age_group_late_neonatal_folic_acid_covered_vitamin_a_effectively_covered  \\\n",
       "input_draw_number random_seed                                                                                                                 \n",
       "232.0             154.0                                                 0.050443                                                              \n",
       "357.0             161.0                                                 0.057534                                                              \n",
       "29.0              161.0                                                 0.257110                                                              \n",
       "357.0             161.0                                                 0.092722                                                              \n",
       "680.0             67.0                                                  0.223845                                                              \n",
       "\n",
       "                               person_time_in_2025_among_male_in_age_group_post_neonatal_folic_acid_covered_vitamin_a_effectively_covered  \\\n",
       "input_draw_number random_seed                                                                                                               \n",
       "232.0             154.0                                                16.121913                                                            \n",
       "357.0             161.0                                                18.025488                                                            \n",
       "29.0              161.0                                                13.406808                                                            \n",
       "357.0             161.0                                                15.624966                                                            \n",
       "680.0             67.0                                                 18.045889                                                            \n",
       "\n",
       "                               person_time_in_2025_among_female_in_age_group_post_neonatal_folic_acid_covered_vitamin_a_effectively_covered  \\\n",
       "input_draw_number random_seed                                                                                                                 \n",
       "232.0             154.0                                                16.388203                                                              \n",
       "357.0             161.0                                                16.306356                                                              \n",
       "29.0              161.0                                                17.544519                                                              \n",
       "357.0             161.0                                                14.663746                                                              \n",
       "680.0             67.0                                                 15.293927                                                              \n",
       "\n",
       "                               person_time_in_2025_among_male_in_age_group_1_to_4_folic_acid_covered_vitamin_a_effectively_covered  \\\n",
       "input_draw_number random_seed                                                                                                        \n",
       "232.0             154.0                                               110.142649                                                     \n",
       "357.0             161.0                                                91.043332                                                     \n",
       "29.0              161.0                                                44.881089                                                     \n",
       "357.0             161.0                                                35.134811                                                     \n",
       "680.0             67.0                                                 41.126963                                                     \n",
       "\n",
       "                               person_time_in_2025_among_female_in_age_group_1_to_4_folic_acid_covered_vitamin_a_effectively_covered  \\\n",
       "input_draw_number random_seed                                                                                                          \n",
       "232.0             154.0                                                99.221861                                                       \n",
       "357.0             161.0                                                81.294460                                                       \n",
       "29.0              161.0                                                44.982143                                                       \n",
       "357.0             161.0                                                27.268302                                                       \n",
       "680.0             67.0                                                 36.763314                                                       \n",
       "\n",
       "                               ylls_due_to_other_causes_in_2023_among_female_in_age_group_post_neonatal_folic_acid_covered_vitamin_a_effectively_covered  \\\n",
       "input_draw_number random_seed                                                                                                                              \n",
       "232.0             154.0                                                87.253263                                                                           \n",
       "357.0             161.0                                                 0.000000                                                                           \n",
       "29.0              161.0                                                 0.000000                                                                           \n",
       "357.0             161.0                                                 0.000000                                                                           \n",
       "680.0             67.0                                                  0.000000                                                                           \n",
       "\n",
       "                               ylls_due_to_other_causes_in_2025_among_female_in_age_group_1_to_4_folic_acid_covered_vitamin_a_effectively_covered  \\\n",
       "input_draw_number random_seed                                                                                                                       \n",
       "232.0             154.0                                                 84.19715                                                                    \n",
       "357.0             161.0                                                  0.00000                                                                    \n",
       "29.0              161.0                                                  0.00000                                                                    \n",
       "357.0             161.0                                                  0.00000                                                                    \n",
       "680.0             67.0                                                   0.00000                                                                    \n",
       "\n",
       "                               years_of_life_lost  \\\n",
       "input_draw_number random_seed                       \n",
       "232.0             154.0              31460.221705   \n",
       "357.0             161.0              31313.488284   \n",
       "29.0              161.0              29779.710979   \n",
       "357.0             161.0              31661.318862   \n",
       "680.0             67.0               31034.534953   \n",
       "\n",
       "                               fortification_intervention.scenario  \n",
       "input_draw_number random_seed                                       \n",
       "232.0             154.0           vitamin_a_fortification_scale_up  \n",
       "357.0             161.0           vitamin_a_fortification_scale_up  \n",
       "29.0              161.0          folic_acid_fortification_scale_up  \n",
       "357.0             161.0          folic_acid_fortification_scale_up  \n",
       "680.0             67.0           folic_acid_fortification_scale_up  \n",
       "\n",
       "[5 rows x 15417 columns]"
      ]
     },
     "execution_count": 12,
     "metadata": {},
     "output_type": "execute_result"
    }
   ],
   "source": [
    "test = pd.read_hdf(output[0] + 'output.hdf')\n",
    "test.head()"
   ]
  },
  {
   "cell_type": "code",
   "execution_count": 13,
   "metadata": {},
   "outputs": [
    {
     "data": {
      "text/plain": [
       "array(['baseline', 'folic_acid_fortification_scale_up',\n",
       "       'vitamin_a_fortification_scale_up'], dtype=object)"
      ]
     },
     "execution_count": 13,
     "metadata": {},
     "output_type": "execute_result"
    }
   ],
   "source": [
    "np.unique(test['fortification_intervention.scenario'])"
   ]
  },
  {
   "cell_type": "code",
   "execution_count": 14,
   "metadata": {},
   "outputs": [
    {
     "data": {
      "text/plain": [
       "False"
      ]
     },
     "execution_count": 14,
     "metadata": {},
     "output_type": "execute_result"
    }
   ],
   "source": [
    "# check to see if each scenario has the same number of rows\n",
    "len(test.where(test['fortification_intervention.scenario'] == 'baseline').dropna()) == len(test.where(test['fortification_intervention.scenario'] == 'folic_acid_fortification_scale_up').dropna()) == len(test.where(test['fortification_intervention.scenario'] == 'vitamin_a_fortification_scale_up').dropna()) "
   ]
  },
  {
   "cell_type": "code",
   "execution_count": 15,
   "metadata": {},
   "outputs": [
    {
     "data": {
      "text/plain": [
       "101"
      ]
     },
     "execution_count": 15,
     "metadata": {},
     "output_type": "execute_result"
    }
   ],
   "source": [
    "len(test.where(test['fortification_intervention.scenario'] == 'baseline').dropna())"
   ]
  },
  {
   "cell_type": "code",
   "execution_count": 16,
   "metadata": {},
   "outputs": [
    {
     "data": {
      "text/plain": [
       "92"
      ]
     },
     "execution_count": 16,
     "metadata": {},
     "output_type": "execute_result"
    }
   ],
   "source": [
    "len(test.where(test['fortification_intervention.scenario'] == 'folic_acid_fortification_scale_up').dropna())"
   ]
  },
  {
   "cell_type": "code",
   "execution_count": 17,
   "metadata": {},
   "outputs": [
    {
     "data": {
      "text/plain": [
       "115"
      ]
     },
     "execution_count": 17,
     "metadata": {},
     "output_type": "execute_result"
    }
   ],
   "source": [
    "len(test.where(test['fortification_intervention.scenario'] == 'vitamin_a_fortification_scale_up').dropna())"
   ]
  },
  {
   "cell_type": "markdown",
   "metadata": {},
   "source": [
    "## There are not the same number of runs for each scenario, there appears to be no iron_fortification_scale_up scenario"
   ]
  }
 ],
 "metadata": {
  "kernelspec": {
   "display_name": "Python 3",
   "language": "python",
   "name": "python3"
  },
  "language_info": {
   "codemirror_mode": {
    "name": "ipython",
    "version": 3
   },
   "file_extension": ".py",
   "mimetype": "text/x-python",
   "name": "python",
   "nbconvert_exporter": "python",
   "pygments_lexer": "ipython3",
   "version": "3.6.9"
  }
 },
 "nbformat": 4,
 "nbformat_minor": 2
}
