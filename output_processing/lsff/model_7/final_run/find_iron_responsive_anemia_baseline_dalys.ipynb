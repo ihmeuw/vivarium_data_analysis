{
 "cells": [
  {
   "cell_type": "code",
   "execution_count": 2,
   "metadata": {},
   "outputs": [
    {
     "name": "stdout",
     "output_type": "stream",
     "text": [
      "alibow\n",
      "Tue Jun 30 12:33:40 PDT 2020\n"
     ]
    }
   ],
   "source": [
    "from vivarium import Artifact\n",
    "import pandas as pd\n",
    "import numpy as np\n",
    "import seaborn as sns\n",
    "import matplotlib.pyplot as plt\n",
    "from db_queries import get_ids, get_outputs\n",
    "import scipy.stats\n",
    "\n",
    "!whoami\n",
    "!date"
   ]
  },
  {
   "cell_type": "markdown",
   "metadata": {},
   "source": [
    "This notebook is to find the DALYs due to all iron responsive anemias for Nigeria among children under 5 according to GBD 2017 for baseline burden statistics for the LSFF presentation to BMGF. The list of sequela IDs in the cell below was taken from the iron responsive anemia risk attributable cause model document (https://vivarium-research.readthedocs.io/en/latest/gbd2017_models/risk_attributable_causes/iron_deficiency/index.html)"
   ]
  },
  {
   "cell_type": "code",
   "execution_count": 20,
   "metadata": {
    "scrolled": true
   },
   "outputs": [
    {
     "data": {
      "text/plain": [
       "2213.390972982457"
      ]
     },
     "execution_count": 20,
     "metadata": {},
     "output_type": "execute_result"
    }
   ],
   "source": [
    "seqs = [144, 172, 177, 182, 206, 240, 525, 537, 1016, 1024, 1032, 1106, 1373, 1385, 1397, 1421, 1433, 1445, 4952, 4955, 4976, 4985, 4988, 5009, 5225, 5228, 5249, 5252, 5273, 5276, 5393, 5567, 5579, 5627, 5678, 7202, 7214,\n",
    "        145, 173, 178, 183, 207, 241, 526, 538, 1017, 1025, 1033, 1107, 1376, 1388, 1400, 1424, 1436, 1448, 4958, 4961, 4979, 4991, 4994, 5012, 5219, 5222, 5243, 5246, 5267, 5270, 5396, 5570, 5582, 5630, 5681, 7205, 7217,\n",
    "        146, 174, 179, 184, 208, 242, 527, 539, 1018, 1026, 1034, 1108, 1379, 1391, 1403, 1427, 1439, 1451, 4964, 4967, 4982, 4997, 5000, 5015, 5213, 5216, 5237, 5240, 5261, 5264, 5399, 5573, 5585, 5633, 5684, 7208, 7220]\n",
    "dalys = get_outputs(gbd_round_id=5, year_id=2017, location_id=214, sex_id=3, age_group_id=1,\n",
    "                   topic='sequela', sequela_id=seqs, metric_id=3)\n",
    "dalys = dalys['val'].sum() * 100_000\n",
    "dalys"
   ]
  }
 ],
 "metadata": {
  "kernelspec": {
   "display_name": "Python 3",
   "language": "python",
   "name": "python3"
  },
  "language_info": {
   "codemirror_mode": {
    "name": "ipython",
    "version": 3
   },
   "file_extension": ".py",
   "mimetype": "text/x-python",
   "name": "python",
   "nbconvert_exporter": "python",
   "pygments_lexer": "ipython3",
   "version": "3.6.9"
  }
 },
 "nbformat": 4,
 "nbformat_minor": 2
}
