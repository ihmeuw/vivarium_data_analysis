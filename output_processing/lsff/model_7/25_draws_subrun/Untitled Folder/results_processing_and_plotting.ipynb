{
 "cells": [
  {
   "cell_type": "code",
   "execution_count": 1,
   "metadata": {},
   "outputs": [
    {
     "name": "stdout",
     "output_type": "stream",
     "text": [
      "alibow\n",
      "Tue Jun 23 12:52:56 PDT 2020\n"
     ]
    }
   ],
   "source": [
    "from vivarium import Artifact\n",
    "import pandas as pd\n",
    "import numpy as np\n",
    "import seaborn as sns\n",
    "import matplotlib.pyplot as plt\n",
    "from db_queries import get_ids, get_outputs\n",
    "import scipy.stats\n",
    "\n",
    "!whoami\n",
    "!date"
   ]
  },
  {
   "cell_type": "code",
   "execution_count": 2,
   "metadata": {},
   "outputs": [],
   "source": [
    "# add list here when complete :) \n",
    "\n",
    "output_dirs = ['/share/costeffectiveness/results/vivarium_conic_lsff/00_bugfix/25draw_5seed/india/2020_06_19_18_11_00/count_data/']\n",
    "\n",
    "locations = ['India']"
   ]
  },
  {
   "cell_type": "code",
   "execution_count": 3,
   "metadata": {},
   "outputs": [],
   "source": [
    "def get_stratified_averted_results(strata_cols):\n",
    "    master_data = pd.DataFrame()\n",
    "    master_pt = pd.DataFrame()\n",
    "    for i in range(len(output_dirs)):\n",
    "        data = pd.DataFrame()\n",
    "        for measure in ['deaths','ylls','ylds']:\n",
    "            temp = pd.read_hdf(output_dirs[i] + measure + '.hdf')\n",
    "            temp['measure'] = measure\n",
    "            data = data.append(temp)\n",
    "        data['location'] = locations[i]\n",
    "        master_data = master_data.append(data)\n",
    "        pt = pd.read_hdf(output_dirs[i] + 'person_time.hdf')\n",
    "        pt['location'] = locations[i]\n",
    "        master_pt = master_pt.append(pt)\n",
    "    master_data = master_data.groupby((['location','scenario','input_draw'] + strata_cols + ['measure'])).sum()\n",
    "    master_pt = master_pt.groupby((['location','scenario','input_draw'] + strata_cols)).sum()\n",
    "    rates = master_data / master_pt\n",
    "    baseline_rates = rates.reset_index()\n",
    "    baseline_rates = baseline_rates.loc[baseline_rates.scenario == 'baseline']\n",
    "    baseline_rates = baseline_rates.set_index((['location','input_draw'] + strata_cols + ['measure'])).drop(columns='scenario')\n",
    "    rates = rates.reset_index().set_index((['location','input_draw'] + strata_cols + ['measure','scenario']))\n",
    "    averted_rates = baseline_rates - rates\n",
    "    averted_rates = averted_rates.reset_index()\n",
    "    averted_rates = averted_rates.loc[averted_rates.scenario != 'baseline']\n",
    "    return averted_rates"
   ]
  },
  {
   "cell_type": "code",
   "execution_count": 4,
   "metadata": {},
   "outputs": [
    {
     "data": {
      "text/html": [
       "<div>\n",
       "<style scoped>\n",
       "    .dataframe tbody tr th:only-of-type {\n",
       "        vertical-align: middle;\n",
       "    }\n",
       "\n",
       "    .dataframe tbody tr th {\n",
       "        vertical-align: top;\n",
       "    }\n",
       "\n",
       "    .dataframe thead th {\n",
       "        text-align: right;\n",
       "    }\n",
       "</style>\n",
       "<table border=\"1\" class=\"dataframe\">\n",
       "  <thead>\n",
       "    <tr style=\"text-align: right;\">\n",
       "      <th></th>\n",
       "      <th>location</th>\n",
       "      <th>input_draw</th>\n",
       "      <th>measure</th>\n",
       "      <th>scenario</th>\n",
       "      <th>value</th>\n",
       "    </tr>\n",
       "  </thead>\n",
       "  <tbody>\n",
       "    <tr>\n",
       "      <th>1</th>\n",
       "      <td>India</td>\n",
       "      <td>21</td>\n",
       "      <td>deaths</td>\n",
       "      <td>folic_acid_fortification_scale_up</td>\n",
       "      <td>0.000074</td>\n",
       "    </tr>\n",
       "    <tr>\n",
       "      <th>2</th>\n",
       "      <td>India</td>\n",
       "      <td>21</td>\n",
       "      <td>deaths</td>\n",
       "      <td>iron_folic_acid_fortification_scale_up</td>\n",
       "      <td>0.000074</td>\n",
       "    </tr>\n",
       "    <tr>\n",
       "      <th>3</th>\n",
       "      <td>India</td>\n",
       "      <td>21</td>\n",
       "      <td>deaths</td>\n",
       "      <td>iron_fortification_scale_up</td>\n",
       "      <td>-0.000132</td>\n",
       "    </tr>\n",
       "    <tr>\n",
       "      <th>4</th>\n",
       "      <td>India</td>\n",
       "      <td>21</td>\n",
       "      <td>deaths</td>\n",
       "      <td>vitamin_a_fortification_scale_up</td>\n",
       "      <td>0.000027</td>\n",
       "    </tr>\n",
       "    <tr>\n",
       "      <th>6</th>\n",
       "      <td>India</td>\n",
       "      <td>21</td>\n",
       "      <td>ylds</td>\n",
       "      <td>folic_acid_fortification_scale_up</td>\n",
       "      <td>-0.000028</td>\n",
       "    </tr>\n",
       "  </tbody>\n",
       "</table>\n",
       "</div>"
      ],
      "text/plain": [
       "  location  input_draw measure                                scenario  \\\n",
       "1    India          21  deaths       folic_acid_fortification_scale_up   \n",
       "2    India          21  deaths  iron_folic_acid_fortification_scale_up   \n",
       "3    India          21  deaths             iron_fortification_scale_up   \n",
       "4    India          21  deaths        vitamin_a_fortification_scale_up   \n",
       "6    India          21    ylds       folic_acid_fortification_scale_up   \n",
       "\n",
       "      value  \n",
       "1  0.000074  \n",
       "2  0.000074  \n",
       "3 -0.000132  \n",
       "4  0.000027  \n",
       "6 -0.000028  "
      ]
     },
     "execution_count": 4,
     "metadata": {},
     "output_type": "execute_result"
    }
   ],
   "source": [
    "overall = get_stratified_averted_results([])\n",
    "overall.head()"
   ]
  },
  {
   "cell_type": "code",
   "execution_count": 5,
   "metadata": {},
   "outputs": [
    {
     "data": {
      "text/html": [
       "<div>\n",
       "<style scoped>\n",
       "    .dataframe tbody tr th:only-of-type {\n",
       "        vertical-align: middle;\n",
       "    }\n",
       "\n",
       "    .dataframe tbody tr th {\n",
       "        vertical-align: top;\n",
       "    }\n",
       "\n",
       "    .dataframe thead th {\n",
       "        text-align: right;\n",
       "    }\n",
       "</style>\n",
       "<table border=\"1\" class=\"dataframe\">\n",
       "  <thead>\n",
       "    <tr style=\"text-align: right;\">\n",
       "      <th></th>\n",
       "      <th>location</th>\n",
       "      <th>input_draw</th>\n",
       "      <th>year</th>\n",
       "      <th>measure</th>\n",
       "      <th>scenario</th>\n",
       "      <th>value</th>\n",
       "    </tr>\n",
       "  </thead>\n",
       "  <tbody>\n",
       "    <tr>\n",
       "      <th>1</th>\n",
       "      <td>India</td>\n",
       "      <td>21</td>\n",
       "      <td>2020</td>\n",
       "      <td>deaths</td>\n",
       "      <td>folic_acid_fortification_scale_up</td>\n",
       "      <td>-3.220727e-04</td>\n",
       "    </tr>\n",
       "    <tr>\n",
       "      <th>2</th>\n",
       "      <td>India</td>\n",
       "      <td>21</td>\n",
       "      <td>2020</td>\n",
       "      <td>deaths</td>\n",
       "      <td>iron_folic_acid_fortification_scale_up</td>\n",
       "      <td>-3.220727e-04</td>\n",
       "    </tr>\n",
       "    <tr>\n",
       "      <th>3</th>\n",
       "      <td>India</td>\n",
       "      <td>21</td>\n",
       "      <td>2020</td>\n",
       "      <td>deaths</td>\n",
       "      <td>iron_fortification_scale_up</td>\n",
       "      <td>-8.698788e-04</td>\n",
       "    </tr>\n",
       "    <tr>\n",
       "      <th>4</th>\n",
       "      <td>India</td>\n",
       "      <td>21</td>\n",
       "      <td>2020</td>\n",
       "      <td>deaths</td>\n",
       "      <td>vitamin_a_fortification_scale_up</td>\n",
       "      <td>9.296043e-10</td>\n",
       "    </tr>\n",
       "    <tr>\n",
       "      <th>6</th>\n",
       "      <td>India</td>\n",
       "      <td>21</td>\n",
       "      <td>2020</td>\n",
       "      <td>ylds</td>\n",
       "      <td>folic_acid_fortification_scale_up</td>\n",
       "      <td>1.029326e-04</td>\n",
       "    </tr>\n",
       "  </tbody>\n",
       "</table>\n",
       "</div>"
      ],
      "text/plain": [
       "  location  input_draw  year measure                                scenario  \\\n",
       "1    India          21  2020  deaths       folic_acid_fortification_scale_up   \n",
       "2    India          21  2020  deaths  iron_folic_acid_fortification_scale_up   \n",
       "3    India          21  2020  deaths             iron_fortification_scale_up   \n",
       "4    India          21  2020  deaths        vitamin_a_fortification_scale_up   \n",
       "6    India          21  2020    ylds       folic_acid_fortification_scale_up   \n",
       "\n",
       "          value  \n",
       "1 -3.220727e-04  \n",
       "2 -3.220727e-04  \n",
       "3 -8.698788e-04  \n",
       "4  9.296043e-10  \n",
       "6  1.029326e-04  "
      ]
     },
     "execution_count": 5,
     "metadata": {},
     "output_type": "execute_result"
    }
   ],
   "source": [
    "by_year = get_stratified_averted_results(['year'])\n",
    "by_year.head()"
   ]
  },
  {
   "cell_type": "code",
   "execution_count": 6,
   "metadata": {},
   "outputs": [],
   "source": [
    "def make_multiple_plots_by_year_no_uncertainty(dataset, scenarios, outcome_vars):\n",
    "    for scenario in scenarios:\n",
    "        for outcome_var in outcome_vars:\n",
    "            if outcome_var == 'dalys':\n",
    "                outcome_name_long = 'Disability Adjusted Life Years'\n",
    "                outcome_name_short = 'DALYs'\n",
    "            elif outcome_var == 'ylls':\n",
    "                outcome_name_long = 'Years of Life Lost'\n",
    "                outcome_name_short = 'YLLs'\n",
    "            elif outcome_var == 'ylds':\n",
    "                outcome_name_long = 'Years Lived with Disability'\n",
    "                outcome_name_short = 'YLDs'\n",
    "            else:\n",
    "                outcome_name_long = 'Deaths'\n",
    "                outcome_name_short = 'Deaths'\n",
    "\n",
    "            data = dataset.loc[dataset.scenario == scenario]\n",
    "            if outcome_var == 'dalys':\n",
    "                data = data.loc[data.measure.isin(['ylds','ylls'])]\n",
    "                data = data.groupby(['location','year'], as_index=False).sum()\n",
    "            else:\n",
    "                data = data.loc[data.measure == outcome_var]\n",
    "            data = data.groupby(['location','year'], as_index=False).mean()\n",
    "\n",
    "            ethiopia = data.loc[data.location == 'Ethiopia']\n",
    "            india = data.loc[data.location == 'India']\n",
    "            nigeria = data.loc[data.location == 'Nigeria']\n",
    "\n",
    "            fig, ax = plt.subplots(figsize=(7.5, 5))\n",
    "            \n",
    "            plt.scatter(ethiopia['year'], ethiopia['value'])\n",
    "            plt.plot(ethiopia['year'], ethiopia['value'])\n",
    "\n",
    "            plt.scatter(india['year'], india['value'])\n",
    "            plt.plot(india['year'], india['value'])\n",
    "\n",
    "            plt.scatter(nigeria['year'], nigeria['value'])\n",
    "            plt.plot(nigeria['year'], nigeria['value'])\n",
    "            \n",
    "            scenario_title = scenario.replace('_',' ').capitalize()\n",
    "\n",
    "            plt.title(f'{scenario_title}\\n{outcome_name_long} ({outcome_name_short}) Averted per 100,000 Person-Years')\n",
    "            plt.legend(['Ethiopia','India','Nigeria'])\n",
    "            plt.ylabel(f'{outcome_name_short} Averted per 100,000 PY')\n",
    "            #plt.savefig('ethiopia_and_nigeria_by_year.png')"
   ]
  },
  {
   "cell_type": "code",
   "execution_count": 7,
   "metadata": {
    "scrolled": false
   },
   "outputs": [
    {
     "data": {
      "image/png": "[encoded data removed]",
      "text/plain": [
       "<Figure size 540x360 with 1 Axes>"
      ]
     },
     "metadata": {
      "needs_background": "light"
     },
     "output_type": "display_data"
    },
    {
     "data": {
      "image/png": "[encoded data removed]",
      "text/plain": [
       "<Figure size 540x360 with 1 Axes>"
      ]
     },
     "metadata": {
      "needs_background": "light"
     },
     "output_type": "display_data"
    }
   ],
   "source": [
    "scenarios = ['folic_acid_fortification_scale_up',\n",
    "            'vitamin_a_fortification_scale_up']#,\n",
    "#            'iron_fortification_scale_up',\n",
    "#            'iron_folic_acid_fortification_scale_up']\n",
    "\n",
    "outcome_vars = ['deaths']#,'ylls','ylds','dalys']\n",
    "\n",
    "make_multiple_plots_by_year_no_uncertainty(by_year, scenarios, outcome_vars)"
   ]
  },
  {
   "cell_type": "code",
   "execution_count": 8,
   "metadata": {},
   "outputs": [],
   "source": [
    "def make_multiple_plots_by_year_with_uncertainty(dataset, scenarios, outcome_vars):\n",
    "    for scenario in scenarios:\n",
    "        for outcome_var in outcome_vars:\n",
    "            if outcome_var == 'dalys':\n",
    "                outcome_name_long = 'Disability Adjusted Life Years'\n",
    "                outcome_name_short = 'DALYs'\n",
    "            elif outcome_var == 'ylls':\n",
    "                outcome_name_long = 'Years of Life Lost'\n",
    "                outcome_name_short = 'YLLs'\n",
    "            elif outcome_var == 'ylds':\n",
    "                outcome_name_long = 'Years Lived with Disability'\n",
    "                outcome_name_short = 'YLDs'\n",
    "            else:\n",
    "                outcome_name_long = 'Deaths'\n",
    "                outcome_name_short = 'Deaths'\n",
    "\n",
    "            data = dataset.loc[dataset.scenario == scenario]\n",
    "            if outcome_var == 'dalys':\n",
    "                data = data.loc[data.measure.isin(['ylds','ylls'])]\n",
    "                data = data.groupby(['location','year'], as_index=False).sum()\n",
    "            else:\n",
    "                data = data.loc[data.measure == outcome_var]\n",
    "            data = data.groupby(['location','year']).describe().reset_index()\n",
    "\n",
    "            ethiopia = data.loc[data.location == 'Ethiopia']\n",
    "            india = data.loc[data.location == 'India']\n",
    "            nigeria = data.loc[data.location == 'Nigeria']\n",
    "\n",
    "            fig, ax = plt.subplots(figsize=(7.5, 5))\n",
    "            \n",
    "            plt.scatter(ethiopia['year'], ethiopia['value','mean'])\n",
    "            plt.plot(ethiopia['year'], ethiopia['value','mean'])\n",
    "\n",
    "            plt.scatter(india['year'], india['value','mean'])\n",
    "            plt.plot(india['year'], india['value','mean'])\n",
    "\n",
    "            plt.scatter(nigeria['year'], nigeria['value','mean'])\n",
    "            plt.plot(nigeria['year'], nigeria['value','mean'])\n",
    "            \n",
    "            plt.plot(ethiopia['year'],ethiopia['value','min'],linestyle='dashed',c='tab:blue')\n",
    "            plt.plot(ethiopia['year'],ethiopia['value','max'],linestyle='dashed',c='tab:blue')\n",
    "\n",
    "            plt.plot(india['year'],india['value','min'],linestyle='dashed',c='tab:orange')\n",
    "            plt.plot(india['year'],india['value','max'],linestyle='dashed',c='tab:orange')\n",
    "\n",
    "            plt.plot(nigeria['year'],nigeria['value','min'],linestyle='dashed',c='tab:green')\n",
    "            plt.plot(nigeria['year'],nigeria['value','max'],linestyle='dashed',c='tab:green')\n",
    "            \n",
    "            scenario_title = scenario.replace('_',' ').capitalize()\n",
    "\n",
    "            plt.title(f'{scenario_title}\\n{outcome_name_long} ({outcome_name_short}) Averted per 100,000 Person-Years')\n",
    "            plt.legend(['Ethiopia','India','Nigeria'])\n",
    "            plt.ylabel(f'{outcome_name_short} Averted per 100,000 PY')\n",
    "            #plt.savefig('ethiopia_and_nigeria_by_year.png')"
   ]
  },
  {
   "cell_type": "code",
   "execution_count": 9,
   "metadata": {},
   "outputs": [
    {
     "data": {
      "image/png": "[encoded data removed]",
      "text/plain": [
       "<Figure size 540x360 with 1 Axes>"
      ]
     },
     "metadata": {
      "needs_background": "light"
     },
     "output_type": "display_data"
    }
   ],
   "source": [
    "scenarios = ['folic_acid_fortification_scale_up']#,\n",
    "#            'vitamin_a_fortification_scale_up',\n",
    "#            'iron_fortification_scale_up',\n",
    "#            'iron_folic_acid_fortification_scale_up']\n",
    "\n",
    "outcome_vars = ['deaths']#,'ylls','ylds','dalys']\n",
    "\n",
    "make_multiple_plots_by_year_with_uncertainty(by_year, scenarios, outcome_vars)"
   ]
  },
  {
   "cell_type": "code",
   "execution_count": 10,
   "metadata": {},
   "outputs": [],
   "source": [
    "def make_multiple_dot_plots(dataset, scenarios, outcome_vars):\n",
    "    \n",
    "    for scenario in scenarios:\n",
    "        for outcome_var in outcome_vars:\n",
    "    \n",
    "            data = dataset.loc[dataset.scenario == scenario]\n",
    "            data = data.loc[data.measure == outcome_var]\n",
    "            data = data.groupby(['location']).describe()\n",
    "    \n",
    "            if outcome_var == 'dalys':\n",
    "                outcome_name_long = 'Disability Adjusted Life Years'\n",
    "                outcome_name_short = 'DALYs'\n",
    "            elif outcome_var == 'ylls':\n",
    "                outcome_name_long = 'Years of Life Lost'\n",
    "                outcome_name_short = 'YLLs'\n",
    "            elif outcome_var == 'ylds':\n",
    "                outcome_name_long = 'Years Lived with Disability'\n",
    "                outcome_name_short = 'YLDs'\n",
    "            else:\n",
    "                outcome_name_long = 'Deaths'\n",
    "                outcome_name_short = 'Deaths'\n",
    "        \n",
    "            pos1 = 0.2\n",
    "            pos2 = 0.4\n",
    "            pos3 = 0.6    \n",
    "            \n",
    "            fig, ax = plt.subplots(figsize=(7.5, 5))\n",
    "\n",
    "            plt.plot([(pos1 - 0.1),(pos3 + 0.1)],[0,0],'--',c='grey')\n",
    "\n",
    "            plt.plot([pos1,pos1],[data['value','min'][0],data['value','max'][0]],c='black')\n",
    "            #plt.plot([pos2,pos2],[data['value','min'][1],data['value','max'][1]],c='black')\n",
    "            #plt.plot([pos3,pos3],[data['value','min'][2],data['value','max'][2]],c='black')\n",
    "            #plt.scatter([pos1,pos2,pos3],data['value','min'], marker='_',c='black',s=50)\n",
    "            #plt.scatter([pos1,pos2,pos3],data['value','max'], marker='_',c='black',s=50)\n",
    "\n",
    "            #plt.scatter([pos1,pos2,pos3],data['value','mean'], s=100)\n",
    "            \n",
    "            scenario_title = scenario.replace('_',' ').capitalize()\n",
    "\n",
    "            plt.xticks([pos1,pos2,pos3], data.index)\n",
    "            if outcome_var == 'deaths':\n",
    "                plt.title(f'{scenario_title}\\n{outcome_name_long} Averted per 100,000 Person-Years')\n",
    "            else:\n",
    "                plt.title(f'{scenario_title}\\n{outcome_name_long} ({outcome_name_short}) Averted per 100,000 Person-Years')\n",
    "            plt.ylabel(f'{outcome_name_short} Averted per 100,000 PY')"
   ]
  },
  {
   "cell_type": "code",
   "execution_count": 11,
   "metadata": {},
   "outputs": [
    {
     "data": {
      "image/png": "[encoded data removed]",
      "text/plain": [
       "<Figure size 540x360 with 1 Axes>"
      ]
     },
     "metadata": {
      "needs_background": "light"
     },
     "output_type": "display_data"
    }
   ],
   "source": [
    "scenarios = ['folic_acid_fortification_scale_up']#,\n",
    "#            'vitamin_a_fortification_scale_up',\n",
    "#            'iron_fortification_scale_up',\n",
    "#            'iron_folic_acid_fortification_scale_up']\n",
    "\n",
    "outcome_vars = ['deaths']#,'ylls','ylds','dalys']\n",
    "\n",
    "make_multiple_dot_plots(overall, scenarios, outcome_vars)"
   ]
  }
 ],
 "metadata": {
  "kernelspec": {
   "display_name": "Python 3",
   "language": "python",
   "name": "python3"
  },
  "language_info": {
   "codemirror_mode": {
    "name": "ipython",
    "version": 3
   },
   "file_extension": ".py",
   "mimetype": "text/x-python",
   "name": "python",
   "nbconvert_exporter": "python",
   "pygments_lexer": "ipython3",
   "version": "3.6.9"
  }
 },
 "nbformat": 4,
 "nbformat_minor": 2
}
