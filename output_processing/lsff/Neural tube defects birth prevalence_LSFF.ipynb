{
 "cells": [
  {
   "cell_type": "code",
   "execution_count": 1,
   "metadata": {},
   "outputs": [],
   "source": [
    "from vivarium import Artifact\n",
    "import pandas as pd\n",
    "import numpy as np\n",
    "import seaborn as sns\n",
    "import matplotlib.pyplot as plt\n",
    "from db_queries import get_ids, get_outputs\n",
    "import scipy.stats"
   ]
  },
  {
   "cell_type": "code",
   "execution_count": 2,
   "metadata": {},
   "outputs": [
    {
     "name": "stdout",
     "output_type": "stream",
     "text": [
      "/ihme/costeffectiveness/results\n",
      "/ihme/costeffectiveness/results/vivarium_conic_lsff\n",
      "/ihme/costeffectiveness/results/vivarium_conic_lsff/v1.0_disease_only\n",
      "/ihme/costeffectiveness/results/vivarium_conic_lsff/v1.0_disease_only/nigeria\n",
      "/ihme/costeffectiveness/results/vivarium_conic_lsff/v1.0_disease_only/nigeria/2020_02_26_16_19_00\n",
      "/ihme/costeffectiveness/results/vivarium_conic_lsff/v1.0_disease_only/nigeria/2020_02_26_16_19_00/count_data\n",
      "total 14M\r\n",
      "-rw-r--r-- 1 collijk Domain Users  12K Mar 18 19:40 births_with_ntd.csv\r\n",
      "drwxr-xr-x 2 collijk Domain Users 9.0K Mar 18 19:40 .\r\n",
      "-rw-r--r-- 1 collijk Domain Users 1.1M Mar 18 19:40 births_with_ntd.hdf\r\n",
      "-rw-r--r-- 1 collijk Domain Users 9.5K Mar 18 19:40 births.csv\r\n",
      "-rw-r--r-- 1 collijk Domain Users 1.1M Mar 18 19:40 births.hdf\r\n",
      "-rw-r--r-- 1 collijk Domain Users 620K Mar 18 19:40 transition_count.csv\r\n",
      "-rw-r--r-- 1 collijk Domain Users 1.8M Mar 18 19:40 transition_count.hdf\r\n",
      "-rw-r--r-- 1 collijk Domain Users 513K Mar 18 19:40 state_person_time.csv\r\n",
      "-rw-r--r-- 1 collijk Domain Users 1.5M Mar 18 19:40 state_person_time.hdf\r\n",
      "-rw-r--r-- 1 collijk Domain Users 299K Mar 18 19:40 deaths.csv\r\n",
      "-rw-r--r-- 1 collijk Domain Users 1.4M Mar 18 19:40 deaths.hdf\r\n",
      "-rw-r--r-- 1 collijk Domain Users 286K Mar 18 19:40 ylds.csv\r\n",
      "-rw-r--r-- 1 collijk Domain Users 1.4M Mar 18 19:40 ylds.hdf\r\n",
      "-rw-r--r-- 1 collijk Domain Users 339K Mar 18 19:40 ylls.csv\r\n",
      "-rw-r--r-- 1 collijk Domain Users 1.4M Mar 18 19:40 ylls.hdf\r\n",
      "-rw-r--r-- 1 collijk Domain Users  61K Mar 18 19:40 person_time.csv\r\n",
      "-rw-r--r-- 1 collijk Domain Users 1.1M Mar 18 19:40 person_time.hdf\r\n",
      "-rw-r--r-- 1 collijk Domain Users 4.8K Mar 18 19:40 population.csv\r\n",
      "-rw-r--r-- 1 collijk Domain Users 1.1M Mar 18 19:40 population.hdf\r\n",
      "drwxrwxr-x 7 kjells  Domain Users 5.5K Mar 18 19:40 ..\r\n"
     ]
    }
   ],
   "source": [
    "#find filepath for 'count_data' in each country\n",
    "\n",
    "%cd /share/costeffectiveness/results\n",
    "%cd vivarium_conic_lsff/\n",
    "%cd v1.0_disease_only/\n",
    "%cd nigeria/\n",
    "%cd 2020_02_26_16_19_00\n",
    "%cd count_data\n",
    "!ls -halt"
   ]
  },
  {
   "cell_type": "code",
   "execution_count": 3,
   "metadata": {},
   "outputs": [],
   "source": [
    "output_dirs = ['/ihme/costeffectiveness/results/vivarium_conic_lsff/v1.0_disease_only/ethiopia/2020_02_26_16_15_59/count_data/',\n",
    "               '/ihme/costeffectiveness/results/vivarium_conic_lsff/v1.0_disease_only/india/2020_02_26_16_17_48/count_data/',\n",
    "               '/ihme/costeffectiveness/results/vivarium_conic_lsff/v1.0_disease_only/nigeria/2020_02_26_16_19_00/count_data/']\n",
    "\n",
    "locations = ['ethiopia','india','nigeria']"
   ]
  },
  {
   "cell_type": "markdown",
   "metadata": {},
   "source": [
    "# 1) Model outputs for birth prevalence of ntd"
   ]
  },
  {
   "cell_type": "code",
   "execution_count": 4,
   "metadata": {},
   "outputs": [],
   "source": [
    "#model results for NEURAL TUBE DEFECTS for birth prevalence\n",
    "\n",
    "def get_birth_prevalence_ntd_results():\n",
    "    \n",
    "    master_data_other = pd.DataFrame()\n",
    "    \n",
    "    for i in list(range(len(output_dirs))):\n",
    "        \n",
    "    #BIRTHS WITH NTDs \n",
    "        births_ntd1 = pd.read_hdf(output_dirs[i] + 'births_with_ntd.hdf')\n",
    "        births_ntd2 = (births_ntd1.groupby(['input_draw','year'], as_index=False).sum() # collapsed over sex\n",
    "                  .rename(columns={'value':'births_with_ntd'})) \n",
    "        \n",
    "    #BIRTHS (25 input_draws x 4 age_groups = 100 rows)\n",
    "        births_1 = pd.read_hdf(output_dirs[i] + 'births.hdf')\n",
    "        births_2 = (births_1.groupby(['input_draw','year'], as_index=False).sum()\n",
    "              .rename(columns={'value':'births'})) \n",
    "   \n",
    "    #MERGING deaths + pt + state_pt    \n",
    "        data_other = births_ntd2.merge(births_2, right_on=['input_draw','year'],\n",
    "                           left_on=['input_draw','year'])\n",
    "  \n",
    "        #calculating measures: csmr, emr, prevalence \n",
    "        data_other['ntd_birth_prevalence'] = data_other['births_with_ntd'] / data_other['births'] #equation for csmr\n",
    "        \n",
    "        data_other['location'] = locations[i]\n",
    "        data_other = data_other.groupby(['location'], as_index=False).mean()\n",
    "        \n",
    "        \n",
    "        master_data_other = master_data_other.append(data_other)\n",
    "    \n",
    "    master_data_other = (master_data_other.sort_values(by='location')\n",
    "                     .drop(columns=['input_draw']))\n",
    "                                 \n",
    "    return master_data_other"
   ]
  },
  {
   "cell_type": "code",
   "execution_count": 5,
   "metadata": {},
   "outputs": [
    {
     "data": {
      "text/html": [
       "<div>\n",
       "<style scoped>\n",
       "    .dataframe tbody tr th:only-of-type {\n",
       "        vertical-align: middle;\n",
       "    }\n",
       "\n",
       "    .dataframe tbody tr th {\n",
       "        vertical-align: top;\n",
       "    }\n",
       "\n",
       "    .dataframe thead th {\n",
       "        text-align: right;\n",
       "    }\n",
       "</style>\n",
       "<table border=\"1\" class=\"dataframe\">\n",
       "  <thead>\n",
       "    <tr style=\"text-align: right;\">\n",
       "      <th></th>\n",
       "      <th>location</th>\n",
       "      <th>births_with_ntd</th>\n",
       "      <th>births</th>\n",
       "      <th>ntd_birth_prevalence</th>\n",
       "    </tr>\n",
       "  </thead>\n",
       "  <tbody>\n",
       "    <tr>\n",
       "      <th>0</th>\n",
       "      <td>ethiopia</td>\n",
       "      <td>145.032</td>\n",
       "      <td>80410.296</td>\n",
       "      <td>0.001800</td>\n",
       "    </tr>\n",
       "    <tr>\n",
       "      <th>0</th>\n",
       "      <td>india</td>\n",
       "      <td>49.360</td>\n",
       "      <td>68380.832</td>\n",
       "      <td>0.000728</td>\n",
       "    </tr>\n",
       "    <tr>\n",
       "      <th>0</th>\n",
       "      <td>nigeria</td>\n",
       "      <td>209.032</td>\n",
       "      <td>81497.088</td>\n",
       "      <td>0.002567</td>\n",
       "    </tr>\n",
       "  </tbody>\n",
       "</table>\n",
       "</div>"
      ],
      "text/plain": [
       "   location  births_with_ntd     births  ntd_birth_prevalence\n",
       "0  ethiopia          145.032  80410.296              0.001800\n",
       "0     india           49.360  68380.832              0.000728\n",
       "0   nigeria          209.032  81497.088              0.002567"
      ]
     },
     "execution_count": 5,
     "metadata": {},
     "output_type": "execute_result"
    }
   ],
   "source": [
    "ntdbirthprev_model=get_birth_prevalence_ntd_results()\n",
    "ntdbirthprev_model.head()"
   ]
  },
  {
   "cell_type": "markdown",
   "metadata": {},
   "source": [
    "# 2) Artifact outputs for ntds"
   ]
  },
  {
   "cell_type": "code",
   "execution_count": 11,
   "metadata": {},
   "outputs": [],
   "source": [
    "def get_ntd_birthprev_artifact_data():\n",
    "    master_art_data = pd.DataFrame()\n",
    "    for i in ['ethiopia','india','nigeria']:\n",
    "        art = Artifact('/share/costeffectiveness/artifacts/vivarium_conic_lsff/' + i + '.hdf', \n",
    "                   filter_terms=['year_start == 2017'])\n",
    "        \n",
    "        data = art.load('cause.neural_tube_defects.birth_prevalence')\n",
    "        data = pd.DataFrame(data.mean(axis=1)).reset_index().rename(columns={0:'value'})\n",
    "        data['location'] = i.capitalize()\n",
    "        data = data.groupby(['location'], as_index=False).mean()\n",
    "        master_art_data = master_art_data.append(data)\n",
    "    return master_art_data"
   ]
  },
  {
   "cell_type": "code",
   "execution_count": 17,
   "metadata": {},
   "outputs": [
    {
     "data": {
      "text/html": [
       "<div>\n",
       "<style scoped>\n",
       "    .dataframe tbody tr th:only-of-type {\n",
       "        vertical-align: middle;\n",
       "    }\n",
       "\n",
       "    .dataframe tbody tr th {\n",
       "        vertical-align: top;\n",
       "    }\n",
       "\n",
       "    .dataframe thead th {\n",
       "        text-align: right;\n",
       "    }\n",
       "</style>\n",
       "<table border=\"1\" class=\"dataframe\">\n",
       "  <thead>\n",
       "    <tr style=\"text-align: right;\">\n",
       "      <th></th>\n",
       "      <th>location</th>\n",
       "      <th>year_start</th>\n",
       "      <th>year_end</th>\n",
       "      <th>value</th>\n",
       "    </tr>\n",
       "  </thead>\n",
       "  <tbody>\n",
       "    <tr>\n",
       "      <th>0</th>\n",
       "      <td>Ethiopia</td>\n",
       "      <td>2017</td>\n",
       "      <td>2018</td>\n",
       "      <td>0.001834</td>\n",
       "    </tr>\n",
       "    <tr>\n",
       "      <th>0</th>\n",
       "      <td>India</td>\n",
       "      <td>2017</td>\n",
       "      <td>2018</td>\n",
       "      <td>0.000738</td>\n",
       "    </tr>\n",
       "    <tr>\n",
       "      <th>0</th>\n",
       "      <td>Nigeria</td>\n",
       "      <td>2017</td>\n",
       "      <td>2018</td>\n",
       "      <td>0.002609</td>\n",
       "    </tr>\n",
       "  </tbody>\n",
       "</table>\n",
       "</div>"
      ],
      "text/plain": [
       "   location  year_start  year_end     value\n",
       "0  Ethiopia        2017      2018  0.001834\n",
       "0     India        2017      2018  0.000738\n",
       "0   Nigeria        2017      2018  0.002609"
      ]
     },
     "execution_count": 17,
     "metadata": {},
     "output_type": "execute_result"
    }
   ],
   "source": [
    "ntdbirthprev_artifact=get_ntd_birthprev_artifact_data()\n",
    "ntdbirthprev_artifact.head()"
   ]
  },
  {
   "cell_type": "markdown",
   "metadata": {},
   "source": [
    "# 3) Plot model output and artifact "
   ]
  },
  {
   "cell_type": "code",
   "execution_count": 50,
   "metadata": {},
   "outputs": [
    {
     "data": {
      "image/png": "[encoded data removed]",
      "text/plain": [
       "<Figure size 432x288 with 1 Axes>"
      ]
     },
     "metadata": {
      "needs_background": "light"
     },
     "output_type": "display_data"
    }
   ],
   "source": [
    "barWidth = 0.3\n",
    "fig,axs = plt.subplots()\n",
    "model = ntdbirthprev_model['ntd_birth_prevalence'].dropna()\n",
    "gbd = ntdbirthprev_artifact['value'].dropna()\n",
    "a = np.arange(len(model))\n",
    "b = [x + barWidth for x in a]\n",
    "plt.bar(a, gbd, width=barWidth)\n",
    "plt.bar(b, model, width=barWidth)\n",
    "#axs[0,0].set_title('neural tube defects birth prevalence')\n",
    "    \n",
    "plt.setp(axs, xticks=[r + barWidth for r in range(len(model))], \n",
    "             xticklabels=np.unique(ntdbirthprev_model['location']))\n",
    "\n",
    "#ax.set(ylabel='prevalence')\n",
    "plt.legend(['Artifact Input','Model Output'])\n",
    "plt.suptitle('birth_prevalence',x=0.55, y=1)\n",
    "plt.subplots_adjust(right=1.7, top=1.5)\n",
    "plt.tight_layout()\n",
    "    \n",
    "\n",
    "      "
   ]
  }
 ],
 "metadata": {
  "kernelspec": {
   "display_name": "Python 3",
   "language": "python",
   "name": "python3"
  },
  "language_info": {
   "codemirror_mode": {
    "name": "ipython",
    "version": 3
   },
   "file_extension": ".py",
   "mimetype": "text/x-python",
   "name": "python",
   "nbconvert_exporter": "python",
   "pygments_lexer": "ipython3",
   "version": "3.6.10"
  }
 },
 "nbformat": 4,
 "nbformat_minor": 4
}
