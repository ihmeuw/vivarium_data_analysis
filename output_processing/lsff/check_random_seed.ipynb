{
 "cells": [
  {
   "cell_type": "code",
   "execution_count": 1,
   "metadata": {},
   "outputs": [
    {
     "name": "stdout",
     "output_type": "stream",
     "text": [
      "Thu Apr 16 15:12:31 PDT 2020\n",
      "yaqiw\n"
     ]
    }
   ],
   "source": [
    "import pandas as pd, numpy as np\n",
    "import yaml\n",
    "import warnings\n",
    "warnings.filterwarnings('ignore')\n",
    "\n",
    "!date\n",
    "!whoami"
   ]
  },
  {
   "cell_type": "markdown",
   "metadata": {},
   "source": [
    "## This notebook is to compare yaml random_seeds to output.hdf random_seeds"
   ]
  },
  {
   "cell_type": "code",
   "execution_count": 2,
   "metadata": {},
   "outputs": [],
   "source": [
    "def checkRandomSeed(filePath, country):\n",
    "    #load output data\n",
    "    output = pd.read_hdf(filePath.get(country) + '/output.hdf')\n",
    "    outputSeedSize = output.groupby('input_draw').random_seed.count()\n",
    "    #load yaml data\n",
    "    with open(filePath.get(country) + '/keyspace.yaml', 'r') as f:\n",
    "        yamlData = yaml.load(f.read())\n",
    "    yamlSeedSize = len(yamlData['random_seed'])\n",
    "    #compare random seeds\n",
    "    if len(outputSeedSize[outputSeedSize != yamlSeedSize]) != 0:\n",
    "        print(f'Attention: {country} has unmatched random_seed counts!')\n",
    "        print(f'Following are details, random_seed counts from yaml are {yamlSeedSize}')\n",
    "        print(outputSeedSize[outputSeedSize != yamlSeedSize])\n",
    "        print('\\n')\n",
    "    else: \n",
    "        print(f'{country} has matched random_seed counts')"
   ]
  },
  {
   "cell_type": "code",
   "execution_count": 3,
   "metadata": {},
   "outputs": [],
   "source": [
    "countries = ['Ethiopia', 'India', 'Nigeria']"
   ]
  },
  {
   "cell_type": "markdown",
   "metadata": {},
   "source": [
    "### 1. check random_seed counts for model 3"
   ]
  },
  {
   "cell_type": "code",
   "execution_count": 4,
   "metadata": {},
   "outputs": [],
   "source": [
    "result_dir = '/ihme/costeffectiveness/results/vivarium_conic_lsff/v3.0_paf_of_one/'\n",
    "filePath = {\n",
    "    'Ethiopia': result_dir + 'ethiopia/2020_03_17_14_59_54',\n",
    "    'India': result_dir + 'india/2020_03_17_15_00_02',\n",
    "    'Nigeria': result_dir + 'nigeria/2020_03_17_15_00_10'\n",
    "}"
   ]
  },
  {
   "cell_type": "code",
   "execution_count": 5,
   "metadata": {},
   "outputs": [
    {
     "name": "stdout",
     "output_type": "stream",
     "text": [
      "Ethiopia has matched random_seed counts\n",
      "India has matched random_seed counts\n",
      "Nigeria has matched random_seed counts\n"
     ]
    }
   ],
   "source": [
    "for country in countries:\n",
    "    checkRandomSeed(filePath, country)"
   ]
  },
  {
   "cell_type": "markdown",
   "metadata": {},
   "source": [
    "### 2. check random_seed counts for model 4"
   ]
  },
  {
   "cell_type": "code",
   "execution_count": 6,
   "metadata": {},
   "outputs": [],
   "source": [
    "result_dir = '/ihme/costeffectiveness/results/vivarium_conic_lsff/v4.0_folic_acid_fortification/'\n",
    "filePath = {\n",
    "    'Ethiopia': result_dir + 'ethiopia/2020_03_18_23_04_26',\n",
    "    'India': result_dir + 'india/2020_03_18_23_04_36',\n",
    "    'Nigeria': result_dir + 'nigeria/2020_03_18_23_04_42'\n",
    "}"
   ]
  },
  {
   "cell_type": "code",
   "execution_count": 7,
   "metadata": {
    "scrolled": true
   },
   "outputs": [
    {
     "name": "stdout",
     "output_type": "stream",
     "text": [
      "Attention: Ethiopia has unmatched random_seed counts!\n",
      "Following are details, random_seed counts from yaml are 40\n",
      "input_draw\n",
      "21.0     80\n",
      "29.0     80\n",
      "55.0     80\n",
      "78.0     80\n",
      "155.0    80\n",
      "223.0    80\n",
      "232.0    80\n",
      "254.0    80\n",
      "307.0    80\n",
      "357.0    80\n",
      "394.0    80\n",
      "417.0    80\n",
      "482.0    80\n",
      "514.0    80\n",
      "524.0    80\n",
      "533.0    80\n",
      "602.0    80\n",
      "620.0    80\n",
      "629.0    80\n",
      "650.0    80\n",
      "674.0    80\n",
      "680.0    80\n",
      "733.0    80\n",
      "829.0    80\n",
      "946.0    80\n",
      "Name: random_seed, dtype: int64\n",
      "\n",
      "\n",
      "Attention: India has unmatched random_seed counts!\n",
      "Following are details, random_seed counts from yaml are 40\n",
      "input_draw\n",
      "21.0     80\n",
      "29.0     80\n",
      "55.0     80\n",
      "78.0     80\n",
      "155.0    80\n",
      "223.0    80\n",
      "232.0    80\n",
      "254.0    80\n",
      "307.0    80\n",
      "357.0    80\n",
      "394.0    80\n",
      "417.0    80\n",
      "482.0    80\n",
      "514.0    80\n",
      "524.0    80\n",
      "533.0    80\n",
      "602.0    80\n",
      "620.0    80\n",
      "629.0    80\n",
      "650.0    80\n",
      "674.0    80\n",
      "680.0    80\n",
      "733.0    80\n",
      "829.0    80\n",
      "946.0    80\n",
      "Name: random_seed, dtype: int64\n",
      "\n",
      "\n",
      "Attention: Nigeria has unmatched random_seed counts!\n",
      "Following are details, random_seed counts from yaml are 40\n",
      "input_draw\n",
      "21.0     80\n",
      "29.0     80\n",
      "55.0     80\n",
      "78.0     80\n",
      "155.0    80\n",
      "223.0    80\n",
      "232.0    80\n",
      "254.0    80\n",
      "307.0    80\n",
      "357.0    80\n",
      "394.0    80\n",
      "417.0    80\n",
      "482.0    80\n",
      "514.0    80\n",
      "524.0    80\n",
      "533.0    80\n",
      "602.0    80\n",
      "620.0    80\n",
      "629.0    80\n",
      "650.0    80\n",
      "674.0    80\n",
      "680.0    80\n",
      "733.0    80\n",
      "829.0    80\n",
      "946.0    80\n",
      "Name: random_seed, dtype: int64\n",
      "\n",
      "\n"
     ]
    }
   ],
   "source": [
    "for country in countries:\n",
    "    checkRandomSeed(filePath, country)"
   ]
  },
  {
   "cell_type": "code",
   "execution_count": 8,
   "metadata": {},
   "outputs": [],
   "source": [
    "def checkRandomSeed(filePath, country):\n",
    "    #load output data\n",
    "    output = pd.read_hdf(filePath.get(country) + '/output.hdf')\n",
    "    outputSeedSize = output.groupby('input_draw').random_seed.count()\n",
    "    #load yaml data\n",
    "    with open(filePath.get(country) + '/keyspace.yaml', 'r') as f:\n",
    "        yamlData = yaml.load(f.read())\n",
    "    yamlSeedSize = len(yamlData['random_seed'])\n",
    "    #compare random seeds\n",
    "    if len(outputSeedSize[outputSeedSize != yamlSeedSize]) != 0:\n",
    "        print(f'Attention: {country} has unmatched random_seed counts!')\n",
    "        print(f'Following are details, random_seed counts from yaml are {yamlSeedSize}')\n",
    "        print(outputSeedSize[outputSeedSize != yamlSeedSize])\n",
    "        print('\\n')\n",
    "    else: \n",
    "        print(f'{country} has matched random_seed counts')"
   ]
  },
  {
   "cell_type": "markdown",
   "metadata": {},
   "source": [
    "### 3. check random_seed counts for model 5"
   ]
  },
  {
   "cell_type": "code",
   "execution_count": 9,
   "metadata": {},
   "outputs": [],
   "source": [
    "result_dir = '/ihme/costeffectiveness/results/vivarium_conic_lsff/v5.0_vitamin_a_fortification/'\n",
    "filePath = {\n",
    "    'Ethiopia': result_dir + 'ethiopia/2020_03_26_08_33_10',\n",
    "    'India': result_dir + 'india/2020_03_26_21_28_29',\n",
    "    'Nigeria': result_dir + 'nigeria/2020_03_24_23_27_55'\n",
    "}"
   ]
  },
  {
   "cell_type": "code",
   "execution_count": 10,
   "metadata": {
    "scrolled": true
   },
   "outputs": [
    {
     "name": "stdout",
     "output_type": "stream",
     "text": [
      "Attention: Ethiopia has unmatched random_seed counts!\n",
      "Following are details, random_seed counts from yaml are 40\n",
      "input_draw\n",
      "21.0     120\n",
      "29.0     120\n",
      "55.0     120\n",
      "78.0     120\n",
      "155.0    120\n",
      "223.0    120\n",
      "232.0    120\n",
      "254.0    120\n",
      "307.0    120\n",
      "357.0    120\n",
      "394.0    120\n",
      "417.0    120\n",
      "482.0    120\n",
      "514.0    120\n",
      "524.0    120\n",
      "533.0    120\n",
      "602.0    120\n",
      "620.0    120\n",
      "629.0    120\n",
      "650.0    120\n",
      "674.0    120\n",
      "680.0    120\n",
      "733.0    120\n",
      "829.0    120\n",
      "946.0    120\n",
      "Name: random_seed, dtype: int64\n",
      "\n",
      "\n",
      "Attention: India has unmatched random_seed counts!\n",
      "Following are details, random_seed counts from yaml are 40\n",
      "input_draw\n",
      "21.0     120\n",
      "29.0     120\n",
      "55.0     120\n",
      "78.0     120\n",
      "155.0    120\n",
      "223.0    120\n",
      "232.0    120\n",
      "254.0    120\n",
      "307.0    120\n",
      "357.0    120\n",
      "394.0    120\n",
      "417.0    120\n",
      "482.0    120\n",
      "514.0    120\n",
      "524.0    120\n",
      "533.0    120\n",
      "602.0    120\n",
      "620.0    120\n",
      "629.0    120\n",
      "650.0    120\n",
      "674.0    120\n",
      "680.0    120\n",
      "733.0    120\n",
      "829.0    120\n",
      "946.0    120\n",
      "Name: random_seed, dtype: int64\n",
      "\n",
      "\n",
      "Attention: Nigeria has unmatched random_seed counts!\n",
      "Following are details, random_seed counts from yaml are 40\n",
      "input_draw\n",
      "21.0     120\n",
      "29.0     120\n",
      "55.0     120\n",
      "78.0     120\n",
      "155.0    120\n",
      "223.0    120\n",
      "232.0    120\n",
      "254.0    120\n",
      "307.0    120\n",
      "357.0    120\n",
      "394.0    120\n",
      "417.0    120\n",
      "482.0    120\n",
      "514.0    120\n",
      "524.0    120\n",
      "533.0    120\n",
      "602.0    120\n",
      "620.0    120\n",
      "629.0    120\n",
      "650.0    120\n",
      "674.0    120\n",
      "680.0    120\n",
      "733.0    120\n",
      "829.0    120\n",
      "946.0    120\n",
      "Name: random_seed, dtype: int64\n",
      "\n",
      "\n"
     ]
    }
   ],
   "source": [
    "for country in countries:\n",
    "    checkRandomSeed(filePath, country)"
   ]
  },
  {
   "cell_type": "markdown",
   "metadata": {},
   "source": [
    "### check why random_seed counts number is 120, take Ethiopia from model 5 for example"
   ]
  },
  {
   "cell_type": "code",
   "execution_count": 11,
   "metadata": {
    "scrolled": true
   },
   "outputs": [],
   "source": [
    "df = pd.read_hdf(filePath.get('Ethiopia') + '/output.hdf')"
   ]
  },
  {
   "cell_type": "code",
   "execution_count": 12,
   "metadata": {},
   "outputs": [
    {
     "data": {
      "text/plain": [
       "array([829., 155., 394., 533.,  55., 232., 524., 602.,  78., 514., 254.,\n",
       "       307., 417., 733., 680., 223., 482.,  29., 650., 629., 357., 946.,\n",
       "        21., 620., 674.])"
      ]
     },
     "execution_count": 12,
     "metadata": {},
     "output_type": "execute_result"
    }
   ],
   "source": [
    "df.input_draw.unique()"
   ]
  },
  {
   "cell_type": "code",
   "execution_count": 13,
   "metadata": {
    "scrolled": true
   },
   "outputs": [
    {
     "data": {
      "text/plain": [
       "205.0    3\n",
       "346.0    3\n",
       "199.0    3\n",
       "228.0    3\n",
       "215.0    3\n",
       "6.0      3\n",
       "145.0    3\n",
       "280.0    3\n",
       "45.0     3\n",
       "337.0    3\n",
       "139.0    3\n",
       "306.0    3\n",
       "38.0     3\n",
       "258.0    3\n",
       "114.0    3\n",
       "43.0     3\n",
       "92.0     3\n",
       "389.0    3\n",
       "76.0     3\n",
       "377.0    3\n",
       "388.0    3\n",
       "203.0    3\n",
       "243.0    3\n",
       "16.0     3\n",
       "88.0     3\n",
       "245.0    3\n",
       "66.0     3\n",
       "395.0    3\n",
       "169.0    3\n",
       "69.0     3\n",
       "87.0     3\n",
       "235.0    3\n",
       "134.0    3\n",
       "230.0    3\n",
       "55.0     3\n",
       "207.0    3\n",
       "35.0     3\n",
       "133.0    3\n",
       "185.0    3\n",
       "129.0    3\n",
       "Name: random_seed, dtype: int64"
      ]
     },
     "execution_count": 13,
     "metadata": {},
     "output_type": "execute_result"
    }
   ],
   "source": [
    "df.loc[df['input_draw'] == 21].random_seed.value_counts()"
   ]
  },
  {
   "cell_type": "code",
   "execution_count": null,
   "metadata": {},
   "outputs": [],
   "source": []
  }
 ],
 "metadata": {
  "kernelspec": {
   "display_name": "Python 3",
   "language": "python",
   "name": "python3"
  },
  "language_info": {
   "codemirror_mode": {
    "name": "ipython",
    "version": 3
   },
   "file_extension": ".py",
   "mimetype": "text/x-python",
   "name": "python",
   "nbconvert_exporter": "python",
   "pygments_lexer": "ipython3",
   "version": "3.6.9"
  }
 },
 "nbformat": 4,
 "nbformat_minor": 2
}
