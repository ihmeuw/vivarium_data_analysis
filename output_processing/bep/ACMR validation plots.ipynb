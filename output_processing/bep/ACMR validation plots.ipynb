{
 "cells": [
  {
   "cell_type": "code",
   "execution_count": 1,
   "metadata": {},
   "outputs": [],
   "source": [
    "from vivarium import Artifact\n",
    "import pandas as pd\n",
    "import numpy as np\n",
    "import seaborn as sns\n",
    "import matplotlib.pyplot as plt\n",
    "from db_queries import get_ids, get_outputs\n",
    "import scipy.stats"
   ]
  },
  {
   "cell_type": "code",
   "execution_count": 2,
   "metadata": {},
   "outputs": [],
   "source": [
    "output_dirs = ['/ihme/costeffectiveness/results/vivarium_gates_bep/lbwsg_acmr/india/2020_02_24_01_05_37/count_data/',\n",
    "               '/ihme/costeffectiveness/results/vivarium_gates_bep/lbwsg_acmr/mali/2020_02_24_01_07_25/count_data/',\n",
    "               '/ihme/costeffectiveness/results/vivarium_gates_bep/lbwsg_acmr/pakistan/2020_02_24_01_08_41/count_data/',\n",
    "               '/ihme/costeffectiveness/results/vivarium_gates_bep/lbwsg_acmr/tanzania/2020_02_24_01_10_34/count_data/']\n",
    "\n",
    "locations = ['India','Mali','Pakistan','Tanzania']"
   ]
  },
  {
   "cell_type": "code",
   "execution_count": 22,
   "metadata": {},
   "outputs": [
    {
     "data": {
      "text/html": [
       "<div>\n",
       "<style scoped>\n",
       "    .dataframe tbody tr th:only-of-type {\n",
       "        vertical-align: middle;\n",
       "    }\n",
       "\n",
       "    .dataframe tbody tr th {\n",
       "        vertical-align: top;\n",
       "    }\n",
       "\n",
       "    .dataframe thead th {\n",
       "        text-align: right;\n",
       "    }\n",
       "</style>\n",
       "<table border=\"1\" class=\"dataframe\">\n",
       "  <thead>\n",
       "    <tr style=\"text-align: right;\">\n",
       "      <th></th>\n",
       "      <th>age_group</th>\n",
       "      <th>cause_specific_mortality_rate</th>\n",
       "      <th>location</th>\n",
       "    </tr>\n",
       "  </thead>\n",
       "  <tbody>\n",
       "    <tr>\n",
       "      <th>0</th>\n",
       "      <td>1_to_4</td>\n",
       "      <td>0.001457</td>\n",
       "      <td>India</td>\n",
       "    </tr>\n",
       "    <tr>\n",
       "      <th>1</th>\n",
       "      <td>1mo_to_6mo</td>\n",
       "      <td>0.011902</td>\n",
       "      <td>India</td>\n",
       "    </tr>\n",
       "    <tr>\n",
       "      <th>2</th>\n",
       "      <td>6mo_to_1</td>\n",
       "      <td>0.011795</td>\n",
       "      <td>India</td>\n",
       "    </tr>\n",
       "    <tr>\n",
       "      <th>3</th>\n",
       "      <td>early_neonatal</td>\n",
       "      <td>0.904054</td>\n",
       "      <td>India</td>\n",
       "    </tr>\n",
       "    <tr>\n",
       "      <th>4</th>\n",
       "      <td>late_neonatal</td>\n",
       "      <td>0.059193</td>\n",
       "      <td>India</td>\n",
       "    </tr>\n",
       "  </tbody>\n",
       "</table>\n",
       "</div>"
      ],
      "text/plain": [
       "        age_group  cause_specific_mortality_rate location\n",
       "0          1_to_4                       0.001457    India\n",
       "1      1mo_to_6mo                       0.011902    India\n",
       "2        6mo_to_1                       0.011795    India\n",
       "3  early_neonatal                       0.904054    India\n",
       "4   late_neonatal                       0.059193    India"
      ]
     },
     "execution_count": 22,
     "metadata": {},
     "output_type": "execute_result"
    }
   ],
   "source": [
    "acmr = pd.DataFrame()\n",
    "for i in list(range(len(output_dirs))):\n",
    "    deaths = pd.read_hdf(output_dirs[i] + 'deaths.hdf')\n",
    "    deaths = (deaths.where(deaths['scenario'] == 'baseline').dropna()\n",
    "              .groupby(['input_draw','age_group'], as_index=False).sum()\n",
    "              .rename(columns={'value':'deaths'}))\n",
    "    pt = pd.read_hdf(output_dirs[i] + 'person_time.hdf')\n",
    "    pt = (pt.where(pt['scenario'] == 'baseline').dropna()\n",
    "          .groupby(['input_draw','age_group'], as_index=False).sum()\n",
    "          .rename(columns={'value':'person_time'}))\n",
    "    data = deaths.merge(pt, right_on=['input_draw','age_group'],\n",
    "               left_on=['input_draw','age_group'])\n",
    "    data['cause_specific_mortality_rate'] = data['deaths'] / data['person_time']\n",
    "    data = data.groupby('age_group', as_index=False).mean()\n",
    "    data['location'] = locations[i]\n",
    "    acmr = acmr.append(data)\n",
    "acmr = acmr.sort_values(by='location').drop(columns=['input_draw','person_time','deaths'])\n",
    "acmr.head()"
   ]
  },
  {
   "cell_type": "code",
   "execution_count": 9,
   "metadata": {},
   "outputs": [],
   "source": [
    "# define function to load data from artifact for a specified cause and measure\n",
    "# this function is called in the next function below\n",
    "\n",
    "def load_artifact_data(cause, measure):\n",
    "    master_art_data = pd.DataFrame()\n",
    "    for i in ['india','mali','pakistan','tanzania']:\n",
    "        art = Artifact('/share/costeffectiveness/artifacts/vivarium_gates_bep/' + i + '.hdf', \n",
    "                   filter_terms=['year_start == 2017', 'age_start < 5'])\n",
    "        data = art.load('cause.' + cause + '.' + measure)\n",
    "        data = pd.DataFrame(data.mean(axis=1)).reset_index().rename(columns={0:'value'})\n",
    "        data['location'] = i.capitalize()\n",
    "        data['measure'] = measure\n",
    "        data['age_group'] = 0\n",
    "        data['age_group'] = np.where(data['age_start'] == 0, 'early_neonatal', \n",
    "                                   np.where(data['age_end'] == 1, '1mo_to_6mo',\n",
    "                                            np.where(data['age_start'] == 1, '1_to_4', \n",
    "                                                    'late_neonatal')))\n",
    "        master_art_data = master_art_data.append(data)\n",
    "    return master_art_data"
   ]
  },
  {
   "cell_type": "code",
   "execution_count": 37,
   "metadata": {},
   "outputs": [
    {
     "data": {
      "image/png": "[encoded data removed]",
      "text/plain": [
       "<Figure size 432x288 with 4 Axes>"
      ]
     },
     "metadata": {
      "needs_background": "light"
     },
     "output_type": "display_data"
    }
   ],
   "source": [
    "model_data = acmr\n",
    "artifact_data = art_acmr\n",
    "\n",
    "barWidth = 0.3\n",
    "fig,axs = plt.subplots(2,2)\n",
    "model = model_data['cause_specific_mortality_rate'].where(model_data['age_group'] == 'early_neonatal').dropna()\n",
    "gbd = artifact_data['value'].where(artifact_data['age_group'] == 'early_neonatal').dropna()\n",
    "a = np.arange(len(model))\n",
    "b = [x + barWidth for x in a]\n",
    "axs[0,0].bar(a, gbd, width=barWidth)\n",
    "axs[0,0].bar(b, model, width=barWidth)\n",
    "axs[0,0].set_title('Early Neonatal')\n",
    "model = model_data['cause_specific_mortality_rate'].where(model_data['age_group'] == 'late_neonatal').dropna()\n",
    "gbd = artifact_data['value'].where(artifact_data['age_group'] == 'late_neonatal').dropna()\n",
    "a = np.arange(len(model))\n",
    "b = [x + barWidth for x in a]\n",
    "axs[0,1].bar(a, gbd, width=barWidth)\n",
    "axs[0,1].bar(b, model, width=barWidth)\n",
    "axs[0,1].set_title('Late Neonatal')\n",
    "model = model_data['cause_specific_mortality_rate'].where(model_data['age_group'] == '1mo_to_6mo').dropna()\n",
    "gbd = artifact_data['value'].where(artifact_data['age_group'] == '1mo_to_6mo').dropna()\n",
    "a = np.arange(len(model))\n",
    "b = [x + barWidth for x in a]\n",
    "axs[1,0].bar(a, gbd, width=barWidth)\n",
    "axs[1,0].bar(b, model, width=barWidth)\n",
    "axs[1,0].set_title('1 Month to 1 Year')\n",
    "model = model_data['cause_specific_mortality_rate'].where(model_data['age_group'] == '1_to_4').dropna()\n",
    "gbd = artifact_data['value'].where(artifact_data['age_group'] == '1_to_4').dropna()\n",
    "a = np.arange(len(model))\n",
    "b = [x + barWidth for x in a]\n",
    "axs[1,1].bar(a, gbd, width=barWidth)\n",
    "axs[1,1].bar(b, model, width=barWidth)\n",
    "axs[1,1].set_title('1-4 Years')\n",
    "plt.setp(axs, xticks=[r + barWidth for r in range(len(model))], \n",
    "         xticklabels=np.unique(model_data['location']))\n",
    "for ax in axs.flat:\n",
    "    ax.set(ylabel='ACMR')\n",
    "plt.legend(['Artifact Input','Model Output'])\n",
    "plt.suptitle('All Cause Mortality Rate',x=0.55, y=1)\n",
    "plt.subplots_adjust(right=1.7, top=1.5)\n",
    "plt.tight_layout()"
   ]
  },
  {
   "cell_type": "code",
   "execution_count": null,
   "metadata": {},
   "outputs": [],
   "source": []
  }
 ],
 "metadata": {
  "kernelspec": {
   "display_name": "Python 3",
   "language": "python",
   "name": "python3"
  },
  "language_info": {
   "codemirror_mode": {
    "name": "ipython",
    "version": 3
   },
   "file_extension": ".py",
   "mimetype": "text/x-python",
   "name": "python",
   "nbconvert_exporter": "python",
   "pygments_lexer": "ipython3",
   "version": "3.6.9"
  }
 },
 "nbformat": 4,
 "nbformat_minor": 2
}
