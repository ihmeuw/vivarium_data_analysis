{
 "cells": [
  {
   "cell_type": "code",
   "execution_count": 21,
   "metadata": {},
   "outputs": [],
   "source": [
    "from vivarium import Artifact\n",
    "import pandas as pd\n",
    "import numpy as np\n",
    "import seaborn as sns\n",
    "import matplotlib.pyplot as plt\n",
    "from db_queries import get_ids, get_outputs\n",
    "import scipy.stats"
   ]
  },
  {
   "cell_type": "code",
   "execution_count": 22,
   "metadata": {},
   "outputs": [],
   "source": [
    "from gbd_mapping import risk_factors\n",
    "from vivarium_inputs import get_measure\n",
    "from operator import attrgetter"
   ]
  },
  {
   "cell_type": "code",
   "execution_count": 23,
   "metadata": {},
   "outputs": [],
   "source": [
    "output_dirs = ['/ihme/costeffectiveness/results/vivarium_gates_bep/scenarios_fixed/india/2020_02_06_17_37_48/count_data/',\n",
    "                '/ihme/costeffectiveness/results/vivarium_gates_bep/scenarios_fixed/pakistan/2020_02_06_17_38_45/count_data/',\n",
    "              '/share/costeffectiveness/results/vivarium_gates_bep/scenarios_fixed/tanzania/2020_02_06_17_39_16/count_data/',\n",
    "              '/share/costeffectiveness/results/vivarium_gates_bep/scenarios_fixed/mali/2020_02_06_17_38_33/count_data/']\n",
    "\n",
    "locations = ['India',\n",
    "            'Pakistan',\n",
    "            'Tanzania',\n",
    "            'Mali']"
   ]
  },
  {
   "cell_type": "code",
   "execution_count": 24,
   "metadata": {},
   "outputs": [
    {
     "name": "stderr",
     "output_type": "stream",
     "text": [
      "/ihme/homes/alibow/.conda/envs/vivarium_conic_lsff/lib/python3.6/site-packages/pandas/core/frame.py:6692: FutureWarning: Sorting because non-concatenation axis is not aligned. A future version\n",
      "of pandas will change to not sort by default.\n",
      "\n",
      "To accept the future behavior, pass 'sort=False'.\n",
      "\n",
      "To retain the current behavior and silence the warning, pass 'sort=True'.\n",
      "\n",
      "  sort=sort)\n"
     ]
    },
    {
     "data": {
      "text/html": [
       "<div>\n",
       "<style scoped>\n",
       "    .dataframe tbody tr th:only-of-type {\n",
       "        vertical-align: middle;\n",
       "    }\n",
       "\n",
       "    .dataframe tbody tr th {\n",
       "        vertical-align: top;\n",
       "    }\n",
       "\n",
       "    .dataframe thead th {\n",
       "        text-align: right;\n",
       "    }\n",
       "</style>\n",
       "<table border=\"1\" class=\"dataframe\">\n",
       "  <thead>\n",
       "    <tr style=\"text-align: right;\">\n",
       "      <th></th>\n",
       "      <th>age_group</th>\n",
       "      <th>location</th>\n",
       "      <th>person_time</th>\n",
       "    </tr>\n",
       "  </thead>\n",
       "  <tbody>\n",
       "    <tr>\n",
       "      <th>0</th>\n",
       "      <td>1_to_4</td>\n",
       "      <td>India</td>\n",
       "      <td>97265.096372</td>\n",
       "    </tr>\n",
       "    <tr>\n",
       "      <th>0</th>\n",
       "      <td>6mo_to_1</td>\n",
       "      <td>India</td>\n",
       "      <td>187740.828351</td>\n",
       "    </tr>\n",
       "    <tr>\n",
       "      <th>0</th>\n",
       "      <td>1_to_4</td>\n",
       "      <td>Pakistan</td>\n",
       "      <td>96154.572279</td>\n",
       "    </tr>\n",
       "    <tr>\n",
       "      <th>0</th>\n",
       "      <td>6mo_to_1</td>\n",
       "      <td>Pakistan</td>\n",
       "      <td>185706.952609</td>\n",
       "    </tr>\n",
       "    <tr>\n",
       "      <th>0</th>\n",
       "      <td>1_to_4</td>\n",
       "      <td>Tanzania</td>\n",
       "      <td>96169.066010</td>\n",
       "    </tr>\n",
       "    <tr>\n",
       "      <th>0</th>\n",
       "      <td>6mo_to_1</td>\n",
       "      <td>Tanzania</td>\n",
       "      <td>186187.669095</td>\n",
       "    </tr>\n",
       "    <tr>\n",
       "      <th>0</th>\n",
       "      <td>1_to_4</td>\n",
       "      <td>Mali</td>\n",
       "      <td>93760.383641</td>\n",
       "    </tr>\n",
       "    <tr>\n",
       "      <th>0</th>\n",
       "      <td>6mo_to_1</td>\n",
       "      <td>Mali</td>\n",
       "      <td>182440.494951</td>\n",
       "    </tr>\n",
       "  </tbody>\n",
       "</table>\n",
       "</div>"
      ],
      "text/plain": [
       "  age_group  location    person_time\n",
       "0    1_to_4     India   97265.096372\n",
       "0  6mo_to_1     India  187740.828351\n",
       "0    1_to_4  Pakistan   96154.572279\n",
       "0  6mo_to_1  Pakistan  185706.952609\n",
       "0    1_to_4  Tanzania   96169.066010\n",
       "0  6mo_to_1  Tanzania  186187.669095\n",
       "0    1_to_4      Mali   93760.383641\n",
       "0  6mo_to_1      Mali  182440.494951"
      ]
     },
     "execution_count": 24,
     "metadata": {},
     "output_type": "execute_result"
    }
   ],
   "source": [
    "master_pt = pd.DataFrame()\n",
    "for i in list(range(len(output_dirs))):\n",
    "    pt = pd.read_hdf(output_dirs[i] + 'person_time.hdf')\n",
    "    pt = pt.where(pt['scenario'] == 'baseline').dropna().drop(columns=['scenario','measure'])\n",
    "    pt = pt.where(pt['age_group'].isin(['1mo_to_6mo','6mo_to_1','1_to_4'])).dropna()\n",
    "    pt = pt.groupby(['age_group','input_draw'], as_index=False).sum()\n",
    "    pt = pt.groupby('age_group', as_index=False).mean().drop(columns='input_draw')\n",
    "    pt['location'] = locations[i] \n",
    "    pt_over_1 = pt.where(pt['age_group'] == '1_to_4').dropna()\n",
    "    pt_under_1 = pt.where(pt['age_group'].isin(['1mo_to_6mo','6mo_to_1'])).dropna()\n",
    "    pt_under_1 = pt.groupby('location', as_index=False).sum()\n",
    "    pt_under_1['age_group'] = '6mo_to_1'\n",
    "    pt = pt_over_1.append(pt_under_1).rename(columns={'value':'person_time'})\n",
    "    master_pt = master_pt.append(pt)\n",
    "master_pt"
   ]
  },
  {
   "cell_type": "code",
   "execution_count": 25,
   "metadata": {},
   "outputs": [
    {
     "name": "stderr",
     "output_type": "stream",
     "text": [
      "/ihme/homes/alibow/.conda/envs/vivarium_conic_lsff/lib/python3.6/site-packages/vivarium_inputs/validation/raw.py:1405: UserWarning: Risk_factor child_stunting exposure data may violate the following restrictions:  age restriction.\n",
      "  warnings.warn(f'{entity.kind.capitalize()} {entity.name} {measure} data may violate the '\n",
      "/ihme/homes/alibow/.conda/envs/vivarium_conic_lsff/lib/python3.6/site-packages/vivarium_inputs/validation/raw.py:1960: UserWarning: Data was only expected to contain values for age groups between ids 4 and 5 but also included values for age groups {2, 3}.\n",
      "  warnings.warn(f'Data was only expected to contain values for age groups between ids '\n",
      "/ihme/homes/alibow/.conda/envs/vivarium_conic_lsff/lib/python3.6/site-packages/vivarium_inputs/validation/raw.py:1405: UserWarning: Risk_factor child_stunting exposure data may violate the following restrictions:  age restriction.\n",
      "  warnings.warn(f'{entity.kind.capitalize()} {entity.name} {measure} data may violate the '\n",
      "/ihme/homes/alibow/.conda/envs/vivarium_conic_lsff/lib/python3.6/site-packages/vivarium_inputs/validation/raw.py:1960: UserWarning: Data was only expected to contain values for age groups between ids 4 and 5 but also included values for age groups {2, 3}.\n",
      "  warnings.warn(f'Data was only expected to contain values for age groups between ids '\n",
      "/ihme/homes/alibow/.conda/envs/vivarium_conic_lsff/lib/python3.6/site-packages/vivarium_inputs/validation/raw.py:1405: UserWarning: Risk_factor child_stunting exposure data may violate the following restrictions:  age restriction.\n",
      "  warnings.warn(f'{entity.kind.capitalize()} {entity.name} {measure} data may violate the '\n",
      "/ihme/homes/alibow/.conda/envs/vivarium_conic_lsff/lib/python3.6/site-packages/vivarium_inputs/validation/raw.py:1960: UserWarning: Data was only expected to contain values for age groups between ids 4 and 5 but also included values for age groups {2, 3}.\n",
      "  warnings.warn(f'Data was only expected to contain values for age groups between ids '\n",
      "/ihme/homes/alibow/.conda/envs/vivarium_conic_lsff/lib/python3.6/site-packages/vivarium_inputs/validation/raw.py:1405: UserWarning: Risk_factor child_stunting exposure data may violate the following restrictions:  age restriction.\n",
      "  warnings.warn(f'{entity.kind.capitalize()} {entity.name} {measure} data may violate the '\n",
      "/ihme/homes/alibow/.conda/envs/vivarium_conic_lsff/lib/python3.6/site-packages/vivarium_inputs/validation/raw.py:1960: UserWarning: Data was only expected to contain values for age groups between ids 4 and 5 but also included values for age groups {2, 3}.\n",
      "  warnings.warn(f'Data was only expected to contain values for age groups between ids '\n"
     ]
    },
    {
     "data": {
      "text/html": [
       "<div>\n",
       "<style scoped>\n",
       "    .dataframe tbody tr th:only-of-type {\n",
       "        vertical-align: middle;\n",
       "    }\n",
       "\n",
       "    .dataframe tbody tr th {\n",
       "        vertical-align: top;\n",
       "    }\n",
       "\n",
       "    .dataframe thead th {\n",
       "        text-align: right;\n",
       "    }\n",
       "</style>\n",
       "<table border=\"1\" class=\"dataframe\">\n",
       "  <thead>\n",
       "    <tr style=\"text-align: right;\">\n",
       "      <th></th>\n",
       "      <th>location</th>\n",
       "      <th>exposure</th>\n",
       "      <th>person_time</th>\n",
       "      <th>weighted_exposure</th>\n",
       "      <th>average_exposure</th>\n",
       "    </tr>\n",
       "  </thead>\n",
       "  <tbody>\n",
       "    <tr>\n",
       "      <th>0</th>\n",
       "      <td>India</td>\n",
       "      <td>0.417722</td>\n",
       "      <td>97265.096372</td>\n",
       "      <td>40629.726099</td>\n",
       "      <td>0.417722</td>\n",
       "    </tr>\n",
       "    <tr>\n",
       "      <th>1</th>\n",
       "      <td>Mali</td>\n",
       "      <td>0.369725</td>\n",
       "      <td>93760.383641</td>\n",
       "      <td>34665.580184</td>\n",
       "      <td>0.369725</td>\n",
       "    </tr>\n",
       "    <tr>\n",
       "      <th>2</th>\n",
       "      <td>Pakistan</td>\n",
       "      <td>0.453403</td>\n",
       "      <td>96154.572279</td>\n",
       "      <td>43596.749084</td>\n",
       "      <td>0.453403</td>\n",
       "    </tr>\n",
       "    <tr>\n",
       "      <th>3</th>\n",
       "      <td>Tanzania</td>\n",
       "      <td>0.388859</td>\n",
       "      <td>96169.066010</td>\n",
       "      <td>37396.219310</td>\n",
       "      <td>0.388859</td>\n",
       "    </tr>\n",
       "  </tbody>\n",
       "</table>\n",
       "</div>"
      ],
      "text/plain": [
       "   location  exposure   person_time  weighted_exposure  average_exposure\n",
       "0     India  0.417722  97265.096372       40629.726099          0.417722\n",
       "1      Mali  0.369725  93760.383641       34665.580184          0.369725\n",
       "2  Pakistan  0.453403  96154.572279       43596.749084          0.453403\n",
       "3  Tanzania  0.388859  96169.066010       37396.219310          0.388859"
      ]
     },
     "execution_count": 25,
     "metadata": {},
     "output_type": "execute_result"
    }
   ],
   "source": [
    "stunting = pd.DataFrame()\n",
    "for location in ['India','Mali','Pakistan','Tanzania']:\n",
    "    data = get_measure(risk_factors.child_stunting, 'exposure', location)\n",
    "    data = pd.DataFrame(data.mean(axis=1)).rename(columns={0:'exposure'}).reset_index()\n",
    "    data['year'] = data['year'].map(attrgetter('left'))\n",
    "    data = data.where(data['year'] == 2017).dropna()\n",
    "    data['age_start'] = data['age'].map(attrgetter('left'))\n",
    "    data['age_end'] = data['age'].map(attrgetter('right'))\n",
    "    data = data.where(data['age_start'] < 5).where(data['age_start'] > 0.07).dropna().drop(columns=['year','age'])\n",
    "    data['age_group'] = np.where(data['age_end'] == 1, '1mo_to_6mo', '1_to_4')\n",
    "    data = data.drop(columns=['age_start','age_end'])\n",
    "    stunting = stunting.append(data)\n",
    "stunted = stunting.groupby(['location','parameter','age_group'], as_index=False).mean()\n",
    "stunted = stunted.where(stunted['parameter'].isin(['cat1','cat2'])).dropna()\n",
    "stunted = stunted.groupby(['location','age_group'], as_index=False).sum().sort_values(by='location')\n",
    "stunted = stunted.merge(master_pt, right_on=['location','age_group'], left_on=['location','age_group'])\n",
    "stunted['weighted_exposure'] = stunted['exposure'] * stunted['person_time']\n",
    "stunted = stunted.groupby('location', as_index=False).sum()\n",
    "stunted['average_exposure'] = stunted['weighted_exposure'] / stunted['person_time']\n",
    "stunted.head()"
   ]
  },
  {
   "cell_type": "code",
   "execution_count": 26,
   "metadata": {},
   "outputs": [
    {
     "name": "stderr",
     "output_type": "stream",
     "text": [
      "/ihme/homes/alibow/.conda/envs/vivarium_conic_lsff/lib/python3.6/site-packages/vivarium_inputs/validation/raw.py:1405: UserWarning: Risk_factor child_wasting exposure data may violate the following restrictions:  age restriction.\n",
      "  warnings.warn(f'{entity.kind.capitalize()} {entity.name} {measure} data may violate the '\n",
      "/ihme/homes/alibow/.conda/envs/vivarium_conic_lsff/lib/python3.6/site-packages/vivarium_inputs/validation/raw.py:1954: UserWarning: Data was expected to contain all age groups between ids 2 and 235 but was missing the following: {6, 7, 8, 9, 10, 11, 12, 13, 14, 15, 16, 17, 18, 19, 20, 30, 31, 32, 235}.\n",
      "  warnings.warn(message)\n",
      "/ihme/homes/alibow/.conda/envs/vivarium_conic_lsff/lib/python3.6/site-packages/vivarium_inputs/validation/raw.py:1405: UserWarning: Risk_factor child_wasting exposure data may violate the following restrictions:  age restriction.\n",
      "  warnings.warn(f'{entity.kind.capitalize()} {entity.name} {measure} data may violate the '\n",
      "/ihme/homes/alibow/.conda/envs/vivarium_conic_lsff/lib/python3.6/site-packages/vivarium_inputs/validation/raw.py:1954: UserWarning: Data was expected to contain all age groups between ids 2 and 235 but was missing the following: {6, 7, 8, 9, 10, 11, 12, 13, 14, 15, 16, 17, 18, 19, 20, 30, 31, 32, 235}.\n",
      "  warnings.warn(message)\n",
      "/ihme/homes/alibow/.conda/envs/vivarium_conic_lsff/lib/python3.6/site-packages/vivarium_inputs/validation/raw.py:1405: UserWarning: Risk_factor child_wasting exposure data may violate the following restrictions:  age restriction.\n",
      "  warnings.warn(f'{entity.kind.capitalize()} {entity.name} {measure} data may violate the '\n",
      "/ihme/homes/alibow/.conda/envs/vivarium_conic_lsff/lib/python3.6/site-packages/vivarium_inputs/validation/raw.py:1954: UserWarning: Data was expected to contain all age groups between ids 2 and 235 but was missing the following: {6, 7, 8, 9, 10, 11, 12, 13, 14, 15, 16, 17, 18, 19, 20, 30, 31, 32, 235}.\n",
      "  warnings.warn(message)\n",
      "/ihme/homes/alibow/.conda/envs/vivarium_conic_lsff/lib/python3.6/site-packages/vivarium_inputs/validation/raw.py:1405: UserWarning: Risk_factor child_wasting exposure data may violate the following restrictions:  age restriction.\n",
      "  warnings.warn(f'{entity.kind.capitalize()} {entity.name} {measure} data may violate the '\n",
      "/ihme/homes/alibow/.conda/envs/vivarium_conic_lsff/lib/python3.6/site-packages/vivarium_inputs/validation/raw.py:1954: UserWarning: Data was expected to contain all age groups between ids 2 and 235 but was missing the following: {6, 7, 8, 9, 10, 11, 12, 13, 14, 15, 16, 17, 18, 19, 20, 30, 31, 32, 235}.\n",
      "  warnings.warn(message)\n"
     ]
    },
    {
     "data": {
      "text/html": [
       "<div>\n",
       "<style scoped>\n",
       "    .dataframe tbody tr th:only-of-type {\n",
       "        vertical-align: middle;\n",
       "    }\n",
       "\n",
       "    .dataframe tbody tr th {\n",
       "        vertical-align: top;\n",
       "    }\n",
       "\n",
       "    .dataframe thead th {\n",
       "        text-align: right;\n",
       "    }\n",
       "</style>\n",
       "<table border=\"1\" class=\"dataframe\">\n",
       "  <thead>\n",
       "    <tr style=\"text-align: right;\">\n",
       "      <th></th>\n",
       "      <th>location</th>\n",
       "      <th>exposure</th>\n",
       "      <th>person_time</th>\n",
       "      <th>weighted_exposure</th>\n",
       "      <th>average_exposure</th>\n",
       "    </tr>\n",
       "  </thead>\n",
       "  <tbody>\n",
       "    <tr>\n",
       "      <th>0</th>\n",
       "      <td>India</td>\n",
       "      <td>0.154829</td>\n",
       "      <td>97265.096372</td>\n",
       "      <td>15059.504732</td>\n",
       "      <td>0.154829</td>\n",
       "    </tr>\n",
       "    <tr>\n",
       "      <th>1</th>\n",
       "      <td>Mali</td>\n",
       "      <td>0.126888</td>\n",
       "      <td>93760.383641</td>\n",
       "      <td>11897.085121</td>\n",
       "      <td>0.126888</td>\n",
       "    </tr>\n",
       "    <tr>\n",
       "      <th>2</th>\n",
       "      <td>Pakistan</td>\n",
       "      <td>0.125700</td>\n",
       "      <td>96154.572279</td>\n",
       "      <td>12086.632779</td>\n",
       "      <td>0.125700</td>\n",
       "    </tr>\n",
       "    <tr>\n",
       "      <th>3</th>\n",
       "      <td>Tanzania</td>\n",
       "      <td>0.040655</td>\n",
       "      <td>96169.066010</td>\n",
       "      <td>3909.787283</td>\n",
       "      <td>0.040655</td>\n",
       "    </tr>\n",
       "  </tbody>\n",
       "</table>\n",
       "</div>"
      ],
      "text/plain": [
       "   location  exposure   person_time  weighted_exposure  average_exposure\n",
       "0     India  0.154829  97265.096372       15059.504732          0.154829\n",
       "1      Mali  0.126888  93760.383641       11897.085121          0.126888\n",
       "2  Pakistan  0.125700  96154.572279       12086.632779          0.125700\n",
       "3  Tanzania  0.040655  96169.066010        3909.787283          0.040655"
      ]
     },
     "execution_count": 26,
     "metadata": {},
     "output_type": "execute_result"
    }
   ],
   "source": [
    "wasting = pd.DataFrame()\n",
    "for location in ['India','Mali','Pakistan','Tanzania']:\n",
    "    data = get_measure(risk_factors.child_wasting, 'exposure', location)\n",
    "    data = pd.DataFrame(data.mean(axis=1)).rename(columns={0:'exposure'}).reset_index()\n",
    "    data['year'] = data['year'].map(attrgetter('left'))\n",
    "    data = data.where(data['year'] == 2017).dropna()\n",
    "    data['age_start'] = data['age'].map(attrgetter('left'))\n",
    "    data['age_end'] = data['age'].map(attrgetter('right'))\n",
    "    data = data.where(data['age_start'] < 5).where(data['age_start'] > 0.07).dropna().drop(columns=['year','age'])\n",
    "    data['age_group'] = np.where(data['age_end'] == 1, '1mo_to_6mo', '1_to_4')\n",
    "    data = data.drop(columns=['age_start','age_end'])\n",
    "    wasting = wasting.append(data)\n",
    "wasted = wasting.groupby(['location','parameter','age_group'], as_index=False).mean()\n",
    "wasted = wasted.where(wasted['parameter'].isin(['cat1','cat2'])).dropna()\n",
    "wasted = wasted.groupby(['location','age_group'], as_index=False).sum().sort_values(by='location')\n",
    "wasted = wasted.merge(master_pt, right_on=['location','age_group'], left_on=['location','age_group'])\n",
    "wasted['weighted_exposure'] = wasted['exposure'] * wasted['person_time']\n",
    "wasted = wasted.groupby('location', as_index=False).sum()\n",
    "wasted['average_exposure'] = wasted['weighted_exposure'] / wasted['person_time']\n",
    "wasted.head()"
   ]
  },
  {
   "cell_type": "code",
   "execution_count": 27,
   "metadata": {},
   "outputs": [
    {
     "data": {
      "text/html": [
       "<div>\n",
       "<style scoped>\n",
       "    .dataframe tbody tr th:only-of-type {\n",
       "        vertical-align: middle;\n",
       "    }\n",
       "\n",
       "    .dataframe tbody tr th {\n",
       "        vertical-align: top;\n",
       "    }\n",
       "\n",
       "    .dataframe thead th {\n",
       "        text-align: right;\n",
       "    }\n",
       "</style>\n",
       "<table border=\"1\" class=\"dataframe\">\n",
       "  <thead>\n",
       "    <tr style=\"text-align: right;\">\n",
       "      <th></th>\n",
       "      <th>risk</th>\n",
       "      <th>measure</th>\n",
       "      <th>scenario</th>\n",
       "      <th>treatment_group</th>\n",
       "      <th>mother_status</th>\n",
       "      <th>value</th>\n",
       "      <th>total_population</th>\n",
       "      <th>weighted_value</th>\n",
       "      <th>location</th>\n",
       "    </tr>\n",
       "  </thead>\n",
       "  <tbody>\n",
       "    <tr>\n",
       "      <th>0</th>\n",
       "      <td>birth_weight</td>\n",
       "      <td>mean</td>\n",
       "      <td>baseline</td>\n",
       "      <td>bep</td>\n",
       "      <td>malnourished</td>\n",
       "      <td>0.000000</td>\n",
       "      <td>0.00</td>\n",
       "      <td>0.000000e+00</td>\n",
       "      <td>India</td>\n",
       "    </tr>\n",
       "    <tr>\n",
       "      <th>1</th>\n",
       "      <td>birth_weight</td>\n",
       "      <td>mean</td>\n",
       "      <td>baseline</td>\n",
       "      <td>bep</td>\n",
       "      <td>normal</td>\n",
       "      <td>0.000000</td>\n",
       "      <td>0.00</td>\n",
       "      <td>0.000000e+00</td>\n",
       "      <td>India</td>\n",
       "    </tr>\n",
       "    <tr>\n",
       "      <th>2</th>\n",
       "      <td>birth_weight</td>\n",
       "      <td>mean</td>\n",
       "      <td>baseline</td>\n",
       "      <td>ifa</td>\n",
       "      <td>malnourished</td>\n",
       "      <td>2684.283214</td>\n",
       "      <td>5770.54</td>\n",
       "      <td>1.548976e+07</td>\n",
       "      <td>India</td>\n",
       "    </tr>\n",
       "    <tr>\n",
       "      <th>3</th>\n",
       "      <td>birth_weight</td>\n",
       "      <td>mean</td>\n",
       "      <td>baseline</td>\n",
       "      <td>ifa</td>\n",
       "      <td>normal</td>\n",
       "      <td>3038.537322</td>\n",
       "      <td>28261.14</td>\n",
       "      <td>8.587253e+07</td>\n",
       "      <td>India</td>\n",
       "    </tr>\n",
       "    <tr>\n",
       "      <th>4</th>\n",
       "      <td>birth_weight</td>\n",
       "      <td>mean</td>\n",
       "      <td>baseline</td>\n",
       "      <td>mmn</td>\n",
       "      <td>malnourished</td>\n",
       "      <td>0.000000</td>\n",
       "      <td>0.00</td>\n",
       "      <td>0.000000e+00</td>\n",
       "      <td>India</td>\n",
       "    </tr>\n",
       "  </tbody>\n",
       "</table>\n",
       "</div>"
      ],
      "text/plain": [
       "           risk measure  scenario treatment_group mother_status        value  \\\n",
       "0  birth_weight    mean  baseline             bep  malnourished     0.000000   \n",
       "1  birth_weight    mean  baseline             bep        normal     0.000000   \n",
       "2  birth_weight    mean  baseline             ifa  malnourished  2684.283214   \n",
       "3  birth_weight    mean  baseline             ifa        normal  3038.537322   \n",
       "4  birth_weight    mean  baseline             mmn  malnourished     0.000000   \n",
       "\n",
       "   total_population  weighted_value location  \n",
       "0              0.00    0.000000e+00    India  \n",
       "1              0.00    0.000000e+00    India  \n",
       "2           5770.54    1.548976e+07    India  \n",
       "3          28261.14    8.587253e+07    India  \n",
       "4              0.00    0.000000e+00    India  "
      ]
     },
     "execution_count": 27,
     "metadata": {},
     "output_type": "execute_result"
    }
   ],
   "source": [
    "master_bw = pd.DataFrame()\n",
    "\n",
    "for i in list(range(len(output_dirs))):\n",
    "    bw = pd.read_hdf(output_dirs[i] + 'birth_weight.hdf').reset_index().sort_values(by=['risk','measure','scenario','treatment_group','mother_status'])\n",
    "    pop = pd.read_hdf(output_dirs[i] + 'population.hdf').reset_index()\n",
    "    pop = pop.where(pop['measure'] == 'total_population').dropna().rename(columns={'value':'total_population'}).drop(columns=['index','measure'])\n",
    "    data = bw.merge(pop, right_on=['scenario','treatment_group','mother_status','input_draw'], left_on=['scenario','treatment_group','mother_status','input_draw'])\n",
    "    data = data.groupby(['risk','measure','scenario','treatment_group','mother_status']).mean().drop(columns=['input_draw','index']).reset_index()\n",
    "    data['weighted_value'] = data['value'] * data['total_population']\n",
    "    data['location'] = locations[i]\n",
    "    master_bw = master_bw.append(data)\n",
    "    \n",
    "master_bw.head()"
   ]
  },
  {
   "cell_type": "code",
   "execution_count": 28,
   "metadata": {},
   "outputs": [
    {
     "data": {
      "text/html": [
       "<div>\n",
       "<style scoped>\n",
       "    .dataframe tbody tr th:only-of-type {\n",
       "        vertical-align: middle;\n",
       "    }\n",
       "\n",
       "    .dataframe tbody tr th {\n",
       "        vertical-align: top;\n",
       "    }\n",
       "\n",
       "    .dataframe thead th {\n",
       "        text-align: right;\n",
       "    }\n",
       "</style>\n",
       "<table border=\"1\" class=\"dataframe\">\n",
       "  <thead>\n",
       "    <tr style=\"text-align: right;\">\n",
       "      <th></th>\n",
       "      <th>location</th>\n",
       "      <th>measure</th>\n",
       "      <th>scenario</th>\n",
       "      <th>value</th>\n",
       "      <th>total_population</th>\n",
       "      <th>weighted_value</th>\n",
       "      <th>weighted_average</th>\n",
       "    </tr>\n",
       "  </thead>\n",
       "  <tbody>\n",
       "    <tr>\n",
       "      <th>4</th>\n",
       "      <td>India</td>\n",
       "      <td>proportion_below_2500g</td>\n",
       "      <td>baseline</td>\n",
       "      <td>1.050711</td>\n",
       "      <td>100000.0</td>\n",
       "      <td>20533.616853</td>\n",
       "      <td>0.205336</td>\n",
       "    </tr>\n",
       "    <tr>\n",
       "      <th>16</th>\n",
       "      <td>Mali</td>\n",
       "      <td>proportion_below_2500g</td>\n",
       "      <td>baseline</td>\n",
       "      <td>0.924956</td>\n",
       "      <td>100000.0</td>\n",
       "      <td>17034.532598</td>\n",
       "      <td>0.170345</td>\n",
       "    </tr>\n",
       "    <tr>\n",
       "      <th>28</th>\n",
       "      <td>Pakistan</td>\n",
       "      <td>proportion_below_2500g</td>\n",
       "      <td>baseline</td>\n",
       "      <td>1.232339</td>\n",
       "      <td>100000.0</td>\n",
       "      <td>22854.692210</td>\n",
       "      <td>0.228547</td>\n",
       "    </tr>\n",
       "    <tr>\n",
       "      <th>40</th>\n",
       "      <td>Tanzania</td>\n",
       "      <td>proportion_below_2500g</td>\n",
       "      <td>baseline</td>\n",
       "      <td>0.383842</td>\n",
       "      <td>100000.0</td>\n",
       "      <td>7014.718585</td>\n",
       "      <td>0.070147</td>\n",
       "    </tr>\n",
       "  </tbody>\n",
       "</table>\n",
       "</div>"
      ],
      "text/plain": [
       "    location                 measure  scenario     value  total_population  \\\n",
       "4      India  proportion_below_2500g  baseline  1.050711          100000.0   \n",
       "16      Mali  proportion_below_2500g  baseline  0.924956          100000.0   \n",
       "28  Pakistan  proportion_below_2500g  baseline  1.232339          100000.0   \n",
       "40  Tanzania  proportion_below_2500g  baseline  0.383842          100000.0   \n",
       "\n",
       "    weighted_value  weighted_average  \n",
       "4     20533.616853          0.205336  \n",
       "16    17034.532598          0.170345  \n",
       "28    22854.692210          0.228547  \n",
       "40     7014.718585          0.070147  "
      ]
     },
     "execution_count": 28,
     "metadata": {},
     "output_type": "execute_result"
    }
   ],
   "source": [
    "stratified = master_bw.groupby(['location','measure','scenario','mother_status']).sum()\n",
    "stratified['weighted_average'] = stratified['weighted_value'] / stratified['total_population']\n",
    "stratified = stratified.reset_index()\n",
    "stratified = stratified.where(stratified['measure'] == 'proportion_below_2500g').where(stratified['scenario'] == 'baseline').dropna()\n",
    "overall = master_bw.groupby(['location','measure','scenario']).sum()\n",
    "overall['weighted_average'] = overall['weighted_value'] / overall['total_population']\n",
    "overall = overall.reset_index()\n",
    "overall = overall.where(overall['measure'] == 'proportion_below_2500g').where(overall['scenario'] == 'baseline').dropna()\n",
    "overall = overall.sort_values(by='location')\n",
    "overall.head()"
   ]
  },
  {
   "cell_type": "code",
   "execution_count": 29,
   "metadata": {},
   "outputs": [
    {
     "data": {
      "text/plain": [
       "(0, 0.62)"
      ]
     },
     "execution_count": 29,
     "metadata": {},
     "output_type": "execute_result"
    },
    {
     "data": {
      "image/png": "[encoded data removed]",
      "text/plain": [
       "<Figure size 432x288 with 1 Axes>"
      ]
     },
     "metadata": {
      "needs_background": "light"
     },
     "output_type": "display_data"
    }
   ],
   "source": [
    "# bar width\n",
    "barWidth = 0.2\n",
    "\n",
    "# bar heights\n",
    "lbw = list(overall['weighted_average'])\n",
    "stunted_plot = stunted['average_exposure']\n",
    "wasted_plot = wasted['average_exposure']\n",
    "\n",
    "# bar positions\n",
    "a = np.arange(len(lbw))\n",
    "b = [x + barWidth for x in a]\n",
    "c = [x + barWidth for x in b]\n",
    "\n",
    "# plot \n",
    "plt.bar(a, lbw, width=barWidth, color='tab:cyan')\n",
    "plt.bar(b, wasted_plot, width=barWidth, color='tab:purple')\n",
    "plt.bar(c, stunted_plot, width=barWidth, color='tab:olive')\n",
    "plt.xticks([r + barWidth for r in range(len(lbw))], np.unique(overall['location']))\n",
    "plt.legend(['Low Birth Weight - at birth',\n",
    "            'Wasting - averaged over first two years of life',\n",
    "            'Stunting - averaged over first two years of life'],\n",
    "          loc='upper left')\n",
    "plt.title('Prevalence of Child Growth Failure Measures (Baseline)')\n",
    "plt.ylabel('Proportion')\n",
    "plt.ylim(0, 0.62)"
   ]
  },
  {
   "cell_type": "code",
   "execution_count": 30,
   "metadata": {},
   "outputs": [
    {
     "data": {
      "text/html": [
       "<div>\n",
       "<style scoped>\n",
       "    .dataframe tbody tr th:only-of-type {\n",
       "        vertical-align: middle;\n",
       "    }\n",
       "\n",
       "    .dataframe tbody tr th {\n",
       "        vertical-align: top;\n",
       "    }\n",
       "\n",
       "    .dataframe thead th {\n",
       "        text-align: right;\n",
       "    }\n",
       "</style>\n",
       "<table border=\"1\" class=\"dataframe\">\n",
       "  <thead>\n",
       "    <tr style=\"text-align: right;\">\n",
       "      <th></th>\n",
       "      <th>location</th>\n",
       "      <th>measure</th>\n",
       "      <th>scenario</th>\n",
       "      <th>value</th>\n",
       "      <th>total_population</th>\n",
       "      <th>weighted_value</th>\n",
       "      <th>weighted_average</th>\n",
       "      <th>mother_status</th>\n",
       "    </tr>\n",
       "  </thead>\n",
       "  <tbody>\n",
       "    <tr>\n",
       "      <th>4</th>\n",
       "      <td>India</td>\n",
       "      <td>proportion_below_2500g</td>\n",
       "      <td>baseline</td>\n",
       "      <td>1.050711</td>\n",
       "      <td>100000.0</td>\n",
       "      <td>20533.616853</td>\n",
       "      <td>0.205336</td>\n",
       "      <td>overall</td>\n",
       "    </tr>\n",
       "    <tr>\n",
       "      <th>5</th>\n",
       "      <td>India</td>\n",
       "      <td>proportion_below_2500g</td>\n",
       "      <td>bep_scale_up</td>\n",
       "      <td>0.962357</td>\n",
       "      <td>100000.0</td>\n",
       "      <td>18634.448821</td>\n",
       "      <td>0.186344</td>\n",
       "      <td>overall</td>\n",
       "    </tr>\n",
       "    <tr>\n",
       "      <th>6</th>\n",
       "      <td>India</td>\n",
       "      <td>proportion_below_2500g</td>\n",
       "      <td>bep_targeted_scale_up</td>\n",
       "      <td>0.972170</td>\n",
       "      <td>100000.0</td>\n",
       "      <td>19281.797461</td>\n",
       "      <td>0.192818</td>\n",
       "      <td>overall</td>\n",
       "    </tr>\n",
       "    <tr>\n",
       "      <th>7</th>\n",
       "      <td>India</td>\n",
       "      <td>proportion_below_2500g</td>\n",
       "      <td>mmn_scale_up</td>\n",
       "      <td>1.028540</td>\n",
       "      <td>100000.0</td>\n",
       "      <td>20039.761337</td>\n",
       "      <td>0.200398</td>\n",
       "      <td>overall</td>\n",
       "    </tr>\n",
       "    <tr>\n",
       "      <th>16</th>\n",
       "      <td>Mali</td>\n",
       "      <td>proportion_below_2500g</td>\n",
       "      <td>baseline</td>\n",
       "      <td>0.924956</td>\n",
       "      <td>100000.0</td>\n",
       "      <td>17034.532598</td>\n",
       "      <td>0.170345</td>\n",
       "      <td>overall</td>\n",
       "    </tr>\n",
       "  </tbody>\n",
       "</table>\n",
       "</div>"
      ],
      "text/plain": [
       "   location                 measure               scenario     value  \\\n",
       "4     India  proportion_below_2500g               baseline  1.050711   \n",
       "5     India  proportion_below_2500g           bep_scale_up  0.962357   \n",
       "6     India  proportion_below_2500g  bep_targeted_scale_up  0.972170   \n",
       "7     India  proportion_below_2500g           mmn_scale_up  1.028540   \n",
       "16     Mali  proportion_below_2500g               baseline  0.924956   \n",
       "\n",
       "    total_population  weighted_value  weighted_average mother_status  \n",
       "4           100000.0    20533.616853          0.205336       overall  \n",
       "5           100000.0    18634.448821          0.186344       overall  \n",
       "6           100000.0    19281.797461          0.192818       overall  \n",
       "7           100000.0    20039.761337          0.200398       overall  \n",
       "16          100000.0    17034.532598          0.170345       overall  "
      ]
     },
     "execution_count": 30,
     "metadata": {},
     "output_type": "execute_result"
    }
   ],
   "source": [
    "stratified = master_bw.groupby(['location','measure','scenario','mother_status']).sum()\n",
    "stratified['weighted_average'] = stratified['weighted_value'] / stratified['total_population']\n",
    "stratified = stratified.reset_index()\n",
    "stratified = stratified.where(stratified['measure'] == 'proportion_below_2500g').dropna()#.where(stratified['scenario'] == 'baseline').dropna()\n",
    "overall = master_bw.groupby(['location','measure','scenario']).sum()\n",
    "overall['weighted_average'] = overall['weighted_value'] / overall['total_population']\n",
    "overall = overall.reset_index()\n",
    "overall = overall.where(overall['measure'] == 'proportion_below_2500g').dropna()#.where(overall['scenario'] == 'baseline').dropna()\n",
    "overall = overall.sort_values(by='location')\n",
    "overall['mother_status'] = 'overall'\n",
    "overall.head()"
   ]
  },
  {
   "cell_type": "code",
   "execution_count": 31,
   "metadata": {},
   "outputs": [
    {
     "name": "stderr",
     "output_type": "stream",
     "text": [
      "/ihme/homes/alibow/.conda/envs/vivarium_conic_lsff/lib/python3.6/site-packages/pandas/core/frame.py:6692: FutureWarning: Sorting because non-concatenation axis is not aligned. A future version\n",
      "of pandas will change to not sort by default.\n",
      "\n",
      "To accept the future behavior, pass 'sort=False'.\n",
      "\n",
      "To retain the current behavior and silence the warning, pass 'sort=True'.\n",
      "\n",
      "  sort=sort)\n"
     ]
    },
    {
     "data": {
      "text/html": [
       "<div>\n",
       "<style scoped>\n",
       "    .dataframe tbody tr th:only-of-type {\n",
       "        vertical-align: middle;\n",
       "    }\n",
       "\n",
       "    .dataframe tbody tr th {\n",
       "        vertical-align: top;\n",
       "    }\n",
       "\n",
       "    .dataframe thead th {\n",
       "        text-align: right;\n",
       "    }\n",
       "</style>\n",
       "<table border=\"1\" class=\"dataframe\">\n",
       "  <thead>\n",
       "    <tr style=\"text-align: right;\">\n",
       "      <th></th>\n",
       "      <th>location</th>\n",
       "      <th>measure</th>\n",
       "      <th>mother_status</th>\n",
       "      <th>scenario</th>\n",
       "      <th>total_population</th>\n",
       "      <th>value</th>\n",
       "      <th>weighted_average</th>\n",
       "      <th>weighted_value</th>\n",
       "      <th>baseline_value</th>\n",
       "      <th>averted</th>\n",
       "    </tr>\n",
       "  </thead>\n",
       "  <tbody>\n",
       "    <tr>\n",
       "      <th>0</th>\n",
       "      <td>India</td>\n",
       "      <td>proportion_below_2500g</td>\n",
       "      <td>malnourished</td>\n",
       "      <td>baseline</td>\n",
       "      <td>16936.5</td>\n",
       "      <td>0.698741</td>\n",
       "      <td>0.349383</td>\n",
       "      <td>5917.325585</td>\n",
       "      <td>0.349383</td>\n",
       "      <td>0.000000</td>\n",
       "    </tr>\n",
       "    <tr>\n",
       "      <th>1</th>\n",
       "      <td>India</td>\n",
       "      <td>proportion_below_2500g</td>\n",
       "      <td>malnourished</td>\n",
       "      <td>bep_scale_up</td>\n",
       "      <td>16936.5</td>\n",
       "      <td>0.624356</td>\n",
       "      <td>0.292017</td>\n",
       "      <td>4945.741069</td>\n",
       "      <td>0.349383</td>\n",
       "      <td>0.057366</td>\n",
       "    </tr>\n",
       "    <tr>\n",
       "      <th>2</th>\n",
       "      <td>India</td>\n",
       "      <td>proportion_below_2500g</td>\n",
       "      <td>malnourished</td>\n",
       "      <td>bep_targeted_scale_up</td>\n",
       "      <td>16936.5</td>\n",
       "      <td>0.624356</td>\n",
       "      <td>0.292017</td>\n",
       "      <td>4945.741069</td>\n",
       "      <td>0.349383</td>\n",
       "      <td>0.057366</td>\n",
       "    </tr>\n",
       "    <tr>\n",
       "      <th>3</th>\n",
       "      <td>India</td>\n",
       "      <td>proportion_below_2500g</td>\n",
       "      <td>malnourished</td>\n",
       "      <td>mmn_scale_up</td>\n",
       "      <td>16936.5</td>\n",
       "      <td>0.680726</td>\n",
       "      <td>0.336770</td>\n",
       "      <td>5703.704944</td>\n",
       "      <td>0.349383</td>\n",
       "      <td>0.012613</td>\n",
       "    </tr>\n",
       "    <tr>\n",
       "      <th>4</th>\n",
       "      <td>India</td>\n",
       "      <td>proportion_below_2500g</td>\n",
       "      <td>normal</td>\n",
       "      <td>baseline</td>\n",
       "      <td>83063.5</td>\n",
       "      <td>0.351969</td>\n",
       "      <td>0.175965</td>\n",
       "      <td>14616.291268</td>\n",
       "      <td>0.175965</td>\n",
       "      <td>0.000000</td>\n",
       "    </tr>\n",
       "  </tbody>\n",
       "</table>\n",
       "</div>"
      ],
      "text/plain": [
       "  location                 measure mother_status               scenario  \\\n",
       "0    India  proportion_below_2500g  malnourished               baseline   \n",
       "1    India  proportion_below_2500g  malnourished           bep_scale_up   \n",
       "2    India  proportion_below_2500g  malnourished  bep_targeted_scale_up   \n",
       "3    India  proportion_below_2500g  malnourished           mmn_scale_up   \n",
       "4    India  proportion_below_2500g        normal               baseline   \n",
       "\n",
       "   total_population     value  weighted_average  weighted_value  \\\n",
       "0           16936.5  0.698741          0.349383     5917.325585   \n",
       "1           16936.5  0.624356          0.292017     4945.741069   \n",
       "2           16936.5  0.624356          0.292017     4945.741069   \n",
       "3           16936.5  0.680726          0.336770     5703.704944   \n",
       "4           83063.5  0.351969          0.175965    14616.291268   \n",
       "\n",
       "   baseline_value   averted  \n",
       "0        0.349383  0.000000  \n",
       "1        0.349383  0.057366  \n",
       "2        0.349383  0.057366  \n",
       "3        0.349383  0.012613  \n",
       "4        0.175965  0.000000  "
      ]
     },
     "execution_count": 31,
     "metadata": {},
     "output_type": "execute_result"
    }
   ],
   "source": [
    "bw = stratified.append(overall)\n",
    "baseline_bw = (bw.where(bw['scenario'] == 'baseline').dropna()\n",
    "               .drop(columns=['scenario','weighted_value','total_population','value'])\n",
    "               .rename(columns={'weighted_average':'baseline_value'}))\n",
    "bw_diff = bw.merge(baseline_bw, right_on=['location','measure','mother_status'],\n",
    "                  left_on=['location','measure','mother_status'])\n",
    "bw_diff['averted'] = bw_diff['baseline_value'] - bw_diff['weighted_average']\n",
    "bw_diff.head()"
   ]
  },
  {
   "cell_type": "code",
   "execution_count": 33,
   "metadata": {},
   "outputs": [
    {
     "data": {
      "text/plain": [
       "(0, 1999)"
      ]
     },
     "execution_count": 33,
     "metadata": {},
     "output_type": "execute_result"
    },
    {
     "data": {
      "image/png": "[encoded data removed]",
      "text/plain": [
       "<Figure size 432x288 with 1 Axes>"
      ]
     },
     "metadata": {
      "needs_background": "light"
     },
     "output_type": "display_data"
    }
   ],
   "source": [
    "data = bw_diff.where(bw_diff['mother_status'] == 'overall').dropna()\n",
    "\n",
    "# bar width\n",
    "barWidth = 0.2\n",
    "\n",
    "# bar heights\n",
    "baseline = list(data['averted'].where(data['scenario'] == 'baseline').dropna()  * 100_000)\n",
    "mmn = list(data['averted'].where(data['scenario'] == 'mmn_scale_up').dropna() * 100_000) \n",
    "bep = list(data['averted'].where(data['scenario'] == 'bep_scale_up').dropna() * 100_000) \n",
    "bep_targeted = list(data['averted'].where(data['scenario'] == 'bep_targeted_scale_up').dropna() * 100_000)\n",
    "# bar positions\n",
    "a = np.arange(len(mmn))\n",
    "b = [x + barWidth for x in a]\n",
    "c = [x + barWidth for x in b]\n",
    "# plot \n",
    "plt.bar(a, mmn, width=barWidth)\n",
    "plt.bar(b, bep, width=barWidth)\n",
    "plt.bar(c, bep_targeted, width=barWidth)\n",
    "plt.xticks([r + barWidth for r in range(len(mmn))], np.unique(data['location']))\n",
    "plt.legend(['MMN','Universal BEP','Targeted BEP'],\n",
    "          loc='upper right')\n",
    "plt.title('Averted Low Birth Weight Cases Relative to Baseline')\n",
    "plt.ylabel('Averted Cases per 100,000 Births')\n",
    "plt.ylim(0,1999)"
   ]
  },
  {
   "cell_type": "code",
   "execution_count": 38,
   "metadata": {},
   "outputs": [
    {
     "data": {
      "text/plain": [
       "Text(0, 0.5, 'Averted Cases per 100,000 Births')"
      ]
     },
     "execution_count": 38,
     "metadata": {},
     "output_type": "execute_result"
    },
    {
     "data": {
      "image/png": "[encoded data removed]",
      "text/plain": [
       "<Figure size 432x288 with 1 Axes>"
      ]
     },
     "metadata": {
      "needs_background": "light"
     },
     "output_type": "display_data"
    }
   ],
   "source": [
    "data = bw_diff.where(bw_diff['mother_status'] == 'malnourished').dropna()\n",
    "\n",
    "# bar width\n",
    "barWidth = 0.2\n",
    "\n",
    "# bar heights\n",
    "baseline = list(data['averted'].where(data['scenario'] == 'baseline').dropna()  * 100_000)\n",
    "mmn = list(data['averted'].where(data['scenario'] == 'mmn_scale_up').dropna() * 100_000) \n",
    "bep = list(data['averted'].where(data['scenario'] == 'bep_scale_up').dropna() * 100_000) \n",
    "bep_targeted = list(data['averted'].where(data['scenario'] == 'bep_targeted_scale_up').dropna() * 100_000)\n",
    "# bar positions\n",
    "a = np.arange(len(mmn))\n",
    "b = [x + barWidth for x in a]\n",
    "c = [x + barWidth for x in b]\n",
    "# plot \n",
    "plt.bar(a, mmn, width=barWidth)\n",
    "plt.bar(b, bep, width=barWidth)\n",
    "plt.bar(c, bep_targeted, width=barWidth)\n",
    "plt.xticks([r + barWidth for r in range(len(mmn))], np.unique(data['location']))\n",
    "plt.legend(['MMN','Universal BEP','Targeted BEP'],\n",
    "          loc='upper right')\n",
    "plt.title('Averted Low Birth Weight Cases Among Malnourished Mothers Relative to Baseline')\n",
    "plt.ylabel('Averted Cases per 100,000 Births')\n",
    "#plt.ylim(0,1999)"
   ]
  },
  {
   "cell_type": "code",
   "execution_count": 39,
   "metadata": {},
   "outputs": [
    {
     "data": {
      "text/html": [
       "<div>\n",
       "<style scoped>\n",
       "    .dataframe tbody tr th:only-of-type {\n",
       "        vertical-align: middle;\n",
       "    }\n",
       "\n",
       "    .dataframe tbody tr th {\n",
       "        vertical-align: top;\n",
       "    }\n",
       "\n",
       "    .dataframe thead th {\n",
       "        text-align: right;\n",
       "    }\n",
       "</style>\n",
       "<table border=\"1\" class=\"dataframe\">\n",
       "  <thead>\n",
       "    <tr style=\"text-align: right;\">\n",
       "      <th></th>\n",
       "      <th>location</th>\n",
       "      <th>measure</th>\n",
       "      <th>mother_status</th>\n",
       "      <th>scenario</th>\n",
       "      <th>total_population</th>\n",
       "      <th>value</th>\n",
       "      <th>weighted_average</th>\n",
       "      <th>weighted_value</th>\n",
       "      <th>baseline_value</th>\n",
       "      <th>averted</th>\n",
       "    </tr>\n",
       "  </thead>\n",
       "  <tbody>\n",
       "    <tr>\n",
       "      <th>0</th>\n",
       "      <td>India</td>\n",
       "      <td>proportion_below_2500g</td>\n",
       "      <td>malnourished</td>\n",
       "      <td>baseline</td>\n",
       "      <td>16936.5</td>\n",
       "      <td>0.698741</td>\n",
       "      <td>0.349383</td>\n",
       "      <td>5917.325585</td>\n",
       "      <td>0.349383</td>\n",
       "      <td>0.000000</td>\n",
       "    </tr>\n",
       "    <tr>\n",
       "      <th>1</th>\n",
       "      <td>India</td>\n",
       "      <td>proportion_below_2500g</td>\n",
       "      <td>malnourished</td>\n",
       "      <td>bep_scale_up</td>\n",
       "      <td>16936.5</td>\n",
       "      <td>0.624356</td>\n",
       "      <td>0.292017</td>\n",
       "      <td>4945.741069</td>\n",
       "      <td>0.349383</td>\n",
       "      <td>0.057366</td>\n",
       "    </tr>\n",
       "    <tr>\n",
       "      <th>2</th>\n",
       "      <td>India</td>\n",
       "      <td>proportion_below_2500g</td>\n",
       "      <td>malnourished</td>\n",
       "      <td>bep_targeted_scale_up</td>\n",
       "      <td>16936.5</td>\n",
       "      <td>0.624356</td>\n",
       "      <td>0.292017</td>\n",
       "      <td>4945.741069</td>\n",
       "      <td>0.349383</td>\n",
       "      <td>0.057366</td>\n",
       "    </tr>\n",
       "    <tr>\n",
       "      <th>3</th>\n",
       "      <td>India</td>\n",
       "      <td>proportion_below_2500g</td>\n",
       "      <td>malnourished</td>\n",
       "      <td>mmn_scale_up</td>\n",
       "      <td>16936.5</td>\n",
       "      <td>0.680726</td>\n",
       "      <td>0.336770</td>\n",
       "      <td>5703.704944</td>\n",
       "      <td>0.349383</td>\n",
       "      <td>0.012613</td>\n",
       "    </tr>\n",
       "    <tr>\n",
       "      <th>4</th>\n",
       "      <td>India</td>\n",
       "      <td>proportion_below_2500g</td>\n",
       "      <td>normal</td>\n",
       "      <td>baseline</td>\n",
       "      <td>83063.5</td>\n",
       "      <td>0.351969</td>\n",
       "      <td>0.175965</td>\n",
       "      <td>14616.291268</td>\n",
       "      <td>0.175965</td>\n",
       "      <td>0.000000</td>\n",
       "    </tr>\n",
       "  </tbody>\n",
       "</table>\n",
       "</div>"
      ],
      "text/plain": [
       "  location                 measure mother_status               scenario  \\\n",
       "0    India  proportion_below_2500g  malnourished               baseline   \n",
       "1    India  proportion_below_2500g  malnourished           bep_scale_up   \n",
       "2    India  proportion_below_2500g  malnourished  bep_targeted_scale_up   \n",
       "3    India  proportion_below_2500g  malnourished           mmn_scale_up   \n",
       "4    India  proportion_below_2500g        normal               baseline   \n",
       "\n",
       "   total_population     value  weighted_average  weighted_value  \\\n",
       "0           16936.5  0.698741          0.349383     5917.325585   \n",
       "1           16936.5  0.624356          0.292017     4945.741069   \n",
       "2           16936.5  0.624356          0.292017     4945.741069   \n",
       "3           16936.5  0.680726          0.336770     5703.704944   \n",
       "4           83063.5  0.351969          0.175965    14616.291268   \n",
       "\n",
       "   baseline_value   averted  \n",
       "0        0.349383  0.000000  \n",
       "1        0.349383  0.057366  \n",
       "2        0.349383  0.057366  \n",
       "3        0.349383  0.012613  \n",
       "4        0.175965  0.000000  "
      ]
     },
     "execution_count": 39,
     "metadata": {},
     "output_type": "execute_result"
    }
   ],
   "source": [
    "bw_diff.head()"
   ]
  },
  {
   "cell_type": "code",
   "execution_count": 41,
   "metadata": {},
   "outputs": [
    {
     "data": {
      "text/plain": [
       "Text(0, 0.5, 'Averted Cases per 100,000 Births')"
      ]
     },
     "execution_count": 41,
     "metadata": {},
     "output_type": "execute_result"
    },
    {
     "data": {
      "image/png": "[encoded data removed]",
      "text/plain": [
       "<Figure size 432x288 with 1 Axes>"
      ]
     },
     "metadata": {
      "needs_background": "light"
     },
     "output_type": "display_data"
    }
   ],
   "source": [
    "data = bw_diff.where(bw_diff['mother_status'] == 'normal').dropna()\n",
    "\n",
    "# bar width\n",
    "barWidth = 0.2\n",
    "\n",
    "# bar heights\n",
    "baseline = list(data['averted'].where(data['scenario'] == 'baseline').dropna()  * 100_000)\n",
    "mmn = list(data['averted'].where(data['scenario'] == 'mmn_scale_up').dropna() * 100_000) \n",
    "bep = list(data['averted'].where(data['scenario'] == 'bep_scale_up').dropna() * 100_000) \n",
    "bep_targeted = list(data['averted'].where(data['scenario'] == 'bep_targeted_scale_up').dropna() * 100_000)\n",
    "# bar positions\n",
    "a = np.arange(len(mmn))\n",
    "b = [x + barWidth for x in a]\n",
    "c = [x + barWidth for x in b]\n",
    "# plot \n",
    "plt.bar(a, mmn, width=barWidth)\n",
    "plt.bar(b, bep, width=barWidth)\n",
    "plt.bar(c, bep_targeted, width=barWidth)\n",
    "plt.xticks([r + barWidth for r in range(len(mmn))], np.unique(data['location']))\n",
    "plt.legend(['MMN','Universal BEP','Targeted BEP'],\n",
    "          loc='upper right')\n",
    "plt.title('Averted Low Birth Weight Cases Relative to Baseline')\n",
    "plt.ylabel('Averted Cases per 100,000 Births')\n",
    "#plt.ylim(0,1999)"
   ]
  },
  {
   "cell_type": "code",
   "execution_count": 69,
   "metadata": {},
   "outputs": [
    {
     "data": {
      "text/plain": [
       "(0, 7500)"
      ]
     },
     "execution_count": 69,
     "metadata": {},
     "output_type": "execute_result"
    },
    {
     "data": {
      "image/png": "[encoded data removed]",
      "text/plain": [
       "<Figure size 432x288 with 1 Axes>"
      ]
     },
     "metadata": {
      "needs_background": "light"
     },
     "output_type": "display_data"
    }
   ],
   "source": [
    "data = bw_diff.where(bw_diff['scenario'] == 'mmn_scale_up').dropna()\n",
    "data = data.sort_values(by='location')\n",
    "\n",
    "# bar width\n",
    "barWidth = 0.2\n",
    "\n",
    "# bar heights\n",
    "all_mothers = list(data['averted'].where(data['mother_status'] == 'overall').dropna()  * 100_000)\n",
    "malnourished_mothers = list(data['averted'].where(data['mother_status'] == 'malnourished').dropna() * 100_000) \n",
    "normal_mothers = list(data['averted'].where(data['mother_status'] == 'normal').dropna() * 100_000) \n",
    "\n",
    "# bar positions\n",
    "a = np.arange(len(all_mothers))\n",
    "b = [x + barWidth for x in a]\n",
    "c = [x + barWidth for x in b]\n",
    "# plot \n",
    "plt.bar(a, all_mothers, width=barWidth)\n",
    "plt.bar(b, malnourished_mothers, width=barWidth)\n",
    "plt.bar(c, normal_mothers, width=barWidth)\n",
    "plt.xticks([r + barWidth for r in range(len(all_mothers))], np.unique(data['location']))\n",
    "plt.legend(['All Mothers','Maternal BMI < 18.5','Maternal BMI > 18.5'],\n",
    "          loc='upper right')\n",
    "plt.title('Averted Low Birth Weight Cases in MMN Scenario Relative to Baseline')\n",
    "plt.ylabel('Averted Cases per 100,000 Births')\n",
    "plt.ylim(0,7500)"
   ]
  },
  {
   "cell_type": "code",
   "execution_count": 67,
   "metadata": {},
   "outputs": [
    {
     "data": {
      "text/plain": [
       "(0, 7500)"
      ]
     },
     "execution_count": 67,
     "metadata": {},
     "output_type": "execute_result"
    },
    {
     "data": {
      "image/png": "[encoded data removed]",
      "text/plain": [
       "<Figure size 432x288 with 1 Axes>"
      ]
     },
     "metadata": {
      "needs_background": "light"
     },
     "output_type": "display_data"
    }
   ],
   "source": [
    "data = bw_diff.where(bw_diff['scenario'] == 'bep_scale_up').dropna()\n",
    "data = data.sort_values(by='location')\n",
    "\n",
    "# bar width\n",
    "barWidth = 0.2\n",
    "\n",
    "# bar heights\n",
    "all_mothers = list(data['averted'].where(data['mother_status'] == 'overall').dropna()  * 100_000)\n",
    "malnourished_mothers = list(data['averted'].where(data['mother_status'] == 'malnourished').dropna() * 100_000) \n",
    "normal_mothers = list(data['averted'].where(data['mother_status'] == 'normal').dropna() * 100_000) \n",
    "\n",
    "# bar positions\n",
    "a = np.arange(len(all_mothers))\n",
    "b = [x + barWidth for x in a]\n",
    "c = [x + barWidth for x in b]\n",
    "# plot \n",
    "plt.bar(a, all_mothers, width=barWidth)\n",
    "plt.bar(b, malnourished_mothers, width=barWidth)\n",
    "plt.bar(c, normal_mothers, width=barWidth)\n",
    "plt.xticks([r + barWidth for r in range(len(all_mothers))], np.unique(data['location']))\n",
    "plt.legend(['All Mothers','Maternal BMI < 18.5','Maternal BMI > 18.5'],\n",
    "          loc='upper right')\n",
    "plt.title('Averted Low Birth Weight Cases in Universal BEP Scenario Relative to Baseline')\n",
    "plt.ylabel('Averted Cases per 100,000 Births')\n",
    "plt.ylim(0,7500)"
   ]
  },
  {
   "cell_type": "code",
   "execution_count": 66,
   "metadata": {},
   "outputs": [
    {
     "data": {
      "text/plain": [
       "(0, 7500)"
      ]
     },
     "execution_count": 66,
     "metadata": {},
     "output_type": "execute_result"
    },
    {
     "data": {
      "image/png": "[encoded data removed]",
      "text/plain": [
       "<Figure size 432x288 with 1 Axes>"
      ]
     },
     "metadata": {
      "needs_background": "light"
     },
     "output_type": "display_data"
    }
   ],
   "source": [
    "data = bw_diff.where(bw_diff['scenario'] == 'bep_targeted_scale_up').dropna()\n",
    "data = data.sort_values(by='location')\n",
    "\n",
    "# bar width\n",
    "barWidth = 0.2\n",
    "\n",
    "# bar heights\n",
    "all_mothers = list(data['averted'].where(data['mother_status'] == 'overall').dropna()  * 100_000)\n",
    "malnourished_mothers = list(data['averted'].where(data['mother_status'] == 'malnourished').dropna() * 100_000) \n",
    "normal_mothers = list(data['averted'].where(data['mother_status'] == 'normal').dropna() * 100_000) \n",
    "\n",
    "# bar positions\n",
    "a = np.arange(len(all_mothers))\n",
    "b = [x + barWidth for x in a]\n",
    "c = [x + barWidth for x in b]\n",
    "# plot \n",
    "plt.bar(a, all_mothers, width=barWidth)\n",
    "plt.bar(b, malnourished_mothers, width=barWidth)\n",
    "plt.bar(c, normal_mothers, width=barWidth)\n",
    "plt.xticks([r + barWidth for r in range(len(all_mothers))], np.unique(data['location']))\n",
    "plt.legend(['All Mothers','Maternal BMI < 18.5','Maternal BMI > 18.5'],\n",
    "          loc='upper right')\n",
    "plt.title('Averted Low Birth Weight Cases in Targeted BEP Scenario Relative to Baseline')\n",
    "plt.ylabel('Averted Cases per 100,000 Births')\n",
    "plt.ylim(0,7500)"
   ]
  },
  {
   "cell_type": "code",
   "execution_count": 36,
   "metadata": {},
   "outputs": [
    {
     "data": {
      "text/plain": [
       "(0, 600)"
      ]
     },
     "execution_count": 36,
     "metadata": {},
     "output_type": "execute_result"
    },
    {
     "data": {
      "image/png": "[encoded data removed]",
      "text/plain": [
       "<Figure size 432x288 with 1 Axes>"
      ]
     },
     "metadata": {
      "needs_background": "light"
     },
     "output_type": "display_data"
    }
   ],
   "source": [
    "data = bw_diff.where(bw_diff['mother_status'] == 'overall').dropna()\n",
    "\n",
    "# bar width\n",
    "barWidth = 0.5\n",
    "\n",
    "# bar heights\n",
    "mmn = list(data['averted'].where(data['scenario'] == 'mmn_scale_up').dropna() * 100_000) \n",
    "# bar positions\n",
    "a = np.arange(len(mmn))\n",
    "# plot \n",
    "plt.bar(a, mmn, width=barWidth)\n",
    "plt.xticks([r for r in range(len(mmn))], np.unique(data['location']))\n",
    "plt.title('Averted Low Birth Weight Cases in MMN Scenario Relative to Baseline')\n",
    "plt.ylabel('Averted Cases per 100,000 Births')\n",
    "plt.ylim(0,600)"
   ]
  },
  {
   "cell_type": "code",
   "execution_count": 36,
   "metadata": {},
   "outputs": [
    {
     "data": {
      "text/plain": [
       "(0, 0.32)"
      ]
     },
     "execution_count": 36,
     "metadata": {},
     "output_type": "execute_result"
    },
    {
     "data": {
      "image/png": "[encoded data removed]",
      "text/plain": [
       "<Figure size 432x288 with 1 Axes>"
      ]
     },
     "metadata": {
      "needs_background": "light"
     },
     "output_type": "display_data"
    }
   ],
   "source": [
    "# bar width\n",
    "barWidth = 0.2\n",
    "\n",
    "# bar heights\n",
    "baseline = list(overall['weighted_average'].where(overall['scenario'] == 'baseline').dropna())\n",
    "mmn = list(overall['weighted_average'].where(overall['scenario'] == 'mmn_scale_up').dropna())\n",
    "bep = list(overall['weighted_average'].where(overall['scenario'] == 'bep_scale_up').dropna())\n",
    "bep_targeted = list(overall['weighted_average'].where(overall['scenario'] == 'bep_targeted_scale_up').dropna())\n",
    "\n",
    "# bar positions\n",
    "a = np.arange(len(baseline))\n",
    "b = [x + barWidth for x in a]\n",
    "c = [x + barWidth for x in b]\n",
    "d = [x + barWidth for x in c]\n",
    "\n",
    "# plot \n",
    "plt.bar(a, baseline, width=barWidth)\n",
    "plt.bar(b, mmn, width=barWidth)\n",
    "plt.bar(c, bep, width=barWidth)\n",
    "plt.bar(d, bep_targeted, width=barWidth)\n",
    "plt.xticks([r + barWidth for r in range(len(lbw))], np.unique(overall['location']))\n",
    "plt.legend(['Baseline','MMN','Universal BEP','Targeted BEP'],\n",
    "          loc='upper left')\n",
    "plt.title('Prevalence of Low Birth Weight (<2500 g)')\n",
    "plt.ylabel('Proportion')\n",
    "plt.ylim(0, 0.32)"
   ]
  },
  {
   "cell_type": "code",
   "execution_count": null,
   "metadata": {},
   "outputs": [],
   "source": [
    "stratified = master_bw.groupby(['location','measure','scenario','mother_status']).sum()\n",
    "stratified['weighted_average'] = stratified['weighted_value'] / stratified['total_population']\n",
    "stratified = stratified.reset_index()\n",
    "stratified = stratified.where(stratified['measure'] == 'proportion_below_2500g').where(stratified['scenario'] == 'baseline').dropna()\n",
    "overall = master_bw.groupby(['location','measure','scenario']).sum()\n",
    "overall['weighted_average'] = overall['weighted_value'] / overall['total_population']\n",
    "overall = overall.reset_index()\n",
    "overall = overall.where(overall['measure'] == 'proportion_below_2500g').where(overall['scenario'] == 'baseline').dropna()\n",
    "overall['mother_status'] = 'all'\n",
    "data = stratified.append(overall)\n",
    "data = data.sort_values(by='location')\n",
    "\n",
    "# bar width\n",
    "barWidth = 0.2\n",
    "\n",
    "# bar heights\n",
    "overall = data['weighted_average'].where(data['mother_status'] == 'all').dropna()\n",
    "normal = data['weighted_average'].where(data['mother_status'] == 'normal').dropna()\n",
    "malnourished = data['weighted_average'].where(data['mother_status'] == 'malnourished').dropna()\n",
    "\n",
    "# bar positions\n",
    "a = np.arange(len(overall))\n",
    "b = [x + barWidth for x in a]\n",
    "c = [x + barWidth for x in b]\n",
    "\n",
    "# plot \n",
    "plt.bar(a, overall, width=barWidth)\n",
    "plt.bar(b, normal, width=barWidth)\n",
    "plt.bar(c, malnourished, width=barWidth)\n",
    "plt.xticks([r + barWidth for r in range(len(normal))], np.unique(data['location']))\n",
    "plt.legend(['Overall','BMI > 18.5','BMI < 18.5'])\n",
    "plt.title('Prevalence of Low Birth Weight (<2500 grams)')\n",
    "plt.ylabel('Proportion')"
   ]
  },
  {
   "cell_type": "code",
   "execution_count": 6,
   "metadata": {},
   "outputs": [
    {
     "name": "stderr",
     "output_type": "stream",
     "text": [
      "/ihme/homes/alibow/.conda/envs/vivarium_conic_lsff/lib/python3.6/site-packages/pandas/core/frame.py:6692: FutureWarning: Sorting because non-concatenation axis is not aligned. A future version\n",
      "of pandas will change to not sort by default.\n",
      "\n",
      "To accept the future behavior, pass 'sort=False'.\n",
      "\n",
      "To retain the current behavior and silence the warning, pass 'sort=True'.\n",
      "\n",
      "  sort=sort)\n"
     ]
    },
    {
     "data": {
      "text/plain": [
       "(0, 4200)"
      ]
     },
     "execution_count": 6,
     "metadata": {},
     "output_type": "execute_result"
    },
    {
     "data": {
      "image/png": "[encoded data removed]",
      "text/plain": [
       "<Figure size 432x288 with 1 Axes>"
      ]
     },
     "metadata": {
      "needs_background": "light"
     },
     "output_type": "display_data"
    }
   ],
   "source": [
    "# plot baseline mean birth weight stratified by maternal malnourishment\n",
    "\n",
    "stratified = master_bw.groupby(['location','measure','scenario','mother_status']).sum()\n",
    "stratified['weighted_average'] = stratified['weighted_value'] / stratified['total_population']\n",
    "stratified = stratified.reset_index()\n",
    "stratified = stratified.where(stratified['measure'] == 'mean').where(stratified['scenario'] == 'baseline').dropna()\n",
    "overall = master_bw.groupby(['location','measure','scenario']).sum()\n",
    "overall['weighted_average'] = overall['weighted_value'] / overall['total_population']\n",
    "overall = overall.reset_index()\n",
    "overall = overall.where(overall['measure'] == 'mean').where(overall['scenario'] == 'baseline').dropna()\n",
    "overall['mother_status'] = 'all'\n",
    "data = stratified.append(overall)\n",
    "data = data.sort_values(by='location')\n",
    "\n",
    "# bar width\n",
    "barWidth = 0.2\n",
    "\n",
    "# bar heights\n",
    "overall = data['weighted_average'].where(data['mother_status'] == 'all').dropna()\n",
    "normal = data['weighted_average'].where(data['mother_status'] == 'normal').dropna()\n",
    "malnourished = data['weighted_average'].where(data['mother_status'] == 'malnourished').dropna()\n",
    "\n",
    "# bar positions\n",
    "a = np.arange(len(overall))\n",
    "b = [x + barWidth for x in a]\n",
    "c = [x + barWidth for x in b]\n",
    "\n",
    "# plot \n",
    "plt.bar(a, overall, width=barWidth)\n",
    "plt.bar(b, normal, width=barWidth)\n",
    "plt.bar(c, malnourished, width=barWidth)\n",
    "plt.xticks([r + barWidth for r in range(len(normal))], np.unique(data['location']))\n",
    "plt.legend(['Overall','BMI > 18.5','BMI < 18.5'])\n",
    "plt.title('Baseline Mean Birthweight')\n",
    "plt.ylabel('Birth Weight (grams)')\n",
    "plt.ylim(0,4200)"
   ]
  },
  {
   "cell_type": "code",
   "execution_count": 7,
   "metadata": {},
   "outputs": [
    {
     "data": {
      "text/html": [
       "<div>\n",
       "<style scoped>\n",
       "    .dataframe tbody tr th:only-of-type {\n",
       "        vertical-align: middle;\n",
       "    }\n",
       "\n",
       "    .dataframe tbody tr th {\n",
       "        vertical-align: top;\n",
       "    }\n",
       "\n",
       "    .dataframe thead th {\n",
       "        text-align: right;\n",
       "    }\n",
       "</style>\n",
       "<table border=\"1\" class=\"dataframe\">\n",
       "  <thead>\n",
       "    <tr style=\"text-align: right;\">\n",
       "      <th></th>\n",
       "      <th>input_draw</th>\n",
       "      <th>population</th>\n",
       "      <th>malnourishment_category</th>\n",
       "    </tr>\n",
       "  </thead>\n",
       "  <tbody>\n",
       "    <tr>\n",
       "      <th>0</th>\n",
       "      <td>29.0</td>\n",
       "      <td>12394.779293</td>\n",
       "      <td>malnourished</td>\n",
       "    </tr>\n",
       "    <tr>\n",
       "      <th>1</th>\n",
       "      <td>232.0</td>\n",
       "      <td>16557.848002</td>\n",
       "      <td>malnourished</td>\n",
       "    </tr>\n",
       "    <tr>\n",
       "      <th>2</th>\n",
       "      <td>357.0</td>\n",
       "      <td>15313.114461</td>\n",
       "      <td>malnourished</td>\n",
       "    </tr>\n",
       "    <tr>\n",
       "      <th>3</th>\n",
       "      <td>394.0</td>\n",
       "      <td>16604.251887</td>\n",
       "      <td>malnourished</td>\n",
       "    </tr>\n",
       "    <tr>\n",
       "      <th>4</th>\n",
       "      <td>602.0</td>\n",
       "      <td>15276.921861</td>\n",
       "      <td>malnourished</td>\n",
       "    </tr>\n",
       "  </tbody>\n",
       "</table>\n",
       "</div>"
      ],
      "text/plain": [
       "   input_draw    population malnourishment_category\n",
       "0        29.0  12394.779293            malnourished\n",
       "1       232.0  16557.848002            malnourished\n",
       "2       357.0  15313.114461            malnourished\n",
       "3       394.0  16604.251887            malnourished\n",
       "4       602.0  15276.921861            malnourished"
      ]
     },
     "execution_count": 7,
     "metadata": {},
     "output_type": "execute_result"
    }
   ],
   "source": [
    "bp = pd.read_hdf('/share/costeffectiveness/results/vivarium_gates_bep/malnutrition/india/2020_02_05_03_02_13/count_space/birth_prevalence.hdf').reset_index()\n",
    "bp = bp.groupby(['input_draw','malnourishment_category']).sum().reset_index()\n",
    "bp = pd.pivot_table(bp, index=['input_draw'], \n",
    "                     columns='malnourishment_category',\n",
    "                    values='birth_prevalence').reset_index()\n",
    "pop = pd.read_hdf('/share/costeffectiveness/results/vivarium_gates_bep/malnutrition/india/2020_02_05_03_02_13/count_space/population.hdf').reset_index()\n",
    "pop = pop.where(pop['pop_state'] == 'tracked').dropna()\n",
    "pop = pop.merge(bp, right_on='input_draw', left_on='input_draw').drop(columns='pop_state')\n",
    "pop['overall_pct'] = (pop['malnourished'] + pop['not_malnourished']) / pop['population']\n",
    "pop['malnourished_population'] = pop['malnourished'] / pop['overall_pct']\n",
    "pop['not_malnourished_population'] = pop['not_malnourished'] / pop['overall_pct']\n",
    "pop = pop.drop(columns=['malnourished','not_malnourished','overall_pct','population'])\n",
    "temp = pop[['input_draw','malnourished_population']].rename(columns={'malnourished_population':'population'})\n",
    "temp['malnourishment_category'] = 'malnourished'\n",
    "temp2 = pop[['input_draw','not_malnourished_population']].rename(columns={'not_malnourished_population':'population'})\n",
    "temp2['malnourishment_category'] = 'not_malnourished'\n",
    "population = temp.append(temp2)\n",
    "population.head()"
   ]
  },
  {
   "cell_type": "code",
   "execution_count": 124,
   "metadata": {},
   "outputs": [],
   "source": [
    "output_dirs = ['/share/costeffectiveness/results/vivarium_gates_bep/malnutrition/india/2020_02_05_03_02_13/count_space/',\n",
    "              '/share/costeffectiveness/results/vivarium_gates_bep/malnutrition/mali/2020_02_05_03_02_02/count_space/',\n",
    "              '/share/costeffectiveness/results/vivarium_gates_bep/malnutrition/tanzania/2020_02_05_03_07_37/count_space/']\n",
    "\n",
    "locations = ['India','Mali','Tanzania']"
   ]
  },
  {
   "cell_type": "code",
   "execution_count": 151,
   "metadata": {},
   "outputs": [
    {
     "data": {
      "text/html": [
       "<div>\n",
       "<style scoped>\n",
       "    .dataframe tbody tr th:only-of-type {\n",
       "        vertical-align: middle;\n",
       "    }\n",
       "\n",
       "    .dataframe tbody tr th {\n",
       "        vertical-align: top;\n",
       "    }\n",
       "\n",
       "    .dataframe thead th {\n",
       "        text-align: right;\n",
       "    }\n",
       "</style>\n",
       "<table border=\"1\" class=\"dataframe\">\n",
       "  <thead>\n",
       "    <tr style=\"text-align: right;\">\n",
       "      <th></th>\n",
       "      <th>malnourishment_category</th>\n",
       "      <th>percent</th>\n",
       "      <th>location</th>\n",
       "    </tr>\n",
       "  </thead>\n",
       "  <tbody>\n",
       "    <tr>\n",
       "      <th>0</th>\n",
       "      <td>all</td>\n",
       "      <td>0.055677</td>\n",
       "      <td>India</td>\n",
       "    </tr>\n",
       "    <tr>\n",
       "      <th>1</th>\n",
       "      <td>malnourished</td>\n",
       "      <td>0.142786</td>\n",
       "      <td>India</td>\n",
       "    </tr>\n",
       "    <tr>\n",
       "      <th>2</th>\n",
       "      <td>not_malnourished</td>\n",
       "      <td>0.038791</td>\n",
       "      <td>India</td>\n",
       "    </tr>\n",
       "    <tr>\n",
       "      <th>0</th>\n",
       "      <td>all</td>\n",
       "      <td>0.030601</td>\n",
       "      <td>Mali</td>\n",
       "    </tr>\n",
       "    <tr>\n",
       "      <th>1</th>\n",
       "      <td>malnourished</td>\n",
       "      <td>0.090116</td>\n",
       "      <td>Mali</td>\n",
       "    </tr>\n",
       "    <tr>\n",
       "      <th>2</th>\n",
       "      <td>not_malnourished</td>\n",
       "      <td>0.024041</td>\n",
       "      <td>Mali</td>\n",
       "    </tr>\n",
       "    <tr>\n",
       "      <th>0</th>\n",
       "      <td>all</td>\n",
       "      <td>0.014787</td>\n",
       "      <td>Tanzania</td>\n",
       "    </tr>\n",
       "    <tr>\n",
       "      <th>1</th>\n",
       "      <td>malnourished</td>\n",
       "      <td>0.041370</td>\n",
       "      <td>Tanzania</td>\n",
       "    </tr>\n",
       "    <tr>\n",
       "      <th>2</th>\n",
       "      <td>not_malnourished</td>\n",
       "      <td>0.012091</td>\n",
       "      <td>Tanzania</td>\n",
       "    </tr>\n",
       "  </tbody>\n",
       "</table>\n",
       "</div>"
      ],
      "text/plain": [
       "  malnourishment_category   percent  location\n",
       "0                     all  0.055677     India\n",
       "1            malnourished  0.142786     India\n",
       "2        not_malnourished  0.038791     India\n",
       "0                     all  0.030601      Mali\n",
       "1            malnourished  0.090116      Mali\n",
       "2        not_malnourished  0.024041      Mali\n",
       "0                     all  0.014787  Tanzania\n",
       "1            malnourished  0.041370  Tanzania\n",
       "2        not_malnourished  0.012091  Tanzania"
      ]
     },
     "execution_count": 151,
     "metadata": {},
     "output_type": "execute_result"
    }
   ],
   "source": [
    "master_stunting = pd.DataFrame()\n",
    "master_wasting = pd.DataFrame()\n",
    "\n",
    "for i in list(range(len(output_dirs))):\n",
    "    cgf = pd.read_hdf(output_dirs[i] + 'category_counts.hdf').reset_index()\n",
    "    cgf = (cgf.where(cgf['sex'] == 'male').dropna()\n",
    "           .groupby(['input_draw','cgf_risk','risk_category','malnourishment_category']).sum()\n",
    "           .reset_index())\n",
    "    pop = (cgf.where(cgf['cgf_risk'] == 'stunting').dropna()\n",
    "          .groupby(['input_draw','malnourishment_category'], as_index=False).sum()\n",
    "          .rename(columns={'category_counts':'population'}))\n",
    "    cgf = cgf.where(cgf['risk_category'] == ('cat1' or 'cat2'))\n",
    "    data = cgf.merge(pop, right_on=['input_draw','malnourishment_category'], \n",
    "                     left_on=['input_draw','malnourishment_category'])\n",
    "    stratified = data.groupby(['input_draw','malnourishment_category','cgf_risk']).sum().reset_index()\n",
    "    overall = data.groupby(['input_draw','cgf_risk']).sum().reset_index()\n",
    "    overall['malnourishment_category'] = 'all'\n",
    "    data = stratified.append(overall)  \n",
    "    \n",
    "    stunted = (data.where(data['cgf_risk'] == 'stunting').dropna())\n",
    "    stunted['percent'] = stunted['category_counts'] / stunted['population']\n",
    "    stunted = (stunted.groupby(['malnourishment_category']).mean()\n",
    "              .drop(columns=['input_draw','category_counts','population'])\n",
    "               .reset_index()) \n",
    "    stunted['location'] = locations[i]\n",
    "    master_stunting = master_stunting.append(stunted)   \n",
    "    \n",
    "    wasted = (data.where(data['cgf_risk'] == 'wasting').dropna())\n",
    "    wasted['percent'] = wasted['category_counts'] / wasted['population']\n",
    "    wasted = (wasted.groupby(['malnourishment_category']).mean()\n",
    "              .drop(columns=['input_draw','category_counts','population'])\n",
    "               .reset_index()) \n",
    "    wasted['location'] = locations[i]\n",
    "    master_wasting = master_wasting.append(wasted)\n",
    "    \n",
    "master_wasting"
   ]
  },
  {
   "cell_type": "code",
   "execution_count": 167,
   "metadata": {},
   "outputs": [
    {
     "data": {
      "text/html": [
       "<div>\n",
       "<style scoped>\n",
       "    .dataframe tbody tr th:only-of-type {\n",
       "        vertical-align: middle;\n",
       "    }\n",
       "\n",
       "    .dataframe tbody tr th {\n",
       "        vertical-align: top;\n",
       "    }\n",
       "\n",
       "    .dataframe thead tr th {\n",
       "        text-align: left;\n",
       "    }\n",
       "</style>\n",
       "<table border=\"1\" class=\"dataframe\">\n",
       "  <thead>\n",
       "    <tr>\n",
       "      <th></th>\n",
       "      <th>location</th>\n",
       "      <th colspan=\"3\" halign=\"left\">percent</th>\n",
       "    </tr>\n",
       "    <tr>\n",
       "      <th>malnourishment_category</th>\n",
       "      <th></th>\n",
       "      <th>all</th>\n",
       "      <th>malnourished</th>\n",
       "      <th>not_malnourished</th>\n",
       "    </tr>\n",
       "  </thead>\n",
       "  <tbody>\n",
       "    <tr>\n",
       "      <th>0</th>\n",
       "      <td>India</td>\n",
       "      <td>0.055677</td>\n",
       "      <td>0.142786</td>\n",
       "      <td>0.038791</td>\n",
       "    </tr>\n",
       "    <tr>\n",
       "      <th>1</th>\n",
       "      <td>Mali</td>\n",
       "      <td>0.030601</td>\n",
       "      <td>0.090116</td>\n",
       "      <td>0.024041</td>\n",
       "    </tr>\n",
       "    <tr>\n",
       "      <th>2</th>\n",
       "      <td>Tanzania</td>\n",
       "      <td>0.014787</td>\n",
       "      <td>0.041370</td>\n",
       "      <td>0.012091</td>\n",
       "    </tr>\n",
       "  </tbody>\n",
       "</table>\n",
       "</div>"
      ],
      "text/plain": [
       "                         location   percent                              \n",
       "malnourishment_category                 all malnourished not_malnourished\n",
       "0                           India  0.055677     0.142786         0.038791\n",
       "1                            Mali  0.030601     0.090116         0.024041\n",
       "2                        Tanzania  0.014787     0.041370         0.012091"
      ]
     },
     "execution_count": 167,
     "metadata": {},
     "output_type": "execute_result"
    }
   ],
   "source": [
    "wasting = pd.pivot_table(master_wasting, index=['location'], columns=['malnourishment_category'],\n",
    "                         values=['percent']).reset_index()\n",
    "#asting['ratio'] = wasting['malnourished'] / wasting['not_malnourished']\n",
    "wasting"
   ]
  },
  {
   "cell_type": "code",
   "execution_count": 172,
   "metadata": {
    "scrolled": true
   },
   "outputs": [
    {
     "data": {
      "image/png": "[encoded data removed]",
      "text/plain": [
       "<Figure size 432x288 with 1 Axes>"
      ]
     },
     "metadata": {
      "needs_background": "light"
     },
     "output_type": "display_data"
    }
   ],
   "source": [
    "data = master_wasting.sort_values(by='location')\n",
    "\n",
    "# bar width\n",
    "barWidth = 0.5\n",
    "\n",
    "# bar heights\n",
    "overall = data['percent'].where(data['malnourishment_category'] == 'all').dropna()\n",
    "\n",
    "#normal = data['percent'].where(data['malnourishment_category'] == 'not_malnourished').dropna()\n",
    "#malnourished = data['percent'].where(data['malnourishment_category'] == 'malnourished').dropna()\n",
    "\n",
    "# bar positions\n",
    "a = np.arange(len(overall))\n",
    "#b = [x + barWidth for x in a]\n",
    "#c = [x + barWidth for x in b]\n",
    "\n",
    "# plot \n",
    "plt.bar(a, overall, width=barWidth)\n",
    "#plt.bar(b, normal, width=barWidth)\n",
    "#plt.bar(c, malnourished, width=barWidth)\n",
    "plt.xticks([r for r in range(len(normal))], np.unique(data['location']))\n",
    "plt.legend(['Overall','BMI > 18.5','BMI < 18.5'])\n",
    "plt.title('Prevalence of Wasting')\n",
    "plt.ylabel('Proportion')\n",
    "#plt.ylim(0,0.25)\n",
    "plt.savefig('wasting')"
   ]
  },
  {
   "cell_type": "code",
   "execution_count": 178,
   "metadata": {},
   "outputs": [
    {
     "data": {
      "image/png": "[encoded data removed]",
      "text/plain": [
       "<Figure size 432x288 with 1 Axes>"
      ]
     },
     "metadata": {
      "needs_background": "light"
     },
     "output_type": "display_data"
    }
   ],
   "source": [
    "stunting = master_stunting.sort_values(by='location')\n",
    "wasting = master_wasting.sort_values(by='location')\n",
    "\n",
    "# bar width\n",
    "barWidth = 0.3\n",
    "\n",
    "# bar heights\n",
    "stunt = stunting['percent'].where(stunting['malnourishment_category'] == 'all').dropna()\n",
    "wast = wasting['percent'].where(wasting['malnourishment_category'] == 'all').dropna()\n",
    "\n",
    "# bar positions\n",
    "a = np.arange(len(stunt))\n",
    "b = [x + barWidth for x in a]\n",
    "\n",
    "# plot \n",
    "plt.bar(a, stunt, width=barWidth)\n",
    "plt.bar(b, wast, width=barWidth)\n",
    "plt.xticks([r + barWidth/2 for r in range(len(normal))], np.unique(data['location']))\n",
    "plt.legend(['Stunting','Wasting'])\n",
    "plt.title('Prevalence of Child Growth Failure')\n",
    "plt.ylabel('Proportion')\n",
    "#plt.ylim(0,0.25)\n",
    "plt.savefig('wasting')"
   ]
  },
  {
   "cell_type": "code",
   "execution_count": 174,
   "metadata": {},
   "outputs": [
    {
     "data": {
      "image/png": "[encoded data removed]",
      "text/plain": [
       "<Figure size 432x288 with 1 Axes>"
      ]
     },
     "metadata": {
      "needs_background": "light"
     },
     "output_type": "display_data"
    }
   ],
   "source": [
    "data = master_stunting.sort_values(by='location')\n",
    "\n",
    "# bar width\n",
    "barWidth = 0.5\n",
    "\n",
    "# bar heights\n",
    "overall = data['percent'].where(data['malnourishment_category'] == 'all').dropna()\n",
    "#normal = data['percent'].where(data['malnourishment_category'] == 'not_malnourished').dropna()\n",
    "#malnourished = data['percent'].where(data['malnourishment_category'] == 'malnourished').dropna()\n",
    "\n",
    "# bar positions\n",
    "a = np.arange(len(overall))\n",
    "#b = [x + barWidth for x in a]\n",
    "#c = [x + barWidth for x in b]\n",
    "\n",
    "# plot \n",
    "plt.bar(a, overall, width=barWidth)\n",
    "#plt.bar(b, normal, width=barWidth)\n",
    "#plt.bar(c, malnourished, width=barWidth)\n",
    "plt.xticks([r for r in range(len(normal))], np.unique(data['location']))\n",
    "plt.legend(['Overall','BMI > 18.5','BMI < 18.5'])\n",
    "plt.title('Prevalence of Stunting')\n",
    "plt.ylabel('Proportion')\n",
    "#plt.ylim(0,0.25)\n",
    "plt.savefig('stunting')"
   ]
  },
  {
   "cell_type": "code",
   "execution_count": 74,
   "metadata": {},
   "outputs": [
    {
     "name": "stderr",
     "output_type": "stream",
     "text": [
      "/ihme/homes/alibow/.conda/envs/vivarium_conic_lsff/lib/python3.6/site-packages/pandas/core/frame.py:6692: FutureWarning: Sorting because non-concatenation axis is not aligned. A future version\n",
      "of pandas will change to not sort by default.\n",
      "\n",
      "To accept the future behavior, pass 'sort=False'.\n",
      "\n",
      "To retain the current behavior and silence the warning, pass 'sort=True'.\n",
      "\n",
      "  sort=sort)\n"
     ]
    },
    {
     "data": {
      "text/html": [
       "<div>\n",
       "<style scoped>\n",
       "    .dataframe tbody tr th:only-of-type {\n",
       "        vertical-align: middle;\n",
       "    }\n",
       "\n",
       "    .dataframe tbody tr th {\n",
       "        vertical-align: top;\n",
       "    }\n",
       "\n",
       "    .dataframe thead th {\n",
       "        text-align: right;\n",
       "    }\n",
       "</style>\n",
       "<table border=\"1\" class=\"dataframe\">\n",
       "  <thead>\n",
       "    <tr style=\"text-align: right;\">\n",
       "      <th></th>\n",
       "      <th>location</th>\n",
       "      <th>measure</th>\n",
       "      <th>mother_status</th>\n",
       "      <th>scenario</th>\n",
       "      <th>total_population</th>\n",
       "      <th>value</th>\n",
       "      <th>weighted_average</th>\n",
       "      <th>weighted_value</th>\n",
       "      <th>baseline_value</th>\n",
       "      <th>averted</th>\n",
       "    </tr>\n",
       "  </thead>\n",
       "  <tbody>\n",
       "    <tr>\n",
       "      <th>0</th>\n",
       "      <td>India</td>\n",
       "      <td>mean</td>\n",
       "      <td>malnourished</td>\n",
       "      <td>baseline</td>\n",
       "      <td>16936.5</td>\n",
       "      <td>5367.611570</td>\n",
       "      <td>2683.653692</td>\n",
       "      <td>4.545170e+07</td>\n",
       "      <td>2683.653692</td>\n",
       "      <td>0.000000</td>\n",
       "    </tr>\n",
       "    <tr>\n",
       "      <th>1</th>\n",
       "      <td>India</td>\n",
       "      <td>mean</td>\n",
       "      <td>malnourished</td>\n",
       "      <td>bep_scale_up</td>\n",
       "      <td>16936.5</td>\n",
       "      <td>5469.579494</td>\n",
       "      <td>2763.102889</td>\n",
       "      <td>4.679729e+07</td>\n",
       "      <td>2683.653692</td>\n",
       "      <td>0.057366</td>\n",
       "    </tr>\n",
       "    <tr>\n",
       "      <th>2</th>\n",
       "      <td>India</td>\n",
       "      <td>mean</td>\n",
       "      <td>malnourished</td>\n",
       "      <td>bep_targeted_scale_up</td>\n",
       "      <td>16936.5</td>\n",
       "      <td>5469.579494</td>\n",
       "      <td>2763.102889</td>\n",
       "      <td>4.679729e+07</td>\n",
       "      <td>2683.653692</td>\n",
       "      <td>0.057366</td>\n",
       "    </tr>\n",
       "    <tr>\n",
       "      <th>3</th>\n",
       "      <td>India</td>\n",
       "      <td>mean</td>\n",
       "      <td>malnourished</td>\n",
       "      <td>mmn_scale_up</td>\n",
       "      <td>16936.5</td>\n",
       "      <td>5391.668278</td>\n",
       "      <td>2701.247369</td>\n",
       "      <td>4.574968e+07</td>\n",
       "      <td>2683.653692</td>\n",
       "      <td>0.012613</td>\n",
       "    </tr>\n",
       "    <tr>\n",
       "      <th>4</th>\n",
       "      <td>India</td>\n",
       "      <td>mean</td>\n",
       "      <td>normal</td>\n",
       "      <td>baseline</td>\n",
       "      <td>83063.5</td>\n",
       "      <td>6077.116804</td>\n",
       "      <td>3038.565137</td>\n",
       "      <td>2.523939e+08</td>\n",
       "      <td>3038.565137</td>\n",
       "      <td>0.000000</td>\n",
       "    </tr>\n",
       "  </tbody>\n",
       "</table>\n",
       "</div>"
      ],
      "text/plain": [
       "  location measure mother_status               scenario  total_population  \\\n",
       "0    India    mean  malnourished               baseline           16936.5   \n",
       "1    India    mean  malnourished           bep_scale_up           16936.5   \n",
       "2    India    mean  malnourished  bep_targeted_scale_up           16936.5   \n",
       "3    India    mean  malnourished           mmn_scale_up           16936.5   \n",
       "4    India    mean        normal               baseline           83063.5   \n",
       "\n",
       "         value  weighted_average  weighted_value  baseline_value   averted  \n",
       "0  5367.611570       2683.653692    4.545170e+07     2683.653692  0.000000  \n",
       "1  5469.579494       2763.102889    4.679729e+07     2683.653692  0.057366  \n",
       "2  5469.579494       2763.102889    4.679729e+07     2683.653692  0.057366  \n",
       "3  5391.668278       2701.247369    4.574968e+07     2683.653692  0.012613  \n",
       "4  6077.116804       3038.565137    2.523939e+08     3038.565137  0.000000  "
      ]
     },
     "execution_count": 74,
     "metadata": {},
     "output_type": "execute_result"
    }
   ],
   "source": [
    "stratified = master_bw.groupby(['location','measure','scenario','mother_status']).sum()\n",
    "stratified['weighted_average'] = stratified['weighted_value'] / stratified['total_population']\n",
    "stratified = stratified.reset_index()\n",
    "stratified = stratified.where(stratified['measure'] == 'mean').dropna()#.where(stratified['scenario'] == 'baseline').dropna()\n",
    "overall = master_bw.groupby(['location','measure','scenario']).sum()\n",
    "overall['weighted_average'] = overall['weighted_value'] / overall['total_population']\n",
    "overall = overall.reset_index()\n",
    "overall = overall.where(overall['measure'] == 'mean').dropna()#.where(overall['scenario'] == 'baseline').dropna()\n",
    "overall = overall.sort_values(by='location')\n",
    "overall['mother_status'] = 'overall'\n",
    "bw = stratified.append(overall)\n",
    "baseline_bw = (bw.where(bw['scenario'] == 'baseline').dropna()\n",
    "               .drop(columns=['scenario','weighted_value','total_population','value'])\n",
    "               .rename(columns={'weighted_average':'baseline_value'}))\n",
    "mean_bw_diff = bw.merge(baseline_bw, right_on=['location','measure','mother_status'],\n",
    "                  left_on=['location','measure','mother_status'])\n",
    "mean_bw_diff['averted'] = bw_diff['baseline_value'] - bw_diff['weighted_average']\n",
    "mean_bw_diff.head()"
   ]
  },
  {
   "cell_type": "code",
   "execution_count": 87,
   "metadata": {},
   "outputs": [
    {
     "data": {
      "text/html": [
       "<div>\n",
       "<style scoped>\n",
       "    .dataframe tbody tr th:only-of-type {\n",
       "        vertical-align: middle;\n",
       "    }\n",
       "\n",
       "    .dataframe tbody tr th {\n",
       "        vertical-align: top;\n",
       "    }\n",
       "\n",
       "    .dataframe thead th {\n",
       "        text-align: right;\n",
       "    }\n",
       "</style>\n",
       "<table border=\"1\" class=\"dataframe\">\n",
       "  <thead>\n",
       "    <tr style=\"text-align: right;\">\n",
       "      <th></th>\n",
       "      <th>location</th>\n",
       "      <th>measure</th>\n",
       "      <th>mother_status</th>\n",
       "      <th>scenario</th>\n",
       "      <th>total_population</th>\n",
       "      <th>value</th>\n",
       "      <th>weighted_average</th>\n",
       "      <th>weighted_value</th>\n",
       "      <th>baseline_value</th>\n",
       "      <th>averted</th>\n",
       "    </tr>\n",
       "  </thead>\n",
       "  <tbody>\n",
       "    <tr>\n",
       "      <th>0</th>\n",
       "      <td>India</td>\n",
       "      <td>mean</td>\n",
       "      <td>malnourished</td>\n",
       "      <td>baseline</td>\n",
       "      <td>16936.5</td>\n",
       "      <td>5367.611570</td>\n",
       "      <td>2683.653692</td>\n",
       "      <td>4.545170e+07</td>\n",
       "      <td>2683.653692</td>\n",
       "      <td>0.0</td>\n",
       "    </tr>\n",
       "    <tr>\n",
       "      <th>4</th>\n",
       "      <td>India</td>\n",
       "      <td>mean</td>\n",
       "      <td>normal</td>\n",
       "      <td>baseline</td>\n",
       "      <td>83063.5</td>\n",
       "      <td>6077.116804</td>\n",
       "      <td>3038.565137</td>\n",
       "      <td>2.523939e+08</td>\n",
       "      <td>3038.565137</td>\n",
       "      <td>0.0</td>\n",
       "    </tr>\n",
       "    <tr>\n",
       "      <th>32</th>\n",
       "      <td>India</td>\n",
       "      <td>mean</td>\n",
       "      <td>overall</td>\n",
       "      <td>baseline</td>\n",
       "      <td>100000.0</td>\n",
       "      <td>11444.728374</td>\n",
       "      <td>2978.455560</td>\n",
       "      <td>2.978456e+08</td>\n",
       "      <td>2978.455560</td>\n",
       "      <td>0.0</td>\n",
       "    </tr>\n",
       "  </tbody>\n",
       "</table>\n",
       "</div>"
      ],
      "text/plain": [
       "   location measure mother_status  scenario  total_population         value  \\\n",
       "0     India    mean  malnourished  baseline           16936.5   5367.611570   \n",
       "4     India    mean        normal  baseline           83063.5   6077.116804   \n",
       "32    India    mean       overall  baseline          100000.0  11444.728374   \n",
       "\n",
       "    weighted_average  weighted_value  baseline_value  averted  \n",
       "0        2683.653692    4.545170e+07     2683.653692      0.0  \n",
       "4        3038.565137    2.523939e+08     3038.565137      0.0  \n",
       "32       2978.455560    2.978456e+08     2978.455560      0.0  "
      ]
     },
     "execution_count": 87,
     "metadata": {},
     "output_type": "execute_result"
    }
   ],
   "source": [
    "\n",
    "data = mean_bw_diff.where(mean_bw_diff['location'] == 'India').dropna()\n",
    "data.where(data['scenario'] == 'baseline').dropna()"
   ]
  },
  {
   "cell_type": "code",
   "execution_count": 132,
   "metadata": {},
   "outputs": [
    {
     "data": {
      "text/plain": [
       "(2500, 3300)"
      ]
     },
     "execution_count": 132,
     "metadata": {},
     "output_type": "execute_result"
    },
    {
     "data": {
      "image/png": "[encoded data removed]",
      "text/plain": [
       "<Figure size 432x288 with 1 Axes>"
      ]
     },
     "metadata": {
      "needs_background": "light"
     },
     "output_type": "display_data"
    }
   ],
   "source": [
    "# plot baseline mean birth weight stratified by maternal malnourishment\n",
    "\n",
    "data = mean_bw_diff.where(mean_bw_diff['location'] == 'India').dropna()\n",
    "\n",
    "# bar width\n",
    "barWidth = 0.2\n",
    "\n",
    "# bar heights\n",
    "y1 = data['weighted_average'].where(data['mother_status'] == 'malnourished').dropna()\n",
    "y2 = data['weighted_average'].where(data['mother_status'] == 'normal').dropna()\n",
    "y3 = data['weighted_average'].where(data['mother_status'] == 'overall').dropna()\n",
    "\n",
    "\n",
    "# bar positions\n",
    "a = np.arange(len(y1))\n",
    "b = [x + barWidth for x in a]\n",
    "c = [x + barWidth for x in b]\n",
    "d = [x + barWidth for x in c]\n",
    "\n",
    "# plot \n",
    "plt.bar(a, y1, width=barWidth, color='r')\n",
    "plt.bar(b, y2, width=barWidth, color='b')\n",
    "plt.bar(c, y3, width=barWidth, color='c')\n",
    "#plt.bar(d, y4, width=barWidth)\n",
    "plt.xticks([r + 1.5*barWidth for r in range(len(y1))], ['Baseline', 'MMN', 'Universal BEP', 'Targeted BEP'])\n",
    "plt.legend(['Maternal BMI < 18.5','Maternal BMI >18.5','Overall'])\n",
    "plt.title('Mean Birthweight - India')\n",
    "plt.ylabel('Birth Weight (grams)')\n",
    "plt.ylim(2500,3300)"
   ]
  },
  {
   "cell_type": "code",
   "execution_count": 131,
   "metadata": {},
   "outputs": [
    {
     "data": {
      "text/plain": [
       "(0, 4200)"
      ]
     },
     "execution_count": 131,
     "metadata": {},
     "output_type": "execute_result"
    },
    {
     "data": {
      "image/png": "[encoded data removed]",
      "text/plain": [
       "<Figure size 432x288 with 1 Axes>"
      ]
     },
     "metadata": {
      "needs_background": "light"
     },
     "output_type": "display_data"
    }
   ],
   "source": [
    "# plot baseline mean birth weight stratified by maternal malnourishment\n",
    "\n",
    "data = mean_bw_diff.where(mean_bw_diff['scenario'] == 'baseline').dropna()\n",
    "\n",
    "# bar width\n",
    "barWidth = 0.25\n",
    "\n",
    "# bar heights\n",
    "y1 = data['weighted_average'].where(data['mother_status'] == 'malnourished').dropna()\n",
    "y2 = data['weighted_average'].where(data['mother_status'] == 'normal').dropna()\n",
    "y3 = data['weighted_average'].where(data['mother_status'] == 'overall').dropna()\n",
    "#y4 = data['weighted_average'].where(data['location'] == 'Tanzania').dropna()\n",
    "\n",
    "# bar positions\n",
    "a = np.arange(len(y1))\n",
    "b = [x + barWidth for x in a]\n",
    "c = [x + barWidth for x in b]\n",
    "#d = [x + barWidth for x in c]\n",
    "\n",
    "# plot \n",
    "plt.bar(a, y1, width=barWidth, color='r')\n",
    "plt.bar(b, y2, width=barWidth, color='b')\n",
    "plt.bar(c, y3, width=barWidth, color='c')\n",
    "#plt.bar(d, y4, width=barWidth)\n",
    "plt.xticks([r + barWidth for r in range(len(y1))], ['India', 'Mali', 'Pakistan', 'Tanzania'])\n",
    "plt.legend(['Maternal BMI < 18.5','Maternal BMI >18.5','Overall'])\n",
    "plt.title('Baseline Mean Birthweight')\n",
    "plt.ylabel('Birth Weight (grams)')\n",
    "plt.ylim(0,4200)"
   ]
  },
  {
   "cell_type": "code",
   "execution_count": 133,
   "metadata": {},
   "outputs": [
    {
     "data": {
      "text/plain": [
       "(2500, 3200)"
      ]
     },
     "execution_count": 133,
     "metadata": {},
     "output_type": "execute_result"
    },
    {
     "data": {
      "image/png": "[encoded data removed]",
      "text/plain": [
       "<Figure size 432x288 with 1 Axes>"
      ]
     },
     "metadata": {
      "needs_background": "light"
     },
     "output_type": "display_data"
    }
   ],
   "source": [
    "# plot baseline mean birth weight stratified by maternal malnourishment\n",
    "\n",
    "data = mean_bw_diff.where(mean_bw_diff['location'] == 'India').dropna()\n",
    "\n",
    "# bar width\n",
    "barWidth = 0.2\n",
    "\n",
    "# bar heights\n",
    "y1 = data['weighted_average'].where(data['scenario'] == 'baseline').dropna()\n",
    "y2 = data['weighted_average'].where(data['scenario'] == 'mmn_scale_up').dropna()\n",
    "y3 = data['weighted_average'].where(data['scenario'] == 'bep_scale_up').dropna()\n",
    "y4 = data['weighted_average'].where(data['scenario'] == 'bep_targeted_scale_up').dropna()\n",
    "\n",
    "# bar positions\n",
    "a = np.arange(len(y1))\n",
    "b = [x + barWidth for x in a]\n",
    "c = [x + barWidth for x in b]\n",
    "d = [x + barWidth for x in c]\n",
    "\n",
    "# plot \n",
    "plt.bar(a, y1, width=barWidth, color='tab:grey')\n",
    "plt.bar(b, y2, width=barWidth)\n",
    "plt.bar(c, y3, width=barWidth)\n",
    "plt.bar(d, y4, width=barWidth)\n",
    "plt.xticks([r + 1.5*barWidth for r in range(len(y1))], ['Maternal BMI <18.5', 'Maternal BMI > 18.5', 'All Mothers'])\n",
    "plt.legend(['Basline','MMN','Universal BEP','Targeted BEP'])\n",
    "plt.title('Mean Birthweight - India')\n",
    "plt.ylabel('Birth Weight (grams)')\n",
    "plt.ylim(2500,3200)"
   ]
  },
  {
   "cell_type": "code",
   "execution_count": 134,
   "metadata": {},
   "outputs": [
    {
     "data": {
      "text/plain": [
       "(2500, 3200)"
      ]
     },
     "execution_count": 134,
     "metadata": {},
     "output_type": "execute_result"
    },
    {
     "data": {
      "image/png": "[encoded data removed]",
      "text/plain": [
       "<Figure size 432x288 with 1 Axes>"
      ]
     },
     "metadata": {
      "needs_background": "light"
     },
     "output_type": "display_data"
    }
   ],
   "source": [
    "# plot baseline mean birth weight stratified by maternal malnourishment\n",
    "\n",
    "data = mean_bw_diff.where(mean_bw_diff['location'] == 'Mali').dropna()\n",
    "\n",
    "# bar width\n",
    "barWidth = 0.2\n",
    "\n",
    "# bar heights\n",
    "y1 = data['weighted_average'].where(data['scenario'] == 'baseline').dropna()\n",
    "y2 = data['weighted_average'].where(data['scenario'] == 'mmn_scale_up').dropna()\n",
    "y3 = data['weighted_average'].where(data['scenario'] == 'bep_scale_up').dropna()\n",
    "y4 = data['weighted_average'].where(data['scenario'] == 'bep_targeted_scale_up').dropna()\n",
    "\n",
    "# bar positions\n",
    "a = np.arange(len(y1))\n",
    "b = [x + barWidth for x in a]\n",
    "c = [x + barWidth for x in b]\n",
    "d = [x + barWidth for x in c]\n",
    "\n",
    "# plot \n",
    "plt.bar(a, y1, width=barWidth, color='tab:grey')\n",
    "plt.bar(b, y2, width=barWidth)\n",
    "plt.bar(c, y3, width=barWidth)\n",
    "plt.bar(d, y4, width=barWidth)\n",
    "plt.xticks([r + 1.5*barWidth for r in range(len(y1))], ['Maternal BMI <18.5', 'Maternal BMI > 18.5', 'All Mothers'])\n",
    "plt.legend(['Basline','MMN','Universal BEP','Targeted BEP'])\n",
    "plt.title('Mean Birthweight - Mali')\n",
    "plt.ylabel('Birth Weight (grams)')\n",
    "plt.ylim(2500,3200)"
   ]
  },
  {
   "cell_type": "code",
   "execution_count": 135,
   "metadata": {},
   "outputs": [
    {
     "data": {
      "text/plain": [
       "(2500, 3200)"
      ]
     },
     "execution_count": 135,
     "metadata": {},
     "output_type": "execute_result"
    },
    {
     "data": {
      "image/png": "[encoded data removed]",
      "text/plain": [
       "<Figure size 432x288 with 1 Axes>"
      ]
     },
     "metadata": {
      "needs_background": "light"
     },
     "output_type": "display_data"
    }
   ],
   "source": [
    "# plot baseline mean birth weight stratified by maternal malnourishment\n",
    "\n",
    "data = mean_bw_diff.where(mean_bw_diff['location'] == 'Pakistan').dropna()\n",
    "\n",
    "# bar width\n",
    "barWidth = 0.2\n",
    "\n",
    "# bar heights\n",
    "y1 = data['weighted_average'].where(data['scenario'] == 'baseline').dropna()\n",
    "y2 = data['weighted_average'].where(data['scenario'] == 'mmn_scale_up').dropna()\n",
    "y3 = data['weighted_average'].where(data['scenario'] == 'bep_scale_up').dropna()\n",
    "y4 = data['weighted_average'].where(data['scenario'] == 'bep_targeted_scale_up').dropna()\n",
    "\n",
    "# bar positions\n",
    "a = np.arange(len(y1))\n",
    "b = [x + barWidth for x in a]\n",
    "c = [x + barWidth for x in b]\n",
    "d = [x + barWidth for x in c]\n",
    "\n",
    "# plot \n",
    "plt.bar(a, y1, width=barWidth, color='tab:grey')\n",
    "plt.bar(b, y2, width=barWidth)\n",
    "plt.bar(c, y3, width=barWidth)\n",
    "plt.bar(d, y4, width=barWidth)\n",
    "plt.xticks([r + 1.5*barWidth for r in range(len(y1))], ['Maternal BMI <18.5', 'Maternal BMI > 18.5', 'All Mothers'])\n",
    "plt.legend(['Basline','MMN','Universal BEP','Targeted BEP'], loc='upper left')\n",
    "plt.title('Mean Birthweight - Pakistan')\n",
    "plt.ylabel('Birth Weight (grams)')\n",
    "plt.ylim(2500,3200)"
   ]
  },
  {
   "cell_type": "code",
   "execution_count": 136,
   "metadata": {},
   "outputs": [
    {
     "data": {
      "text/plain": [
       "(3000, 3500)"
      ]
     },
     "execution_count": 136,
     "metadata": {},
     "output_type": "execute_result"
    },
    {
     "data": {
      "image/png": "[encoded data removed]",
      "text/plain": [
       "<Figure size 432x288 with 1 Axes>"
      ]
     },
     "metadata": {
      "needs_background": "light"
     },
     "output_type": "display_data"
    }
   ],
   "source": [
    "# plot baseline mean birth weight stratified by maternal malnourishment\n",
    "\n",
    "data = mean_bw_diff.where(mean_bw_diff['location'] == 'Tanzania').dropna()\n",
    "\n",
    "# bar width\n",
    "barWidth = 0.2\n",
    "\n",
    "# bar heights\n",
    "y1 = data['weighted_average'].where(data['scenario'] == 'baseline').dropna()\n",
    "y2 = data['weighted_average'].where(data['scenario'] == 'mmn_scale_up').dropna()\n",
    "y3 = data['weighted_average'].where(data['scenario'] == 'bep_scale_up').dropna()\n",
    "y4 = data['weighted_average'].where(data['scenario'] == 'bep_targeted_scale_up').dropna()\n",
    "\n",
    "# bar positions\n",
    "a = np.arange(len(y1))\n",
    "b = [x + barWidth for x in a]\n",
    "c = [x + barWidth for x in b]\n",
    "d = [x + barWidth for x in c]\n",
    "\n",
    "# plot \n",
    "plt.bar(a, y1, width=barWidth, color='tab:grey')\n",
    "plt.bar(b, y2, width=barWidth)\n",
    "plt.bar(c, y3, width=barWidth)\n",
    "plt.bar(d, y4, width=barWidth)\n",
    "plt.xticks([r + 1.5*barWidth for r in range(len(y1))], ['Maternal BMI <18.5', 'Maternal BMI > 18.5', 'All Mothers'])\n",
    "plt.legend(['Basline','MMN','Universal BEP','Targeted BEP'])\n",
    "plt.title('Mean Birthweight - Tanzania')\n",
    "plt.ylabel('Birth Weight (grams)')\n",
    "plt.ylim(3000,3500)"
   ]
  },
  {
   "cell_type": "code",
   "execution_count": null,
   "metadata": {},
   "outputs": [],
   "source": []
  }
 ],
 "metadata": {
  "kernelspec": {
   "display_name": "Python 3",
   "language": "python",
   "name": "python3"
  },
  "language_info": {
   "codemirror_mode": {
    "name": "ipython",
    "version": 3
   },
   "file_extension": ".py",
   "mimetype": "text/x-python",
   "name": "python",
   "nbconvert_exporter": "python",
   "pygments_lexer": "ipython3",
   "version": "3.6.9"
  }
 },
 "nbformat": 4,
 "nbformat_minor": 2
}
